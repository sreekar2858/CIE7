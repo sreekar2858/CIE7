{
 "cells": [
  {
   "cell_type": "code",
   "execution_count": 1,
   "id": "358b132c",
   "metadata": {},
   "outputs": [],
   "source": [
    "import pandas as pd"
   ]
  },
  {
   "cell_type": "code",
   "execution_count": 3,
   "id": "439af852",
   "metadata": {},
   "outputs": [],
   "source": [
    "df = pd.read_csv('housepricedata.csv')"
   ]
  },
  {
   "cell_type": "code",
   "execution_count": 4,
   "id": "142c471a",
   "metadata": {},
   "outputs": [
    {
     "data": {
      "text/html": [
       "<div>\n",
       "<style scoped>\n",
       "    .dataframe tbody tr th:only-of-type {\n",
       "        vertical-align: middle;\n",
       "    }\n",
       "\n",
       "    .dataframe tbody tr th {\n",
       "        vertical-align: top;\n",
       "    }\n",
       "\n",
       "    .dataframe thead th {\n",
       "        text-align: right;\n",
       "    }\n",
       "</style>\n",
       "<table border=\"1\" class=\"dataframe\">\n",
       "  <thead>\n",
       "    <tr style=\"text-align: right;\">\n",
       "      <th></th>\n",
       "      <th>LotArea</th>\n",
       "      <th>OverallQual</th>\n",
       "      <th>OverallCond</th>\n",
       "      <th>TotalBsmtSF</th>\n",
       "      <th>FullBath</th>\n",
       "      <th>HalfBath</th>\n",
       "      <th>BedroomAbvGr</th>\n",
       "      <th>TotRmsAbvGrd</th>\n",
       "      <th>Fireplaces</th>\n",
       "      <th>GarageArea</th>\n",
       "      <th>AboveMedianPrice</th>\n",
       "    </tr>\n",
       "  </thead>\n",
       "  <tbody>\n",
       "    <tr>\n",
       "      <th>0</th>\n",
       "      <td>8450</td>\n",
       "      <td>7</td>\n",
       "      <td>5</td>\n",
       "      <td>856</td>\n",
       "      <td>2</td>\n",
       "      <td>1</td>\n",
       "      <td>3</td>\n",
       "      <td>8</td>\n",
       "      <td>0</td>\n",
       "      <td>548</td>\n",
       "      <td>1</td>\n",
       "    </tr>\n",
       "    <tr>\n",
       "      <th>1</th>\n",
       "      <td>9600</td>\n",
       "      <td>6</td>\n",
       "      <td>8</td>\n",
       "      <td>1262</td>\n",
       "      <td>2</td>\n",
       "      <td>0</td>\n",
       "      <td>3</td>\n",
       "      <td>6</td>\n",
       "      <td>1</td>\n",
       "      <td>460</td>\n",
       "      <td>1</td>\n",
       "    </tr>\n",
       "    <tr>\n",
       "      <th>2</th>\n",
       "      <td>11250</td>\n",
       "      <td>7</td>\n",
       "      <td>5</td>\n",
       "      <td>920</td>\n",
       "      <td>2</td>\n",
       "      <td>1</td>\n",
       "      <td>3</td>\n",
       "      <td>6</td>\n",
       "      <td>1</td>\n",
       "      <td>608</td>\n",
       "      <td>1</td>\n",
       "    </tr>\n",
       "    <tr>\n",
       "      <th>3</th>\n",
       "      <td>9550</td>\n",
       "      <td>7</td>\n",
       "      <td>5</td>\n",
       "      <td>756</td>\n",
       "      <td>1</td>\n",
       "      <td>0</td>\n",
       "      <td>3</td>\n",
       "      <td>7</td>\n",
       "      <td>1</td>\n",
       "      <td>642</td>\n",
       "      <td>0</td>\n",
       "    </tr>\n",
       "    <tr>\n",
       "      <th>4</th>\n",
       "      <td>14260</td>\n",
       "      <td>8</td>\n",
       "      <td>5</td>\n",
       "      <td>1145</td>\n",
       "      <td>2</td>\n",
       "      <td>1</td>\n",
       "      <td>4</td>\n",
       "      <td>9</td>\n",
       "      <td>1</td>\n",
       "      <td>836</td>\n",
       "      <td>1</td>\n",
       "    </tr>\n",
       "    <tr>\n",
       "      <th>...</th>\n",
       "      <td>...</td>\n",
       "      <td>...</td>\n",
       "      <td>...</td>\n",
       "      <td>...</td>\n",
       "      <td>...</td>\n",
       "      <td>...</td>\n",
       "      <td>...</td>\n",
       "      <td>...</td>\n",
       "      <td>...</td>\n",
       "      <td>...</td>\n",
       "      <td>...</td>\n",
       "    </tr>\n",
       "    <tr>\n",
       "      <th>1455</th>\n",
       "      <td>7917</td>\n",
       "      <td>6</td>\n",
       "      <td>5</td>\n",
       "      <td>953</td>\n",
       "      <td>2</td>\n",
       "      <td>1</td>\n",
       "      <td>3</td>\n",
       "      <td>7</td>\n",
       "      <td>1</td>\n",
       "      <td>460</td>\n",
       "      <td>1</td>\n",
       "    </tr>\n",
       "    <tr>\n",
       "      <th>1456</th>\n",
       "      <td>13175</td>\n",
       "      <td>6</td>\n",
       "      <td>6</td>\n",
       "      <td>1542</td>\n",
       "      <td>2</td>\n",
       "      <td>0</td>\n",
       "      <td>3</td>\n",
       "      <td>7</td>\n",
       "      <td>2</td>\n",
       "      <td>500</td>\n",
       "      <td>1</td>\n",
       "    </tr>\n",
       "    <tr>\n",
       "      <th>1457</th>\n",
       "      <td>9042</td>\n",
       "      <td>7</td>\n",
       "      <td>9</td>\n",
       "      <td>1152</td>\n",
       "      <td>2</td>\n",
       "      <td>0</td>\n",
       "      <td>4</td>\n",
       "      <td>9</td>\n",
       "      <td>2</td>\n",
       "      <td>252</td>\n",
       "      <td>1</td>\n",
       "    </tr>\n",
       "    <tr>\n",
       "      <th>1458</th>\n",
       "      <td>9717</td>\n",
       "      <td>5</td>\n",
       "      <td>6</td>\n",
       "      <td>1078</td>\n",
       "      <td>1</td>\n",
       "      <td>0</td>\n",
       "      <td>2</td>\n",
       "      <td>5</td>\n",
       "      <td>0</td>\n",
       "      <td>240</td>\n",
       "      <td>0</td>\n",
       "    </tr>\n",
       "    <tr>\n",
       "      <th>1459</th>\n",
       "      <td>9937</td>\n",
       "      <td>5</td>\n",
       "      <td>6</td>\n",
       "      <td>1256</td>\n",
       "      <td>1</td>\n",
       "      <td>1</td>\n",
       "      <td>3</td>\n",
       "      <td>6</td>\n",
       "      <td>0</td>\n",
       "      <td>276</td>\n",
       "      <td>0</td>\n",
       "    </tr>\n",
       "  </tbody>\n",
       "</table>\n",
       "<p>1460 rows × 11 columns</p>\n",
       "</div>"
      ],
      "text/plain": [
       "      LotArea  OverallQual  OverallCond  TotalBsmtSF  FullBath  HalfBath  \\\n",
       "0        8450            7            5          856         2         1   \n",
       "1        9600            6            8         1262         2         0   \n",
       "2       11250            7            5          920         2         1   \n",
       "3        9550            7            5          756         1         0   \n",
       "4       14260            8            5         1145         2         1   \n",
       "...       ...          ...          ...          ...       ...       ...   \n",
       "1455     7917            6            5          953         2         1   \n",
       "1456    13175            6            6         1542         2         0   \n",
       "1457     9042            7            9         1152         2         0   \n",
       "1458     9717            5            6         1078         1         0   \n",
       "1459     9937            5            6         1256         1         1   \n",
       "\n",
       "      BedroomAbvGr  TotRmsAbvGrd  Fireplaces  GarageArea  AboveMedianPrice  \n",
       "0                3             8           0         548                 1  \n",
       "1                3             6           1         460                 1  \n",
       "2                3             6           1         608                 1  \n",
       "3                3             7           1         642                 0  \n",
       "4                4             9           1         836                 1  \n",
       "...            ...           ...         ...         ...               ...  \n",
       "1455             3             7           1         460                 1  \n",
       "1456             3             7           2         500                 1  \n",
       "1457             4             9           2         252                 1  \n",
       "1458             2             5           0         240                 0  \n",
       "1459             3             6           0         276                 0  \n",
       "\n",
       "[1460 rows x 11 columns]"
      ]
     },
     "execution_count": 4,
     "metadata": {},
     "output_type": "execute_result"
    }
   ],
   "source": [
    "df"
   ]
  },
  {
   "cell_type": "code",
   "execution_count": 5,
   "id": "a39b040e",
   "metadata": {},
   "outputs": [],
   "source": [
    "# import dataProc\n",
    "# from dataProc import *\n",
    "# importing data for validation and testing\n",
    "dataset=df.values"
   ]
  },
  {
   "cell_type": "code",
   "execution_count": 6,
   "id": "5014b922",
   "metadata": {},
   "outputs": [
    {
     "data": {
      "text/plain": [
       "array([[ 8450,     7,     5, ...,     0,   548,     1],\n",
       "       [ 9600,     6,     8, ...,     1,   460,     1],\n",
       "       [11250,     7,     5, ...,     1,   608,     1],\n",
       "       ...,\n",
       "       [ 9042,     7,     9, ...,     2,   252,     1],\n",
       "       [ 9717,     5,     6, ...,     0,   240,     0],\n",
       "       [ 9937,     5,     6, ...,     0,   276,     0]], dtype=int64)"
      ]
     },
     "execution_count": 6,
     "metadata": {},
     "output_type": "execute_result"
    }
   ],
   "source": [
    "dataset\n"
   ]
  },
  {
   "cell_type": "code",
   "execution_count": 7,
   "id": "438950df",
   "metadata": {},
   "outputs": [],
   "source": [
    "x=dataset[:,0:10]"
   ]
  },
  {
   "cell_type": "code",
   "execution_count": 8,
   "id": "8142729a",
   "metadata": {},
   "outputs": [],
   "source": [
    "y=dataset[:,10]"
   ]
  },
  {
   "cell_type": "code",
   "execution_count": 11,
   "id": "657ae75c",
   "metadata": {},
   "outputs": [],
   "source": [
    "from sklearn import preprocessing"
   ]
  },
  {
   "cell_type": "code",
   "execution_count": 10,
   "id": "c7e4895c",
   "metadata": {},
   "outputs": [
    {
     "name": "stdout",
     "output_type": "stream",
     "text": [
      "Collecting sklearn\n",
      "  Downloading sklearn-0.0.tar.gz (1.1 kB)\n",
      "Collecting scikit-learn\n",
      "  Downloading scikit_learn-1.0.1-cp38-cp38-win_amd64.whl (7.2 MB)\n",
      "Collecting threadpoolctl>=2.0.0\n",
      "  Downloading threadpoolctl-3.0.0-py3-none-any.whl (14 kB)\n",
      "Collecting joblib>=0.11\n",
      "  Downloading joblib-1.1.0-py2.py3-none-any.whl (306 kB)\n",
      "Requirement already satisfied: numpy>=1.14.6 in c:\\users\\dell\\anaconda3\\envs\\tensorflow\\lib\\site-packages (from scikit-learn->sklearn) (1.21.2)\n",
      "Requirement already satisfied: scipy>=1.1.0 in c:\\users\\dell\\anaconda3\\envs\\tensorflow\\lib\\site-packages (from scikit-learn->sklearn) (1.7.1)\n",
      "Building wheels for collected packages: sklearn\n",
      "  Building wheel for sklearn (setup.py): started\n",
      "  Building wheel for sklearn (setup.py): finished with status 'done'\n",
      "  Created wheel for sklearn: filename=sklearn-0.0-py2.py3-none-any.whl size=1309 sha256=a79405b1270a810d94401f73518ac32804c9f82283681f219f47832ab0b261da\n",
      "  Stored in directory: c:\\users\\dell\\appdata\\local\\pip\\cache\\wheels\\22\\0b\\40\\fd3f795caaa1fb4c6cb738bc1f56100be1e57da95849bfc897\n",
      "Successfully built sklearn\n",
      "Installing collected packages: threadpoolctl, joblib, scikit-learn, sklearn\n",
      "Successfully installed joblib-1.1.0 scikit-learn-1.0.1 sklearn-0.0 threadpoolctl-3.0.0\n"
     ]
    }
   ],
   "source": [
    "!pip install sklearn"
   ]
  },
  {
   "cell_type": "code",
   "execution_count": 12,
   "id": "abc67495",
   "metadata": {},
   "outputs": [],
   "source": [
    "min_max_scaler=preprocessing.MinMaxScaler()\n",
    "x_scale=min_max_scaler.fit_transform(x) \n",
    "# scaling data"
   ]
  },
  {
   "cell_type": "code",
   "execution_count": 13,
   "id": "8bfc791e",
   "metadata": {},
   "outputs": [
    {
     "data": {
      "text/plain": [
       "array([[0.0334198 , 0.66666667, 0.5       , ..., 0.5       , 0.        ,\n",
       "        0.3864598 ],\n",
       "       [0.03879502, 0.55555556, 0.875     , ..., 0.33333333, 0.33333333,\n",
       "        0.32440056],\n",
       "       [0.04650728, 0.66666667, 0.5       , ..., 0.33333333, 0.33333333,\n",
       "        0.42877292],\n",
       "       ...,\n",
       "       [0.03618687, 0.66666667, 1.        , ..., 0.58333333, 0.66666667,\n",
       "        0.17771509],\n",
       "       [0.03934189, 0.44444444, 0.625     , ..., 0.25      , 0.        ,\n",
       "        0.16925247],\n",
       "       [0.04037019, 0.44444444, 0.625     , ..., 0.33333333, 0.        ,\n",
       "        0.19464034]])"
      ]
     },
     "execution_count": 13,
     "metadata": {},
     "output_type": "execute_result"
    }
   ],
   "source": [
    "x_scale"
   ]
  },
  {
   "cell_type": "code",
   "execution_count": 59,
   "id": "e1b3f69d",
   "metadata": {},
   "outputs": [],
   "source": [
    "from sklearn.model_selection import train_test_split\n",
    "from sklearn.model_selection import KFold\n",
    "from sklearn.model_selection import StratifiedKFold\n",
    "from sklearn.metrics import f1_score\n",
    "# split train and test\n",
    "# split data into kfolds\n",
    "# StratifiedKFold is a variation of KFold.It shuffles data, after that splits the data into n_splits parts.It will use each part as a test set.It only and always shuffles data one time before splitting.\n",
    "# The F1 score can be interpreted as a weighted average of the precision and recall(precision is fraction of relevant data among retrieved data.Recall is fraction of retrieved data among all relevant data)"
   ]
  },
  {
   "cell_type": "code",
   "execution_count": 15,
   "id": "fb6c8fa9",
   "metadata": {},
   "outputs": [],
   "source": [
    "x_train, x_val_and_test, y_train, y_val_and_test = train_test_split(x_scale, y, test_size=0.3)\n",
    "# validation and test size 30% of overall test"
   ]
  },
  {
   "cell_type": "code",
   "execution_count": 16,
   "id": "f071c68b",
   "metadata": {},
   "outputs": [],
   "source": [
    "x_val, x_test, y_val, y_test = train_test_split(x_val_and_test, y_val_and_test, test_size=0.5)\n",
    "# split validation and test\n"
   ]
  },
  {
   "cell_type": "code",
   "execution_count": 39,
   "id": "6096a5b0",
   "metadata": {},
   "outputs": [
    {
     "name": "stdout",
     "output_type": "stream",
     "text": [
      "(1022, 10) (219, 10) (219, 10) (1022,) (219,) (219,)\n"
     ]
    }
   ],
   "source": [
    "print(x_train.shape, x_val.shape, x_test.shape, y_train.shape, y_val.shape, y_test.shape)"
   ]
  },
  {
   "cell_type": "code",
   "execution_count": 74,
   "id": "e94cd444",
   "metadata": {},
   "outputs": [],
   "source": [
    "# input has 10 features, training has 1022 datapoints, validation and test has 219 datapoints only 1 feature to be predicted\n",
    "import tensorflow as tf\n",
    "from tensorflow import keras\n",
    "from tensorflow.keras.models import Sequential\n",
    "from tensorflow.keras.layers import Activation, Dense, Flatten, Dropout\n",
    "from tensorflow.keras.optimizers import Adam\n",
    "from tensorflow.keras.metrics import categorical_crossentropy\n",
    "# Adam  is sgd optimizer\n",
    "# categorical crossentropy Computes the crossentropy metric between the labels and predictions."
   ]
  },
  {
   "cell_type": "code",
   "execution_count": 71,
   "id": "cd248ba0",
   "metadata": {},
   "outputs": [],
   "source": [
    "# targetLabels = tf.to_categorical(dataProc.gyrData[''])  (target-final output to be predicted, label-true outcome of target, categorical-binary)\n",
    "#     xData = dataProc.gyrData.shape[1]\n",
    "#     gyr_input_data = dataProc.gyrData.values\n",
    "#     model = Sequential() \n",
    "#     model.add(Dense(units=128, input_shape = (xData,)))\n",
    "#     model.add(Activation('relu'))\n",
    "#     model.add(Dense(units=1, input_shape = (xData,)))\n",
    "#     model.add(Activation('softmax'))\n",
    "    \n",
    "#     model.compile(loss='binary_crossentropy', optimizer='adam', metrics=['accuracy'])\n",
    "    \n",
    "#     model.fit(gyr_input_data, y_train, batch_size=32, epochs=10)\n",
    "#     score = model.evaluate(gyr_input_data, y_test, batch_size=32)\n",
    "# predicts the output for the given input and then computes the metrics function specified in the model.compile and based on y_true and y_pred and returns the computed metric value as the output\n",
    "\n",
    "#     model.predict(gyr_input_data)\n",
    "\n",
    "#     print(\\\"\\\\nLoss: \\\", score[0])\n",
    "#     print(\\\"Accuracy: \\\", score[1])\n",
    "model = Sequential([\n",
    "    Dense(32, activation='relu', input_shape=(10,)),\n",
    "    Dense(32, activation='relu'),\n",
    "    Dense(1, activation='sigmoid'),\n",
    "])\n",
    "# model will be described sequentially(layer by layer). 1st hidden layer has 32 neurons and inputshape 10(10 input features).Sigmoid activation has to be changed to softmax"
   ]
  },
  {
   "cell_type": "code",
   "execution_count": 72,
   "id": "51012c8c",
   "metadata": {},
   "outputs": [],
   "source": [
    "model.compile(optimizer='sgd',\n",
    "              loss='binary_crossentropy',\n",
    "              metrics=['accuracy']) \n",
    "# model.compile(optimizer=Adam(learning_rate=0.0001), loss='sparse_categorical_crossentropy', metrics=['accuracy'])\n",
    "# Adam optimizer\n",
    "# apart from loss, accuracy also to be calculated"
   ]
  },
  {
   "cell_type": "code",
   "execution_count": 73,
   "id": "c8393fc9",
   "metadata": {},
   "outputs": [
    {
     "name": "stdout",
     "output_type": "stream",
     "text": [
      "Epoch 1/30\n",
      "103/103 [==============================] - 3s 26ms/step - loss: 0.6554 - accuracy: 0.5284 - val_loss: 0.6497 - val_accuracy: 0.5251\n",
      "Epoch 2/30\n",
      "103/103 [==============================] - 0s 2ms/step - loss: 0.6308 - accuracy: 0.6438 - val_loss: 0.6282 - val_accuracy: 0.6530\n",
      "Epoch 3/30\n",
      "103/103 [==============================] - 0s 2ms/step - loss: 0.6071 - accuracy: 0.7397 - val_loss: 0.6062 - val_accuracy: 0.7626\n",
      "Epoch 4/30\n",
      "103/103 [==============================] - 0s 2ms/step - loss: 0.5801 - accuracy: 0.7984 - val_loss: 0.5823 - val_accuracy: 0.8356\n",
      "Epoch 5/30\n",
      "103/103 [==============================] - 0s 2ms/step - loss: 0.5500 - accuracy: 0.8523 - val_loss: 0.5546 - val_accuracy: 0.7945\n",
      "Epoch 6/30\n",
      "103/103 [==============================] - 0s 3ms/step - loss: 0.5176 - accuracy: 0.8523 - val_loss: 0.5265 - val_accuracy: 0.8265\n",
      "Epoch 7/30\n",
      "103/103 [==============================] - 0s 2ms/step - loss: 0.4849 - accuracy: 0.8718 - val_loss: 0.4994 - val_accuracy: 0.8402\n",
      "Epoch 8/30\n",
      "103/103 [==============================] - 0s 3ms/step - loss: 0.4535 - accuracy: 0.8708 - val_loss: 0.4759 - val_accuracy: 0.8493\n",
      "Epoch 9/30\n",
      "103/103 [==============================] - 0s 2ms/step - loss: 0.4255 - accuracy: 0.8826 - val_loss: 0.4529 - val_accuracy: 0.8539\n",
      "Epoch 10/30\n",
      "103/103 [==============================] - 0s 3ms/step - loss: 0.3996 - accuracy: 0.8826 - val_loss: 0.4333 - val_accuracy: 0.8447\n",
      "Epoch 11/30\n",
      "103/103 [==============================] - 0s 3ms/step - loss: 0.3778 - accuracy: 0.8806 - val_loss: 0.4174 - val_accuracy: 0.8493\n",
      "Epoch 12/30\n",
      "103/103 [==============================] - 0s 3ms/step - loss: 0.3585 - accuracy: 0.8904 - val_loss: 0.4051 - val_accuracy: 0.8447\n",
      "Epoch 13/30\n",
      "103/103 [==============================] - 0s 3ms/step - loss: 0.3429 - accuracy: 0.8836 - val_loss: 0.3960 - val_accuracy: 0.8539\n",
      "Epoch 14/30\n",
      "103/103 [==============================] - 0s 2ms/step - loss: 0.3290 - accuracy: 0.8816 - val_loss: 0.3876 - val_accuracy: 0.8539\n",
      "Epoch 15/30\n",
      "103/103 [==============================] - 0s 3ms/step - loss: 0.3182 - accuracy: 0.8836 - val_loss: 0.3832 - val_accuracy: 0.8447\n",
      "Epoch 16/30\n",
      "103/103 [==============================] - 0s 3ms/step - loss: 0.3097 - accuracy: 0.8816 - val_loss: 0.3757 - val_accuracy: 0.8539\n",
      "Epoch 17/30\n",
      "103/103 [==============================] - 0s 3ms/step - loss: 0.3018 - accuracy: 0.8865 - val_loss: 0.3720 - val_accuracy: 0.8493\n",
      "Epoch 18/30\n",
      "103/103 [==============================] - 0s 3ms/step - loss: 0.2941 - accuracy: 0.8855 - val_loss: 0.3867 - val_accuracy: 0.8584\n",
      "Epoch 19/30\n",
      "103/103 [==============================] - 0s 2ms/step - loss: 0.2911 - accuracy: 0.8914 - val_loss: 0.3687 - val_accuracy: 0.8584\n",
      "Epoch 20/30\n",
      "103/103 [==============================] - 0s 2ms/step - loss: 0.2842 - accuracy: 0.8943 - val_loss: 0.3662 - val_accuracy: 0.8539\n",
      "Epoch 21/30\n",
      "103/103 [==============================] - 0s 3ms/step - loss: 0.2806 - accuracy: 0.8914 - val_loss: 0.3688 - val_accuracy: 0.8584\n",
      "Epoch 22/30\n",
      "103/103 [==============================] - 0s 3ms/step - loss: 0.2758 - accuracy: 0.8894 - val_loss: 0.3666 - val_accuracy: 0.8630\n",
      "Epoch 23/30\n",
      "103/103 [==============================] - 0s 3ms/step - loss: 0.2738 - accuracy: 0.8933 - val_loss: 0.3656 - val_accuracy: 0.8539\n",
      "Epoch 24/30\n",
      "103/103 [==============================] - 0s 3ms/step - loss: 0.2676 - accuracy: 0.8904 - val_loss: 0.3637 - val_accuracy: 0.8539\n",
      "Epoch 25/30\n",
      "103/103 [==============================] - 0s 3ms/step - loss: 0.2682 - accuracy: 0.8943 - val_loss: 0.3605 - val_accuracy: 0.8493\n",
      "Epoch 26/30\n",
      "103/103 [==============================] - 0s 3ms/step - loss: 0.2637 - accuracy: 0.8943 - val_loss: 0.3664 - val_accuracy: 0.8493\n",
      "Epoch 27/30\n",
      "103/103 [==============================] - 0s 3ms/step - loss: 0.2626 - accuracy: 0.8963 - val_loss: 0.3604 - val_accuracy: 0.8584\n",
      "Epoch 28/30\n",
      "103/103 [==============================] - 0s 2ms/step - loss: 0.2581 - accuracy: 0.8973 - val_loss: 0.3611 - val_accuracy: 0.8493\n",
      "Epoch 29/30\n",
      "103/103 [==============================] - 0s 3ms/step - loss: 0.2571 - accuracy: 0.8963 - val_loss: 0.3608 - val_accuracy: 0.8493\n",
      "Epoch 30/30\n",
      "103/103 [==============================] - 0s 2ms/step - loss: 0.2555 - accuracy: 0.8953 - val_loss: 0.3825 - val_accuracy: 0.8630\n"
     ]
    }
   ],
   "source": [
    "# def dnn_kfold(i,maa,ld):\n",
    "#     F=[2,5,10]\n",
    "#     skf = StratifiedKFold(n_splits=F[i], shuffle=True, random_state=1)\n",
    "#     skf.get_n_splits(maa,ld)\n",
    "#     print(skf)\n",
    "#     hist=[]\n",
    "#     lossscores=[] #stores the validation loss value an the end of Epoch\\n\",\n",
    "#     cvscores = [] #stores the validation Acc value an the end of Epoch\\n\",\n",
    "#     f1scores = [] \\n\",\n",
    "#     confusionscores=[] #stores the confusion matrix \\n\",\n",
    "#     iteration = 1\n",
    "\n",
    "#     for train,test in skf.split(maa,ld):\n",
    "#     print(\\\"TRAIN:\\\", train, \\\"TEST:\\\", test)\n",
    "#     X_train, X_test = maa[train], maa[test]\n",
    "#     Y_train, Y_test = ld[train], ld[test]\n",
    "\n",
    "#     model=dnn_model(X_train)\n",
    "#     print(f'Training for fold {iteration} ...')\n",
    "#     # train the neural network for 10 training epochs\\n\",\n",
    "#     history=model.fit(X_train, Y_train,validation_data=(X_test, Y_test), epochs=training_epochs, batch_size=batch_size, verbose=1)\\n\",\n",
    "#     hist.append(history)\\n\",\n",
    "#    scores = model.evaluate(X_test, Y_test, verbose=0)   \\n\",\n",
    "# cvscores.append(scores[1] * 100)    #validation_Accuracy imported\\n\",\n",
    "#     lossscores.append(scores[0])        #validation_loss imported\n",
    "#     #calculate F1 score\n",
    "#     Y_pred = np.round(model.predict(X_test,batch_size=50, verbose=2)[:,1]).astype(int)\n",
    "#      #returns an array of labels of X_test data\n",
    "#     conf=tf.math.confusion_matrix(Y_test,Y_pred)\n",
    "#     f1 = f1_score(Y_test,Y_pred, average='macro')\n",
    "#     confusionscores.append(conf)\n",
    "#             f1scores.append(f1)\n",
    "            \n",
    "#             iteration = iteration + 1\n",
    "            \n",
    "#         print(\\\"Val Accuracy: %.2f%% (+/- %.2f%%)\\\" % (np.mean(cvscores), np.std(cvscores)))\n",
    "#         print(\\\"F1: %.2f%% (+/- %.2f%%)\\\" % (np.mean(f1scores), np.std(f1scores)))\n",
    "#         return hist,cvscores,lossscores,f1scores,confusionscores\n",
    "# def data_return(maa,ld):\n",
    "#         split_no=[2,5,10]\n",
    "#         fin_hist=[]\n",
    "#         fin_cvs=[]\n",
    "#         fin_losss=[]\n",
    "#         fin_f1s=[]\n",
    "#         fin_cs=[]\n",
    "#         for i in range(np.shape(split_no)[0]):\n",
    "        \n",
    "#             a,b,c,d,e=dnn_kfold(i,maa,ld)\n",
    "#             fin_hist.append(a)\n",
    "#             fin_cvs.append(b)\n",
    "#             fin_losss.append(c)\n",
    "#             fin_f1s.append(d)\n",
    "#             fin_cs.append(e)\n",
    "            \n",
    "#         return fin_hist,fin_cvs,fin_losss,fin_f1s,fin_cs\n",
    "hist = model.fit(x_train, y_train,\n",
    "          batch_size=10, epochs=30,\n",
    "          validation_data=(x_val, y_val))\n",
    "# training the model\n",
    "# fitting parameters to the data\n",
    "# epochs-how long the model has to be trained\n",
    "# specify validation data\n"
   ]
  },
  {
   "cell_type": "code",
   "execution_count": 44,
   "id": "1e3ad18e",
   "metadata": {},
   "outputs": [
    {
     "name": "stdout",
     "output_type": "stream",
     "text": [
      "7/7 [==============================] - 0s 2ms/step - loss: 0.2821 - accuracy: 0.8767\n"
     ]
    },
    {
     "data": {
      "text/plain": [
       "0.8767123222351074"
      ]
     },
     "execution_count": 44,
     "metadata": {},
     "output_type": "execute_result"
    }
   ],
   "source": [
    "model.evaluate(x_test, y_test)[1]"
   ]
  },
  {
   "cell_type": "code",
   "execution_count": 47,
   "id": "fd577807",
   "metadata": {},
   "outputs": [],
   "source": [
    "import matplotlib.pyplot as plt"
   ]
  },
  {
   "cell_type": "code",
   "execution_count": 45,
   "id": "2e098c19",
   "metadata": {},
   "outputs": [
    {
     "data": {
      "image/png": "[encoded data removed]",
      "text/plain": [
       "<Figure size 432x288 with 1 Axes>"
      ]
     },
     "metadata": {
      "needs_background": "light"
     },
     "output_type": "display_data"
    }
   ],
   "source": [
    "plt.plot(hist.history['loss'])\n",
    "plt.plot(hist.history['val_loss'])\n",
    "plt.title('Model loss')\n",
    "plt.ylabel('Loss')\n",
    "plt.xlabel('Epoch')\n",
    "plt.legend(['Train', 'Val'], loc='upper right')\n",
    "plt.show()\n",
    "# visualising training loss and validation loss"
   ]
  },
  {
   "cell_type": "code",
   "execution_count": 50,
   "id": "c1577a5c",
   "metadata": {},
   "outputs": [
    {
     "data": {
      "image/png": "[encoded data removed]",
      "text/plain": [
       "<Figure size 432x288 with 1 Axes>"
      ]
     },
     "metadata": {
      "needs_background": "light"
     },
     "output_type": "display_data"
    }
   ],
   "source": [
    "plt.plot(hist.history['accuracy'])\n",
    "plt.plot(hist.history['val_accuracy'])\n",
    "plt.title('Model accuracy')\n",
    "plt.ylabel('Accuracy')\n",
    "plt.xlabel('Epoch')\n",
    "plt.legend(['Train', 'Val'], loc='lower right')\n",
    "plt.show()\n",
    "# visualising training and validation accuracy"
   ]
  },
  {
   "cell_type": "code",
   "execution_count": null,
   "id": "c2753965",
   "metadata": {},
   "outputs": [],
   "source": []
  }
 ],
 "metadata": {
  "kernelspec": {
   "display_name": "Python 3 (ipykernel)",
   "language": "python",
   "name": "python3"
  },
  "language_info": {
   "codemirror_mode": {
    "name": "ipython",
    "version": 3
   },
   "file_extension": ".py",
   "mimetype": "text/x-python",
   "name": "python",
   "nbconvert_exporter": "python",
   "pygments_lexer": "ipython3",
   "version": "3.8.12"
  }
 },
 "nbformat": 4,
 "nbformat_minor": 5
}
