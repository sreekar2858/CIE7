{
 "cells": [
  {
   "cell_type": "markdown",
   "metadata": {},
   "source": [
    "# CIE Project A - Group 7\n",
    "## ---> Data processing"
   ]
  },
  {
   "cell_type": "markdown",
   "metadata": {},
   "source": [
    "### Imports"
   ]
  },
  {
   "cell_type": "code",
   "execution_count": 2,
   "metadata": {},
   "outputs": [
    {
     "ename": "ModuleNotFoundError",
     "evalue": "No module named 'keras'",
     "output_type": "error",
     "traceback": [
      "\u001b[1;31m---------------------------------------------------------------------------\u001b[0m",
      "\u001b[1;31mModuleNotFoundError\u001b[0m                       Traceback (most recent call last)",
      "\u001b[1;32m~\\AppData\\Local\\Temp/ipykernel_18460/2019367492.py\u001b[0m in \u001b[0;36m<module>\u001b[1;34m\u001b[0m\n\u001b[0;32m     19\u001b[0m \u001b[1;32mimport\u001b[0m \u001b[0mtensorflow\u001b[0m \u001b[1;32mas\u001b[0m \u001b[0mtf\u001b[0m\u001b[1;33m\u001b[0m\u001b[1;33m\u001b[0m\u001b[0m\n\u001b[0;32m     20\u001b[0m \u001b[1;32mfrom\u001b[0m \u001b[0mtensorflow\u001b[0m \u001b[1;32mimport\u001b[0m \u001b[0mkeras\u001b[0m\u001b[1;33m\u001b[0m\u001b[1;33m\u001b[0m\u001b[0m\n\u001b[1;32m---> 21\u001b[1;33m \u001b[1;32mfrom\u001b[0m \u001b[0mkeras\u001b[0m\u001b[1;33m.\u001b[0m\u001b[0mmodels\u001b[0m \u001b[1;32mimport\u001b[0m \u001b[0mSequential\u001b[0m\u001b[1;33m\u001b[0m\u001b[1;33m\u001b[0m\u001b[0m\n\u001b[0m\u001b[0;32m     22\u001b[0m \u001b[1;32mfrom\u001b[0m \u001b[0mkeras\u001b[0m\u001b[1;33m.\u001b[0m\u001b[0mlayers\u001b[0m \u001b[1;32mimport\u001b[0m \u001b[0mDense\u001b[0m\u001b[1;33m\u001b[0m\u001b[1;33m\u001b[0m\u001b[0m\n\u001b[0;32m     23\u001b[0m \u001b[1;32mimport\u001b[0m \u001b[0mnumpy\u001b[0m \u001b[1;32mas\u001b[0m \u001b[0mnp\u001b[0m\u001b[1;33m\u001b[0m\u001b[1;33m\u001b[0m\u001b[0m\n",
      "\u001b[1;31mModuleNotFoundError\u001b[0m: No module named 'keras'"
     ]
    }
   ],
   "source": [
    "import os\n",
    "\n",
    "import pandas as pd\n",
    "import numpy as np\n",
    "import matplotlib.pyplot as plt\n",
    "from scipy import signal as sp\n",
    "from sklearn import preprocessing ##importing for normalization\n",
    "from sklearn.preprocessing import RobustScaler\n",
    "\n",
    "from sklearn.decomposition import PCA\n",
    "from sklearn.discriminant_analysis import LinearDiscriminantAnalysis as LDA\n",
    "from sklearn.preprocessing import StandardScaler\n",
    "from sklearn.pipeline import Pipeline\n",
    "from sklearn.preprocessing import LabelEncoder\n",
    "from sklearn.decomposition import FactorAnalysis\n",
    "from sklearn.preprocessing import StandardScaler\n",
    "from sklearn.preprocessing import MinMaxScaler\n",
    "\n",
    "import tensorflow as tf\n",
    "from tensorflow import keras\n",
    "from keras.models import Sequential\n",
    "from keras.layers import Dense\n",
    "import numpy as np\n",
    "from sklearn.metrics import confusion_matrix\n",
    "from sklearn.model_selection import StratifiedKFold\n",
    "\n",
    "plt.rcParams['figure.dpi'] = 100\n",
    "plt.rcParams['axes.grid'] = True\n",
    "plt.rcParams['legend.frameon'] = True\n",
    "%matplotlib widget\n",
    "\n",
    "# import tensorflow as tf\n",
    "# from sklearn.model_selection import train_test_split\n",
    "# from sklearn.metrics import confusion_matrix"
   ]
  },
  {
   "cell_type": "markdown",
   "metadata": {},
   "source": [
    "#### Get the root directory and change to it"
   ]
  },
  {
   "cell_type": "code",
   "execution_count": 40,
   "metadata": {},
   "outputs": [],
   "source": [
    "rootdir = os.getcwd()\n",
    "os.chdir(rootdir)"
   ]
  },
  {
   "cell_type": "markdown",
   "metadata": {},
   "source": [
    "### Variable Assignment"
   ]
  },
  {
   "cell_type": "code",
   "execution_count": 41,
   "metadata": {},
   "outputs": [],
   "source": [
    "gyrFile = 'Gyroscope'\n",
    "accFile = 'Accelerometer'\n",
    "\n",
    "normal = 'Normal'\n",
    "upstairs = 'Upstairs'\n",
    "downstairs = 'Downstairs'\n",
    "\n",
    "smartphone = [3]\n",
    "\n",
    "s1 = 'Smartphone1'\n",
    "s3 = 'Smartphone3'\n",
    "\n",
    "s = [s3]\n",
    "\n",
    "gaitpos = [normal, upstairs, downstairs]"
   ]
  },
  {
   "cell_type": "markdown",
   "metadata": {},
   "source": [
    "### Data Parsing"
   ]
  },
  {
   "cell_type": "markdown",
   "metadata": {},
   "source": [
    "#### Define variables for raw data"
   ]
  },
  {
   "cell_type": "code",
   "execution_count": 42,
   "metadata": {},
   "outputs": [],
   "source": [
    "count = 0\n",
    "\n",
    "# Naming convention - gyr(oscope)_s(martphone_location)) and Same for acceleraoemeter\n",
    "# All the data is stored in a list of dataframes. So, gyr{gaitpos}_s{martphone_location}[0, 1, 2, .....] gives the data as sorted by name in the file directory.\n",
    "# gyrNormal_s1[0] gives the gyroscope data of the subject180_Normal sample 01 in the normal gait position.\n",
    "# gyrNormal_s1[1] gives the gyroscope data of the subject180_Normal sample 02 in the normal gait position.\n",
    "# \n",
    "# gyrNormal_s[2] gives the gyroscope data of the subject181_Normal sample 01 in the normal gait position.\n",
    "# \n",
    "# and so on. \n",
    "\n",
    "# defining arrays for gyroscope data\n",
    "gyrNormal_s1 = []; gyrUpstairs_s1 = []; gyrDownstairs_s1 = []\n",
    "gyrNormal_s3 = []; gyrUpstairs_s3 = []; gyrDownstairs_s3 = []\n",
    "\n",
    "#defining arrays for accelerometer data\n",
    "accNormal_s1 = []; accUpstairs_s1 = []; accDownstairs_s1 = []\n",
    "accNormal_s3 = []; accUpstairs_s3 = []; accDownstairs_s3 = []"
   ]
  },
  {
   "cell_type": "markdown",
   "metadata": {},
   "source": [
    "#### Parsing gyroscope and accelerometer data at all gait positions (Smartphone 1 - Rear Right) & (Smartphone 3 - Front Right)"
   ]
  },
  {
   "cell_type": "code",
   "execution_count": 43,
   "metadata": {},
   "outputs": [],
   "source": [
    "for subdir, dirs, files in os.walk(rootdir):\n",
    "    for foldername in s:\n",
    "        for gait in gaitpos:    \n",
    "        \n",
    "            gyr = eval(f'gyr{gait}_s{foldername[10]}')\n",
    "            acc = eval(f'acc{gait}_s{foldername[10]}')\n",
    "            \n",
    "            if foldername.lower() in subdir.lower():\n",
    "                if gait.lower() in subdir.lower():\n",
    "    \n",
    "                    for file in files:\n",
    "\n",
    "                        if gyrFile.lower() in file.lower():\n",
    "                            count = count + 1\n",
    "                            # print(f'#{count} -- {os.path.join(subdir, file)}')\n",
    "\n",
    "                            with open(os.path.join(subdir, file), 'r') as f: # open in read-only mode\n",
    "                                gyrData = pd.read_csv(f)\n",
    "                                # Assemble the data into a tensor\n",
    "                                gyr.append(gyrData)\n",
    "\n",
    "                        if accFile in file:\n",
    "                            count = count + 1\n",
    "                            # print(f'#{count} -- {os.path.join(subdir, file)}')\n",
    "\n",
    "                            with open(os.path.join(subdir, file), 'r') as f: # open in read-only mode\n",
    "                                accData = pd.read_csv(f)\n",
    "                                # Assemble the data into a tensor\n",
    "                                acc.append(accData)"
   ]
  },
  {
   "cell_type": "markdown",
   "metadata": {},
   "source": [
    "#### Check if the data is collected correctly after parsing"
   ]
  },
  {
   "cell_type": "code",
   "execution_count": 44,
   "metadata": {},
   "outputs": [
    {
     "name": "stdout",
     "output_type": "stream",
     "text": [
      "Shape of gyrNormal_s3 is ------ (0,)\n",
      "Shape of accNormal_s3 is ------ (0,) \n",
      "\n",
      "Shape of gyrUpstairs_s3 is ------ (0,)\n",
      "Shape of accUpstairs_s3 is ------ (0,) \n",
      "\n",
      "Shape of gyrDownstairs_s3 is ------ (0,)\n",
      "Shape of accDownstairs_s3 is ------ (0,) \n",
      "\n"
     ]
    }
   ],
   "source": [
    "# getting the data shape for reference\n",
    "for j in gaitpos:\n",
    "    for i in smartphone:\n",
    "            gyrl = eval(f'gyr{j}_s{i}')\n",
    "            accl = eval(f'acc{j}_s{i}')\n",
    "\n",
    "            print(f'Shape of gyr{j}_s{i} is ------ {np.asarray((gyrl), dtype = list).shape}')\n",
    "            print(f'Shape of acc{j}_s{i} is ------ {np.asarray((accl), dtype = list).shape} \\n')"
   ]
  },
  {
   "cell_type": "markdown",
   "metadata": {},
   "source": [
    "### Data Validation and Preprocessing"
   ]
  },
  {
   "cell_type": "markdown",
   "metadata": {},
   "source": [
    "#### -- No need to run -- Frequency check of all the data before filtering"
   ]
  },
  {
   "cell_type": "code",
   "execution_count": 46,
   "metadata": {},
   "outputs": [],
   "source": [
    "freqGyr = []\n",
    "freqAcc = []\n",
    "\n",
    "# Loop through the variables and check if all the data is collected\n",
    "for j in gaitpos:\n",
    "    for i in smartphone:\n",
    "        # Calculating gyroscope frequency before preprocessing\n",
    "        gyrl = eval(f'gyr{j}_s{i}')\n",
    "        ng = len(gyrl)\n",
    "\n",
    "        # loop to calculate the frequency over all the data\n",
    "        for s in range(0, ng):\n",
    "            time = np.asarray(gyrl[s].iloc[:,0])\n",
    "\n",
    "            freqG = np.round(len(time)/(time[-1]))\n",
    "            freqGyr.append(freqG)\n",
    "        \n",
    "        # Calculating accelerometer frequency before preprocessing\n",
    "        accl = eval(f'acc{j}_s{i}')\n",
    "        na = len(accl)\n",
    "\n",
    "        # loop to calculate the frequency over all the data\n",
    "        for s in range(0, na):\n",
    "            time = np.asarray(accl[s].iloc[:,0])\n",
    "\n",
    "            freqA = np.round(len(time)/(time[-1]))\n",
    "            freqAcc.append(freqA)\n",
    "\n",
    "for i in range(0, len(freqGyr)):\n",
    "    if freqGyr[i] < 10:\n",
    "        print(f'Position of the frequency issue is at freqGyr:{i} and the frequency is {freqGyr[i]}')\n",
    "for j in range(0, len(freqAcc)):\n",
    "    if freqAcc[j] < 10:\n",
    "        print(f'Position of the frequency issue is at freqAcc:{j} and the frequency is {freqAcc[j]}')"
   ]
  },
  {
   "cell_type": "markdown",
   "metadata": {},
   "source": [
    "### Filter Data"
   ]
  },
  {
   "cell_type": "markdown",
   "metadata": {},
   "source": [
    "#### Lowpass filter (Butterworth) function"
   ]
  },
  {
   "cell_type": "code",
   "execution_count": 47,
   "metadata": {},
   "outputs": [],
   "source": [
    "#Filter the data to remove noise\n",
    "\n",
    "# inputs for the function is the data, the sampling frequency, the cutoff frequency.\n",
    "def dataFilter(dataInput, fs=200, fc=5, order = 2):\n",
    "    Filtrd = np.zeros(dataInput.shape)\n",
    "    w = fc / (fs * 0.5)\n",
    "    b, a = sp.butter(fc, w, 'low')\n",
    "    \n",
    "    #Filter the X, Y and Z axis of the input data\n",
    "    for i in range(0, 3):\n",
    "        Filtrd[:,i] = sp.filtfilt(b, a, dataInput.iloc[:,i+1])\n",
    "\n",
    "    return Filtrd"
   ]
  },
  {
   "cell_type": "markdown",
   "metadata": {},
   "source": [
    "##### -- Different filter check -- Chebyshev filter"
   ]
  },
  {
   "cell_type": "code",
   "execution_count": 48,
   "metadata": {},
   "outputs": [
    {
     "data": {
      "text/plain": [
       "\"\\n# chebyshev filter for the accelerometer data\\ndef chebyFilter(dataInput, fs=200, fc=5, order = 2):\\n    Filtrd = np.zeros(dataInput.shape)\\n    w = fc / (fs * 0.5)\\n    b, a = sp.cheby2(order, 20, w, 'low')\\n    \\n    #Filter the X, Y and Z axis of the input data\\n    for i in range(0, 3):\\n        Filtrd[:,i] = sp.filtfilt(b,a, dataInput.iloc[:,i+1])\\n    \\n    return Filtrd\\n\""
      ]
     },
     "execution_count": 48,
     "metadata": {},
     "output_type": "execute_result"
    }
   ],
   "source": [
    "'''\n",
    "# chebyshev filter for the accelerometer data\n",
    "def chebyFilter(dataInput, fs=200, fc=5, order = 2):\n",
    "    Filtrd = np.zeros(dataInput.shape)\n",
    "    w = fc / (fs * 0.5)\n",
    "    b, a = sp.cheby2(order, 20, w, 'low')\n",
    "    \n",
    "    #Filter the X, Y and Z axis of the input data\n",
    "    for i in range(0, 3):\n",
    "        Filtrd[:,i] = sp.filtfilt(b,a, dataInput.iloc[:,i+1])\n",
    "    \n",
    "    return Filtrd\n",
    "'''"
   ]
  },
  {
   "cell_type": "markdown",
   "metadata": {},
   "source": [
    "#### -- Test -- the dataFilter function and its dependency on the frequency input"
   ]
  },
  {
   "cell_type": "code",
   "execution_count": 49,
   "metadata": {},
   "outputs": [
    {
     "data": {
      "text/plain": [
       "\"gyrF = []\\naccF = []\\nng = len(gyrNormal_s1)\\nna = len(accNormal_s1)\\n\\nfor i in range(0, ng):\\n    timeg = np.asarray(gyrNormal_s1[i].iloc[:,0])\\n    freqG = np.round(len(timeg)/(timeg[-1]))\\n    gyrF.append(freqG)\\n\\nfor j in range(0, na):\\n    timea = np.asarray(accNormal_s1[j].iloc[:,0])\\n    freqA = np.round(len(timea)/(timea[-1]))\\n    accF.append(freqA)\\n\\ngyrFilt = []\\naccFilt = []\\n\\nfor rg in range(0, ng):\\n    gf = dataFilter(gyrNormal_s1[rg], fs = 100)\\n    gyrFilt.append(gf)\\n\\nfor ra in range(0, na):\\n    af = dataFilter(accNormal_s1[ra], fs = 100)\\n    accFilt.append(af)\\n\\nt1 = np.asarray(gyrNormal_s1[0].iloc[:,0])\\nf1 = np.round(len(t1)/(t1[-1]))\\n\\nxyz = dataFilter(gyrNormal_s1[0], fs = f1)\\n\\nplt.close('all')\\nplt.plot(gyrNormal_s1[0].iloc[:,1], 'r')\\nplt.plot(xyz[:,0], 'b')\\nplt.show()\""
      ]
     },
     "execution_count": 49,
     "metadata": {},
     "output_type": "execute_result"
    }
   ],
   "source": [
    "'''gyrF = []\n",
    "accF = []\n",
    "ng = len(gyrNormal_s1)\n",
    "na = len(accNormal_s1)\n",
    "\n",
    "for i in range(0, ng):\n",
    "    timeg = np.asarray(gyrNormal_s1[i].iloc[:,0])\n",
    "    freqG = np.round(len(timeg)/(timeg[-1]))\n",
    "    gyrF.append(freqG)\n",
    "\n",
    "for j in range(0, na):\n",
    "    timea = np.asarray(accNormal_s1[j].iloc[:,0])\n",
    "    freqA = np.round(len(timea)/(timea[-1]))\n",
    "    accF.append(freqA)\n",
    "\n",
    "gyrFilt = []\n",
    "accFilt = []\n",
    "\n",
    "for rg in range(0, ng):\n",
    "    gf = dataFilter(gyrNormal_s1[rg], fs = 100)\n",
    "    gyrFilt.append(gf)\n",
    "\n",
    "for ra in range(0, na):\n",
    "    af = dataFilter(accNormal_s1[ra], fs = 100)\n",
    "    accFilt.append(af)\n",
    "\n",
    "t1 = np.asarray(gyrNormal_s1[0].iloc[:,0])\n",
    "f1 = np.round(len(t1)/(t1[-1]))\n",
    "\n",
    "xyz = dataFilter(gyrNormal_s1[0], fs = f1)\n",
    "\n",
    "plt.close('all')\n",
    "plt.plot(gyrNormal_s1[0].iloc[:,1], 'r')\n",
    "plt.plot(xyz[:,0], 'b')\n",
    "plt.show()'''"
   ]
  },
  {
   "cell_type": "markdown",
   "metadata": {},
   "source": [
    "## Filtering all the data"
   ]
  },
  {
   "cell_type": "code",
   "execution_count": 50,
   "metadata": {},
   "outputs": [],
   "source": [
    "# defining arrays for filtered gyroscope data\n",
    "gyrFilteredNormal_s1 = []; gyrFilteredUpstairs_s1 = []; gyrFilteredDownstairs_s1 = []\n",
    "gyrFilteredDownstairs_s3 = []; gyrFilteredUpstairs_s3 = []; gyrFilteredNormal_s3 = []\n",
    "\n",
    "# defining arrays for filtered accelerometer data\n",
    "accFilteredNormal_s1 = []; accFilteredUpstairs_s1 = []; accFilteredDownstairs_s1 = []\n",
    "accFilteredNormal_s3 = []; accFilteredUpstairs_s3 = []; accFilteredDownstairs_s3 = []\n",
    "\n",
    "for j in gaitpos:\n",
    "    for i in smartphone:\n",
    "            # variables of raw the data\n",
    "            gyrl = eval(f'gyr{j}_s{i}')\n",
    "            accl = eval(f'acc{j}_s{i}')\n",
    "            \n",
    "            # variables of filtered the data\n",
    "            gyrF = eval(f'gyrFiltered{j}_s{i}')\n",
    "            accF = eval(f'accFiltered{j}_s{i}')\n",
    "\n",
    "            # getting the shape of the gyroscope data (first integer)\n",
    "            ng = len(gyrl)\n",
    "\n",
    "            # Getting the shape of the accelerometer data (first integer)\n",
    "            na = len(accl)\n",
    "\n",
    "\n",
    "            # Filter all the data\n",
    "            for rg in range(0, ng):\n",
    "                timeg = np.asarray(gyrl[rg].iloc[:,0])\n",
    "                fG = np.round(len(timeg)/(timeg[-1]))\n",
    "\n",
    "                gf = dataFilter(gyrl[rg], fs = fG)\n",
    "                gyrF.append(gf)\n",
    "\n",
    "            for ra in range(0, na):\n",
    "                timea = np.asarray(accl[ra].iloc[:,0])\n",
    "                fA = np.round(len(timea)/(timea[-1]))\n",
    "\n",
    "                af = dataFilter(accl[ra], fs = fA)\n",
    "                accF.append(af)"
   ]
  },
  {
   "cell_type": "markdown",
   "metadata": {},
   "source": [
    "#### Check if all the data is collected correctly after filtering"
   ]
  },
  {
   "cell_type": "code",
   "execution_count": 51,
   "metadata": {},
   "outputs": [
    {
     "name": "stdout",
     "output_type": "stream",
     "text": [
      "Shape of gyrFilteredNormal_s3 is ------ (0,)\n",
      "Shape of accFilteredNormal_s3 is ------ (0,) \n",
      "\n",
      "Shape of gyrFilteredUpstairs_s3 is ------ (0,)\n",
      "Shape of accFilteredUpstairs_s3 is ------ (0,) \n",
      "\n",
      "Shape of gyrFilteredDownstairs_s3 is ------ (0,)\n",
      "Shape of accFilteredDownstairs_s3 is ------ (0,) \n",
      "\n"
     ]
    }
   ],
   "source": [
    "# getting the data shape for reference\n",
    "for j in gaitpos:\n",
    "    for i in smartphone:\n",
    "            gyrl = eval(f'gyrFiltered{j}_s{i}')\n",
    "            accl = eval(f'accFiltered{j}_s{i}')\n",
    "\n",
    "            print(f'Shape of gyrFiltered{j}_s{i} is ------ {np.asarray((gyrl), dtype = list).shape}')\n",
    "            print(f'Shape of accFiltered{j}_s{i} is ------ {np.asarray((accl), dtype = list).shape} \\n')"
   ]
  },
  {
   "cell_type": "markdown",
   "metadata": {},
   "source": [
    "## Cut data"
   ]
  },
  {
   "cell_type": "markdown",
   "metadata": {},
   "source": [
    "#### Cut data function"
   ]
  },
  {
   "cell_type": "code",
   "execution_count": 52,
   "metadata": {},
   "outputs": [],
   "source": [
    "def cutData(gyrFilt, accFilt, freq):\n",
    "    acc_abs = np.linalg.norm(accFilt, axis=1)\n",
    "    \n",
    "    ht = np.round(np.mean(acc_abs[int(0.3*len(acc_abs)):int(0.7*len(acc_abs))])).astype(int)\n",
    "\n",
    "    peaks, _ = sp.find_peaks(acc_abs, height = -10, distance=freq*0.5)\n",
    "    diff_peaks = np.diff(peaks)\n",
    "    gap1 = np.argmax(diff_peaks[:int(0.4*(len(diff_peaks)))])\n",
    "    gap2 = np.argmax(diff_peaks[-int(0.4*len(diff_peaks)):])\n",
    "    \n",
    "    gap2 = int(np.shape(diff_peaks)[0] - int(0.4*len(diff_peaks)) + gap2)\n",
    "\n",
    "    gyr_cut = gyrFilt[peaks[gap1+1]:peaks[gap2], :]\n",
    "    acc_cut = accFilt[peaks[gap1+1]:peaks[gap2], :]\n",
    "\n",
    "    return gyr_cut, acc_cut"
   ]
  },
  {
   "cell_type": "markdown",
   "metadata": {},
   "source": [
    "##### -- check -- Cut data function"
   ]
  },
  {
   "cell_type": "code",
   "execution_count": 53,
   "metadata": {},
   "outputs": [
    {
     "data": {
      "text/plain": [
       "\"\\ngyrNormalCtted, accNormalCtted = [], []\\n\\nfor x in range(0, len(gyrNormal_s3)):\\n    num = x\\n    \\n    nq = len(accNormal_s3[num])\\n    tq = np.asarray(gyrNormal_s3[num].iloc[:,0])\\n    freq = np.round(len(tq)/(tq[-1]))\\n    # print(f'The frequency of the data is {freq}')\\n\\n    acc_abs = np.linalg.norm(accFilteredNormal_s3[num], axis=1)\\n\\n    # ht = np.round(np.mean(acc_abs[int(0.2*len(acc_abs)):int(0.7*len(acc_abs))])).astype(int)\\n    # ht = np.round(np.mean(acc_abs)).astype(int)\\n    # print(f'The average height of the data is {ht}')\\n    peaks, _ = sp.find_peaks(acc_abs, height = 0, distance=freq*0.5)\\n    # print(f'The number of peaks is {(peaks)}')\\n\\n    diff_peaks = np.diff(peaks)\\n    # print(f'The difference of peaks is {(diff_peaks)}')\\n\\n    gap1 = np.argmax(diff_peaks[:20])\\n    # print(f'The first gap is {gap1}')\\n\\n    gap2 = np.argmax(diff_peaks[-10:])\\n    gap2 = int(np.shape(diff_peaks)[0] - 10 + gap2)\\n    # print(f'The second gap is {gap2}')\\n\\n    gyr_cut = gyrFilteredNormal_s3[num][peaks[gap1+1]:peaks[gap2], :]\\n    acc_cut = accFilteredNormal_s3[num][peaks[gap1+1]:peaks[gap2], :]\\n\\n    gyrNormalCtted.append(gyr_cut)\\n    accNormalCtted.append(acc_cut)\\n\""
      ]
     },
     "execution_count": 53,
     "metadata": {},
     "output_type": "execute_result"
    }
   ],
   "source": [
    "'''\n",
    "gyrNormalCtted, accNormalCtted = [], []\n",
    "\n",
    "for x in range(0, len(gyrNormal_s3)):\n",
    "    num = x\n",
    "    \n",
    "    nq = len(accNormal_s3[num])\n",
    "    tq = np.asarray(gyrNormal_s3[num].iloc[:,0])\n",
    "    freq = np.round(len(tq)/(tq[-1]))\n",
    "    # print(f'The frequency of the data is {freq}')\n",
    "\n",
    "    acc_abs = np.linalg.norm(accFilteredNormal_s3[num], axis=1)\n",
    "\n",
    "    # ht = np.round(np.mean(acc_abs[int(0.2*len(acc_abs)):int(0.7*len(acc_abs))])).astype(int)\n",
    "    # ht = np.round(np.mean(acc_abs)).astype(int)\n",
    "    # print(f'The average height of the data is {ht}')\n",
    "    peaks, _ = sp.find_peaks(acc_abs, height = 0, distance=freq*0.5)\n",
    "    # print(f'The number of peaks is {(peaks)}')\n",
    "\n",
    "    diff_peaks = np.diff(peaks)\n",
    "    # print(f'The difference of peaks is {(diff_peaks)}')\n",
    "\n",
    "    gap1 = np.argmax(diff_peaks[:20])\n",
    "    # print(f'The first gap is {gap1}')\n",
    "\n",
    "    gap2 = np.argmax(diff_peaks[-10:])\n",
    "    gap2 = int(np.shape(diff_peaks)[0] - 10 + gap2)\n",
    "    # print(f'The second gap is {gap2}')\n",
    "\n",
    "    gyr_cut = gyrFilteredNormal_s3[num][peaks[gap1+1]:peaks[gap2], :]\n",
    "    acc_cut = accFilteredNormal_s3[num][peaks[gap1+1]:peaks[gap2], :]\n",
    "\n",
    "    gyrNormalCtted.append(gyr_cut)\n",
    "    accNormalCtted.append(acc_cut)\n",
    "'''"
   ]
  },
  {
   "cell_type": "markdown",
   "metadata": {},
   "source": [
    "##### -- Test -- Cut Data line by line"
   ]
  },
  {
   "cell_type": "code",
   "execution_count": 54,
   "metadata": {},
   "outputs": [
    {
     "data": {
      "text/plain": [
       "'\\nnum = 7\\n\\nnq = len(accNormal_s3[num])\\ntq = np.asarray(gyrNormal_s3[num].iloc[:,0])\\nfreq = np.round(len(tq)/(tq[-1]))\\nprint(f\\'The frequency of the data is {freq}\\')\\n\\nacc_abs = np.linalg.norm(accFilteredNormal_s3[num], axis=1)\\n\\nht = np.round(np.mean(acc_abs[int(0.2*len(acc_abs)):int(0.7*len(acc_abs))])).astype(int)\\n# ht = np.round(np.mean(acc_abs)).astype(int)\\nprint(f\\'The average height of the data is {ht}\\')\\npeaks, _ = sp.find_peaks(acc_abs, height = 0, distance=freq*0.5)\\nprint(f\\'The number of peaks is {(peaks)}\\')\\n\\ndiff_peaks = np.diff(peaks)\\nprint(f\\'The difference of peaks is {(diff_peaks)}\\')\\n\\ngap1 = np.argmax(diff_peaks[:int(0.1*(len(diff_peaks)))])\\nprint(f\\'The first gap is {gap1}\\')\\n\\ngap2 = np.argmax(diff_peaks[-int(0.1*len(diff_peaks)):])\\ngap2 = int(np.shape(diff_peaks)[0] - int(0.2*len(diff_peaks)) + gap2)\\nprint(f\\'The second gap is {gap2}\\')\\n\\ngyr_cut = gyrFilteredNormal_s3[num][peaks[gap1+1]:peaks[gap2], :]\\nacc_cut = accFilteredNormal_s3[num][peaks[gap1+1]:peaks[gap2], :]\\n\\nplt.close()\\n# plt.plot(gyrFilteredNormal_s1[1][:,0], label=\\'Raw Data\\', c = \\'b\\')\\n\\nplt.plot(acc_abs, label = \\'Accelerometer Absolute Data\\', c = \\'grey\\')\\nplt.plot(np.linspace(0, len(gyrNormal_s3[num])), np.full_like(np.linspace(0, len(gyrNormal_s3[num])), ht), label = \\'Average Height\\', c = \\'r\\')\\n\\nplt.plot(peaks, acc_abs[peaks], \\'x\\', label = \\'Peaks\\', c = \\'y\\')\\nplt.plot(np.linspace(0, len(gyrNormal_s3[num])), np.zeros_like(np.linspace(0, len(gyrNormal_s3[num]))), linestyle = \"--\", linewidth = 0.2, dashes=(5, 15), color=\"black\")\\n\\nplt.plot(peaks[gap1+1], acc_abs[peaks[gap1+1]], \\'o\\', label = \\'Gap 1\\', c = \\'g\\')\\nplt.plot(peaks[gap2], acc_abs[peaks[gap2]], \\'o\\', label = \\'Gap 2\\', c = \\'black\\')\\n\\nplt.plot(gyr_cut[:,0], label = \\'Gyr Cut\\', c=\\'r\\')\\n\\nplt.legend()\\nplt.grid()\\nplt.show()\\n'"
      ]
     },
     "execution_count": 54,
     "metadata": {},
     "output_type": "execute_result"
    }
   ],
   "source": [
    "'''\n",
    "num = 7\n",
    "\n",
    "nq = len(accNormal_s3[num])\n",
    "tq = np.asarray(gyrNormal_s3[num].iloc[:,0])\n",
    "freq = np.round(len(tq)/(tq[-1]))\n",
    "print(f'The frequency of the data is {freq}')\n",
    "\n",
    "acc_abs = np.linalg.norm(accFilteredNormal_s3[num], axis=1)\n",
    "\n",
    "ht = np.round(np.mean(acc_abs[int(0.2*len(acc_abs)):int(0.7*len(acc_abs))])).astype(int)\n",
    "# ht = np.round(np.mean(acc_abs)).astype(int)\n",
    "print(f'The average height of the data is {ht}')\n",
    "peaks, _ = sp.find_peaks(acc_abs, height = 0, distance=freq*0.5)\n",
    "print(f'The number of peaks is {(peaks)}')\n",
    "\n",
    "diff_peaks = np.diff(peaks)\n",
    "print(f'The difference of peaks is {(diff_peaks)}')\n",
    "\n",
    "gap1 = np.argmax(diff_peaks[:int(0.1*(len(diff_peaks)))])\n",
    "print(f'The first gap is {gap1}')\n",
    "\n",
    "gap2 = np.argmax(diff_peaks[-int(0.1*len(diff_peaks)):])\n",
    "gap2 = int(np.shape(diff_peaks)[0] - int(0.2*len(diff_peaks)) + gap2)\n",
    "print(f'The second gap is {gap2}')\n",
    "\n",
    "gyr_cut = gyrFilteredNormal_s3[num][peaks[gap1+1]:peaks[gap2], :]\n",
    "acc_cut = accFilteredNormal_s3[num][peaks[gap1+1]:peaks[gap2], :]\n",
    "\n",
    "plt.close()\n",
    "# plt.plot(gyrFilteredNormal_s1[1][:,0], label='Raw Data', c = 'b')\n",
    "\n",
    "plt.plot(acc_abs, label = 'Accelerometer Absolute Data', c = 'grey')\n",
    "plt.plot(np.linspace(0, len(gyrNormal_s3[num])), np.full_like(np.linspace(0, len(gyrNormal_s3[num])), ht), label = 'Average Height', c = 'r')\n",
    "\n",
    "plt.plot(peaks, acc_abs[peaks], 'x', label = 'Peaks', c = 'y')\n",
    "plt.plot(np.linspace(0, len(gyrNormal_s3[num])), np.zeros_like(np.linspace(0, len(gyrNormal_s3[num]))), linestyle = \"--\", linewidth = 0.2, dashes=(5, 15), color=\"black\")\n",
    "\n",
    "plt.plot(peaks[gap1+1], acc_abs[peaks[gap1+1]], 'o', label = 'Gap 1', c = 'g')\n",
    "plt.plot(peaks[gap2], acc_abs[peaks[gap2]], 'o', label = 'Gap 2', c = 'black')\n",
    "\n",
    "plt.plot(gyr_cut[:,0], label = 'Gyr Cut', c='r')\n",
    "\n",
    "plt.legend()\n",
    "plt.grid()\n",
    "plt.show()\n",
    "'''"
   ]
  },
  {
   "cell_type": "markdown",
   "metadata": {},
   "source": [
    "#### Cut all the data"
   ]
  },
  {
   "cell_type": "code",
   "execution_count": 55,
   "metadata": {},
   "outputs": [],
   "source": [
    "# defining arrays for cut gyroscope data\n",
    "gyrCutNormal_s1 = []; gyrCutUpstairs_s1 = []; gyrCutDownstairs_s1 = []\n",
    "gyrCutNormal_s3 = []; gyrCutUpstairs_s3 = []; gyrCutDownstairs_s3 = []\n",
    "\n",
    "# defining arrays for cut accelerometer data\n",
    "accCutNormal_s1 = []; accCutUpstairs_s1 = []; accCutDownstairs_s1 = []\n",
    "accCutNormal_s3 = []; accCutUpstairs_s3 = []; accCutDownstairs_s3 = []\n",
    "\n",
    "for j in gaitpos:\n",
    "    for i in smartphone:\n",
    "            # variables of raw the data\n",
    "            gyrl = eval(f'gyr{j}_s{i}')\n",
    "            accl = eval(f'acc{j}_s{i}')\n",
    "            \n",
    "            # variables of filtered the data\n",
    "            gyrF = eval(f'gyrFiltered{j}_s{i}')\n",
    "            accF = eval(f'accFiltered{j}_s{i}')\n",
    "\n",
    "            # variables of cutted the data\n",
    "            gyrC = eval(f'gyrCut{j}_s{i}')\n",
    "            accC = eval(f'accCut{j}_s{i}')\n",
    "\n",
    "            # getting the shape of the gyroscope and accelerometer data\n",
    "            n = len(gyrF)\n",
    "\n",
    "            # Filter all the data\n",
    "            for r in range(0, n):\n",
    "                \n",
    "                tCut = np.asarray(gyrl[r].iloc[:,0])\n",
    "                freqCut = np.round(len(tCut)/(tCut[-1]))\n",
    "                # print(f'accFiltered{j}_s{i} - {[r]}')\n",
    "                gf, aF = cutData(gyrF[r], accF[r], freqCut)\n",
    "\n",
    "                gyrC.append(gf)\n",
    "                accC.append(aF)"
   ]
  },
  {
   "cell_type": "markdown",
   "metadata": {},
   "source": [
    "#### check if all the data is collected correctly after cutting"
   ]
  },
  {
   "cell_type": "code",
   "execution_count": 38,
   "metadata": {},
   "outputs": [],
   "source": [
    "# # getting the data shape for reference\n",
    "# for j in gaitpos:\n",
    "#     for i in smartphone:\n",
    "#             gyr = eval(f'gyrCut{j}_s{i}')\n",
    "#             acc = eval(f'accCut{j}_s{i}')\n",
    "\n",
    "#             print(f'Shape of gyrCut{j}_s{i} is ------ {np.asarray((gyr), dtype = list).shape}')\n",
    "#             print(f'Shape of accCut{j}_s{i} is ------ {np.asarray((acc), dtype = list).shape} \\n')"
   ]
  },
  {
   "cell_type": "markdown",
   "metadata": {},
   "source": [
    "#### Plot raw data, filtered data, and cut data"
   ]
  },
  {
   "cell_type": "code",
   "execution_count": 39,
   "metadata": {},
   "outputs": [
    {
     "ename": "IndexError",
     "evalue": "list index out of range",
     "output_type": "error",
     "traceback": [
      "\u001b[1;31m---------------------------------------------------------------------------\u001b[0m",
      "\u001b[1;31mIndexError\u001b[0m                                Traceback (most recent call last)",
      "\u001b[1;32m~\\AppData\\Local\\Temp/ipykernel_19584/1411571528.py\u001b[0m in \u001b[0;36m<module>\u001b[1;34m\u001b[0m\n\u001b[0;32m      9\u001b[0m \u001b[1;33m\u001b[0m\u001b[0m\n\u001b[0;32m     10\u001b[0m \u001b[0mplt\u001b[0m\u001b[1;33m.\u001b[0m\u001b[0mclose\u001b[0m\u001b[1;33m(\u001b[0m\u001b[1;33m)\u001b[0m\u001b[1;33m\u001b[0m\u001b[1;33m\u001b[0m\u001b[0m\n\u001b[1;32m---> 11\u001b[1;33m \u001b[0mplt\u001b[0m\u001b[1;33m.\u001b[0m\u001b[0mplot\u001b[0m\u001b[1;33m(\u001b[0m\u001b[0meval\u001b[0m\u001b[1;33m(\u001b[0m\u001b[1;34mf'gyr{pos}_s{loc}'\u001b[0m\u001b[1;33m)\u001b[0m\u001b[1;33m[\u001b[0m\u001b[0mno\u001b[0m\u001b[1;33m]\u001b[0m\u001b[1;33m.\u001b[0m\u001b[0miloc\u001b[0m\u001b[1;33m[\u001b[0m\u001b[1;33m:\u001b[0m\u001b[1;33m,\u001b[0m\u001b[1;33m(\u001b[0m\u001b[0maxis\u001b[0m\u001b[1;33m+\u001b[0m\u001b[1;36m1\u001b[0m\u001b[1;33m)\u001b[0m\u001b[1;33m]\u001b[0m\u001b[1;33m,\u001b[0m \u001b[0mlabel\u001b[0m\u001b[1;33m=\u001b[0m\u001b[1;34m'Raw Data'\u001b[0m\u001b[1;33m,\u001b[0m \u001b[0mc\u001b[0m \u001b[1;33m=\u001b[0m \u001b[1;34m'c'\u001b[0m\u001b[1;33m)\u001b[0m\u001b[1;33m\u001b[0m\u001b[1;33m\u001b[0m\u001b[0m\n\u001b[0m\u001b[0;32m     12\u001b[0m \u001b[0mplt\u001b[0m\u001b[1;33m.\u001b[0m\u001b[0mplot\u001b[0m\u001b[1;33m(\u001b[0m\u001b[0meval\u001b[0m\u001b[1;33m(\u001b[0m\u001b[1;34mf'gyrFiltered{pos}_s{loc}'\u001b[0m\u001b[1;33m)\u001b[0m\u001b[1;33m[\u001b[0m\u001b[0mno\u001b[0m\u001b[1;33m]\u001b[0m\u001b[1;33m[\u001b[0m\u001b[1;33m:\u001b[0m\u001b[1;33m,\u001b[0m\u001b[0maxis\u001b[0m\u001b[1;33m]\u001b[0m\u001b[1;33m,\u001b[0m \u001b[0mlabel\u001b[0m\u001b[1;33m=\u001b[0m\u001b[1;34m'Filtered Data'\u001b[0m\u001b[1;33m,\u001b[0m \u001b[0mc\u001b[0m \u001b[1;33m=\u001b[0m \u001b[1;34m'b'\u001b[0m\u001b[1;33m)\u001b[0m\u001b[1;33m\u001b[0m\u001b[1;33m\u001b[0m\u001b[0m\n\u001b[0;32m     13\u001b[0m \u001b[0mplt\u001b[0m\u001b[1;33m.\u001b[0m\u001b[0mplot\u001b[0m\u001b[1;33m(\u001b[0m\u001b[0meval\u001b[0m\u001b[1;33m(\u001b[0m\u001b[1;34mf'gyrCut{pos}_s{loc}'\u001b[0m\u001b[1;33m)\u001b[0m\u001b[1;33m[\u001b[0m\u001b[0mno\u001b[0m\u001b[1;33m]\u001b[0m\u001b[1;33m[\u001b[0m\u001b[1;33m:\u001b[0m\u001b[1;33m,\u001b[0m\u001b[0maxis\u001b[0m\u001b[1;33m]\u001b[0m\u001b[1;33m,\u001b[0m \u001b[0mlabel\u001b[0m \u001b[1;33m=\u001b[0m \u001b[1;34m'Gyr Cutted Data'\u001b[0m\u001b[1;33m,\u001b[0m \u001b[0mc\u001b[0m \u001b[1;33m=\u001b[0m \u001b[1;34m'r'\u001b[0m\u001b[1;33m)\u001b[0m\u001b[1;33m\u001b[0m\u001b[1;33m\u001b[0m\u001b[0m\n",
      "\u001b[1;31mIndexError\u001b[0m: list index out of range"
     ]
    }
   ],
   "source": [
    "# pos = 'Normal', 'Upstairs', 'Downstairs'\n",
    "pos = 'Normal'\n",
    "# loc = 1, 3\n",
    "loc = 3\n",
    "# no = 0-7\n",
    "no = 4\n",
    "# axis = 0, 1, 2\n",
    "axis = 0\n",
    "\n",
    "plt.close()\n",
    "plt.plot(eval(f'gyr{pos}_s{loc}')[no].iloc[:,(axis+1)], label='Raw Data', c = 'c')\n",
    "plt.plot(eval(f'gyrFiltered{pos}_s{loc}')[no][:,axis], label='Filtered Data', c = 'b')\n",
    "plt.plot(eval(f'gyrCut{pos}_s{loc}')[no][:,axis], label = 'Gyr Cutted Data', c = 'r')\n",
    "# plt.plot(eval(f'gyrResample{pos}_s{loc}')[no][:,axis], label = 'Gyr Resampled Data', c = 'g')\n",
    "\n",
    "plt.legend()\n",
    "plt.show()"
   ]
  },
  {
   "cell_type": "markdown",
   "metadata": {},
   "source": [
    "#### -- Test -- Save all cut data to plots"
   ]
  },
  {
   "cell_type": "code",
   "execution_count": 56,
   "metadata": {},
   "outputs": [
    {
     "data": {
      "text/plain": [
       "\"\\nfor j in gaitpos:\\n    for i in smartphone:\\n        # variables of raw the data\\n        gyrl = eval(f'gyr{j}_s{i}')\\n        accl = eval(f'acc{j}_s{i}')\\n        # variables of filtered the data\\n        gyrF = eval(f'gyrFiltered{j}_s{i}')\\n        accF = eval(f'accFiltered{j}_s{i}')\\n        # variables of cutted the data\\n        gyrC = eval(f'gyrCut{j}_s{i}')\\n        accC = eval(f'accCut{j}_s{i}')\\n\\n        for rg in range(0, len(gyrF)):\\n            plt.close()\\n            plt.plot(gyrl[rg].iloc[:,1], label='Raw Gyroscope Data', c = 'c')\\n            # plt.plot(accl[rg].iloc[:,1], label='Raw Accelerometer Data', c = 'm')\\n\\n            plt.plot(gyrF[rg][:,0], label='Filtered Gyroscope Data', c = 'b')\\n            # plt.plot(accF[rg][:,0], label='Filtered Accelerometer Data', c = 'g')\\n\\n            plt.plot(gyrC[rg][:,0], label='Gyroscope Cut Data', c = 'y')\\n            # plt.plot(accC[rg][:,0], label = 'Accelerometer Cut Data', c = 'r')\\n\\n            plt.legend()\\n            plt.grid()\\n            plt.ioff()\\n            # plt.savefig(rootdir+f'/2 Accelerometer_Pictures/acc{j}_s{i}_{rg}.png')\\n            plt.savefig(rootdir+f'/1 Gyroscope_Pictures/gyr{j}_s{i}_{rg}.png')\\n\""
      ]
     },
     "execution_count": 56,
     "metadata": {},
     "output_type": "execute_result"
    }
   ],
   "source": [
    "'''\n",
    "for j in gaitpos:\n",
    "    for i in smartphone:\n",
    "        # variables of raw the data\n",
    "        gyrl = eval(f'gyr{j}_s{i}')\n",
    "        accl = eval(f'acc{j}_s{i}')\n",
    "        # variables of filtered the data\n",
    "        gyrF = eval(f'gyrFiltered{j}_s{i}')\n",
    "        accF = eval(f'accFiltered{j}_s{i}')\n",
    "        # variables of cutted the data\n",
    "        gyrC = eval(f'gyrCut{j}_s{i}')\n",
    "        accC = eval(f'accCut{j}_s{i}')\n",
    "\n",
    "        for rg in range(0, len(gyrF)):\n",
    "            plt.close()\n",
    "            plt.plot(gyrl[rg].iloc[:,1], label='Raw Gyroscope Data', c = 'c')\n",
    "            # plt.plot(accl[rg].iloc[:,1], label='Raw Accelerometer Data', c = 'm')\n",
    "\n",
    "            plt.plot(gyrF[rg][:,0], label='Filtered Gyroscope Data', c = 'b')\n",
    "            # plt.plot(accF[rg][:,0], label='Filtered Accelerometer Data', c = 'g')\n",
    "\n",
    "            plt.plot(gyrC[rg][:,0], label='Gyroscope Cut Data', c = 'y')\n",
    "            # plt.plot(accC[rg][:,0], label = 'Accelerometer Cut Data', c = 'r')\n",
    "\n",
    "            plt.legend()\n",
    "            plt.grid()\n",
    "            plt.ioff()\n",
    "            # plt.savefig(rootdir+f'/2 Accelerometer_Pictures/acc{j}_s{i}_{rg}.png')\n",
    "            plt.savefig(rootdir+f'/1 Gyroscope_Pictures/gyr{j}_s{i}_{rg}.png')\n",
    "'''"
   ]
  },
  {
   "cell_type": "markdown",
   "metadata": {},
   "source": [
    "### Resample data"
   ]
  },
  {
   "cell_type": "markdown",
   "metadata": {},
   "source": [
    "#### Resample all the data"
   ]
  },
  {
   "cell_type": "code",
   "execution_count": 57,
   "metadata": {},
   "outputs": [],
   "source": [
    "# Create arrays for resampled data\n",
    "gyrResampleNormal_s1 = []; gyrResampleUpstairs_s1 = []; gyrResampleDownstairs_s1 = []\n",
    "gyrResampleNormal_s3 = []; gyrResampleUpstairs_s3 = []; gyrResampleDownstairs_s3 = []\n",
    "\n",
    "accResampleNormal_s1 = []; accResampleUpstairs_s1 = []; accResampleDownstairs_s1 = []\n",
    "accResampleNormal_s3 = []; accResampleUpstairs_s3 = []; accResampleDownstairs_s3 = []\n",
    "\n",
    "size = 200\n",
    "\n",
    "for j in gaitpos:\n",
    "    for i in smartphone:\n",
    "            gyrl = eval(f'gyrCut{j}_s{i}')\n",
    "            accl = eval(f'accCut{j}_s{i}')\n",
    "\n",
    "            gyrrs = eval(f'gyrResample{j}_s{i}')\n",
    "            accrs = eval(f'accResample{j}_s{i}')\n",
    "\n",
    "            for rg in range(0, len(gyrl)):\n",
    "                g = sp.resample(gyrl[rg], size, axis = 0)\n",
    "                a = sp.resample(accl[rg], size, axis = 0)\n",
    "                \n",
    "                gyrrs.append(g)\n",
    "                accrs.append(a)"
   ]
  },
  {
   "cell_type": "markdown",
   "metadata": {},
   "source": [
    "#### Change the data type to pd.DataFrame, add a column for label and drop that extra frckin column"
   ]
  },
  {
   "cell_type": "code",
   "execution_count": 58,
   "metadata": {},
   "outputs": [],
   "source": [
    "\n",
    "for j in gaitpos:\n",
    "    for i in smartphone:\n",
    "            gyrl = eval(f'gyrResample{j}_s{i}')\n",
    "            accl = eval(f'accResample{j}_s{i}')\n",
    "\n",
    "            for x in range(0, len(gyrl)):\n",
    "                g = pd.DataFrame(data = gyrl[x], columns=['X (rad/s)', 'Y (rad/s)', 'Z (rad/s)', 'Unnamed'])\n",
    "                a = pd.DataFrame(data = accl[x], columns=['X (m/s^2)', 'Y (m/s^2)', 'Z (m/s^2)', 'Unnamed'])\n",
    "                \n",
    "                g.drop(g.columns[3], axis=1, inplace=True)\n",
    "                a.drop(a.columns[3], axis=1, inplace=True)\n",
    "\n",
    "                gyrl[x] = g\n",
    "                accl[x] = a\n",
    "\n",
    "                gyrl[x]['Labelg'] = j\n",
    "                accl[x]['Labela'] = j"
   ]
  },
  {
   "cell_type": "markdown",
   "metadata": {},
   "source": [
    "#### Check if all the data is collected properly after resampling"
   ]
  },
  {
   "cell_type": "code",
   "execution_count": 59,
   "metadata": {},
   "outputs": [
    {
     "name": "stdout",
     "output_type": "stream",
     "text": [
      "Shape of gyrResampleNormal_s3 is ------ (0,)\n",
      "Shape of accResampleNormal_s3 is ------ (0,) \n",
      "\n",
      "Shape of gyrResampleUpstairs_s3 is ------ (0,)\n",
      "Shape of accResampleUpstairs_s3 is ------ (0,) \n",
      "\n",
      "Shape of gyrResampleDownstairs_s3 is ------ (0,)\n",
      "Shape of accResampleDownstairs_s3 is ------ (0,) \n",
      "\n"
     ]
    }
   ],
   "source": [
    "# getting the data shape for reference\n",
    "for j in gaitpos:\n",
    "    for i in smartphone:\n",
    "            gyr = eval(f'gyrResample{j}_s{i}')\n",
    "            acc = eval(f'accResample{j}_s{i}')\n",
    "\n",
    "            print(f'Shape of gyrResample{j}_s{i} is ------ {np.asarray((gyr), dtype = list).shape}')\n",
    "            print(f'Shape of accResample{j}_s{i} is ------ {np.asarray((acc), dtype = list).shape} \\n')"
   ]
  },
  {
   "cell_type": "markdown",
   "metadata": {},
   "source": [
    "#### Plot to compare the cut data, and resampled data"
   ]
  },
  {
   "cell_type": "code",
   "execution_count": 60,
   "metadata": {},
   "outputs": [
    {
     "ename": "IndexError",
     "evalue": "list index out of range",
     "output_type": "error",
     "traceback": [
      "\u001b[1;31m---------------------------------------------------------------------------\u001b[0m",
      "\u001b[1;31mIndexError\u001b[0m                                Traceback (most recent call last)",
      "\u001b[1;32m~\\AppData\\Local\\Temp/ipykernel_19584/2936443626.py\u001b[0m in \u001b[0;36m<module>\u001b[1;34m\u001b[0m\n\u001b[0;32m     14\u001b[0m \u001b[1;31m# axs[0].plot(eval(f'gyr{pos}_s{loc}')[no].iloc[:,(axis+1)], label='Raw Data', c = 'c')\u001b[0m\u001b[1;33m\u001b[0m\u001b[1;33m\u001b[0m\u001b[1;33m\u001b[0m\u001b[0m\n\u001b[0;32m     15\u001b[0m \u001b[1;31m# axs[0].plot(eval(f'gyrFiltered{pos}_s{loc}')[no][:,axis], label='Filtered Data', c = 'b')\u001b[0m\u001b[1;33m\u001b[0m\u001b[1;33m\u001b[0m\u001b[1;33m\u001b[0m\u001b[0m\n\u001b[1;32m---> 16\u001b[1;33m \u001b[0maxs\u001b[0m\u001b[1;33m[\u001b[0m\u001b[1;36m0\u001b[0m\u001b[1;33m]\u001b[0m\u001b[1;33m.\u001b[0m\u001b[0mplot\u001b[0m\u001b[1;33m(\u001b[0m\u001b[0meval\u001b[0m\u001b[1;33m(\u001b[0m\u001b[1;34mf'gyrCut{pos}_s{loc}'\u001b[0m\u001b[1;33m)\u001b[0m\u001b[1;33m[\u001b[0m\u001b[0mno\u001b[0m\u001b[1;33m]\u001b[0m\u001b[1;33m[\u001b[0m\u001b[1;33m:\u001b[0m\u001b[1;33m,\u001b[0m\u001b[0maxis\u001b[0m\u001b[1;33m]\u001b[0m\u001b[1;33m,\u001b[0m \u001b[0mlabel\u001b[0m \u001b[1;33m=\u001b[0m \u001b[1;34m'Gyr Cutted Data'\u001b[0m\u001b[1;33m,\u001b[0m \u001b[0mc\u001b[0m \u001b[1;33m=\u001b[0m \u001b[1;34m'r'\u001b[0m\u001b[1;33m)\u001b[0m\u001b[1;33m\u001b[0m\u001b[1;33m\u001b[0m\u001b[0m\n\u001b[0m\u001b[0;32m     17\u001b[0m \u001b[0maxs\u001b[0m\u001b[1;33m[\u001b[0m\u001b[1;36m0\u001b[0m\u001b[1;33m]\u001b[0m\u001b[1;33m.\u001b[0m\u001b[0mx_lim\u001b[0m \u001b[1;33m=\u001b[0m \u001b[1;33m[\u001b[0m\u001b[1;36m0\u001b[0m\u001b[1;33m,\u001b[0m \u001b[1;36m250\u001b[0m\u001b[1;33m]\u001b[0m\u001b[1;33m\u001b[0m\u001b[1;33m\u001b[0m\u001b[0m\n\u001b[0;32m     18\u001b[0m \u001b[1;33m\u001b[0m\u001b[0m\n",
      "\u001b[1;31mIndexError\u001b[0m: list index out of range"
     ]
    },
    {
     "data": {
      "application/vnd.jupyter.widget-view+json": {
       "model_id": "43092964938f4919b2eeaf1b72d28896",
       "version_major": 2,
       "version_minor": 0
      },
      "text/html": [
       "\n",
       "            <div style=\"display: inline-block;\">\n",
       "                <div class=\"jupyter-widgets widget-label\" style=\"text-align: center;\">\n",
       "                    Figure\n",
       "                </div>\n",
       "                <img src='data:image/png;base64,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' width=640.0/>\n",
       "            </div>\n",
       "        "
      ],
      "text/plain": [
       "Canvas(toolbar=Toolbar(toolitems=[('Home', 'Reset original view', 'home', 'home'), ('Back', 'Back to previous …"
      ]
     },
     "metadata": {},
     "output_type": "display_data"
    }
   ],
   "source": [
    "# pos = 'Normal', 'Upstairs', 'Downstairs'\n",
    "pos = 'Normal'\n",
    "# loc = 1, 3\n",
    "loc = 3\n",
    "# no = 0-7\n",
    "no = 2\n",
    "# axis = 0, 1, 2\n",
    "axis = 0\n",
    "\n",
    "plt.close()\n",
    "fig, axs = plt.subplots(2,1)\n",
    "fig.suptitle('Comparision of Resampled Data')\n",
    "\n",
    "# axs[0].plot(eval(f'gyr{pos}_s{loc}')[no].iloc[:,(axis+1)], label='Raw Data', c = 'c')\n",
    "# axs[0].plot(eval(f'gyrFiltered{pos}_s{loc}')[no][:,axis], label='Filtered Data', c = 'b')\n",
    "axs[0].plot(eval(f'gyrCut{pos}_s{loc}')[no][:,axis], label = 'Gyr Cutted Data', c = 'r')\n",
    "axs[0].x_lim = [0, 250]\n",
    "\n",
    "axs[1].plot(eval(f'gyrResample{pos}_s{loc}')[no].iloc[:,axis], label = 'Gyr Resampled Data', c = 'g')\n",
    "\n",
    "axs[0].legend()\n",
    "axs[1].legend()\n",
    "plt.show()"
   ]
  },
  {
   "cell_type": "markdown",
   "metadata": {},
   "source": [
    "### Create dataframes gyr_s1, gyr_s3, acc_s1, and acc_s3 ---- s1, s3"
   ]
  },
  {
   "cell_type": "markdown",
   "metadata": {},
   "source": [
    "#### Create dataframes combining all subjects into gyr_s1, acc_s1 and so on"
   ]
  },
  {
   "cell_type": "code",
   "execution_count": 61,
   "metadata": {},
   "outputs": [],
   "source": [
    "# combine all the data into gyr_s1, acc_s1, gyr_s3, and acc_s3\n",
    "gyr_s1 = pd.DataFrame(columns=['X (rad/s)', 'Y (rad/s)', 'Z (rad/s)'])\n",
    "acc_s1 = pd.DataFrame(columns=['X (m/s^2)', 'Y (m/s^2)', 'Z (m/s^2)'])\n",
    "\n",
    "gyr_s3 = pd.DataFrame(columns=['X (rad/s)', 'Y (rad/s)', 'Z (rad/s)'])\n",
    "acc_s3 = pd.DataFrame(columns=['X (m/s^2)', 'Y (m/s^2)', 'Z (m/s^2)'])\n",
    "\n",
    "for i in smartphone:    \n",
    "    for j in gaitpos:\n",
    "        gyr = eval(f'gyrResample{j}_s{i}')\n",
    "        acc = eval(f'accResample{j}_s{i}')\n",
    "        \n",
    "        if i == 1:    \n",
    "            for x in range(0, len(gyr)):\n",
    "                gyr_s1 = pd.concat((gyr_s1, gyr[x]), ignore_index=True, axis = 0)\n",
    "                acc_s1 = pd.concat((acc_s1, acc[x]), ignore_index=True, axis = 0)\n",
    "        \n",
    "        elif i == 3:\n",
    "            for x in range(0, len(gyr)):\n",
    "                gyr_s3 = pd.concat((gyr_s3, gyr[x]), ignore_index=True, axis = 0)\n",
    "                acc_s3 = pd.concat((acc_s3, acc[x]), ignore_index=True, axis = 0)\n"
   ]
  },
  {
   "cell_type": "markdown",
   "metadata": {},
   "source": [
    "#### create dataframes for each smartphone"
   ]
  },
  {
   "cell_type": "code",
   "execution_count": 62,
   "metadata": {},
   "outputs": [
    {
     "ename": "KeyError",
     "evalue": "\"['Labelg'] not found in axis\"",
     "output_type": "error",
     "traceback": [
      "\u001b[1;31m---------------------------------------------------------------------------\u001b[0m",
      "\u001b[1;31mKeyError\u001b[0m                                  Traceback (most recent call last)",
      "\u001b[1;32m~\\AppData\\Local\\Temp/ipykernel_19584/2098825692.py\u001b[0m in \u001b[0;36m<module>\u001b[1;34m\u001b[0m\n\u001b[0;32m      7\u001b[0m \u001b[1;33m\u001b[0m\u001b[0m\n\u001b[0;32m      8\u001b[0m \u001b[1;31m#s1.drop(['Labelg'], axis=1, inplace=True)\u001b[0m\u001b[1;33m\u001b[0m\u001b[1;33m\u001b[0m\u001b[1;33m\u001b[0m\u001b[0m\n\u001b[1;32m----> 9\u001b[1;33m \u001b[0ms3\u001b[0m\u001b[1;33m.\u001b[0m\u001b[0mdrop\u001b[0m\u001b[1;33m(\u001b[0m\u001b[1;33m[\u001b[0m\u001b[1;34m'Labelg'\u001b[0m\u001b[1;33m]\u001b[0m\u001b[1;33m,\u001b[0m \u001b[0maxis\u001b[0m\u001b[1;33m=\u001b[0m\u001b[1;36m1\u001b[0m\u001b[1;33m,\u001b[0m \u001b[0minplace\u001b[0m\u001b[1;33m=\u001b[0m\u001b[1;32mTrue\u001b[0m\u001b[1;33m)\u001b[0m\u001b[1;33m\u001b[0m\u001b[1;33m\u001b[0m\u001b[0m\n\u001b[0m",
      "\u001b[1;32m~\\anaconda3\\envs\\tensorflow\\lib\\site-packages\\pandas\\util\\_decorators.py\u001b[0m in \u001b[0;36mwrapper\u001b[1;34m(*args, **kwargs)\u001b[0m\n\u001b[0;32m    309\u001b[0m                     \u001b[0mstacklevel\u001b[0m\u001b[1;33m=\u001b[0m\u001b[0mstacklevel\u001b[0m\u001b[1;33m,\u001b[0m\u001b[1;33m\u001b[0m\u001b[1;33m\u001b[0m\u001b[0m\n\u001b[0;32m    310\u001b[0m                 )\n\u001b[1;32m--> 311\u001b[1;33m             \u001b[1;32mreturn\u001b[0m \u001b[0mfunc\u001b[0m\u001b[1;33m(\u001b[0m\u001b[1;33m*\u001b[0m\u001b[0margs\u001b[0m\u001b[1;33m,\u001b[0m \u001b[1;33m**\u001b[0m\u001b[0mkwargs\u001b[0m\u001b[1;33m)\u001b[0m\u001b[1;33m\u001b[0m\u001b[1;33m\u001b[0m\u001b[0m\n\u001b[0m\u001b[0;32m    312\u001b[0m \u001b[1;33m\u001b[0m\u001b[0m\n\u001b[0;32m    313\u001b[0m         \u001b[1;32mreturn\u001b[0m \u001b[0mwrapper\u001b[0m\u001b[1;33m\u001b[0m\u001b[1;33m\u001b[0m\u001b[0m\n",
      "\u001b[1;32m~\\anaconda3\\envs\\tensorflow\\lib\\site-packages\\pandas\\core\\frame.py\u001b[0m in \u001b[0;36mdrop\u001b[1;34m(self, labels, axis, index, columns, level, inplace, errors)\u001b[0m\n\u001b[0;32m   4904\u001b[0m                 \u001b[0mweight\u001b[0m  \u001b[1;36m1.0\u001b[0m     \u001b[1;36m0.8\u001b[0m\u001b[1;33m\u001b[0m\u001b[1;33m\u001b[0m\u001b[0m\n\u001b[0;32m   4905\u001b[0m         \"\"\"\n\u001b[1;32m-> 4906\u001b[1;33m         return super().drop(\n\u001b[0m\u001b[0;32m   4907\u001b[0m             \u001b[0mlabels\u001b[0m\u001b[1;33m=\u001b[0m\u001b[0mlabels\u001b[0m\u001b[1;33m,\u001b[0m\u001b[1;33m\u001b[0m\u001b[1;33m\u001b[0m\u001b[0m\n\u001b[0;32m   4908\u001b[0m             \u001b[0maxis\u001b[0m\u001b[1;33m=\u001b[0m\u001b[0maxis\u001b[0m\u001b[1;33m,\u001b[0m\u001b[1;33m\u001b[0m\u001b[1;33m\u001b[0m\u001b[0m\n",
      "\u001b[1;32m~\\anaconda3\\envs\\tensorflow\\lib\\site-packages\\pandas\\core\\generic.py\u001b[0m in \u001b[0;36mdrop\u001b[1;34m(self, labels, axis, index, columns, level, inplace, errors)\u001b[0m\n\u001b[0;32m   4148\u001b[0m         \u001b[1;32mfor\u001b[0m \u001b[0maxis\u001b[0m\u001b[1;33m,\u001b[0m \u001b[0mlabels\u001b[0m \u001b[1;32min\u001b[0m \u001b[0maxes\u001b[0m\u001b[1;33m.\u001b[0m\u001b[0mitems\u001b[0m\u001b[1;33m(\u001b[0m\u001b[1;33m)\u001b[0m\u001b[1;33m:\u001b[0m\u001b[1;33m\u001b[0m\u001b[1;33m\u001b[0m\u001b[0m\n\u001b[0;32m   4149\u001b[0m             \u001b[1;32mif\u001b[0m \u001b[0mlabels\u001b[0m \u001b[1;32mis\u001b[0m \u001b[1;32mnot\u001b[0m \u001b[1;32mNone\u001b[0m\u001b[1;33m:\u001b[0m\u001b[1;33m\u001b[0m\u001b[1;33m\u001b[0m\u001b[0m\n\u001b[1;32m-> 4150\u001b[1;33m                 \u001b[0mobj\u001b[0m \u001b[1;33m=\u001b[0m \u001b[0mobj\u001b[0m\u001b[1;33m.\u001b[0m\u001b[0m_drop_axis\u001b[0m\u001b[1;33m(\u001b[0m\u001b[0mlabels\u001b[0m\u001b[1;33m,\u001b[0m \u001b[0maxis\u001b[0m\u001b[1;33m,\u001b[0m \u001b[0mlevel\u001b[0m\u001b[1;33m=\u001b[0m\u001b[0mlevel\u001b[0m\u001b[1;33m,\u001b[0m \u001b[0merrors\u001b[0m\u001b[1;33m=\u001b[0m\u001b[0merrors\u001b[0m\u001b[1;33m)\u001b[0m\u001b[1;33m\u001b[0m\u001b[1;33m\u001b[0m\u001b[0m\n\u001b[0m\u001b[0;32m   4151\u001b[0m \u001b[1;33m\u001b[0m\u001b[0m\n\u001b[0;32m   4152\u001b[0m         \u001b[1;32mif\u001b[0m \u001b[0minplace\u001b[0m\u001b[1;33m:\u001b[0m\u001b[1;33m\u001b[0m\u001b[1;33m\u001b[0m\u001b[0m\n",
      "\u001b[1;32m~\\anaconda3\\envs\\tensorflow\\lib\\site-packages\\pandas\\core\\generic.py\u001b[0m in \u001b[0;36m_drop_axis\u001b[1;34m(self, labels, axis, level, errors)\u001b[0m\n\u001b[0;32m   4183\u001b[0m                 \u001b[0mnew_axis\u001b[0m \u001b[1;33m=\u001b[0m \u001b[0maxis\u001b[0m\u001b[1;33m.\u001b[0m\u001b[0mdrop\u001b[0m\u001b[1;33m(\u001b[0m\u001b[0mlabels\u001b[0m\u001b[1;33m,\u001b[0m \u001b[0mlevel\u001b[0m\u001b[1;33m=\u001b[0m\u001b[0mlevel\u001b[0m\u001b[1;33m,\u001b[0m \u001b[0merrors\u001b[0m\u001b[1;33m=\u001b[0m\u001b[0merrors\u001b[0m\u001b[1;33m)\u001b[0m\u001b[1;33m\u001b[0m\u001b[1;33m\u001b[0m\u001b[0m\n\u001b[0;32m   4184\u001b[0m             \u001b[1;32melse\u001b[0m\u001b[1;33m:\u001b[0m\u001b[1;33m\u001b[0m\u001b[1;33m\u001b[0m\u001b[0m\n\u001b[1;32m-> 4185\u001b[1;33m                 \u001b[0mnew_axis\u001b[0m \u001b[1;33m=\u001b[0m \u001b[0maxis\u001b[0m\u001b[1;33m.\u001b[0m\u001b[0mdrop\u001b[0m\u001b[1;33m(\u001b[0m\u001b[0mlabels\u001b[0m\u001b[1;33m,\u001b[0m \u001b[0merrors\u001b[0m\u001b[1;33m=\u001b[0m\u001b[0merrors\u001b[0m\u001b[1;33m)\u001b[0m\u001b[1;33m\u001b[0m\u001b[1;33m\u001b[0m\u001b[0m\n\u001b[0m\u001b[0;32m   4186\u001b[0m             \u001b[0mresult\u001b[0m \u001b[1;33m=\u001b[0m \u001b[0mself\u001b[0m\u001b[1;33m.\u001b[0m\u001b[0mreindex\u001b[0m\u001b[1;33m(\u001b[0m\u001b[1;33m**\u001b[0m\u001b[1;33m{\u001b[0m\u001b[0maxis_name\u001b[0m\u001b[1;33m:\u001b[0m \u001b[0mnew_axis\u001b[0m\u001b[1;33m}\u001b[0m\u001b[1;33m)\u001b[0m\u001b[1;33m\u001b[0m\u001b[1;33m\u001b[0m\u001b[0m\n\u001b[0;32m   4187\u001b[0m \u001b[1;33m\u001b[0m\u001b[0m\n",
      "\u001b[1;32m~\\anaconda3\\envs\\tensorflow\\lib\\site-packages\\pandas\\core\\indexes\\base.py\u001b[0m in \u001b[0;36mdrop\u001b[1;34m(self, labels, errors)\u001b[0m\n\u001b[0;32m   6015\u001b[0m         \u001b[1;32mif\u001b[0m \u001b[0mmask\u001b[0m\u001b[1;33m.\u001b[0m\u001b[0many\u001b[0m\u001b[1;33m(\u001b[0m\u001b[1;33m)\u001b[0m\u001b[1;33m:\u001b[0m\u001b[1;33m\u001b[0m\u001b[1;33m\u001b[0m\u001b[0m\n\u001b[0;32m   6016\u001b[0m             \u001b[1;32mif\u001b[0m \u001b[0merrors\u001b[0m \u001b[1;33m!=\u001b[0m \u001b[1;34m\"ignore\"\u001b[0m\u001b[1;33m:\u001b[0m\u001b[1;33m\u001b[0m\u001b[1;33m\u001b[0m\u001b[0m\n\u001b[1;32m-> 6017\u001b[1;33m                 \u001b[1;32mraise\u001b[0m \u001b[0mKeyError\u001b[0m\u001b[1;33m(\u001b[0m\u001b[1;34mf\"{labels[mask]} not found in axis\"\u001b[0m\u001b[1;33m)\u001b[0m\u001b[1;33m\u001b[0m\u001b[1;33m\u001b[0m\u001b[0m\n\u001b[0m\u001b[0;32m   6018\u001b[0m             \u001b[0mindexer\u001b[0m \u001b[1;33m=\u001b[0m \u001b[0mindexer\u001b[0m\u001b[1;33m[\u001b[0m\u001b[1;33m~\u001b[0m\u001b[0mmask\u001b[0m\u001b[1;33m]\u001b[0m\u001b[1;33m\u001b[0m\u001b[1;33m\u001b[0m\u001b[0m\n\u001b[0;32m   6019\u001b[0m         \u001b[1;32mreturn\u001b[0m \u001b[0mself\u001b[0m\u001b[1;33m.\u001b[0m\u001b[0mdelete\u001b[0m\u001b[1;33m(\u001b[0m\u001b[0mindexer\u001b[0m\u001b[1;33m)\u001b[0m\u001b[1;33m\u001b[0m\u001b[1;33m\u001b[0m\u001b[0m\n",
      "\u001b[1;31mKeyError\u001b[0m: \"['Labelg'] not found in axis\""
     ]
    }
   ],
   "source": [
    "# defining arrays for subject specific data\n",
    "#s1 = pd.DataFrame(columns = ['X (rad/s)', 'Y (rad/s)', 'Z (rad/s)', 'X (m/s^2)', 'Y (m/s^2)', 'Z (m/s^2)', 'Labela'])\n",
    "s3 = pd.DataFrame(columns = ['X (rad/s)', 'Y (rad/s)', 'Z (rad/s)', 'X (m/s^2)', 'Y (m/s^2)', 'Z (m/s^2)', 'Labela'])\n",
    "\n",
    "#s1 = pd.concat((gyr_s1, acc_s1), axis = 1)\n",
    "s3 = pd.concat((gyr_s3, acc_s3), axis = 1)\n",
    "\n",
    "#s1.drop(['Labelg'], axis=1, inplace=True)\n",
    "s3.drop(['Labelg'], axis=1, inplace=True)\n"
   ]
  },
  {
   "cell_type": "markdown",
   "metadata": {},
   "source": [
    "## Labeling the data\n",
    "\n"
   ]
  },
  {
   "cell_type": "code",
   "execution_count": 27,
   "metadata": {},
   "outputs": [],
   "source": [
    "# class MultiColumnLabelEncoder:\n",
    "#     def __init__(self,columns = None):\n",
    "#         self.columns = columns # array of column names to encode\n",
    "\n",
    "#     def fit(self,X,y=None):\n",
    "#         return self # not relevant here\n",
    "\n",
    "#     def transform(self,X):\n",
    "#         '''\n",
    "#         Transforms columns of X specified in self.columns using\n",
    "#         LabelEncoder(). If no columns specified, transforms all\n",
    "#         columns in X.\n",
    "#         '''\n",
    "#         output = X.copy()\n",
    "#         if self.columns is not None:\n",
    "#             for col in self.columns:\n",
    "#                 output[col] = LabelEncoder().fit_transform(output[col])\n",
    "#         else:\n",
    "#             for colname,col in output.iteritems():\n",
    "#                 output[colname] = LabelEncoder().fit_transform(col)\n",
    "#         return output\n",
    "#     def fit_transform(self,X,y=None):\n",
    "#         return self.fit(X,y).transform(X)\n"
   ]
  },
  {
   "cell_type": "code",
   "execution_count": 63,
   "metadata": {},
   "outputs": [
    {
     "ename": "KeyError",
     "evalue": "'Labela'",
     "output_type": "error",
     "traceback": [
      "\u001b[1;31m---------------------------------------------------------------------------\u001b[0m",
      "\u001b[1;31mKeyError\u001b[0m                                  Traceback (most recent call last)",
      "\u001b[1;32m~\\anaconda3\\envs\\tensorflow\\lib\\site-packages\\pandas\\core\\indexes\\base.py\u001b[0m in \u001b[0;36mget_loc\u001b[1;34m(self, key, method, tolerance)\u001b[0m\n\u001b[0;32m   3360\u001b[0m             \u001b[1;32mtry\u001b[0m\u001b[1;33m:\u001b[0m\u001b[1;33m\u001b[0m\u001b[1;33m\u001b[0m\u001b[0m\n\u001b[1;32m-> 3361\u001b[1;33m                 \u001b[1;32mreturn\u001b[0m \u001b[0mself\u001b[0m\u001b[1;33m.\u001b[0m\u001b[0m_engine\u001b[0m\u001b[1;33m.\u001b[0m\u001b[0mget_loc\u001b[0m\u001b[1;33m(\u001b[0m\u001b[0mcasted_key\u001b[0m\u001b[1;33m)\u001b[0m\u001b[1;33m\u001b[0m\u001b[1;33m\u001b[0m\u001b[0m\n\u001b[0m\u001b[0;32m   3362\u001b[0m             \u001b[1;32mexcept\u001b[0m \u001b[0mKeyError\u001b[0m \u001b[1;32mas\u001b[0m \u001b[0merr\u001b[0m\u001b[1;33m:\u001b[0m\u001b[1;33m\u001b[0m\u001b[1;33m\u001b[0m\u001b[0m\n",
      "\u001b[1;32m~\\anaconda3\\envs\\tensorflow\\lib\\site-packages\\pandas\\_libs\\index.pyx\u001b[0m in \u001b[0;36mpandas._libs.index.IndexEngine.get_loc\u001b[1;34m()\u001b[0m\n",
      "\u001b[1;32m~\\anaconda3\\envs\\tensorflow\\lib\\site-packages\\pandas\\_libs\\index.pyx\u001b[0m in \u001b[0;36mpandas._libs.index.IndexEngine.get_loc\u001b[1;34m()\u001b[0m\n",
      "\u001b[1;32mpandas\\_libs\\hashtable_class_helper.pxi\u001b[0m in \u001b[0;36mpandas._libs.hashtable.PyObjectHashTable.get_item\u001b[1;34m()\u001b[0m\n",
      "\u001b[1;32mpandas\\_libs\\hashtable_class_helper.pxi\u001b[0m in \u001b[0;36mpandas._libs.hashtable.PyObjectHashTable.get_item\u001b[1;34m()\u001b[0m\n",
      "\u001b[1;31mKeyError\u001b[0m: 'Labela'",
      "\nThe above exception was the direct cause of the following exception:\n",
      "\u001b[1;31mKeyError\u001b[0m                                  Traceback (most recent call last)",
      "\u001b[1;32m~\\AppData\\Local\\Temp/ipykernel_19584/1349763066.py\u001b[0m in \u001b[0;36m<module>\u001b[1;34m\u001b[0m\n\u001b[0;32m      1\u001b[0m \u001b[1;31m# MultiColumnLabelEncoder(columns = ['Labela']).fit_transform(s3)\u001b[0m\u001b[1;33m\u001b[0m\u001b[1;33m\u001b[0m\u001b[1;33m\u001b[0m\u001b[0m\n\u001b[0;32m      2\u001b[0m \u001b[0mlabel\u001b[0m \u001b[1;33m=\u001b[0m \u001b[0mLabelEncoder\u001b[0m\u001b[1;33m(\u001b[0m\u001b[1;33m)\u001b[0m\u001b[1;33m\u001b[0m\u001b[1;33m\u001b[0m\u001b[0m\n\u001b[1;32m----> 3\u001b[1;33m \u001b[0ms3\u001b[0m\u001b[1;33m[\u001b[0m\u001b[1;34m'label'\u001b[0m\u001b[1;33m]\u001b[0m \u001b[1;33m=\u001b[0m \u001b[0mlabel\u001b[0m\u001b[1;33m.\u001b[0m\u001b[0mfit_transform\u001b[0m\u001b[1;33m(\u001b[0m\u001b[0ms3\u001b[0m\u001b[1;33m[\u001b[0m\u001b[1;34m'Labela'\u001b[0m\u001b[1;33m]\u001b[0m\u001b[1;33m)\u001b[0m\u001b[1;33m\u001b[0m\u001b[1;33m\u001b[0m\u001b[0m\n\u001b[0m",
      "\u001b[1;32m~\\anaconda3\\envs\\tensorflow\\lib\\site-packages\\pandas\\core\\frame.py\u001b[0m in \u001b[0;36m__getitem__\u001b[1;34m(self, key)\u001b[0m\n\u001b[0;32m   3456\u001b[0m             \u001b[1;32mif\u001b[0m \u001b[0mself\u001b[0m\u001b[1;33m.\u001b[0m\u001b[0mcolumns\u001b[0m\u001b[1;33m.\u001b[0m\u001b[0mnlevels\u001b[0m \u001b[1;33m>\u001b[0m \u001b[1;36m1\u001b[0m\u001b[1;33m:\u001b[0m\u001b[1;33m\u001b[0m\u001b[1;33m\u001b[0m\u001b[0m\n\u001b[0;32m   3457\u001b[0m                 \u001b[1;32mreturn\u001b[0m \u001b[0mself\u001b[0m\u001b[1;33m.\u001b[0m\u001b[0m_getitem_multilevel\u001b[0m\u001b[1;33m(\u001b[0m\u001b[0mkey\u001b[0m\u001b[1;33m)\u001b[0m\u001b[1;33m\u001b[0m\u001b[1;33m\u001b[0m\u001b[0m\n\u001b[1;32m-> 3458\u001b[1;33m             \u001b[0mindexer\u001b[0m \u001b[1;33m=\u001b[0m \u001b[0mself\u001b[0m\u001b[1;33m.\u001b[0m\u001b[0mcolumns\u001b[0m\u001b[1;33m.\u001b[0m\u001b[0mget_loc\u001b[0m\u001b[1;33m(\u001b[0m\u001b[0mkey\u001b[0m\u001b[1;33m)\u001b[0m\u001b[1;33m\u001b[0m\u001b[1;33m\u001b[0m\u001b[0m\n\u001b[0m\u001b[0;32m   3459\u001b[0m             \u001b[1;32mif\u001b[0m \u001b[0mis_integer\u001b[0m\u001b[1;33m(\u001b[0m\u001b[0mindexer\u001b[0m\u001b[1;33m)\u001b[0m\u001b[1;33m:\u001b[0m\u001b[1;33m\u001b[0m\u001b[1;33m\u001b[0m\u001b[0m\n\u001b[0;32m   3460\u001b[0m                 \u001b[0mindexer\u001b[0m \u001b[1;33m=\u001b[0m \u001b[1;33m[\u001b[0m\u001b[0mindexer\u001b[0m\u001b[1;33m]\u001b[0m\u001b[1;33m\u001b[0m\u001b[1;33m\u001b[0m\u001b[0m\n",
      "\u001b[1;32m~\\anaconda3\\envs\\tensorflow\\lib\\site-packages\\pandas\\core\\indexes\\base.py\u001b[0m in \u001b[0;36mget_loc\u001b[1;34m(self, key, method, tolerance)\u001b[0m\n\u001b[0;32m   3361\u001b[0m                 \u001b[1;32mreturn\u001b[0m \u001b[0mself\u001b[0m\u001b[1;33m.\u001b[0m\u001b[0m_engine\u001b[0m\u001b[1;33m.\u001b[0m\u001b[0mget_loc\u001b[0m\u001b[1;33m(\u001b[0m\u001b[0mcasted_key\u001b[0m\u001b[1;33m)\u001b[0m\u001b[1;33m\u001b[0m\u001b[1;33m\u001b[0m\u001b[0m\n\u001b[0;32m   3362\u001b[0m             \u001b[1;32mexcept\u001b[0m \u001b[0mKeyError\u001b[0m \u001b[1;32mas\u001b[0m \u001b[0merr\u001b[0m\u001b[1;33m:\u001b[0m\u001b[1;33m\u001b[0m\u001b[1;33m\u001b[0m\u001b[0m\n\u001b[1;32m-> 3363\u001b[1;33m                 \u001b[1;32mraise\u001b[0m \u001b[0mKeyError\u001b[0m\u001b[1;33m(\u001b[0m\u001b[0mkey\u001b[0m\u001b[1;33m)\u001b[0m \u001b[1;32mfrom\u001b[0m \u001b[0merr\u001b[0m\u001b[1;33m\u001b[0m\u001b[1;33m\u001b[0m\u001b[0m\n\u001b[0m\u001b[0;32m   3364\u001b[0m \u001b[1;33m\u001b[0m\u001b[0m\n\u001b[0;32m   3365\u001b[0m         \u001b[1;32mif\u001b[0m \u001b[0mis_scalar\u001b[0m\u001b[1;33m(\u001b[0m\u001b[0mkey\u001b[0m\u001b[1;33m)\u001b[0m \u001b[1;32mand\u001b[0m \u001b[0misna\u001b[0m\u001b[1;33m(\u001b[0m\u001b[0mkey\u001b[0m\u001b[1;33m)\u001b[0m \u001b[1;32mand\u001b[0m \u001b[1;32mnot\u001b[0m \u001b[0mself\u001b[0m\u001b[1;33m.\u001b[0m\u001b[0mhasnans\u001b[0m\u001b[1;33m:\u001b[0m\u001b[1;33m\u001b[0m\u001b[1;33m\u001b[0m\u001b[0m\n",
      "\u001b[1;31mKeyError\u001b[0m: 'Labela'"
     ]
    }
   ],
   "source": [
    "# MultiColumnLabelEncoder(columns = ['Labela']).fit_transform(s3)\n",
    "label = LabelEncoder()\n",
    "s3['label'] = label.fit_transform(s3['Labela'])"
   ]
  },
  {
   "cell_type": "markdown",
   "metadata": {},
   "source": [
    "## Normalization"
   ]
  },
  {
   "cell_type": "code",
   "execution_count": 64,
   "metadata": {},
   "outputs": [
    {
     "ename": "ValueError",
     "evalue": "Found array with 0 sample(s) (shape=(0, 6)) while a minimum of 1 is required by the normalize function.",
     "output_type": "error",
     "traceback": [
      "\u001b[1;31m---------------------------------------------------------------------------\u001b[0m",
      "\u001b[1;31mValueError\u001b[0m                                Traceback (most recent call last)",
      "\u001b[1;32m~\\AppData\\Local\\Temp/ipykernel_19584/1192616332.py\u001b[0m in \u001b[0;36m<module>\u001b[1;34m\u001b[0m\n\u001b[0;32m      6\u001b[0m         \u001b[0ms1_n\u001b[0m \u001b[1;33m=\u001b[0m \u001b[0mpreprocessing\u001b[0m\u001b[1;33m.\u001b[0m\u001b[0mnormalize\u001b[0m\u001b[1;33m(\u001b[0m\u001b[0mss\u001b[0m\u001b[1;33m.\u001b[0m\u001b[0miloc\u001b[0m\u001b[1;33m[\u001b[0m\u001b[1;33m:\u001b[0m\u001b[1;33m,\u001b[0m\u001b[1;33m:\u001b[0m\u001b[1;36m6\u001b[0m\u001b[1;33m]\u001b[0m\u001b[1;33m,\u001b[0m\u001b[0maxis\u001b[0m\u001b[1;33m=\u001b[0m\u001b[1;36m1\u001b[0m\u001b[1;33m)\u001b[0m\u001b[1;33m\u001b[0m\u001b[1;33m\u001b[0m\u001b[0m\n\u001b[0;32m      7\u001b[0m     \u001b[1;32melif\u001b[0m \u001b[0mi\u001b[0m \u001b[1;33m==\u001b[0m \u001b[1;36m3\u001b[0m\u001b[1;33m:\u001b[0m\u001b[1;33m\u001b[0m\u001b[1;33m\u001b[0m\u001b[0m\n\u001b[1;32m----> 8\u001b[1;33m         \u001b[0ms3_n\u001b[0m \u001b[1;33m=\u001b[0m \u001b[0mpreprocessing\u001b[0m\u001b[1;33m.\u001b[0m\u001b[0mnormalize\u001b[0m\u001b[1;33m(\u001b[0m\u001b[0mss\u001b[0m\u001b[1;33m.\u001b[0m\u001b[0miloc\u001b[0m\u001b[1;33m[\u001b[0m\u001b[1;33m:\u001b[0m\u001b[1;33m,\u001b[0m\u001b[1;33m:\u001b[0m\u001b[1;36m6\u001b[0m\u001b[1;33m]\u001b[0m\u001b[1;33m,\u001b[0m\u001b[0maxis\u001b[0m\u001b[1;33m=\u001b[0m\u001b[1;36m1\u001b[0m\u001b[1;33m)\u001b[0m\u001b[1;33m\u001b[0m\u001b[1;33m\u001b[0m\u001b[0m\n\u001b[0m",
      "\u001b[1;32m~\\anaconda3\\envs\\tensorflow\\lib\\site-packages\\sklearn\\preprocessing\\_data.py\u001b[0m in \u001b[0;36mnormalize\u001b[1;34m(X, norm, axis, copy, return_norm)\u001b[0m\n\u001b[0;32m   1790\u001b[0m         \u001b[1;32mraise\u001b[0m \u001b[0mValueError\u001b[0m\u001b[1;33m(\u001b[0m\u001b[1;34m\"'%d' is not a supported axis\"\u001b[0m \u001b[1;33m%\u001b[0m \u001b[0maxis\u001b[0m\u001b[1;33m)\u001b[0m\u001b[1;33m\u001b[0m\u001b[1;33m\u001b[0m\u001b[0m\n\u001b[0;32m   1791\u001b[0m \u001b[1;33m\u001b[0m\u001b[0m\n\u001b[1;32m-> 1792\u001b[1;33m     X = check_array(\n\u001b[0m\u001b[0;32m   1793\u001b[0m         \u001b[0mX\u001b[0m\u001b[1;33m,\u001b[0m\u001b[1;33m\u001b[0m\u001b[1;33m\u001b[0m\u001b[0m\n\u001b[0;32m   1794\u001b[0m         \u001b[0maccept_sparse\u001b[0m\u001b[1;33m=\u001b[0m\u001b[0msparse_format\u001b[0m\u001b[1;33m,\u001b[0m\u001b[1;33m\u001b[0m\u001b[1;33m\u001b[0m\u001b[0m\n",
      "\u001b[1;32m~\\anaconda3\\envs\\tensorflow\\lib\\site-packages\\sklearn\\utils\\validation.py\u001b[0m in \u001b[0;36mcheck_array\u001b[1;34m(array, accept_sparse, accept_large_sparse, dtype, order, copy, force_all_finite, ensure_2d, allow_nd, ensure_min_samples, ensure_min_features, estimator)\u001b[0m\n\u001b[0;32m    795\u001b[0m         \u001b[0mn_samples\u001b[0m \u001b[1;33m=\u001b[0m \u001b[0m_num_samples\u001b[0m\u001b[1;33m(\u001b[0m\u001b[0marray\u001b[0m\u001b[1;33m)\u001b[0m\u001b[1;33m\u001b[0m\u001b[1;33m\u001b[0m\u001b[0m\n\u001b[0;32m    796\u001b[0m         \u001b[1;32mif\u001b[0m \u001b[0mn_samples\u001b[0m \u001b[1;33m<\u001b[0m \u001b[0mensure_min_samples\u001b[0m\u001b[1;33m:\u001b[0m\u001b[1;33m\u001b[0m\u001b[1;33m\u001b[0m\u001b[0m\n\u001b[1;32m--> 797\u001b[1;33m             raise ValueError(\n\u001b[0m\u001b[0;32m    798\u001b[0m                 \u001b[1;34m\"Found array with %d sample(s) (shape=%s) while a\"\u001b[0m\u001b[1;33m\u001b[0m\u001b[1;33m\u001b[0m\u001b[0m\n\u001b[0;32m    799\u001b[0m                 \u001b[1;34m\" minimum of %d is required%s.\"\u001b[0m\u001b[1;33m\u001b[0m\u001b[1;33m\u001b[0m\u001b[0m\n",
      "\u001b[1;31mValueError\u001b[0m: Found array with 0 sample(s) (shape=(0, 6)) while a minimum of 1 is required by the normalize function."
     ]
    }
   ],
   "source": [
    "s1_n = []; s3_n = []\n",
    "\n",
    "for i in smartphone:\n",
    "    ss = eval(f's{i}')\n",
    "    if i == 1:\n",
    "        s1_n = preprocessing.normalize(ss.iloc[:,:6],axis=1)\n",
    "    elif i == 3:\n",
    "        s3_n = preprocessing.normalize(ss.iloc[:,:6],axis=1)"
   ]
  },
  {
   "cell_type": "code",
   "execution_count": 65,
   "metadata": {},
   "outputs": [
    {
     "ename": "KeyError",
     "evalue": "'Labela'",
     "output_type": "error",
     "traceback": [
      "\u001b[1;31m---------------------------------------------------------------------------\u001b[0m",
      "\u001b[1;31mKeyError\u001b[0m                                  Traceback (most recent call last)",
      "\u001b[1;32m~\\anaconda3\\envs\\tensorflow\\lib\\site-packages\\pandas\\core\\indexes\\base.py\u001b[0m in \u001b[0;36mget_loc\u001b[1;34m(self, key, method, tolerance)\u001b[0m\n\u001b[0;32m   3360\u001b[0m             \u001b[1;32mtry\u001b[0m\u001b[1;33m:\u001b[0m\u001b[1;33m\u001b[0m\u001b[1;33m\u001b[0m\u001b[0m\n\u001b[1;32m-> 3361\u001b[1;33m                 \u001b[1;32mreturn\u001b[0m \u001b[0mself\u001b[0m\u001b[1;33m.\u001b[0m\u001b[0m_engine\u001b[0m\u001b[1;33m.\u001b[0m\u001b[0mget_loc\u001b[0m\u001b[1;33m(\u001b[0m\u001b[0mcasted_key\u001b[0m\u001b[1;33m)\u001b[0m\u001b[1;33m\u001b[0m\u001b[1;33m\u001b[0m\u001b[0m\n\u001b[0m\u001b[0;32m   3362\u001b[0m             \u001b[1;32mexcept\u001b[0m \u001b[0mKeyError\u001b[0m \u001b[1;32mas\u001b[0m \u001b[0merr\u001b[0m\u001b[1;33m:\u001b[0m\u001b[1;33m\u001b[0m\u001b[1;33m\u001b[0m\u001b[0m\n",
      "\u001b[1;32m~\\anaconda3\\envs\\tensorflow\\lib\\site-packages\\pandas\\_libs\\index.pyx\u001b[0m in \u001b[0;36mpandas._libs.index.IndexEngine.get_loc\u001b[1;34m()\u001b[0m\n",
      "\u001b[1;32m~\\anaconda3\\envs\\tensorflow\\lib\\site-packages\\pandas\\_libs\\index.pyx\u001b[0m in \u001b[0;36mpandas._libs.index.IndexEngine.get_loc\u001b[1;34m()\u001b[0m\n",
      "\u001b[1;32mpandas\\_libs\\hashtable_class_helper.pxi\u001b[0m in \u001b[0;36mpandas._libs.hashtable.PyObjectHashTable.get_item\u001b[1;34m()\u001b[0m\n",
      "\u001b[1;32mpandas\\_libs\\hashtable_class_helper.pxi\u001b[0m in \u001b[0;36mpandas._libs.hashtable.PyObjectHashTable.get_item\u001b[1;34m()\u001b[0m\n",
      "\u001b[1;31mKeyError\u001b[0m: 'Labela'",
      "\nThe above exception was the direct cause of the following exception:\n",
      "\u001b[1;31mKeyError\u001b[0m                                  Traceback (most recent call last)",
      "\u001b[1;32m~\\AppData\\Local\\Temp/ipykernel_19584/2648050796.py\u001b[0m in \u001b[0;36m<module>\u001b[1;34m\u001b[0m\n\u001b[0;32m      1\u001b[0m \u001b[0msp\u001b[0m\u001b[1;33m=\u001b[0m\u001b[0mpd\u001b[0m\u001b[1;33m.\u001b[0m\u001b[0mDataFrame\u001b[0m\u001b[1;33m(\u001b[0m\u001b[0mdata\u001b[0m\u001b[1;33m=\u001b[0m\u001b[0ms3_n\u001b[0m\u001b[1;33m,\u001b[0m\u001b[0mcolumns\u001b[0m\u001b[1;33m=\u001b[0m\u001b[1;33m[\u001b[0m\u001b[1;34m'X(rad/s)'\u001b[0m\u001b[1;33m,\u001b[0m\u001b[1;34m'Y(rad/s)'\u001b[0m\u001b[1;33m,\u001b[0m\u001b[1;34m'Z(rad/s)'\u001b[0m\u001b[1;33m,\u001b[0m\u001b[1;34m'X(m/s^2)'\u001b[0m\u001b[1;33m,\u001b[0m\u001b[1;34m'Y(m/s^2)'\u001b[0m\u001b[1;33m,\u001b[0m\u001b[1;34m'Z(m/s^2)'\u001b[0m\u001b[1;33m]\u001b[0m\u001b[1;33m)\u001b[0m\u001b[1;33m\u001b[0m\u001b[1;33m\u001b[0m\u001b[0m\n\u001b[1;32m----> 2\u001b[1;33m \u001b[0msp\u001b[0m\u001b[1;33m[\u001b[0m\u001b[1;34m'Label'\u001b[0m\u001b[1;33m]\u001b[0m\u001b[1;33m=\u001b[0m\u001b[0ms3\u001b[0m\u001b[1;33m[\u001b[0m\u001b[1;34m'Labela'\u001b[0m\u001b[1;33m]\u001b[0m\u001b[1;33m\u001b[0m\u001b[1;33m\u001b[0m\u001b[0m\n\u001b[0m",
      "\u001b[1;32m~\\anaconda3\\envs\\tensorflow\\lib\\site-packages\\pandas\\core\\frame.py\u001b[0m in \u001b[0;36m__getitem__\u001b[1;34m(self, key)\u001b[0m\n\u001b[0;32m   3456\u001b[0m             \u001b[1;32mif\u001b[0m \u001b[0mself\u001b[0m\u001b[1;33m.\u001b[0m\u001b[0mcolumns\u001b[0m\u001b[1;33m.\u001b[0m\u001b[0mnlevels\u001b[0m \u001b[1;33m>\u001b[0m \u001b[1;36m1\u001b[0m\u001b[1;33m:\u001b[0m\u001b[1;33m\u001b[0m\u001b[1;33m\u001b[0m\u001b[0m\n\u001b[0;32m   3457\u001b[0m                 \u001b[1;32mreturn\u001b[0m \u001b[0mself\u001b[0m\u001b[1;33m.\u001b[0m\u001b[0m_getitem_multilevel\u001b[0m\u001b[1;33m(\u001b[0m\u001b[0mkey\u001b[0m\u001b[1;33m)\u001b[0m\u001b[1;33m\u001b[0m\u001b[1;33m\u001b[0m\u001b[0m\n\u001b[1;32m-> 3458\u001b[1;33m             \u001b[0mindexer\u001b[0m \u001b[1;33m=\u001b[0m \u001b[0mself\u001b[0m\u001b[1;33m.\u001b[0m\u001b[0mcolumns\u001b[0m\u001b[1;33m.\u001b[0m\u001b[0mget_loc\u001b[0m\u001b[1;33m(\u001b[0m\u001b[0mkey\u001b[0m\u001b[1;33m)\u001b[0m\u001b[1;33m\u001b[0m\u001b[1;33m\u001b[0m\u001b[0m\n\u001b[0m\u001b[0;32m   3459\u001b[0m             \u001b[1;32mif\u001b[0m \u001b[0mis_integer\u001b[0m\u001b[1;33m(\u001b[0m\u001b[0mindexer\u001b[0m\u001b[1;33m)\u001b[0m\u001b[1;33m:\u001b[0m\u001b[1;33m\u001b[0m\u001b[1;33m\u001b[0m\u001b[0m\n\u001b[0;32m   3460\u001b[0m                 \u001b[0mindexer\u001b[0m \u001b[1;33m=\u001b[0m \u001b[1;33m[\u001b[0m\u001b[0mindexer\u001b[0m\u001b[1;33m]\u001b[0m\u001b[1;33m\u001b[0m\u001b[1;33m\u001b[0m\u001b[0m\n",
      "\u001b[1;32m~\\anaconda3\\envs\\tensorflow\\lib\\site-packages\\pandas\\core\\indexes\\base.py\u001b[0m in \u001b[0;36mget_loc\u001b[1;34m(self, key, method, tolerance)\u001b[0m\n\u001b[0;32m   3361\u001b[0m                 \u001b[1;32mreturn\u001b[0m \u001b[0mself\u001b[0m\u001b[1;33m.\u001b[0m\u001b[0m_engine\u001b[0m\u001b[1;33m.\u001b[0m\u001b[0mget_loc\u001b[0m\u001b[1;33m(\u001b[0m\u001b[0mcasted_key\u001b[0m\u001b[1;33m)\u001b[0m\u001b[1;33m\u001b[0m\u001b[1;33m\u001b[0m\u001b[0m\n\u001b[0;32m   3362\u001b[0m             \u001b[1;32mexcept\u001b[0m \u001b[0mKeyError\u001b[0m \u001b[1;32mas\u001b[0m \u001b[0merr\u001b[0m\u001b[1;33m:\u001b[0m\u001b[1;33m\u001b[0m\u001b[1;33m\u001b[0m\u001b[0m\n\u001b[1;32m-> 3363\u001b[1;33m                 \u001b[1;32mraise\u001b[0m \u001b[0mKeyError\u001b[0m\u001b[1;33m(\u001b[0m\u001b[0mkey\u001b[0m\u001b[1;33m)\u001b[0m \u001b[1;32mfrom\u001b[0m \u001b[0merr\u001b[0m\u001b[1;33m\u001b[0m\u001b[1;33m\u001b[0m\u001b[0m\n\u001b[0m\u001b[0;32m   3364\u001b[0m \u001b[1;33m\u001b[0m\u001b[0m\n\u001b[0;32m   3365\u001b[0m         \u001b[1;32mif\u001b[0m \u001b[0mis_scalar\u001b[0m\u001b[1;33m(\u001b[0m\u001b[0mkey\u001b[0m\u001b[1;33m)\u001b[0m \u001b[1;32mand\u001b[0m \u001b[0misna\u001b[0m\u001b[1;33m(\u001b[0m\u001b[0mkey\u001b[0m\u001b[1;33m)\u001b[0m \u001b[1;32mand\u001b[0m \u001b[1;32mnot\u001b[0m \u001b[0mself\u001b[0m\u001b[1;33m.\u001b[0m\u001b[0mhasnans\u001b[0m\u001b[1;33m:\u001b[0m\u001b[1;33m\u001b[0m\u001b[1;33m\u001b[0m\u001b[0m\n",
      "\u001b[1;31mKeyError\u001b[0m: 'Labela'"
     ]
    }
   ],
   "source": [
    "sp=pd.DataFrame(data=s3_n,columns=['X(rad/s)','Y(rad/s)','Z(rad/s)','X(m/s^2)','Y(m/s^2)','Z(m/s^2)'])\n",
    "sp['Label']=s3['Labela']\n"
   ]
  },
  {
   "cell_type": "markdown",
   "metadata": {},
   "source": [
    " ## PCA"
   ]
  },
  {
   "cell_type": "markdown",
   "metadata": {},
   "source": [
    "### StandardScalar "
   ]
  },
  {
   "cell_type": "code",
   "execution_count": null,
   "metadata": {},
   "outputs": [],
   "source": [
    "'''\n",
    "# ## Run PCA on the data\n",
    "# for i in smartphone:\n",
    "#     phone = eval(f's{i}')\n",
    "#     phone = phone.iloc[:,:6]\n",
    "\n",
    "#     scaler = StandardScaler()\n",
    "#     scaler.fit(phone)\n",
    "#     scaled_data = scaler.transform(phone)\n",
    "\n",
    "#     #pca = PCA(n_components = 2)\n",
    "#     #phone= pca.fit(scaled_data).transform(scaled_data)\n"
   ]
  },
  {
   "cell_type": "markdown",
   "metadata": {},
   "source": [
    "### RobustScalar"
   ]
  },
  {
   "cell_type": "code",
   "execution_count": 66,
   "metadata": {},
   "outputs": [
    {
     "ename": "SyntaxError",
     "evalue": "EOF while scanning triple-quoted string literal (Temp/ipykernel_19584/59817342.py, line 10)",
     "output_type": "error",
     "traceback": [
      "\u001b[1;36m  File \u001b[1;32m\"C:\\Users\\Dell\\AppData\\Local\\Temp/ipykernel_19584/59817342.py\"\u001b[1;36m, line \u001b[1;32m10\u001b[0m\n\u001b[1;33m    \u001b[0m\n\u001b[1;37m    ^\u001b[0m\n\u001b[1;31mSyntaxError\u001b[0m\u001b[1;31m:\u001b[0m EOF while scanning triple-quoted string literal\n"
     ]
    }
   ],
   "source": [
    "'''''\n",
    "# for i in smartphone:\n",
    "#    phone=eval(f's{i}') \n",
    "#    phone=phone.iloc[:,:6]\n",
    "#    scaler = RobustScaler()\n",
    "# # fit and transform the data\n",
    "#    df_robust = scaler.fit_transform(phone)\n",
    "#    pca=PCA(n_components=6)\n",
    "#    phone=pca.fit(df_robust).transform(df_robust)\n",
    "\n"
   ]
  },
  {
   "cell_type": "markdown",
   "metadata": {},
   "source": [
    "### MinMaxScalar()"
   ]
  },
  {
   "cell_type": "code",
   "execution_count": 67,
   "metadata": {},
   "outputs": [
    {
     "ename": "ValueError",
     "evalue": "Found array with 0 sample(s) (shape=(0, 6)) while a minimum of 1 is required by MinMaxScaler.",
     "output_type": "error",
     "traceback": [
      "\u001b[1;31m---------------------------------------------------------------------------\u001b[0m",
      "\u001b[1;31mValueError\u001b[0m                                Traceback (most recent call last)",
      "\u001b[1;32m~\\AppData\\Local\\Temp/ipykernel_19584/1248602862.py\u001b[0m in \u001b[0;36m<module>\u001b[1;34m\u001b[0m\n\u001b[0;32m      4\u001b[0m    \u001b[0mscaler\u001b[0m \u001b[1;33m=\u001b[0m \u001b[0mMinMaxScaler\u001b[0m\u001b[1;33m(\u001b[0m\u001b[1;33m)\u001b[0m\u001b[1;33m\u001b[0m\u001b[1;33m\u001b[0m\u001b[0m\n\u001b[0;32m      5\u001b[0m \u001b[1;31m# fit and transform the data\u001b[0m\u001b[1;33m\u001b[0m\u001b[1;33m\u001b[0m\u001b[1;33m\u001b[0m\u001b[0m\n\u001b[1;32m----> 6\u001b[1;33m    \u001b[0mdf_robust\u001b[0m \u001b[1;33m=\u001b[0m \u001b[0mscaler\u001b[0m\u001b[1;33m.\u001b[0m\u001b[0mfit_transform\u001b[0m\u001b[1;33m(\u001b[0m\u001b[0mphone\u001b[0m\u001b[1;33m)\u001b[0m\u001b[1;33m\u001b[0m\u001b[1;33m\u001b[0m\u001b[0m\n\u001b[0m\u001b[0;32m      7\u001b[0m    \u001b[0mpca\u001b[0m\u001b[1;33m=\u001b[0m\u001b[0mPCA\u001b[0m\u001b[1;33m(\u001b[0m\u001b[0mn_components\u001b[0m\u001b[1;33m=\u001b[0m\u001b[1;36m4\u001b[0m\u001b[1;33m)\u001b[0m\u001b[1;33m\u001b[0m\u001b[1;33m\u001b[0m\u001b[0m\n\u001b[0;32m      8\u001b[0m    \u001b[0mphone\u001b[0m\u001b[1;33m=\u001b[0m\u001b[0mpca\u001b[0m\u001b[1;33m.\u001b[0m\u001b[0mfit\u001b[0m\u001b[1;33m(\u001b[0m\u001b[0mdf_robust\u001b[0m\u001b[1;33m)\u001b[0m\u001b[1;33m.\u001b[0m\u001b[0mtransform\u001b[0m\u001b[1;33m(\u001b[0m\u001b[0mdf_robust\u001b[0m\u001b[1;33m)\u001b[0m\u001b[1;33m\u001b[0m\u001b[1;33m\u001b[0m\u001b[0m\n",
      "\u001b[1;32m~\\anaconda3\\envs\\tensorflow\\lib\\site-packages\\sklearn\\base.py\u001b[0m in \u001b[0;36mfit_transform\u001b[1;34m(self, X, y, **fit_params)\u001b[0m\n\u001b[0;32m    845\u001b[0m         \u001b[1;32mif\u001b[0m \u001b[0my\u001b[0m \u001b[1;32mis\u001b[0m \u001b[1;32mNone\u001b[0m\u001b[1;33m:\u001b[0m\u001b[1;33m\u001b[0m\u001b[1;33m\u001b[0m\u001b[0m\n\u001b[0;32m    846\u001b[0m             \u001b[1;31m# fit method of arity 1 (unsupervised transformation)\u001b[0m\u001b[1;33m\u001b[0m\u001b[1;33m\u001b[0m\u001b[1;33m\u001b[0m\u001b[0m\n\u001b[1;32m--> 847\u001b[1;33m             \u001b[1;32mreturn\u001b[0m \u001b[0mself\u001b[0m\u001b[1;33m.\u001b[0m\u001b[0mfit\u001b[0m\u001b[1;33m(\u001b[0m\u001b[0mX\u001b[0m\u001b[1;33m,\u001b[0m \u001b[1;33m**\u001b[0m\u001b[0mfit_params\u001b[0m\u001b[1;33m)\u001b[0m\u001b[1;33m.\u001b[0m\u001b[0mtransform\u001b[0m\u001b[1;33m(\u001b[0m\u001b[0mX\u001b[0m\u001b[1;33m)\u001b[0m\u001b[1;33m\u001b[0m\u001b[1;33m\u001b[0m\u001b[0m\n\u001b[0m\u001b[0;32m    848\u001b[0m         \u001b[1;32melse\u001b[0m\u001b[1;33m:\u001b[0m\u001b[1;33m\u001b[0m\u001b[1;33m\u001b[0m\u001b[0m\n\u001b[0;32m    849\u001b[0m             \u001b[1;31m# fit method of arity 2 (supervised transformation)\u001b[0m\u001b[1;33m\u001b[0m\u001b[1;33m\u001b[0m\u001b[1;33m\u001b[0m\u001b[0m\n",
      "\u001b[1;32m~\\anaconda3\\envs\\tensorflow\\lib\\site-packages\\sklearn\\preprocessing\\_data.py\u001b[0m in \u001b[0;36mfit\u001b[1;34m(self, X, y)\u001b[0m\n\u001b[0;32m    414\u001b[0m         \u001b[1;31m# Reset internal state before fitting\u001b[0m\u001b[1;33m\u001b[0m\u001b[1;33m\u001b[0m\u001b[1;33m\u001b[0m\u001b[0m\n\u001b[0;32m    415\u001b[0m         \u001b[0mself\u001b[0m\u001b[1;33m.\u001b[0m\u001b[0m_reset\u001b[0m\u001b[1;33m(\u001b[0m\u001b[1;33m)\u001b[0m\u001b[1;33m\u001b[0m\u001b[1;33m\u001b[0m\u001b[0m\n\u001b[1;32m--> 416\u001b[1;33m         \u001b[1;32mreturn\u001b[0m \u001b[0mself\u001b[0m\u001b[1;33m.\u001b[0m\u001b[0mpartial_fit\u001b[0m\u001b[1;33m(\u001b[0m\u001b[0mX\u001b[0m\u001b[1;33m,\u001b[0m \u001b[0my\u001b[0m\u001b[1;33m)\u001b[0m\u001b[1;33m\u001b[0m\u001b[1;33m\u001b[0m\u001b[0m\n\u001b[0m\u001b[0;32m    417\u001b[0m \u001b[1;33m\u001b[0m\u001b[0m\n\u001b[0;32m    418\u001b[0m     \u001b[1;32mdef\u001b[0m \u001b[0mpartial_fit\u001b[0m\u001b[1;33m(\u001b[0m\u001b[0mself\u001b[0m\u001b[1;33m,\u001b[0m \u001b[0mX\u001b[0m\u001b[1;33m,\u001b[0m \u001b[0my\u001b[0m\u001b[1;33m=\u001b[0m\u001b[1;32mNone\u001b[0m\u001b[1;33m)\u001b[0m\u001b[1;33m:\u001b[0m\u001b[1;33m\u001b[0m\u001b[1;33m\u001b[0m\u001b[0m\n",
      "\u001b[1;32m~\\anaconda3\\envs\\tensorflow\\lib\\site-packages\\sklearn\\preprocessing\\_data.py\u001b[0m in \u001b[0;36mpartial_fit\u001b[1;34m(self, X, y)\u001b[0m\n\u001b[0;32m    451\u001b[0m \u001b[1;33m\u001b[0m\u001b[0m\n\u001b[0;32m    452\u001b[0m         \u001b[0mfirst_pass\u001b[0m \u001b[1;33m=\u001b[0m \u001b[1;32mnot\u001b[0m \u001b[0mhasattr\u001b[0m\u001b[1;33m(\u001b[0m\u001b[0mself\u001b[0m\u001b[1;33m,\u001b[0m \u001b[1;34m\"n_samples_seen_\"\u001b[0m\u001b[1;33m)\u001b[0m\u001b[1;33m\u001b[0m\u001b[1;33m\u001b[0m\u001b[0m\n\u001b[1;32m--> 453\u001b[1;33m         X = self._validate_data(\n\u001b[0m\u001b[0;32m    454\u001b[0m             \u001b[0mX\u001b[0m\u001b[1;33m,\u001b[0m\u001b[1;33m\u001b[0m\u001b[1;33m\u001b[0m\u001b[0m\n\u001b[0;32m    455\u001b[0m             \u001b[0mreset\u001b[0m\u001b[1;33m=\u001b[0m\u001b[0mfirst_pass\u001b[0m\u001b[1;33m,\u001b[0m\u001b[1;33m\u001b[0m\u001b[1;33m\u001b[0m\u001b[0m\n",
      "\u001b[1;32m~\\anaconda3\\envs\\tensorflow\\lib\\site-packages\\sklearn\\base.py\u001b[0m in \u001b[0;36m_validate_data\u001b[1;34m(self, X, y, reset, validate_separately, **check_params)\u001b[0m\n\u001b[0;32m    559\u001b[0m             \u001b[1;32mraise\u001b[0m \u001b[0mValueError\u001b[0m\u001b[1;33m(\u001b[0m\u001b[1;34m\"Validation should be done on X, y or both.\"\u001b[0m\u001b[1;33m)\u001b[0m\u001b[1;33m\u001b[0m\u001b[1;33m\u001b[0m\u001b[0m\n\u001b[0;32m    560\u001b[0m         \u001b[1;32melif\u001b[0m \u001b[1;32mnot\u001b[0m \u001b[0mno_val_X\u001b[0m \u001b[1;32mand\u001b[0m \u001b[0mno_val_y\u001b[0m\u001b[1;33m:\u001b[0m\u001b[1;33m\u001b[0m\u001b[1;33m\u001b[0m\u001b[0m\n\u001b[1;32m--> 561\u001b[1;33m             \u001b[0mX\u001b[0m \u001b[1;33m=\u001b[0m \u001b[0mcheck_array\u001b[0m\u001b[1;33m(\u001b[0m\u001b[0mX\u001b[0m\u001b[1;33m,\u001b[0m \u001b[1;33m**\u001b[0m\u001b[0mcheck_params\u001b[0m\u001b[1;33m)\u001b[0m\u001b[1;33m\u001b[0m\u001b[1;33m\u001b[0m\u001b[0m\n\u001b[0m\u001b[0;32m    562\u001b[0m             \u001b[0mout\u001b[0m \u001b[1;33m=\u001b[0m \u001b[0mX\u001b[0m\u001b[1;33m\u001b[0m\u001b[1;33m\u001b[0m\u001b[0m\n\u001b[0;32m    563\u001b[0m         \u001b[1;32melif\u001b[0m \u001b[0mno_val_X\u001b[0m \u001b[1;32mand\u001b[0m \u001b[1;32mnot\u001b[0m \u001b[0mno_val_y\u001b[0m\u001b[1;33m:\u001b[0m\u001b[1;33m\u001b[0m\u001b[1;33m\u001b[0m\u001b[0m\n",
      "\u001b[1;32m~\\anaconda3\\envs\\tensorflow\\lib\\site-packages\\sklearn\\utils\\validation.py\u001b[0m in \u001b[0;36mcheck_array\u001b[1;34m(array, accept_sparse, accept_large_sparse, dtype, order, copy, force_all_finite, ensure_2d, allow_nd, ensure_min_samples, ensure_min_features, estimator)\u001b[0m\n\u001b[0;32m    795\u001b[0m         \u001b[0mn_samples\u001b[0m \u001b[1;33m=\u001b[0m \u001b[0m_num_samples\u001b[0m\u001b[1;33m(\u001b[0m\u001b[0marray\u001b[0m\u001b[1;33m)\u001b[0m\u001b[1;33m\u001b[0m\u001b[1;33m\u001b[0m\u001b[0m\n\u001b[0;32m    796\u001b[0m         \u001b[1;32mif\u001b[0m \u001b[0mn_samples\u001b[0m \u001b[1;33m<\u001b[0m \u001b[0mensure_min_samples\u001b[0m\u001b[1;33m:\u001b[0m\u001b[1;33m\u001b[0m\u001b[1;33m\u001b[0m\u001b[0m\n\u001b[1;32m--> 797\u001b[1;33m             raise ValueError(\n\u001b[0m\u001b[0;32m    798\u001b[0m                 \u001b[1;34m\"Found array with %d sample(s) (shape=%s) while a\"\u001b[0m\u001b[1;33m\u001b[0m\u001b[1;33m\u001b[0m\u001b[0m\n\u001b[0;32m    799\u001b[0m                 \u001b[1;34m\" minimum of %d is required%s.\"\u001b[0m\u001b[1;33m\u001b[0m\u001b[1;33m\u001b[0m\u001b[0m\n",
      "\u001b[1;31mValueError\u001b[0m: Found array with 0 sample(s) (shape=(0, 6)) while a minimum of 1 is required by MinMaxScaler."
     ]
    }
   ],
   "source": [
    "\n",
    "for i in smartphone:\n",
    "   phone=eval(f'sp') \n",
    "   phone=phone.iloc[:,:6]\n",
    "   scaler = MinMaxScaler()\n",
    "# fit and transform the data\n",
    "   df_robust = scaler.fit_transform(phone)\n",
    "   pca=PCA(n_components=4)\n",
    "   phone=pca.fit(df_robust).transform(df_robust)\n",
    "phone.shape\n",
    "phone\n",
    "Pp=pd.DataFrame(data=phone)"
   ]
  },
  {
   "cell_type": "markdown",
   "metadata": {},
   "source": [
    "## Checking the changes in data"
   ]
  },
  {
   "cell_type": "code",
   "execution_count": 325,
   "metadata": {},
   "outputs": [
    {
     "name": "stderr",
     "output_type": "stream",
     "text": [
      "No handles with labels found to put in legend.\n",
      "No handles with labels found to put in legend.\n"
     ]
    },
    {
     "data": {
      "application/vnd.jupyter.widget-view+json": {
       "model_id": "269633e760134fcb977ae8cf8d9f5812",
       "version_major": 2,
       "version_minor": 0
      },
      "text/html": [
       "\n",
       "            <div style=\"display: inline-block;\">\n",
       "                <div class=\"jupyter-widgets widget-label\" style=\"text-align: center;\">\n",
       "                    Figure\n",
       "                </div>\n",
       "                <img src='data:image/png;base64,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' width=640.0/>\n",
       "            </div>\n",
       "        "
      ],
      "text/plain": [
       "Canvas(toolbar=Toolbar(toolitems=[('Home', 'Reset original view', 'home', 'home'), ('Back', 'Back to previous …"
      ]
     },
     "metadata": {},
     "output_type": "display_data"
    }
   ],
   "source": [
    "# plt.close()\n",
    "# fig, axs = plt.subplots(2,1)\n",
    "# fig.suptitle('Comparision of Resampled Data')\n",
    "\n",
    "# # axs[0].plot(eval(f'gyr{pos}_s{loc}')[no].iloc[:,(axis+1)], label='Raw Data', c = 'c')\n",
    "# # axs[0].plot(eval(f'gyrFiltered{pos}_s{loc}')[no][:,axis], label='Filtered Data', c = 'b')\n",
    "# axs[0].plot(Pp.iloc[:,0])\n",
    "# axs[1].plot(s3.iloc[:,0])\n",
    "# axs[0].legend()\n",
    "# axs[1].legend()\n",
    "# plt.show()"
   ]
  },
  {
   "cell_type": "code",
   "execution_count": null,
   "metadata": {},
   "outputs": [],
   "source": [
    "# import plotly.express as px\n",
    "\n",
    "\n",
    "# df = px.data.s3()\n",
    "# X = df[['sepal_length', 'sepal_width', 'petal_length', 'petal_width']]\n",
    "\n",
    "# pca = PCA(n_components=2)\n",
    "# components = pca.fit_transform(X)\n",
    "\n",
    "# fig = px.scatter(components, x=0, y=1, color=df['species'])\n",
    "# fig.show()"
   ]
  },
  {
   "cell_type": "markdown",
   "metadata": {},
   "source": [
    "## PCA PLOTS"
   ]
  },
  {
   "cell_type": "code",
   "execution_count": 326,
   "metadata": {},
   "outputs": [
    {
     "data": {
      "application/vnd.jupyter.widget-view+json": {
       "model_id": "c491300b82994339b2875bc68c69e932",
       "version_major": 2,
       "version_minor": 0
      },
      "text/html": [
       "\n",
       "            <div style=\"display: inline-block;\">\n",
       "                <div class=\"jupyter-widgets widget-label\" style=\"text-align: center;\">\n",
       "                    Figure\n",
       "                </div>\n",
       "                <img src='data:image/png;base64,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' width=500.0/>\n",
       "            </div>\n",
       "        "
      ],
      "text/plain": [
       "Canvas(toolbar=Toolbar(toolitems=[('Home', 'Reset original view', 'home', 'home'), ('Back', 'Back to previous …"
      ]
     },
     "metadata": {},
     "output_type": "display_data"
    }
   ],
   "source": [
    "plt.close()\n",
    "plt.figure(figsize=(5,5))\n",
    "plt.scatter(phone[:,0], phone[:,1], c =s3['label'], cmap = 'viridis', alpha = 0.3)\n",
    "plt.title('Principal Component Analysis')\n",
    "plt.xlabel('First Principal Component')\n",
    "plt.ylabel('Second Principal Component')\n",
    "\n",
    "plt.show()\n",
    "\n",
    "plt.savefig('PCA.png')"
   ]
  },
  {
   "cell_type": "code",
   "execution_count": 327,
   "metadata": {},
   "outputs": [
    {
     "data": {
      "application/vnd.jupyter.widget-view+json": {
       "model_id": "6da12167c588414ba7212bc4c9808374",
       "version_major": 2,
       "version_minor": 0
      },
      "text/html": [
       "\n",
       "            <div style=\"display: inline-block;\">\n",
       "                <div class=\"jupyter-widgets widget-label\" style=\"text-align: center;\">\n",
       "                    Figure\n",
       "                </div>\n",
       "                <img src='data:image/png;base64,iVBORw0KGgoAAAANSUhEUgAAAoAAAAHgCAYAAAA10dzkAAAAOXRFWHRTb2Z0d2FyZQBNYXRwbG90bGliIHZlcnNpb24zLjMuNCwgaHR0cHM6Ly9tYXRwbG90bGliLm9yZy8QVMy6AAAACXBIWXMAAA9hAAAPYQGoP6dpAABcNElEQVR4nO3deVhUZf8/8PcAww6KG6Ig4L7gUliJ5pZCmZrp1zK13EvDDXGDtFJbQE3ESsjd6snll0tZWjGPj7tpSaCZmrmF6CDhBoLCAOf3x4lBBPQAM9yzvF/XNVf3nDlz5jOfjvX2PnPOUUmSJIGIiIiIrIaN6AKIiIiIqHoxABIRERFZGQZAIiIiIivDAEhERERkZRgAiYiIiKwMAyARERGRlWEAJCIiIrIyDIBEREREVoYBkIiIiMjKMAASERERWRkGQCIiIiIrwwBIREREZGUYAImIiIisDAMgERERkZVhACQiIiKyMgyARERERFaGAZCIiIjIyjAAEhEREVkZBkAiIiIiK8MASERERGRlGACJiIiIrAwDIBEREZGVYQAkIiIisjIMgERERERWhgGQiIiIyMowABIRERFZGQZAIiIiIivDAEhERERkZRgAiYiIiKwMAyARERGRlWEAJCIiIrIyDIBEREREVoYBkIiIiMjKMAASERERWRkGQCIiIiIrwwBIREREZGUYAIlImKNHj2LgwIFo1KgRHBwc4OnpiaCgIEyfPl10aRW2fv16qFQq/cPOzg7e3t4YPXo0rly5ol9v7969UKlU2Lt3b4U/4/Dhw5g3bx5u3bpluMKJyCoxABKREDt37kTnzp2RmZmJRYsWISEhAcuWLUOXLl2wefNm0eVV2rp16/Dzzz9Do9Hg9ddfx8aNG9G1a1dkZ2dXeduHDx/G/PnzGQCJqMrsRBdARNZp0aJF8Pf3x08//QQ7u+L/FL3yyitYtGiRQT4jJycHzs7OBtmWUgEBAejYsSMAoGfPnigoKMB7772Hb775BsOHD6/WWoiIysMZQCIS4vr166hTp06J8FfExqb0f5o2bNiAoKAguLq6wtXVFR06dMCaNWv0r/fo0QMBAQHYv38/OnfuDGdnZ4wZMwYAkJmZiRkzZsDf3x/29vZo2LAhwsLCSs3KSZKEuLg4dOjQAU5OTvDw8MDgwYNx4cKFSn/PTp06AQD+/vvvh663Y8cOBAUFwdnZGW5ubggODsbPP/+sf33evHmYOXMmAMDf319/qLkyh5KJiBgAiUiIoKAgHD16FFOmTMHRo0eh0+nKXfedd97B8OHD0aBBA6xfvx7bt2/HyJEjS4UqrVaLV199FcOGDcOuXbsQGhqKnJwcdO/eHZ9//jmmTJmCH374AbNnz8b69evxwgsvQJIk/fvHjx+PsLAw9O7dG9988w3i4uLwxx9/oHPnzrh27Vqlvue5c+cAAHXr1i13nQ0bNmDAgAFwd3fHxo0bsWbNGty8eRM9evTAwYMHAQDjxo3D5MmTAQDbtm3Dzz//jJ9//hmPP/54peoiIisnEREJkJGRIT399NMSAAmApFarpc6dO0tRUVFSVlaWfr0LFy5Itra20vDhwx+6ve7du0sApN27d5dYHhUVJdnY2Ei//vprieVbtmyRAEi7du2SJEmSfv75ZwmAtGTJkhLrXb58WXJycpJmzZr10M9ft26dBEA6cuSIpNPppKysLOn777+X6tatK7m5uUlpaWmSJEnSnj17JADSnj17JEmSpIKCAqlBgwZS27ZtpYKCAv32srKypHr16kmdO3fWL1u8eLEEQLp48eJDayEiehTOABKRELVr18aBAwfw66+/Ijo6GgMGDMDZs2cRGRmJtm3bIiMjAwCg0WhQUFCAiRMnPnKbHh4eeOaZZ0os+/777xEQEIAOHTogPz9f/3j22WdLHEL9/vvvoVKp8Oqrr5ZYr379+mjfvr3iQ62dOnWCWq2Gm5sb+vXrh/r16+OHH36Ap6dnmev/+eefuHr1Kl577bUSh75dXV3xf//3fzhy5AhycnIUfTYRkVI8CYSIhOrYsaP+pAmdTofZs2dj6dKlWLRoERYtWoR//vkHAODt7f3IbXl5eZVadu3aNZw7dw5qtbrM9xQFzWvXrkGSpHKDWuPGjRV9ny+++AKtWrWCnZ0dPD09y6zpftevXy+39gYNGqCwsBA3b96s9pNZiMiyMQASkclQq9V49913sXTpUpw8eRJA8W/nUlNT4ePj89D3q1SqUsvq1KkDJycnrF27tsz31KlTR/9PlUqFAwcOwMHBodR6ZS0rS6tWrfSBVonatWsDkH+/+KCrV6/CxsYGHh4eirdHRKQEAyARCaHVasuc9Tp9+jQAefYLAEJCQmBra4v4+HgEBQVV+HP69euHDz/8ELVr14a/v/9D14uOjsaVK1fw8ssvV/hzKqtFixZo2LAhNmzYgBkzZuhDbHZ2NrZu3ao/MxgoDqF3796ttvqIyDIxABKREM8++yy8vb3Rv39/tGzZEoWFhUhOTsaSJUvg6uqKqVOnAgD8/Pzw1ltv4b333sPdu3cxdOhQ1KhRA6dOnUJGRgbmz5//0M8JCwvD1q1b0a1bN0ybNg3t2rVDYWEhUlJSkJCQgOnTp+Opp55Cly5d8MYbb2D06NE4duwYunXrBhcXF2i1Whw8eBBt27bFm2++afA+2NjYYNGiRRg+fDj69euH8ePHIzc3F4sXL8atW7cQHR2tX7dt27YAgGXLlmHkyJFQq9Vo0aIF3NzcDF4XEVk2BkAiEmLu3Ln49ttvsXTpUmi1WuTm5sLLywu9e/dGZGQkWrVqpV93wYIFaNasGT755BMMHz4cdnZ2aNasGaZMmfLIz3FxccGBAwcQHR2NlStX4uLFi3ByckKjRo3Qu3dv+Pn56dddsWIFOnXqhBUrViAuLg6FhYVo0KABunTpgieffNIYbQAADBs2DC4uLoiKisKQIUNga2uLTp06Yc+ePejcubN+vR49eiAyMhKff/45Vq1ahcLCQuzZswc9evQwWm1EZJlUknTfRbCIiIiIyOLxMjBEREREVoYBkIiIiMjKMAASERERWRkGQCIiIiIrwwBIREREZGUYAImIiIisDAMgERERkZXhhaCroLCwEFevXoWbm1uZ9yAlIiIi0yNJErKystCgQQPY2FjnXBgDYBVcvXr1kTenJyIiItN0+fJleHt7iy5DCIsKgHFxcVi8eDG0Wi3atGmD2NhYdO3atdz1v/rqKyxatAh//fUXatSogeeeew4fffQRateurejziu6/efnyZbi7uxvkOxTR6XRISEhASEgI1Gq1Qbdtadgr5dgr5dgr5dgr5dgr5YzZq8zMTPj4+Fj1fbQtJgBu3rwZYWFhiIuLQ5cuXbBixQr06dMHp06dQqNGjUqtf/DgQYwYMQJLly5F//79ceXKFUyYMAHjxo3D9u3bFX1m0WFfd3d3owRAZ2dnuLu78z8Sj8BeKcdeKcdeKcdeKcdeKVcdvbLmn29ZzIHvmJgYjB07FuPGjUOrVq0QGxsLHx8fxMfHl7n+kSNH4OfnhylTpsDf3x9PP/00xo8fj2PHjlVz5URERETVyyJmAPPy8pCYmIiIiIgSy0NCQnD48OEy39O5c2fMmTMHu3btQp8+fZCeno4tW7agb9++5X5Obm4ucnNz9c8zMzMByH9L0el0BvgmxYq2Z+jtWiL2Sjn2Sjn2Sjn2Sjn2Sjlj9or9B1SSJEmii6iqq1evomHDhjh06BA6d+6sX/7hhx/i888/x59//lnm+7Zs2YLRo0fj3r17yM/PxwsvvIAtW7aUO9U8b948zJ8/v9TyDRs2wNnZ2TBfhoiIiIwqJycHw4YNw+3btw3+Ey5zYREzgEUePJYvSVK5x/dPnTqFKVOm4J133sGzzz4LrVaLmTNnYsKECVizZk2Z74mMjER4eLj+edGPSENCQozyG0CNRoPg4GD+TuQR2Cvl2Cvl2Cvl2Cvl2CvljNmroiN41swiAmCdOnVga2uLtLS0EsvT09Ph6elZ5nuioqLQpUsXzJw5EwDQrl07uLi4oGvXrnj//ffh5eVV6j0ODg5wcHAotVytVhvtD7Ixt21p2Cvl2Cvl2Cvl2Cvl2CvljNEr9t5CTgKxt7dHYGAgNBpNieUajabEIeH75eTklLr4o62tLQB55pCIiIjIUllEAASA8PBwrF69GmvXrsXp06cxbdo0pKSkYMKECQDkw7cjRozQr9+/f39s27YN8fHxuHDhAg4dOoQpU6bgySefRIMGDUR9DSIiIiKjs4hDwAAwZMgQXL9+HQsWLIBWq0VAQAB27doFX19fAIBWq0VKSop+/VGjRiErKwuffvoppk+fjpo1a+KZZ57BwoULRX0FIiIiomphMQEQAEJDQxEaGlrma+vXry+1bPLkyZg8ebKRq6q4ggJg3z4V9u9vCBcXFXr2BP49Ok1ERERUZRZzCNhSbNsG+PkBwcF2iInpiOBgO/j5ycuJiIiIDIEB0IRs2wYMHgykppZcfuWKvJwhkIiIiAyBAdBEFBQAU6cCZZ2AXLQsLExej4iIiKgqGABNxIEDpWf+7idJwOXL8npEREREVcEAaCK0WsOuR0RERFQeBkATUcaNR6q0HhEREVF5GABNRNeugLc3UM6ti6FSAT4+8npEREREVcEAaCJsbYFly+RxeSEwNpbXAyQiIqKqYwA0IYMGAVu2AA0bllyuUgGffy6/TkRERFRVDIAmZtAg4NIlQKPJR7t26QCKzwAmIiIiMgQGQBNkawt07y7hzTePw8ZGvghgbCxw967YuoiIiMgyMACaMC+vHAweLAfAf/4B1q0TXBARERFZBAZAEzdjRvGtPxYvBvLzBRZDREREFoEB0MR16AA895w8vnQJ2LxZZDVERERkCRgAzUBkZPE4Orrs+wUTERERKcUAaAa6dgWCguTxyZPAzp1i6yEiIiLzxgBoBlQqICKi+Hl0tLhaiIiIyPwxAJqJfv2ANm3k8aFDwMGDYushIiIi88UAaCZsbIDZs4ufR0WJq4WIiIjMGwOgGXnlFcDXVx7v2gWcOCG2HiIiIjJPDIBmRK0GZswofr5wobhaiIiIyHwxAJqZMWOAOnXk8aZNwIULYushIiIi88MAaGacnYGpU+VxYSHw0Udi6yEiIiLzwwBohiZOBFxd5fHatcC1a2LrISIiIvPCAGiGPDyACRPkcW4uEBsrtBwiIiIyMwyAZmraNMDeXh7HxQG3b4uth4iIiMwHA6CZatAAGDFCHmdmAp99JrYeIiIiMh8MgGZs1iz5NnEAsHQpcPeu2HqIiIjIPDAAmrFmzYDBg+XxtWvA55+LrYeIiIjMAwOgmYuIKB4vXgzk54urhYiIiMwDA6CZe/xxICREHl+4AGzZIrYeIiIiMn0MgBbg/lnA6GhAksTVQkRERKaPAdAC9OgBPPmkPD5+HPjxR6HlEBERkYljALQAKhUQGVn8PDpaXC1ERERk+iwqAMbFxcHf3x+Ojo4IDAzEgQMHyl131KhRUKlUpR5t2rSpxooN54UXgJYt5fH+/cDhw2LrISIiItNlMQFw8+bNCAsLw5w5c5CUlISuXbuiT58+SElJKXP9ZcuWQavV6h+XL19GrVq18NJLL1Vz5YZhYwPMnl38nLOAREREVB6LCYAxMTEYO3Ysxo0bh1atWiE2NhY+Pj6Ij48vc/0aNWqgfv36+sexY8dw8+ZNjB49uporN5xhwwAfH3n83XfAyZNi6yEiIiLTZBEBMC8vD4mJiQgpuh7Kv0JCQnBY4bHQNWvWoHfv3vD19TVGidXC3h6YPr34+cKF4mohIiIi02UnugBDyMjIQEFBATw9PUss9/T0RFpa2iPfr9Vq8cMPP2DDhg0PXS83Nxe5ubn655mZmQAAnU4HnU5XicrLV7S9im535EjgvffscP26Chs3SnjnnXz4+Rm0NJNT2V5ZI/ZKOfZKOfZKOfZKOWP2iv23kABYRFV0Y9x/SZJUallZ1q9fj5o1a+LFF1986HpRUVGYP39+qeUJCQlwdnauUK1KaTSaCr8nJKQ5Nm5shYICFcLCLuONN343QmWmpzK9slbslXLslXLslXLslXLG6FVOTo7Bt2luVJJk/pcNzsvLg7OzM77++msMHDhQv3zq1KlITk7Gvn37yn2vJElo3rw5+vXrh6VLlz70c8qaAfTx8UFGRgbc3d2r/kXuo9PpoNFoEBwcDLVaXaH3Xr8ONG1qh+xsFRwdJZw7l4969QxankmpSq+sDXulHHulHHulHHulnDF7lZmZiTp16uD27dsG//+3ubCIGUB7e3sEBgZCo9GUCIAajQYDBgx46Hv37duHc+fOYezYsY/8HAcHBzg4OJRarlarjfYHuTLbrl8feOMNYOlS4N49FeLj1Xj/faOUZ1KM+e/B0rBXyrFXyrFXyrFXyhmjV+y9hZwEAgDh4eFYvXo11q5di9OnT2PatGlISUnBhAkTAACRkZEYMWJEqfetWbMGTz31FAICAqq7ZKMKDweK9u/ly4F/f65IREREZDkBcMiQIYiNjcWCBQvQoUMH7N+/H7t27dKf1avVaktdE/D27dvYunWrotk/c+PtDbz2mjy+dQtYsUJoOURERGRCLOIQcJHQ0FCEhoaW+dr69etLLatRo4ZF/xB05kxg3TpAkoCYGGDyZMDRUXRVREREJJrFzABSaS1bAkU/iUxLA778Umw9REREZBoYAC1cRETxeNEioKBAXC1ERERkGhgALdwTTwC9esnjc+eArVvF1kNERETiMQBagftnAaOj5d8EEhERkfViALQCvXoBHTvK46QkICFBbD1EREQkFgOgFVCpSs8CEhERkfViALQSL74ING8uj/fuBY4cEVkNERERicQAaCVsbYHZs4ufL1worhYiIiISiwHQigwfDjRsKI+/+QY4dUpoOURERCQIA6AVcXCQ7xFcZNEicbUQERGROAyAVuaNNwAPD3n81VfAA7dHJiIiIivAAGhlXF3lewIDQH4+sGSJ2HqIiIio+jEAWqHJkwFnZ3m8ahWQkSG2HiIiIqpeDIBWqE4d4PXX5fHdu8Ann4ith4iIiKoXA6CVCg8H7Ozk8SefAFlZYushIiKi6sMAaKUaNZIvCwMAN2/Kh4KJiIjIOjAAWrH7Lwy9ZAmQmyuuFiIiIqo+DIBWrFUr+RZxAHD1KvCf/wgth4iIiKoJA6CVi4goHi9aBBQUiKuFiIiIqgcDoJV76imgZ095fPasfIs4IiIismwMgFRiFjAqCpAkcbUQERGR8TEAEoKDgccek8eJicDu3WLrISIiIuNiACSoVCVnAaOjxdVCRERExscASACA//s/oGlTebx7N/Drr2LrISIiIuNhACQAgK0tMGtW8XPOAhIREVkuBkDSGzEC8PKSx9u3A2fOiK2HiIiIjIMBkPQcHOR7BAPymcCLFomth4iIiIyDAZBKeOMNoGZNefyf/wCXLwsth4iIiIyAAZBKcHcHJk6UxzodsHSp2HqIiIjI8BgAqZSpUwEnJ3m8ciVw/brYeoiIiMiwGACplLp1gbFj5XF2NvDpp2LrISIiIsNiAKQyTZ8uXxoGAD7+WA6CREREZBkYAKlMfn7AsGHy+MYNYPVqoeUQERGRATEAUrnuvzD0Rx8BeXniaiEiIiLDYQCkcgUEAP37y+PUVGDDBrH1EBERkWFYVACMi4uDv78/HB0dERgYiAMHDjx0/dzcXMyZMwe+vr5wcHBAkyZNsHbt2mqq1jxERhaPFy4ECgvF1UJERESGYTEBcPPmzQgLC8OcOXOQlJSErl27ok+fPkhJSSn3PS+//DJ2796NNWvW4M8//8TGjRvRsmXLaqza9AUFAd26yeMzZ4BvvxVbDxEREVWdxQTAmJgYjB07FuPGjUOrVq0QGxsLHx8fxMfHl7n+jz/+iH379mHXrl3o3bs3/Pz88OSTT6Jz587VXLnpi4goHkdHy7eJIyIiIvNlEQEwLy8PiYmJCAkJKbE8JCQEhw8fLvM9O3bsQMeOHbFo0SI0bNgQzZs3x4wZM3D37t3qKNmsPPcc0L69PP7lF2DvXqHlEBERURXZiS7AEDIyMlBQUABPT88Syz09PZGWllbmey5cuICDBw/C0dER27dvR0ZGBkJDQ3Hjxo1yfweYm5uL3Nxc/fPMzEwAgE6ng06nM9C3gX6b9/9TtBkzVHjtNXl3+fDDQjz9dIHgioqZWq9MGXulHHulHHulHHulnDF7xf5bSAAsolKpSjyXJKnUsiKFhYVQqVT46quvUKNGDQDyYeTBgwdj+fLlcCq6F9p9oqKiMH/+/FLLExIS4OzsbIBvUJpGozHKdivK2VkFT89euHbNBf/9rw0+/ng/mja9LbqsEkylV+aAvVKOvVKOvVKOvVLOGL3Kyckx+DbNjUUEwDp16sDW1rbUbF96enqpWcEiXl5eaNiwoT78AUCrVq0gSRJSU1PRrFmzUu+JjIxEeHi4/nlmZiZ8fHwQEhICd3d3A30bmU6ng0ajQXBwMNRqtUG3XVlarQ0mTZLHP//cDVOmmMYsoCn2ylSxV8qxV8qxV8qxV8oZs1dFR/CsmUUEQHt7ewQGBkKj0WDgwIH65RqNBgMGDCjzPV26dMHXX3+NO3fuwNXVFQBw9uxZ2NjYwNvbu8z3ODg4wMHBodRytVpttD/Ixtx2RY0dC7z3HnDtGrBtmw0uXrRB8+aiqypmSr0ydeyVcuyVcuyVcuyVcsboFXtvISeBAEB4eDhWr16NtWvX4vTp05g2bRpSUlIwYcIEAPLs3YgRI/TrDxs2DLVr18bo0aNx6tQp7N+/HzNnzsSYMWPKPPxLgKMjMG2aPJYkYPFisfUQERFR5VhMABwyZAhiY2OxYMECdOjQAfv378euXbvg6+sLANBqtSWuCejq6gqNRoNbt26hY8eOGD58OPr374+PP/5Y1FcwCxMmAEVHuz//HLhyRWw9REREVHEWcQi4SGhoKEJDQ8t8bf369aWWtWzZkj/EraAaNYCJE4GoKECnA5Yule8TTERERObDYmYAqfpMnQoU/RRyxQrgxg2x9RAREVHFMABShXl6AmPGyOM7d4C4OLH1EBERUcUwAFKlzJwJ2NrK42XLAF5SiYiIyHwwAFKl+PsDQ4bI44wMYM0asfUQERGRcgyAVGmzZxePP/pIPimEiIiITB8DIFVau3ZA377yOCUF2LRJbD1ERESkDAMgVUlERPE4OhooLBRXCxERESnDAEhV8vTTQJcu8vjUKeD778XWQ0RERI/GAEhVFhlZPI6Kkm8TR0RERKaLAZCq7PnngYAAeXzkCLB/v9h6iIiI6OEYAKnKVKrSvwUkIiIi08UASAYxZAjg5yePf/wRSE4WWQ0RERE9DAMgGYSdnXx3kCKcBSQiIjJdDIBkMKNHA/XqyeOvvwbOnRNbDxEREZWNAZAMxskJCAuTx4WF8t1BiIiIyPQwAJJBvfkm4OYmj9etA7RasfUQERFRaQyAZFA1a8ohEADy8oDYWJHVEBERUVnsqvsDw8PDFa8bExNjxErIWMLCgGXLgNxcID5evlB0zZqiqyIiIqIi1R4Ak5KSSjxPTExEQUEBWrRoAQA4e/YsbG1tERgYWN2lkYF4eQGjRgErVgBZWUBcHPDWW6KrIiIioiLVHgD37NmjH8fExMDNzQ2ff/45PDw8AAA3b97E6NGj0bVr1+oujQxoxgxg1Sr5ZJDYWGDaNPkkESIiIhJP6G8AlyxZgqioKH34AwAPDw+8//77WLJkicDKqKqaNgVeekke//OPfEIIERERmQahATAzMxPXrl0rtTw9PR1ZWVkCKiJDuv/2cIsXA/n54mohIiKiYkID4MCBAzF69Ghs2bIFqampSE1NxZYtWzB27FgMGjRIZGlkAB06AM89J48vXQI2bxZZDRERERURGgA/++wz9O3bF6+++ip8fX3h6+uL4cOHo0+fPoiLixNZGhnI/bOA0dGAJImrhYiIiGRCA6CzszPi4uJw/fp1JCUl4bfffsONGzcQFxcHFxcXkaWRgXTrBgQFyeOTJ4GdO8XWQ0RERCZyIWitVgutVovmzZvDxcUFEqeJLIZKVXoWkIiIiMQSGgCvX7+OXr16oXnz5nj++eeh/fe+YePGjcP06dNFlkYG1K8f0Lq1PD50CDh4UGw9RERE1k5oAJw2bRrUajVSUlLg7OysXz5kyBD8+OOPAisjQ7Kx4SwgERGRKREaABMSErBw4UJ4e3uXWN6sWTP8/fffgqoiY3jlFaBRI3m8cydw4oTYeoiIiKyZ0ACYnZ1dYuavSEZGBhwcHARURMaiVst3BymycKG4WoiIiKyd0ADYrVs3fPHFF/rnKpUKhYWFWLx4MXr27CmwMjKGsWOBOnXk8aZNwIULYushIiKyVtV+L+D7LV68GD169MCxY8eQl5eHWbNm4Y8//sCNGzdw6NAhkaWRETg7A1OnAm+/Ld8j+KOPAF7ukYiIqPoJnQFs3bo1Tpw4gSeffBLBwcHIzs7GoEGDkJSUhCZNmogsjYxk4kTA1VUer10LlHEnQCIiIjIyoTOAAFC/fn3Mnz9fdBlUTTw8gAkT5Nm/3Fxg2TLgww9FV0VERGRdhAfAW7du4ZdffkF6ejoKCwtLvDZixAhBVZExTZsGfPwxkJcHLF8OzJ4N1KghuioiIiLrIfQQ8HfffYdGjRqhT58+mDRpEqZOnap/hIWFVXh7cXFx8Pf3h6OjIwIDA3HgwIFy1927dy9UKlWpx5kzZ6rwjUiJBg2AomyfmQl89pnYeoiIiKyN0AA4ffp0jBkzBllZWbh16xZu3rypf9y4caNC29q8eTPCwsIwZ84cJCUloWvXrujTpw9SUlIe+r4///xTfys6rVaLZs2aVeUrkUKzZsm3iQOApUuBe/fE1kNERGRNhAbAK1euYMqUKWVeC7CiYmJiMHbsWIwbNw6tWrVCbGwsfHx8EB8f/9D31atXD/Xr19c/bG1tq1wLPVqzZsDgwfL42jVg/Xqh5RAREVkVob8BfPbZZ3Hs2DE0bty4StvJy8tDYmIiIu6/3xiAkJAQHD58+KHvfeyxx3Dv3j20bt0ac+fOfej1B3Nzc5Gbm6t/npmZCQDQ6XTQ6XRV+AalFW3P0Ns1JdOnA19/rQYALF4sYeTIfNhVYo+0hl4ZCnulHHulHHulHHulnDF7xf4LDoB9+/bFzJkzcerUKbRt2xZqtbrE6y+88IKi7WRkZKCgoACenp4llnt6eiItLa3M93h5eWHlypUIDAxEbm4uvvzyS/Tq1Qt79+5Ft27dynxPVFRUmWcsJyQkGGQWsywajcYo2zUV7dsH4fjxerhwQYW33z6Orl2vVHpblt4rQ2KvlGOvlGOvlGOvlDNGr3Jycgy+TXOjkiRJEvXhNjblH4FWqVQoKChQtJ2rV6+iYcOGOHz4MIKCgvTLP/jgA3z55ZeKT+zo378/VCoVduzYUebrZc0A+vj4ICMjA+7u7oo+QymdTgeNRoPg4OBSwdiS7N2rQkiI/PeQdu0k/Pprvv63gUpZS68Mgb1Sjr1Sjr1Sjr1Szpi9yszMRJ06dXD79m2D///bXAidAXzwsi+VVadOHdja2paa7UtPTy81K/gwnTp1wn/+859yX3dwcCjzHsVqtdpof5CNuW1T0Ls38OSTwC+/ACdOqLB7txp9+lRuW5beK0Nir5Rjr5Rjr5Rjr5QzRq/Ye8EngRiKvb09AgMDS00TazQadO7cWfF2kpKS4OXlZejy6CFUKuD+n25GR4urhYiIyFpU+wzgxx9/jDfeeAOOjo74+OOPH7rulClTFG83PDwcr732Gjp27IigoCCsXLkSKSkpmDBhAgAgMjISV65cwRdffAEAiI2NhZ+fH9q0aYO8vDz85z//wdatW7F169bKfzmqlAEDgJYtgTNngP37gcOHgQrkdiIiIqqgag+AS5cuxfDhw+Ho6IilS5eWu55KpapQABwyZAiuX7+OBQsWQKvVIiAgALt27YKvry8AQKvVlrgmYF5eHmbMmIErV67AyckJbdq0wc6dO/H8889X/stRpdjYyHcDGT1afh4dDZTzM0wiIiIygGoPgBcvXixzbAihoaEIDQ0t87X1D1xobtasWZg1a5ZBP58qb9gw4O23gdRU4LvvgJMngYAA0VURERFZJov4DSCZP3t7YMaM4ucLF4qrhYiIyNIJPQsYAFJTU7Fjxw6kpKQgLy+vxGsxMTGCqiIRxo0DFiwAbtwANm4E3nsP8PMTXRUREZHlERoAd+/ejRdeeAH+/v74888/ERAQgEuXLkGSJDz++OMiSyMBXFyAKVOAefOAggJgyRLgk09EV0VERGR5hB4CjoyMxPTp03Hy5Ek4Ojpi69atuHz5Mrp3746XXnpJZGkkyKRJchAEgNWrgfR0sfUQERFZIqEB8PTp0xg5ciQAwM7ODnfv3oWrqysWLFiAhfwRmFWqXRt44w15fO8e8IgrBREREVElCA2ALi4u+lurNWjQAOfPn9e/lpGRIaosEiw8HCi6SPvy5UBmpth6iIiILI3QANipUyccOnQIANC3b19Mnz4dH3zwAcaMGYNOnTqJLI0E8vYGXntNHt+6BaxcKbQcIiIiiyM0AMbExOCpp54CAMybNw/BwcHYvHkzfH19sWbNGpGlkWAzZ8q3iQOAmBjg34liIiIiMgChZwE3btxYP3Z2dkZcXJzAasiUtGwJDBwIbNsGaLXAF18Ar78uuioiIiLLwAtBk8mKiCgeL1okXxqGiIiIqq7aZwA9PDygKjq29wg3btwwcjVkyp54AujVC9i9Gzh3Dti6FXj5ZdFVERERmb9qD4CxsbHV/ZFkxiIi5AAIANHRwEsvFf82kIiIiCqn2gNg0XX/iJTo1QsIDAQSE4GkJECjAUJCRFdFRERk3oTfC7igoADbt2/H6dOnoVKp0KpVKwwYMAB2dsJLIxOgUgGRkcDgwfLzqCgGQCIioqoSmrJOnjyJAQMGIC0tDS1atAAAnD17FnXr1sWOHTvQtm1bkeWRiXjxRaB5c+DsWWDvXuDIEYCXiSQiIqo8oWcBjxs3Dm3atEFqaip+++03/Pbbb7h8+TLatWuHN4ruB0ZWz9YWmDWr+DnvEkhERFQ1QgPg8ePHERUVBQ8PD/0yDw8PfPDBB0hOThZXGJmcV18FGjaUx998A5w6JbQcIiIisyY0ALZo0QLXrl0rtTw9PR1NmzYVUBGZKgcH+R7BRRYtElcLERGRuRMaAD/88ENMmTIFW7ZsQWpqKlJTU7FlyxaEhYVh4cKFyMzM1D+IXn8dKJos/uorICVFbD1ERETmSuhJIP369QMAvPzyy/qLQ0uSBADo37+//rlKpUIBbwNh9dzcgMmTgQULgPx8YMkSYNky0VURERGZH6EBcM+ePSI/nszQ5MnA4sXA3bvAqlXA228DNWqIroqIiMi8CA2A3bt3F/nxZIbq1JEPBX/8sRwCP/kEmDtXdFVERETmRehvAN9+++0yD+3evn0bQ4cOFVARmYPp04Gi64R/8gmQlSW2HiIiInMjNAB+8cUX6NKlC86fP69ftnfvXrRt2xaXLl0SVxiZtEaNgOHD5fHNm8CaNUJ3YyIiIrMj9P+cJ06cgJ+fHzp06IBVq1Zh5syZCAkJwahRo3Dw4EGRpZGJu//C0LGxNtDpGAKJiIiUEvobwBo1amDTpk2YM2cOxo8fDzs7O/zwww/o1auXyLLIDLRuLd8i7ptvgKtXVdi3zxsDBoiuioiIyDwInzb55JNPsHTpUgwdOhSNGzfGlClTcPz4cdFlkRmYPbt4vG1bM/BKQURERMoIDYB9+vTB/Pnz8cUXX+Crr75CUlISunXrhk6dOmERb/VAj9CpE9Cjhzy+etUV336rEloPERGRuRAaAPPz83HixAkMHjwYAODk5IT4+Hhs2bIFS5cuFVkamYnIyOLx4sU2+Pc64kRERPQQQgOgRqNBgwYNSi3v27cvfv/9dwEVkbkJDgY6dJBTX2KiDXbvFlwQERGRGRASAH/55ZcS1/+THpi2yc3Nxf/+97/qLovMkEoFzJxZvC9FRwsshoiIyEwICYBBQUG4fv26/nmNGjVw4cIF/fNbt27xQtCk2KBBEry87gAAdu8Gfv1VcEFEREQmTkgAfHDG78Hn5S0jKoutLTBw4Dn9c84CEhERPZzwy8CUR6XiGZ2kXM+el+HlJf+lYft24MwZwQURERGZMJMNgEQVoVYXYsqUQgCAJAGLFwsuiIiIyIQJC4CnTp3CiRMncOLECUiShDNnzuif//HHH5XaZlxcHPz9/eHo6IjAwEAcOHBA0fsOHToEOzs7dOjQoVKfS6bh9dcLUbOmPP7ySyA1VWg5REREJkvYreB69epV4nd+/fr1AyAf+pUkqcKHgDdv3oywsDDExcWhS5cuWLFiBfr06YNTp06hUaNG5b7v9u3bGDFiBHr16oVr165V7suQSXB3ByZOBD74ANDpgJgY+UFEREQlCZkBvHjxIi5cuICLFy+WehQtv/+sYCViYmIwduxYjBs3Dq1atUJsbCx8fHwQHx//0PeNHz8ew4YNQ1BQUFW+EpmIKVMAR0d5vHIlcN/J5kRERPQvITOAvr6+Bt1eXl4eEhMTERERUWJ5SEgIDh8+XO771q1bh/Pnz+M///kP3n///Ud+Tm5uLnJzc/XPMzMzAQA6nQ46na6S1ZetaHuG3q4lur9XHh7AmDE2iIuzRXY2sGxZAd5+u1BwhaaD+5Vy7JVy7JVy7JVyxuwV+y/wELAhZWRkoKCgAJ6eniWWe3p6Ii0trcz3/PXXX4iIiMCBAwdgZ6esDVFRUZg/f36p5QkJCXB2dq544QpoNBqjbNcSFfWqfXsn2Nj0RmGhDWJjC9CmTQIcHQse8W7rwv1KOfZKOfZKOfZKOWP0Kicnx+DbNDcWEQCLPPi7wfJ+S1hQUIBhw4Zh/vz5aN68ueLtR0ZGIjw8XP88MzMTPj4+CAkJgbu7e+ULL4NOp4NGo0FwcDDUarVBt21pyurVvn3Ahg1AVpY9rlzpg8mTOQsIcL+qCPZKOfZKOfZKOWP2qugInjWziABYp04d2NralprtS09PLzUrCABZWVk4duwYkpKSMGnSJABAYWEhJEmCnZ0dEhIS8Mwzz5R6n4ODAxwcHEotV6vVRvuDbMxtW5r7exUZKQdAAFi61BaTJtnC3l5gcSaG+5Vy7JVy7JVy7JVyxugVe28h1wG0t7dHYGBgqWlijUaDzp07l1rf3d0dv//+O5KTk/WPCRMmoEWLFkhOTsZTTz1VXaWTkQQEAP37y+PU1OIwSERERCYwA5ifn4+9e/fi/PnzGDZsGNzc3HD16lW4u7vD1dVV8XbCw8Px2muvoWPHjggKCsLKlSuRkpKCCRMmAJAP3165cgVffPEFbGxsEBAQUOL99erVg6OjY6nlZL4iIoDvvpPHCxcCI0YANhbxVx4iIqKqERoA//77bzz33HNISUlBbm4ugoOD4ebmhkWLFuHevXv47LPPFG9ryJAhuH79OhYsWACtVouAgADs2rVLf8axVqtFSkqKsb4KmaDOnYFu3YD9++Vbw337LTBwoOiqiIiIxBM6HzJ16lR07NgRN2/ehJOTk375wIEDsXv37gpvLzQ0FJcuXUJubi4SExPRrVs3/Wvr16/H3r17y33vvHnzkJycXOHPJNN2/5WBoqPl28QRERFZO6EB8ODBg5g7dy7sH/h1vq+vL65cuSKoKrIkzz0HtG8vj3/5BXjI3wGIiIishtAAWFhYiIKC0tdnS01NhZubm4CKyNKoVKVnAYmIiKyd0AAYHByM2NhY/XOVSoU7d+7g3XffxfPPPy+uMLIogwcDjRvL44QEIDFRbD1ERESiCQ2AS5cuxb59+9C6dWvcu3cPw4YNg5+fH65cuYKFCxeKLI0siJ0dMHNm8XPuWkREZO2EngXcoEEDJCcnY9OmTUhMTERhYSHGjh2L4cOHlzgphKiqRo0C5s0Drl0DtmwB/voLaNZMdFVERERiCL8OoJOTE0aPHo3Ro0eLLoUsmKMjMG2a/HtASQIWLQJWrRJdFRERkRhCDwFHRUVh7dq1pZavXbuWh4DJ4CZMAIpu2fz55wBPNCciImslNACuWLECLVu2LLW8TZs2FboINJESNWoAoaHyWKcD7jv/iIiIyKoIDYBpaWnw8vIqtbxu3brQarUCKiJLFxYGODjI488+A27eFFoOERGREEIDoI+PDw4dOlRq+aFDh9CgQQMBFZGl8/QExoyRx3fuAMuXi62HiIhIBKEBcNy4cQgLC8O6devw999/4++//8batWsxbdo0vP766yJLIws2YwZg8++ev2wZkJMjth4iIqLqJvQs4FmzZuHGjRsIDQ1FXl4eAMDR0RGzZ89GZGSkyNLIgjVuDLzyCrBhA5CRAaxZA0yeLLoqIiKi6iN0BlClUmHhwoX4559/cOTIERw/fhw3btzAO++8I7IssgKzZxePP/pIPimEiIjIWggNgEVcXV3xxBNPICAgAA5Fv9AnMqJ27YCiuw2mpACbNomth4iIqDoJDYDZ2dl4++230blzZzRt2hSNGzcu8SAypvt/ZRAdDRQWiquFiIioOgn9DeC4ceOwb98+vPbaa/Dy8oJKpRJZDlmZp58GunQBDh0CTp0Cvv8eeOEF0VUREREZn9AA+MMPP2Dnzp3o0qWLyDLIikVEAP37y+OoKHnMv4cQEZGlE3oI2MPDA7Vq1RJZAlm5vn2BgAB5fOQIsH+/2HqIiIiqg9AA+N577+Gdd95BDi/ERoKoVPIsYJHoaHG1EBERVRehh4CXLFmC8+fPw9PTE35+flCr1SVe/+233wRVRtZkyBBg7lzg0iXgxx+B5GSgQwfBRRERERmR0AD44osvivx4IgCAnR0wcyYwcaL8PDqal4UhIiLLJjQAvvvuuyI/nkhv9Ghg3jzgn3+Ar78G3n8faNpUdFVERETGYRIXgiYSzckJCAuTx4WF8t1BiIiILJXQAFhQUICPPvoITz75JOrXr49atWqVeBBVp9BQwM1NHq9bB2i1YushIiIyFqEBcP78+YiJicHLL7+M27dvIzw8HIMGDYKNjQ3mzZsnsjSyQjVrAm++KY/z8oDYWJHVEBERGY/QAPjVV19h1apVmDFjBuzs7DB06FCsXr0a77zzDo4cOSKyNLJSYWFA0e2o4+OBW7dEVkNERGQcQgNgWloa2rZtCwBwdXXF7du3AQD9+vXDzp07RZZGVsrLCxg1Sh5nZckhkIiIyNIIDYDe3t7Q/vtDq6ZNmyIhIQEA8Ouvv8KhaBqGqJrNmAHY/PsnIzYWuHtXaDlEREQGJzQADhw4ELt37wYATJ06FW+//TaaNWuGESNGYMyYMSJLIyvWtCnw0kvyOD1dPiGEiIjIkgi9DmD0fffdGjx4MLy9vXH48GE0bdoUL7zwgsDKyNrNng1s3iyPFy8G3nhDvmA0ERGRJTCp/6V16tQJnTp1El0GER57DHjuOfnWcJcuyWFw+HDRVRERERlGtQfAHTt2oE+fPlCr1dixY8dD1+UsIIkUESEHQEC+PdywYYBKJbYmIiIiQ6j2APjiiy8iLS0N9erVe+i9gFUqFQoKCqqvMKIHdOsGdOoEHDkCnDwJ7NoF9O0ruioiIqKqq/aTQAoLC1GvXj39uLwHwx+JplIBkZHFz6OixNVCRERkSMLOAtbpdOjZsyfOnj1rsG3GxcXB398fjo6OCAwMxIEDB8pd9+DBg+jSpQtq164NJycntGzZEkuXLjVYLWQZ+vUDWreWx4cOAQcPiq2HiIjIEIQFQLVajZMnT0JloB9Vbd68GWFhYZgzZw6SkpLQtWtX9OnTBykpKWWu7+LigkmTJmH//v04ffo05s6di7lz52LlypUGqYcsg42NfEZwkftOXCciIjJbQq8DOGLECKxZs8Yg24qJicHYsWMxbtw4tGrVCrGxsfDx8UF8ObdyeOyxxzB06FC0adMGfn5+ePXVV/Hss88+dNaQrNPQoUCjRvJ4507gxAmx9RAREVWV0MvA5OXlYfXq1dBoNOjYsSNcXFxKvB4TE6N4O4mJiYiIiCixPCQkBIcPH1a0jaSkJBw+fBjvv/++suLJaqjV8t1BpkyRny9cCHz1ldiaiIiIqkJoADx58iQef/xxACj1W8CKHBrOyMhAQUEBPD09Syz39PREWlraQ9/r7e2Nf/75B/n5+Zg3bx7GjRtX7rq5ubnIzc3VP8/MzAQg/55Rp9MprleJou0ZeruWqDp6NWIEsGCBHTIyVNi0ScI77+SjcWOjfZzRcL9Sjr1Sjr1Sjr1Szpi9Yv8FB8A9e/YYdHsPhkZJkh4ZJA8cOIA7d+7gyJEjiIiIQNOmTTF06NAy142KisL8+fNLLU9ISICzs3PlC38IjUZjlO1aImP3KiSkOTZsaIXCQhXCwlIxYYL5HgvmfqUce6Uce6Uce6WcMXqVk5Nj8G2aG5UkSZLoIqoqLy8Pzs7O+PrrrzFw4ED98qlTpyI5ORn79u1TtJ33338fX375Jf78888yXy9rBtDHxwcZGRlwd3ev2pd4gE6ng0ajQXBwMNRqtUG3bWmqq1c3bwJNmtjhzh0VHBwknDuXjwcmnU0e9yvl2Cvl2Cvl2CvljNmrzMxM1KlTB7dv3zb4/7/NhfBbwf3666/4+uuvkZKSgry8vBKvbdu2TdE27O3tERgYCI1GUyIAajQaDBgwQHEtkiSVCHgPcnBwgIODQ6nlarXaaH+QjbltS2PsXtWrB4wfDyxZAuTmqhAXp8aHHxrt44yK+5Vy7JVy7JVy7JVyxugVey/4LOBNmzahS5cuOHXqFLZv3w6dTodTp07hf//7H2rUqFGhbYWHh2P16tVYu3YtTp8+jWnTpiElJQUTJkwAAERGRmLEiBH69ZcvX47vvvsOf/31F/766y+sW7cOH330EV599VWDfkeyLOHhgL29PF6+HLh9W2w9RERElSF0BvDDDz/E0qVLMXHiRLi5uWHZsmXw9/fH+PHj4eXlVaFtDRkyBNevX8eCBQug1WoREBCAXbt2wdfXFwCg1WpLXBOwsLAQkZGRuHjxIuzs7NCkSRNER0dj/PjxBv2OZFkaNJBPCFm9GsjMBD77rOR1AomIiMyB0BnA8+fPo++/N1d1cHBAdnY2VCoVpk2bVqkLMoeGhuLSpUvIzc1FYmIiunXrpn9t/fr12Lt3r/755MmTcfLkSWRnZ+P27dv47bff8Oabb8LGRmhLyAzMnCnfJg4Ali4F7t0TWw8REVFFCU07tWrVQlZWFgCgYcOGOHnyJADg1q1bPEOHTFbz5sDgwfL42jXg88/F1kNERFRRQgNg165d9ad3v/zyy5g6dSpef/11DB06FL169RJZGtFD3X/Yd9EiID9fXC1EREQVJSQAJicnAwA+/fRTvPLKKwDkkzRmzJiBa9euYdCgQQa7RRyRMQQGAsHB8vjCBWDLFrH1EBERVYSQAPj4448jMDAQmzdv1t/+zcbGBrNmzcKOHTsQExMDDw8PEaURKRYZWTyOjgbM/4qaRERkLYQEwEOHDuHxxx9HREQEvLy88Oqrrxr8riBExtajB/Dkk/L4+HHgxx+FlkNERKSYkAAYFBSEVatWIS0tDfHx8UhNTUXv3r3RpEkTfPDBB0hNTRVRFlGFqFRARETx8+hocbUQERFVhNCTQJycnDBy5Ejs3bsXZ8+exdChQ7FixQr4+/vj+eefF1kakSIDBgAtW8rj/fuBw4fF1kNERKSEyVz0rkmTJoiIiMCcOXPg7u6On376SXRJRI9kY1PyjGDOAhIRkTkwiQC4b98+jBw5EvXr18esWbMwaNAgHDp0SHRZRIoMGwZ4e8vj774D/r2cJRERkckSFgAvX76M9957D02aNEHPnj1x/vx5fPLJJ7h69SpWrVqFTp06iSqNqELs7YHp04ufL1okrhYiIiIlhATA4OBg+Pv7Iy4uDoMHD8bp06dx8OBBjB49Wn9ZGCJz8vrrQK1a8njDBuDSJaHlEBERPZSQAOjk5IStW7ciNTUVCxcuRIsWLUSUQWQwLi7AlCnyuKAAWLJEbD1EREQPIyQA7tixAwMGDICtra2IjycyikmT5CAIAKtXA+npYushIiIqj0mcBEJkCWrXBt54Qx7fuwd8/LHYeoiIiMrDAEhkQOHhgFotj5cvBzIzxdZDRERUFgZAIgPy9gZefVUe37oFrFwptBwiIqIyMQASGdisWfJt4gAgJgbIzRVbDxER0YMYAIkMrGVLYOBAeazVAl98IbYeIiKiBzEAEhlBRETxeNEi+dIwREREpoIBkMgInngC6NVLHp87B2zdKrYeIiKi+zEAEhnJ/bOA0dGAJImrhYiI6H4MgERG0qsXEBgoj5OSAI1GbD1ERERFGACJjESlAiIji59HR4urhYiI6H4MgERG9OKLQPPm8njPHuDoUaHlEBERAWAAJDIqW1v5uoBFOAtIRESmgAGQyMhefRVo0EAef/MNcPq00HKIiIgYAImMzcEBmD69+PnCheJqISIiAhgAiarF668DHh7y+KuvgJQUsfUQEZF1YwAkqgZubsCkSfI4P1++RzAREZEoDIBE1WTKFMDJSR6vWgVkZIith4iIrBcDIFE1qVNHPhQMADk5wCefiK2HiIisFwMgUTWaPh2ws5PHn3wC3Lkjth4iIrJODIBE1ahRI2D4cHl88yawcqXYeoiIyDoxABJVs/svDL1kCZCbK64WIiKyTgyARNWsdWtgwAB5fPWqfFkYIiKi6mRRATAuLg7+/v5wdHREYGAgDhw4UO6627ZtQ3BwMOrWrQt3d3cEBQXhp59+qsZqyZpFRBSPFy4ECgrE1UJERNbHYgLg5s2bERYWhjlz5iApKQldu3ZFnz59kFLOFXf379+P4OBg7Nq1C4mJiejZsyf69++PpKSkaq6crFGnTkCPHvL47Fn5FnFERETVxWICYExMDMaOHYtx48ahVatWiI2NhY+PD+Lj48tcPzY2FrNmzcITTzyBZs2a4cMPP0SzZs3w3XffVXPlZK3unwWMjgYkSVwtRERkXSwiAObl5SExMREhISElloeEhODw4cOKtlFYWIisrCzUqlXLGCUSlRISAjz2mDw+dgzYvVtsPUREZD3sRBdgCBkZGSgoKICnp2eJ5Z6enkhLS1O0jSVLliA7Oxsvv/xyuevk5uYi975TNjMzMwEAOp0OOp2uEpWXr2h7ht6uJTLnXs2YocLw4fIfw6ioQnTvbtwfA5pzr6obe6Uce6Uce6WcMXvF/ltIACyiUqlKPJckqdSysmzcuBHz5s3Dt99+i3r16pW7XlRUFObPn19qeUJCApydnStesAIajcYo27VE5tgrR0fAy6sXtFpX/O9/Nli27ACaNbtl9M81x16Jwl4px14px14pZ4xe5eTkGHyb5sYiAmCdOnVga2tbarYvPT291KzggzZv3oyxY8fi66+/Ru/evR+6bmRkJMLDw/XPMzMz4ePjg5CQELi7u1f+C5RBp9NBo9EgODgYarXaoNu2NObeq/R0Fd58Ux4fOtQVU6cabxbQ3HtVndgr5dgr5dgr5YzZq6IjeNbMIgKgvb09AgMDodFoMHDgQP1yjUaDAUUXXCvDxo0bMWbMGGzcuBF9+/Z95Oc4ODjAwcGh1HK1Wm20P8jG3LalMddejR4NLFgAaLXAt9/a4Px5G7RsadzPNNdeicBeKcdeKcdeKWeMXrH3FnISCACEh4dj9erVWLt2LU6fPo1p06YhJSUFEyZMACDP3o0YMUK//saNGzFixAgsWbIEnTp1QlpaGtLS0nD79m1RX4GslIMDMG2aPJYkYPFisfUQEZHls5gAOGTIEMTGxmLBggXo0KED9u/fj127dsHX1xcAoNVqS1wTcMWKFcjPz8fEiRPh5eWlf0ydOlXUVyArNn48ULOmPP7ySyA1VWg5RERk4SziEHCR0NBQhIaGlvna+vXrSzzfu3ev8QsiUsjdHZg4EfjgA0CnA2Ji5AcREZExWMwMIJG5mzJFPisYAFauBK5fF1sPERFZLgZAIhNRrx4wdqw8zs4Gli8XWw8REVkuBkAiEzJjBmBrK48//lgOgkRERIbGAEhkQvz8gKFD5fH168Dq1ULLISIiC8UASGRiZs8uHi9ZAuTliauFiIgsEwMgkYkJCAD695fHly8DGzaIrYeIiCwPAyCRCYqIKB4vXAgUFoqrhYiILA8DIJEJ6twZ6NpVHp85A+zYIbYeIiKyLAyARCYqMrJ4HBUl3yaOiIjIEBgAiUzUc88B7drJ419+AXjzGiIiMhQGQCITpVKV/C1gdLS4WoiIyLIwABKZsJdeAho3lscJCUBioth6iIjIMjAAEpkwOztg5szi5wsXiquFiIgsBwMgkYkbNQrw9JTHW7YAf/0ltBwiIrIADIBEJs7REZg2TR5LErBokdh6iIjI/DEAEpmBCRMAd3d5/PnnwJUrYushIiLzxgBIZAZq1ABCQ+WxTgfExgoth4iIzBwDIJGZCAsDHBzk8WefATdvCi2HiIjMGAMgkZnw9ATGjJHHd+4Ay5eLrYeIiMwXAyCRGZkxA7D590/tsmVATo7YeoiIyDwxABKZkcaNgVdekccZGcCaNWLrISIi88QASGRmZs8uHn/0kXxSCBERUUUwABKZmXbtgOefl8cpKcCmTWLrISIi88MASGSGIiKKxwsXAoWF4mohIiLzwwBIZIa6dgW6dJHHf/wBfP+92HqIiMi8MAASman7ZwGjouTbxBERESnBAEhkpp5/HggIkMdHjgAHDoith4iIzAcDIJGZsrEpPQtIRESkBAMgkRkbMgTw85PHP/4IJCeLrIaIiMwFAyCRGbOzk+8OUmThQnG1EBGR+WAAJDJzY8YAdevK4//3/4Bz58TWQ0REpo8BkMjMOTkBYWHyuLBQvjsIERHRwzAAElmA0FDAzU0er1sHaLVi6yEiItPGAEhkAWrWBN58Ux7n5QGxsSKrISIiU8cASGQhwsIAe3t5HB8P3LolshoiIjJlFhUA4+Li4O/vD0dHRwQGBuLAQ66Mq9VqMWzYMLRo0QI2NjYIK/oRFZGZ8vICRo2Sx1lZcggkIiIqi8UEwM2bNyMsLAxz5sxBUlISunbtij59+iAlJaXM9XNzc1G3bl3MmTMH7du3r+ZqiYxj5kz5AtGAfBj47l2h5RARkYmymAAYExODsWPHYty4cWjVqhViY2Ph4+OD+HKmQfz8/LBs2TKMGDECNWrUqOZqiYyjaVPgpZfkcXq6fEIIERHRg+xEF2AIeXl5SExMRMT998UCEBISgsOHDxvsc3Jzc5Gbm6t/npmZCQDQ6XTQ6XQG+5yibd7/Tyofe1VSeDiwebMaALB4sYTRo/Nh9++fdPZKOfZKOfZKOfZKOWP2iv23kACYkZGBgoICeHp6llju6emJtLQ0g31OVFQU5s+fX2p5QkICnJ2dDfY599NoNEbZriVir4o9/ngn/PabJy5dUmHOnBPo3j21xOvslXLslXLslXLslXLG6FVOTo7Bt2luLCIAFlGpVCWeS5JUallVREZGIjw8XP88MzMTPj4+CAkJgbu7u8E+B5D/dqLRaBAcHAy1Wm3QbVsa9qo0V1cVeveWxwkJjyM6uh1UKvaqItgr5dgr5dgr5YzZq6IjeNbMIgJgnTp1YGtrW2q2Lz09vdSsYFU4ODjAwcGh1HK1Wm20P8jG3LalYa+KPfMM0KkTcOQI8McfKmg0avTtW/w6e6Uce6Uce6Uce6WcMXrF3lvISSD29vYIDAwsNU2s0WjQuXNnQVURiaNSAff/JDYqSlwtRERkeiwiAAJAeHg4Vq9ejbVr1+L06dOYNm0aUlJSMGHCBADy4dsRI0aUeE9ycjKSk5Nx584d/PPPP0hOTsapU6dElE9kcP37A61by+NDh4CDB8XWQ0REpsMiDgEDwJAhQ3D9+nUsWLAAWq0WAQEB2LVrF3x9fQHIF35+8JqAjz32mH6cmJiIDRs2wNfXF5cuXarO0omMwsYGmD0bGDlSfh4dDWzfLrYmIiIyDRYTAAEgNDQUoaGhZb62fv36UsskSTJyRURiDR0KvP02kJIC7NwJrF2rwtmzDeHiokLPnoCtregKiYhIBIs5BExEpanVwIwZxc8nTLBDTExHBAfbwc8P2LZNWGlERCQQAyCRhatTp+zlV64AgwczBBIRWSMGQCILVlAAzJpV9mtFv4AIC5PXIyIi62FRvwEkopIOHABSU8t/XZKAy5eBRo0ALy+gZk2gRg3l/3R3h/42c0REZD74n24iC6bVKlvv6lX5URmurhULjQ/+09lZvm4hERFVHwZAIgvm5aVsPVdXICcHKCys+GfcuSM/rlyp+HsBeQZRSVB82GuchSQiqhj+Z5PIgnXtCnh7y+GsrKseqVTy6xcvytcNvHMHuH1bfty6VfF/Vub+6vn5wPXr8qOyXFyqNgvp4sJZSCKyLgyARBbM1hZYtkw+21elKhkCiwJPbGzx9QDd3OSHt3flPk+nq3yALBpX5oSU7Gz5UdnD2La2pWcZ3d1tkZX1GHbvtoGHx6NDJG8tSkTmhAGQyMINGgRs2QJMnVryhBBvbzn8DRpkuM9Sq+XLzpR36ZlHkSR5FrEys49F/8zOrvjnFhQAN27Ij2I2ABphzx5l23B2rtis44PLXF3NcxayoADYt0+F/ft5gXEic8IASGQFBg0CBgwA9uzJxw8/JKNPnw7o2dPO5P5HrVLJh2NdXICGDSu3jfz80rOQFQ2R+fkV/9ycHPmh9MSbB9nYPPq3jo/6p7195T67srZtK/qLhR2AjoiJkf9isWyZYf9iQUSGxwBIZCVsbYHu3SVkZ19B9+7tTS78GYqdHVC7tvyoDEkC7t4F/vlHh+++24/27bsjO9uuQgHyzp2Kf25hIXDzpvyoLCenip9A8+AspI3Cq8Nu2yb/tODB35YWXWB8yxaGQCJTxgBIRHQflUo+nNugAeDjcwedOkkV/n1fQQGQmVm1Q9k6XcVrv3tXfqSlVfy9gPzdlQRGNzfgrbfKPrFIkuTthIXJs86W+hcNInPHAEhEZGC2toCHh/yoDEkC7t1TfuJMWf/MzKzc5966JT/+/rtytRdtp+gC4/XqyYHR1bX8x6Ned3FRPjNJRMowABIRmRiVSj6c6+Sk/FqODyooALKyqjYLmZdXte9RlQuMP8jFpWoh8sHXXVw4O0nWjQGQiMgC2drKh2tr1qz8Nu6fhbw/HB49CixZ8uj3u7kBublVD5JA8aV+rl2r+raKODlVLEQqWYcXJSdzwV2ViIjK5OgI1K8vP+43aBCwebOyC4zb2soBsOiOMeU9srIqtk5ubtW/X9FvJv/5p+rbKuLo+PCA6Oxsg/T01vjtNxvUqKEsZFrjNSZ5eSHjYwAkIqIKqegFxu3tgVq15Ieh6HTyjGBVQuSDj7t3q17XvXvyIyOjvDVsATTDN98o36a9fdUPeT/4cHCo+nc1Fl5eqHowABIRUYVV5wXGy6JWV/0Q94MKCh4dICsaNCtze8QH5eWVdaHyqlGrq364+8F1HByqfjFzXl6o+jAAEhFRpZjLBcaVuv+WgIZSUCCHwKJgePOmDv/97xEEBATh3j27SgfNqtLpqn7dyQfZ2lYtRDo5AaGhvLxQdWEAJCKiSrOWC4xXlq1t8T22ATl4abU30KdPxa8vWaSwUD5cXdVD3g+uU1bwqoiCguIThoyh6PJCBw4APXoY5zOsCQMgERGRGbGxKb5loqEU3QHHECfo3L+ssNBwNRap7O0WqSQGQCIiIitXdAccZ2f54t2GIEny2dpKg+SpU/Jv/B6lstfGpJIYAImIiMjgVCr5sjiOjkCdOo9ev6AA8PN79OWFunY1eKlWiTfXISIiIuGKLi8ElD6buKzLC1HVMAASERGRSSi6vFDDhiWXe3vzEjCGxkPAREREZDIs7fJCpooBkIiIiEwKLy9kfDwETERERGRlGACJiIiIrAwDIBEREZGVYQAkIiIisjIMgERERERWhgGQiIiIyMowABIRERFZGQZAIiIiIivDAEhERERkZXgnkCqQJAkAkJmZafBt63Q65OTkIDMzE2q12uDbtyTslXLslXLslXLslXLslXLG7FXR/7eL/j9ujRgAqyArKwsA4OPjI7gSIiIiqqisrCzUqFFDdBlCqCRrjr9VVFhYiKtXr8LNzQ0qlcqg287MzISPjw8uX74Md3d3g27b0rBXyrFXyrFXyrFXyrFXyhmzV5IkISsrCw0aNICNjXX+Go4zgFVgY2MDb29vo36Gu7s7/yOhEHulHHulHHulHHulHHulnLF6Za0zf0WsM/YSERERWTEGQCIiIiIrwwBoohwcHPDuu+/CwcFBdCkmj71Sjr1Sjr1Sjr1Sjr1Sjr0yLp4EQkRERGRlOANIREREZGUYAImIiIisDAMgERERkZVhACQiIiKyMgyAAuzfvx/9+/dHgwYNoFKp8M033zzyPfv27UNgYCAcHR3RuHFjfPbZZ8Yv1ARUtFd79+6FSqUq9Thz5kz1FCxQVFQUnnjiCbi5uaFevXp48cUX8eeffz7yfda4b1WmV9a6b8XHx6Ndu3b6i/EGBQXhhx9+eOh7rHGfAireK2vdp8oSFRUFlUqFsLCwh65nrfuWMTAACpCdnY327dvj008/VbT+xYsX8fzzz6Nr165ISkrCW2+9hSlTpmDr1q1GrlS8ivaqyJ9//gmtVqt/NGvWzEgVmo59+/Zh4sSJOHLkCDQaDfLz8xESEoLs7Oxy32Ot+1ZlelXE2vYtb29vREdH49ixYzh27BieeeYZDBgwAH/88UeZ61vrPgVUvFdFrG2fetCvv/6KlStXol27dg9dz5r3LaOQSCgA0vbt2x+6zqxZs6SWLVuWWDZ+/HipU6dORqzM9Cjp1Z49eyQA0s2bN6ulJlOWnp4uAZD27dtX7jrct2RKesV9q5iHh4e0evXqMl/jPlXSw3rFfUqSsrKypGbNmkkajUbq3r27NHXq1HLX5b5lWJwBNAM///wzQkJCSix79tlncezYMeh0OkFVmbbHHnsMXl5e6NWrF/bs2SO6HCFu374NAKhVq1a563DfkinpVRFr3rcKCgqwadMmZGdnIygoqMx1uE/JlPSqiDXvUxMnTkTfvn3Ru3fvR67Lfcuw7EQXQI+WlpYGT0/PEss8PT2Rn5+PjIwMeHl5CarM9Hh5eWHlypUIDAxEbm4uvvzyS/Tq1Qt79+5Ft27dRJdXbSRJQnh4OJ5++mkEBASUux73LeW9suZ96/fff0dQUBDu3bsHV1dXbN++Ha1bty5zXWvfpyrSK2vepwBg06ZNSExMxLFjxxStb+37lqExAJoJlUpV4rn07w1cHlxu7Vq0aIEWLVronwcFBeHy5cv46KOPrOI/qEUmTZqEEydO4ODBg49c19r3LaW9suZ9q0WLFkhOTsatW7ewdetWjBw5Evv27Ss32FjzPlWRXlnzPnX58mVMnToVCQkJcHR0VPw+a963DI2HgM1A/fr1kZaWVmJZeno67OzsULt2bUFVmY9OnTrhr7/+El1GtZk8eTJ27NiBPXv2wNvb+6HrWvu+VZFelcVa9i17e3s0bdoUHTt2RFRUFNq3b49ly5aVua6171MV6VVZrGWfSkxMRHp6OgIDA2FnZwc7Ozvs27cPH3/8Mezs7FBQUFDqPda+bxkaZwDNQFBQEL777rsSyxISEtCxY0eo1WpBVZmPpKQkqzg0IEkSJk+ejO3bt2Pv3r3w9/d/5Husdd+qTK/KYi371oMkSUJubm6Zr1nrPlWeh/WqLNayT/Xq1Qu///57iWWjR49Gy5YtMXv2bNja2pZ6D/ctAxN19ok1y8rKkpKSkqSkpCQJgBQTEyMlJSVJf//9tyRJkhQRESG99tpr+vUvXLggOTs7S9OmTZNOnTolrVmzRlKr1dKWLVtEfYVqU9FeLV26VNq+fbt09uxZ6eTJk1JERIQEQNq6dauor1Bt3nzzTalGjRrS3r17Ja1Wq3/k5OTo1+G+JatMr6x134qMjJT2798vXbx4UTpx4oT01ltvSTY2NlJCQoIkSdyn7lfRXlnrPlWeB88C5r5lXAyAAhSd+v/gY+TIkZIkSdLIkSOl7t27l3jP3r17pccee0yyt7eX/Pz8pPj4+OovXICK9mrhwoVSkyZNJEdHR8nDw0N6+umnpZ07d4opvpqV1ScA0rp16/TrcN+SVaZX1rpvjRkzRvL19ZXs7e2lunXrSr169dIHGkniPnW/ivbKWvep8jwYALlvGZdKkv79BSURERERWQWeBEJERERkZRgAiYiIiKwMAyARERGRlWEAJCIiIrIyDIBEREREVoYBkIiIiMjKMAASERERWRkGQCKqlB49eiAsLMxg25s3bx46dOhgsO0BwKVLl6BSqZCcnGzQ7RIRmTsGQCIrN2rUKKhUKqhUKqjVajRu3BgzZsxAdnb2Q9+3bds2vPfeewarY8aMGdi9e7fBtlcR586dw+jRo+Ht7Q0HBwf4+/tj6NChOHbsmJB6TJWhQz8RicMASER47rnnoNVqceHCBbz//vuIi4vDjBkzylxXp9MBAGrVqgU3NzeD1eDq6oratWsbbHtKHTt2DIGBgTh79ixWrFiBU6dOYfv27WjZsiWmT59e7fUQEVUHBkAigoODA+rXrw8fHx8MGzYMw4cPxzfffAOg+NDs2rVr0bhxYzg4OECSpFKzQX5+fvjwww8xZswYuLm5oVGjRli5cmWJz0lNTcUrr7yCWrVqwcXFBR07dsTRo0dLfE6RUaNG4cUXX8T8+fNRr149uLu7Y/z48cjLy9Ov8+OPP+Lpp59GzZo1Ubt2bfTr1w/nz59X/L0lScKoUaPQrFkzHDhwAH379kWTJk3QoUMHvPvuu/j222/16/7+++945pln4OTkhNq1a+ONN97AnTt3StX74YcfwtPTEzVr1sT8+fORn5+PmTNnolatWvD29sbatWv17yk6RL1p0yZ07twZjo6OaNOmDfbu3Vuizn379uHJJ5+Eg4MDvLy8EBERgfz8fP3rPXr0wJQpUzBr1izUqlUL9evXx7x580ps4/bt23jjjTf0vXzmmWdw/Phx/etF/f/yyy/h5+eHGjVq4JVXXkFWVpb+++3btw/Lli3TzxhfunRJca+JyLQwABJRKU5OTvqZPkA+RPr//t//w9atWx/6e7olS5agY8eOSEpKQmhoKN58802cOXMGAHDnzh10794dV69exY4dO3D8+HHMmjULhYWF5W5v9+7dOH36NPbs2YONGzdi+/btmD9/vv717OxshIeH49dff8Xu3bthY2ODgQMHPnSb90tOTsYff/yB6dOnw8am9H8Oa9asCQDIycnBc889Bw8PD/z666/4+uuv8d///heTJk0qsf7//vc/XL16Ffv370dMTAzmzZuHfv36wcPDA0ePHsWECRMwYcIEXL58ucT7Zs6cienTpyMpKQmdO3fGCy+8gOvXrwMArly5gueffx5PPPEEjh8/jvj4eKxZswbvv/9+iW18/vnncHFxwdGjR7Fo0SIsWLAAGo0GgBx0+/bti7S0NOzatQuJiYl4/PHH0atXL9y4cUO/jfPnz+Obb77B999/j++//x779u1DdHQ0AGDZsmUICgrC66+/Dq1WC61WCx8fH0V9JiITJBGRVRs5cqQ0YMAA/fOjR49KtWvXll5++WVJkiTp3XffldRqtZSenl7ifd27d5emTp2qf+7r6yu9+uqr+ueFhYVSvXr1pPj4eEmSJGnFihWSm5ubdP369TLrePfdd6X27duXqKtWrVpSdna2fll8fLzk6uoqFRQUlLmN9PR0CYD0+++/S5IkSRcvXpQASElJSWWuv3nzZgmA9Ntvv5X5epGVK1dKHh4e0p07d/TLdu7cKdnY2EhpaWn6en19fUvU1qJFC6lr16765/n5+ZKLi4u0cePGEvVFR0fr19HpdJK3t7e0cOFCSZIk6a233pJatGghFRYW6tdZvnx5iT50795devrpp0vU/MQTT0izZ8+WJEmSdu/eLbm7u0v37t0rsU6TJk2kFStWSJIk99/Z2VnKzMzUvz5z5kzpqaee0j9/8N85EZkvzgASEb7//nu4urrC0dERQUFB6NatGz755BP9676+vqhbt+4jt9OuXTv9WKVSoX79+khPTwcgz7Y99thjqFWrluK62rdvD2dnZ/3zoKAg3LlzRz+Ddv78eQwbNgyNGzeGu7s7/P39AQApKSmKti9Jkr7Whzl9+jTat28PFxcX/bIuXbqgsLAQf/75p35ZmzZtSswkenp6om3btvrntra2qF27tr4n93+vInZ2dujYsSNOnz6t/+ygoKASNXbp0gV37txBamqqftn9vQcALy8v/eckJibizp07qF27NlxdXfWPixcvljhk7ufnV+J3nfdvg4gsi53oAohIvJ49eyI+Ph5qtRoNGjSAWq0u8fr9wedhHnyfSqXSH451cnIyTLEoDmz9+/eHj48PVq1ahQYNGqCwsBABAQElfif4MM2bNwcgh6yHXYJGkqRyQ+L9y8v6/g/rycMUbbeszy4ruD7scwoLC+Hl5VXqt4VA8WHuR22DiCwLZwCJCC4uLmjatCl8fX1LhQBDadeuHZKTk0v85uxRjh8/jrt37+qfHzlyBK6urvD29sb169dx+vRpzJ07F7169UKrVq1w8+bNCtXUoUMHtG7dGkuWLCkz6Ny6dQsA0Lp1ayQnJ5e4NM6hQ4dgY2OjD5FVceTIEf04Pz8fiYmJaNmypf6zDx8+rA99AHD48GG4ubmhYcOGirb/+OOPIy0tDXZ2dmjatGmJR506dRTXaW9vj4KCAsXrE5HpYgAkomoxdOhQ1K9fHy+++CIOHTqECxcuYOvWrfj555/LfU9eXh7Gjh2LU6dO4YcffsC7776LSZMmwcbGBh4eHqhduzZWrlyJc+fO4X//+x/Cw8MrVJNKpcK6detw9uxZdOvWDbt27cKFCxdw4sQJfPDBBxgwYAAAYPjw4XB0dMTIkSNx8uRJ7NmzB5MnT8Zrr70GT0/PKvUFAJYvX47t27fjzJkzmDhxIm7evIkxY8YAAEJDQ3H58mVMnjwZZ86cwbfffot3330X4eHhZZ64UpbevXsjKCgIL774In766SdcunQJhw8fxty5cyt0rUM/Pz8cPXoUly5dQkZGBmcHicwYAyARVQt7e3skJCSgXr16eP7559G2bVtER0fD1ta23Pf06tULzZo1Q7du3fDyyy+jf//++sub2NjYYNOmTUhMTERAQACmTZuGxYsXV7iuJ598EseOHUOTJk3w+uuvo1WrVnjhhRfwxx9/IDY2FgDg7OyMn376CTdu3MATTzyBwYMHo1evXvj0008r04pSoqOjsXDhQrRv3x4HDhzAt99+q5+Za9iwIXbt2oVffvkF7du3x4QJEzB27FjMnTtX8fZVKhV27dqFbt26YcyYMWjevDleeeUVXLp0qUIBdsaMGbC1tUXr1q1Rt25dxb+1JCLTo5LuP65ARGQiRo0ahVu3bumvR2iJLl26BH9/fyQlJRn8NnhERA/DGUAiIiIiK8MASERERGRleAiYiIiIyMpwBpCIiIjIyjAAEhEREVkZBkAiIiIiK8MASERERGRlGACJiIiIrAwDIBEREZGVYQAkIiIisjIMgERERERWhgGQiIiIyMr8f3XmfbPXGvfKAAAAAElFTkSuQmCC' width=640.0/>\n",
       "            </div>\n",
       "        "
      ],
      "text/plain": [
       "Canvas(toolbar=Toolbar(toolitems=[('Home', 'Reset original view', 'home', 'home'), ('Back', 'Back to previous …"
      ]
     },
     "metadata": {},
     "output_type": "display_data"
    },
    {
     "name": "stdout",
     "output_type": "stream",
     "text": [
      "[0.77526247 0.07658796 0.05672681 0.04118555]\n"
     ]
    }
   ],
   "source": [
    "PC_values = np.arange(pca.n_components_) + 1\n",
    "plt.close()\n",
    "plt.plot(PC_values, pca.explained_variance_ratio_, 'o-', linewidth=2, color='blue')\n",
    "plt.title('Scree Plot')\n",
    "plt.xlabel('Principal Component')\n",
    "plt.ylabel('Variance Explained')\n",
    "plt.show()\n",
    "print(pca.explained_variance_ratio_)"
   ]
  },
  {
   "cell_type": "code",
   "execution_count": 34,
   "metadata": {},
   "outputs": [
    {
     "ename": "ValueError",
     "evalue": "X has 4 features, but PCA is expecting 6 features as input.",
     "output_type": "error",
     "traceback": [
      "\u001b[1;31m---------------------------------------------------------------------------\u001b[0m",
      "\u001b[1;31mValueError\u001b[0m                                Traceback (most recent call last)",
      "\u001b[1;32m<ipython-input-34-9b9d37d5570a>\u001b[0m in \u001b[0;36m<module>\u001b[1;34m\u001b[0m\n\u001b[1;32m----> 1\u001b[1;33m \u001b[0mresult\u001b[0m\u001b[1;33m=\u001b[0m\u001b[0mpd\u001b[0m\u001b[1;33m.\u001b[0m\u001b[0mDataFrame\u001b[0m\u001b[1;33m(\u001b[0m\u001b[0mpca\u001b[0m\u001b[1;33m.\u001b[0m\u001b[0mtransform\u001b[0m\u001b[1;33m(\u001b[0m\u001b[0mphone\u001b[0m\u001b[1;33m)\u001b[0m\u001b[1;33m,\u001b[0m \u001b[0mcolumns\u001b[0m\u001b[1;33m=\u001b[0m\u001b[1;33m[\u001b[0m\u001b[1;34m'PCA%i'\u001b[0m \u001b[1;33m%\u001b[0m \u001b[0mi\u001b[0m \u001b[1;32mfor\u001b[0m \u001b[0mi\u001b[0m \u001b[1;32min\u001b[0m \u001b[0mrange\u001b[0m\u001b[1;33m(\u001b[0m\u001b[1;36m3\u001b[0m\u001b[1;33m)\u001b[0m\u001b[1;33m]\u001b[0m\u001b[1;33m,\u001b[0m \u001b[0mindex\u001b[0m\u001b[1;33m=\u001b[0m\u001b[0mphone\u001b[0m\u001b[1;33m.\u001b[0m\u001b[0mindex\u001b[0m\u001b[1;33m)\u001b[0m\u001b[1;33m\u001b[0m\u001b[1;33m\u001b[0m\u001b[0m\n\u001b[0m\u001b[0;32m      2\u001b[0m \u001b[1;33m\u001b[0m\u001b[0m\n\u001b[0;32m      3\u001b[0m \u001b[1;31m# Plot initialization\u001b[0m\u001b[1;33m\u001b[0m\u001b[1;33m\u001b[0m\u001b[1;33m\u001b[0m\u001b[0m\n\u001b[0;32m      4\u001b[0m \u001b[0mfig\u001b[0m \u001b[1;33m=\u001b[0m \u001b[0mplt\u001b[0m\u001b[1;33m.\u001b[0m\u001b[0mfigure\u001b[0m\u001b[1;33m(\u001b[0m\u001b[1;33m)\u001b[0m\u001b[1;33m\u001b[0m\u001b[1;33m\u001b[0m\u001b[0m\n\u001b[0;32m      5\u001b[0m \u001b[0max\u001b[0m \u001b[1;33m=\u001b[0m \u001b[0mfig\u001b[0m\u001b[1;33m.\u001b[0m\u001b[0madd_subplot\u001b[0m\u001b[1;33m(\u001b[0m\u001b[1;36m111\u001b[0m\u001b[1;33m,\u001b[0m \u001b[0mprojection\u001b[0m\u001b[1;33m=\u001b[0m\u001b[1;34m'3d'\u001b[0m\u001b[1;33m)\u001b[0m\u001b[1;33m\u001b[0m\u001b[1;33m\u001b[0m\u001b[0m\n",
      "\u001b[1;32m~\\anaconda3\\lib\\site-packages\\sklearn\\decomposition\\_base.py\u001b[0m in \u001b[0;36mtransform\u001b[1;34m(self, X)\u001b[0m\n\u001b[0;32m    124\u001b[0m         \u001b[0mcheck_is_fitted\u001b[0m\u001b[1;33m(\u001b[0m\u001b[0mself\u001b[0m\u001b[1;33m)\u001b[0m\u001b[1;33m\u001b[0m\u001b[1;33m\u001b[0m\u001b[0m\n\u001b[0;32m    125\u001b[0m \u001b[1;33m\u001b[0m\u001b[0m\n\u001b[1;32m--> 126\u001b[1;33m         \u001b[0mX\u001b[0m \u001b[1;33m=\u001b[0m \u001b[0mself\u001b[0m\u001b[1;33m.\u001b[0m\u001b[0m_validate_data\u001b[0m\u001b[1;33m(\u001b[0m\u001b[0mX\u001b[0m\u001b[1;33m,\u001b[0m \u001b[0mdtype\u001b[0m\u001b[1;33m=\u001b[0m\u001b[1;33m[\u001b[0m\u001b[0mnp\u001b[0m\u001b[1;33m.\u001b[0m\u001b[0mfloat64\u001b[0m\u001b[1;33m,\u001b[0m \u001b[0mnp\u001b[0m\u001b[1;33m.\u001b[0m\u001b[0mfloat32\u001b[0m\u001b[1;33m]\u001b[0m\u001b[1;33m,\u001b[0m \u001b[0mreset\u001b[0m\u001b[1;33m=\u001b[0m\u001b[1;32mFalse\u001b[0m\u001b[1;33m)\u001b[0m\u001b[1;33m\u001b[0m\u001b[1;33m\u001b[0m\u001b[0m\n\u001b[0m\u001b[0;32m    127\u001b[0m         \u001b[1;32mif\u001b[0m \u001b[0mself\u001b[0m\u001b[1;33m.\u001b[0m\u001b[0mmean_\u001b[0m \u001b[1;32mis\u001b[0m \u001b[1;32mnot\u001b[0m \u001b[1;32mNone\u001b[0m\u001b[1;33m:\u001b[0m\u001b[1;33m\u001b[0m\u001b[1;33m\u001b[0m\u001b[0m\n\u001b[0;32m    128\u001b[0m             \u001b[0mX\u001b[0m \u001b[1;33m=\u001b[0m \u001b[0mX\u001b[0m \u001b[1;33m-\u001b[0m \u001b[0mself\u001b[0m\u001b[1;33m.\u001b[0m\u001b[0mmean_\u001b[0m\u001b[1;33m\u001b[0m\u001b[1;33m\u001b[0m\u001b[0m\n",
      "\u001b[1;32m~\\anaconda3\\lib\\site-packages\\sklearn\\base.py\u001b[0m in \u001b[0;36m_validate_data\u001b[1;34m(self, X, y, reset, validate_separately, **check_params)\u001b[0m\n\u001b[0;32m    435\u001b[0m \u001b[1;33m\u001b[0m\u001b[0m\n\u001b[0;32m    436\u001b[0m         \u001b[1;32mif\u001b[0m \u001b[0mcheck_params\u001b[0m\u001b[1;33m.\u001b[0m\u001b[0mget\u001b[0m\u001b[1;33m(\u001b[0m\u001b[1;34m'ensure_2d'\u001b[0m\u001b[1;33m,\u001b[0m \u001b[1;32mTrue\u001b[0m\u001b[1;33m)\u001b[0m\u001b[1;33m:\u001b[0m\u001b[1;33m\u001b[0m\u001b[1;33m\u001b[0m\u001b[0m\n\u001b[1;32m--> 437\u001b[1;33m             \u001b[0mself\u001b[0m\u001b[1;33m.\u001b[0m\u001b[0m_check_n_features\u001b[0m\u001b[1;33m(\u001b[0m\u001b[0mX\u001b[0m\u001b[1;33m,\u001b[0m \u001b[0mreset\u001b[0m\u001b[1;33m=\u001b[0m\u001b[0mreset\u001b[0m\u001b[1;33m)\u001b[0m\u001b[1;33m\u001b[0m\u001b[1;33m\u001b[0m\u001b[0m\n\u001b[0m\u001b[0;32m    438\u001b[0m \u001b[1;33m\u001b[0m\u001b[0m\n\u001b[0;32m    439\u001b[0m         \u001b[1;32mreturn\u001b[0m \u001b[0mout\u001b[0m\u001b[1;33m\u001b[0m\u001b[1;33m\u001b[0m\u001b[0m\n",
      "\u001b[1;32m~\\anaconda3\\lib\\site-packages\\sklearn\\base.py\u001b[0m in \u001b[0;36m_check_n_features\u001b[1;34m(self, X, reset)\u001b[0m\n\u001b[0;32m    364\u001b[0m         \u001b[1;32mif\u001b[0m \u001b[0mn_features\u001b[0m \u001b[1;33m!=\u001b[0m \u001b[0mself\u001b[0m\u001b[1;33m.\u001b[0m\u001b[0mn_features_in_\u001b[0m\u001b[1;33m:\u001b[0m\u001b[1;33m\u001b[0m\u001b[1;33m\u001b[0m\u001b[0m\n\u001b[0;32m    365\u001b[0m             raise ValueError(\n\u001b[1;32m--> 366\u001b[1;33m                 \u001b[1;34mf\"X has {n_features} features, but {self.__class__.__name__} \"\u001b[0m\u001b[1;33m\u001b[0m\u001b[1;33m\u001b[0m\u001b[0m\n\u001b[0m\u001b[0;32m    367\u001b[0m                 f\"is expecting {self.n_features_in_} features as input.\")\n\u001b[0;32m    368\u001b[0m \u001b[1;33m\u001b[0m\u001b[0m\n",
      "\u001b[1;31mValueError\u001b[0m: X has 4 features, but PCA is expecting 6 features as input."
     ]
    }
   ],
   "source": [
    "# result=pd.DataFrame(pca.transform(phone), columns=['PCA%i' % i for i in range(3)], index=phone.index)\n",
    " \n",
    "# # Plot initialization\n",
    "# fig = plt.figure()\n",
    "# ax = fig.add_subplot(111, projection='3d')\n",
    "# ax.scatter(result['PCA0'], result['PCA1'], result['PCA2'], c=my_color, cmap=\"Set2_r\", s=60)\n",
    "# # make simple, bare axis lines through space:\n",
    "# xAxisLine = ((min(result['PCA0']), max(result['PCA0'])), (0, 0), (0,0))\n",
    "# ax.plot(xAxisLine[0], xAxisLine[1], xAxisLine[2], 'r')\n",
    "# yAxisLine = ((0, 0), (min(result['PCA1']), max(result['PCA1'])), (0,0))\n",
    "# ax.plot(yAxisLine[0], yAxisLine[1], yAxisLine[2], 'r')\n",
    "# zAxisLine = ((0, 0), (0,0), (min(result['PCA2']), max(result['PCA2'])))\n",
    "# ax.plot(zAxisLine[0], zAxisLine[1], zAxisLine[2], 'r')\n",
    " \n",
    "# # label the axes\n",
    "# ax.set_xlabel(\"PC1\")\n",
    "# ax.set_ylabel(\"PC2\")\n",
    "# ax.set_zlabel(\"PC3\")\n",
    "# ax.set_title(\"PCA on the Acc & Gyr\")\n",
    "# plt.show()"
   ]
  },
  {
   "cell_type": "markdown",
   "metadata": {},
   "source": [
    "### Normalize data"
   ]
  },
  {
   "cell_type": "markdown",
   "metadata": {},
   "source": [
    "#### Normalize function"
   ]
  },
  {
   "cell_type": "markdown",
   "metadata": {},
   "source": [
    "#### Normalize all the data"
   ]
  },
  {
   "cell_type": "code",
   "execution_count": 1,
   "metadata": {},
   "outputs": [
    {
     "ename": "ModuleNotFoundError",
     "evalue": "No module named 'keras'",
     "output_type": "error",
     "traceback": [
      "\u001b[1;31m---------------------------------------------------------------------------\u001b[0m",
      "\u001b[1;31mModuleNotFoundError\u001b[0m                       Traceback (most recent call last)",
      "\u001b[1;32m~\\AppData\\Local\\Temp/ipykernel_18460/3012742017.py\u001b[0m in \u001b[0;36m<module>\u001b[1;34m\u001b[0m\n\u001b[0;32m      2\u001b[0m \u001b[1;32mimport\u001b[0m \u001b[0mtensorflow\u001b[0m \u001b[1;32mas\u001b[0m \u001b[0mtf\u001b[0m\u001b[1;33m\u001b[0m\u001b[1;33m\u001b[0m\u001b[0m\n\u001b[0;32m      3\u001b[0m \u001b[1;32mfrom\u001b[0m \u001b[0mtensorflow\u001b[0m \u001b[1;32mimport\u001b[0m \u001b[0mkeras\u001b[0m\u001b[1;33m\u001b[0m\u001b[1;33m\u001b[0m\u001b[0m\n\u001b[1;32m----> 4\u001b[1;33m \u001b[1;32mfrom\u001b[0m \u001b[0mkeras\u001b[0m\u001b[1;33m.\u001b[0m\u001b[0mmodels\u001b[0m \u001b[1;32mimport\u001b[0m \u001b[0mSequential\u001b[0m\u001b[1;33m\u001b[0m\u001b[1;33m\u001b[0m\u001b[0m\n\u001b[0m\u001b[0;32m      5\u001b[0m \u001b[1;32mfrom\u001b[0m \u001b[0mkeras\u001b[0m\u001b[1;33m.\u001b[0m\u001b[0mlayers\u001b[0m \u001b[1;32mimport\u001b[0m \u001b[0mDense\u001b[0m\u001b[1;33m\u001b[0m\u001b[1;33m\u001b[0m\u001b[0m\n\u001b[0;32m      6\u001b[0m \u001b[1;32mimport\u001b[0m \u001b[0mnumpy\u001b[0m \u001b[1;32mas\u001b[0m \u001b[0mnp\u001b[0m\u001b[1;33m\u001b[0m\u001b[1;33m\u001b[0m\u001b[0m\n",
      "\u001b[1;31mModuleNotFoundError\u001b[0m: No module named 'keras'"
     ]
    }
   ],
   "source": []
  },
  {
   "cell_type": "code",
   "execution_count": null,
   "metadata": {},
   "outputs": [],
   "source": [
    "\n",
    "dataset=Pp.values\n",
    "dataset\n",
    "\n",
    "# kfold = StratifiedKFold(n_splits=10, shuffle=True, random_state=0)\n",
    "# cvscores = []\n",
    "# for train, test in kfold.split(X, Y):\n",
    "# model.add(Dense(12, input_dim=8, activation='relu'))\n",
    "# model.add(Dense(8, activation='relu'))\n",
    "# model.add(Dense(1, activation='sigmoid'))\n",
    "# model.compile(loss='binary_crossentropy', optimizer='adam', metrics=['accuracy'])\n",
    "# model.fit(X[train], Y[train], epochs=150, batch_size=10, verbose=0)\n",
    "# scores = model.evaluate(X[test], Y[test], verbose=0)\n",
    "# print(\"%s: %.2f%%\" % (model.metrics_names[1], scores[1]*100))\n",
    "# cvscores.append(scores[1] * 100)\n",
    "# print(\"%.2f%% (+/- %.2f%%)\" % (np.mean(cvscores), np.std(cvscores)))"
   ]
  },
  {
   "cell_type": "code",
   "execution_count": null,
   "metadata": {},
   "outputs": [],
   "source": [
    "predictions = model.predict(X1)\n",
    "rounded = [round(x1[0]) for x1 in predictions]\n",
    "print(rounded)\n",
    "results = confusion_matrix(Y1, rounded)\n",
    "print(results)"
   ]
  },
  {
   "cell_type": "code",
   "execution_count": null,
   "metadata": {},
   "outputs": [],
   "source": [
    "def confusion_matrix(actual, predicted):\n",
    "\tunique = set(actual)\n",
    "\tmatrix = [list() for x in range(len(unique))]\n",
    "\tfor i in range(len(unique)):\n",
    "\t\tmatrix[i] = [0 for x in range(len(unique))]\n",
    "\tlookup = dict()\n",
    "\tfor i, value in enumerate(unique):\n",
    "\t\tlookup[value] = i\n",
    "\tfor i in range(len(actual)):\n",
    "\t\tx = lookup[actual[i]]\n",
    "\t\ty = lookup[predicted[i]]\n",
    "\t\tmatrix[y][x] += 1\n",
    "\treturn unique, matrix\n",
    " \n",
    "# pretty print a confusion matrix\n",
    "def print_confusion_matrix(unique, matrix):\n",
    "\tprint('(A)' + ' '.join(str(x) for x in unique))\n",
    "\tprint('(P)-------')\n",
    "\tfor i, x in enumerate(unique):\n",
    "\t\tprint(\"%s| %s\" % (x, ' '.join(str(x) for x in matrix[i])))"
   ]
  },
  {
   "cell_type": "code",
   "execution_count": null,
   "metadata": {},
   "outputs": [],
   "source": [
    "unique, matrix = confusion_matrix(Y1, rounded)\n",
    "print_confusion_matrix(unique, matrix)\n",
    "\n",
    "#Print the Sequential model structure\n",
    "print(model.summary())"
   ]
  }
 ],
 "metadata": {
  "interpreter": {
   "hash": "d27c620567fe2d1f3f91b14d158f32cde7e2c4b18fc4163e5eb414de6a296357"
  },
  "kernelspec": {
   "display_name": "Python 3 (ipykernel)",
   "language": "python",
   "name": "python3"
  },
  "language_info": {
   "codemirror_mode": {
    "name": "ipython",
    "version": 3
   },
   "file_extension": ".py",
   "mimetype": "text/x-python",
   "name": "python",
   "nbconvert_exporter": "python",
   "pygments_lexer": "ipython3",
   "version": "3.8.12"
  }
 },
 "nbformat": 4,
 "nbformat_minor": 2
}
