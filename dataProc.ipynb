{
 "cells": [
  {
   "cell_type": "markdown",
   "metadata": {},
   "source": [
    "# CIE Project A - Group 7\n",
    "## ---> Data processing"
   ]
  },
  {
   "cell_type": "markdown",
   "metadata": {},
   "source": [
    "### Imports"
   ]
  },
  {
   "cell_type": "code",
   "execution_count": 157,
   "metadata": {},
   "outputs": [],
   "source": [
    "import os\n",
    "\n",
    "import pandas as pd\n",
    "import numpy as np\n",
    "import matplotlib.pyplot as plt\n",
    "from scipy import signal as sp\n",
    "\n",
    "from sklearn import preprocessing ##importing for normalization\n",
    "from sklearn.decomposition import PCA\n",
    "from sklearn.discriminant_analysis import LinearDiscriminantAnalysis as LDA\n",
    "from sklearn.preprocessing import StandardScaler, LabelEncoder\n",
    "\n",
    "import tensorflow as tf\n",
    "from keras.utils import np_utils\n",
    "\n",
    "plt.rcParams['figure.dpi'] = 100\n",
    "plt.rcParams['axes.grid'] = True\n",
    "plt.rcParams['legend.frameon'] = True\n",
    "%matplotlib widget\n",
    "\n",
    "# from sklearn.model_selection import train_test_split\n",
    "# from sklearn.metrics import confusion_matrix"
   ]
  },
  {
   "cell_type": "markdown",
   "metadata": {},
   "source": [
    "#### Get the root directory and change to it"
   ]
  },
  {
   "cell_type": "code",
   "execution_count": 158,
   "metadata": {},
   "outputs": [],
   "source": [
    "rootdir = os.getcwd()\n",
    "os.chdir(rootdir)"
   ]
  },
  {
   "cell_type": "markdown",
   "metadata": {},
   "source": [
    "### Variable Assignment"
   ]
  },
  {
   "cell_type": "code",
   "execution_count": 159,
   "metadata": {},
   "outputs": [],
   "source": [
    "gyrFile = 'Gyroscope'\n",
    "accFile = 'Accelerometer'\n",
    "\n",
    "normal = 'Normal'\n",
    "upstairs = 'Upstairs'\n",
    "downstairs = 'Downstairs'\n",
    "\n",
    "smartphone = [3]\n",
    "\n",
    "s1 = 'Smartphone1'\n",
    "s3 = 'Smartphone3'\n",
    "\n",
    "s = [s3]\n",
    "\n",
    "gaitpos = [normal, upstairs, downstairs]"
   ]
  },
  {
   "cell_type": "markdown",
   "metadata": {},
   "source": [
    "### Data Parsing"
   ]
  },
  {
   "cell_type": "markdown",
   "metadata": {},
   "source": [
    "#### Define variables for raw data"
   ]
  },
  {
   "cell_type": "code",
   "execution_count": 160,
   "metadata": {},
   "outputs": [],
   "source": [
    "count = 0\n",
    "\n",
    "# Naming convention - gyr(oscope)_s(martphone_location)) and Same for acceleraoemeter\n",
    "# All the data is stored in a list of dataframes. So, gyr{gaitpos}_s{martphone_location}[0, 1, 2, .....] gives the data as sorted by name in the file directory.\n",
    "# gyrNormal_s1[0] gives the gyroscope data of the subject180_Normal sample 01 in the normal gait position.\n",
    "# gyrNormal_s1[1] gives the gyroscope data of the subject180_Normal sample 02 in the normal gait position.\n",
    "# \n",
    "# gyrNormal_s[2] gives the gyroscope data of the subject181_Normal sample 01 in the normal gait position.\n",
    "# \n",
    "# and so on. \n",
    "\n",
    "# Create arrays for Raw data\n",
    "for x in gaitpos:\n",
    "    for y in smartphone:\n",
    "        # variables of raw the data\n",
    "        globals()['gyr%s_s%s' % (x, y)] = []\n",
    "        globals()['acc%s_s%s' % (x, y)] = []\n",
    "##---------------------------------------------------------------------------------------------------------------------"
   ]
  },
  {
   "cell_type": "markdown",
   "metadata": {},
   "source": [
    "#### Parsing gyroscope and accelerometer data at all gait positions (Smartphone 1 - Rear Right) & (Smartphone 3 - Front Right)"
   ]
  },
  {
   "cell_type": "code",
   "execution_count": 161,
   "metadata": {},
   "outputs": [],
   "source": [
    "for subdir, dirs, files in os.walk(rootdir):\n",
    "    for foldername in s:\n",
    "        for gait in gaitpos:    \n",
    "        \n",
    "            gyr = eval(f'gyr{gait}_s{foldername[10]}')\n",
    "            acc = eval(f'acc{gait}_s{foldername[10]}')\n",
    "            \n",
    "            if foldername.lower() in subdir.lower():\n",
    "                if gait.lower() in subdir.lower():\n",
    "    \n",
    "                    for file in files:\n",
    "\n",
    "                        if gyrFile.lower() in file.lower():\n",
    "                            count = count + 1\n",
    "                            # print(f'#{count} -- {os.path.join(subdir, file)}')\n",
    "\n",
    "                            with open(os.path.join(subdir, file), 'r') as f: # open in read-only mode\n",
    "                                gyrData = pd.read_csv(f)\n",
    "                                # Assemble the data into a tensor\n",
    "                                gyr.append(gyrData)\n",
    "\n",
    "                        if accFile in file:\n",
    "                            count = count + 1\n",
    "                            # print(f'#{count} -- {os.path.join(subdir, file)}')\n",
    "\n",
    "                            with open(os.path.join(subdir, file), 'r') as f: # open in read-only mode\n",
    "                                accData = pd.read_csv(f)\n",
    "                                # Assemble the data into a tensor\n",
    "                                acc.append(accData)"
   ]
  },
  {
   "cell_type": "markdown",
   "metadata": {},
   "source": [
    "#### Check if the data is collected correctly after parsing"
   ]
  },
  {
   "cell_type": "code",
   "execution_count": 162,
   "metadata": {},
   "outputs": [
    {
     "name": "stdout",
     "output_type": "stream",
     "text": [
      "Shape of gyrNormal_s3 is ------ (8,)\n",
      "Shape of accNormal_s3 is ------ (8,) \n",
      "\n",
      "Shape of gyrUpstairs_s3 is ------ (8,)\n",
      "Shape of accUpstairs_s3 is ------ (8,) \n",
      "\n",
      "Shape of gyrDownstairs_s3 is ------ (8,)\n",
      "Shape of accDownstairs_s3 is ------ (8,) \n",
      "\n"
     ]
    }
   ],
   "source": [
    "# getting the data shape for reference\n",
    "for j in gaitpos:\n",
    "    for i in smartphone:\n",
    "            gyrl = eval(f'gyr{j}_s{i}')\n",
    "            accl = eval(f'acc{j}_s{i}')\n",
    "\n",
    "            print(f'Shape of gyr{j}_s{i} is ------ {np.asarray((gyrl), dtype = list).shape}')\n",
    "            print(f'Shape of acc{j}_s{i} is ------ {np.asarray((accl), dtype = list).shape} \\n')"
   ]
  },
  {
   "cell_type": "markdown",
   "metadata": {},
   "source": [
    "### Data Validation and Preprocessing"
   ]
  },
  {
   "cell_type": "markdown",
   "metadata": {},
   "source": [
    "#### -- No need to run -- Frequency check of all the data before filtering"
   ]
  },
  {
   "cell_type": "code",
   "execution_count": 163,
   "metadata": {},
   "outputs": [],
   "source": [
    "freqGyr = []\n",
    "freqAcc = []\n",
    "\n",
    "# Loop through the variables and check if all the data is collected\n",
    "for j in gaitpos:\n",
    "    for i in smartphone:\n",
    "        # Calculating gyroscope frequency before preprocessing\n",
    "        gyrl = eval(f'gyr{j}_s{i}')\n",
    "        ng = len(gyrl)\n",
    "\n",
    "        # loop to calculate the frequency over all the data\n",
    "        for s in range(0, ng):\n",
    "            time = np.asarray(gyrl[s].iloc[:,0])\n",
    "\n",
    "            freqG = np.round(len(time)/(time[-1]))\n",
    "            freqGyr.append(freqG)\n",
    "        \n",
    "        # Calculating accelerometer frequency before preprocessing\n",
    "        accl = eval(f'acc{j}_s{i}')\n",
    "        na = len(accl)\n",
    "\n",
    "        # loop to calculate the frequency over all the data\n",
    "        for s in range(0, na):\n",
    "            time = np.asarray(accl[s].iloc[:,0])\n",
    "\n",
    "            freqA = np.round(len(time)/(time[-1]))\n",
    "            freqAcc.append(freqA)\n",
    "\n",
    "for i in range(0, len(freqGyr)):\n",
    "    if freqGyr[i] < 10:\n",
    "        print(f'Position of the frequency issue is at freqGyr:{i} and the frequency is {freqGyr[i]}')\n",
    "for j in range(0, len(freqAcc)):\n",
    "    if freqAcc[j] < 10:\n",
    "        print(f'Position of the frequency issue is at freqAcc:{j} and the frequency is {freqAcc[j]}')"
   ]
  },
  {
   "cell_type": "markdown",
   "metadata": {},
   "source": [
    "### Filter Data"
   ]
  },
  {
   "cell_type": "markdown",
   "metadata": {},
   "source": [
    "#### Lowpass filter (Butterworth) function"
   ]
  },
  {
   "cell_type": "code",
   "execution_count": 164,
   "metadata": {},
   "outputs": [],
   "source": [
    "#Filter the data to remove noise\n",
    "\n",
    "# inputs for the function is the data, the sampling frequency, the cutoff frequency.\n",
    "def dataFilter(dataInput, fs=200, fc=5, order = 2):\n",
    "    Filtrd = np.zeros(dataInput.shape)\n",
    "    w = fc / (fs * 0.5)\n",
    "    b, a = sp.butter(fc, w, 'low')\n",
    "    \n",
    "    #Filter the X, Y and Z axis of the input data\n",
    "    for i in range(0, 3):\n",
    "        Filtrd[:,i] = sp.filtfilt(b, a, dataInput.iloc[:,i+1])\n",
    "\n",
    "    return Filtrd"
   ]
  },
  {
   "cell_type": "markdown",
   "metadata": {},
   "source": [
    "##### -- Different filter check -- Chebyshev filter"
   ]
  },
  {
   "cell_type": "code",
   "execution_count": 165,
   "metadata": {},
   "outputs": [
    {
     "data": {
      "text/plain": [
       "\"\\n# chebyshev filter for the accelerometer data\\ndef chebyFilter(dataInput, fs=200, fc=5, order = 2):\\n    Filtrd = np.zeros(dataInput.shape)\\n    w = fc / (fs * 0.5)\\n    b, a = sp.cheby2(order, 20, w, 'low')\\n    \\n    #Filter the X, Y and Z axis of the input data\\n    for i in range(0, 3):\\n        Filtrd[:,i] = sp.filtfilt(b,a, dataInput.iloc[:,i+1])\\n    \\n    return Filtrd\\n\""
      ]
     },
     "execution_count": 165,
     "metadata": {},
     "output_type": "execute_result"
    }
   ],
   "source": [
    "'''\n",
    "# chebyshev filter for the accelerometer data\n",
    "def chebyFilter(dataInput, fs=200, fc=5, order = 2):\n",
    "    Filtrd = np.zeros(dataInput.shape)\n",
    "    w = fc / (fs * 0.5)\n",
    "    b, a = sp.cheby2(order, 20, w, 'low')\n",
    "    \n",
    "    #Filter the X, Y and Z axis of the input data\n",
    "    for i in range(0, 3):\n",
    "        Filtrd[:,i] = sp.filtfilt(b,a, dataInput.iloc[:,i+1])\n",
    "    \n",
    "    return Filtrd\n",
    "'''"
   ]
  },
  {
   "cell_type": "markdown",
   "metadata": {},
   "source": [
    "##### -- Test -- the dataFilter function and its dependency on the frequency input"
   ]
  },
  {
   "cell_type": "code",
   "execution_count": 166,
   "metadata": {},
   "outputs": [
    {
     "data": {
      "text/plain": [
       "\"gyrF = []\\naccF = []\\nng = len(gyrNormal_s1)\\nna = len(accNormal_s1)\\n\\nfor i in range(0, ng):\\n    timeg = np.asarray(gyrNormal_s1[i].iloc[:,0])\\n    freqG = np.round(len(timeg)/(timeg[-1]))\\n    gyrF.append(freqG)\\n\\nfor j in range(0, na):\\n    timea = np.asarray(accNormal_s1[j].iloc[:,0])\\n    freqA = np.round(len(timea)/(timea[-1]))\\n    accF.append(freqA)\\n\\ngyrFilt = []\\naccFilt = []\\n\\nfor rg in range(0, ng):\\n    gf = dataFilter(gyrNormal_s1[rg], fs = 100)\\n    gyrFilt.append(gf)\\n\\nfor ra in range(0, na):\\n    af = dataFilter(accNormal_s1[ra], fs = 100)\\n    accFilt.append(af)\\n\\nt1 = np.asarray(gyrNormal_s1[0].iloc[:,0])\\nf1 = np.round(len(t1)/(t1[-1]))\\n\\nxyz = dataFilter(gyrNormal_s1[0], fs = f1)\\n\\nplt.close('all')\\nplt.plot(gyrNormal_s1[0].iloc[:,1], 'r')\\nplt.plot(xyz[:,0], 'b')\\nplt.show()\""
      ]
     },
     "execution_count": 166,
     "metadata": {},
     "output_type": "execute_result"
    }
   ],
   "source": [
    "'''gyrF = []\n",
    "accF = []\n",
    "ng = len(gyrNormal_s1)\n",
    "na = len(accNormal_s1)\n",
    "\n",
    "for i in range(0, ng):\n",
    "    timeg = np.asarray(gyrNormal_s1[i].iloc[:,0])\n",
    "    freqG = np.round(len(timeg)/(timeg[-1]))\n",
    "    gyrF.append(freqG)\n",
    "\n",
    "for j in range(0, na):\n",
    "    timea = np.asarray(accNormal_s1[j].iloc[:,0])\n",
    "    freqA = np.round(len(timea)/(timea[-1]))\n",
    "    accF.append(freqA)\n",
    "\n",
    "gyrFilt = []\n",
    "accFilt = []\n",
    "\n",
    "for rg in range(0, ng):\n",
    "    gf = dataFilter(gyrNormal_s1[rg], fs = 100)\n",
    "    gyrFilt.append(gf)\n",
    "\n",
    "for ra in range(0, na):\n",
    "    af = dataFilter(accNormal_s1[ra], fs = 100)\n",
    "    accFilt.append(af)\n",
    "\n",
    "t1 = np.asarray(gyrNormal_s1[0].iloc[:,0])\n",
    "f1 = np.round(len(t1)/(t1[-1]))\n",
    "\n",
    "xyz = dataFilter(gyrNormal_s1[0], fs = f1)\n",
    "\n",
    "plt.close('all')\n",
    "plt.plot(gyrNormal_s1[0].iloc[:,1], 'r')\n",
    "plt.plot(xyz[:,0], 'b')\n",
    "plt.show()'''"
   ]
  },
  {
   "cell_type": "markdown",
   "metadata": {},
   "source": [
    "#### Filtering all the data"
   ]
  },
  {
   "cell_type": "code",
   "execution_count": 167,
   "metadata": {},
   "outputs": [],
   "source": [
    "# Create arrays for Filtered data\n",
    "for x in gaitpos:\n",
    "    for y in smartphone:\n",
    "        # variables of Filtered data\n",
    "        globals()['gyrFiltered%s_s%s' % (x, y)] = []\n",
    "        globals()['accFiltered%s_s%s' % (x, y)] = []\n",
    "##---------------------------------------------------------------------------------------------------------------------\n",
    "\n",
    "for j in gaitpos:\n",
    "    for i in smartphone:\n",
    "            # variables of raw the data\n",
    "            gyrl = eval(f'gyr{j}_s{i}')\n",
    "            accl = eval(f'acc{j}_s{i}')\n",
    "            \n",
    "            # variables of filtered the data\n",
    "            gyrF = eval(f'gyrFiltered{j}_s{i}')\n",
    "            accF = eval(f'accFiltered{j}_s{i}')\n",
    "\n",
    "            # getting the shape of the gyroscope data (first integer)\n",
    "            ng = len(gyrl)\n",
    "\n",
    "            # Getting the shape of the accelerometer data (first integer)\n",
    "            na = len(accl)\n",
    "\n",
    "\n",
    "            # Filter all the data\n",
    "            for rg in range(0, ng):\n",
    "                timeg = np.asarray(gyrl[rg].iloc[:,0])\n",
    "                fG = np.round(len(timeg)/(timeg[-1]))\n",
    "\n",
    "                gf = dataFilter(gyrl[rg], fs = fG)\n",
    "                gyrF.append(gf)\n",
    "\n",
    "            for ra in range(0, na):\n",
    "                timea = np.asarray(accl[ra].iloc[:,0])\n",
    "                fA = np.round(len(timea)/(timea[-1]))\n",
    "\n",
    "                af = dataFilter(accl[ra], fs = fA)\n",
    "                accF.append(af)"
   ]
  },
  {
   "cell_type": "markdown",
   "metadata": {},
   "source": [
    "#### Check if all the data is collected correctly after filtering"
   ]
  },
  {
   "cell_type": "code",
   "execution_count": 168,
   "metadata": {},
   "outputs": [
    {
     "name": "stdout",
     "output_type": "stream",
     "text": [
      "Shape of gyrFilteredNormal_s3 is ------ (8,)\n",
      "Shape of accFilteredNormal_s3 is ------ (8,) \n",
      "\n",
      "Shape of gyrFilteredUpstairs_s3 is ------ (8,)\n",
      "Shape of accFilteredUpstairs_s3 is ------ (8,) \n",
      "\n",
      "Shape of gyrFilteredDownstairs_s3 is ------ (8,)\n",
      "Shape of accFilteredDownstairs_s3 is ------ (8,) \n",
      "\n"
     ]
    }
   ],
   "source": [
    "# getting the data shape for reference\n",
    "for j in gaitpos:\n",
    "    for i in smartphone:\n",
    "            gyrl = eval(f'gyrFiltered{j}_s{i}')\n",
    "            accl = eval(f'accFiltered{j}_s{i}')\n",
    "\n",
    "            print(f'Shape of gyrFiltered{j}_s{i} is ------ {np.asarray((gyrl), dtype = list).shape}')\n",
    "            print(f'Shape of accFiltered{j}_s{i} is ------ {np.asarray((accl), dtype = list).shape} \\n')"
   ]
  },
  {
   "cell_type": "markdown",
   "metadata": {},
   "source": [
    "#### Delete extra -null- column on the right"
   ]
  },
  {
   "cell_type": "code",
   "execution_count": 169,
   "metadata": {},
   "outputs": [],
   "source": [
    "for j in gaitpos:\n",
    "    for i in smartphone:\n",
    "        gyrl = eval(f'gyrFiltered{j}_s{i}')\n",
    "        accl = eval(f'accFiltered{j}_s{i}')\n",
    "        for k in range(0, len(gyrl)):\n",
    "            d = np.delete(gyrl[k], 3, axis = 1)\n",
    "            e = np.delete(accl[k], 3, axis = 1)\n",
    "            gyrl[k] = d\n",
    "            accl[k] = e"
   ]
  },
  {
   "cell_type": "markdown",
   "metadata": {},
   "source": [
    "### Cut data"
   ]
  },
  {
   "cell_type": "markdown",
   "metadata": {},
   "source": [
    "#### Cut data function"
   ]
  },
  {
   "cell_type": "code",
   "execution_count": 170,
   "metadata": {},
   "outputs": [],
   "source": [
    "def cutData(gyrFilt, accFilt, freq):\n",
    "    acc_abs = np.linalg.norm(accFilt, axis=1)\n",
    "    \n",
    "    ht = np.round(np.mean(acc_abs[int(0.3*len(acc_abs)):int(0.7*len(acc_abs))])).astype(int)\n",
    "\n",
    "    peaks, _ = sp.find_peaks(acc_abs, height = -10, distance=freq*0.5)\n",
    "    diff_peaks = np.diff(peaks)\n",
    "    gap1 = np.argmax(diff_peaks[:int(0.4*(len(diff_peaks)))])\n",
    "    gap2 = np.argmax(diff_peaks[-int(0.4*len(diff_peaks)):])\n",
    "    \n",
    "    gap2 = int(np.shape(diff_peaks)[0] - int(0.4*len(diff_peaks)) + gap2)\n",
    "\n",
    "    gyr_cut = gyrFilt[peaks[gap1+1]:peaks[gap2], :]\n",
    "    acc_cut = accFilt[peaks[gap1+1]:peaks[gap2], :]\n",
    "\n",
    "    return gyr_cut, acc_cut"
   ]
  },
  {
   "cell_type": "markdown",
   "metadata": {},
   "source": [
    "#### -- check -- Cut data function"
   ]
  },
  {
   "cell_type": "code",
   "execution_count": 171,
   "metadata": {},
   "outputs": [
    {
     "data": {
      "text/plain": [
       "\"\\ngyrNormalCtted, accNormalCtted = [], []\\n\\nfor x in range(0, len(gyrNormal_s3)):\\n    num = x\\n    \\n    nq = len(accNormal_s3[num])\\n    tq = np.asarray(gyrNormal_s3[num].iloc[:,0])\\n    freq = np.round(len(tq)/(tq[-1]))\\n    # print(f'The frequency of the data is {freq}')\\n\\n    acc_abs = np.linalg.norm(accFilteredNormal_s3[num], axis=1)\\n\\n    # ht = np.round(np.mean(acc_abs[int(0.2*len(acc_abs)):int(0.7*len(acc_abs))])).astype(int)\\n    # ht = np.round(np.mean(acc_abs)).astype(int)\\n    # print(f'The average height of the data is {ht}')\\n    peaks, _ = sp.find_peaks(acc_abs, height = 0, distance=freq*0.5)\\n    # print(f'The number of peaks is {(peaks)}')\\n\\n    diff_peaks = np.diff(peaks)\\n    # print(f'The difference of peaks is {(diff_peaks)}')\\n\\n    gap1 = np.argmax(diff_peaks[:20])\\n    # print(f'The first gap is {gap1}')\\n\\n    gap2 = np.argmax(diff_peaks[-10:])\\n    gap2 = int(np.shape(diff_peaks)[0] - 10 + gap2)\\n    # print(f'The second gap is {gap2}')\\n\\n    gyr_cut = gyrFilteredNormal_s3[num][peaks[gap1+1]:peaks[gap2], :]\\n    acc_cut = accFilteredNormal_s3[num][peaks[gap1+1]:peaks[gap2], :]\\n\\n    gyrNormalCtted.append(gyr_cut)\\n    accNormalCtted.append(acc_cut)\\n\""
      ]
     },
     "execution_count": 171,
     "metadata": {},
     "output_type": "execute_result"
    }
   ],
   "source": [
    "'''\n",
    "gyrNormalCtted, accNormalCtted = [], []\n",
    "\n",
    "for x in range(0, len(gyrNormal_s3)):\n",
    "    num = x\n",
    "    \n",
    "    nq = len(accNormal_s3[num])\n",
    "    tq = np.asarray(gyrNormal_s3[num].iloc[:,0])\n",
    "    freq = np.round(len(tq)/(tq[-1]))\n",
    "    # print(f'The frequency of the data is {freq}')\n",
    "\n",
    "    acc_abs = np.linalg.norm(accFilteredNormal_s3[num], axis=1)\n",
    "\n",
    "    # ht = np.round(np.mean(acc_abs[int(0.2*len(acc_abs)):int(0.7*len(acc_abs))])).astype(int)\n",
    "    # ht = np.round(np.mean(acc_abs)).astype(int)\n",
    "    # print(f'The average height of the data is {ht}')\n",
    "    peaks, _ = sp.find_peaks(acc_abs, height = 0, distance=freq*0.5)\n",
    "    # print(f'The number of peaks is {(peaks)}')\n",
    "\n",
    "    diff_peaks = np.diff(peaks)\n",
    "    # print(f'The difference of peaks is {(diff_peaks)}')\n",
    "\n",
    "    gap1 = np.argmax(diff_peaks[:20])\n",
    "    # print(f'The first gap is {gap1}')\n",
    "\n",
    "    gap2 = np.argmax(diff_peaks[-10:])\n",
    "    gap2 = int(np.shape(diff_peaks)[0] - 10 + gap2)\n",
    "    # print(f'The second gap is {gap2}')\n",
    "\n",
    "    gyr_cut = gyrFilteredNormal_s3[num][peaks[gap1+1]:peaks[gap2], :]\n",
    "    acc_cut = accFilteredNormal_s3[num][peaks[gap1+1]:peaks[gap2], :]\n",
    "\n",
    "    gyrNormalCtted.append(gyr_cut)\n",
    "    accNormalCtted.append(acc_cut)\n",
    "'''"
   ]
  },
  {
   "cell_type": "markdown",
   "metadata": {},
   "source": [
    "#### -- Test -- Cut Data line by line"
   ]
  },
  {
   "cell_type": "code",
   "execution_count": 172,
   "metadata": {},
   "outputs": [
    {
     "data": {
      "text/plain": [
       "'\\nnum = 7\\n\\nnq = len(accNormal_s3[num])\\ntq = np.asarray(gyrNormal_s3[num].iloc[:,0])\\nfreq = np.round(len(tq)/(tq[-1]))\\nprint(f\\'The frequency of the data is {freq}\\')\\n\\nacc_abs = np.linalg.norm(accFilteredNormal_s3[num], axis=1)\\n\\nht = np.round(np.mean(acc_abs[int(0.2*len(acc_abs)):int(0.7*len(acc_abs))])).astype(int)\\n# ht = np.round(np.mean(acc_abs)).astype(int)\\nprint(f\\'The average height of the data is {ht}\\')\\npeaks, _ = sp.find_peaks(acc_abs, height = 0, distance=freq*0.5)\\nprint(f\\'The number of peaks is {(peaks)}\\')\\n\\ndiff_peaks = np.diff(peaks)\\nprint(f\\'The difference of peaks is {(diff_peaks)}\\')\\n\\ngap1 = np.argmax(diff_peaks[:int(0.1*(len(diff_peaks)))])\\nprint(f\\'The first gap is {gap1}\\')\\n\\ngap2 = np.argmax(diff_peaks[-int(0.1*len(diff_peaks)):])\\ngap2 = int(np.shape(diff_peaks)[0] - int(0.2*len(diff_peaks)) + gap2)\\nprint(f\\'The second gap is {gap2}\\')\\n\\ngyr_cut = gyrFilteredNormal_s3[num][peaks[gap1+1]:peaks[gap2], :]\\nacc_cut = accFilteredNormal_s3[num][peaks[gap1+1]:peaks[gap2], :]\\n\\nplt.close()\\n# plt.plot(gyrFilteredNormal_s1[1][:,0], label=\\'Raw Data\\', c = \\'b\\')\\n\\nplt.plot(acc_abs, label = \\'Accelerometer Absolute Data\\', c = \\'grey\\')\\nplt.plot(np.linspace(0, len(gyrNormal_s3[num])), np.full_like(np.linspace(0, len(gyrNormal_s3[num])), ht), label = \\'Average Height\\', c = \\'r\\')\\n\\nplt.plot(peaks, acc_abs[peaks], \\'x\\', label = \\'Peaks\\', c = \\'y\\')\\nplt.plot(np.linspace(0, len(gyrNormal_s3[num])), np.zeros_like(np.linspace(0, len(gyrNormal_s3[num]))), linestyle = \"--\", linewidth = 0.2, dashes=(5, 15), color=\"black\")\\n\\nplt.plot(peaks[gap1+1], acc_abs[peaks[gap1+1]], \\'o\\', label = \\'Gap 1\\', c = \\'g\\')\\nplt.plot(peaks[gap2], acc_abs[peaks[gap2]], \\'o\\', label = \\'Gap 2\\', c = \\'black\\')\\n\\nplt.plot(gyr_cut[:,0], label = \\'Gyr Cut\\', c=\\'r\\')\\n\\nplt.legend()\\nplt.grid()\\nplt.show()\\n'"
      ]
     },
     "execution_count": 172,
     "metadata": {},
     "output_type": "execute_result"
    }
   ],
   "source": [
    "'''\n",
    "num = 7\n",
    "\n",
    "nq = len(accNormal_s3[num])\n",
    "tq = np.asarray(gyrNormal_s3[num].iloc[:,0])\n",
    "freq = np.round(len(tq)/(tq[-1]))\n",
    "print(f'The frequency of the data is {freq}')\n",
    "\n",
    "acc_abs = np.linalg.norm(accFilteredNormal_s3[num], axis=1)\n",
    "\n",
    "ht = np.round(np.mean(acc_abs[int(0.2*len(acc_abs)):int(0.7*len(acc_abs))])).astype(int)\n",
    "# ht = np.round(np.mean(acc_abs)).astype(int)\n",
    "print(f'The average height of the data is {ht}')\n",
    "peaks, _ = sp.find_peaks(acc_abs, height = 0, distance=freq*0.5)\n",
    "print(f'The number of peaks is {(peaks)}')\n",
    "\n",
    "diff_peaks = np.diff(peaks)\n",
    "print(f'The difference of peaks is {(diff_peaks)}')\n",
    "\n",
    "gap1 = np.argmax(diff_peaks[:int(0.1*(len(diff_peaks)))])\n",
    "print(f'The first gap is {gap1}')\n",
    "\n",
    "gap2 = np.argmax(diff_peaks[-int(0.1*len(diff_peaks)):])\n",
    "gap2 = int(np.shape(diff_peaks)[0] - int(0.2*len(diff_peaks)) + gap2)\n",
    "print(f'The second gap is {gap2}')\n",
    "\n",
    "gyr_cut = gyrFilteredNormal_s3[num][peaks[gap1+1]:peaks[gap2], :]\n",
    "acc_cut = accFilteredNormal_s3[num][peaks[gap1+1]:peaks[gap2], :]\n",
    "\n",
    "plt.close()\n",
    "# plt.plot(gyrFilteredNormal_s1[1][:,0], label='Raw Data', c = 'b')\n",
    "\n",
    "plt.plot(acc_abs, label = 'Accelerometer Absolute Data', c = 'grey')\n",
    "plt.plot(np.linspace(0, len(gyrNormal_s3[num])), np.full_like(np.linspace(0, len(gyrNormal_s3[num])), ht), label = 'Average Height', c = 'r')\n",
    "\n",
    "plt.plot(peaks, acc_abs[peaks], 'x', label = 'Peaks', c = 'y')\n",
    "plt.plot(np.linspace(0, len(gyrNormal_s3[num])), np.zeros_like(np.linspace(0, len(gyrNormal_s3[num]))), linestyle = \"--\", linewidth = 0.2, dashes=(5, 15), color=\"black\")\n",
    "\n",
    "plt.plot(peaks[gap1+1], acc_abs[peaks[gap1+1]], 'o', label = 'Gap 1', c = 'g')\n",
    "plt.plot(peaks[gap2], acc_abs[peaks[gap2]], 'o', label = 'Gap 2', c = 'black')\n",
    "\n",
    "plt.plot(gyr_cut[:,0], label = 'Gyr Cut', c='r')\n",
    "\n",
    "plt.legend()\n",
    "plt.grid()\n",
    "plt.show()\n",
    "'''"
   ]
  },
  {
   "cell_type": "markdown",
   "metadata": {},
   "source": [
    "#### Cut all the data"
   ]
  },
  {
   "cell_type": "code",
   "execution_count": 173,
   "metadata": {},
   "outputs": [],
   "source": [
    "# Create arrays for Cut data\n",
    "for x in gaitpos:\n",
    "    for y in smartphone:\n",
    "        # variables of Cut data\n",
    "        globals()['gyrCut%s_s%s' % (x, y)] = []\n",
    "        globals()['accCut%s_s%s' % (x, y)] = []\n",
    "##---------------------------------------------------------------------------------------------------------------------\n",
    "\n",
    "for j in gaitpos:\n",
    "    for i in smartphone:\n",
    "            # variables of raw the data\n",
    "            gyrl = eval(f'gyr{j}_s{i}')\n",
    "            accl = eval(f'acc{j}_s{i}')\n",
    "            \n",
    "            # variables of filtered the data\n",
    "            gyrF = eval(f'gyrFiltered{j}_s{i}')\n",
    "            accF = eval(f'accFiltered{j}_s{i}')\n",
    "\n",
    "            # variables of cutted the data\n",
    "            gyrC = eval(f'gyrCut{j}_s{i}')\n",
    "            accC = eval(f'accCut{j}_s{i}')\n",
    "\n",
    "            # getting the shape of the gyroscope and accelerometer data\n",
    "            n = len(gyrF)\n",
    "\n",
    "            # Filter all the data\n",
    "            for r in range(0, n):\n",
    "                \n",
    "                tCut = np.asarray(gyrl[r].iloc[:,0])\n",
    "                freqCut = np.round(len(tCut)/(tCut[-1]))\n",
    "                # print(f'accFiltered{j}_s{i} - {[r]}')\n",
    "                gf, aF = cutData(gyrF[r], accF[r], freqCut)\n",
    "\n",
    "                gyrC.append(gf)\n",
    "                accC.append(aF)"
   ]
  },
  {
   "cell_type": "markdown",
   "metadata": {},
   "source": [
    "#### check if all the data is collected correctly after cutting"
   ]
  },
  {
   "cell_type": "code",
   "execution_count": 174,
   "metadata": {},
   "outputs": [
    {
     "name": "stdout",
     "output_type": "stream",
     "text": [
      "Shape of gyrCutNormal_s3 is ------ (8,)\n",
      "Shape of accCutNormal_s3 is ------ (8,) \n",
      "\n",
      "Shape of gyrCutUpstairs_s3 is ------ (8,)\n",
      "Shape of accCutUpstairs_s3 is ------ (8,) \n",
      "\n",
      "Shape of gyrCutDownstairs_s3 is ------ (8,)\n",
      "Shape of accCutDownstairs_s3 is ------ (8,) \n",
      "\n"
     ]
    }
   ],
   "source": [
    "# getting the data shape for reference\n",
    "for j in gaitpos:\n",
    "    for i in smartphone:\n",
    "            gyr = eval(f'gyrCut{j}_s{i}')\n",
    "            acc = eval(f'accCut{j}_s{i}')\n",
    "\n",
    "            print(f'Shape of gyrCut{j}_s{i} is ------ {np.asarray((gyr), dtype = list).shape}')\n",
    "            print(f'Shape of accCut{j}_s{i} is ------ {np.asarray((acc), dtype = list).shape} \\n')"
   ]
  },
  {
   "cell_type": "markdown",
   "metadata": {},
   "source": [
    "#### Plot raw data, filtered data, and cut data"
   ]
  },
  {
   "cell_type": "code",
   "execution_count": 175,
   "metadata": {},
   "outputs": [
    {
     "data": {
      "application/vnd.jupyter.widget-view+json": {
       "model_id": "c1c577f507ce4af9adde3b4b5fe5d908",
       "version_major": 2,
       "version_minor": 0
      },
      "text/plain": [
       "Canvas(toolbar=Toolbar(toolitems=[('Home', 'Reset original view', 'home', 'home'), ('Back', 'Back to previous …"
      ]
     },
     "metadata": {},
     "output_type": "display_data"
    }
   ],
   "source": [
    "# pos = 'Normal', 'Upstairs', 'Downstairs'\n",
    "pos = 'Normal'\n",
    "# loc = 1, 3\n",
    "loc = 3\n",
    "# no = 0-7\n",
    "no = 5\n",
    "# axis = 0, 1, 2\n",
    "axis = 0\n",
    "\n",
    "plt.close()\n",
    "fig, axs = plt.subplots(3, 1, sharex=True, sharey=True)\n",
    "\n",
    "axs[0].plot(eval(f'gyr{pos}_s{loc}')[no].iloc[:,(axis+1)], label='Raw Data', c = 'c')\n",
    "axs[1].plot(eval(f'gyrFiltered{pos}_s{loc}')[no][:,axis], label='Filtered Data', c = 'b')\n",
    "axs[2].plot(eval(f'gyrCut{pos}_s{loc}')[no][:,axis], label = 'Gyr Cutted Data', c = 'r')\n",
    "# plt.plot(eval(f'gyrResample{pos}_s{loc}')[no][:,axis], label = 'Gyr Resampled Data', c = 'g')\n",
    "\n",
    "axs[0].legend()\n",
    "axs[1].legend()\n",
    "axs[2].legend()\n",
    "plt.show()"
   ]
  },
  {
   "cell_type": "markdown",
   "metadata": {},
   "source": [
    "#### -- Test -- Save all cut data to plots"
   ]
  },
  {
   "cell_type": "code",
   "execution_count": 176,
   "metadata": {},
   "outputs": [
    {
     "data": {
      "text/plain": [
       "\"\\nfor j in gaitpos:\\n    for i in smartphone:\\n        # variables of raw the data\\n        gyrl = eval(f'gyr{j}_s{i}')\\n        accl = eval(f'acc{j}_s{i}')\\n        # variables of filtered the data\\n        gyrF = eval(f'gyrFiltered{j}_s{i}')\\n        accF = eval(f'accFiltered{j}_s{i}')\\n        # variables of cutted the data\\n        gyrC = eval(f'gyrCut{j}_s{i}')\\n        accC = eval(f'accCut{j}_s{i}')\\n\\n        for rg in range(0, len(gyrF)):\\n            plt.close()\\n            plt.plot(gyrl[rg].iloc[:,1], label='Raw Gyroscope Data', c = 'c')\\n            # plt.plot(accl[rg].iloc[:,1], label='Raw Accelerometer Data', c = 'm')\\n\\n            plt.plot(gyrF[rg][:,0], label='Filtered Gyroscope Data', c = 'b')\\n            # plt.plot(accF[rg][:,0], label='Filtered Accelerometer Data', c = 'g')\\n\\n            plt.plot(gyrC[rg][:,0], label='Gyroscope Cut Data', c = 'y')\\n            # plt.plot(accC[rg][:,0], label = 'Accelerometer Cut Data', c = 'r')\\n\\n            plt.legend()\\n            plt.grid()\\n            plt.ioff()\\n            # plt.savefig(rootdir+f'/2 Accelerometer_Pictures/acc{j}_s{i}_{rg}.png')\\n            plt.savefig(rootdir+f'/1 Gyroscope_Pictures/gyr{j}_s{i}_{rg}.png')\\n\""
      ]
     },
     "execution_count": 176,
     "metadata": {},
     "output_type": "execute_result"
    }
   ],
   "source": [
    "'''\n",
    "for j in gaitpos:\n",
    "    for i in smartphone:\n",
    "        # variables of raw the data\n",
    "        gyrl = eval(f'gyr{j}_s{i}')\n",
    "        accl = eval(f'acc{j}_s{i}')\n",
    "        # variables of filtered the data\n",
    "        gyrF = eval(f'gyrFiltered{j}_s{i}')\n",
    "        accF = eval(f'accFiltered{j}_s{i}')\n",
    "        # variables of cutted the data\n",
    "        gyrC = eval(f'gyrCut{j}_s{i}')\n",
    "        accC = eval(f'accCut{j}_s{i}')\n",
    "\n",
    "        for rg in range(0, len(gyrF)):\n",
    "            plt.close()\n",
    "            plt.plot(gyrl[rg].iloc[:,1], label='Raw Gyroscope Data', c = 'c')\n",
    "            # plt.plot(accl[rg].iloc[:,1], label='Raw Accelerometer Data', c = 'm')\n",
    "\n",
    "            plt.plot(gyrF[rg][:,0], label='Filtered Gyroscope Data', c = 'b')\n",
    "            # plt.plot(accF[rg][:,0], label='Filtered Accelerometer Data', c = 'g')\n",
    "\n",
    "            plt.plot(gyrC[rg][:,0], label='Gyroscope Cut Data', c = 'y')\n",
    "            # plt.plot(accC[rg][:,0], label = 'Accelerometer Cut Data', c = 'r')\n",
    "\n",
    "            plt.legend()\n",
    "            plt.grid()\n",
    "            plt.ioff()\n",
    "            # plt.savefig(rootdir+f'/2 Accelerometer_Pictures/acc{j}_s{i}_{rg}.png')\n",
    "            plt.savefig(rootdir+f'/1 Gyroscope_Pictures/gyr{j}_s{i}_{rg}.png')\n",
    "'''"
   ]
  },
  {
   "cell_type": "markdown",
   "metadata": {},
   "source": [
    "### Cut data of each single motion"
   ]
  },
  {
   "cell_type": "markdown",
   "metadata": {},
   "source": [
    "#### 2nd Cut data function"
   ]
  },
  {
   "cell_type": "code",
   "execution_count": 177,
   "metadata": {},
   "outputs": [],
   "source": [
    "def cut2Data(gyrCut, accCut, freq):\n",
    "    # axis to consider for the cut data again (0, 1, 2)\n",
    "    axis = 1\n",
    "\n",
    "    peaks, _ = sp.find_peaks(gyrCut[:,axis], height = 0, distance=freq*0.5)\n",
    "    \n",
    "    gyr_2cut = []\n",
    "    acc_2cut = []\n",
    "    \n",
    "    for i in range(0, len(peaks)-1):\n",
    "           \n",
    "        gyr = gyrCut[peaks[i]:peaks[i+1], :]\n",
    "        acc = accCut[peaks[i]:peaks[i+1], :]\n",
    "\n",
    "        gyr_2cut.append(gyr)\n",
    "        acc_2cut.append(acc)\n",
    "\n",
    "    return gyr_2cut, acc_2cut"
   ]
  },
  {
   "cell_type": "markdown",
   "metadata": {},
   "source": [
    "#### -- Check -- cut data algorithm"
   ]
  },
  {
   "cell_type": "code",
   "execution_count": 178,
   "metadata": {},
   "outputs": [
    {
     "data": {
      "text/plain": [
       "'\\naxis = 1\\ntCut = np.asarray(gyrNormal_s3[0].iloc[:,0])\\nfreq = np.round(len(tCut)/(tCut[-1]))\\ngyr2cut = []\\nacc2cut = []\\n\\npeaks, _ = sp.find_peaks(gyrCutNormal_s3[0][:,axis], height = -10, distance=freq*0.5)\\nfor i in range(0, len(peaks)-1):\\n\\n    gyr = gyrCutNormal_s3[0][peaks[i]:peaks[i+1], :]\\n    acc = accCutNormal_s3[0][peaks[i]:peaks[i+1], :]\\n\\n    gyr2cut.append(gyr)\\n    acc2cut.append(acc)\\n'"
      ]
     },
     "execution_count": 178,
     "metadata": {},
     "output_type": "execute_result"
    }
   ],
   "source": [
    "'''\n",
    "axis = 1\n",
    "tCut = np.asarray(gyrNormal_s3[0].iloc[:,0])\n",
    "freq = np.round(len(tCut)/(tCut[-1]))\n",
    "gyr2cut = []\n",
    "acc2cut = []\n",
    "\n",
    "peaks, _ = sp.find_peaks(gyrCutNormal_s3[0][:,axis], height = -10, distance=freq*0.5)\n",
    "for i in range(0, len(peaks)-1):\n",
    "\n",
    "    gyr = gyrCutNormal_s3[0][peaks[i]:peaks[i+1], :]\n",
    "    acc = accCutNormal_s3[0][peaks[i]:peaks[i+1], :]\n",
    "\n",
    "    gyr2cut.append(gyr)\n",
    "    acc2cut.append(acc)\n",
    "'''"
   ]
  },
  {
   "cell_type": "code",
   "execution_count": 179,
   "metadata": {},
   "outputs": [
    {
     "data": {
      "text/plain": [
       "\"\\nplt.close()\\nfig, axs = plt.subplots(2, 1, sharex=True)\\n\\naxs[0].plot(gyrCutNormal_s3[0][:,1], label = 'Cut Gyroscope Data', c = 'c')\\naxs[0].plot(peaks, gyrCutNormal_s3[0][:,1][peaks], 'x', label = 'Peaks', c = 'r')\\naxs[1].plot(gyr2cut[0][:,1], label = '2nd Cut Gyroscope Data', c = 'b')\\n\\nplt.legend()\\nplt.show()\\n\""
      ]
     },
     "execution_count": 179,
     "metadata": {},
     "output_type": "execute_result"
    }
   ],
   "source": [
    "'''\n",
    "plt.close()\n",
    "fig, axs = plt.subplots(2, 1, sharex=True)\n",
    "\n",
    "axs[0].plot(gyrCutNormal_s3[0][:,1], label = 'Cut Gyroscope Data', c = 'c')\n",
    "axs[0].plot(peaks, gyrCutNormal_s3[0][:,1][peaks], 'x', label = 'Peaks', c = 'r')\n",
    "axs[1].plot(gyr2cut[0][:,1], label = '2nd Cut Gyroscope Data', c = 'b')\n",
    "\n",
    "plt.legend()\n",
    "plt.show()\n",
    "'''"
   ]
  },
  {
   "cell_type": "markdown",
   "metadata": {},
   "source": [
    "#### 2nd Cut all the data"
   ]
  },
  {
   "cell_type": "code",
   "execution_count": 180,
   "metadata": {},
   "outputs": [],
   "source": [
    "# Create arrays for 2nd Cut data\n",
    "for x in gaitpos:\n",
    "    for y in smartphone:\n",
    "        # variables of raw the data\n",
    "        globals()['gyr2Cut%s_s%s' % (x, y)] = []\n",
    "        globals()['acc2Cut%s_s%s' % (x, y)] = []\n",
    "##---------------------------------------------------------------------------------------------------------------------\n",
    "\n",
    "for j in gaitpos:\n",
    "    for i in smartphone:\n",
    "        # variables of raw the data\n",
    "        gyrl = eval(f'gyr{j}_s{i}')\n",
    "        accl = eval(f'acc{j}_s{i}')\n",
    "        \n",
    "        gyrc = eval(f'gyrCut{j}_s{i}')\n",
    "        accc = eval(f'accCut{j}_s{i}')\n",
    "        \n",
    "        gyr2c = eval(f'gyr2Cut{j}_s{i}')\n",
    "        acc2c = eval(f'acc2Cut{j}_s{i}')\n",
    "\n",
    "        # Filter all the data\n",
    "        for r in range(0, len(gyrc)):\n",
    "            \n",
    "            tCut = np.asarray(gyrl[r].iloc[:,0])\n",
    "            freqCut = np.round(len(tCut)/(tCut[-1]))\n",
    "            \n",
    "            gf, aF = cut2Data(gyrc[r], accc[r], freqCut)\n",
    "\n",
    "            gyr2c.append(gf)\n",
    "            acc2c.append(aF)"
   ]
  },
  {
   "cell_type": "markdown",
   "metadata": {},
   "source": [
    "#### Plot to check the 2nd cut data"
   ]
  },
  {
   "cell_type": "code",
   "execution_count": 181,
   "metadata": {},
   "outputs": [
    {
     "data": {
      "application/vnd.jupyter.widget-view+json": {
       "model_id": "d234f244ea934f30b05e4d193d4de698",
       "version_major": 2,
       "version_minor": 0
      },
      "text/plain": [
       "Canvas(toolbar=Toolbar(toolitems=[('Home', 'Reset original view', 'home', 'home'), ('Back', 'Back to previous …"
      ]
     },
     "metadata": {},
     "output_type": "display_data"
    }
   ],
   "source": [
    "# print(peaks)\n",
    "tCut = np.asarray(gyrNormal_s3[1].iloc[:,0])\n",
    "freqCut = np.round(len(tCut)/(tCut[-1]))\n",
    "peaks, _ = sp.find_peaks(gyrCutNormal_s3[1][:,1], height = 0, distance=freqCut*0.6)\n",
    "\n",
    "plt.close()\n",
    "fig, axs = plt.subplots(2, 1, sharex = True)\n",
    "\n",
    "axs[0].plot(gyrCutNormal_s3[1][:,1], label = 'Cut Gyroscope Data', c = 'c')\n",
    "axs[0].plot(peaks, gyrCutNormal_s3[1][:,1][peaks], 'x', label = 'Peaks', c = 'r')\n",
    "axs[1].plot(gyr2CutNormal_s3[1][0][:,1], label = '2nd Cut Gyroscope Data', c = 'b')\n",
    "\n",
    "# axs[0].legend()\n",
    "axs[1].legend()\n",
    "plt.show()"
   ]
  },
  {
   "cell_type": "markdown",
   "metadata": {},
   "source": [
    "### Resample data"
   ]
  },
  {
   "cell_type": "markdown",
   "metadata": {},
   "source": [
    "#### Resample all the data"
   ]
  },
  {
   "cell_type": "code",
   "execution_count": 182,
   "metadata": {},
   "outputs": [],
   "source": [
    "# Create arrays for resampled data\n",
    "for x in gaitpos:\n",
    "    for y in smartphone:\n",
    "        # variables of raw the data\n",
    "        globals()['gyrResample%s_s%s' % (x, y)] = []\n",
    "        globals()['accResample%s_s%s' % (x, y)] = []\n",
    "##---------------------------------------------------------------------------------------------------------------------\n",
    "\n",
    "size = 50\n",
    "\n",
    "for j in gaitpos:\n",
    "    for i in smartphone:\n",
    "            gyrl = eval(f'gyr2Cut{j}_s{i}')\n",
    "            accl = eval(f'acc2Cut{j}_s{i}')\n",
    "\n",
    "            gyrrs = eval(f'gyrResample{j}_s{i}')\n",
    "            accrs = eval(f'accResample{j}_s{i}')\n",
    "\n",
    "            for rg in range(0, len(gyrl)):\n",
    "                gr = []; ar = []\n",
    "                for rp in range(0, len(gyrl[rg])):\n",
    "\n",
    "                    g = sp.resample(gyrl[rg][rp], size, axis = 0)\n",
    "                    a = sp.resample(accl[rg][rp], size, axis = 0)\n",
    "                    \n",
    "                    gr.append(g)\n",
    "                    ar.append(a)\n",
    "\n",
    "                gyrrs.append(gr)\n",
    "                accrs.append(ar)"
   ]
  },
  {
   "cell_type": "markdown",
   "metadata": {},
   "source": [
    "#### -- Sample Code -- Test code for resampling"
   ]
  },
  {
   "cell_type": "code",
   "execution_count": 183,
   "metadata": {},
   "outputs": [
    {
     "data": {
      "text/plain": [
       "'\\nq = []\\nfor j in range(0, len(gyr2CutNormal_s3)):\\n    p = []\\n    for i in range(0, len(gyr2CutNormal_s3[j])):\\n        x = sp.resample(gyr2CutNormal_s3[j][i], 50, axis = 0)\\n        p.append(x)\\n    q.append(p)\\n'"
      ]
     },
     "execution_count": 183,
     "metadata": {},
     "output_type": "execute_result"
    }
   ],
   "source": [
    "'''\n",
    "q = []\n",
    "for j in range(0, len(gyr2CutNormal_s3)):\n",
    "    p = []\n",
    "    for i in range(0, len(gyr2CutNormal_s3[j])):\n",
    "        x = sp.resample(gyr2CutNormal_s3[j][i], 50, axis = 0)\n",
    "        p.append(x)\n",
    "    q.append(p)\n",
    "'''"
   ]
  },
  {
   "cell_type": "markdown",
   "metadata": {},
   "source": [
    "#### Check if all the data is collected properly after resampling"
   ]
  },
  {
   "cell_type": "code",
   "execution_count": 184,
   "metadata": {},
   "outputs": [
    {
     "name": "stdout",
     "output_type": "stream",
     "text": [
      "Shape of gyrResampleNormal_s3 is ------ (8,)\n",
      "Shape of accResampleNormal_s3 is ------ (8,) \n",
      "\n",
      "Shape of gyrResampleUpstairs_s3 is ------ (8,)\n",
      "Shape of accResampleUpstairs_s3 is ------ (8,) \n",
      "\n",
      "Shape of gyrResampleDownstairs_s3 is ------ (8,)\n",
      "Shape of accResampleDownstairs_s3 is ------ (8,) \n",
      "\n"
     ]
    }
   ],
   "source": [
    "# getting the data shape for reference\n",
    "for j in gaitpos:\n",
    "    for i in smartphone:\n",
    "            gyr = eval(f'gyrResample{j}_s{i}')\n",
    "            acc = eval(f'accResample{j}_s{i}')\n",
    "\n",
    "            print(f'Shape of gyrResample{j}_s{i} is ------ {np.asarray((gyr), dtype = list).shape}')\n",
    "            print(f'Shape of accResample{j}_s{i} is ------ {np.asarray((acc), dtype = list).shape} \\n')"
   ]
  },
  {
   "cell_type": "markdown",
   "metadata": {},
   "source": [
    "#### Plot to compare the cut data, and resampled data"
   ]
  },
  {
   "cell_type": "code",
   "execution_count": 185,
   "metadata": {},
   "outputs": [
    {
     "data": {
      "application/vnd.jupyter.widget-view+json": {
       "model_id": "34485301389446fa9ccca2dc4a737d14",
       "version_major": 2,
       "version_minor": 0
      },
      "text/plain": [
       "Canvas(toolbar=Toolbar(toolitems=[('Home', 'Reset original view', 'home', 'home'), ('Back', 'Back to previous …"
      ]
     },
     "metadata": {},
     "output_type": "display_data"
    }
   ],
   "source": [
    "pos = 'Normal'  # pos = 'Normal', 'Upstairs', 'Downstairs'\n",
    "loc = 3         # loc = 1, 3\n",
    "no = 1          # no = 0-7\n",
    "axis = 1        # axis = 0, 1, 2\n",
    "\n",
    "# print(peaks)\n",
    "tCut = np.asarray(eval(f'gyr{pos}_s{loc}')[no].iloc[:,0])\n",
    "freqCut = np.round(len(tCut)/(tCut[-1]))\n",
    "peaks, _ = sp.find_peaks(eval(f'gyrCut{pos}_s{loc}')[no][:,axis], height = 0, distance=freqCut*0.5)\n",
    "\n",
    "plt.close()\n",
    "fig, axs = plt.subplots(2,1, sharex=True)\n",
    "fig.suptitle('Comparision of Resampled Data')\n",
    "\n",
    "axs[0].plot(eval(f'gyrCut{pos}_s{loc}')[no][:,axis], label = 'Gyr Cutted Data', c = 'b')\n",
    "axs[0].plot(peaks, eval(f'gyrCut{pos}_s{loc}')[no][:,axis][peaks], 'x', label = 'Peaks', c = 'r')\n",
    "axs[1].plot(eval(f'gyrResample{pos}_s{loc}')[no][0][:,axis], label = 'Gyr Resampled Data', c = 'g')\n",
    "\n",
    "axs[0].legend()\n",
    "axs[1].legend()\n",
    "plt.show()"
   ]
  },
  {
   "cell_type": "markdown",
   "metadata": {},
   "source": [
    "### Combine data of all subjects"
   ]
  },
  {
   "cell_type": "markdown",
   "metadata": {},
   "source": [
    "#### Create Variables for the combined data"
   ]
  },
  {
   "cell_type": "code",
   "execution_count": 186,
   "metadata": {},
   "outputs": [],
   "source": [
    "# Create arrays for resampled data\n",
    "for x in gaitpos:\n",
    "    for y in smartphone:\n",
    "        # variables of raw the data\n",
    "        globals()['%s_s%s' % (x, y)] = []\n",
    "##---------------------------------------------------------------------------------------------------------------------"
   ]
  },
  {
   "cell_type": "markdown",
   "metadata": {},
   "source": [
    "#### Combining gyr and acc data"
   ]
  },
  {
   "cell_type": "code",
   "execution_count": 187,
   "metadata": {},
   "outputs": [],
   "source": [
    "for j in gaitpos:\n",
    "    for i in smartphone:\n",
    "        gyr = eval(f'gyrResample{j}_s{i}')\n",
    "        acc = eval(f'accResample{j}_s{i}')\n",
    "\n",
    "        r = eval(f'{j}_s{i}')\n",
    "\n",
    "        for y in range(0, len(gyr)):    \n",
    "            o = []\n",
    "            for x in range(0, len(gyr[y])):\n",
    "                v = np.concatenate((gyr[y][x],acc[y][x]), axis = 1)\n",
    "                o.append(v)\n",
    "            r.append(o)"
   ]
  },
  {
   "cell_type": "markdown",
   "metadata": {},
   "source": [
    "### PCA"
   ]
  },
  {
   "cell_type": "markdown",
   "metadata": {},
   "source": [
    "#### run PCA on all the data"
   ]
  },
  {
   "cell_type": "code",
   "execution_count": 188,
   "metadata": {},
   "outputs": [],
   "source": [
    "## Run PCA on the data\n",
    "for j in gaitpos:\n",
    "    for i in smartphone:\n",
    "        phone = eval(f'{j}_s{i}')\n",
    "        \n",
    "        for x in range(0, len(phone)):\n",
    "            for y in range(0, len(phone[x])):\n",
    "                p = pd.DataFrame(phone[x][y])\n",
    "                scale = StandardScaler().fit_transform(p)\n",
    "\n",
    "                pca = PCA(n_components = 6)\n",
    "                pca.fit(scale)\n",
    "                phone[x][y] = pca.transform(scale)"
   ]
  },
  {
   "cell_type": "markdown",
   "metadata": {},
   "source": [
    "#### pcaDf for scatter plot"
   ]
  },
  {
   "cell_type": "code",
   "execution_count": 189,
   "metadata": {},
   "outputs": [],
   "source": [
    "var = np.round(pca.explained_variance_ratio_, decimals=3)*100\n",
    "labels = [f'PC{x}' for x in range(1, len(var)+1)]\n",
    "\n",
    "\n",
    "pcaDf = pd.DataFrame(columns = labels)\n",
    "for j in gaitpos:\n",
    "    for i in smartphone:\n",
    "        phone = eval(f'{j}_s{i}')\n",
    "        for x in range(0, len(phone)):\n",
    "            xqc = pd.DataFrame(columns=labels)\n",
    "            for y in range(0, len(phone[x])):\n",
    "                pc = pd.DataFrame(phone[x][y], columns = labels)\n",
    "                xqc = pd.concat([xqc, pc], ignore_index = True, axis = 0)\n",
    "            pcaDf = pd.concat([pcaDf,xqc], ignore_index=True, axis = 0)"
   ]
  },
  {
   "cell_type": "markdown",
   "metadata": {},
   "source": [
    "#### Check the scree plot"
   ]
  },
  {
   "cell_type": "code",
   "execution_count": 190,
   "metadata": {},
   "outputs": [
    {
     "data": {
      "application/vnd.jupyter.widget-view+json": {
       "model_id": "35532871d4d94a1e8246c50211c5c27f",
       "version_major": 2,
       "version_minor": 0
      },
      "text/plain": [
       "Canvas(toolbar=Toolbar(toolitems=[('Home', 'Reset original view', 'home', 'home'), ('Back', 'Back to previous …"
      ]
     },
     "metadata": {},
     "output_type": "display_data"
    }
   ],
   "source": [
    "plt.close()\n",
    "plt.bar(x = range(1, len(var)+1), height = var, tick_label = labels)\n",
    "plt.ylabel('Percentage of Explained Variance')\n",
    "plt.xlabel('Principal Component')\n",
    "plt.title('SCREE PLOT')\n",
    "plt.show()"
   ]
  },
  {
   "cell_type": "markdown",
   "metadata": {},
   "source": [
    "#### -- Check -- which axis data is clustering from the scatter plot"
   ]
  },
  {
   "cell_type": "code",
   "execution_count": 191,
   "metadata": {},
   "outputs": [
    {
     "data": {
      "text/plain": [
       "\"\\nloadingScores = pd.Series(phone[0][0][:,0], index = np.linspace(0,49,50))\\nsortedLoadingScores = loadingScores.abs().sort_values(ascending=False)\\n\\ntopData = sortedLoadingScores[0:10].index.values\\n\\nprint('Top two principal components are -')\\nprint(loadingScores[topData])\\n\""
      ]
     },
     "execution_count": 191,
     "metadata": {},
     "output_type": "execute_result"
    }
   ],
   "source": [
    "'''\n",
    "loadingScores = pd.Series(phone[0][0][:,0], index = np.linspace(0,49,50))\n",
    "sortedLoadingScores = loadingScores.abs().sort_values(ascending=False)\n",
    "\n",
    "topData = sortedLoadingScores[0:10].index.values\n",
    "\n",
    "print('Top two principal components are -')\n",
    "print(loadingScores[topData])\n",
    "'''"
   ]
  },
  {
   "cell_type": "markdown",
   "metadata": {},
   "source": [
    "#### Scatter plot"
   ]
  },
  {
   "cell_type": "code",
   "execution_count": 192,
   "metadata": {},
   "outputs": [
    {
     "data": {
      "application/vnd.jupyter.widget-view+json": {
       "model_id": "8edb7cf08b76409bbdefa2ab9accc974",
       "version_major": 2,
       "version_minor": 0
      },
      "text/plain": [
       "Canvas(toolbar=Toolbar(toolitems=[('Home', 'Reset original view', 'home', 'home'), ('Back', 'Back to previous …"
      ]
     },
     "metadata": {},
     "output_type": "display_data"
    }
   ],
   "source": [
    "plt.close()\n",
    "plt.scatter(pcaDf.PC1, pcaDf.PC2, cmap = 'viridis', alpha = 0.3)\n",
    "\n",
    "plt.title('Principal Component Analysis')\n",
    "plt.xlabel(f'PC1 - {var[0]}%')\n",
    "plt.ylabel(f'PC2 - {var[1]}%')\n",
    "plt.show()\n",
    "\n",
    "# for name in pcaDf.index:\n",
    "#     plt.annotate(name, (pcaDf.PC1[name], pcaDf.PC2[name]))"
   ]
  },
  {
   "cell_type": "markdown",
   "metadata": {},
   "source": [
    "#### Normalize the data"
   ]
  },
  {
   "cell_type": "code",
   "execution_count": 193,
   "metadata": {},
   "outputs": [],
   "source": [
    "# Create arrays for normalized data\n",
    "for x in gaitpos:\n",
    "    for y in smartphone:\n",
    "        # variables of raw the data\n",
    "        globals()['%s_s%s_n' % (x, y)] = [] # Normal_s1_n, Normal_s3_n, Upstairs_s1_n, Upstairs_s3_n, Downstairs_s1_n, Downstairs_s3_n\n",
    "##---------------------------------------------------------------------------------------------------------------------\n",
    "\n",
    "for j in gaitpos:\n",
    "    for i in smartphone:\n",
    "        ss = eval(f'{j}_s{i}')\n",
    "        ss_n = eval(f'{j}_s{i}_n')\n",
    "        for y in range(0, len(ss)):\n",
    "            o = []\n",
    "            for x in range(0, len(ss[y])):\n",
    "                v = ss[y][x]\n",
    "                v_n = preprocessing.normalize(v, norm = 'l2', axis = 1)\n",
    "                o.append(v_n)\n",
    "            ss_n.append(o)"
   ]
  },
  {
   "cell_type": "code",
   "execution_count": 194,
   "metadata": {},
   "outputs": [
    {
     "data": {
      "application/vnd.jupyter.widget-view+json": {
       "model_id": "b0095b393db546f997b520bb26e7f716",
       "version_major": 2,
       "version_minor": 0
      },
      "text/plain": [
       "Canvas(toolbar=Toolbar(toolitems=[('Home', 'Reset original view', 'home', 'home'), ('Back', 'Back to previous …"
      ]
     },
     "metadata": {},
     "output_type": "display_data"
    }
   ],
   "source": [
    "plt.close()\n",
    "fig, axs = plt.subplots(2,1, sharex = True)\n",
    "fig.suptitle('Comparision of Normalized Data')\n",
    "axs[1].plot(Normal_s3_n[0][1][:,1], label = 'Normalized sequence', c = 'r')\n",
    "axs[0].plot(Normal_s3[0][1][:,1], label = 'Raw cut sequence', c = 'g')\n",
    "\n",
    "axs[0].legend()\n",
    "axs[1].legend()\n",
    "plt.show()"
   ]
  },
  {
   "cell_type": "markdown",
   "metadata": {},
   "source": [
    "#### (Input for AI is x and y) Combine and Label the normalized data "
   ]
  },
  {
   "cell_type": "code",
   "execution_count": 195,
   "metadata": {},
   "outputs": [],
   "source": [
    "x = []\n",
    "y = []\n",
    "for k in gaitpos:\n",
    "    for l in smartphone:\n",
    "\n",
    "        if k == 'Normal':    \n",
    "            for i in range(0, len(Normal_s3_n)):\n",
    "                for j in range(0, len(Normal_s3_n[i])):\n",
    "                    x.append(Normal_s3_n[i][j])\n",
    "                    y.append(k)\n",
    "        elif k == 'Upstairs':\n",
    "            for i in range(0, len(Upstairs_s3_n)):\n",
    "                for j in range(0, len(Upstairs_s3_n[i])):\n",
    "                    x.append(Upstairs_s3_n[i][j])\n",
    "                    y.append(k)\n",
    "        elif k == 'Downstairs':\n",
    "            for i in range(0, len(Downstairs_s3_n)):\n",
    "                for j in range(0, len(Downstairs_s3_n[i])):\n",
    "                    x.append(Downstairs_s3_n[i][j])\n",
    "                    y.append(k)"
   ]
  },
  {
   "cell_type": "code",
   "execution_count": 196,
   "metadata": {},
   "outputs": [
    {
     "name": "stdout",
     "output_type": "stream",
     "text": [
      "Length of data is (221, 50, 6) \n",
      "Length of labels is (221,)\n"
     ]
    }
   ],
   "source": [
    "print(f'Length of data is {np.asarray(x).shape} \\nLength of labels is {np.asarray(y).shape}')"
   ]
  },
  {
   "cell_type": "code",
   "execution_count": 197,
   "metadata": {},
   "outputs": [],
   "source": [
    "# encode class values as integers\n",
    "encoder = LabelEncoder()\n",
    "encoder.fit(y)\n",
    "encoded_y = encoder.transform(y)\n",
    "# convert integers to dummy variables (i.e. one hot encoded)\n",
    "dummy_y = np_utils.to_categorical(encoded_y)\n",
    "\n",
    "y = dummy_y"
   ]
  },
  {
   "cell_type": "markdown",
   "metadata": {},
   "source": [
    "## ---> AI Model"
   ]
  },
  {
   "cell_type": "markdown",
   "metadata": {},
   "source": [
    "#### Imports for AI model"
   ]
  },
  {
   "cell_type": "code",
   "execution_count": 198,
   "metadata": {},
   "outputs": [],
   "source": [
    "from keras.wrappers.scikit_learn import KerasClassifier\n",
    "from sklearn.model_selection import KFold, cross_val_score, train_test_split, StratifiedKFold\n",
    "\n",
    "from keras.models import Sequential \n",
    "from keras.layers import Dense, Dropout, Activation, Flatten"
   ]
  },
  {
   "cell_type": "markdown",
   "metadata": {},
   "source": [
    "#### Splitting the data into training and testing data"
   ]
  },
  {
   "cell_type": "code",
   "execution_count": 199,
   "metadata": {},
   "outputs": [
    {
     "name": "stdout",
     "output_type": "stream",
     "text": [
      "Length of training data - 176 length of labels - 176 \n",
      "Length of test data - 45 and length of labels - 45\n"
     ]
    }
   ],
   "source": [
    "size = 0.2\n",
    "\n",
    "x_train, x_test, y_train, y_test = train_test_split(x, y, stratify=y, shuffle=True, test_size=size)\n",
    "print(f'Length of training data - {len(x_train)} length of labels - {len(y_train)} \\nLength of test data - {len(x_test)} and length of labels - {len(y_test)}')\n",
    "\n",
    "# Merge train and tests\n",
    "inputs = np.concatenate((x_train, x_test), axis=0)\n",
    "targets = np.concatenate((y_train, y_test), axis=0)"
   ]
  },
  {
   "cell_type": "markdown",
   "metadata": {},
   "source": [
    "#### --Redundant-- Split the data into training and testing data again"
   ]
  },
  {
   "cell_type": "code",
   "execution_count": 200,
   "metadata": {},
   "outputs": [],
   "source": [
    "num_folds = 10\n",
    "\n",
    "# Define the K-fold Cross Validator\n",
    "kf = KFold(n_splits=num_folds, shuffle=True)\n",
    "\n",
    "for train_index, test_index in kf.split(x, y):\n",
    "    # print(\"TRAIN:\", train_index, \"TEST:\", test_index)\n",
    "    x_train, x_test = inputs[train_index], inputs[test_index]\n",
    "    y_train, y_test = targets[train_index], targets[test_index]\n"
   ]
  },
  {
   "cell_type": "code",
   "execution_count": 201,
   "metadata": {},
   "outputs": [
    {
     "name": "stdout",
     "output_type": "stream",
     "text": [
      "Length of training data - 199 length of labels - 199 \n",
      "Length of test data - 22 and length of labels - 22\n"
     ]
    }
   ],
   "source": [
    "print(f'Length of training data - {len(x_train)} length of labels - {len(y_train)} \\nLength of test data - {len(x_test)} and length of labels - {len(y_test)}')"
   ]
  },
  {
   "cell_type": "markdown",
   "metadata": {},
   "source": [
    "#### AI model"
   ]
  },
  {
   "cell_type": "code",
   "execution_count": 202,
   "metadata": {},
   "outputs": [
    {
     "name": "stdout",
     "output_type": "stream",
     "text": [
      "Epoch 1/10\n",
      "7/7 [==============================] - 1s 9ms/step - loss: 0.7006 - Accuracy: 0.3518\n",
      "Epoch 2/10\n",
      "7/7 [==============================] - 0s 11ms/step - loss: 0.6108 - Accuracy: 0.4925\n",
      "Epoch 3/10\n",
      "7/7 [==============================] - 0s 11ms/step - loss: 0.5608 - Accuracy: 0.5377\n",
      "Epoch 4/10\n",
      "7/7 [==============================] - 0s 11ms/step - loss: 0.5314 - Accuracy: 0.5930\n",
      "Epoch 5/10\n",
      "7/7 [==============================] - 0s 9ms/step - loss: 0.5061 - Accuracy: 0.6432\n",
      "Epoch 6/10\n",
      "7/7 [==============================] - 0s 10ms/step - loss: 0.4801 - Accuracy: 0.6734\n",
      "Epoch 7/10\n",
      "7/7 [==============================] - 0s 11ms/step - loss: 0.4611 - Accuracy: 0.7136\n",
      "Epoch 8/10\n",
      "7/7 [==============================] - 0s 10ms/step - loss: 0.4397 - Accuracy: 0.7337\n",
      "Epoch 9/10\n",
      "7/7 [==============================] - 0s 11ms/step - loss: 0.4166 - Accuracy: 0.7286\n",
      "Epoch 10/10\n",
      "7/7 [==============================] - 0s 9ms/step - loss: 0.3970 - Accuracy: 0.7437\n",
      "1/1 [==============================] - 0s 174ms/step - loss: 0.4724 - Accuracy: 0.6364\n",
      "Accuracy: 63.64%\n",
      "Epoch 1/10\n",
      "7/7 [==============================] - 1s 7ms/step - loss: 0.6969 - Accuracy: 0.3568\n",
      "Epoch 2/10\n",
      "7/7 [==============================] - 0s 11ms/step - loss: 0.6174 - Accuracy: 0.5327\n",
      "Epoch 3/10\n",
      "7/7 [==============================] - 0s 12ms/step - loss: 0.5709 - Accuracy: 0.6030\n",
      "Epoch 4/10\n",
      "7/7 [==============================] - 0s 10ms/step - loss: 0.5415 - Accuracy: 0.6231\n",
      "Epoch 5/10\n",
      "7/7 [==============================] - 0s 11ms/step - loss: 0.5154 - Accuracy: 0.6533\n",
      "Epoch 6/10\n",
      "7/7 [==============================] - 0s 10ms/step - loss: 0.4914 - Accuracy: 0.6734\n",
      "Epoch 7/10\n",
      "7/7 [==============================] - 0s 12ms/step - loss: 0.4674 - Accuracy: 0.6985\n",
      "Epoch 8/10\n",
      "7/7 [==============================] - 0s 11ms/step - loss: 0.4433 - Accuracy: 0.7136\n",
      "Epoch 9/10\n",
      "7/7 [==============================] - 0s 8ms/step - loss: 0.4208 - Accuracy: 0.7387\n",
      "Epoch 10/10\n",
      "7/7 [==============================] - 0s 10ms/step - loss: 0.3981 - Accuracy: 0.7487\n",
      "1/1 [==============================] - 0s 189ms/step - loss: 0.4503 - Accuracy: 0.6818\n",
      "Accuracy: 68.18%\n",
      "Epoch 1/10\n",
      "7/7 [==============================] - 1s 11ms/step - loss: 0.6884 - Accuracy: 0.4020\n",
      "Epoch 2/10\n",
      "7/7 [==============================] - 0s 10ms/step - loss: 0.6149 - Accuracy: 0.5930\n",
      "Epoch 3/10\n",
      "7/7 [==============================] - 0s 11ms/step - loss: 0.5711 - Accuracy: 0.6030\n",
      "Epoch 4/10\n",
      "7/7 [==============================] - 0s 9ms/step - loss: 0.5384 - Accuracy: 0.6080\n",
      "Epoch 5/10\n",
      "7/7 [==============================] - 0s 11ms/step - loss: 0.5121 - Accuracy: 0.6583\n",
      "Epoch 6/10\n",
      "7/7 [==============================] - 0s 13ms/step - loss: 0.4874 - Accuracy: 0.7035\n",
      "Epoch 7/10\n",
      "7/7 [==============================] - 0s 12ms/step - loss: 0.4635 - Accuracy: 0.7236\n",
      "Epoch 8/10\n",
      "7/7 [==============================] - 0s 11ms/step - loss: 0.4423 - Accuracy: 0.7437\n",
      "Epoch 9/10\n",
      "7/7 [==============================] - 0s 10ms/step - loss: 0.4206 - Accuracy: 0.7638\n",
      "Epoch 10/10\n",
      "7/7 [==============================] - 0s 11ms/step - loss: 0.3997 - Accuracy: 0.8090\n",
      "1/1 [==============================] - 0s 205ms/step - loss: 0.5111 - Accuracy: 0.6364\n",
      "Accuracy: 63.64%\n",
      "Epoch 1/10\n",
      "7/7 [==============================] - 1s 10ms/step - loss: 0.6802 - Accuracy: 0.2864\n",
      "Epoch 2/10\n",
      "7/7 [==============================] - 0s 9ms/step - loss: 0.6169 - Accuracy: 0.5528\n",
      "Epoch 3/10\n",
      "7/7 [==============================] - 0s 9ms/step - loss: 0.5771 - Accuracy: 0.6432\n",
      "Epoch 4/10\n",
      "7/7 [==============================] - 0s 11ms/step - loss: 0.5465 - Accuracy: 0.6583\n",
      "Epoch 5/10\n",
      "7/7 [==============================] - 0s 10ms/step - loss: 0.5184 - Accuracy: 0.6583\n",
      "Epoch 6/10\n",
      "7/7 [==============================] - 0s 9ms/step - loss: 0.4905 - Accuracy: 0.6683\n",
      "Epoch 7/10\n",
      "7/7 [==============================] - 0s 11ms/step - loss: 0.4625 - Accuracy: 0.6884\n",
      "Epoch 8/10\n",
      "7/7 [==============================] - 0s 11ms/step - loss: 0.4371 - Accuracy: 0.7136\n",
      "Epoch 9/10\n",
      "7/7 [==============================] - 0s 12ms/step - loss: 0.4139 - Accuracy: 0.7387\n",
      "Epoch 10/10\n",
      "7/7 [==============================] - 0s 10ms/step - loss: 0.3934 - Accuracy: 0.7387\n",
      "1/1 [==============================] - 0s 169ms/step - loss: 0.5071 - Accuracy: 0.5455\n",
      "Accuracy: 54.55%\n",
      "Epoch 1/10\n",
      "7/7 [==============================] - 1s 10ms/step - loss: 0.6876 - Accuracy: 0.2915\n",
      "Epoch 2/10\n",
      "7/7 [==============================] - 0s 11ms/step - loss: 0.6185 - Accuracy: 0.5276\n",
      "Epoch 3/10\n",
      "7/7 [==============================] - 0s 13ms/step - loss: 0.5799 - Accuracy: 0.6030\n",
      "Epoch 4/10\n",
      "7/7 [==============================] - 0s 11ms/step - loss: 0.5496 - Accuracy: 0.6080\n",
      "Epoch 5/10\n",
      "7/7 [==============================] - 0s 22ms/step - loss: 0.5223 - Accuracy: 0.6382\n",
      "Epoch 6/10\n",
      "7/7 [==============================] - 0s 13ms/step - loss: 0.4972 - Accuracy: 0.6633\n",
      "Epoch 7/10\n",
      "7/7 [==============================] - 0s 12ms/step - loss: 0.4738 - Accuracy: 0.7035\n",
      "Epoch 8/10\n",
      "7/7 [==============================] - 0s 11ms/step - loss: 0.4525 - Accuracy: 0.7236\n",
      "Epoch 9/10\n",
      "7/7 [==============================] - 0s 12ms/step - loss: 0.4291 - Accuracy: 0.7688\n",
      "Epoch 10/10\n",
      "7/7 [==============================] - 0s 11ms/step - loss: 0.4062 - Accuracy: 0.7990\n",
      "1/1 [==============================] - 0s 163ms/step - loss: 0.4672 - Accuracy: 0.6364\n",
      "Accuracy: 63.64%\n",
      "Epoch 1/10\n",
      "7/7 [==============================] - 1s 8ms/step - loss: 0.6646 - Accuracy: 0.3116\n",
      "Epoch 2/10\n",
      "7/7 [==============================] - 0s 10ms/step - loss: 0.5997 - Accuracy: 0.5377\n",
      "Epoch 3/10\n",
      "7/7 [==============================] - 0s 12ms/step - loss: 0.5639 - Accuracy: 0.5879\n",
      "Epoch 4/10\n",
      "7/7 [==============================] - 0s 13ms/step - loss: 0.5364 - Accuracy: 0.6281\n",
      "Epoch 5/10\n",
      "7/7 [==============================] - 0s 10ms/step - loss: 0.5106 - Accuracy: 0.6533\n",
      "Epoch 6/10\n",
      "7/7 [==============================] - 0s 12ms/step - loss: 0.4854 - Accuracy: 0.7035\n",
      "Epoch 7/10\n",
      "7/7 [==============================] - 0s 11ms/step - loss: 0.4611 - Accuracy: 0.7688\n",
      "Epoch 8/10\n",
      "7/7 [==============================] - 0s 12ms/step - loss: 0.4396 - Accuracy: 0.7990\n",
      "Epoch 9/10\n",
      "7/7 [==============================] - 0s 12ms/step - loss: 0.4130 - Accuracy: 0.8191\n",
      "Epoch 10/10\n",
      "7/7 [==============================] - 0s 9ms/step - loss: 0.3875 - Accuracy: 0.8241\n",
      "1/1 [==============================] - 0s 174ms/step - loss: 0.4458 - Accuracy: 0.7727\n",
      "Accuracy: 77.27%\n",
      "Epoch 1/10\n",
      "7/7 [==============================] - 1s 9ms/step - loss: 0.7043 - Accuracy: 0.3015\n",
      "Epoch 2/10\n",
      "7/7 [==============================] - 0s 9ms/step - loss: 0.6338 - Accuracy: 0.4874\n",
      "Epoch 3/10\n",
      "7/7 [==============================] - 0s 9ms/step - loss: 0.5862 - Accuracy: 0.5528\n",
      "Epoch 4/10\n",
      "7/7 [==============================] - 0s 12ms/step - loss: 0.5540 - Accuracy: 0.5779\n",
      "Epoch 5/10\n",
      "7/7 [==============================] - 0s 15ms/step - loss: 0.5278 - Accuracy: 0.6382\n",
      "Epoch 6/10\n",
      "7/7 [==============================] - 0s 9ms/step - loss: 0.5028 - Accuracy: 0.6784\n",
      "Epoch 7/10\n",
      "7/7 [==============================] - 0s 10ms/step - loss: 0.4785 - Accuracy: 0.6985\n",
      "Epoch 8/10\n",
      "7/7 [==============================] - 0s 9ms/step - loss: 0.4541 - Accuracy: 0.7136\n",
      "Epoch 9/10\n",
      "7/7 [==============================] - 0s 9ms/step - loss: 0.4300 - Accuracy: 0.7236\n",
      "Epoch 10/10\n",
      "7/7 [==============================] - 0s 10ms/step - loss: 0.4057 - Accuracy: 0.7638\n",
      "1/1 [==============================] - 0s 177ms/step - loss: 0.4934 - Accuracy: 0.5909\n",
      "Accuracy: 59.09%\n",
      "Epoch 1/10\n",
      "7/7 [==============================] - 1s 11ms/step - loss: 0.6804 - Accuracy: 0.3166\n",
      "Epoch 2/10\n",
      "7/7 [==============================] - 0s 11ms/step - loss: 0.6057 - Accuracy: 0.5126\n",
      "Epoch 3/10\n",
      "7/7 [==============================] - 0s 9ms/step - loss: 0.5720 - Accuracy: 0.5528\n",
      "Epoch 4/10\n",
      "7/7 [==============================] - 0s 11ms/step - loss: 0.5468 - Accuracy: 0.5930\n",
      "Epoch 5/10\n",
      "7/7 [==============================] - 0s 11ms/step - loss: 0.5248 - Accuracy: 0.6482\n",
      "Epoch 6/10\n",
      "7/7 [==============================] - 0s 10ms/step - loss: 0.5034 - Accuracy: 0.6834\n",
      "Epoch 7/10\n",
      "7/7 [==============================] - 0s 12ms/step - loss: 0.4823 - Accuracy: 0.6935\n",
      "Epoch 8/10\n",
      "7/7 [==============================] - 0s 11ms/step - loss: 0.4618 - Accuracy: 0.7387\n",
      "Epoch 9/10\n",
      "7/7 [==============================] - 0s 11ms/step - loss: 0.4418 - Accuracy: 0.7688\n",
      "Epoch 10/10\n",
      "7/7 [==============================] - 0s 9ms/step - loss: 0.4224 - Accuracy: 0.7839\n",
      "1/1 [==============================] - 0s 174ms/step - loss: 0.4983 - Accuracy: 0.5909\n",
      "Accuracy: 59.09%\n",
      "Epoch 1/10\n",
      "7/7 [==============================] - 1s 11ms/step - loss: 0.6678 - Accuracy: 0.4372\n",
      "Epoch 2/10\n",
      "7/7 [==============================] - 0s 10ms/step - loss: 0.6077 - Accuracy: 0.5427\n",
      "Epoch 3/10\n",
      "7/7 [==============================] - 0s 14ms/step - loss: 0.5709 - Accuracy: 0.5678\n",
      "Epoch 4/10\n",
      "7/7 [==============================] - 0s 11ms/step - loss: 0.5456 - Accuracy: 0.5980\n",
      "Epoch 5/10\n",
      "7/7 [==============================] - 0s 13ms/step - loss: 0.5238 - Accuracy: 0.6030\n",
      "Epoch 6/10\n",
      "7/7 [==============================] - 0s 12ms/step - loss: 0.5024 - Accuracy: 0.6583\n",
      "Epoch 7/10\n",
      "7/7 [==============================] - 0s 12ms/step - loss: 0.4804 - Accuracy: 0.7136\n",
      "Epoch 8/10\n",
      "7/7 [==============================] - 0s 11ms/step - loss: 0.4582 - Accuracy: 0.7286\n",
      "Epoch 9/10\n",
      "7/7 [==============================] - 0s 13ms/step - loss: 0.4368 - Accuracy: 0.7437\n",
      "Epoch 10/10\n",
      "7/7 [==============================] - 0s 10ms/step - loss: 0.4140 - Accuracy: 0.7789\n",
      "1/1 [==============================] - 0s 168ms/step - loss: 0.4613 - Accuracy: 0.7727\n",
      "Accuracy: 77.27%\n",
      "Epoch 1/10\n",
      "7/7 [==============================] - 1s 10ms/step - loss: 0.6549 - Accuracy: 0.4322\n",
      "Epoch 2/10\n",
      "7/7 [==============================] - 0s 10ms/step - loss: 0.5920 - Accuracy: 0.5578\n",
      "Epoch 3/10\n",
      "7/7 [==============================] - 0s 9ms/step - loss: 0.5552 - Accuracy: 0.5779\n",
      "Epoch 4/10\n",
      "7/7 [==============================] - 0s 11ms/step - loss: 0.5256 - Accuracy: 0.6030\n",
      "Epoch 5/10\n",
      "7/7 [==============================] - 0s 12ms/step - loss: 0.4968 - Accuracy: 0.6281\n",
      "Epoch 6/10\n",
      "7/7 [==============================] - 0s 13ms/step - loss: 0.4725 - Accuracy: 0.6683\n",
      "Epoch 7/10\n",
      "7/7 [==============================] - 0s 13ms/step - loss: 0.4464 - Accuracy: 0.7236\n",
      "Epoch 8/10\n",
      "7/7 [==============================] - 0s 11ms/step - loss: 0.4200 - Accuracy: 0.7437\n",
      "Epoch 9/10\n",
      "7/7 [==============================] - 0s 9ms/step - loss: 0.3970 - Accuracy: 0.7739\n",
      "Epoch 10/10\n",
      "7/7 [==============================] - 0s 9ms/step - loss: 0.3739 - Accuracy: 0.7839\n",
      "1/1 [==============================] - 0s 179ms/step - loss: 0.4339 - Accuracy: 0.6818\n",
      "Accuracy: 68.18%\n"
     ]
    }
   ],
   "source": [
    "#Define per-fold score conatiners\n",
    "accuracy_per_fold = []\n",
    "loss_per_fold = []\n",
    "\n",
    "# K-fold Cross Validation model evaluation\n",
    "num_folds = 10\n",
    "kfold = StratifiedKFold(n_splits=num_folds, shuffle=True)\n",
    "\n",
    "# Define the K-fold Cross Validator\n",
    "# kf = KFold(n_splits=num_folds, shuffle=True)\n",
    "\n",
    "for train_index, test_index in kf.split(x, y):\n",
    "    # print(\"TRAIN:\", train_index, \"TEST:\", test_index)\n",
    "    x_train, x_test = inputs[train_index], inputs[test_index]\n",
    "    y_train, y_test = targets[train_index], targets[test_index]\n",
    "\n",
    "cvscores = []\n",
    "for train, test in kf.split(inputs, targets):\n",
    "    # create model\n",
    "    model = Sequential()\n",
    "    model.add(Flatten(input_shape=(50,6)))\n",
    "    model.add(Dense(units=50, activation='relu'))\n",
    "    model.add(Dense(units=75, activation='relu'))\n",
    "    model.add(Dense(units=3, activation='softmax'))\n",
    "\n",
    "    # Compile model\n",
    "    model.compile(loss='binary_crossentropy', optimizer=tf.keras.optimizers.Adam(learning_rate = 0.001), metrics=['Accuracy'])\n",
    "\n",
    "    # Fit the model\n",
    "    model.fit(x_train, y_train, epochs=10, batch_size=32, shuffle=True)\n",
    "\n",
    "    # evaluate the model\n",
    "    scores = model.evaluate(x_test, y_test)\n",
    "\n",
    "    print(\"%s: %.2f%%\" % (model.metrics_names[1], scores[1]*100))\n",
    "    accuracy_per_fold.append(scores[1] * 100)\n",
    "    loss_per_fold.append(scores[0])\n",
    "    \n",
    "    "
   ]
  },
  {
   "cell_type": "code",
   "execution_count": 203,
   "metadata": {},
   "outputs": [
    {
     "data": {
      "text/plain": [
       "[63.63636255264282,\n",
       " 68.18181872367859,\n",
       " 63.63636255264282,\n",
       " 54.54545617103577,\n",
       " 63.63636255264282,\n",
       " 77.27272510528564,\n",
       " 59.090906381607056,\n",
       " 59.090906381607056,\n",
       " 77.27272510528564,\n",
       " 68.18181872367859]"
      ]
     },
     "execution_count": 203,
     "metadata": {},
     "output_type": "execute_result"
    }
   ],
   "source": [
    "accuracy_per_fold"
   ]
  },
  {
   "cell_type": "code",
   "execution_count": 204,
   "metadata": {},
   "outputs": [
    {
     "data": {
      "application/vnd.jupyter.widget-view+json": {
       "model_id": "bcfe7e05638b4bf99b1a7aa8816e70b3",
       "version_major": 2,
       "version_minor": 0
      },
      "text/plain": [
       "Canvas(toolbar=Toolbar(toolitems=[('Home', 'Reset original view', 'home', 'home'), ('Back', 'Back to previous …"
      ]
     },
     "metadata": {},
     "output_type": "display_data"
    }
   ],
   "source": [
    "plt.close()\n",
    "plt.plot(accuracy_per_fold)\n",
    "plt.title('Accuracy per fold')\n",
    "plt.xlabel('Fold')\n",
    "plt.ylabel('Accuracy')\n",
    "plt.show()"
   ]
  }
 ],
 "metadata": {
  "interpreter": {
   "hash": "d27c620567fe2d1f3f91b14d158f32cde7e2c4b18fc4163e5eb414de6a296357"
  },
  "kernelspec": {
   "display_name": "Python 3.8.12 64-bit ('ai': conda)",
   "language": "python",
   "name": "python3"
  },
  "language_info": {
   "codemirror_mode": {
    "name": "ipython",
    "version": 3
   },
   "file_extension": ".py",
   "mimetype": "text/x-python",
   "name": "python",
   "nbconvert_exporter": "python",
   "pygments_lexer": "ipython3",
   "version": "3.8.12"
  },
  "orig_nbformat": 4
 },
 "nbformat": 4,
 "nbformat_minor": 2
}
