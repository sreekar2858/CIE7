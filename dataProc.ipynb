{
 "cells": [
  {
   "cell_type": "markdown",
   "metadata": {},
   "source": [
    "# CIE Project A - Group 7\n",
    "## ---> Data processing"
   ]
  },
  {
   "cell_type": "markdown",
   "metadata": {},
   "source": [
    "### Imports"
   ]
  },
  {
   "cell_type": "code",
   "execution_count": 28,
   "metadata": {},
   "outputs": [],
   "source": [
    "import os\n",
    "\n",
    "import pandas as pd\n",
    "import numpy as np\n",
    "import matplotlib.pyplot as plt\n",
    "from scipy import signal as sp\n",
    "from sklearn import preprocessing ##importing for normalization\n",
    "\n",
    "from sklearn.decomposition import PCA\n",
    "from sklearn.discriminant_analysis import LinearDiscriminantAnalysis as LDA\n",
    "from sklearn.preprocessing import StandardScaler\n",
    "\n",
    "plt.rcParams['figure.dpi'] = 100\n",
    "plt.rcParams['axes.grid'] = True\n",
    "plt.rcParams['legend.frameon'] = True\n",
    "%matplotlib widget\n",
    "\n",
    "# import tensorflow as tf\n",
    "# from sklearn.model_selection import train_test_split\n",
    "# from sklearn.metrics import confusion_matrix"
   ]
  },
  {
   "cell_type": "markdown",
   "metadata": {},
   "source": [
    "#### Get the root directory and change to it"
   ]
  },
  {
   "cell_type": "code",
   "execution_count": 29,
   "metadata": {},
   "outputs": [],
   "source": [
    "rootdir = os.getcwd()\n",
    "os.chdir(rootdir)"
   ]
  },
  {
   "cell_type": "markdown",
   "metadata": {},
   "source": [
    "### Variable Assignment"
   ]
  },
  {
   "cell_type": "code",
   "execution_count": 30,
   "metadata": {},
   "outputs": [],
   "source": [
    "gyrFile = 'Gyroscope'\n",
    "accFile = 'Accelerometer'\n",
    "\n",
    "normal = 'Normal'\n",
    "upstairs = 'Upstairs'\n",
    "downstairs = 'Downstairs'\n",
    "\n",
    "smartphone = [1, 3]\n",
    "\n",
    "s1 = 'Smartphone1'\n",
    "s3 = 'Smartphone3'\n",
    "\n",
    "s = [s1, s3]\n",
    "\n",
    "gaitpos = [normal, upstairs, downstairs]"
   ]
  },
  {
   "cell_type": "markdown",
   "metadata": {},
   "source": [
    "### Data Parsing"
   ]
  },
  {
   "cell_type": "markdown",
   "metadata": {},
   "source": [
    "#### Define variables for raw data"
   ]
  },
  {
   "cell_type": "code",
   "execution_count": 31,
   "metadata": {},
   "outputs": [],
   "source": [
    "count = 0\n",
    "\n",
    "# Naming convention - gyr(oscope)_s(martphone_location)) and Same for acceleraoemeter\n",
    "# All the data is stored in a list of dataframes. So, gyr{gaitpos}_s{martphone_location}[0, 1, 2, .....] gives the data as sorted by name in the file directory.\n",
    "# gyrNormal_s1[0] gives the gyroscope data of the subject180_Normal sample 01 in the normal gait position.\n",
    "# gyrNormal_s1[1] gives the gyroscope data of the subject180_Normal sample 02 in the normal gait position.\n",
    "# \n",
    "# gyrNormal_s[2] gives the gyroscope data of the subject181_Normal sample 01 in the normal gait position.\n",
    "# \n",
    "# and so on. \n",
    "\n",
    "# defining arrays for gyroscope data\n",
    "gyrNormal_s1 = []; gyrUpstairs_s1 = []; gyrDownstairs_s1 = []\n",
    "gyrNormal_s3 = []; gyrUpstairs_s3 = []; gyrDownstairs_s3 = []\n",
    "\n",
    "#defining arrays for accelerometer data\n",
    "accNormal_s1 = []; accUpstairs_s1 = []; accDownstairs_s1 = []\n",
    "accNormal_s3 = []; accUpstairs_s3 = []; accDownstairs_s3 = []"
   ]
  },
  {
   "cell_type": "markdown",
   "metadata": {},
   "source": [
    "#### Parsing gyroscope and accelerometer data at all gait positions (Smartphone 1 - Rear Right) & (Smartphone 3 - Front Right)"
   ]
  },
  {
   "cell_type": "code",
   "execution_count": 32,
   "metadata": {},
   "outputs": [],
   "source": [
    "for subdir, dirs, files in os.walk(rootdir):\n",
    "    for foldername in s:\n",
    "        for gait in gaitpos:    \n",
    "        \n",
    "            gyr = eval(f'gyr{gait}_s{foldername[10]}')\n",
    "            acc = eval(f'acc{gait}_s{foldername[10]}')\n",
    "            \n",
    "            if foldername.lower() in subdir.lower():\n",
    "                if gait.lower() in subdir.lower():\n",
    "    \n",
    "                    for file in files:\n",
    "\n",
    "                        if gyrFile.lower() in file.lower():\n",
    "                            count = count + 1\n",
    "                            # print(f'#{count} -- {os.path.join(subdir, file)}')\n",
    "\n",
    "                            with open(os.path.join(subdir, file), 'r') as f: # open in read-only mode\n",
    "                                gyrData = pd.read_csv(f)\n",
    "                                # Assemble the data into a tensor\n",
    "                                gyr.append(gyrData)\n",
    "\n",
    "                        if accFile in file:\n",
    "                            count = count + 1\n",
    "                            # print(f'#{count} -- {os.path.join(subdir, file)}')\n",
    "\n",
    "                            with open(os.path.join(subdir, file), 'r') as f: # open in read-only mode\n",
    "                                accData = pd.read_csv(f)\n",
    "                                # Assemble the data into a tensor\n",
    "                                acc.append(accData)"
   ]
  },
  {
   "cell_type": "markdown",
   "metadata": {},
   "source": [
    "#### Check if the data is collected correctly after parsing"
   ]
  },
  {
   "cell_type": "code",
   "execution_count": 33,
   "metadata": {},
   "outputs": [
    {
     "name": "stdout",
     "output_type": "stream",
     "text": [
      "Shape of gyrNormal_s1 is ------ (8,)\n",
      "Shape of accNormal_s1 is ------ (8,) \n",
      "\n",
      "Shape of gyrNormal_s3 is ------ (8,)\n",
      "Shape of accNormal_s3 is ------ (8,) \n",
      "\n",
      "Shape of gyrUpstairs_s1 is ------ (8,)\n",
      "Shape of accUpstairs_s1 is ------ (8,) \n",
      "\n",
      "Shape of gyrUpstairs_s3 is ------ (8,)\n",
      "Shape of accUpstairs_s3 is ------ (8,) \n",
      "\n",
      "Shape of gyrDownstairs_s1 is ------ (8,)\n",
      "Shape of accDownstairs_s1 is ------ (8,) \n",
      "\n",
      "Shape of gyrDownstairs_s3 is ------ (8,)\n",
      "Shape of accDownstairs_s3 is ------ (8,) \n",
      "\n"
     ]
    }
   ],
   "source": [
    "# getting the data shape for reference\n",
    "for j in gaitpos:\n",
    "    for i in smartphone:\n",
    "            gyrl = eval(f'gyr{j}_s{i}')\n",
    "            accl = eval(f'acc{j}_s{i}')\n",
    "\n",
    "            print(f'Shape of gyr{j}_s{i} is ------ {np.asarray((gyrl), dtype = list).shape}')\n",
    "            print(f'Shape of acc{j}_s{i} is ------ {np.asarray((accl), dtype = list).shape} \\n')"
   ]
  },
  {
   "cell_type": "markdown",
   "metadata": {},
   "source": [
    "### Data Validation and Preprocessing"
   ]
  },
  {
   "cell_type": "markdown",
   "metadata": {},
   "source": [
    "#### -- No need to run -- Frequency check of all the data before filtering"
   ]
  },
  {
   "cell_type": "code",
   "execution_count": 34,
   "metadata": {},
   "outputs": [],
   "source": [
    "freqGyr = []\n",
    "freqAcc = []\n",
    "\n",
    "# Loop through the variables and check if all the data is collected\n",
    "for j in gaitpos:\n",
    "    for i in smartphone:\n",
    "        # Calculating gyroscope frequency before preprocessing\n",
    "        gyrl = eval(f'gyr{j}_s{i}')\n",
    "        ng = len(gyrl)\n",
    "\n",
    "        # loop to calculate the frequency over all the data\n",
    "        for s in range(0, ng):\n",
    "            time = np.asarray(gyrl[s].iloc[:,0])\n",
    "\n",
    "            freqG = np.round(len(time)/(time[-1]))\n",
    "            freqGyr.append(freqG)\n",
    "        \n",
    "        # Calculating accelerometer frequency before preprocessing\n",
    "        accl = eval(f'acc{j}_s{i}')\n",
    "        na = len(accl)\n",
    "\n",
    "        # loop to calculate the frequency over all the data\n",
    "        for s in range(0, na):\n",
    "            time = np.asarray(accl[s].iloc[:,0])\n",
    "\n",
    "            freqA = np.round(len(time)/(time[-1]))\n",
    "            freqAcc.append(freqA)\n",
    "\n",
    "for i in range(0, len(freqGyr)):\n",
    "    if freqGyr[i] < 10:\n",
    "        print(f'Position of the frequency issue is at freqGyr:{i} and the frequency is {freqGyr[i]}')\n",
    "for j in range(0, len(freqAcc)):\n",
    "    if freqAcc[j] < 10:\n",
    "        print(f'Position of the frequency issue is at freqAcc:{j} and the frequency is {freqAcc[j]}')"
   ]
  },
  {
   "cell_type": "markdown",
   "metadata": {},
   "source": [
    "### Filter Data"
   ]
  },
  {
   "cell_type": "markdown",
   "metadata": {},
   "source": [
    "#### Lowpass filter (Butterworth) function"
   ]
  },
  {
   "cell_type": "code",
   "execution_count": 35,
   "metadata": {},
   "outputs": [],
   "source": [
    "#Filter the data to remove noise\n",
    "\n",
    "# inputs for the function is the data, the sampling frequency, the cutoff frequency.\n",
    "def dataFilter(dataInput, fs=200, fc=5, order = 2):\n",
    "    Filtrd = np.zeros(dataInput.shape)\n",
    "    w = fc / (fs * 0.5)\n",
    "    b, a = sp.butter(fc, w, 'low')\n",
    "    \n",
    "    #Filter the X, Y and Z axis of the input data\n",
    "    for i in range(0, 3):\n",
    "        Filtrd[:,i] = sp.filtfilt(b, a, dataInput.iloc[:,i+1])\n",
    "\n",
    "    return Filtrd"
   ]
  },
  {
   "cell_type": "markdown",
   "metadata": {},
   "source": [
    "##### -- Different filter check -- Chebyshev filter"
   ]
  },
  {
   "cell_type": "code",
   "execution_count": 36,
   "metadata": {},
   "outputs": [
    {
     "data": {
      "text/plain": [
       "\"\\n# chebyshev filter for the accelerometer data\\ndef chebyFilter(dataInput, fs=200, fc=5, order = 2):\\n    Filtrd = np.zeros(dataInput.shape)\\n    w = fc / (fs * 0.5)\\n    b, a = sp.cheby2(order, 20, w, 'low')\\n    \\n    #Filter the X, Y and Z axis of the input data\\n    for i in range(0, 3):\\n        Filtrd[:,i] = sp.filtfilt(b,a, dataInput.iloc[:,i+1])\\n    \\n    return Filtrd\\n\""
      ]
     },
     "execution_count": 36,
     "metadata": {},
     "output_type": "execute_result"
    }
   ],
   "source": [
    "'''\n",
    "# chebyshev filter for the accelerometer data\n",
    "def chebyFilter(dataInput, fs=200, fc=5, order = 2):\n",
    "    Filtrd = np.zeros(dataInput.shape)\n",
    "    w = fc / (fs * 0.5)\n",
    "    b, a = sp.cheby2(order, 20, w, 'low')\n",
    "    \n",
    "    #Filter the X, Y and Z axis of the input data\n",
    "    for i in range(0, 3):\n",
    "        Filtrd[:,i] = sp.filtfilt(b,a, dataInput.iloc[:,i+1])\n",
    "    \n",
    "    return Filtrd\n",
    "'''"
   ]
  },
  {
   "cell_type": "markdown",
   "metadata": {},
   "source": [
    "#### -- Test -- the dataFilter function and its dependency on the frequency input"
   ]
  },
  {
   "cell_type": "code",
   "execution_count": 37,
   "metadata": {},
   "outputs": [
    {
     "data": {
      "text/plain": [
       "\"gyrF = []\\naccF = []\\nng = len(gyrNormal_s1)\\nna = len(accNormal_s1)\\n\\nfor i in range(0, ng):\\n    timeg = np.asarray(gyrNormal_s1[i].iloc[:,0])\\n    freqG = np.round(len(timeg)/(timeg[-1]))\\n    gyrF.append(freqG)\\n\\nfor j in range(0, na):\\n    timea = np.asarray(accNormal_s1[j].iloc[:,0])\\n    freqA = np.round(len(timea)/(timea[-1]))\\n    accF.append(freqA)\\n\\ngyrFilt = []\\naccFilt = []\\n\\nfor rg in range(0, ng):\\n    gf = dataFilter(gyrNormal_s1[rg], fs = 100)\\n    gyrFilt.append(gf)\\n\\nfor ra in range(0, na):\\n    af = dataFilter(accNormal_s1[ra], fs = 100)\\n    accFilt.append(af)\\n\\nt1 = np.asarray(gyrNormal_s1[0].iloc[:,0])\\nf1 = np.round(len(t1)/(t1[-1]))\\n\\nxyz = dataFilter(gyrNormal_s1[0], fs = f1)\\n\\nplt.close('all')\\nplt.plot(gyrNormal_s1[0].iloc[:,1], 'r')\\nplt.plot(xyz[:,0], 'b')\\nplt.show()\""
      ]
     },
     "execution_count": 37,
     "metadata": {},
     "output_type": "execute_result"
    }
   ],
   "source": [
    "'''gyrF = []\n",
    "accF = []\n",
    "ng = len(gyrNormal_s1)\n",
    "na = len(accNormal_s1)\n",
    "\n",
    "for i in range(0, ng):\n",
    "    timeg = np.asarray(gyrNormal_s1[i].iloc[:,0])\n",
    "    freqG = np.round(len(timeg)/(timeg[-1]))\n",
    "    gyrF.append(freqG)\n",
    "\n",
    "for j in range(0, na):\n",
    "    timea = np.asarray(accNormal_s1[j].iloc[:,0])\n",
    "    freqA = np.round(len(timea)/(timea[-1]))\n",
    "    accF.append(freqA)\n",
    "\n",
    "gyrFilt = []\n",
    "accFilt = []\n",
    "\n",
    "for rg in range(0, ng):\n",
    "    gf = dataFilter(gyrNormal_s1[rg], fs = 100)\n",
    "    gyrFilt.append(gf)\n",
    "\n",
    "for ra in range(0, na):\n",
    "    af = dataFilter(accNormal_s1[ra], fs = 100)\n",
    "    accFilt.append(af)\n",
    "\n",
    "t1 = np.asarray(gyrNormal_s1[0].iloc[:,0])\n",
    "f1 = np.round(len(t1)/(t1[-1]))\n",
    "\n",
    "xyz = dataFilter(gyrNormal_s1[0], fs = f1)\n",
    "\n",
    "plt.close('all')\n",
    "plt.plot(gyrNormal_s1[0].iloc[:,1], 'r')\n",
    "plt.plot(xyz[:,0], 'b')\n",
    "plt.show()'''"
   ]
  },
  {
   "cell_type": "markdown",
   "metadata": {},
   "source": [
    "#### Filtering all the data"
   ]
  },
  {
   "cell_type": "code",
   "execution_count": 38,
   "metadata": {},
   "outputs": [],
   "source": [
    "# defining arrays for filtered gyroscope data\n",
    "gyrFilteredNormal_s1 = []; gyrFilteredUpstairs_s1 = []; gyrFilteredDownstairs_s1 = []\n",
    "gyrFilteredDownstairs_s3 = []; gyrFilteredUpstairs_s3 = []; gyrFilteredNormal_s3 = []\n",
    "\n",
    "# defining arrays for filtered accelerometer data\n",
    "accFilteredNormal_s1 = []; accFilteredUpstairs_s1 = []; accFilteredDownstairs_s1 = []\n",
    "accFilteredNormal_s3 = []; accFilteredUpstairs_s3 = []; accFilteredDownstairs_s3 = []\n",
    "\n",
    "for j in gaitpos:\n",
    "    for i in smartphone:\n",
    "            # variables of raw the data\n",
    "            gyrl = eval(f'gyr{j}_s{i}')\n",
    "            accl = eval(f'acc{j}_s{i}')\n",
    "            \n",
    "            # variables of filtered the data\n",
    "            gyrF = eval(f'gyrFiltered{j}_s{i}')\n",
    "            accF = eval(f'accFiltered{j}_s{i}')\n",
    "\n",
    "            # getting the shape of the gyroscope data (first integer)\n",
    "            ng = len(gyrl)\n",
    "\n",
    "            # Getting the shape of the accelerometer data (first integer)\n",
    "            na = len(accl)\n",
    "\n",
    "\n",
    "            # Filter all the data\n",
    "            for rg in range(0, ng):\n",
    "                timeg = np.asarray(gyrl[rg].iloc[:,0])\n",
    "                fG = np.round(len(timeg)/(timeg[-1]))\n",
    "\n",
    "                gf = dataFilter(gyrl[rg], fs = fG)\n",
    "                gyrF.append(gf)\n",
    "\n",
    "            for ra in range(0, na):\n",
    "                timea = np.asarray(accl[ra].iloc[:,0])\n",
    "                fA = np.round(len(timea)/(timea[-1]))\n",
    "\n",
    "                af = dataFilter(accl[ra], fs = fA)\n",
    "                accF.append(af)"
   ]
  },
  {
   "cell_type": "markdown",
   "metadata": {},
   "source": [
    "#### Check if all the data is collected correctly after filtering"
   ]
  },
  {
   "cell_type": "code",
   "execution_count": 39,
   "metadata": {},
   "outputs": [
    {
     "name": "stdout",
     "output_type": "stream",
     "text": [
      "Shape of gyrFilteredNormal_s1 is ------ (8,)\n",
      "Shape of accFilteredNormal_s1 is ------ (8,) \n",
      "\n",
      "Shape of gyrFilteredNormal_s3 is ------ (8,)\n",
      "Shape of accFilteredNormal_s3 is ------ (8,) \n",
      "\n",
      "Shape of gyrFilteredUpstairs_s1 is ------ (8,)\n",
      "Shape of accFilteredUpstairs_s1 is ------ (8,) \n",
      "\n",
      "Shape of gyrFilteredUpstairs_s3 is ------ (8,)\n",
      "Shape of accFilteredUpstairs_s3 is ------ (8,) \n",
      "\n",
      "Shape of gyrFilteredDownstairs_s1 is ------ (8,)\n",
      "Shape of accFilteredDownstairs_s1 is ------ (8,) \n",
      "\n",
      "Shape of gyrFilteredDownstairs_s3 is ------ (8,)\n",
      "Shape of accFilteredDownstairs_s3 is ------ (8,) \n",
      "\n"
     ]
    }
   ],
   "source": [
    "# getting the data shape for reference\n",
    "for j in gaitpos:\n",
    "    for i in smartphone:\n",
    "            gyrl = eval(f'gyrFiltered{j}_s{i}')\n",
    "            accl = eval(f'accFiltered{j}_s{i}')\n",
    "\n",
    "            print(f'Shape of gyrFiltered{j}_s{i} is ------ {np.asarray((gyrl), dtype = list).shape}')\n",
    "            print(f'Shape of accFiltered{j}_s{i} is ------ {np.asarray((accl), dtype = list).shape} \\n')"
   ]
  },
  {
   "cell_type": "markdown",
   "metadata": {},
   "source": [
    "### Cut data"
   ]
  },
  {
   "cell_type": "markdown",
   "metadata": {},
   "source": [
    "#### Cut data function"
   ]
  },
  {
   "cell_type": "code",
   "execution_count": 40,
   "metadata": {},
   "outputs": [],
   "source": [
    "def cutData(gyrFilt, accFilt, freq):\n",
    "    acc_abs = np.linalg.norm(accFilt, axis=1)\n",
    "    \n",
    "    ht = np.round(np.mean(acc_abs[int(0.3*len(acc_abs)):int(0.7*len(acc_abs))])).astype(int)\n",
    "\n",
    "    peaks, _ = sp.find_peaks(acc_abs, height = -10, distance=freq*0.5)\n",
    "    diff_peaks = np.diff(peaks)\n",
    "    gap1 = np.argmax(diff_peaks[:int(0.4*(len(diff_peaks)))])\n",
    "    gap2 = np.argmax(diff_peaks[-int(0.4*len(diff_peaks)):])\n",
    "    \n",
    "    gap2 = int(np.shape(diff_peaks)[0] - int(0.4*len(diff_peaks)) + gap2)\n",
    "\n",
    "    gyr_cut = gyrFilt[peaks[gap1+1]:peaks[gap2], :]\n",
    "    acc_cut = accFilt[peaks[gap1+1]:peaks[gap2], :]\n",
    "\n",
    "    return gyr_cut, acc_cut"
   ]
  },
  {
   "cell_type": "markdown",
   "metadata": {},
   "source": [
    "##### -- check -- Cut data function"
   ]
  },
  {
   "cell_type": "code",
   "execution_count": 41,
   "metadata": {},
   "outputs": [
    {
     "data": {
      "text/plain": [
       "\"\\ngyrNormalCtted, accNormalCtted = [], []\\n\\nfor x in range(0, len(gyrNormal_s3)):\\n    num = x\\n    \\n    nq = len(accNormal_s3[num])\\n    tq = np.asarray(gyrNormal_s3[num].iloc[:,0])\\n    freq = np.round(len(tq)/(tq[-1]))\\n    # print(f'The frequency of the data is {freq}')\\n\\n    acc_abs = np.linalg.norm(accFilteredNormal_s3[num], axis=1)\\n\\n    # ht = np.round(np.mean(acc_abs[int(0.2*len(acc_abs)):int(0.7*len(acc_abs))])).astype(int)\\n    # ht = np.round(np.mean(acc_abs)).astype(int)\\n    # print(f'The average height of the data is {ht}')\\n    peaks, _ = sp.find_peaks(acc_abs, height = 0, distance=freq*0.5)\\n    # print(f'The number of peaks is {(peaks)}')\\n\\n    diff_peaks = np.diff(peaks)\\n    # print(f'The difference of peaks is {(diff_peaks)}')\\n\\n    gap1 = np.argmax(diff_peaks[:20])\\n    # print(f'The first gap is {gap1}')\\n\\n    gap2 = np.argmax(diff_peaks[-10:])\\n    gap2 = int(np.shape(diff_peaks)[0] - 10 + gap2)\\n    # print(f'The second gap is {gap2}')\\n\\n    gyr_cut = gyrFilteredNormal_s3[num][peaks[gap1+1]:peaks[gap2], :]\\n    acc_cut = accFilteredNormal_s3[num][peaks[gap1+1]:peaks[gap2], :]\\n\\n    gyrNormalCtted.append(gyr_cut)\\n    accNormalCtted.append(acc_cut)\\n\""
      ]
     },
     "execution_count": 41,
     "metadata": {},
     "output_type": "execute_result"
    }
   ],
   "source": [
    "'''\n",
    "gyrNormalCtted, accNormalCtted = [], []\n",
    "\n",
    "for x in range(0, len(gyrNormal_s3)):\n",
    "    num = x\n",
    "    \n",
    "    nq = len(accNormal_s3[num])\n",
    "    tq = np.asarray(gyrNormal_s3[num].iloc[:,0])\n",
    "    freq = np.round(len(tq)/(tq[-1]))\n",
    "    # print(f'The frequency of the data is {freq}')\n",
    "\n",
    "    acc_abs = np.linalg.norm(accFilteredNormal_s3[num], axis=1)\n",
    "\n",
    "    # ht = np.round(np.mean(acc_abs[int(0.2*len(acc_abs)):int(0.7*len(acc_abs))])).astype(int)\n",
    "    # ht = np.round(np.mean(acc_abs)).astype(int)\n",
    "    # print(f'The average height of the data is {ht}')\n",
    "    peaks, _ = sp.find_peaks(acc_abs, height = 0, distance=freq*0.5)\n",
    "    # print(f'The number of peaks is {(peaks)}')\n",
    "\n",
    "    diff_peaks = np.diff(peaks)\n",
    "    # print(f'The difference of peaks is {(diff_peaks)}')\n",
    "\n",
    "    gap1 = np.argmax(diff_peaks[:20])\n",
    "    # print(f'The first gap is {gap1}')\n",
    "\n",
    "    gap2 = np.argmax(diff_peaks[-10:])\n",
    "    gap2 = int(np.shape(diff_peaks)[0] - 10 + gap2)\n",
    "    # print(f'The second gap is {gap2}')\n",
    "\n",
    "    gyr_cut = gyrFilteredNormal_s3[num][peaks[gap1+1]:peaks[gap2], :]\n",
    "    acc_cut = accFilteredNormal_s3[num][peaks[gap1+1]:peaks[gap2], :]\n",
    "\n",
    "    gyrNormalCtted.append(gyr_cut)\n",
    "    accNormalCtted.append(acc_cut)\n",
    "'''"
   ]
  },
  {
   "cell_type": "markdown",
   "metadata": {},
   "source": [
    "##### -- Test -- Cut Data line by line"
   ]
  },
  {
   "cell_type": "code",
   "execution_count": 42,
   "metadata": {},
   "outputs": [
    {
     "data": {
      "text/plain": [
       "'\\nnum = 7\\n\\nnq = len(accNormal_s3[num])\\ntq = np.asarray(gyrNormal_s3[num].iloc[:,0])\\nfreq = np.round(len(tq)/(tq[-1]))\\nprint(f\\'The frequency of the data is {freq}\\')\\n\\nacc_abs = np.linalg.norm(accFilteredNormal_s3[num], axis=1)\\n\\nht = np.round(np.mean(acc_abs[int(0.2*len(acc_abs)):int(0.7*len(acc_abs))])).astype(int)\\n# ht = np.round(np.mean(acc_abs)).astype(int)\\nprint(f\\'The average height of the data is {ht}\\')\\npeaks, _ = sp.find_peaks(acc_abs, height = 0, distance=freq*0.5)\\nprint(f\\'The number of peaks is {(peaks)}\\')\\n\\ndiff_peaks = np.diff(peaks)\\nprint(f\\'The difference of peaks is {(diff_peaks)}\\')\\n\\ngap1 = np.argmax(diff_peaks[:int(0.1*(len(diff_peaks)))])\\nprint(f\\'The first gap is {gap1}\\')\\n\\ngap2 = np.argmax(diff_peaks[-int(0.1*len(diff_peaks)):])\\ngap2 = int(np.shape(diff_peaks)[0] - int(0.2*len(diff_peaks)) + gap2)\\nprint(f\\'The second gap is {gap2}\\')\\n\\ngyr_cut = gyrFilteredNormal_s3[num][peaks[gap1+1]:peaks[gap2], :]\\nacc_cut = accFilteredNormal_s3[num][peaks[gap1+1]:peaks[gap2], :]\\n\\nplt.close()\\n# plt.plot(gyrFilteredNormal_s1[1][:,0], label=\\'Raw Data\\', c = \\'b\\')\\n\\nplt.plot(acc_abs, label = \\'Accelerometer Absolute Data\\', c = \\'grey\\')\\nplt.plot(np.linspace(0, len(gyrNormal_s3[num])), np.full_like(np.linspace(0, len(gyrNormal_s3[num])), ht), label = \\'Average Height\\', c = \\'r\\')\\n\\nplt.plot(peaks, acc_abs[peaks], \\'x\\', label = \\'Peaks\\', c = \\'y\\')\\nplt.plot(np.linspace(0, len(gyrNormal_s3[num])), np.zeros_like(np.linspace(0, len(gyrNormal_s3[num]))), linestyle = \"--\", linewidth = 0.2, dashes=(5, 15), color=\"black\")\\n\\nplt.plot(peaks[gap1+1], acc_abs[peaks[gap1+1]], \\'o\\', label = \\'Gap 1\\', c = \\'g\\')\\nplt.plot(peaks[gap2], acc_abs[peaks[gap2]], \\'o\\', label = \\'Gap 2\\', c = \\'black\\')\\n\\nplt.plot(gyr_cut[:,0], label = \\'Gyr Cut\\', c=\\'r\\')\\n\\nplt.legend()\\nplt.grid()\\nplt.show()\\n'"
      ]
     },
     "execution_count": 42,
     "metadata": {},
     "output_type": "execute_result"
    }
   ],
   "source": [
    "'''\n",
    "num = 7\n",
    "\n",
    "nq = len(accNormal_s3[num])\n",
    "tq = np.asarray(gyrNormal_s3[num].iloc[:,0])\n",
    "freq = np.round(len(tq)/(tq[-1]))\n",
    "print(f'The frequency of the data is {freq}')\n",
    "\n",
    "acc_abs = np.linalg.norm(accFilteredNormal_s3[num], axis=1)\n",
    "\n",
    "ht = np.round(np.mean(acc_abs[int(0.2*len(acc_abs)):int(0.7*len(acc_abs))])).astype(int)\n",
    "# ht = np.round(np.mean(acc_abs)).astype(int)\n",
    "print(f'The average height of the data is {ht}')\n",
    "peaks, _ = sp.find_peaks(acc_abs, height = 0, distance=freq*0.5)\n",
    "print(f'The number of peaks is {(peaks)}')\n",
    "\n",
    "diff_peaks = np.diff(peaks)\n",
    "print(f'The difference of peaks is {(diff_peaks)}')\n",
    "\n",
    "gap1 = np.argmax(diff_peaks[:int(0.1*(len(diff_peaks)))])\n",
    "print(f'The first gap is {gap1}')\n",
    "\n",
    "gap2 = np.argmax(diff_peaks[-int(0.1*len(diff_peaks)):])\n",
    "gap2 = int(np.shape(diff_peaks)[0] - int(0.2*len(diff_peaks)) + gap2)\n",
    "print(f'The second gap is {gap2}')\n",
    "\n",
    "gyr_cut = gyrFilteredNormal_s3[num][peaks[gap1+1]:peaks[gap2], :]\n",
    "acc_cut = accFilteredNormal_s3[num][peaks[gap1+1]:peaks[gap2], :]\n",
    "\n",
    "plt.close()\n",
    "# plt.plot(gyrFilteredNormal_s1[1][:,0], label='Raw Data', c = 'b')\n",
    "\n",
    "plt.plot(acc_abs, label = 'Accelerometer Absolute Data', c = 'grey')\n",
    "plt.plot(np.linspace(0, len(gyrNormal_s3[num])), np.full_like(np.linspace(0, len(gyrNormal_s3[num])), ht), label = 'Average Height', c = 'r')\n",
    "\n",
    "plt.plot(peaks, acc_abs[peaks], 'x', label = 'Peaks', c = 'y')\n",
    "plt.plot(np.linspace(0, len(gyrNormal_s3[num])), np.zeros_like(np.linspace(0, len(gyrNormal_s3[num]))), linestyle = \"--\", linewidth = 0.2, dashes=(5, 15), color=\"black\")\n",
    "\n",
    "plt.plot(peaks[gap1+1], acc_abs[peaks[gap1+1]], 'o', label = 'Gap 1', c = 'g')\n",
    "plt.plot(peaks[gap2], acc_abs[peaks[gap2]], 'o', label = 'Gap 2', c = 'black')\n",
    "\n",
    "plt.plot(gyr_cut[:,0], label = 'Gyr Cut', c='r')\n",
    "\n",
    "plt.legend()\n",
    "plt.grid()\n",
    "plt.show()\n",
    "'''"
   ]
  },
  {
   "cell_type": "markdown",
   "metadata": {},
   "source": [
    "#### Cut all the data"
   ]
  },
  {
   "cell_type": "code",
   "execution_count": 43,
   "metadata": {},
   "outputs": [],
   "source": [
    "# defining arrays for cut gyroscope data\n",
    "gyrCutNormal_s1 = []; gyrCutUpstairs_s1 = []; gyrCutDownstairs_s1 = []\n",
    "gyrCutNormal_s3 = []; gyrCutUpstairs_s3 = []; gyrCutDownstairs_s3 = []\n",
    "\n",
    "# defining arrays for cut accelerometer data\n",
    "accCutNormal_s1 = []; accCutUpstairs_s1 = []; accCutDownstairs_s1 = []\n",
    "accCutNormal_s3 = []; accCutUpstairs_s3 = []; accCutDownstairs_s3 = []\n",
    "\n",
    "for j in gaitpos:\n",
    "    for i in smartphone:\n",
    "            # variables of raw the data\n",
    "            gyrl = eval(f'gyr{j}_s{i}')\n",
    "            accl = eval(f'acc{j}_s{i}')\n",
    "            \n",
    "            # variables of filtered the data\n",
    "            gyrF = eval(f'gyrFiltered{j}_s{i}')\n",
    "            accF = eval(f'accFiltered{j}_s{i}')\n",
    "\n",
    "            # variables of cutted the data\n",
    "            gyrC = eval(f'gyrCut{j}_s{i}')\n",
    "            accC = eval(f'accCut{j}_s{i}')\n",
    "\n",
    "            # getting the shape of the gyroscope and accelerometer data\n",
    "            n = len(gyrF)\n",
    "\n",
    "            # Filter all the data\n",
    "            for r in range(0, n):\n",
    "                \n",
    "                tCut = np.asarray(gyrl[r].iloc[:,0])\n",
    "                freqCut = np.round(len(tCut)/(tCut[-1]))\n",
    "                # print(f'accFiltered{j}_s{i} - {[r]}')\n",
    "                gf, aF = cutData(gyrF[r], accF[r], freqCut)\n",
    "\n",
    "                gyrC.append(gf)\n",
    "                accC.append(aF)"
   ]
  },
  {
   "cell_type": "markdown",
   "metadata": {},
   "source": [
    "#### check if all the data is collected correctly after cutting"
   ]
  },
  {
   "cell_type": "code",
   "execution_count": 44,
   "metadata": {},
   "outputs": [
    {
     "name": "stdout",
     "output_type": "stream",
     "text": [
      "Shape of gyrCutNormal_s1 is ------ (8,)\n",
      "Shape of accCutNormal_s1 is ------ (8,) \n",
      "\n",
      "Shape of gyrCutNormal_s3 is ------ (8,)\n",
      "Shape of accCutNormal_s3 is ------ (8,) \n",
      "\n",
      "Shape of gyrCutUpstairs_s1 is ------ (8,)\n",
      "Shape of accCutUpstairs_s1 is ------ (8,) \n",
      "\n",
      "Shape of gyrCutUpstairs_s3 is ------ (8,)\n",
      "Shape of accCutUpstairs_s3 is ------ (8,) \n",
      "\n",
      "Shape of gyrCutDownstairs_s1 is ------ (8,)\n",
      "Shape of accCutDownstairs_s1 is ------ (8,) \n",
      "\n",
      "Shape of gyrCutDownstairs_s3 is ------ (8,)\n",
      "Shape of accCutDownstairs_s3 is ------ (8,) \n",
      "\n"
     ]
    }
   ],
   "source": [
    "# getting the data shape for reference\n",
    "for j in gaitpos:\n",
    "    for i in smartphone:\n",
    "            gyr = eval(f'gyrCut{j}_s{i}')\n",
    "            acc = eval(f'accCut{j}_s{i}')\n",
    "\n",
    "            print(f'Shape of gyrCut{j}_s{i} is ------ {np.asarray((gyr), dtype = list).shape}')\n",
    "            print(f'Shape of accCut{j}_s{i} is ------ {np.asarray((acc), dtype = list).shape} \\n')"
   ]
  },
  {
   "cell_type": "markdown",
   "metadata": {},
   "source": [
    "#### Plot raw data, filtered data, and cut data"
   ]
  },
  {
   "cell_type": "code",
   "execution_count": 45,
   "metadata": {},
   "outputs": [
    {
     "data": {
      "application/vnd.jupyter.widget-view+json": {
       "model_id": "7d0074cfa64e41a2a2cce9b5c4cb8035",
       "version_major": 2,
       "version_minor": 0
      },
      "text/plain": [
       "Canvas(toolbar=Toolbar(toolitems=[('Home', 'Reset original view', 'home', 'home'), ('Back', 'Back to previous …"
      ]
     },
     "metadata": {},
     "output_type": "display_data"
    }
   ],
   "source": [
    "# pos = 'Normal', 'Upstairs', 'Downstairs'\n",
    "pos = 'Normal'\n",
    "# loc = 1, 3\n",
    "loc = 3\n",
    "# no = 0-7\n",
    "no = 4\n",
    "# axis = 0, 1, 2\n",
    "axis = 0\n",
    "\n",
    "plt.close()\n",
    "plt.plot(eval(f'gyr{pos}_s{loc}')[no].iloc[:,(axis+1)], label='Raw Data', c = 'c')\n",
    "plt.plot(eval(f'gyrFiltered{pos}_s{loc}')[no][:,axis], label='Filtered Data', c = 'b')\n",
    "plt.plot(eval(f'gyrCut{pos}_s{loc}')[no][:,axis], label = 'Gyr Cutted Data', c = 'r')\n",
    "# plt.plot(eval(f'gyrResample{pos}_s{loc}')[no][:,axis], label = 'Gyr Resampled Data', c = 'g')\n",
    "\n",
    "plt.legend()\n",
    "plt.show()"
   ]
  },
  {
   "cell_type": "markdown",
   "metadata": {},
   "source": [
    "#### -- Test -- Save all cut data to plots"
   ]
  },
  {
   "cell_type": "code",
   "execution_count": 46,
   "metadata": {},
   "outputs": [
    {
     "data": {
      "text/plain": [
       "\"\\nfor j in gaitpos:\\n    for i in smartphone:\\n        # variables of raw the data\\n        gyrl = eval(f'gyr{j}_s{i}')\\n        accl = eval(f'acc{j}_s{i}')\\n        # variables of filtered the data\\n        gyrF = eval(f'gyrFiltered{j}_s{i}')\\n        accF = eval(f'accFiltered{j}_s{i}')\\n        # variables of cutted the data\\n        gyrC = eval(f'gyrCut{j}_s{i}')\\n        accC = eval(f'accCut{j}_s{i}')\\n\\n        for rg in range(0, len(gyrF)):\\n            plt.close()\\n            plt.plot(gyrl[rg].iloc[:,1], label='Raw Gyroscope Data', c = 'c')\\n            # plt.plot(accl[rg].iloc[:,1], label='Raw Accelerometer Data', c = 'm')\\n\\n            plt.plot(gyrF[rg][:,0], label='Filtered Gyroscope Data', c = 'b')\\n            # plt.plot(accF[rg][:,0], label='Filtered Accelerometer Data', c = 'g')\\n\\n            plt.plot(gyrC[rg][:,0], label='Gyroscope Cut Data', c = 'y')\\n            # plt.plot(accC[rg][:,0], label = 'Accelerometer Cut Data', c = 'r')\\n\\n            plt.legend()\\n            plt.grid()\\n            plt.ioff()\\n            # plt.savefig(rootdir+f'/2 Accelerometer_Pictures/acc{j}_s{i}_{rg}.png')\\n            plt.savefig(rootdir+f'/1 Gyroscope_Pictures/gyr{j}_s{i}_{rg}.png')\\n\""
      ]
     },
     "execution_count": 46,
     "metadata": {},
     "output_type": "execute_result"
    }
   ],
   "source": [
    "'''\n",
    "for j in gaitpos:\n",
    "    for i in smartphone:\n",
    "        # variables of raw the data\n",
    "        gyrl = eval(f'gyr{j}_s{i}')\n",
    "        accl = eval(f'acc{j}_s{i}')\n",
    "        # variables of filtered the data\n",
    "        gyrF = eval(f'gyrFiltered{j}_s{i}')\n",
    "        accF = eval(f'accFiltered{j}_s{i}')\n",
    "        # variables of cutted the data\n",
    "        gyrC = eval(f'gyrCut{j}_s{i}')\n",
    "        accC = eval(f'accCut{j}_s{i}')\n",
    "\n",
    "        for rg in range(0, len(gyrF)):\n",
    "            plt.close()\n",
    "            plt.plot(gyrl[rg].iloc[:,1], label='Raw Gyroscope Data', c = 'c')\n",
    "            # plt.plot(accl[rg].iloc[:,1], label='Raw Accelerometer Data', c = 'm')\n",
    "\n",
    "            plt.plot(gyrF[rg][:,0], label='Filtered Gyroscope Data', c = 'b')\n",
    "            # plt.plot(accF[rg][:,0], label='Filtered Accelerometer Data', c = 'g')\n",
    "\n",
    "            plt.plot(gyrC[rg][:,0], label='Gyroscope Cut Data', c = 'y')\n",
    "            # plt.plot(accC[rg][:,0], label = 'Accelerometer Cut Data', c = 'r')\n",
    "\n",
    "            plt.legend()\n",
    "            plt.grid()\n",
    "            plt.ioff()\n",
    "            # plt.savefig(rootdir+f'/2 Accelerometer_Pictures/acc{j}_s{i}_{rg}.png')\n",
    "            plt.savefig(rootdir+f'/1 Gyroscope_Pictures/gyr{j}_s{i}_{rg}.png')\n",
    "'''"
   ]
  },
  {
   "cell_type": "markdown",
   "metadata": {},
   "source": [
    "### Resample data"
   ]
  },
  {
   "cell_type": "markdown",
   "metadata": {},
   "source": [
    "#### Resample all the data"
   ]
  },
  {
   "cell_type": "code",
   "execution_count": 47,
   "metadata": {},
   "outputs": [],
   "source": [
    "# Create arrays for resampled data\n",
    "gyrResampleNormal_s1 = []; gyrResampleUpstairs_s1 = []; gyrResampleDownstairs_s1 = []\n",
    "gyrResampleNormal_s3 = []; gyrResampleUpstairs_s3 = []; gyrResampleDownstairs_s3 = []\n",
    "\n",
    "accResampleNormal_s1 = []; accResampleUpstairs_s1 = []; accResampleDownstairs_s1 = []\n",
    "accResampleNormal_s3 = []; accResampleUpstairs_s3 = []; accResampleDownstairs_s3 = []\n",
    "\n",
    "size = 200\n",
    "\n",
    "for j in gaitpos:\n",
    "    for i in smartphone:\n",
    "            gyrl = eval(f'gyrCut{j}_s{i}')\n",
    "            accl = eval(f'accCut{j}_s{i}')\n",
    "\n",
    "            gyrrs = eval(f'gyrResample{j}_s{i}')\n",
    "            accrs = eval(f'accResample{j}_s{i}')\n",
    "\n",
    "            for rg in range(0, len(gyrl)):\n",
    "                g = sp.resample(gyrl[rg], size, axis = 0)\n",
    "                a = sp.resample(accl[rg], size, axis = 0)\n",
    "                \n",
    "                gyrrs.append(g)\n",
    "                accrs.append(a)"
   ]
  },
  {
   "cell_type": "markdown",
   "metadata": {},
   "source": [
    "#### Change the data type to pd.DataFrame, add a column for label and drop that extra frckin column"
   ]
  },
  {
   "cell_type": "code",
   "execution_count": 48,
   "metadata": {},
   "outputs": [],
   "source": [
    "\n",
    "for j in gaitpos:\n",
    "    for i in smartphone:\n",
    "            gyrl = eval(f'gyrResample{j}_s{i}')\n",
    "            accl = eval(f'accResample{j}_s{i}')\n",
    "\n",
    "            for x in range(0, len(gyrl)):\n",
    "                g = pd.DataFrame(data = gyrl[x], columns=['X (rad/s)', 'Y (rad/s)', 'Z (rad/s)', 'Unnamed'])\n",
    "                a = pd.DataFrame(data = accl[x], columns=['X (m/s^2)', 'Y (m/s^2)', 'Z (m/s^2)', 'Unnamed'])\n",
    "                \n",
    "                g.drop(g.columns[3], axis=1, inplace=True)\n",
    "                a.drop(a.columns[3], axis=1, inplace=True)\n",
    "\n",
    "                gyrl[x] = g\n",
    "                accl[x] = a\n",
    "\n",
    "                gyrl[x]['Labelg'] = j\n",
    "                accl[x]['Labela'] = j"
   ]
  },
  {
   "cell_type": "markdown",
   "metadata": {},
   "source": [
    "#### Check if all the data is collected properly after resampling"
   ]
  },
  {
   "cell_type": "code",
   "execution_count": 49,
   "metadata": {},
   "outputs": [
    {
     "name": "stdout",
     "output_type": "stream",
     "text": [
      "Shape of gyrResampleNormal_s1 is ------ (8, 200, 4)\n",
      "Shape of accResampleNormal_s1 is ------ (8, 200, 4) \n",
      "\n",
      "Shape of gyrResampleNormal_s3 is ------ (8, 200, 4)\n",
      "Shape of accResampleNormal_s3 is ------ (8, 200, 4) \n",
      "\n",
      "Shape of gyrResampleUpstairs_s1 is ------ (8, 200, 4)\n",
      "Shape of accResampleUpstairs_s1 is ------ (8, 200, 4) \n",
      "\n",
      "Shape of gyrResampleUpstairs_s3 is ------ (8, 200, 4)\n",
      "Shape of accResampleUpstairs_s3 is ------ (8, 200, 4) \n",
      "\n",
      "Shape of gyrResampleDownstairs_s1 is ------ (8, 200, 4)\n",
      "Shape of accResampleDownstairs_s1 is ------ (8, 200, 4) \n",
      "\n",
      "Shape of gyrResampleDownstairs_s3 is ------ (8, 200, 4)\n",
      "Shape of accResampleDownstairs_s3 is ------ (8, 200, 4) \n",
      "\n"
     ]
    }
   ],
   "source": [
    "# getting the data shape for reference\n",
    "for j in gaitpos:\n",
    "    for i in smartphone:\n",
    "            gyr = eval(f'gyrResample{j}_s{i}')\n",
    "            acc = eval(f'accResample{j}_s{i}')\n",
    "\n",
    "            print(f'Shape of gyrResample{j}_s{i} is ------ {np.asarray((gyr), dtype = list).shape}')\n",
    "            print(f'Shape of accResample{j}_s{i} is ------ {np.asarray((acc), dtype = list).shape} \\n')"
   ]
  },
  {
   "cell_type": "markdown",
   "metadata": {},
   "source": [
    "#### Plot to compare the cut data, and resampled data"
   ]
  },
  {
   "cell_type": "code",
   "execution_count": 50,
   "metadata": {},
   "outputs": [
    {
     "data": {
      "application/vnd.jupyter.widget-view+json": {
       "model_id": "615f4feae6fe45ae8091750f6f243f63",
       "version_major": 2,
       "version_minor": 0
      },
      "text/plain": [
       "Canvas(toolbar=Toolbar(toolitems=[('Home', 'Reset original view', 'home', 'home'), ('Back', 'Back to previous …"
      ]
     },
     "metadata": {},
     "output_type": "display_data"
    }
   ],
   "source": [
    "# pos = 'Normal', 'Upstairs', 'Downstairs'\n",
    "pos = 'Normal'\n",
    "# loc = 1, 3\n",
    "loc = 3\n",
    "# no = 0-7\n",
    "no = 2\n",
    "# axis = 0, 1, 2\n",
    "axis = 0\n",
    "\n",
    "plt.close()\n",
    "fig, axs = plt.subplots(2,1)\n",
    "fig.suptitle('Comparision of Resampled Data')\n",
    "\n",
    "# axs[0].plot(eval(f'gyr{pos}_s{loc}')[no].iloc[:,(axis+1)], label='Raw Data', c = 'c')\n",
    "# axs[0].plot(eval(f'gyrFiltered{pos}_s{loc}')[no][:,axis], label='Filtered Data', c = 'b')\n",
    "axs[0].plot(eval(f'gyrCut{pos}_s{loc}')[no][:,axis], label = 'Gyr Cutted Data', c = 'r')\n",
    "axs[0].x_lim = [0, 250]\n",
    "\n",
    "axs[1].plot(eval(f'gyrResample{pos}_s{loc}')[no].iloc[:,axis], label = 'Gyr Resampled Data', c = 'g')\n",
    "\n",
    "axs[0].legend()\n",
    "axs[1].legend()\n",
    "plt.show()"
   ]
  },
  {
   "cell_type": "markdown",
   "metadata": {},
   "source": [
    "### Create combined dataframes"
   ]
  },
  {
   "cell_type": "markdown",
   "metadata": {},
   "source": [
    "#### Create dataframes combining all subjects into gyr_s1, acc_s1 and so on"
   ]
  },
  {
   "cell_type": "code",
   "execution_count": 51,
   "metadata": {},
   "outputs": [],
   "source": [
    "# combine all the data into gyr_s1, acc_s1, gyr_s3, and acc_s3\n",
    "gyr_s1 = pd.DataFrame(columns=['X (rad/s)', 'Y (rad/s)', 'Z (rad/s)'])\n",
    "acc_s1 = pd.DataFrame(columns=['X (m/s^2)', 'Y (m/s^2)', 'Z (m/s^2)'])\n",
    "\n",
    "gyr_s3 = pd.DataFrame(columns=['X (rad/s)', 'Y (rad/s)', 'Z (rad/s)'])\n",
    "acc_s3 = pd.DataFrame(columns=['X (m/s^2)', 'Y (m/s^2)', 'Z (m/s^2)'])\n",
    "\n",
    "for i in smartphone:    \n",
    "    for j in gaitpos:\n",
    "        gyr = eval(f'gyrResample{j}_s{i}')\n",
    "        acc = eval(f'accResample{j}_s{i}')\n",
    "        \n",
    "        if i == 1:    \n",
    "            for x in range(0, len(gyr)):\n",
    "                gyr_s1 = pd.concat((gyr_s1, gyr[x]), ignore_index=True, axis = 0)\n",
    "                acc_s1 = pd.concat((acc_s1, acc[x]), ignore_index=True, axis = 0)\n",
    "        \n",
    "        elif i == 3:\n",
    "            for x in range(0, len(gyr)):\n",
    "                gyr_s3 = pd.concat((gyr_s3, gyr[x]), ignore_index=True, axis = 0)\n",
    "                acc_s3 = pd.concat((acc_s3, acc[x]), ignore_index=True, axis = 0)\n"
   ]
  },
  {
   "cell_type": "markdown",
   "metadata": {},
   "source": [
    "#### create dataframes for each smartphone"
   ]
  },
  {
   "cell_type": "code",
   "execution_count": 52,
   "metadata": {},
   "outputs": [],
   "source": [
    "# defining arrays for subject specific data\n",
    "s1 = pd.DataFrame(columns = ['X (rad/s)', 'Y (rad/s)', 'Z (rad/s)', 'X (m/s^2)', 'Y (m/s^2)', 'Z (m/s^2)', 'Labela'])\n",
    "s3 = pd.DataFrame(columns = ['X (rad/s)', 'Y (rad/s)', 'Z (rad/s)', 'X (m/s^2)', 'Y (m/s^2)', 'Z (m/s^2)', 'Labela'])\n",
    "\n",
    "s1 = pd.concat((gyr_s1, acc_s1), axis = 1)\n",
    "s3 = pd.concat((gyr_s3, acc_s3), axis = 1)\n",
    "\n",
    "s1.drop(['Labelg'], axis=1, inplace=True)\n",
    "s3.drop(['Labelg'], axis=1, inplace=True)"
   ]
  },
  {
   "cell_type": "markdown",
   "metadata": {},
   "source": [
    "#### Normalize the data"
   ]
  },
  {
   "cell_type": "code",
   "execution_count": 73,
   "metadata": {},
   "outputs": [],
   "source": [
    "s1_n = []; s3_n = []\n",
    "\n",
    "for i in smartphone:\n",
    "    ss = eval(f's{i}')\n",
    "    if i == 1:\n",
    "        s1_n = preprocessing.normalize(ss.iloc[:,:6],axis=1)\n",
    "    elif i == 3:\n",
    "        s3_n = preprocessing.normalize(ss.iloc[:,:6],axis=1)"
   ]
  },
  {
   "cell_type": "code",
   "execution_count": 78,
   "metadata": {},
   "outputs": [
    {
     "data": {
      "text/html": [
       "<div>\n",
       "<style scoped>\n",
       "    .dataframe tbody tr th:only-of-type {\n",
       "        vertical-align: middle;\n",
       "    }\n",
       "\n",
       "    .dataframe tbody tr th {\n",
       "        vertical-align: top;\n",
       "    }\n",
       "\n",
       "    .dataframe thead th {\n",
       "        text-align: right;\n",
       "    }\n",
       "</style>\n",
       "<table border=\"1\" class=\"dataframe\">\n",
       "  <thead>\n",
       "    <tr style=\"text-align: right;\">\n",
       "      <th></th>\n",
       "      <th>X (rad/s)</th>\n",
       "      <th>Y (rad/s)</th>\n",
       "      <th>Z (rad/s)</th>\n",
       "      <th>X (m/s^2)</th>\n",
       "      <th>Y (m/s^2)</th>\n",
       "      <th>Z (m/s^2)</th>\n",
       "    </tr>\n",
       "  </thead>\n",
       "  <tbody>\n",
       "    <tr>\n",
       "      <th>0</th>\n",
       "      <td>0.012393</td>\n",
       "      <td>-0.008922</td>\n",
       "      <td>0.026738</td>\n",
       "      <td>0.209931</td>\n",
       "      <td>-0.954451</td>\n",
       "      <td>-0.209774</td>\n",
       "    </tr>\n",
       "    <tr>\n",
       "      <th>1</th>\n",
       "      <td>-0.014021</td>\n",
       "      <td>-0.052409</td>\n",
       "      <td>0.010301</td>\n",
       "      <td>0.064516</td>\n",
       "      <td>-0.995836</td>\n",
       "      <td>-0.033144</td>\n",
       "    </tr>\n",
       "    <tr>\n",
       "      <th>2</th>\n",
       "      <td>-0.002086</td>\n",
       "      <td>0.013525</td>\n",
       "      <td>-0.008867</td>\n",
       "      <td>0.108136</td>\n",
       "      <td>-0.982736</td>\n",
       "      <td>-0.149231</td>\n",
       "    </tr>\n",
       "    <tr>\n",
       "      <th>3</th>\n",
       "      <td>-0.005284</td>\n",
       "      <td>0.001213</td>\n",
       "      <td>0.007737</td>\n",
       "      <td>0.117182</td>\n",
       "      <td>-0.990964</td>\n",
       "      <td>-0.064567</td>\n",
       "    </tr>\n",
       "    <tr>\n",
       "      <th>4</th>\n",
       "      <td>-0.021032</td>\n",
       "      <td>0.015040</td>\n",
       "      <td>-0.003838</td>\n",
       "      <td>0.180601</td>\n",
       "      <td>-0.968281</td>\n",
       "      <td>-0.170679</td>\n",
       "    </tr>\n",
       "    <tr>\n",
       "      <th>...</th>\n",
       "      <td>...</td>\n",
       "      <td>...</td>\n",
       "      <td>...</td>\n",
       "      <td>...</td>\n",
       "      <td>...</td>\n",
       "      <td>...</td>\n",
       "    </tr>\n",
       "    <tr>\n",
       "      <th>4795</th>\n",
       "      <td>-0.212004</td>\n",
       "      <td>0.086500</td>\n",
       "      <td>-0.145837</td>\n",
       "      <td>0.034939</td>\n",
       "      <td>0.959156</td>\n",
       "      <td>-0.071438</td>\n",
       "    </tr>\n",
       "    <tr>\n",
       "      <th>4796</th>\n",
       "      <td>-0.231833</td>\n",
       "      <td>0.059371</td>\n",
       "      <td>-0.153696</td>\n",
       "      <td>-0.066483</td>\n",
       "      <td>0.956271</td>\n",
       "      <td>0.015209</td>\n",
       "    </tr>\n",
       "    <tr>\n",
       "      <th>4797</th>\n",
       "      <td>-0.243383</td>\n",
       "      <td>0.052094</td>\n",
       "      <td>-0.161133</td>\n",
       "      <td>-0.085256</td>\n",
       "      <td>0.950999</td>\n",
       "      <td>0.020471</td>\n",
       "    </tr>\n",
       "    <tr>\n",
       "      <th>4798</th>\n",
       "      <td>-0.201496</td>\n",
       "      <td>0.047888</td>\n",
       "      <td>-0.120297</td>\n",
       "      <td>-0.102265</td>\n",
       "      <td>0.962073</td>\n",
       "      <td>0.081185</td>\n",
       "    </tr>\n",
       "    <tr>\n",
       "      <th>4799</th>\n",
       "      <td>-0.189377</td>\n",
       "      <td>0.084371</td>\n",
       "      <td>-0.119594</td>\n",
       "      <td>-0.000790</td>\n",
       "      <td>0.970481</td>\n",
       "      <td>-0.029689</td>\n",
       "    </tr>\n",
       "  </tbody>\n",
       "</table>\n",
       "<p>4800 rows × 6 columns</p>\n",
       "</div>"
      ],
      "text/plain": [
       "      X (rad/s)  Y (rad/s)  Z (rad/s)  X (m/s^2)  Y (m/s^2)  Z (m/s^2)\n",
       "0      0.012393  -0.008922   0.026738   0.209931  -0.954451  -0.209774\n",
       "1     -0.014021  -0.052409   0.010301   0.064516  -0.995836  -0.033144\n",
       "2     -0.002086   0.013525  -0.008867   0.108136  -0.982736  -0.149231\n",
       "3     -0.005284   0.001213   0.007737   0.117182  -0.990964  -0.064567\n",
       "4     -0.021032   0.015040  -0.003838   0.180601  -0.968281  -0.170679\n",
       "...         ...        ...        ...        ...        ...        ...\n",
       "4795  -0.212004   0.086500  -0.145837   0.034939   0.959156  -0.071438\n",
       "4796  -0.231833   0.059371  -0.153696  -0.066483   0.956271   0.015209\n",
       "4797  -0.243383   0.052094  -0.161133  -0.085256   0.950999   0.020471\n",
       "4798  -0.201496   0.047888  -0.120297  -0.102265   0.962073   0.081185\n",
       "4799  -0.189377   0.084371  -0.119594  -0.000790   0.970481  -0.029689\n",
       "\n",
       "[4800 rows x 6 columns]"
      ]
     },
     "execution_count": 78,
     "metadata": {},
     "output_type": "execute_result"
    }
   ],
   "source": [
    "sp = pd.DataFrame(data = s3_n, columns = ['X (rad/s)', 'Y (rad/s)', 'Z (rad/s)', 'X (m/s^2)', 'Y (m/s^2)', 'Z (m/s^2)'])"
   ]
  },
  {
   "cell_type": "code",
   "execution_count": 74,
   "metadata": {},
   "outputs": [
    {
     "data": {
      "application/vnd.jupyter.widget-view+json": {
       "model_id": "f872df94858e4482abd3e7a81198bf23",
       "version_major": 2,
       "version_minor": 0
      },
      "text/plain": [
       "Canvas(toolbar=Toolbar(toolitems=[('Home', 'Reset original view', 'home', 'home'), ('Back', 'Back to previous …"
      ]
     },
     "metadata": {},
     "output_type": "display_data"
    }
   ],
   "source": [
    "plt.close()\n",
    "fig, axs = plt.subplots(2,1)\n",
    "fig.suptitle('Comparision of Resampled Data')\n",
    "axs[0].plot(s3_n[:,0], label = 'X (m/s^2)', c = 'r')\n",
    "axs[1].plot(s3.iloc[:,0], label = 'X (m/s^2)', c = 'g')\n",
    "\n",
    "plt.show()"
   ]
  },
  {
   "cell_type": "markdown",
   "metadata": {},
   "source": [
    "### PCA"
   ]
  },
  {
   "cell_type": "markdown",
   "metadata": {},
   "source": [
    "#### run PCA on all the data"
   ]
  },
  {
   "cell_type": "code",
   "execution_count": 55,
   "metadata": {},
   "outputs": [
    {
     "data": {
      "text/plain": [
       "(4800, 6)"
      ]
     },
     "execution_count": 55,
     "metadata": {},
     "output_type": "execute_result"
    }
   ],
   "source": [
    "## Run PCA on the data\n",
    "for i in smartphone:\n",
    "    phone = eval(f's{i}')\n",
    "    phone = phone.iloc[:,:6]\n",
    "\n",
    "    scale = StandardScaler().fit_transform(phone) # use transpose to get the correct shape\n",
    "\n",
    "    pca = PCA(n_components = 6)\n",
    "    pca.fit(scale)\n",
    "    phone = pca.transform(scale)\n",
    "\n",
    "phone.shape"
   ]
  },
  {
   "cell_type": "code",
   "execution_count": 56,
   "metadata": {},
   "outputs": [],
   "source": [
    "var = np.round(pca.explained_variance_ratio_, decimals=3)*100\n",
    "labels = [f'PC{x}' for x in range(1, len(var)+1)]\n",
    "\n",
    "pcaDf = pd.DataFrame(phone, columns = labels)"
   ]
  },
  {
   "cell_type": "markdown",
   "metadata": {},
   "source": [
    "#### Check the scree plot to define the number of components to keep"
   ]
  },
  {
   "cell_type": "code",
   "execution_count": 61,
   "metadata": {},
   "outputs": [
    {
     "data": {
      "application/vnd.jupyter.widget-view+json": {
       "model_id": "ed60372231c6476d841435515d813c6e",
       "version_major": 2,
       "version_minor": 0
      },
      "text/plain": [
       "Canvas(toolbar=Toolbar(toolitems=[('Home', 'Reset original view', 'home', 'home'), ('Back', 'Back to previous …"
      ]
     },
     "metadata": {},
     "output_type": "display_data"
    }
   ],
   "source": [
    "plt.close()\n",
    "plt.bar(x = range(1, len(var)+1), height = var, tick_label = labels)\n",
    "plt.ylabel('Percentage of Explained Variance')\n",
    "plt.xlabel('Principal Component')\n",
    "plt.title('SCREE PLOT')\n",
    "plt.show()"
   ]
  },
  {
   "cell_type": "markdown",
   "metadata": {},
   "source": [
    "#### Check which axis data is clustering from the scatter plot"
   ]
  },
  {
   "cell_type": "code",
   "execution_count": 58,
   "metadata": {},
   "outputs": [
    {
     "name": "stdout",
     "output_type": "stream",
     "text": [
      "Top two principal components are -\n",
      "0.0      -1.084827\n",
      "3432.0   -1.084786\n",
      "4716.0    1.084506\n",
      "3413.0   -1.084356\n",
      "2392.0   -1.084013\n",
      "            ...   \n",
      "3003.0    0.362877\n",
      "2126.0   -0.362380\n",
      "494.0     0.362280\n",
      "3565.0   -0.362097\n",
      "3.0      -0.361862\n",
      "Length: 1829, dtype: float64\n"
     ]
    }
   ],
   "source": [
    "loadingScores = pd.Series(phone[:,0], index = np.linspace(0,4799,4800))\n",
    "sortedLoadingScores = loadingScores.abs().sort_values(ascending=False)\n",
    "\n",
    "topData = sortedLoadingScores[0:3].index.values\n",
    "\n",
    "print('Top two principal components are -')\n",
    "print(loadingScores[topData])"
   ]
  },
  {
   "cell_type": "code",
   "execution_count": 59,
   "metadata": {},
   "outputs": [
    {
     "data": {
      "text/plain": [
       "4601.0    5.111259\n",
       "4602.0    4.221376\n",
       "3527.0    3.831997\n",
       "3526.0    3.822709\n",
       "4603.0    3.802500\n",
       "            ...   \n",
       "3350.0    0.004513\n",
       "1522.0    0.002967\n",
       "745.0     0.001769\n",
       "3884.0    0.001727\n",
       "3286.0    0.000723\n",
       "Length: 4800, dtype: float64"
      ]
     },
     "execution_count": 59,
     "metadata": {},
     "output_type": "execute_result"
    }
   ],
   "source": [
    "sortedLoadingScores"
   ]
  },
  {
   "cell_type": "code",
   "execution_count": 60,
   "metadata": {},
   "outputs": [
    {
     "data": {
      "application/vnd.jupyter.widget-view+json": {
       "model_id": "bd8746ec558a4af7bb09ee1ec8c507d9",
       "version_major": 2,
       "version_minor": 0
      },
      "text/plain": [
       "Canvas(toolbar=Toolbar(toolitems=[('Home', 'Reset original view', 'home', 'home'), ('Back', 'Back to previous …"
      ]
     },
     "metadata": {},
     "output_type": "display_data"
    }
   ],
   "source": [
    "plt.close()\n",
    "plt.scatter(pcaDf.PC1, pcaDf.PC2, cmap = 'viridis')\n",
    "\n",
    "plt.title('Principal Component Analysis')\n",
    "plt.xlabel(f'PC1 - {var[0]}%')\n",
    "plt.ylabel(f'PC2 - {var[1]}%')\n",
    "plt.show()\n",
    "\n",
    "# for name in pcaDf.index:\n",
    "#     plt.annotate(name, (pcaDf.PC1[name], pcaDf.PC2[name]))"
   ]
  },
  {
   "cell_type": "markdown",
   "metadata": {},
   "source": [
    "#### Output from PCA (normalize before input to AI)"
   ]
  },
  {
   "cell_type": "markdown",
   "metadata": {},
   "source": [
    "## ---> AI Model"
   ]
  }
 ],
 "metadata": {
  "interpreter": {
   "hash": "d27c620567fe2d1f3f91b14d158f32cde7e2c4b18fc4163e5eb414de6a296357"
  },
  "kernelspec": {
   "display_name": "Python 3.8.12 64-bit ('ai': conda)",
   "language": "python",
   "name": "python3"
  },
  "language_info": {
   "codemirror_mode": {
    "name": "ipython",
    "version": 3
   },
   "file_extension": ".py",
   "mimetype": "text/x-python",
   "name": "python",
   "nbconvert_exporter": "python",
   "pygments_lexer": "ipython3",
   "version": "3.8.12"
  },
  "orig_nbformat": 4
 },
 "nbformat": 4,
 "nbformat_minor": 2
}
