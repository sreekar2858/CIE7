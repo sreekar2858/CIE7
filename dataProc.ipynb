{
 "cells": [
  {
   "cell_type": "markdown",
   "metadata": {},
   "source": [
    "# CIE Project A - Group 7\n",
    "## ---> Data processing"
   ]
  },
  {
   "cell_type": "markdown",
   "metadata": {},
   "source": [
    "### Imports"
   ]
  },
  {
   "cell_type": "code",
   "execution_count": 1,
   "metadata": {},
   "outputs": [],
   "source": [
    "import os\n",
    "\n",
    "import pandas as pd\n",
    "import numpy as np\n",
    "import matplotlib.pyplot as plt\n",
    "from scipy import signal as sp\n",
    "\n",
    "from sklearn import preprocessing ##importing for normalization\n",
    "from sklearn.decomposition import PCA\n",
    "from sklearn.discriminant_analysis import LinearDiscriminantAnalysis as LDA\n",
    "from sklearn.preprocessing import StandardScaler, LabelEncoder\n",
    "\n",
    "import tensorflow as tf\n",
    "from keras.utils import np_utils\n",
    "\n",
    "plt.rcParams['figure.dpi'] = 100\n",
    "plt.rcParams['axes.grid'] = True\n",
    "plt.rcParams['legend.frameon'] = True\n",
    "%matplotlib widget\n",
    "\n",
    "# from sklearn.model_selection import train_test_split\n",
    "# from sklearn.metrics import confusion_matrix"
   ]
  },
  {
   "cell_type": "markdown",
   "metadata": {},
   "source": [
    "#### Get the root directory and change to it"
   ]
  },
  {
   "cell_type": "code",
   "execution_count": 2,
   "metadata": {},
   "outputs": [],
   "source": [
    "rootdir = os.getcwd()\n",
    "os.chdir(rootdir)"
   ]
  },
  {
   "cell_type": "markdown",
   "metadata": {},
   "source": [
    "### Variable Assignment"
   ]
  },
  {
   "cell_type": "code",
   "execution_count": 3,
   "metadata": {},
   "outputs": [],
   "source": [
    "gyrFile = 'Gyroscope'\n",
    "accFile = 'Accelerometer'\n",
    "\n",
    "normal = 'Normal'\n",
    "upstairs = 'Upstairs'\n",
    "downstairs = 'Downstairs'\n",
    "\n",
    "smartphone = [3]\n",
    "\n",
    "s1 = 'Smartphone1'\n",
    "s3 = 'Smartphone3'\n",
    "\n",
    "s = [s3]\n",
    "\n",
    "gaitpos = [normal, upstairs, downstairs]"
   ]
  },
  {
   "cell_type": "markdown",
   "metadata": {},
   "source": [
    "### Data Parsing"
   ]
  },
  {
   "cell_type": "markdown",
   "metadata": {},
   "source": [
    "#### Define variables for raw data"
   ]
  },
  {
   "cell_type": "code",
   "execution_count": 4,
   "metadata": {},
   "outputs": [],
   "source": [
    "count = 0\n",
    "\n",
    "# Naming convention - gyr(oscope)_s(martphone_location)) and Same for acceleraoemeter\n",
    "# All the data is stored in a list of dataframes. So, gyr{gaitpos}_s{martphone_location}[0, 1, 2, .....] gives the data as sorted by name in the file directory.\n",
    "# gyrNormal_s1[0] gives the gyroscope data of the subject180_Normal sample 01 in the normal gait position.\n",
    "# gyrNormal_s1[1] gives the gyroscope data of the subject180_Normal sample 02 in the normal gait position.\n",
    "# \n",
    "# gyrNormal_s[2] gives the gyroscope data of the subject181_Normal sample 01 in the normal gait position.\n",
    "# \n",
    "# and so on. \n",
    "\n",
    "# Create arrays for Raw data\n",
    "for x in gaitpos:\n",
    "    for y in smartphone:\n",
    "        # variables of raw the data\n",
    "        globals()['gyr%s_s%s' % (x, y)] = []\n",
    "        globals()['acc%s_s%s' % (x, y)] = []\n",
    "##---------------------------------------------------------------------------------------------------------------------"
   ]
  },
  {
   "cell_type": "markdown",
   "metadata": {},
   "source": [
    "#### Parsing gyroscope and accelerometer data at all gait positions (Smartphone 1 - Rear Right) & (Smartphone 3 - Front Right)"
   ]
  },
  {
   "cell_type": "code",
   "execution_count": 5,
   "metadata": {},
   "outputs": [],
   "source": [
    "for subdir, dirs, files in os.walk(rootdir):\n",
    "    for foldername in s:\n",
    "        for gait in gaitpos:    \n",
    "        \n",
    "            gyr = eval(f'gyr{gait}_s{foldername[10]}')\n",
    "            acc = eval(f'acc{gait}_s{foldername[10]}')\n",
    "            \n",
    "            if foldername.lower() in subdir.lower():\n",
    "                if gait.lower() in subdir.lower():\n",
    "    \n",
    "                    for file in files:\n",
    "\n",
    "                        if gyrFile.lower() in file.lower():\n",
    "                            count = count + 1\n",
    "                            # print(f'#{count} -- {os.path.join(subdir, file)}')\n",
    "\n",
    "                            with open(os.path.join(subdir, file), 'r') as f: # open in read-only mode\n",
    "                                gyrData = pd.read_csv(f)\n",
    "                                # Assemble the data into a tensor\n",
    "                                gyr.append(gyrData)\n",
    "\n",
    "                        if accFile in file:\n",
    "                            count = count + 1\n",
    "                            # print(f'#{count} -- {os.path.join(subdir, file)}')\n",
    "\n",
    "                            with open(os.path.join(subdir, file), 'r') as f: # open in read-only mode\n",
    "                                accData = pd.read_csv(f)\n",
    "                                # Assemble the data into a tensor\n",
    "                                acc.append(accData)"
   ]
  },
  {
   "cell_type": "markdown",
   "metadata": {},
   "source": [
    "#### Check if the data is collected correctly after parsing"
   ]
  },
  {
   "cell_type": "code",
   "execution_count": 6,
   "metadata": {},
   "outputs": [
    {
     "name": "stdout",
     "output_type": "stream",
     "text": [
      "Shape of gyrNormal_s3 is ------ (8,)\n",
      "Shape of accNormal_s3 is ------ (8,) \n",
      "\n",
      "Shape of gyrUpstairs_s3 is ------ (8,)\n",
      "Shape of accUpstairs_s3 is ------ (8,) \n",
      "\n",
      "Shape of gyrDownstairs_s3 is ------ (8,)\n",
      "Shape of accDownstairs_s3 is ------ (8,) \n",
      "\n"
     ]
    }
   ],
   "source": [
    "# getting the data shape for reference\n",
    "for j in gaitpos:\n",
    "    for i in smartphone:\n",
    "            gyrl = eval(f'gyr{j}_s{i}')\n",
    "            accl = eval(f'acc{j}_s{i}')\n",
    "\n",
    "            print(f'Shape of gyr{j}_s{i} is ------ {np.asarray((gyrl), dtype = list).shape}')\n",
    "            print(f'Shape of acc{j}_s{i} is ------ {np.asarray((accl), dtype = list).shape} \\n')"
   ]
  },
  {
   "cell_type": "markdown",
   "metadata": {},
   "source": [
    "### Data Validation and Preprocessing"
   ]
  },
  {
   "cell_type": "markdown",
   "metadata": {},
   "source": [
    "#### -- No need to run -- Frequency check of all the data before filtering"
   ]
  },
  {
   "cell_type": "code",
   "execution_count": 7,
   "metadata": {},
   "outputs": [],
   "source": [
    "freqGyr = []\n",
    "freqAcc = []\n",
    "\n",
    "# Loop through the variables and check if all the data is collected\n",
    "for j in gaitpos:\n",
    "    for i in smartphone:\n",
    "        # Calculating gyroscope frequency before preprocessing\n",
    "        gyrl = eval(f'gyr{j}_s{i}')\n",
    "        ng = len(gyrl)\n",
    "\n",
    "        # loop to calculate the frequency over all the data\n",
    "        for s in range(0, ng):\n",
    "            time = np.asarray(gyrl[s].iloc[:,0])\n",
    "\n",
    "            freqG = np.round(len(time)/(time[-1]))\n",
    "            freqGyr.append(freqG)\n",
    "        \n",
    "        # Calculating accelerometer frequency before preprocessing\n",
    "        accl = eval(f'acc{j}_s{i}')\n",
    "        na = len(accl)\n",
    "\n",
    "        # loop to calculate the frequency over all the data\n",
    "        for s in range(0, na):\n",
    "            time = np.asarray(accl[s].iloc[:,0])\n",
    "\n",
    "            freqA = np.round(len(time)/(time[-1]))\n",
    "            freqAcc.append(freqA)\n",
    "\n",
    "for i in range(0, len(freqGyr)):\n",
    "    if freqGyr[i] < 10:\n",
    "        print(f'Position of the frequency issue is at freqGyr:{i} and the frequency is {freqGyr[i]}')\n",
    "for j in range(0, len(freqAcc)):\n",
    "    if freqAcc[j] < 10:\n",
    "        print(f'Position of the frequency issue is at freqAcc:{j} and the frequency is {freqAcc[j]}')"
   ]
  },
  {
   "cell_type": "markdown",
   "metadata": {},
   "source": [
    "### Filter Data"
   ]
  },
  {
   "cell_type": "markdown",
   "metadata": {},
   "source": [
    "#### Lowpass filter (Butterworth) function"
   ]
  },
  {
   "cell_type": "code",
   "execution_count": 8,
   "metadata": {},
   "outputs": [],
   "source": [
    "#Filter the data to remove noise\n",
    "\n",
    "# inputs for the function is the data, the sampling frequency, the cutoff frequency.\n",
    "def dataFilter(dataInput, fs=200, fc=5, order = 2):\n",
    "    Filtrd = np.zeros(dataInput.shape)\n",
    "    w = fc / (fs * 0.5)\n",
    "    b, a = sp.butter(fc, w, 'low')\n",
    "    \n",
    "    #Filter the X, Y and Z axis of the input data\n",
    "    for i in range(0, 3):\n",
    "        Filtrd[:,i] = sp.filtfilt(b, a, dataInput.iloc[:,i+1])\n",
    "\n",
    "    return Filtrd"
   ]
  },
  {
   "cell_type": "markdown",
   "metadata": {},
   "source": [
    "##### -- Different filter check -- Chebyshev filter"
   ]
  },
  {
   "cell_type": "code",
   "execution_count": 9,
   "metadata": {},
   "outputs": [
    {
     "data": {
      "text/plain": [
       "\"\\n# chebyshev filter for the accelerometer data\\ndef chebyFilter(dataInput, fs=200, fc=5, order = 2):\\n    Filtrd = np.zeros(dataInput.shape)\\n    w = fc / (fs * 0.5)\\n    b, a = sp.cheby2(order, 20, w, 'low')\\n    \\n    #Filter the X, Y and Z axis of the input data\\n    for i in range(0, 3):\\n        Filtrd[:,i] = sp.filtfilt(b,a, dataInput.iloc[:,i+1])\\n    \\n    return Filtrd\\n\""
      ]
     },
     "execution_count": 9,
     "metadata": {},
     "output_type": "execute_result"
    }
   ],
   "source": [
    "'''\n",
    "# chebyshev filter for the accelerometer data\n",
    "def chebyFilter(dataInput, fs=200, fc=5, order = 2):\n",
    "    Filtrd = np.zeros(dataInput.shape)\n",
    "    w = fc / (fs * 0.5)\n",
    "    b, a = sp.cheby2(order, 20, w, 'low')\n",
    "    \n",
    "    #Filter the X, Y and Z axis of the input data\n",
    "    for i in range(0, 3):\n",
    "        Filtrd[:,i] = sp.filtfilt(b,a, dataInput.iloc[:,i+1])\n",
    "    \n",
    "    return Filtrd\n",
    "'''"
   ]
  },
  {
   "cell_type": "markdown",
   "metadata": {},
   "source": [
    "##### -- Test -- the dataFilter function and its dependency on the frequency input"
   ]
  },
  {
   "cell_type": "code",
   "execution_count": 10,
   "metadata": {},
   "outputs": [
    {
     "data": {
      "text/plain": [
       "\"gyrF = []\\naccF = []\\nng = len(gyrNormal_s1)\\nna = len(accNormal_s1)\\n\\nfor i in range(0, ng):\\n    timeg = np.asarray(gyrNormal_s1[i].iloc[:,0])\\n    freqG = np.round(len(timeg)/(timeg[-1]))\\n    gyrF.append(freqG)\\n\\nfor j in range(0, na):\\n    timea = np.asarray(accNormal_s1[j].iloc[:,0])\\n    freqA = np.round(len(timea)/(timea[-1]))\\n    accF.append(freqA)\\n\\ngyrFilt = []\\naccFilt = []\\n\\nfor rg in range(0, ng):\\n    gf = dataFilter(gyrNormal_s1[rg], fs = 100)\\n    gyrFilt.append(gf)\\n\\nfor ra in range(0, na):\\n    af = dataFilter(accNormal_s1[ra], fs = 100)\\n    accFilt.append(af)\\n\\nt1 = np.asarray(gyrNormal_s1[0].iloc[:,0])\\nf1 = np.round(len(t1)/(t1[-1]))\\n\\nxyz = dataFilter(gyrNormal_s1[0], fs = f1)\\n\\nplt.close('all')\\nplt.plot(gyrNormal_s1[0].iloc[:,1], 'r')\\nplt.plot(xyz[:,0], 'b')\\nplt.show()\""
      ]
     },
     "execution_count": 10,
     "metadata": {},
     "output_type": "execute_result"
    }
   ],
   "source": [
    "'''gyrF = []\n",
    "accF = []\n",
    "ng = len(gyrNormal_s1)\n",
    "na = len(accNormal_s1)\n",
    "\n",
    "for i in range(0, ng):\n",
    "    timeg = np.asarray(gyrNormal_s1[i].iloc[:,0])\n",
    "    freqG = np.round(len(timeg)/(timeg[-1]))\n",
    "    gyrF.append(freqG)\n",
    "\n",
    "for j in range(0, na):\n",
    "    timea = np.asarray(accNormal_s1[j].iloc[:,0])\n",
    "    freqA = np.round(len(timea)/(timea[-1]))\n",
    "    accF.append(freqA)\n",
    "\n",
    "gyrFilt = []\n",
    "accFilt = []\n",
    "\n",
    "for rg in range(0, ng):\n",
    "    gf = dataFilter(gyrNormal_s1[rg], fs = 100)\n",
    "    gyrFilt.append(gf)\n",
    "\n",
    "for ra in range(0, na):\n",
    "    af = dataFilter(accNormal_s1[ra], fs = 100)\n",
    "    accFilt.append(af)\n",
    "\n",
    "t1 = np.asarray(gyrNormal_s1[0].iloc[:,0])\n",
    "f1 = np.round(len(t1)/(t1[-1]))\n",
    "\n",
    "xyz = dataFilter(gyrNormal_s1[0], fs = f1)\n",
    "\n",
    "plt.close('all')\n",
    "plt.plot(gyrNormal_s1[0].iloc[:,1], 'r')\n",
    "plt.plot(xyz[:,0], 'b')\n",
    "plt.show()'''"
   ]
  },
  {
   "cell_type": "markdown",
   "metadata": {},
   "source": [
    "#### Filtering all the data"
   ]
  },
  {
   "cell_type": "code",
   "execution_count": 11,
   "metadata": {},
   "outputs": [],
   "source": [
    "# Create arrays for Filtered data\n",
    "for x in gaitpos:\n",
    "    for y in smartphone:\n",
    "        # variables of Filtered data\n",
    "        globals()['gyrFiltered%s_s%s' % (x, y)] = []\n",
    "        globals()['accFiltered%s_s%s' % (x, y)] = []\n",
    "##---------------------------------------------------------------------------------------------------------------------\n",
    "\n",
    "for j in gaitpos:\n",
    "    for i in smartphone:\n",
    "            # variables of raw the data\n",
    "            gyrl = eval(f'gyr{j}_s{i}')\n",
    "            accl = eval(f'acc{j}_s{i}')\n",
    "            \n",
    "            # variables of filtered the data\n",
    "            gyrF = eval(f'gyrFiltered{j}_s{i}')\n",
    "            accF = eval(f'accFiltered{j}_s{i}')\n",
    "\n",
    "            # getting the shape of the gyroscope data (first integer)\n",
    "            ng = len(gyrl)\n",
    "\n",
    "            # Getting the shape of the accelerometer data (first integer)\n",
    "            na = len(accl)\n",
    "\n",
    "\n",
    "            # Filter all the data\n",
    "            for rg in range(0, ng):\n",
    "                timeg = np.asarray(gyrl[rg].iloc[:,0])\n",
    "                fG = np.round(len(timeg)/(timeg[-1]))\n",
    "\n",
    "                gf = dataFilter(gyrl[rg], fs = fG)\n",
    "                gyrF.append(gf)\n",
    "\n",
    "            for ra in range(0, na):\n",
    "                timea = np.asarray(accl[ra].iloc[:,0])\n",
    "                fA = np.round(len(timea)/(timea[-1]))\n",
    "\n",
    "                af = dataFilter(accl[ra], fs = fA)\n",
    "                accF.append(af)"
   ]
  },
  {
   "cell_type": "markdown",
   "metadata": {},
   "source": [
    "#### Check if all the data is collected correctly after filtering"
   ]
  },
  {
   "cell_type": "code",
   "execution_count": 12,
   "metadata": {},
   "outputs": [
    {
     "name": "stdout",
     "output_type": "stream",
     "text": [
      "Shape of gyrFilteredNormal_s3 is ------ (8,)\n",
      "Shape of accFilteredNormal_s3 is ------ (8,) \n",
      "\n",
      "Shape of gyrFilteredUpstairs_s3 is ------ (8,)\n",
      "Shape of accFilteredUpstairs_s3 is ------ (8,) \n",
      "\n",
      "Shape of gyrFilteredDownstairs_s3 is ------ (8,)\n",
      "Shape of accFilteredDownstairs_s3 is ------ (8,) \n",
      "\n"
     ]
    }
   ],
   "source": [
    "# getting the data shape for reference\n",
    "for j in gaitpos:\n",
    "    for i in smartphone:\n",
    "            gyrl = eval(f'gyrFiltered{j}_s{i}')\n",
    "            accl = eval(f'accFiltered{j}_s{i}')\n",
    "\n",
    "            print(f'Shape of gyrFiltered{j}_s{i} is ------ {np.asarray((gyrl), dtype = list).shape}')\n",
    "            print(f'Shape of accFiltered{j}_s{i} is ------ {np.asarray((accl), dtype = list).shape} \\n')"
   ]
  },
  {
   "cell_type": "markdown",
   "metadata": {},
   "source": [
    "#### Delete extra -null- column on the right"
   ]
  },
  {
   "cell_type": "code",
   "execution_count": 13,
   "metadata": {},
   "outputs": [],
   "source": [
    "for j in gaitpos:\n",
    "    for i in smartphone:\n",
    "        gyrl = eval(f'gyrFiltered{j}_s{i}')\n",
    "        accl = eval(f'accFiltered{j}_s{i}')\n",
    "        for k in range(0, len(gyrl)):\n",
    "            d = np.delete(gyrl[k], 3, axis = 1)\n",
    "            e = np.delete(accl[k], 3, axis = 1)\n",
    "            gyrl[k] = d\n",
    "            accl[k] = e"
   ]
  },
  {
   "cell_type": "markdown",
   "metadata": {},
   "source": [
    "### Cut data"
   ]
  },
  {
   "cell_type": "markdown",
   "metadata": {},
   "source": [
    "#### Cut data function"
   ]
  },
  {
   "cell_type": "code",
   "execution_count": 14,
   "metadata": {},
   "outputs": [],
   "source": [
    "def cutData(gyrFilt, accFilt, freq):\n",
    "    acc_abs = np.linalg.norm(accFilt, axis=1)\n",
    "    \n",
    "    ht = np.round(np.mean(acc_abs[int(0.3*len(acc_abs)):int(0.7*len(acc_abs))])).astype(int)\n",
    "\n",
    "    peaks, _ = sp.find_peaks(acc_abs, height = -10, distance=freq*0.5)\n",
    "    diff_peaks = np.diff(peaks)\n",
    "    gap1 = np.argmax(diff_peaks[:int(0.4*(len(diff_peaks)))])\n",
    "    gap2 = np.argmax(diff_peaks[-int(0.4*len(diff_peaks)):])\n",
    "    \n",
    "    gap2 = int(np.shape(diff_peaks)[0] - int(0.4*len(diff_peaks)) + gap2)\n",
    "\n",
    "    gyr_cut = gyrFilt[peaks[gap1+1]:peaks[gap2], :]\n",
    "    acc_cut = accFilt[peaks[gap1+1]:peaks[gap2], :]\n",
    "\n",
    "    return gyr_cut, acc_cut"
   ]
  },
  {
   "cell_type": "markdown",
   "metadata": {},
   "source": [
    "#### -- check -- Cut data function"
   ]
  },
  {
   "cell_type": "code",
   "execution_count": 15,
   "metadata": {},
   "outputs": [
    {
     "data": {
      "text/plain": [
       "\"\\ngyrNormalCtted, accNormalCtted = [], []\\n\\nfor x in range(0, len(gyrNormal_s3)):\\n    num = x\\n    \\n    nq = len(accNormal_s3[num])\\n    tq = np.asarray(gyrNormal_s3[num].iloc[:,0])\\n    freq = np.round(len(tq)/(tq[-1]))\\n    # print(f'The frequency of the data is {freq}')\\n\\n    acc_abs = np.linalg.norm(accFilteredNormal_s3[num], axis=1)\\n\\n    # ht = np.round(np.mean(acc_abs[int(0.2*len(acc_abs)):int(0.7*len(acc_abs))])).astype(int)\\n    # ht = np.round(np.mean(acc_abs)).astype(int)\\n    # print(f'The average height of the data is {ht}')\\n    peaks, _ = sp.find_peaks(acc_abs, height = 0, distance=freq*0.5)\\n    # print(f'The number of peaks is {(peaks)}')\\n\\n    diff_peaks = np.diff(peaks)\\n    # print(f'The difference of peaks is {(diff_peaks)}')\\n\\n    gap1 = np.argmax(diff_peaks[:20])\\n    # print(f'The first gap is {gap1}')\\n\\n    gap2 = np.argmax(diff_peaks[-10:])\\n    gap2 = int(np.shape(diff_peaks)[0] - 10 + gap2)\\n    # print(f'The second gap is {gap2}')\\n\\n    gyr_cut = gyrFilteredNormal_s3[num][peaks[gap1+1]:peaks[gap2], :]\\n    acc_cut = accFilteredNormal_s3[num][peaks[gap1+1]:peaks[gap2], :]\\n\\n    gyrNormalCtted.append(gyr_cut)\\n    accNormalCtted.append(acc_cut)\\n\""
      ]
     },
     "execution_count": 15,
     "metadata": {},
     "output_type": "execute_result"
    }
   ],
   "source": [
    "'''\n",
    "gyrNormalCtted, accNormalCtted = [], []\n",
    "\n",
    "for x in range(0, len(gyrNormal_s3)):\n",
    "    num = x\n",
    "    \n",
    "    nq = len(accNormal_s3[num])\n",
    "    tq = np.asarray(gyrNormal_s3[num].iloc[:,0])\n",
    "    freq = np.round(len(tq)/(tq[-1]))\n",
    "    # print(f'The frequency of the data is {freq}')\n",
    "\n",
    "    acc_abs = np.linalg.norm(accFilteredNormal_s3[num], axis=1)\n",
    "\n",
    "    # ht = np.round(np.mean(acc_abs[int(0.2*len(acc_abs)):int(0.7*len(acc_abs))])).astype(int)\n",
    "    # ht = np.round(np.mean(acc_abs)).astype(int)\n",
    "    # print(f'The average height of the data is {ht}')\n",
    "    peaks, _ = sp.find_peaks(acc_abs, height = 0, distance=freq*0.5)\n",
    "    # print(f'The number of peaks is {(peaks)}')\n",
    "\n",
    "    diff_peaks = np.diff(peaks)\n",
    "    # print(f'The difference of peaks is {(diff_peaks)}')\n",
    "\n",
    "    gap1 = np.argmax(diff_peaks[:20])\n",
    "    # print(f'The first gap is {gap1}')\n",
    "\n",
    "    gap2 = np.argmax(diff_peaks[-10:])\n",
    "    gap2 = int(np.shape(diff_peaks)[0] - 10 + gap2)\n",
    "    # print(f'The second gap is {gap2}')\n",
    "\n",
    "    gyr_cut = gyrFilteredNormal_s3[num][peaks[gap1+1]:peaks[gap2], :]\n",
    "    acc_cut = accFilteredNormal_s3[num][peaks[gap1+1]:peaks[gap2], :]\n",
    "\n",
    "    gyrNormalCtted.append(gyr_cut)\n",
    "    accNormalCtted.append(acc_cut)\n",
    "'''"
   ]
  },
  {
   "cell_type": "markdown",
   "metadata": {},
   "source": [
    "#### -- Test -- Cut Data line by line"
   ]
  },
  {
   "cell_type": "code",
   "execution_count": 16,
   "metadata": {},
   "outputs": [
    {
     "data": {
      "text/plain": [
       "'\\nnum = 7\\n\\nnq = len(accNormal_s3[num])\\ntq = np.asarray(gyrNormal_s3[num].iloc[:,0])\\nfreq = np.round(len(tq)/(tq[-1]))\\nprint(f\\'The frequency of the data is {freq}\\')\\n\\nacc_abs = np.linalg.norm(accFilteredNormal_s3[num], axis=1)\\n\\nht = np.round(np.mean(acc_abs[int(0.2*len(acc_abs)):int(0.7*len(acc_abs))])).astype(int)\\n# ht = np.round(np.mean(acc_abs)).astype(int)\\nprint(f\\'The average height of the data is {ht}\\')\\npeaks, _ = sp.find_peaks(acc_abs, height = 0, distance=freq*0.5)\\nprint(f\\'The number of peaks is {(peaks)}\\')\\n\\ndiff_peaks = np.diff(peaks)\\nprint(f\\'The difference of peaks is {(diff_peaks)}\\')\\n\\ngap1 = np.argmax(diff_peaks[:int(0.1*(len(diff_peaks)))])\\nprint(f\\'The first gap is {gap1}\\')\\n\\ngap2 = np.argmax(diff_peaks[-int(0.1*len(diff_peaks)):])\\ngap2 = int(np.shape(diff_peaks)[0] - int(0.2*len(diff_peaks)) + gap2)\\nprint(f\\'The second gap is {gap2}\\')\\n\\ngyr_cut = gyrFilteredNormal_s3[num][peaks[gap1+1]:peaks[gap2], :]\\nacc_cut = accFilteredNormal_s3[num][peaks[gap1+1]:peaks[gap2], :]\\n\\nplt.close()\\n# plt.plot(gyrFilteredNormal_s1[1][:,0], label=\\'Raw Data\\', c = \\'b\\')\\n\\nplt.plot(acc_abs, label = \\'Accelerometer Absolute Data\\', c = \\'grey\\')\\nplt.plot(np.linspace(0, len(gyrNormal_s3[num])), np.full_like(np.linspace(0, len(gyrNormal_s3[num])), ht), label = \\'Average Height\\', c = \\'r\\')\\n\\nplt.plot(peaks, acc_abs[peaks], \\'x\\', label = \\'Peaks\\', c = \\'y\\')\\nplt.plot(np.linspace(0, len(gyrNormal_s3[num])), np.zeros_like(np.linspace(0, len(gyrNormal_s3[num]))), linestyle = \"--\", linewidth = 0.2, dashes=(5, 15), color=\"black\")\\n\\nplt.plot(peaks[gap1+1], acc_abs[peaks[gap1+1]], \\'o\\', label = \\'Gap 1\\', c = \\'g\\')\\nplt.plot(peaks[gap2], acc_abs[peaks[gap2]], \\'o\\', label = \\'Gap 2\\', c = \\'black\\')\\n\\nplt.plot(gyr_cut[:,0], label = \\'Gyr Cut\\', c=\\'r\\')\\n\\nplt.legend()\\nplt.grid()\\nplt.show()\\n'"
      ]
     },
     "execution_count": 16,
     "metadata": {},
     "output_type": "execute_result"
    }
   ],
   "source": [
    "'''\n",
    "num = 7\n",
    "\n",
    "nq = len(accNormal_s3[num])\n",
    "tq = np.asarray(gyrNormal_s3[num].iloc[:,0])\n",
    "freq = np.round(len(tq)/(tq[-1]))\n",
    "print(f'The frequency of the data is {freq}')\n",
    "\n",
    "acc_abs = np.linalg.norm(accFilteredNormal_s3[num], axis=1)\n",
    "\n",
    "ht = np.round(np.mean(acc_abs[int(0.2*len(acc_abs)):int(0.7*len(acc_abs))])).astype(int)\n",
    "# ht = np.round(np.mean(acc_abs)).astype(int)\n",
    "print(f'The average height of the data is {ht}')\n",
    "peaks, _ = sp.find_peaks(acc_abs, height = 0, distance=freq*0.5)\n",
    "print(f'The number of peaks is {(peaks)}')\n",
    "\n",
    "diff_peaks = np.diff(peaks)\n",
    "print(f'The difference of peaks is {(diff_peaks)}')\n",
    "\n",
    "gap1 = np.argmax(diff_peaks[:int(0.1*(len(diff_peaks)))])\n",
    "print(f'The first gap is {gap1}')\n",
    "\n",
    "gap2 = np.argmax(diff_peaks[-int(0.1*len(diff_peaks)):])\n",
    "gap2 = int(np.shape(diff_peaks)[0] - int(0.2*len(diff_peaks)) + gap2)\n",
    "print(f'The second gap is {gap2}')\n",
    "\n",
    "gyr_cut = gyrFilteredNormal_s3[num][peaks[gap1+1]:peaks[gap2], :]\n",
    "acc_cut = accFilteredNormal_s3[num][peaks[gap1+1]:peaks[gap2], :]\n",
    "\n",
    "plt.close()\n",
    "# plt.plot(gyrFilteredNormal_s1[1][:,0], label='Raw Data', c = 'b')\n",
    "\n",
    "plt.plot(acc_abs, label = 'Accelerometer Absolute Data', c = 'grey')\n",
    "plt.plot(np.linspace(0, len(gyrNormal_s3[num])), np.full_like(np.linspace(0, len(gyrNormal_s3[num])), ht), label = 'Average Height', c = 'r')\n",
    "\n",
    "plt.plot(peaks, acc_abs[peaks], 'x', label = 'Peaks', c = 'y')\n",
    "plt.plot(np.linspace(0, len(gyrNormal_s3[num])), np.zeros_like(np.linspace(0, len(gyrNormal_s3[num]))), linestyle = \"--\", linewidth = 0.2, dashes=(5, 15), color=\"black\")\n",
    "\n",
    "plt.plot(peaks[gap1+1], acc_abs[peaks[gap1+1]], 'o', label = 'Gap 1', c = 'g')\n",
    "plt.plot(peaks[gap2], acc_abs[peaks[gap2]], 'o', label = 'Gap 2', c = 'black')\n",
    "\n",
    "plt.plot(gyr_cut[:,0], label = 'Gyr Cut', c='r')\n",
    "\n",
    "plt.legend()\n",
    "plt.grid()\n",
    "plt.show()\n",
    "'''"
   ]
  },
  {
   "cell_type": "markdown",
   "metadata": {},
   "source": [
    "#### Cut all the data"
   ]
  },
  {
   "cell_type": "code",
   "execution_count": 17,
   "metadata": {},
   "outputs": [],
   "source": [
    "# Create arrays for Cut data\n",
    "for x in gaitpos:\n",
    "    for y in smartphone:\n",
    "        # variables of Cut data\n",
    "        globals()['gyrCut%s_s%s' % (x, y)] = []\n",
    "        globals()['accCut%s_s%s' % (x, y)] = []\n",
    "##---------------------------------------------------------------------------------------------------------------------\n",
    "\n",
    "for j in gaitpos:\n",
    "    for i in smartphone:\n",
    "            # variables of raw the data\n",
    "            gyrl = eval(f'gyr{j}_s{i}')\n",
    "            accl = eval(f'acc{j}_s{i}')\n",
    "            \n",
    "            # variables of filtered the data\n",
    "            gyrF = eval(f'gyrFiltered{j}_s{i}')\n",
    "            accF = eval(f'accFiltered{j}_s{i}')\n",
    "\n",
    "            # variables of cutted the data\n",
    "            gyrC = eval(f'gyrCut{j}_s{i}')\n",
    "            accC = eval(f'accCut{j}_s{i}')\n",
    "\n",
    "            # getting the shape of the gyroscope and accelerometer data\n",
    "            n = len(gyrF)\n",
    "\n",
    "            # Filter all the data\n",
    "            for r in range(0, n):\n",
    "                \n",
    "                tCut = np.asarray(gyrl[r].iloc[:,0])\n",
    "                freqCut = np.round(len(tCut)/(tCut[-1]))\n",
    "                # print(f'accFiltered{j}_s{i} - {[r]}')\n",
    "                gf, aF = cutData(gyrF[r], accF[r], freqCut)\n",
    "\n",
    "                gyrC.append(gf)\n",
    "                accC.append(aF)"
   ]
  },
  {
   "cell_type": "markdown",
   "metadata": {},
   "source": [
    "#### check if all the data is collected correctly after cutting"
   ]
  },
  {
   "cell_type": "code",
   "execution_count": 18,
   "metadata": {},
   "outputs": [
    {
     "name": "stdout",
     "output_type": "stream",
     "text": [
      "Shape of gyrCutNormal_s3 is ------ (8,)\n",
      "Shape of accCutNormal_s3 is ------ (8,) \n",
      "\n",
      "Shape of gyrCutUpstairs_s3 is ------ (8,)\n",
      "Shape of accCutUpstairs_s3 is ------ (8,) \n",
      "\n",
      "Shape of gyrCutDownstairs_s3 is ------ (8,)\n",
      "Shape of accCutDownstairs_s3 is ------ (8,) \n",
      "\n"
     ]
    }
   ],
   "source": [
    "# getting the data shape for reference\n",
    "for j in gaitpos:\n",
    "    for i in smartphone:\n",
    "            gyr = eval(f'gyrCut{j}_s{i}')\n",
    "            acc = eval(f'accCut{j}_s{i}')\n",
    "\n",
    "            print(f'Shape of gyrCut{j}_s{i} is ------ {np.asarray((gyr), dtype = list).shape}')\n",
    "            print(f'Shape of accCut{j}_s{i} is ------ {np.asarray((acc), dtype = list).shape} \\n')"
   ]
  },
  {
   "cell_type": "markdown",
   "metadata": {},
   "source": [
    "#### Plot raw data, filtered data, and cut data"
   ]
  },
  {
   "cell_type": "code",
   "execution_count": 19,
   "metadata": {},
   "outputs": [
    {
     "data": {
      "application/vnd.jupyter.widget-view+json": {
       "model_id": "7ea9deb64f7d4545bba391dacb91b43c",
       "version_major": 2,
       "version_minor": 0
      },
      "text/plain": [
       "Canvas(toolbar=Toolbar(toolitems=[('Home', 'Reset original view', 'home', 'home'), ('Back', 'Back to previous …"
      ]
     },
     "metadata": {},
     "output_type": "display_data"
    }
   ],
   "source": [
    "# pos = 'Normal', 'Upstairs', 'Downstairs'\n",
    "pos = 'Normal'\n",
    "# loc = 1, 3\n",
    "loc = 3\n",
    "# no = 0-7\n",
    "no = 5\n",
    "# axis = 0, 1, 2\n",
    "axis = 0\n",
    "\n",
    "plt.close()\n",
    "fig, axs = plt.subplots(3, 1, sharex=True, sharey=True)\n",
    "\n",
    "axs[0].plot(eval(f'gyr{pos}_s{loc}')[no].iloc[:,(axis+1)], label='Raw Data', c = 'c')\n",
    "axs[1].plot(eval(f'gyrFiltered{pos}_s{loc}')[no][:,axis], label='Filtered Data', c = 'b')\n",
    "axs[2].plot(eval(f'gyrCut{pos}_s{loc}')[no][:,axis], label = 'Gyr Cutted Data', c = 'r')\n",
    "# plt.plot(eval(f'gyrResample{pos}_s{loc}')[no][:,axis], label = 'Gyr Resampled Data', c = 'g')\n",
    "\n",
    "axs[0].legend()\n",
    "axs[1].legend()\n",
    "axs[2].legend()\n",
    "plt.show()"
   ]
  },
  {
   "cell_type": "markdown",
   "metadata": {},
   "source": [
    "#### -- Test -- Save all cut data to plots"
   ]
  },
  {
   "cell_type": "code",
   "execution_count": 20,
   "metadata": {},
   "outputs": [
    {
     "data": {
      "text/plain": [
       "\"\\nfor j in gaitpos:\\n    for i in smartphone:\\n        # variables of raw the data\\n        gyrl = eval(f'gyr{j}_s{i}')\\n        accl = eval(f'acc{j}_s{i}')\\n        # variables of filtered the data\\n        gyrF = eval(f'gyrFiltered{j}_s{i}')\\n        accF = eval(f'accFiltered{j}_s{i}')\\n        # variables of cutted the data\\n        gyrC = eval(f'gyrCut{j}_s{i}')\\n        accC = eval(f'accCut{j}_s{i}')\\n\\n        for rg in range(0, len(gyrF)):\\n            plt.close()\\n            plt.plot(gyrl[rg].iloc[:,1], label='Raw Gyroscope Data', c = 'c')\\n            # plt.plot(accl[rg].iloc[:,1], label='Raw Accelerometer Data', c = 'm')\\n\\n            plt.plot(gyrF[rg][:,0], label='Filtered Gyroscope Data', c = 'b')\\n            # plt.plot(accF[rg][:,0], label='Filtered Accelerometer Data', c = 'g')\\n\\n            plt.plot(gyrC[rg][:,0], label='Gyroscope Cut Data', c = 'y')\\n            # plt.plot(accC[rg][:,0], label = 'Accelerometer Cut Data', c = 'r')\\n\\n            plt.legend()\\n            plt.grid()\\n            plt.ioff()\\n            # plt.savefig(rootdir+f'/2 Accelerometer_Pictures/acc{j}_s{i}_{rg}.png')\\n            plt.savefig(rootdir+f'/1 Gyroscope_Pictures/gyr{j}_s{i}_{rg}.png')\\n\""
      ]
     },
     "execution_count": 20,
     "metadata": {},
     "output_type": "execute_result"
    }
   ],
   "source": [
    "'''\n",
    "for j in gaitpos:\n",
    "    for i in smartphone:\n",
    "        # variables of raw the data\n",
    "        gyrl = eval(f'gyr{j}_s{i}')\n",
    "        accl = eval(f'acc{j}_s{i}')\n",
    "        # variables of filtered the data\n",
    "        gyrF = eval(f'gyrFiltered{j}_s{i}')\n",
    "        accF = eval(f'accFiltered{j}_s{i}')\n",
    "        # variables of cutted the data\n",
    "        gyrC = eval(f'gyrCut{j}_s{i}')\n",
    "        accC = eval(f'accCut{j}_s{i}')\n",
    "\n",
    "        for rg in range(0, len(gyrF)):\n",
    "            plt.close()\n",
    "            plt.plot(gyrl[rg].iloc[:,1], label='Raw Gyroscope Data', c = 'c')\n",
    "            # plt.plot(accl[rg].iloc[:,1], label='Raw Accelerometer Data', c = 'm')\n",
    "\n",
    "            plt.plot(gyrF[rg][:,0], label='Filtered Gyroscope Data', c = 'b')\n",
    "            # plt.plot(accF[rg][:,0], label='Filtered Accelerometer Data', c = 'g')\n",
    "\n",
    "            plt.plot(gyrC[rg][:,0], label='Gyroscope Cut Data', c = 'y')\n",
    "            # plt.plot(accC[rg][:,0], label = 'Accelerometer Cut Data', c = 'r')\n",
    "\n",
    "            plt.legend()\n",
    "            plt.grid()\n",
    "            plt.ioff()\n",
    "            # plt.savefig(rootdir+f'/2 Accelerometer_Pictures/acc{j}_s{i}_{rg}.png')\n",
    "            plt.savefig(rootdir+f'/1 Gyroscope_Pictures/gyr{j}_s{i}_{rg}.png')\n",
    "'''"
   ]
  },
  {
   "cell_type": "markdown",
   "metadata": {},
   "source": [
    "### Cut data of each single motion"
   ]
  },
  {
   "cell_type": "markdown",
   "metadata": {},
   "source": [
    "#### 2nd Cut data function"
   ]
  },
  {
   "cell_type": "code",
   "execution_count": 21,
   "metadata": {},
   "outputs": [],
   "source": [
    "def cut2Data(gyrCut, accCut, freq):\n",
    "    # axis to consider for the cut data again (0, 1, 2)\n",
    "    axis = 1\n",
    "\n",
    "    peaks, _ = sp.find_peaks(gyrCut[:,axis], height = 0, distance=freq*0.5)\n",
    "    \n",
    "    gyr_2cut = []\n",
    "    acc_2cut = []\n",
    "    \n",
    "    for i in range(0, len(peaks)-1):\n",
    "           \n",
    "        gyr = gyrCut[peaks[i]:peaks[i+1], :]\n",
    "        acc = accCut[peaks[i]:peaks[i+1], :]\n",
    "\n",
    "        gyr_2cut.append(gyr)\n",
    "        acc_2cut.append(acc)\n",
    "\n",
    "    return gyr_2cut, acc_2cut"
   ]
  },
  {
   "cell_type": "markdown",
   "metadata": {},
   "source": [
    "#### -- Check -- cut data algorithm"
   ]
  },
  {
   "cell_type": "code",
   "execution_count": 22,
   "metadata": {},
   "outputs": [
    {
     "data": {
      "text/plain": [
       "'\\naxis = 1\\ntCut = np.asarray(gyrNormal_s3[0].iloc[:,0])\\nfreq = np.round(len(tCut)/(tCut[-1]))\\ngyr2cut = []\\nacc2cut = []\\n\\npeaks, _ = sp.find_peaks(gyrCutNormal_s3[0][:,axis], height = -10, distance=freq*0.5)\\nfor i in range(0, len(peaks)-1):\\n\\n    gyr = gyrCutNormal_s3[0][peaks[i]:peaks[i+1], :]\\n    acc = accCutNormal_s3[0][peaks[i]:peaks[i+1], :]\\n\\n    gyr2cut.append(gyr)\\n    acc2cut.append(acc)\\n'"
      ]
     },
     "execution_count": 22,
     "metadata": {},
     "output_type": "execute_result"
    }
   ],
   "source": [
    "'''\n",
    "axis = 1\n",
    "tCut = np.asarray(gyrNormal_s3[0].iloc[:,0])\n",
    "freq = np.round(len(tCut)/(tCut[-1]))\n",
    "gyr2cut = []\n",
    "acc2cut = []\n",
    "\n",
    "peaks, _ = sp.find_peaks(gyrCutNormal_s3[0][:,axis], height = -10, distance=freq*0.5)\n",
    "for i in range(0, len(peaks)-1):\n",
    "\n",
    "    gyr = gyrCutNormal_s3[0][peaks[i]:peaks[i+1], :]\n",
    "    acc = accCutNormal_s3[0][peaks[i]:peaks[i+1], :]\n",
    "\n",
    "    gyr2cut.append(gyr)\n",
    "    acc2cut.append(acc)\n",
    "'''"
   ]
  },
  {
   "cell_type": "code",
   "execution_count": 23,
   "metadata": {},
   "outputs": [
    {
     "data": {
      "text/plain": [
       "\"\\nplt.close()\\nfig, axs = plt.subplots(2, 1, sharex=True)\\n\\naxs[0].plot(gyrCutNormal_s3[0][:,1], label = 'Cut Gyroscope Data', c = 'c')\\naxs[0].plot(peaks, gyrCutNormal_s3[0][:,1][peaks], 'x', label = 'Peaks', c = 'r')\\naxs[1].plot(gyr2cut[0][:,1], label = '2nd Cut Gyroscope Data', c = 'b')\\n\\nplt.legend()\\nplt.show()\\n\""
      ]
     },
     "execution_count": 23,
     "metadata": {},
     "output_type": "execute_result"
    }
   ],
   "source": [
    "'''\n",
    "plt.close()\n",
    "fig, axs = plt.subplots(2, 1, sharex=True)\n",
    "\n",
    "axs[0].plot(gyrCutNormal_s3[0][:,1], label = 'Cut Gyroscope Data', c = 'c')\n",
    "axs[0].plot(peaks, gyrCutNormal_s3[0][:,1][peaks], 'x', label = 'Peaks', c = 'r')\n",
    "axs[1].plot(gyr2cut[0][:,1], label = '2nd Cut Gyroscope Data', c = 'b')\n",
    "\n",
    "plt.legend()\n",
    "plt.show()\n",
    "'''"
   ]
  },
  {
   "cell_type": "markdown",
   "metadata": {},
   "source": [
    "#### 2nd Cut all the data"
   ]
  },
  {
   "cell_type": "code",
   "execution_count": 24,
   "metadata": {},
   "outputs": [],
   "source": [
    "# Create arrays for 2nd Cut data\n",
    "for x in gaitpos:\n",
    "    for y in smartphone:\n",
    "        # variables of raw the data\n",
    "        globals()['gyr2Cut%s_s%s' % (x, y)] = []\n",
    "        globals()['acc2Cut%s_s%s' % (x, y)] = []\n",
    "##---------------------------------------------------------------------------------------------------------------------\n",
    "\n",
    "for j in gaitpos:\n",
    "    for i in smartphone:\n",
    "        # variables of raw the data\n",
    "        gyrl = eval(f'gyr{j}_s{i}')\n",
    "        accl = eval(f'acc{j}_s{i}')\n",
    "        \n",
    "        gyrc = eval(f'gyrCut{j}_s{i}')\n",
    "        accc = eval(f'accCut{j}_s{i}')\n",
    "        \n",
    "        gyr2c = eval(f'gyr2Cut{j}_s{i}')\n",
    "        acc2c = eval(f'acc2Cut{j}_s{i}')\n",
    "\n",
    "        # Filter all the data\n",
    "        for r in range(0, len(gyrc)):\n",
    "            \n",
    "            tCut = np.asarray(gyrl[r].iloc[:,0])\n",
    "            freqCut = np.round(len(tCut)/(tCut[-1]))\n",
    "            \n",
    "            gf, aF = cut2Data(gyrc[r], accc[r], freqCut)\n",
    "\n",
    "            gyr2c.append(gf)\n",
    "            acc2c.append(aF)"
   ]
  },
  {
   "cell_type": "markdown",
   "metadata": {},
   "source": [
    "#### Plot to check the 2nd cut data"
   ]
  },
  {
   "cell_type": "code",
   "execution_count": 25,
   "metadata": {},
   "outputs": [
    {
     "data": {
      "application/vnd.jupyter.widget-view+json": {
       "model_id": "841a9d8209bc4114a19c2fd7e02a7427",
       "version_major": 2,
       "version_minor": 0
      },
      "text/plain": [
       "Canvas(toolbar=Toolbar(toolitems=[('Home', 'Reset original view', 'home', 'home'), ('Back', 'Back to previous …"
      ]
     },
     "metadata": {},
     "output_type": "display_data"
    }
   ],
   "source": [
    "# print(peaks)\n",
    "tCut = np.asarray(gyrNormal_s3[1].iloc[:,0])\n",
    "freqCut = np.round(len(tCut)/(tCut[-1]))\n",
    "peaks, _ = sp.find_peaks(gyrCutNormal_s3[1][:,1], height = 0, distance=freqCut*0.6)\n",
    "\n",
    "plt.close()\n",
    "fig, axs = plt.subplots(2, 1, sharex = True)\n",
    "\n",
    "axs[0].plot(gyrCutNormal_s3[1][:,1], label = 'Cut Gyroscope Data', c = 'c')\n",
    "axs[0].plot(peaks, gyrCutNormal_s3[1][:,1][peaks], 'x', label = 'Peaks', c = 'r')\n",
    "axs[1].plot(gyr2CutNormal_s3[1][0][:,1], label = '2nd Cut Gyroscope Data', c = 'b')\n",
    "\n",
    "# axs[0].legend()\n",
    "axs[1].legend()\n",
    "plt.show()"
   ]
  },
  {
   "cell_type": "markdown",
   "metadata": {},
   "source": [
    "### Resample data"
   ]
  },
  {
   "cell_type": "markdown",
   "metadata": {},
   "source": [
    "#### Resample all the data"
   ]
  },
  {
   "cell_type": "code",
   "execution_count": 26,
   "metadata": {},
   "outputs": [],
   "source": [
    "# Create arrays for resampled data\n",
    "for x in gaitpos:\n",
    "    for y in smartphone:\n",
    "        # variables of raw the data\n",
    "        globals()['gyrResample%s_s%s' % (x, y)] = []\n",
    "        globals()['accResample%s_s%s' % (x, y)] = []\n",
    "##---------------------------------------------------------------------------------------------------------------------\n",
    "\n",
    "size = 50\n",
    "\n",
    "for j in gaitpos:\n",
    "    for i in smartphone:\n",
    "            gyrl = eval(f'gyr2Cut{j}_s{i}')\n",
    "            accl = eval(f'acc2Cut{j}_s{i}')\n",
    "\n",
    "            gyrrs = eval(f'gyrResample{j}_s{i}')\n",
    "            accrs = eval(f'accResample{j}_s{i}')\n",
    "\n",
    "            for rg in range(0, len(gyrl)):\n",
    "                gr = []; ar = []\n",
    "                for rp in range(0, len(gyrl[rg])):\n",
    "\n",
    "                    g = sp.resample(gyrl[rg][rp], size, axis = 0)\n",
    "                    a = sp.resample(accl[rg][rp], size, axis = 0)\n",
    "                    \n",
    "                    gr.append(g)\n",
    "                    ar.append(a)\n",
    "\n",
    "                gyrrs.append(gr)\n",
    "                accrs.append(ar)"
   ]
  },
  {
   "cell_type": "markdown",
   "metadata": {},
   "source": [
    "#### -- Sample Code -- Test code for resampling"
   ]
  },
  {
   "cell_type": "code",
   "execution_count": 27,
   "metadata": {},
   "outputs": [
    {
     "data": {
      "text/plain": [
       "'\\nq = []\\nfor j in range(0, len(gyr2CutNormal_s3)):\\n    p = []\\n    for i in range(0, len(gyr2CutNormal_s3[j])):\\n        x = sp.resample(gyr2CutNormal_s3[j][i], 50, axis = 0)\\n        p.append(x)\\n    q.append(p)\\n'"
      ]
     },
     "execution_count": 27,
     "metadata": {},
     "output_type": "execute_result"
    }
   ],
   "source": [
    "'''\n",
    "q = []\n",
    "for j in range(0, len(gyr2CutNormal_s3)):\n",
    "    p = []\n",
    "    for i in range(0, len(gyr2CutNormal_s3[j])):\n",
    "        x = sp.resample(gyr2CutNormal_s3[j][i], 50, axis = 0)\n",
    "        p.append(x)\n",
    "    q.append(p)\n",
    "'''"
   ]
  },
  {
   "cell_type": "markdown",
   "metadata": {},
   "source": [
    "#### Check if all the data is collected properly after resampling"
   ]
  },
  {
   "cell_type": "code",
   "execution_count": 28,
   "metadata": {},
   "outputs": [
    {
     "name": "stdout",
     "output_type": "stream",
     "text": [
      "Shape of gyrResampleNormal_s3 is ------ (8,)\n",
      "Shape of accResampleNormal_s3 is ------ (8,) \n",
      "\n",
      "Shape of gyrResampleUpstairs_s3 is ------ (8,)\n",
      "Shape of accResampleUpstairs_s3 is ------ (8,) \n",
      "\n",
      "Shape of gyrResampleDownstairs_s3 is ------ (8,)\n",
      "Shape of accResampleDownstairs_s3 is ------ (8,) \n",
      "\n"
     ]
    }
   ],
   "source": [
    "# getting the data shape for reference\n",
    "for j in gaitpos:\n",
    "    for i in smartphone:\n",
    "            gyr = eval(f'gyrResample{j}_s{i}')\n",
    "            acc = eval(f'accResample{j}_s{i}')\n",
    "\n",
    "            print(f'Shape of gyrResample{j}_s{i} is ------ {np.asarray((gyr), dtype = list).shape}')\n",
    "            print(f'Shape of accResample{j}_s{i} is ------ {np.asarray((acc), dtype = list).shape} \\n')"
   ]
  },
  {
   "cell_type": "markdown",
   "metadata": {},
   "source": [
    "#### Plot to compare the cut data, and resampled data"
   ]
  },
  {
   "cell_type": "code",
   "execution_count": 29,
   "metadata": {},
   "outputs": [
    {
     "data": {
      "application/vnd.jupyter.widget-view+json": {
       "model_id": "c623dbc253914783a73239509f24f609",
       "version_major": 2,
       "version_minor": 0
      },
      "text/plain": [
       "Canvas(toolbar=Toolbar(toolitems=[('Home', 'Reset original view', 'home', 'home'), ('Back', 'Back to previous …"
      ]
     },
     "metadata": {},
     "output_type": "display_data"
    }
   ],
   "source": [
    "pos = 'Normal'  # pos = 'Normal', 'Upstairs', 'Downstairs'\n",
    "loc = 3         # loc = 1, 3\n",
    "no = 1          # no = 0-7\n",
    "axis = 1        # axis = 0, 1, 2\n",
    "\n",
    "# print(peaks)\n",
    "tCut = np.asarray(eval(f'gyr{pos}_s{loc}')[no].iloc[:,0])\n",
    "freqCut = np.round(len(tCut)/(tCut[-1]))\n",
    "peaks, _ = sp.find_peaks(eval(f'gyrCut{pos}_s{loc}')[no][:,axis], height = 0, distance=freqCut*0.5)\n",
    "\n",
    "plt.close()\n",
    "fig, axs = plt.subplots(2,1, sharex=True)\n",
    "fig.suptitle('Comparision of Resampled Data')\n",
    "\n",
    "axs[0].plot(eval(f'gyrCut{pos}_s{loc}')[no][:,axis], label = 'Gyr Cutted Data', c = 'b')\n",
    "axs[0].plot(peaks, eval(f'gyrCut{pos}_s{loc}')[no][:,axis][peaks], 'x', label = 'Peaks', c = 'r')\n",
    "axs[1].plot(eval(f'gyrResample{pos}_s{loc}')[no][0][:,axis], label = 'Gyr Resampled Data', c = 'g')\n",
    "\n",
    "axs[0].legend()\n",
    "axs[1].legend()\n",
    "plt.show()"
   ]
  },
  {
   "cell_type": "markdown",
   "metadata": {},
   "source": [
    "### Combine data of all subjects"
   ]
  },
  {
   "cell_type": "markdown",
   "metadata": {},
   "source": [
    "#### Create Variables for the combined data"
   ]
  },
  {
   "cell_type": "code",
   "execution_count": 30,
   "metadata": {},
   "outputs": [],
   "source": [
    "# Create arrays for resampled data\n",
    "for x in gaitpos:\n",
    "    for y in smartphone:\n",
    "        # variables of raw the data\n",
    "        globals()['%s_s%s' % (x, y)] = []\n",
    "##---------------------------------------------------------------------------------------------------------------------"
   ]
  },
  {
   "cell_type": "markdown",
   "metadata": {},
   "source": [
    "#### Combining gyr and acc data"
   ]
  },
  {
   "cell_type": "code",
   "execution_count": 31,
   "metadata": {},
   "outputs": [],
   "source": [
    "for j in gaitpos:\n",
    "    for i in smartphone:\n",
    "        gyr = eval(f'gyrResample{j}_s{i}')\n",
    "        acc = eval(f'accResample{j}_s{i}')\n",
    "\n",
    "        r = eval(f'{j}_s{i}')\n",
    "\n",
    "        for y in range(0, len(gyr)):    \n",
    "            o = []\n",
    "            for x in range(0, len(gyr[y])):\n",
    "                v = np.concatenate((gyr[y][x],acc[y][x]), axis = 1)\n",
    "                o.append(v)\n",
    "            r.append(o)"
   ]
  },
  {
   "cell_type": "markdown",
   "metadata": {},
   "source": [
    "### PCA"
   ]
  },
  {
   "cell_type": "markdown",
   "metadata": {},
   "source": [
    "#### run PCA on all the data"
   ]
  },
  {
   "cell_type": "code",
   "execution_count": 32,
   "metadata": {},
   "outputs": [],
   "source": [
    "## Run PCA on the data\n",
    "for j in gaitpos:\n",
    "    for i in smartphone:\n",
    "        phone = eval(f'{j}_s{i}')\n",
    "        \n",
    "        for x in range(0, len(phone)):\n",
    "            for y in range(0, len(phone[x])):\n",
    "                p = pd.DataFrame(phone[x][y])\n",
    "                scale = StandardScaler().fit_transform(p)\n",
    "\n",
    "                pca = PCA(n_components = 6)\n",
    "                pca.fit(scale)\n",
    "                phone[x][y] = pca.transform(scale)"
   ]
  },
  {
   "cell_type": "markdown",
   "metadata": {},
   "source": [
    "#### pcaDf for scatter plot"
   ]
  },
  {
   "cell_type": "code",
   "execution_count": 33,
   "metadata": {},
   "outputs": [],
   "source": [
    "var = np.round(pca.explained_variance_ratio_, decimals=3)*100\n",
    "labels = [f'PC{x}' for x in range(1, len(var)+1)]\n",
    "\n",
    "\n",
    "pcaDf = pd.DataFrame(columns = labels)\n",
    "for j in gaitpos:\n",
    "    for i in smartphone:\n",
    "        phone = eval(f'{j}_s{i}')\n",
    "        for x in range(0, len(phone)):\n",
    "            xqc = pd.DataFrame(columns=labels)\n",
    "            for y in range(0, len(phone[x])):\n",
    "                pc = pd.DataFrame(phone[x][y], columns = labels)\n",
    "                xqc = pd.concat([xqc, pc], ignore_index = True, axis = 0)\n",
    "            pcaDf = pd.concat([pcaDf,xqc], ignore_index=True, axis = 0)"
   ]
  },
  {
   "cell_type": "markdown",
   "metadata": {},
   "source": [
    "#### Check the scree plot"
   ]
  },
  {
   "cell_type": "code",
   "execution_count": 34,
   "metadata": {},
   "outputs": [
    {
     "data": {
      "application/vnd.jupyter.widget-view+json": {
       "model_id": "0b3198c9104449d79ab187eea6536405",
       "version_major": 2,
       "version_minor": 0
      },
      "text/plain": [
       "Canvas(toolbar=Toolbar(toolitems=[('Home', 'Reset original view', 'home', 'home'), ('Back', 'Back to previous …"
      ]
     },
     "metadata": {},
     "output_type": "display_data"
    }
   ],
   "source": [
    "plt.close()\n",
    "plt.bar(x = range(1, len(var)+1), height = var, tick_label = labels)\n",
    "plt.ylabel('Percentage of Explained Variance')\n",
    "plt.xlabel('Principal Component')\n",
    "plt.title('SCREE PLOT')\n",
    "plt.show()"
   ]
  },
  {
   "cell_type": "markdown",
   "metadata": {},
   "source": [
    "#### -- Check -- which axis data is clustering from the scatter plot"
   ]
  },
  {
   "cell_type": "code",
   "execution_count": 35,
   "metadata": {},
   "outputs": [
    {
     "data": {
      "text/plain": [
       "\"\\nloadingScores = pd.Series(phone[0][0][:,0], index = np.linspace(0,49,50))\\nsortedLoadingScores = loadingScores.abs().sort_values(ascending=False)\\n\\ntopData = sortedLoadingScores[0:10].index.values\\n\\nprint('Top two principal components are -')\\nprint(loadingScores[topData])\\n\""
      ]
     },
     "execution_count": 35,
     "metadata": {},
     "output_type": "execute_result"
    }
   ],
   "source": [
    "'''\n",
    "loadingScores = pd.Series(phone[0][0][:,0], index = np.linspace(0,49,50))\n",
    "sortedLoadingScores = loadingScores.abs().sort_values(ascending=False)\n",
    "\n",
    "topData = sortedLoadingScores[0:10].index.values\n",
    "\n",
    "print('Top two principal components are -')\n",
    "print(loadingScores[topData])\n",
    "'''"
   ]
  },
  {
   "cell_type": "markdown",
   "metadata": {},
   "source": [
    "#### Scatter plot"
   ]
  },
  {
   "cell_type": "code",
   "execution_count": 36,
   "metadata": {},
   "outputs": [
    {
     "data": {
      "application/vnd.jupyter.widget-view+json": {
       "model_id": "ca4b17fe6afe40d9b5a15454f367ae61",
       "version_major": 2,
       "version_minor": 0
      },
      "text/plain": [
       "Canvas(toolbar=Toolbar(toolitems=[('Home', 'Reset original view', 'home', 'home'), ('Back', 'Back to previous …"
      ]
     },
     "metadata": {},
     "output_type": "display_data"
    }
   ],
   "source": [
    "plt.close()\n",
    "plt.scatter(pcaDf.PC1, pcaDf.PC2, cmap = 'viridis', alpha = 0.3)\n",
    "\n",
    "plt.title('Principal Component Analysis')\n",
    "plt.xlabel(f'PC1 - {var[0]}%')\n",
    "plt.ylabel(f'PC2 - {var[1]}%')\n",
    "plt.show()\n",
    "\n",
    "# for name in pcaDf.index:\n",
    "#     plt.annotate(name, (pcaDf.PC1[name], pcaDf.PC2[name]))"
   ]
  },
  {
   "cell_type": "markdown",
   "metadata": {},
   "source": [
    "#### Normalize the data"
   ]
  },
  {
   "cell_type": "code",
   "execution_count": 37,
   "metadata": {},
   "outputs": [],
   "source": [
    "# Create arrays for normalized data\n",
    "for x in gaitpos:\n",
    "    for y in smartphone:\n",
    "        # variables of raw the data\n",
    "        globals()['%s_s%s_n' % (x, y)] = [] # Normal_s1_n, Normal_s3_n, Upstairs_s1_n, Upstairs_s3_n, Downstairs_s1_n, Downstairs_s3_n\n",
    "##---------------------------------------------------------------------------------------------------------------------\n",
    "\n",
    "for j in gaitpos:\n",
    "    for i in smartphone:\n",
    "        ss = eval(f'{j}_s{i}')\n",
    "        ss_n = eval(f'{j}_s{i}_n')\n",
    "        for y in range(0, len(ss)):\n",
    "            o = []\n",
    "            for x in range(0, len(ss[y])):\n",
    "                v = ss[y][x]\n",
    "                v_n = preprocessing.normalize(v, norm = 'l2', axis = 1)\n",
    "                o.append(v_n)\n",
    "            ss_n.append(o)"
   ]
  },
  {
   "cell_type": "code",
   "execution_count": 38,
   "metadata": {},
   "outputs": [
    {
     "data": {
      "application/vnd.jupyter.widget-view+json": {
       "model_id": "4ce586fd177f4635a1a13539c7c02519",
       "version_major": 2,
       "version_minor": 0
      },
      "text/plain": [
       "Canvas(toolbar=Toolbar(toolitems=[('Home', 'Reset original view', 'home', 'home'), ('Back', 'Back to previous …"
      ]
     },
     "metadata": {},
     "output_type": "display_data"
    }
   ],
   "source": [
    "plt.close()\n",
    "fig, axs = plt.subplots(2,1, sharex = True)\n",
    "fig.suptitle('Comparision of Normalized Data')\n",
    "axs[1].plot(Normal_s3_n[0][1][:,1], label = 'Normalized sequence', c = 'r')\n",
    "axs[0].plot(Normal_s3[0][1][:,1], label = 'Raw cut sequence', c = 'g')\n",
    "\n",
    "axs[0].legend()\n",
    "axs[1].legend()\n",
    "plt.show()"
   ]
  },
  {
   "cell_type": "markdown",
   "metadata": {},
   "source": [
    "#### (Input for AI is x and y) Combine and Label the normalized data "
   ]
  },
  {
   "cell_type": "code",
   "execution_count": 39,
   "metadata": {},
   "outputs": [],
   "source": [
    "x = []\n",
    "y = []\n",
    "for k in gaitpos:\n",
    "    for l in smartphone:\n",
    "\n",
    "        if k == 'Normal':    \n",
    "            for i in range(0, len(Normal_s3_n)):\n",
    "                for j in range(0, len(Normal_s3_n[i])):\n",
    "                    x.append(Normal_s3_n[i][j])\n",
    "                    y.append(k)\n",
    "        elif k == 'Upstairs':\n",
    "            for i in range(0, len(Upstairs_s3_n)):\n",
    "                for j in range(0, len(Upstairs_s3_n[i])):\n",
    "                    x.append(Upstairs_s3_n[i][j])\n",
    "                    y.append(k)\n",
    "        elif k == 'Downstairs':\n",
    "            for i in range(0, len(Downstairs_s3_n)):\n",
    "                for j in range(0, len(Downstairs_s3_n[i])):\n",
    "                    x.append(Downstairs_s3_n[i][j])\n",
    "                    y.append(k)"
   ]
  },
  {
   "cell_type": "code",
   "execution_count": 40,
   "metadata": {},
   "outputs": [
    {
     "name": "stdout",
     "output_type": "stream",
     "text": [
      "Length of data is (221, 50, 6) \n",
      "Length of labels is (221,)\n"
     ]
    }
   ],
   "source": [
    "print(f'Length of data is {np.asarray(x).shape} \\nLength of labels is {np.asarray(y).shape}')"
   ]
  },
  {
   "cell_type": "code",
   "execution_count": 41,
   "metadata": {},
   "outputs": [],
   "source": [
    "# encode class values as integers\n",
    "encoder = LabelEncoder()\n",
    "encoder.fit(y)\n",
    "encoded_y = encoder.transform(y)\n",
    "# convert integers to dummy variables (i.e. one hot encoded)\n",
    "dummy_y = np_utils.to_categorical(encoded_y)\n",
    "\n",
    "y = dummy_y"
   ]
  },
  {
   "cell_type": "markdown",
   "metadata": {},
   "source": [
    "## ---> AI Model"
   ]
  },
  {
   "cell_type": "markdown",
   "metadata": {},
   "source": [
    "#### Imports for AI model"
   ]
  },
  {
   "cell_type": "code",
   "execution_count": 42,
   "metadata": {},
   "outputs": [],
   "source": [
    "from keras.wrappers.scikit_learn import KerasClassifier\n",
    "from sklearn.model_selection import KFold, cross_val_score, train_test_split, StratifiedKFold\n",
    "\n",
    "from keras.models import Sequential \n",
    "from keras.layers import Dense, Dropout, Activation, Flatten"
   ]
  },
  {
   "cell_type": "markdown",
   "metadata": {},
   "source": [
    "#### Splitting the data into training and testing data"
   ]
  },
  {
   "cell_type": "code",
   "execution_count": 43,
   "metadata": {},
   "outputs": [
    {
     "name": "stdout",
     "output_type": "stream",
     "text": [
      "Length of training data - 176 length of labels - 176 \n",
      "Length of test data - 45 and length of labels - 45\n"
     ]
    }
   ],
   "source": [
    "size = 0.2\n",
    "\n",
    "x_train, x_test, y_train, y_test = train_test_split(x, y, stratify=y, shuffle=True, test_size=size)\n",
    "print(f'Length of training data - {len(x_train)} length of labels - {len(y_train)} \\nLength of test data - {len(x_test)} and length of labels - {len(y_test)}')\n",
    "\n",
    "# Merge train and tests\n",
    "inputs = np.concatenate((x_train, x_test), axis=0)\n",
    "targets = np.concatenate((y_train, y_test), axis=0)"
   ]
  },
  {
   "cell_type": "markdown",
   "metadata": {},
   "source": [
    "#### --Redundant-- Split the data into training and testing data again"
   ]
  },
  {
   "cell_type": "code",
   "execution_count": 48,
   "metadata": {},
   "outputs": [],
   "source": [
    "num_folds = 2\n",
    "\n",
    "# Define the K-fold Cross Validator\n",
    "kf = KFold(n_splits=num_folds, shuffle=True)\n",
    "\n",
    "for train_index, test_index in kf.split(x, y):\n",
    "    # print(\"TRAIN:\", train_index, \"TEST:\", test_index)\n",
    "    x_train, x_test = inputs[train_index], inputs[test_index]\n",
    "    y_train, y_test = targets[train_index], targets[test_index]\n"
   ]
  },
  {
   "cell_type": "code",
   "execution_count": 45,
   "metadata": {},
   "outputs": [
    {
     "name": "stdout",
     "output_type": "stream",
     "text": [
      "Length of training data - 111 length of labels - 111 \n",
      "Length of test data - 110 and length of labels - 110\n"
     ]
    }
   ],
   "source": [
    "print(f'Length of training data - {len(x_train)} length of labels - {len(y_train)} \\nLength of test data - {len(x_test)} and length of labels - {len(y_test)}')"
   ]
  },
  {
   "cell_type": "markdown",
   "metadata": {},
   "source": [
    "#### AI model"
   ]
  },
  {
   "cell_type": "code",
   "execution_count": 49,
   "metadata": {},
   "outputs": [
    {
     "name": "stdout",
     "output_type": "stream",
     "text": [
      "Epoch 1/15\n",
      "14/14 [==============================] - 1s 10ms/step - loss: 0.7000 - Accuracy: 0.2973\n",
      "Epoch 2/15\n",
      "14/14 [==============================] - 0s 9ms/step - loss: 0.6057 - Accuracy: 0.5856\n",
      "Epoch 3/15\n",
      "14/14 [==============================] - 0s 10ms/step - loss: 0.5477 - Accuracy: 0.6667\n",
      "Epoch 4/15\n",
      "14/14 [==============================] - 0s 9ms/step - loss: 0.5021 - Accuracy: 0.6847\n",
      "Epoch 5/15\n",
      "14/14 [==============================] - 0s 13ms/step - loss: 0.4609 - Accuracy: 0.7477\n",
      "Epoch 6/15\n",
      "14/14 [==============================] - 0s 11ms/step - loss: 0.4167 - Accuracy: 0.7477\n",
      "Epoch 7/15\n",
      "14/14 [==============================] - 0s 10ms/step - loss: 0.3668 - Accuracy: 0.8378\n",
      "Epoch 8/15\n",
      "14/14 [==============================] - 0s 11ms/step - loss: 0.3256 - Accuracy: 0.9009\n",
      "Epoch 9/15\n",
      "14/14 [==============================] - 0s 11ms/step - loss: 0.2788 - Accuracy: 0.9279\n",
      "Epoch 10/15\n",
      "14/14 [==============================] - 0s 8ms/step - loss: 0.2382 - Accuracy: 0.9279\n",
      "Epoch 11/15\n",
      "14/14 [==============================] - 0s 9ms/step - loss: 0.2010 - Accuracy: 0.9640\n",
      "Epoch 12/15\n",
      "14/14 [==============================] - 0s 10ms/step - loss: 0.1649 - Accuracy: 0.9640\n",
      "Epoch 13/15\n",
      "14/14 [==============================] - 0s 9ms/step - loss: 0.1348 - Accuracy: 0.9820\n",
      "Epoch 14/15\n",
      "14/14 [==============================] - 0s 9ms/step - loss: 0.1093 - Accuracy: 1.0000\n",
      "Epoch 15/15\n",
      "14/14 [==============================] - 0s 9ms/step - loss: 0.0883 - Accuracy: 1.0000\n",
      "4/4 [==============================] - 0s 7ms/step - loss: 0.6767 - Accuracy: 0.6000\n",
      "Accuracy: 60.00%\n",
      "Epoch 1/15\n",
      "14/14 [==============================] - 1s 8ms/step - loss: 0.6412 - Accuracy: 0.4324\n",
      "Epoch 2/15\n",
      "14/14 [==============================] - 0s 10ms/step - loss: 0.5514 - Accuracy: 0.6036\n",
      "Epoch 3/15\n",
      "14/14 [==============================] - 0s 11ms/step - loss: 0.5004 - Accuracy: 0.6757\n",
      "Epoch 4/15\n",
      "14/14 [==============================] - 0s 10ms/step - loss: 0.4574 - Accuracy: 0.7568\n",
      "Epoch 5/15\n",
      "14/14 [==============================] - 0s 10ms/step - loss: 0.4145 - Accuracy: 0.8288\n",
      "Epoch 6/15\n",
      "14/14 [==============================] - 0s 9ms/step - loss: 0.3685 - Accuracy: 0.8739\n",
      "Epoch 7/15\n",
      "14/14 [==============================] - 0s 11ms/step - loss: 0.3292 - Accuracy: 0.8829\n",
      "Epoch 8/15\n",
      "14/14 [==============================] - 0s 7ms/step - loss: 0.2860 - Accuracy: 0.9009\n",
      "Epoch 9/15\n",
      "14/14 [==============================] - 0s 8ms/step - loss: 0.2396 - Accuracy: 0.9189\n",
      "Epoch 10/15\n",
      "14/14 [==============================] - 0s 9ms/step - loss: 0.2053 - Accuracy: 0.9550\n",
      "Epoch 11/15\n",
      "14/14 [==============================] - 0s 11ms/step - loss: 0.1668 - Accuracy: 0.9550\n",
      "Epoch 12/15\n",
      "14/14 [==============================] - 0s 11ms/step - loss: 0.1361 - Accuracy: 0.9820\n",
      "Epoch 13/15\n",
      "14/14 [==============================] - 0s 10ms/step - loss: 0.1097 - Accuracy: 0.9910\n",
      "Epoch 14/15\n",
      "14/14 [==============================] - 0s 10ms/step - loss: 0.0888 - Accuracy: 0.9910\n",
      "Epoch 15/15\n",
      "14/14 [==============================] - 0s 10ms/step - loss: 0.0704 - Accuracy: 1.0000\n",
      "4/4 [==============================] - 0s 6ms/step - loss: 0.6873 - Accuracy: 0.5909\n",
      "Accuracy: 59.09%\n"
     ]
    }
   ],
   "source": [
    "#Define per-fold score conatiners\n",
    "accuracy_per_fold = []\n",
    "loss_per_fold = []\n",
    "\n",
    "# K-fold Cross Validation model evaluation\n",
    "\n",
    "kfold = StratifiedKFold(n_splits=num_folds, shuffle=True)\n",
    "cvscores = []\n",
    "for train, test in kf.split(inputs, targets):\n",
    "    # create model\n",
    "    model = Sequential()\n",
    "    model.add(Flatten(input_shape=(50,6)))\n",
    "    model.add(Dense(units=50, activation='relu'))\n",
    "    model.add(Dense(units=75, activation='relu'))\n",
    "    model.add(Dense(units=3, activation='softmax'))\n",
    "\n",
    "    # Compile model\n",
    "    model.compile(loss='binary_crossentropy', optimizer=tf.keras.optimizers.Adam(learning_rate = 0.001), metrics=['Accuracy'])\n",
    "\n",
    "    # Fit the model\n",
    "    model.fit(x_train, y_train, epochs=15, batch_size=8, shuffle=True)\n",
    "\n",
    "    # evaluate the model\n",
    "    scores = model.evaluate(x_test, y_test)\n",
    "\n",
    "    print(\"%s: %.2f%%\" % (model.metrics_names[1], scores[1]*100))\n",
    "    accuracy_per_fold.append(scores[1] * 100)\n",
    "    loss_per_fold.append(scores[0])\n",
    "    \n",
    "    "
   ]
  },
  {
   "cell_type": "code",
   "execution_count": 50,
   "metadata": {},
   "outputs": [
    {
     "data": {
      "text/plain": [
       "[60.00000238418579, 59.090906381607056]"
      ]
     },
     "execution_count": 50,
     "metadata": {},
     "output_type": "execute_result"
    }
   ],
   "source": [
    "accuracy_per_fold"
   ]
  },
  {
   "cell_type": "code",
   "execution_count": 51,
   "metadata": {},
   "outputs": [
    {
     "data": {
      "application/vnd.jupyter.widget-view+json": {
       "model_id": "cffc870312604a4395b7b6204644073a",
       "version_major": 2,
       "version_minor": 0
      },
      "text/plain": [
       "Canvas(toolbar=Toolbar(toolitems=[('Home', 'Reset original view', 'home', 'home'), ('Back', 'Back to previous …"
      ]
     },
     "metadata": {},
     "output_type": "display_data"
    }
   ],
   "source": [
    "plt.close()\n",
    "plt.plot(accuracy_per_fold)\n",
    "plt.title('Accuracy per fold')\n",
    "plt.xlabel('Fold')\n",
    "plt.ylabel('Accuracy')\n",
    "plt.show()"
   ]
  },
  {
   "cell_type": "code",
   "execution_count": 52,
   "metadata": {},
   "outputs": [],
   "source": [
    "num_folds = 5\n",
    "\n",
    "# Define the K-fold Cross Validator\n",
    "kf = KFold(n_splits=num_folds, shuffle=True)\n",
    "\n",
    "for train_index, test_index in kf.split(x, y):\n",
    "    # print(\"TRAIN:\", train_index, \"TEST:\", test_index)\n",
    "    x_train, x_test = inputs[train_index], inputs[test_index]\n",
    "    y_train, y_test = targets[train_index], targets[test_index]"
   ]
  },
  {
   "cell_type": "code",
   "execution_count": 53,
   "metadata": {},
   "outputs": [
    {
     "name": "stdout",
     "output_type": "stream",
     "text": [
      "Epoch 1/15\n",
      "23/23 [==============================] - 1s 29ms/step - loss: 0.6434 - Accuracy: 0.3842\n",
      "Epoch 2/15\n",
      "23/23 [==============================] - 0s 9ms/step - loss: 0.5457 - Accuracy: 0.5650\n",
      "Epoch 3/15\n",
      "23/23 [==============================] - 0s 9ms/step - loss: 0.4949 - Accuracy: 0.6610\n",
      "Epoch 4/15\n",
      "23/23 [==============================] - 0s 8ms/step - loss: 0.4502 - Accuracy: 0.7232\n",
      "Epoch 5/15\n",
      "23/23 [==============================] - 0s 9ms/step - loss: 0.4041 - Accuracy: 0.7797\n",
      "Epoch 6/15\n",
      "23/23 [==============================] - 0s 10ms/step - loss: 0.3608 - Accuracy: 0.8192\n",
      "Epoch 7/15\n",
      "23/23 [==============================] - 0s 8ms/step - loss: 0.3123 - Accuracy: 0.8644\n",
      "Epoch 8/15\n",
      "23/23 [==============================] - 0s 8ms/step - loss: 0.2694 - Accuracy: 0.8927\n",
      "Epoch 9/15\n",
      "23/23 [==============================] - 0s 9ms/step - loss: 0.2253 - Accuracy: 0.9266\n",
      "Epoch 10/15\n",
      "23/23 [==============================] - 0s 9ms/step - loss: 0.1910 - Accuracy: 0.9492\n",
      "Epoch 11/15\n",
      "23/23 [==============================] - 0s 9ms/step - loss: 0.1641 - Accuracy: 0.9492\n",
      "Epoch 12/15\n",
      "23/23 [==============================] - 0s 8ms/step - loss: 0.1398 - Accuracy: 0.9718\n",
      "Epoch 13/15\n",
      "23/23 [==============================] - 0s 9ms/step - loss: 0.1117 - Accuracy: 0.9944\n",
      "Epoch 14/15\n",
      "23/23 [==============================] - 0s 8ms/step - loss: 0.0908 - Accuracy: 0.9887\n",
      "Epoch 15/15\n",
      "23/23 [==============================] - 0s 8ms/step - loss: 0.0766 - Accuracy: 0.9944\n",
      "2/2 [==============================] - 0s 4ms/step - loss: 0.8212 - Accuracy: 0.5227\n",
      "Accuracy: 52.27%\n",
      "Epoch 1/15\n",
      "23/23 [==============================] - 1s 7ms/step - loss: 0.6204 - Accuracy: 0.4633\n",
      "Epoch 2/15\n",
      "23/23 [==============================] - 0s 8ms/step - loss: 0.5263 - Accuracy: 0.6441\n",
      "Epoch 3/15\n",
      "23/23 [==============================] - 0s 8ms/step - loss: 0.4687 - Accuracy: 0.6780\n",
      "Epoch 4/15\n",
      "23/23 [==============================] - 0s 8ms/step - loss: 0.4134 - Accuracy: 0.7288\n",
      "Epoch 5/15\n",
      "23/23 [==============================] - 0s 7ms/step - loss: 0.3713 - Accuracy: 0.7684\n",
      "Epoch 6/15\n",
      "23/23 [==============================] - 0s 6ms/step - loss: 0.3207 - Accuracy: 0.8475\n",
      "Epoch 7/15\n",
      "23/23 [==============================] - 0s 9ms/step - loss: 0.2825 - Accuracy: 0.8475\n",
      "Epoch 8/15\n",
      "23/23 [==============================] - 0s 7ms/step - loss: 0.2397 - Accuracy: 0.9040\n",
      "Epoch 9/15\n",
      "23/23 [==============================] - 0s 9ms/step - loss: 0.2088 - Accuracy: 0.9209\n",
      "Epoch 10/15\n",
      "23/23 [==============================] - 0s 9ms/step - loss: 0.1760 - Accuracy: 0.9492\n",
      "Epoch 11/15\n",
      "23/23 [==============================] - 0s 7ms/step - loss: 0.1453 - Accuracy: 0.9548\n",
      "Epoch 12/15\n",
      "23/23 [==============================] - 0s 7ms/step - loss: 0.1184 - Accuracy: 0.9548\n",
      "Epoch 13/15\n",
      "23/23 [==============================] - 0s 7ms/step - loss: 0.1002 - Accuracy: 0.9718\n",
      "Epoch 14/15\n",
      "23/23 [==============================] - 0s 7ms/step - loss: 0.0877 - Accuracy: 0.9774\n",
      "Epoch 15/15\n",
      "23/23 [==============================] - 0s 6ms/step - loss: 0.0679 - Accuracy: 0.9887\n",
      "2/2 [==============================] - 0s 7ms/step - loss: 0.8665 - Accuracy: 0.5227\n",
      "Accuracy: 52.27%\n",
      "Epoch 1/15\n",
      "23/23 [==============================] - 1s 9ms/step - loss: 0.6345 - Accuracy: 0.4576\n",
      "Epoch 2/15\n",
      "23/23 [==============================] - 0s 9ms/step - loss: 0.5427 - Accuracy: 0.5593\n",
      "Epoch 3/15\n",
      "23/23 [==============================] - 0s 7ms/step - loss: 0.4884 - Accuracy: 0.6497\n",
      "Epoch 4/15\n",
      "23/23 [==============================] - 0s 10ms/step - loss: 0.4492 - Accuracy: 0.6893\n",
      "Epoch 5/15\n",
      "23/23 [==============================] - 0s 9ms/step - loss: 0.4063 - Accuracy: 0.7401\n",
      "Epoch 6/15\n",
      "23/23 [==============================] - 0s 8ms/step - loss: 0.3693 - Accuracy: 0.7684\n",
      "Epoch 7/15\n",
      "23/23 [==============================] - 0s 10ms/step - loss: 0.3422 - Accuracy: 0.8136\n",
      "Epoch 8/15\n",
      "23/23 [==============================] - 0s 9ms/step - loss: 0.2963 - Accuracy: 0.8644\n",
      "Epoch 9/15\n",
      "23/23 [==============================] - 0s 7ms/step - loss: 0.2644 - Accuracy: 0.8927\n",
      "Epoch 10/15\n",
      "23/23 [==============================] - 0s 6ms/step - loss: 0.2298 - Accuracy: 0.8983\n",
      "Epoch 11/15\n",
      "23/23 [==============================] - 0s 9ms/step - loss: 0.2017 - Accuracy: 0.9153\n",
      "Epoch 12/15\n",
      "23/23 [==============================] - 0s 9ms/step - loss: 0.1723 - Accuracy: 0.9435\n",
      "Epoch 13/15\n",
      "23/23 [==============================] - 0s 6ms/step - loss: 0.1495 - Accuracy: 0.9548\n",
      "Epoch 14/15\n",
      "23/23 [==============================] - 0s 9ms/step - loss: 0.1222 - Accuracy: 0.9718\n",
      "Epoch 15/15\n",
      "23/23 [==============================] - 0s 10ms/step - loss: 0.1066 - Accuracy: 0.9774\n",
      "WARNING:tensorflow:5 out of the last 13 calls to <function Model.make_test_function.<locals>.test_function at 0x0000021E8B2C88B0> triggered tf.function retracing. Tracing is expensive and the excessive number of tracings could be due to (1) creating @tf.function repeatedly in a loop, (2) passing tensors with different shapes, (3) passing Python objects instead of tensors. For (1), please define your @tf.function outside of the loop. For (2), @tf.function has experimental_relax_shapes=True option that relaxes argument shapes that can avoid unnecessary retracing. For (3), please refer to https://www.tensorflow.org/guide/function#controlling_retracing and https://www.tensorflow.org/api_docs/python/tf/function for  more details.\n",
      "2/2 [==============================] - 0s 7ms/step - loss: 0.7988 - Accuracy: 0.4773\n",
      "Accuracy: 47.73%\n",
      "Epoch 1/15\n",
      "23/23 [==============================] - 1s 8ms/step - loss: 0.6188 - Accuracy: 0.5480\n",
      "Epoch 2/15\n",
      "23/23 [==============================] - 0s 8ms/step - loss: 0.5177 - Accuracy: 0.6271\n",
      "Epoch 3/15\n",
      "23/23 [==============================] - 0s 7ms/step - loss: 0.4663 - Accuracy: 0.6893\n",
      "Epoch 4/15\n",
      "23/23 [==============================] - 0s 10ms/step - loss: 0.4235 - Accuracy: 0.7006\n",
      "Epoch 5/15\n",
      "23/23 [==============================] - 0s 8ms/step - loss: 0.3840 - Accuracy: 0.7458\n",
      "Epoch 6/15\n",
      "23/23 [==============================] - 0s 7ms/step - loss: 0.3473 - Accuracy: 0.7853\n",
      "Epoch 7/15\n",
      "23/23 [==============================] - 0s 9ms/step - loss: 0.3065 - Accuracy: 0.8475\n",
      "Epoch 8/15\n",
      "23/23 [==============================] - 0s 9ms/step - loss: 0.2728 - Accuracy: 0.8814\n",
      "Epoch 9/15\n",
      "23/23 [==============================] - 0s 9ms/step - loss: 0.2394 - Accuracy: 0.8927\n",
      "Epoch 10/15\n",
      "23/23 [==============================] - 0s 9ms/step - loss: 0.2040 - Accuracy: 0.9209\n",
      "Epoch 11/15\n",
      "23/23 [==============================] - 0s 8ms/step - loss: 0.1769 - Accuracy: 0.9379\n",
      "Epoch 12/15\n",
      "23/23 [==============================] - 0s 9ms/step - loss: 0.1452 - Accuracy: 0.9548\n",
      "Epoch 13/15\n",
      "23/23 [==============================] - 0s 7ms/step - loss: 0.1242 - Accuracy: 0.9605\n",
      "Epoch 14/15\n",
      "23/23 [==============================] - 0s 9ms/step - loss: 0.1026 - Accuracy: 0.9718\n",
      "Epoch 15/15\n",
      "23/23 [==============================] - 0s 9ms/step - loss: 0.0847 - Accuracy: 0.9887\n",
      "WARNING:tensorflow:5 out of the last 11 calls to <function Model.make_test_function.<locals>.test_function at 0x0000021E90C73A60> triggered tf.function retracing. Tracing is expensive and the excessive number of tracings could be due to (1) creating @tf.function repeatedly in a loop, (2) passing tensors with different shapes, (3) passing Python objects instead of tensors. For (1), please define your @tf.function outside of the loop. For (2), @tf.function has experimental_relax_shapes=True option that relaxes argument shapes that can avoid unnecessary retracing. For (3), please refer to https://www.tensorflow.org/guide/function#controlling_retracing and https://www.tensorflow.org/api_docs/python/tf/function for  more details.\n",
      "2/2 [==============================] - 0s 5ms/step - loss: 0.8972 - Accuracy: 0.4318\n",
      "Accuracy: 43.18%\n",
      "Epoch 1/15\n",
      "23/23 [==============================] - 1s 9ms/step - loss: 0.6360 - Accuracy: 0.4124\n",
      "Epoch 2/15\n",
      "23/23 [==============================] - 0s 9ms/step - loss: 0.5298 - Accuracy: 0.6158\n",
      "Epoch 3/15\n",
      "23/23 [==============================] - 0s 9ms/step - loss: 0.4737 - Accuracy: 0.6723\n",
      "Epoch 4/15\n",
      "23/23 [==============================] - 0s 8ms/step - loss: 0.4170 - Accuracy: 0.7571\n",
      "Epoch 5/15\n",
      "23/23 [==============================] - 0s 8ms/step - loss: 0.3742 - Accuracy: 0.7966\n",
      "Epoch 6/15\n",
      "23/23 [==============================] - 0s 7ms/step - loss: 0.3327 - Accuracy: 0.8362\n",
      "Epoch 7/15\n",
      "23/23 [==============================] - 0s 9ms/step - loss: 0.2930 - Accuracy: 0.8588\n",
      "Epoch 8/15\n",
      "23/23 [==============================] - 0s 9ms/step - loss: 0.2480 - Accuracy: 0.8983\n",
      "Epoch 9/15\n",
      "23/23 [==============================] - 0s 9ms/step - loss: 0.2162 - Accuracy: 0.9379\n",
      "Epoch 10/15\n",
      "23/23 [==============================] - 0s 9ms/step - loss: 0.1844 - Accuracy: 0.9322\n",
      "Epoch 11/15\n",
      "23/23 [==============================] - 0s 9ms/step - loss: 0.1533 - Accuracy: 0.9661\n",
      "Epoch 12/15\n",
      "23/23 [==============================] - 0s 9ms/step - loss: 0.1300 - Accuracy: 0.9605\n",
      "Epoch 13/15\n",
      "23/23 [==============================] - 0s 9ms/step - loss: 0.1112 - Accuracy: 0.9718\n",
      "Epoch 14/15\n",
      "23/23 [==============================] - 0s 9ms/step - loss: 0.0916 - Accuracy: 0.9774\n",
      "Epoch 15/15\n",
      "23/23 [==============================] - 0s 10ms/step - loss: 0.0766 - Accuracy: 0.9831\n",
      "2/2 [==============================] - 0s 6ms/step - loss: 0.8704 - Accuracy: 0.5000\n",
      "Accuracy: 50.00%\n"
     ]
    }
   ],
   "source": [
    "#Define per-fold score conatiners\n",
    "accuracy_per_fold = []\n",
    "loss_per_fold = []\n",
    "\n",
    "# K-fold Cross Validation model evaluation\n",
    "\n",
    "kfold = StratifiedKFold(n_splits=num_folds, shuffle=True)\n",
    "cvscores = []\n",
    "for train, test in kf.split(inputs, targets):\n",
    "    # create model\n",
    "    model = Sequential()\n",
    "    model.add(Flatten(input_shape=(50,6)))\n",
    "    model.add(Dense(units=50, activation='relu'))\n",
    "    model.add(Dense(units=75, activation='relu'))\n",
    "    model.add(Dense(units=3, activation='softmax'))\n",
    "\n",
    "    # Compile model\n",
    "    model.compile(loss='binary_crossentropy', optimizer=tf.keras.optimizers.Adam(learning_rate = 0.001), metrics=['Accuracy'])\n",
    "\n",
    "    # Fit the model\n",
    "    model.fit(x_train, y_train, epochs=15, batch_size=8, shuffle=True)\n",
    "\n",
    "    # evaluate the model\n",
    "    scores = model.evaluate(x_test, y_test)\n",
    "\n",
    "    print(\"%s: %.2f%%\" % (model.metrics_names[1], scores[1]*100))\n",
    "    accuracy_per_fold.append(scores[1] * 100)\n",
    "    loss_per_fold.append(scores[0])\n",
    "    "
   ]
  },
  {
   "cell_type": "code",
   "execution_count": 54,
   "metadata": {},
   "outputs": [
    {
     "data": {
      "text/plain": [
       "[52.272725105285645,\n",
       " 52.272725105285645,\n",
       " 47.72727191448212,\n",
       " 43.18181872367859,\n",
       " 50.0]"
      ]
     },
     "execution_count": 54,
     "metadata": {},
     "output_type": "execute_result"
    }
   ],
   "source": [
    "accuracy_per_fold"
   ]
  },
  {
   "cell_type": "code",
   "execution_count": 55,
   "metadata": {},
   "outputs": [
    {
     "data": {
      "application/vnd.jupyter.widget-view+json": {
       "model_id": "774692383ae9423ab3aa593ca795448a",
       "version_major": 2,
       "version_minor": 0
      },
      "text/plain": [
       "Canvas(toolbar=Toolbar(toolitems=[('Home', 'Reset original view', 'home', 'home'), ('Back', 'Back to previous …"
      ]
     },
     "metadata": {},
     "output_type": "display_data"
    }
   ],
   "source": [
    "plt.close()\n",
    "plt.plot(accuracy_per_fold)\n",
    "plt.title('Accuracy per fold')\n",
    "plt.xlabel('Fold')\n",
    "plt.ylabel('Accuracy')\n",
    "plt.show()"
   ]
  },
  {
   "cell_type": "code",
   "execution_count": 56,
   "metadata": {},
   "outputs": [],
   "source": [
    "num_folds = 10\n",
    "\n",
    "# Define the K-fold Cross Validator\n",
    "kf = KFold(n_splits=num_folds, shuffle=True)\n",
    "\n",
    "for train_index, test_index in kf.split(x, y):\n",
    "    # print(\"TRAIN:\", train_index, \"TEST:\", test_index)\n",
    "    x_train, x_test = inputs[train_index], inputs[test_index]\n",
    "    y_train, y_test = targets[train_index], targets[test_index]"
   ]
  },
  {
   "cell_type": "code",
   "execution_count": 57,
   "metadata": {},
   "outputs": [
    {
     "name": "stdout",
     "output_type": "stream",
     "text": [
      "Epoch 1/15\n",
      "25/25 [==============================] - 1s 10ms/step - loss: 0.6487 - Accuracy: 0.3668\n",
      "Epoch 2/15\n",
      "25/25 [==============================] - 0s 8ms/step - loss: 0.5554 - Accuracy: 0.6030\n",
      "Epoch 3/15\n",
      "25/25 [==============================] - 0s 9ms/step - loss: 0.5053 - Accuracy: 0.6734\n",
      "Epoch 4/15\n",
      "25/25 [==============================] - 0s 9ms/step - loss: 0.4523 - Accuracy: 0.7236\n",
      "Epoch 5/15\n",
      "25/25 [==============================] - 0s 8ms/step - loss: 0.3975 - Accuracy: 0.7839\n",
      "Epoch 6/15\n",
      "25/25 [==============================] - 0s 8ms/step - loss: 0.3362 - Accuracy: 0.8291\n",
      "Epoch 7/15\n",
      "25/25 [==============================] - 0s 9ms/step - loss: 0.2847 - Accuracy: 0.8744\n",
      "Epoch 8/15\n",
      "25/25 [==============================] - 0s 9ms/step - loss: 0.2430 - Accuracy: 0.9246\n",
      "Epoch 9/15\n",
      "25/25 [==============================] - 0s 8ms/step - loss: 0.2019 - Accuracy: 0.9146\n",
      "Epoch 10/15\n",
      "25/25 [==============================] - 0s 8ms/step - loss: 0.1591 - Accuracy: 0.9548\n",
      "Epoch 11/15\n",
      "25/25 [==============================] - 0s 9ms/step - loss: 0.1274 - Accuracy: 0.9648\n",
      "Epoch 12/15\n",
      "25/25 [==============================] - 0s 8ms/step - loss: 0.1074 - Accuracy: 0.9749\n",
      "Epoch 13/15\n",
      "25/25 [==============================] - 0s 9ms/step - loss: 0.0894 - Accuracy: 0.9849\n",
      "Epoch 14/15\n",
      "25/25 [==============================] - 0s 9ms/step - loss: 0.0684 - Accuracy: 0.9950\n",
      "Epoch 15/15\n",
      "25/25 [==============================] - 0s 8ms/step - loss: 0.0533 - Accuracy: 0.9950\n",
      "1/1 [==============================] - 0s 155ms/step - loss: 0.7601 - Accuracy: 0.5909\n",
      "Accuracy: 59.09%\n",
      "Epoch 1/15\n",
      "25/25 [==============================] - 1s 8ms/step - loss: 0.6442 - Accuracy: 0.3769\n",
      "Epoch 2/15\n",
      "25/25 [==============================] - 0s 12ms/step - loss: 0.5633 - Accuracy: 0.6131\n",
      "Epoch 3/15\n",
      "25/25 [==============================] - 0s 9ms/step - loss: 0.5051 - Accuracy: 0.6834\n",
      "Epoch 4/15\n",
      "25/25 [==============================] - 0s 9ms/step - loss: 0.4524 - Accuracy: 0.7337\n",
      "Epoch 5/15\n",
      "25/25 [==============================] - 0s 8ms/step - loss: 0.4002 - Accuracy: 0.7789\n",
      "Epoch 6/15\n",
      "25/25 [==============================] - 0s 9ms/step - loss: 0.3556 - Accuracy: 0.8191\n",
      "Epoch 7/15\n",
      "25/25 [==============================] - 0s 9ms/step - loss: 0.3070 - Accuracy: 0.8342\n",
      "Epoch 8/15\n",
      "25/25 [==============================] - 0s 9ms/step - loss: 0.2658 - Accuracy: 0.8844\n",
      "Epoch 9/15\n",
      "25/25 [==============================] - 0s 10ms/step - loss: 0.2231 - Accuracy: 0.8995\n",
      "Epoch 10/15\n",
      "25/25 [==============================] - 0s 10ms/step - loss: 0.1870 - Accuracy: 0.9246\n",
      "Epoch 11/15\n",
      "25/25 [==============================] - 0s 7ms/step - loss: 0.1510 - Accuracy: 0.9548\n",
      "Epoch 12/15\n",
      "25/25 [==============================] - 0s 9ms/step - loss: 0.1235 - Accuracy: 0.9698\n",
      "Epoch 13/15\n",
      "25/25 [==============================] - 0s 10ms/step - loss: 0.1022 - Accuracy: 0.9950\n",
      "Epoch 14/15\n",
      "25/25 [==============================] - 0s 9ms/step - loss: 0.0768 - Accuracy: 0.9950\n",
      "Epoch 15/15\n",
      "25/25 [==============================] - 0s 8ms/step - loss: 0.0632 - Accuracy: 0.9899\n",
      "1/1 [==============================] - 0s 152ms/step - loss: 0.6038 - Accuracy: 0.6364\n",
      "Accuracy: 63.64%\n",
      "Epoch 1/15\n",
      "25/25 [==============================] - 1s 8ms/step - loss: 0.6426 - Accuracy: 0.3116\n",
      "Epoch 2/15\n",
      "25/25 [==============================] - 0s 9ms/step - loss: 0.5612 - Accuracy: 0.5829\n",
      "Epoch 3/15\n",
      "25/25 [==============================] - 0s 9ms/step - loss: 0.5061 - Accuracy: 0.6935\n",
      "Epoch 4/15\n",
      "25/25 [==============================] - 0s 8ms/step - loss: 0.4532 - Accuracy: 0.7538\n",
      "Epoch 5/15\n",
      "25/25 [==============================] - 0s 8ms/step - loss: 0.3987 - Accuracy: 0.7688\n",
      "Epoch 6/15\n",
      "25/25 [==============================] - 0s 7ms/step - loss: 0.3429 - Accuracy: 0.8040\n",
      "Epoch 7/15\n",
      "25/25 [==============================] - 0s 8ms/step - loss: 0.2939 - Accuracy: 0.8744\n",
      "Epoch 8/15\n",
      "25/25 [==============================] - 0s 10ms/step - loss: 0.2501 - Accuracy: 0.8995\n",
      "Epoch 9/15\n",
      "25/25 [==============================] - 0s 10ms/step - loss: 0.2125 - Accuracy: 0.9246\n",
      "Epoch 10/15\n",
      "25/25 [==============================] - 0s 8ms/step - loss: 0.1758 - Accuracy: 0.9497\n",
      "Epoch 11/15\n",
      "25/25 [==============================] - 0s 9ms/step - loss: 0.1497 - Accuracy: 0.9598\n",
      "Epoch 12/15\n",
      "25/25 [==============================] - 0s 8ms/step - loss: 0.1248 - Accuracy: 0.9598\n",
      "Epoch 13/15\n",
      "25/25 [==============================] - 0s 9ms/step - loss: 0.0994 - Accuracy: 0.9698\n",
      "Epoch 14/15\n",
      "25/25 [==============================] - 0s 10ms/step - loss: 0.0828 - Accuracy: 0.9899\n",
      "Epoch 15/15\n",
      "25/25 [==============================] - 0s 7ms/step - loss: 0.0667 - Accuracy: 0.9849\n",
      "1/1 [==============================] - 0s 158ms/step - loss: 0.7374 - Accuracy: 0.5455\n",
      "Accuracy: 54.55%\n",
      "Epoch 1/15\n",
      "25/25 [==============================] - 1s 9ms/step - loss: 0.6542 - Accuracy: 0.4020\n",
      "Epoch 2/15\n",
      "25/25 [==============================] - 0s 9ms/step - loss: 0.5445 - Accuracy: 0.5779\n",
      "Epoch 3/15\n",
      "25/25 [==============================] - 0s 8ms/step - loss: 0.4879 - Accuracy: 0.6834\n",
      "Epoch 4/15\n",
      "25/25 [==============================] - 0s 10ms/step - loss: 0.4408 - Accuracy: 0.7538\n",
      "Epoch 5/15\n",
      "25/25 [==============================] - 0s 10ms/step - loss: 0.3897 - Accuracy: 0.8141\n",
      "Epoch 6/15\n",
      "25/25 [==============================] - 0s 8ms/step - loss: 0.3424 - Accuracy: 0.8492\n",
      "Epoch 7/15\n",
      "25/25 [==============================] - 0s 9ms/step - loss: 0.2942 - Accuracy: 0.8693\n",
      "Epoch 8/15\n",
      "25/25 [==============================] - 0s 9ms/step - loss: 0.2536 - Accuracy: 0.8794\n",
      "Epoch 9/15\n",
      "25/25 [==============================] - 0s 8ms/step - loss: 0.2151 - Accuracy: 0.9095\n",
      "Epoch 10/15\n",
      "25/25 [==============================] - 0s 9ms/step - loss: 0.1795 - Accuracy: 0.9296\n",
      "Epoch 11/15\n",
      "25/25 [==============================] - 0s 8ms/step - loss: 0.1509 - Accuracy: 0.9447\n",
      "Epoch 12/15\n",
      "25/25 [==============================] - 0s 9ms/step - loss: 0.1237 - Accuracy: 0.9749\n",
      "Epoch 13/15\n",
      "25/25 [==============================] - 0s 7ms/step - loss: 0.1065 - Accuracy: 0.9698\n",
      "Epoch 14/15\n",
      "25/25 [==============================] - 0s 9ms/step - loss: 0.0862 - Accuracy: 0.9799\n",
      "Epoch 15/15\n",
      "25/25 [==============================] - 0s 9ms/step - loss: 0.0678 - Accuracy: 0.9899\n",
      "1/1 [==============================] - 0s 161ms/step - loss: 0.6718 - Accuracy: 0.5455\n",
      "Accuracy: 54.55%\n",
      "Epoch 1/15\n",
      "25/25 [==============================] - 1s 8ms/step - loss: 0.6448 - Accuracy: 0.4322\n",
      "Epoch 2/15\n",
      "25/25 [==============================] - 0s 9ms/step - loss: 0.5543 - Accuracy: 0.5829\n",
      "Epoch 3/15\n",
      "25/25 [==============================] - 0s 13ms/step - loss: 0.4995 - Accuracy: 0.6884\n",
      "Epoch 4/15\n",
      "25/25 [==============================] - 0s 8ms/step - loss: 0.4387 - Accuracy: 0.7889\n",
      "Epoch 5/15\n",
      "25/25 [==============================] - 0s 7ms/step - loss: 0.3825 - Accuracy: 0.8191\n",
      "Epoch 6/15\n",
      "25/25 [==============================] - 0s 8ms/step - loss: 0.3270 - Accuracy: 0.8693\n",
      "Epoch 7/15\n",
      "25/25 [==============================] - 0s 9ms/step - loss: 0.2749 - Accuracy: 0.8844\n",
      "Epoch 8/15\n",
      "25/25 [==============================] - 0s 8ms/step - loss: 0.2409 - Accuracy: 0.9146\n",
      "Epoch 9/15\n",
      "25/25 [==============================] - 0s 9ms/step - loss: 0.1946 - Accuracy: 0.9296\n",
      "Epoch 10/15\n",
      "25/25 [==============================] - 0s 9ms/step - loss: 0.1606 - Accuracy: 0.9447\n",
      "Epoch 11/15\n",
      "25/25 [==============================] - 0s 8ms/step - loss: 0.1321 - Accuracy: 0.9548\n",
      "Epoch 12/15\n",
      "25/25 [==============================] - 0s 10ms/step - loss: 0.1057 - Accuracy: 0.9799\n",
      "Epoch 13/15\n",
      "25/25 [==============================] - 0s 9ms/step - loss: 0.0855 - Accuracy: 0.9950\n",
      "Epoch 14/15\n",
      "25/25 [==============================] - 0s 10ms/step - loss: 0.0724 - Accuracy: 0.9950\n",
      "Epoch 15/15\n",
      "25/25 [==============================] - 0s 8ms/step - loss: 0.0582 - Accuracy: 0.9950\n",
      "1/1 [==============================] - 0s 160ms/step - loss: 0.6995 - Accuracy: 0.5455\n",
      "Accuracy: 54.55%\n",
      "Epoch 1/15\n",
      "25/25 [==============================] - 1s 8ms/step - loss: 0.6628 - Accuracy: 0.4171\n",
      "Epoch 2/15\n",
      "25/25 [==============================] - 0s 9ms/step - loss: 0.5570 - Accuracy: 0.6482\n",
      "Epoch 3/15\n",
      "25/25 [==============================] - 0s 9ms/step - loss: 0.4947 - Accuracy: 0.7337\n",
      "Epoch 4/15\n",
      "25/25 [==============================] - 0s 8ms/step - loss: 0.4371 - Accuracy: 0.7789\n",
      "Epoch 5/15\n",
      "25/25 [==============================] - 0s 8ms/step - loss: 0.3797 - Accuracy: 0.8040\n",
      "Epoch 6/15\n",
      "25/25 [==============================] - 0s 7ms/step - loss: 0.3308 - Accuracy: 0.8392\n",
      "Epoch 7/15\n",
      "25/25 [==============================] - 0s 10ms/step - loss: 0.2847 - Accuracy: 0.8744\n",
      "Epoch 8/15\n",
      "25/25 [==============================] - 0s 9ms/step - loss: 0.2399 - Accuracy: 0.9146\n",
      "Epoch 9/15\n",
      "25/25 [==============================] - 0s 9ms/step - loss: 0.2041 - Accuracy: 0.9397\n",
      "Epoch 10/15\n",
      "25/25 [==============================] - 0s 7ms/step - loss: 0.1671 - Accuracy: 0.9548\n",
      "Epoch 11/15\n",
      "25/25 [==============================] - 0s 8ms/step - loss: 0.1411 - Accuracy: 0.9548\n",
      "Epoch 12/15\n",
      "25/25 [==============================] - 0s 8ms/step - loss: 0.1181 - Accuracy: 0.9698\n",
      "Epoch 13/15\n",
      "25/25 [==============================] - 0s 8ms/step - loss: 0.0999 - Accuracy: 0.9648\n",
      "Epoch 14/15\n",
      "25/25 [==============================] - 0s 8ms/step - loss: 0.0786 - Accuracy: 0.9849\n",
      "Epoch 15/15\n",
      "25/25 [==============================] - 0s 8ms/step - loss: 0.0694 - Accuracy: 0.9799\n",
      "1/1 [==============================] - 0s 155ms/step - loss: 0.6809 - Accuracy: 0.5455\n",
      "Accuracy: 54.55%\n",
      "Epoch 1/15\n",
      "25/25 [==============================] - 1s 8ms/step - loss: 0.6205 - Accuracy: 0.4372\n",
      "Epoch 2/15\n",
      "25/25 [==============================] - 0s 7ms/step - loss: 0.5468 - Accuracy: 0.5578\n",
      "Epoch 3/15\n",
      "25/25 [==============================] - 0s 9ms/step - loss: 0.5003 - Accuracy: 0.6382\n",
      "Epoch 4/15\n",
      "25/25 [==============================] - 0s 9ms/step - loss: 0.4555 - Accuracy: 0.7035\n",
      "Epoch 5/15\n",
      "25/25 [==============================] - 0s 10ms/step - loss: 0.4061 - Accuracy: 0.7437\n",
      "Epoch 6/15\n",
      "25/25 [==============================] - 0s 9ms/step - loss: 0.3657 - Accuracy: 0.7990\n",
      "Epoch 7/15\n",
      "25/25 [==============================] - 0s 7ms/step - loss: 0.3182 - Accuracy: 0.8593\n",
      "Epoch 8/15\n",
      "25/25 [==============================] - 0s 9ms/step - loss: 0.2728 - Accuracy: 0.8744\n",
      "Epoch 9/15\n",
      "25/25 [==============================] - 0s 9ms/step - loss: 0.2311 - Accuracy: 0.8945\n",
      "Epoch 10/15\n",
      "25/25 [==============================] - 0s 9ms/step - loss: 0.1969 - Accuracy: 0.9146\n",
      "Epoch 11/15\n",
      "25/25 [==============================] - 0s 7ms/step - loss: 0.1626 - Accuracy: 0.9497\n",
      "Epoch 12/15\n",
      "25/25 [==============================] - 0s 8ms/step - loss: 0.1364 - Accuracy: 0.9648\n",
      "Epoch 13/15\n",
      "25/25 [==============================] - 0s 8ms/step - loss: 0.1080 - Accuracy: 0.9849\n",
      "Epoch 14/15\n",
      "25/25 [==============================] - 0s 8ms/step - loss: 0.0882 - Accuracy: 0.9849\n",
      "Epoch 15/15\n",
      "25/25 [==============================] - 0s 9ms/step - loss: 0.0722 - Accuracy: 0.9950\n",
      "1/1 [==============================] - 0s 163ms/step - loss: 0.7719 - Accuracy: 0.4545\n",
      "Accuracy: 45.45%\n",
      "Epoch 1/15\n",
      "25/25 [==============================] - 1s 8ms/step - loss: 0.6446 - Accuracy: 0.4925\n",
      "Epoch 2/15\n",
      "25/25 [==============================] - 0s 8ms/step - loss: 0.5495 - Accuracy: 0.5779\n",
      "Epoch 3/15\n",
      "25/25 [==============================] - 0s 9ms/step - loss: 0.4980 - Accuracy: 0.6533\n",
      "Epoch 4/15\n",
      "25/25 [==============================] - 0s 6ms/step - loss: 0.4467 - Accuracy: 0.7136\n",
      "Epoch 5/15\n",
      "25/25 [==============================] - 0s 8ms/step - loss: 0.4006 - Accuracy: 0.7638\n",
      "Epoch 6/15\n",
      "25/25 [==============================] - 0s 9ms/step - loss: 0.3515 - Accuracy: 0.8141\n",
      "Epoch 7/15\n",
      "25/25 [==============================] - 0s 9ms/step - loss: 0.3041 - Accuracy: 0.8643\n",
      "Epoch 8/15\n",
      "25/25 [==============================] - 0s 9ms/step - loss: 0.2581 - Accuracy: 0.8844\n",
      "Epoch 9/15\n",
      "25/25 [==============================] - 0s 8ms/step - loss: 0.2208 - Accuracy: 0.9196\n",
      "Epoch 10/15\n",
      "25/25 [==============================] - 0s 9ms/step - loss: 0.1800 - Accuracy: 0.9548\n",
      "Epoch 11/15\n",
      "25/25 [==============================] - 0s 9ms/step - loss: 0.1503 - Accuracy: 0.9497\n",
      "Epoch 12/15\n",
      "25/25 [==============================] - 0s 9ms/step - loss: 0.1247 - Accuracy: 0.9648\n",
      "Epoch 13/15\n",
      "25/25 [==============================] - 0s 9ms/step - loss: 0.1140 - Accuracy: 0.9447\n",
      "Epoch 14/15\n",
      "25/25 [==============================] - 0s 8ms/step - loss: 0.0842 - Accuracy: 0.9749\n",
      "Epoch 15/15\n",
      "25/25 [==============================] - 0s 9ms/step - loss: 0.0715 - Accuracy: 0.9799\n",
      "1/1 [==============================] - 0s 219ms/step - loss: 0.7046 - Accuracy: 0.5000\n",
      "Accuracy: 50.00%\n",
      "Epoch 1/15\n",
      "25/25 [==============================] - 1s 8ms/step - loss: 0.6253 - Accuracy: 0.4573\n",
      "Epoch 2/15\n",
      "25/25 [==============================] - 0s 7ms/step - loss: 0.5502 - Accuracy: 0.5528\n",
      "Epoch 3/15\n",
      "25/25 [==============================] - 0s 10ms/step - loss: 0.4971 - Accuracy: 0.6784\n",
      "Epoch 4/15\n",
      "25/25 [==============================] - 0s 9ms/step - loss: 0.4548 - Accuracy: 0.7085\n",
      "Epoch 5/15\n",
      "25/25 [==============================] - 0s 8ms/step - loss: 0.4077 - Accuracy: 0.7588\n",
      "Epoch 6/15\n",
      "25/25 [==============================] - 0s 7ms/step - loss: 0.3565 - Accuracy: 0.8090\n",
      "Epoch 7/15\n",
      "25/25 [==============================] - 0s 8ms/step - loss: 0.3122 - Accuracy: 0.8241\n",
      "Epoch 8/15\n",
      "25/25 [==============================] - 0s 7ms/step - loss: 0.2670 - Accuracy: 0.8794\n",
      "Epoch 9/15\n",
      "25/25 [==============================] - 0s 9ms/step - loss: 0.2258 - Accuracy: 0.9045\n",
      "Epoch 10/15\n",
      "25/25 [==============================] - 0s 9ms/step - loss: 0.1883 - Accuracy: 0.9196\n",
      "Epoch 11/15\n",
      "25/25 [==============================] - 0s 9ms/step - loss: 0.1599 - Accuracy: 0.9296\n",
      "Epoch 12/15\n",
      "25/25 [==============================] - 0s 9ms/step - loss: 0.1266 - Accuracy: 0.9698\n",
      "Epoch 13/15\n",
      "25/25 [==============================] - 0s 12ms/step - loss: 0.1030 - Accuracy: 0.9799\n",
      "Epoch 14/15\n",
      "25/25 [==============================] - 0s 8ms/step - loss: 0.0827 - Accuracy: 0.9950\n",
      "Epoch 15/15\n",
      "25/25 [==============================] - 0s 8ms/step - loss: 0.0639 - Accuracy: 1.0000\n",
      "1/1 [==============================] - 0s 155ms/step - loss: 0.7540 - Accuracy: 0.5000\n",
      "Accuracy: 50.00%\n",
      "Epoch 1/15\n",
      "25/25 [==============================] - 1s 9ms/step - loss: 0.6644 - Accuracy: 0.4623\n",
      "Epoch 2/15\n",
      "25/25 [==============================] - 0s 8ms/step - loss: 0.5619 - Accuracy: 0.5729\n",
      "Epoch 3/15\n",
      "25/25 [==============================] - 0s 9ms/step - loss: 0.5089 - Accuracy: 0.6332\n",
      "Epoch 4/15\n",
      "25/25 [==============================] - 0s 9ms/step - loss: 0.4699 - Accuracy: 0.6633\n",
      "Epoch 5/15\n",
      "25/25 [==============================] - 0s 8ms/step - loss: 0.4305 - Accuracy: 0.7186\n",
      "Epoch 6/15\n",
      "25/25 [==============================] - 0s 9ms/step - loss: 0.3920 - Accuracy: 0.7638\n",
      "Epoch 7/15\n",
      "25/25 [==============================] - 0s 8ms/step - loss: 0.3465 - Accuracy: 0.8241\n",
      "Epoch 8/15\n",
      "25/25 [==============================] - 0s 7ms/step - loss: 0.3020 - Accuracy: 0.8643\n",
      "Epoch 9/15\n",
      "25/25 [==============================] - 0s 8ms/step - loss: 0.2637 - Accuracy: 0.8894\n",
      "Epoch 10/15\n",
      "25/25 [==============================] - 0s 7ms/step - loss: 0.2255 - Accuracy: 0.8945\n",
      "Epoch 11/15\n",
      "25/25 [==============================] - 0s 9ms/step - loss: 0.1859 - Accuracy: 0.9347\n",
      "Epoch 12/15\n",
      "25/25 [==============================] - 0s 9ms/step - loss: 0.1532 - Accuracy: 0.9548\n",
      "Epoch 13/15\n",
      "25/25 [==============================] - 0s 9ms/step - loss: 0.1301 - Accuracy: 0.9648\n",
      "Epoch 14/15\n",
      "25/25 [==============================] - 0s 8ms/step - loss: 0.1112 - Accuracy: 0.9749\n",
      "Epoch 15/15\n",
      "25/25 [==============================] - 0s 7ms/step - loss: 0.0851 - Accuracy: 0.9799\n",
      "1/1 [==============================] - 0s 167ms/step - loss: 0.5853 - Accuracy: 0.6364\n",
      "Accuracy: 63.64%\n"
     ]
    }
   ],
   "source": [
    "#Define per-fold score conatiners\n",
    "accuracy_per_fold = []\n",
    "loss_per_fold = []\n",
    "\n",
    "# K-fold Cross Validation model evaluation\n",
    "\n",
    "kfold = StratifiedKFold(n_splits=num_folds, shuffle=True)\n",
    "cvscores = []\n",
    "for train, test in kf.split(inputs, targets):\n",
    "    # create model\n",
    "    model = Sequential()\n",
    "    model.add(Flatten(input_shape=(50,6)))\n",
    "    model.add(Dense(units=50, activation='relu'))\n",
    "    model.add(Dense(units=75, activation='relu'))\n",
    "    model.add(Dense(units=3, activation='softmax'))\n",
    "\n",
    "    # Compile model\n",
    "    model.compile(loss='binary_crossentropy', optimizer=tf.keras.optimizers.Adam(learning_rate = 0.001), metrics=['Accuracy'])\n",
    "\n",
    "    # Fit the model\n",
    "    model.fit(x_train, y_train, epochs=15, batch_size=8, shuffle=True)\n",
    "\n",
    "    # evaluate the model\n",
    "    scores = model.evaluate(x_test, y_test)\n",
    "\n",
    "    print(\"%s: %.2f%%\" % (model.metrics_names[1], scores[1]*100))\n",
    "    accuracy_per_fold.append(scores[1] * 100)\n",
    "    loss_per_fold.append(scores[0])\n",
    "    "
   ]
  },
  {
   "cell_type": "code",
   "execution_count": 58,
   "metadata": {},
   "outputs": [
    {
     "data": {
      "text/plain": [
       "[59.090906381607056,\n",
       " 63.63636255264282,\n",
       " 54.54545617103577,\n",
       " 54.54545617103577,\n",
       " 54.54545617103577,\n",
       " 54.54545617103577,\n",
       " 45.45454680919647,\n",
       " 50.0,\n",
       " 50.0,\n",
       " 63.63636255264282]"
      ]
     },
     "execution_count": 58,
     "metadata": {},
     "output_type": "execute_result"
    }
   ],
   "source": [
    "accuracy_per_fold"
   ]
  },
  {
   "cell_type": "code",
   "execution_count": 59,
   "metadata": {},
   "outputs": [
    {
     "data": {
      "application/vnd.jupyter.widget-view+json": {
       "model_id": "5ce146cf81904a1f9c1704f53ed215bc",
       "version_major": 2,
       "version_minor": 0
      },
      "text/plain": [
       "Canvas(toolbar=Toolbar(toolitems=[('Home', 'Reset original view', 'home', 'home'), ('Back', 'Back to previous …"
      ]
     },
     "metadata": {},
     "output_type": "display_data"
    }
   ],
   "source": [
    "plt.close()\n",
    "plt.plot(accuracy_per_fold)\n",
    "plt.title('Accuracy per fold')\n",
    "plt.xlabel('Fold')\n",
    "plt.ylabel('Accuracy')\n",
    "plt.show()"
   ]
  }
 ],
 "metadata": {
  "interpreter": {
   "hash": "d27c620567fe2d1f3f91b14d158f32cde7e2c4b18fc4163e5eb414de6a296357"
  },
  "kernelspec": {
   "display_name": "Python 3.8.12 64-bit ('ai': conda)",
   "language": "python",
   "name": "python3"
  },
  "language_info": {
   "codemirror_mode": {
    "name": "ipython",
    "version": 3
   },
   "file_extension": ".py",
   "mimetype": "text/x-python",
   "name": "python",
   "nbconvert_exporter": "python",
   "pygments_lexer": "ipython3",
   "version": "3.8.12"
  },
  "orig_nbformat": 4
 },
 "nbformat": 4,
 "nbformat_minor": 2
}
