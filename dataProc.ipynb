{
 "cells": [
  {
   "cell_type": "markdown",
   "metadata": {},
   "source": [
    "## Imports"
   ]
  },
  {
   "cell_type": "code",
   "execution_count": 2,
   "metadata": {},
   "outputs": [],
   "source": [
    "import os\n",
    "\n",
    "import pandas as pd\n",
    "import numpy as np\n",
    "from scipy import signal as sp\n",
    "import matplotlib.pyplot as plt\n",
    "plt.rcParams['figure.dpi'] = 100\n",
    "%matplotlib widget\n",
    "\n",
    "# import tensorflow as tf"
   ]
  },
  {
   "cell_type": "code",
   "execution_count": 3,
   "metadata": {},
   "outputs": [],
   "source": [
    "rootdir = os.getcwd()\n",
    "os.chdir(rootdir)"
   ]
  },
  {
   "cell_type": "markdown",
   "metadata": {},
   "source": [
    "## Variable Assignment"
   ]
  },
  {
   "cell_type": "code",
   "execution_count": 4,
   "metadata": {},
   "outputs": [],
   "source": [
    "gyrFile = 'Gyroscope'\n",
    "accFile = 'Accelerometer'\n",
    "\n",
    "normal = 'normal'\n",
    "\n",
    "upstairs = 'upstairs'\n",
    "downstairs = 'downstairs'\n",
    "\n",
    "s1 = 'Smartphone1'\n",
    "s3 = 'Smartphone3'\n",
    "\n",
    "# Gait position\n",
    "gaitpos = ['Normal', 'Upstairs', 'Downstairs']\n",
    "\n",
    "# Naming convention - gyr(oscope)+Ass(embly)+_s(martphone_location)) and Same for acceleraoemeter\n",
    "# All the data is stored in a tensor of this assembly list. So, gyrAss{gaitpos}_s{martphone_location}[0, 1, 2, .....] gives the data as sorted by name in the file directory.\n",
    "# gyrAssNormal_s1[0] gives the gyroscope data of the subject180_sample 01 in the normal gait position.\n",
    "# gyrAssNormal_s1[1] gives the gyroscope data of the subject180_sample 02 in the normal gait position.\n",
    "# \n",
    "# gyrAssNormal_s[2] gives the gyroscope data of the subject181_sample 01 in the normal gait position.\n",
    "# \n",
    "# and so on. \n",
    "\n",
    "# defining arrays for gyroscope data\n",
    "gyrAssNormal_s1 = []\n",
    "gyrAssUpstairs_s1 = []\n",
    "gyrAssDownstairs_s1 = []\n",
    "\n",
    "gyrAssNormal_s3 = []\n",
    "gyrAssUpstairs_s3 = []\n",
    "gyrAssDownstairs_s3 = []\n",
    "\n",
    "#defining arrays for accelerometer data\n",
    "accAssNormal_s1 = []\n",
    "accAssUpstairs_s1 = []\n",
    "accAssDownstairs_s1 = []\n",
    "\n",
    "accAssNormal_s3 = []\n",
    "accAssUpstairs_s3 = []\n",
    "accAssDownstairs_s3 = []"
   ]
  },
  {
   "cell_type": "markdown",
   "metadata": {},
   "source": [
    "## Data Parsing"
   ]
  },
  {
   "cell_type": "markdown",
   "metadata": {},
   "source": [
    "### Parsing Gyroscope Normal Data (Smartphone 1 - Rear Right) & (Smartphone 3 - Front Right)"
   ]
  },
  {
   "cell_type": "code",
   "execution_count": 5,
   "metadata": {},
   "outputs": [],
   "source": [
    "for subdir, dirs, files in os.walk(rootdir):\n",
    "    if s1 in subdir:\n",
    "        if normal in subdir:\n",
    "            for file in files:\n",
    "                if gyrFile in file:\n",
    "                    #print(os.path.join(subdir, file))\n",
    "\n",
    "                    with open(os.path.join(subdir, file), 'r') as f: # open in read-only mode\n",
    "                        gyrData = pd.read_csv(f)\n",
    "                        # Assemble the data into a tensor\n",
    "                        gyrAssNormal_s1.append(gyrData)\n",
    "\n",
    "for subdir, dirs, files in os.walk(rootdir):\n",
    "    if s3 in subdir:\n",
    "        if normal in subdir:\n",
    "            for file in files:\n",
    "                if gyrFile in file:\n",
    "                    #print(os.path.join(subdir, file))\n",
    "                    \n",
    "                    with open(os.path.join(subdir, file), 'r') as f: # open in read-only mode\n",
    "                        gyrData = pd.read_csv(f)\n",
    "                        # Assemble the data into a tensor\n",
    "                        gyrAssNormal_s3.append(gyrData)                        \n",
    "#End of file data import and processing"
   ]
  },
  {
   "cell_type": "markdown",
   "metadata": {},
   "source": [
    "### Parsing Gyroscope Upstairs Data (Smartphone 1 - Rear Right) & (Smartphone 3 - Front Right)"
   ]
  },
  {
   "cell_type": "code",
   "execution_count": 6,
   "metadata": {},
   "outputs": [],
   "source": [
    "for subdir, dirs, files in os.walk(rootdir):\n",
    "    if s1 in subdir:\n",
    "        if upstairs in subdir:\n",
    "            for file in files:\n",
    "                if gyrFile in file:\n",
    "                    #print(os.path.join(subdir, file))\n",
    "                    \n",
    "                    with open(os.path.join(subdir, file), 'r') as f: # open in read-only mode\n",
    "                        gyrData = pd.read_csv(f)\n",
    "                        \n",
    "                        # Assemble the data into a tensor\n",
    "                        gyrAssUpstairs_s1.append(gyrData)\n",
    "\n",
    "for subdir, dirs, files in os.walk(rootdir):\n",
    "    if s3 in subdir:\n",
    "        if upstairs in subdir:\n",
    "            for file in files:\n",
    "                if gyrFile in file:\n",
    "                    #print(os.path.join(subdir, file))\n",
    "\n",
    "                    with open(os.path.join(subdir, file), 'r') as f: # open in read-only mode\n",
    "                        gyrData = pd.read_csv(f)\n",
    "                        \n",
    "                        # Assemble the data into a tensor\n",
    "                        gyrAssUpstairs_s3.append(gyrData)                        \n",
    "#End of file data import and processing"
   ]
  },
  {
   "cell_type": "markdown",
   "metadata": {},
   "source": [
    "### Parsing Gyroscope Downstairs Data (Smartphone 1 - Rear Right) & (Smartphone 3 - Front Right)"
   ]
  },
  {
   "cell_type": "code",
   "execution_count": 7,
   "metadata": {},
   "outputs": [],
   "source": [
    "for subdir, dirs, files in os.walk(rootdir):\n",
    "    if s1 in subdir:\n",
    "        if downstairs in subdir:\n",
    "            for file in files:\n",
    "                if gyrFile in file:\n",
    "                    # print(os.path.join(subdir, file))\n",
    "\n",
    "                    with open(os.path.join(subdir, file), 'r') as f: # open in read-only mode\n",
    "                        gyrData = pd.read_csv(f)\n",
    "                        \n",
    "                        # Assemble the data into a tensor\n",
    "                        gyrAssDownstairs_s1.append(gyrData)\n",
    "\n",
    "for subdir, dirs, files in os.walk(rootdir):\n",
    "    if s3 in subdir:\n",
    "        if downstairs in subdir:\n",
    "            for file in files:\n",
    "                if gyrFile in file:\n",
    "                    #print(os.path.join(subdir, file))\n",
    "                    \n",
    "                    with open(os.path.join(subdir, file), 'r') as f: # open in read-only mode\n",
    "                        gyrData = pd.read_csv(f)\n",
    "                        \n",
    "                        # Assemble the data into a tensor\n",
    "                        gyrAssDownstairs_s3.append(gyrData)                        \n",
    "#End of file data import and processing"
   ]
  },
  {
   "cell_type": "markdown",
   "metadata": {},
   "source": [
    "### Parsing Accelerometer Normal Data (Smartphone 1 - Rear Right) & (Smartphone 3 - Front Right)"
   ]
  },
  {
   "cell_type": "code",
   "execution_count": 8,
   "metadata": {},
   "outputs": [],
   "source": [
    "for subdir, dirs, files in os.walk(rootdir):\n",
    "    if s1 in subdir:\n",
    "        if normal in subdir:\n",
    "            for file in files:\n",
    "                if accFile in file:\n",
    "                    # print(os.path.join(subdir, file))\n",
    "\n",
    "                    with open(os.path.join(subdir, file), 'r') as f: # open in read-only mode\n",
    "                        accData = pd.read_csv(f)\n",
    "                        # Assemble the data into a tensor\n",
    "                        accAssNormal_s1.append(accData)\n",
    "\n",
    "for subdir, dirs, files in os.walk(rootdir):\n",
    "    if s3 in subdir:\n",
    "        if normal in subdir:\n",
    "            for file in files:\n",
    "                if accFile in file:\n",
    "                    # print(os.path.join(subdir, file))\n",
    "                    \n",
    "                    with open(os.path.join(subdir, file), 'r') as f: # open in read-only mode\n",
    "                        accData = pd.read_csv(f)\n",
    "                        # Assemble the data into a tensor\n",
    "                        accAssNormal_s3.append(accData)                        \n",
    "#End of file data import and processing"
   ]
  },
  {
   "cell_type": "markdown",
   "metadata": {},
   "source": [
    "### Parsing Accelerometer Upstairs Data (Smartphone 1 - Rear Right) & (Smartphone 3 - Front Right)"
   ]
  },
  {
   "cell_type": "code",
   "execution_count": 9,
   "metadata": {},
   "outputs": [],
   "source": [
    "for subdir, dirs, files in os.walk(rootdir):\n",
    "    if s1 in subdir:\n",
    "        if upstairs in subdir:\n",
    "            for file in files:\n",
    "                if accFile in file:\n",
    "                    # print(os.path.join(subdir, file))\n",
    "                    \n",
    "                    with open(os.path.join(subdir, file), 'r') as f: # open in read-only mode\n",
    "                        accData = pd.read_csv(f)\n",
    "                        \n",
    "                        # Assemble the data into a tensor\n",
    "                        accAssUpstairs_s1.append(accData)\n",
    "\n",
    "for subdir, dirs, files in os.walk(rootdir):\n",
    "    if s3 in subdir:\n",
    "        if upstairs in subdir:\n",
    "            for file in files:\n",
    "                if accFile in file:\n",
    "                    # print(os.path.join(subdir, file))\n",
    "\n",
    "                    with open(os.path.join(subdir, file), 'r') as f: # open in read-only mode\n",
    "                        accData = pd.read_csv(f)\n",
    "                        \n",
    "                        # Assemble the data into a tensor\n",
    "                        accAssUpstairs_s3.append(accData)                        \n",
    "#End of file data import and processing"
   ]
  },
  {
   "cell_type": "markdown",
   "metadata": {},
   "source": [
    "### Parsing Accelerometer Downstairs Data (Smartphone 1 - Rear Right) & (Smartphone 3 - Front Right)"
   ]
  },
  {
   "cell_type": "code",
   "execution_count": 10,
   "metadata": {},
   "outputs": [],
   "source": [
    "for subdir, dirs, files in os.walk(rootdir):\n",
    "    if s1 in subdir:\n",
    "        if downstairs in subdir:\n",
    "            for file in files:\n",
    "                if accFile in file:\n",
    "                    # print(os.path.join(subdir, file))\n",
    "\n",
    "                    with open(os.path.join(subdir, file), 'r') as f: # open in read-only mode\n",
    "                        accData = pd.read_csv(f)\n",
    "                        \n",
    "                        # Assemble the data into a tensor\n",
    "                        accAssDownstairs_s1.append(accData)\n",
    "\n",
    "for subdir, dirs, files in os.walk(rootdir):\n",
    "    if s3 in subdir:\n",
    "        if downstairs in subdir:\n",
    "            for file in files:\n",
    "                if accFile in file:\n",
    "                    # print(os.path.join(subdir, file))\n",
    "                    \n",
    "                    with open(os.path.join(subdir, file), 'r') as f: # open in read-only mode\n",
    "                        accData = pd.read_csv(f)\n",
    "                        \n",
    "                        # Assemble the data into a tensor\n",
    "                        accAssDownstairs_s3.append(accData)                        \n",
    "#End of file data import and processing"
   ]
  },
  {
   "cell_type": "markdown",
   "metadata": {},
   "source": [
    "## Data Validation and Preprocessing"
   ]
  },
  {
   "cell_type": "markdown",
   "metadata": {},
   "source": [
    "### Check if the data is collected correctly"
   ]
  },
  {
   "cell_type": "code",
   "execution_count": 19,
   "metadata": {},
   "outputs": [],
   "source": [
    "# Loop through the variables and check if all the data is collected\n",
    "\n",
    "gaitpos = ['Normal', 'Upstairs', 'Downstairs']\n",
    "\n",
    "for j in gaitpos:\n",
    "    for i in range(1, 4, 2):\n",
    "        for k in range(0, 7):\n",
    "            gyrl = eval('gyrAss'+str(j) +'_s'+ str(i))\n",
    "            accl = eval('accAss'+str(j) +'_s'+ str(i))       \n",
    "            \n",
    "            '''if np.shape(gyrl) == (10,) and np.shape(accl) == (10,):\n",
    "                print(\"Aquired all data from the group\")\n",
    "            else:\n",
    "                print(\"Gyroscope \" + str(j)+\" Smartphone \" + str(i)+ \": \", format(np.shape(gyrl)))\n",
    "                print(\"Accelerometer \" + str(j)+\" Smartphone \" + str(i)+ \": \", format(np.shape(accl)))\n",
    "'''\n",
    "            # print(gyrl[k]['Time (s)'][0])\n",
    "\n",
    "            freqGyr = 1/(gyrl[k]['Time (s)'][1]-gyrl[k]['Time (s)'][0])\n",
    "            freqAcc = 1/(accl[k]['Time (s)'][1]-accl[k]['Time (s)'][0])\n",
    "\n",
    "            # print(f'Frequency of gyrAss{str(j)}_s{str(i)} [{k}] is : {freqGyr}')\n",
    "            # print(f'Frequency of accAss{str(j)}_s{str(i)} [{k}] is : {freqAcc}')\n",
    "            # print(\"\\n\")\n",
    "\n",
    "    # print(\"\\n\")\n",
    "\n",
    "    "
   ]
  },
  {
   "cell_type": "code",
   "execution_count": 37,
   "metadata": {},
   "outputs": [
    {
     "data": {
      "application/vnd.jupyter.widget-view+json": {
       "model_id": "fc27e223e192469998ca6c4356937116",
       "version_major": 2,
       "version_minor": 0
      },
      "text/plain": [
       "Canvas(toolbar=Toolbar(toolitems=[('Home', 'Reset original view', 'home', 'home'), ('Back', 'Back to previous …"
      ]
     },
     "metadata": {},
     "output_type": "display_data"
    }
   ],
   "source": [
    "plt.close()\n",
    "plt.plot(gyrAssNormal_s1[0].iloc[:,0], gyrAssNormal_s1[0].iloc[:,1], label='Smartphone 1')\n",
    "# plt.plot(np.zeros_like(gyrAssNormal_s1[0]), linestyle = \"--\", linewidth = 0.2, dashes=(5, 15), color=\"black\")\n",
    "plt.legend()\n",
    "plt.grid()\n",
    "plt.show()"
   ]
  },
  {
   "cell_type": "markdown",
   "metadata": {},
   "source": [
    "### Filter out the data"
   ]
  },
  {
   "cell_type": "markdown",
   "metadata": {},
   "source": [
    "#### Lowpass filter (Butterworth)"
   ]
  },
  {
   "cell_type": "code",
   "execution_count": 36,
   "metadata": {},
   "outputs": [
    {
     "data": {
      "application/vnd.jupyter.widget-view+json": {
       "model_id": "efb8a2c37fbc45a6904bb8e834a59214",
       "version_major": 2,
       "version_minor": 0
      },
      "text/plain": [
       "Canvas(toolbar=Toolbar(toolitems=[('Home', 'Reset original view', 'home', 'home'), ('Back', 'Back to previous …"
      ]
     },
     "metadata": {},
     "output_type": "display_data"
    }
   ],
   "source": [
    "#Filter the data to remove noise\n",
    "\n",
    "# inputs for the function is the data, the sampling frequency, the cutoff frequency.\n",
    "\n",
    "def dataFilter(dataInput, fs=200, fc=5, order = 2):\n",
    "    Filtrd = np.zeros(dataInput.shape)\n",
    "    w = fc / (fs * 0.5)\n",
    "    b, a = sp.butter(fc, w, 'low')\n",
    "    \n",
    "    #Filter the X, Y and Z axis of the input data\n",
    "    for i in range(0, 3):\n",
    "        Filtrd[:,i] = sp.filtfilt(b,a, dataInput.iloc[:,i+1])\n",
    "\n",
    "    return Filtrd\n",
    "\n",
    "xyz = (dataFilter(gyrAssNormal_s1[0], fs = (1/(gyrAssNormal_s1[0]['Time (s)'][1] - gyrAssNormal_s1[0]['Time (s)'][0]))))\n",
    "xyz1 = (dataFilter(accAssNormal_s1[0], fs = (1/(accAssNormal_s1[0]['Time (s)'][1] - accAssNormal_s1[0]['Time (s)'][0]))))\n",
    "\n",
    "plt.close()\n",
    "plt.plot(gyrAssNormal_s1[0].iloc[:,1], label='Raw Data', c = 'y')\n",
    "plt.plot(xyz[:,0], label='Filtered Data', c = 'b')\n",
    "plt.plot(np.zeros_like(xyz), linestyle = \"--\", linewidth = 0.2, dashes=(5, 15), color=\"black\")\n",
    "plt.legend()\n",
    "plt.grid()\n",
    "plt.show()"
   ]
  },
  {
   "cell_type": "markdown",
   "metadata": {},
   "source": [
    "#### Chebyshev filter"
   ]
  },
  {
   "cell_type": "code",
   "execution_count": 24,
   "metadata": {},
   "outputs": [
    {
     "data": {
      "text/plain": [
       "\"\\n# chebyshev filter for the accelerometer data\\ndef chebyFilter(dataInput, fs=200, fc=5, order = 2):\\n    Filtrd = np.zeros(dataInput.shape)\\n    w = fc / (fs * 0.5)\\n    b, a = sp.cheby2(order, 20, w, 'low')\\n    \\n    #Filter the X, Y and Z axis of the input data\\n    for i in range(0, 3):\\n        Filtrd[:,i] = sp.filtfilt(b,a, dataInput.iloc[:,i+1])\\n    \\n    return Filtrd\\n\""
      ]
     },
     "execution_count": 24,
     "metadata": {},
     "output_type": "execute_result"
    }
   ],
   "source": [
    "'''\n",
    "# chebyshev filter for the accelerometer data\n",
    "def chebyFilter(dataInput, fs=200, fc=5, order = 2):\n",
    "    Filtrd = np.zeros(dataInput.shape)\n",
    "    w = fc / (fs * 0.5)\n",
    "    b, a = sp.cheby2(order, 20, w, 'low')\n",
    "    \n",
    "    #Filter the X, Y and Z axis of the input data\n",
    "    for i in range(0, 3):\n",
    "        Filtrd[:,i] = sp.filtfilt(b,a, dataInput.iloc[:,i+1])\n",
    "    \n",
    "    return Filtrd\n",
    "'''"
   ]
  },
  {
   "cell_type": "markdown",
   "metadata": {},
   "source": [
    "### Cut the data to the same length"
   ]
  },
  {
   "cell_type": "code",
   "execution_count": 49,
   "metadata": {},
   "outputs": [
    {
     "data": {
      "text/plain": [
       "100.0"
      ]
     },
     "execution_count": 49,
     "metadata": {},
     "output_type": "execute_result"
    }
   ],
   "source": [
    "samplingFreq = np.round((1/(gyrAssNormal_s1[0]['Time (s)'][1] - gyrAssNormal_s1[0]['Time (s)'][0])))"
   ]
  },
  {
   "cell_type": "code",
   "execution_count": 54,
   "metadata": {},
   "outputs": [
    {
     "data": {
      "application/vnd.jupyter.widget-view+json": {
       "model_id": "75a0f76aaca8482999e6aad6ec8eb1b4",
       "version_major": 2,
       "version_minor": 0
      },
      "text/plain": [
       "Canvas(toolbar=Toolbar(toolitems=[('Home', 'Reset original view', 'home', 'home'), ('Back', 'Back to previous …"
      ]
     },
     "metadata": {},
     "output_type": "display_data"
    }
   ],
   "source": [
    "acc_abs = np.linalg.norm(xyz1, axis=1)\n",
    "plt.close()\n",
    "plt.plot(acc_abs)\n",
    "plt.grid()\n",
    "plt.show()"
   ]
  },
  {
   "cell_type": "code",
   "execution_count": 60,
   "metadata": {},
   "outputs": [
    {
     "data": {
      "application/vnd.jupyter.widget-view+json": {
       "model_id": "a5b65492661f4d63bf7d4dccd1a46dd9",
       "version_major": 2,
       "version_minor": 0
      },
      "text/plain": [
       "Canvas(toolbar=Toolbar(toolitems=[('Home', 'Reset original view', 'home', 'home'), ('Back', 'Back to previous …"
      ]
     },
     "metadata": {},
     "output_type": "display_data"
    }
   ],
   "source": [
    "def cutData(accFilt, gyrFilt, freq):\n",
    "    acc_abs = np.linalg.norm(accFilt, axis=1)\n",
    "\n",
    "    peaks, _ = sp.find_peaks(acc_abs, height = 10, distance=freq*0.5)\n",
    "    diff_peaks = np.diff(peaks)\n",
    "    gap1 = np.argmax(diff_peaks[:20])\n",
    "    gap2 = np.argmax(diff_peaks[-10:])\n",
    "    gap2 = int(np.shape(diff_peaks)[0] - 10 + gap2)\n",
    "\n",
    "    acc_cut = accFilt[peaks[gap1+1]:peaks[gap2], :]\n",
    "    gyr_cut = gyrFilt[peaks[gap1+1]:peaks[gap2], :]\n",
    "\n",
    "    return acc_cut, gyr_cut\n",
    "\n",
    "abc1, abc = cutData(xyz1, xyz, np.round((1/(gyrAssNormal_s1[0]['Time (s)'][1] - gyrAssNormal_s1[0]['Time (s)'][0]))))\n",
    "\n",
    "plt.close()\n",
    "# plt.plot(xyz[:,0], label='Low passed Gyroscope X', c = 'purple')\n",
    "plt.plot(abc1[:,1], label='Filtered Data', c = 'orange')\n",
    "plt.plot(np.zeros_like(abc1), linestyle = \"--\", linewidth = 0.2, dashes=(5, 15), color=\"black\")\n",
    "plt.legend()\n",
    "plt.grid()\n",
    "plt.show()"
   ]
  },
  {
   "cell_type": "markdown",
   "metadata": {},
   "source": [
    "## Plotttt"
   ]
  },
  {
   "cell_type": "code",
   "execution_count": 26,
   "metadata": {},
   "outputs": [],
   "source": [
    "def gyrPlot(t, y, lbl):\n",
    "    plt.plot(t, y, label=lbl)\n",
    "\n",
    "    plt.xlabel('Time (s)')\n",
    "    plt.ylabel('Angular velocity (rad/s)')\n",
    "    plt.title('Gyroscope')\n",
    "    plt.legend()\n",
    "    plt.show()\n",
    "\n",
    "def accPlot(t, y, lbl):\n",
    "    plt.plot(t, y, label=lbl)\n",
    "\n",
    "    plt.xlabel('Time (s)')\n",
    "    plt.ylabel('Acceleration (m/s^2)')\n",
    "    plt.title('Accelerometer')\n",
    "    plt.legend()\n",
    "    plt.show()\n",
    "\n",
    "# gyrPlot(gyrAssUpstairs_s1[5]['Time (s)'], gyrAssUpstairs_s1[5]['X (rad/s)'], 'Smartphone 1')\n",
    "# gyrPlot(gyrAssUpstairs_s3[5]['Time (s)'], gyrAssUpstairs_s3[5]['Gyroscope x (rad/s)'], 'Smartphone 3')"
   ]
  }
 ],
 "metadata": {
  "interpreter": {
   "hash": "d27c620567fe2d1f3f91b14d158f32cde7e2c4b18fc4163e5eb414de6a296357"
  },
  "kernelspec": {
   "display_name": "Python 3.8.12 64-bit ('ai': conda)",
   "language": "python",
   "name": "python3"
  },
  "language_info": {
   "codemirror_mode": {
    "name": "ipython",
    "version": 3
   },
   "file_extension": ".py",
   "mimetype": "text/x-python",
   "name": "python",
   "nbconvert_exporter": "python",
   "pygments_lexer": "ipython3",
   "version": "3.8.12"
  },
  "orig_nbformat": 4
 },
 "nbformat": 4,
 "nbformat_minor": 2
}
