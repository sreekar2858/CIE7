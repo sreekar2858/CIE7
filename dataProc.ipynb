{
 "cells": [
  {
   "cell_type": "code",
   "execution_count": 2,
   "metadata": {},
   "outputs": [],
   "source": [
    "import os\n",
    "\n",
    "import pandas as pd\n",
    "import numpy as np\n",
    "import matplotlib.pyplot as plt\n",
    "import tensorflow as tf"
   ]
  },
  {
   "cell_type": "code",
   "execution_count": 3,
   "metadata": {},
   "outputs": [],
   "source": [
    "rootdir = os.getcwd()\n",
    "os.chdir(rootdir)"
   ]
  },
  {
   "cell_type": "code",
   "execution_count": 4,
   "metadata": {},
   "outputs": [],
   "source": [
    "gyrFile = 'Gyroscope'\n",
    "accFile = 'Accelerometer'\n",
    "\n",
    "normal = 'normal'\n",
    "\n",
    "upstairs = 'upstairs'\n",
    "downstairs = 'downstairs'\n",
    "\n",
    "s1 = 'Smartphone1'\n",
    "s3 = 'Smartphone3'\n",
    "\n",
    "gaitpos = ['Normal', 'Upstairs', 'Downstairs']\n",
    "\n",
    "# defining arrays for gyroscope data\n",
    "gyrAssNormal_s1 = []\n",
    "gyrAssUpstairs_s1 = []\n",
    "gyrAssDownstairs_s1 = []\n",
    "\n",
    "gyrAssNormal_s3 = []\n",
    "gyrAssUpstairs_s3 = []\n",
    "gyrAssDownstairs_s3 = []\n",
    "\n",
    "#defining arrays for accelerometer data\n",
    "accAssNormal_s1 = []\n",
    "accAssUpstairs_s1 = []\n",
    "accAssDownstairs_s1 = []\n",
    "\n",
    "accAssNormal_s3 = []\n",
    "accAssUpstairs_s3 = []\n",
    "accAssDownstairs_s3 = []"
   ]
  },
  {
   "cell_type": "markdown",
   "metadata": {},
   "source": [
    "# Parsing Gyroscope Normal Data (Smartphone 1 - Rear Right) & (Smartphone 3 - Front Right)"
   ]
  },
  {
   "cell_type": "code",
   "execution_count": 5,
   "metadata": {},
   "outputs": [],
   "source": [
    "for subdir, dirs, files in os.walk(rootdir):\n",
    "    if s1 in subdir:\n",
    "        if normal in subdir:\n",
    "            for file in files:\n",
    "                if gyrFile in file:\n",
    "                    #print(os.path.join(subdir, file))\n",
    "\n",
    "                    with open(os.path.join(subdir, file), 'r') as f: # open in read-only mode\n",
    "                        gyrData = pd.read_csv(f)\n",
    "                        # Assemble the data into a tensor\n",
    "                        gyrAssNormal_s1.append(gyrData)\n",
    "\n",
    "for subdir, dirs, files in os.walk(rootdir):\n",
    "    if s3 in subdir:\n",
    "        if normal in subdir:\n",
    "            for file in files:\n",
    "                if gyrFile in file:\n",
    "                    #print(os.path.join(subdir, file))\n",
    "                    \n",
    "                    with open(os.path.join(subdir, file), 'r') as f: # open in read-only mode\n",
    "                        gyrData = pd.read_csv(f)\n",
    "                        # Assemble the data into a tensor\n",
    "                        gyrAssNormal_s3.append(gyrData)                        \n",
    "#End of file data import and processing"
   ]
  },
  {
   "cell_type": "markdown",
   "metadata": {},
   "source": [
    "# Parsing Gyroscope Upstairs Data (Smartphone 1 - Rear Right) & (Smartphone 3 - Front Right)"
   ]
  },
  {
   "cell_type": "code",
   "execution_count": 46,
   "metadata": {},
   "outputs": [],
   "source": [
    "for subdir, dirs, files in os.walk(rootdir):\n",
    "    if s1 in subdir:\n",
    "        if upstairs in subdir:\n",
    "            for file in files:\n",
    "                if gyrFile in file:\n",
    "                    #print(os.path.join(subdir, file))\n",
    "                    \n",
    "                    with open(os.path.join(subdir, file), 'r') as f: # open in read-only mode\n",
    "                        gyrData = pd.read_csv(f)\n",
    "                        \n",
    "                        # Assemble the data into a tensor\n",
    "                        gyrAssUpstairs_s1.append(gyrData)\n",
    "\n",
    "for subdir, dirs, files in os.walk(rootdir):\n",
    "    if s3 in subdir:\n",
    "        if upstairs in subdir:\n",
    "            for file in files:\n",
    "                if gyrFile in file:\n",
    "                    #print(os.path.join(subdir, file))\n",
    "\n",
    "                    with open(os.path.join(subdir, file), 'r') as f: # open in read-only mode\n",
    "                        gyrData = pd.read_csv(f)\n",
    "                        \n",
    "                        # Assemble the data into a tensor\n",
    "                        gyrAssUpstairs_s3.append(gyrData)                        \n",
    "#End of file data import and processing"
   ]
  },
  {
   "cell_type": "markdown",
   "metadata": {},
   "source": [
    "# Parsing Gyroscope Downstairs Data (Smartphone 1 - Rear Right) & (Smartphone 3 - Front Right)"
   ]
  },
  {
   "cell_type": "code",
   "execution_count": 7,
   "metadata": {},
   "outputs": [],
   "source": [
    "for subdir, dirs, files in os.walk(rootdir):\n",
    "    if s1 in subdir:\n",
    "        if downstairs in subdir:\n",
    "            for file in files:\n",
    "                if gyrFile in file:\n",
    "                    # print(os.path.join(subdir, file))\n",
    "\n",
    "                    with open(os.path.join(subdir, file), 'r') as f: # open in read-only mode\n",
    "                        gyrData = pd.read_csv(f)\n",
    "                        \n",
    "                        # Assemble the data into a tensor\n",
    "                        gyrAssDownstairs_s1.append(gyrData)\n",
    "\n",
    "for subdir, dirs, files in os.walk(rootdir):\n",
    "    if s3 in subdir:\n",
    "        if downstairs in subdir:\n",
    "            for file in files:\n",
    "                if gyrFile in file:\n",
    "                    #print(os.path.join(subdir, file))\n",
    "                    \n",
    "                    with open(os.path.join(subdir, file), 'r') as f: # open in read-only mode\n",
    "                        gyrData = pd.read_csv(f)\n",
    "                        \n",
    "                        # Assemble the data into a tensor\n",
    "                        gyrAssDownstairs_s3.append(gyrData)                        \n",
    "#End of file data import and processing"
   ]
  },
  {
   "cell_type": "markdown",
   "metadata": {},
   "source": [
    "# Parsing Accelerometer Normal Data (Smartphone 1 - Rear Right) & (Smartphone 3 - Front Right)"
   ]
  },
  {
   "cell_type": "code",
   "execution_count": 8,
   "metadata": {},
   "outputs": [],
   "source": [
    "for subdir, dirs, files in os.walk(rootdir):\n",
    "    if s1 in subdir:\n",
    "        if normal in subdir:\n",
    "            for file in files:\n",
    "                if accFile in file:\n",
    "                    # print(os.path.join(subdir, file))\n",
    "\n",
    "                    with open(os.path.join(subdir, file), 'r') as f: # open in read-only mode\n",
    "                        accData = pd.read_csv(f)\n",
    "                        # Assemble the data into a tensor\n",
    "                        accAssNormal_s1.append(accData)\n",
    "\n",
    "for subdir, dirs, files in os.walk(rootdir):\n",
    "    if s3 in subdir:\n",
    "        if normal in subdir:\n",
    "            for file in files:\n",
    "                if accFile in file:\n",
    "                    # print(os.path.join(subdir, file))\n",
    "                    \n",
    "                    with open(os.path.join(subdir, file), 'r') as f: # open in read-only mode\n",
    "                        accData = pd.read_csv(f)\n",
    "                        # Assemble the data into a tensor\n",
    "                        accAssNormal_s3.append(accData)                        \n",
    "#End of file data import and processing"
   ]
  },
  {
   "cell_type": "markdown",
   "metadata": {},
   "source": [
    "# Parsing Accelerometer Upstairs Data (Smartphone 1 - Rear Right) & (Smartphone 3 - Front Right)"
   ]
  },
  {
   "cell_type": "code",
   "execution_count": 9,
   "metadata": {},
   "outputs": [],
   "source": [
    "for subdir, dirs, files in os.walk(rootdir):\n",
    "    if s1 in subdir:\n",
    "        if upstairs in subdir:\n",
    "            for file in files:\n",
    "                if accFile in file:\n",
    "                    # print(os.path.join(subdir, file))\n",
    "                    \n",
    "                    with open(os.path.join(subdir, file), 'r') as f: # open in read-only mode\n",
    "                        accData = pd.read_csv(f)\n",
    "                        \n",
    "                        # Assemble the data into a tensor\n",
    "                        accAssUpstairs_s1.append(accData)\n",
    "\n",
    "for subdir, dirs, files in os.walk(rootdir):\n",
    "    if s3 in subdir:\n",
    "        if upstairs in subdir:\n",
    "            for file in files:\n",
    "                if accFile in file:\n",
    "                    # print(os.path.join(subdir, file))\n",
    "\n",
    "                    with open(os.path.join(subdir, file), 'r') as f: # open in read-only mode\n",
    "                        accData = pd.read_csv(f)\n",
    "                        \n",
    "                        # Assemble the data into a tensor\n",
    "                        accAssUpstairs_s3.append(accData)                        \n",
    "#End of file data import and processing"
   ]
  },
  {
   "cell_type": "markdown",
   "metadata": {},
   "source": [
    "# Parsing Accelerometer Downstairs Data (Smartphone 1 - Rear Right) & (Smartphone 3 - Front Right)"
   ]
  },
  {
   "cell_type": "code",
   "execution_count": 10,
   "metadata": {},
   "outputs": [],
   "source": [
    "for subdir, dirs, files in os.walk(rootdir):\n",
    "    if s1 in subdir:\n",
    "        if downstairs in subdir:\n",
    "            for file in files:\n",
    "                if accFile in file:\n",
    "                    # print(os.path.join(subdir, file))\n",
    "\n",
    "                    with open(os.path.join(subdir, file), 'r') as f: # open in read-only mode\n",
    "                        accData = pd.read_csv(f)\n",
    "                        \n",
    "                        # Assemble the data into a tensor\n",
    "                        accAssDownstairs_s1.append(accData)\n",
    "\n",
    "for subdir, dirs, files in os.walk(rootdir):\n",
    "    if s3 in subdir:\n",
    "        if downstairs in subdir:\n",
    "            for file in files:\n",
    "                if accFile in file:\n",
    "                    # print(os.path.join(subdir, file))\n",
    "                    \n",
    "                    with open(os.path.join(subdir, file), 'r') as f: # open in read-only mode\n",
    "                        accData = pd.read_csv(f)\n",
    "                        \n",
    "                        # Assemble the data into a tensor\n",
    "                        accAssDownstairs_s3.append(accData)                        \n",
    "#End of file data import and processing"
   ]
  },
  {
   "cell_type": "code",
   "execution_count": 25,
   "metadata": {},
   "outputs": [
    {
     "name": "stdout",
     "output_type": "stream",
     "text": [
      "Gyroscope Normal Smartphone 1:  (6,)\n",
      "Accelerometer Normal Smartphone 1:  (6,)\n",
      "Gyroscope Normal Smartphone 3:  (6,)\n",
      "Accelerometer Normal Smartphone 3:  (6,)\n",
      "\n",
      "\n",
      "Gyroscope Upstairs Smartphone 1:  (8,)\n",
      "Accelerometer Upstairs Smartphone 1:  (8,)\n",
      "Gyroscope Upstairs Smartphone 3:  (8,)\n",
      "Accelerometer Upstairs Smartphone 3:  (8,)\n",
      "\n",
      "\n",
      "Gyroscope Downstairs Smartphone 1:  (8,)\n",
      "Accelerometer Downstairs Smartphone 1:  (8,)\n",
      "Gyroscope Downstairs Smartphone 3:  (8,)\n",
      "Accelerometer Downstairs Smartphone 3:  (8,)\n",
      "\n",
      "\n"
     ]
    }
   ],
   "source": [
    "gaitpos = ['Normal', 'Upstairs', 'Downstairs']\n",
    "\n",
    "for j in gaitpos:\n",
    "    for i in range(1, 4, 2):\n",
    "        gyrl = eval('gyrAss'+str(j) +'_s'+ str(i))\n",
    "        accl = eval('accAss'+str(j) +'_s'+ str(i))\n",
    "        \n",
    "        if np.shape(gyrl) == (10,) and np.shape(accl) == (10,):\n",
    "            print(\"Aquired all data from the group\")\n",
    "        else:\n",
    "            print(\"Gyroscope \" + str(j)+\" Smartphone \" + str(i)+ \": \", format(np.shape(gyrl)))\n",
    "            print(\"Accelerometer \" + str(j)+\" Smartphone \" + str(i)+ \": \", format(np.shape(accl)))\n",
    "\n",
    "    print(\"\\n\")"
   ]
  },
  {
   "cell_type": "code",
   "execution_count": 40,
   "metadata": {},
   "outputs": [
    {
     "ename": "KeyError",
     "evalue": "'X (rad/s)'",
     "output_type": "error",
     "traceback": [
      "\u001b[1;31m---------------------------------------------------------------------------\u001b[0m",
      "\u001b[1;31mKeyError\u001b[0m                                  Traceback (most recent call last)",
      "\u001b[1;32mD:\\Users\\sreek\\anaconda3\\envs\\ai\\lib\\site-packages\\pandas\\core\\indexes\\base.py\u001b[0m in \u001b[0;36mget_loc\u001b[1;34m(self, key, method, tolerance)\u001b[0m\n\u001b[0;32m   3360\u001b[0m             \u001b[1;32mtry\u001b[0m\u001b[1;33m:\u001b[0m\u001b[1;33m\u001b[0m\u001b[1;33m\u001b[0m\u001b[0m\n\u001b[1;32m-> 3361\u001b[1;33m                 \u001b[1;32mreturn\u001b[0m \u001b[0mself\u001b[0m\u001b[1;33m.\u001b[0m\u001b[0m_engine\u001b[0m\u001b[1;33m.\u001b[0m\u001b[0mget_loc\u001b[0m\u001b[1;33m(\u001b[0m\u001b[0mcasted_key\u001b[0m\u001b[1;33m)\u001b[0m\u001b[1;33m\u001b[0m\u001b[1;33m\u001b[0m\u001b[0m\n\u001b[0m\u001b[0;32m   3362\u001b[0m             \u001b[1;32mexcept\u001b[0m \u001b[0mKeyError\u001b[0m \u001b[1;32mas\u001b[0m \u001b[0merr\u001b[0m\u001b[1;33m:\u001b[0m\u001b[1;33m\u001b[0m\u001b[1;33m\u001b[0m\u001b[0m\n",
      "\u001b[1;32mD:\\Users\\sreek\\anaconda3\\envs\\ai\\lib\\site-packages\\pandas\\_libs\\index.pyx\u001b[0m in \u001b[0;36mpandas._libs.index.IndexEngine.get_loc\u001b[1;34m()\u001b[0m\n",
      "\u001b[1;32mD:\\Users\\sreek\\anaconda3\\envs\\ai\\lib\\site-packages\\pandas\\_libs\\index.pyx\u001b[0m in \u001b[0;36mpandas._libs.index.IndexEngine.get_loc\u001b[1;34m()\u001b[0m\n",
      "\u001b[1;32mpandas\\_libs\\hashtable_class_helper.pxi\u001b[0m in \u001b[0;36mpandas._libs.hashtable.PyObjectHashTable.get_item\u001b[1;34m()\u001b[0m\n",
      "\u001b[1;32mpandas\\_libs\\hashtable_class_helper.pxi\u001b[0m in \u001b[0;36mpandas._libs.hashtable.PyObjectHashTable.get_item\u001b[1;34m()\u001b[0m\n",
      "\u001b[1;31mKeyError\u001b[0m: 'X (rad/s)'",
      "\nThe above exception was the direct cause of the following exception:\n",
      "\u001b[1;31mKeyError\u001b[0m                                  Traceback (most recent call last)",
      "\u001b[1;32m<ipython-input-40-3d6efb736b01>\u001b[0m in \u001b[0;36m<module>\u001b[1;34m\u001b[0m\n\u001b[0;32m     17\u001b[0m     \u001b[0mplt\u001b[0m\u001b[1;33m.\u001b[0m\u001b[0mshow\u001b[0m\u001b[1;33m(\u001b[0m\u001b[1;33m)\u001b[0m\u001b[1;33m\u001b[0m\u001b[1;33m\u001b[0m\u001b[0m\n\u001b[0;32m     18\u001b[0m \u001b[1;33m\u001b[0m\u001b[0m\n\u001b[1;32m---> 19\u001b[1;33m \u001b[0mgyrPlot\u001b[0m\u001b[1;33m(\u001b[0m\u001b[0mgyrAssUpstairs_s1\u001b[0m\u001b[1;33m[\u001b[0m\u001b[1;36m0\u001b[0m\u001b[1;33m]\u001b[0m\u001b[1;33m[\u001b[0m\u001b[1;34m'Time (s)'\u001b[0m\u001b[1;33m]\u001b[0m\u001b[1;33m,\u001b[0m \u001b[0mgyrAssUpstairs_s1\u001b[0m\u001b[1;33m[\u001b[0m\u001b[1;36m0\u001b[0m\u001b[1;33m]\u001b[0m\u001b[1;33m[\u001b[0m\u001b[1;34m'X (rad/s)'\u001b[0m\u001b[1;33m]\u001b[0m\u001b[1;33m,\u001b[0m \u001b[1;34m'Smartphone 1'\u001b[0m\u001b[1;33m)\u001b[0m\u001b[1;33m\u001b[0m\u001b[1;33m\u001b[0m\u001b[0m\n\u001b[0m",
      "\u001b[1;32mD:\\Users\\sreek\\anaconda3\\envs\\ai\\lib\\site-packages\\pandas\\core\\frame.py\u001b[0m in \u001b[0;36m__getitem__\u001b[1;34m(self, key)\u001b[0m\n\u001b[0;32m   3456\u001b[0m             \u001b[1;32mif\u001b[0m \u001b[0mself\u001b[0m\u001b[1;33m.\u001b[0m\u001b[0mcolumns\u001b[0m\u001b[1;33m.\u001b[0m\u001b[0mnlevels\u001b[0m \u001b[1;33m>\u001b[0m \u001b[1;36m1\u001b[0m\u001b[1;33m:\u001b[0m\u001b[1;33m\u001b[0m\u001b[1;33m\u001b[0m\u001b[0m\n\u001b[0;32m   3457\u001b[0m                 \u001b[1;32mreturn\u001b[0m \u001b[0mself\u001b[0m\u001b[1;33m.\u001b[0m\u001b[0m_getitem_multilevel\u001b[0m\u001b[1;33m(\u001b[0m\u001b[0mkey\u001b[0m\u001b[1;33m)\u001b[0m\u001b[1;33m\u001b[0m\u001b[1;33m\u001b[0m\u001b[0m\n\u001b[1;32m-> 3458\u001b[1;33m             \u001b[0mindexer\u001b[0m \u001b[1;33m=\u001b[0m \u001b[0mself\u001b[0m\u001b[1;33m.\u001b[0m\u001b[0mcolumns\u001b[0m\u001b[1;33m.\u001b[0m\u001b[0mget_loc\u001b[0m\u001b[1;33m(\u001b[0m\u001b[0mkey\u001b[0m\u001b[1;33m)\u001b[0m\u001b[1;33m\u001b[0m\u001b[1;33m\u001b[0m\u001b[0m\n\u001b[0m\u001b[0;32m   3459\u001b[0m             \u001b[1;32mif\u001b[0m \u001b[0mis_integer\u001b[0m\u001b[1;33m(\u001b[0m\u001b[0mindexer\u001b[0m\u001b[1;33m)\u001b[0m\u001b[1;33m:\u001b[0m\u001b[1;33m\u001b[0m\u001b[1;33m\u001b[0m\u001b[0m\n\u001b[0;32m   3460\u001b[0m                 \u001b[0mindexer\u001b[0m \u001b[1;33m=\u001b[0m \u001b[1;33m[\u001b[0m\u001b[0mindexer\u001b[0m\u001b[1;33m]\u001b[0m\u001b[1;33m\u001b[0m\u001b[1;33m\u001b[0m\u001b[0m\n",
      "\u001b[1;32mD:\\Users\\sreek\\anaconda3\\envs\\ai\\lib\\site-packages\\pandas\\core\\indexes\\base.py\u001b[0m in \u001b[0;36mget_loc\u001b[1;34m(self, key, method, tolerance)\u001b[0m\n\u001b[0;32m   3361\u001b[0m                 \u001b[1;32mreturn\u001b[0m \u001b[0mself\u001b[0m\u001b[1;33m.\u001b[0m\u001b[0m_engine\u001b[0m\u001b[1;33m.\u001b[0m\u001b[0mget_loc\u001b[0m\u001b[1;33m(\u001b[0m\u001b[0mcasted_key\u001b[0m\u001b[1;33m)\u001b[0m\u001b[1;33m\u001b[0m\u001b[1;33m\u001b[0m\u001b[0m\n\u001b[0;32m   3362\u001b[0m             \u001b[1;32mexcept\u001b[0m \u001b[0mKeyError\u001b[0m \u001b[1;32mas\u001b[0m \u001b[0merr\u001b[0m\u001b[1;33m:\u001b[0m\u001b[1;33m\u001b[0m\u001b[1;33m\u001b[0m\u001b[0m\n\u001b[1;32m-> 3363\u001b[1;33m                 \u001b[1;32mraise\u001b[0m \u001b[0mKeyError\u001b[0m\u001b[1;33m(\u001b[0m\u001b[0mkey\u001b[0m\u001b[1;33m)\u001b[0m \u001b[1;32mfrom\u001b[0m \u001b[0merr\u001b[0m\u001b[1;33m\u001b[0m\u001b[1;33m\u001b[0m\u001b[0m\n\u001b[0m\u001b[0;32m   3364\u001b[0m \u001b[1;33m\u001b[0m\u001b[0m\n\u001b[0;32m   3365\u001b[0m         \u001b[1;32mif\u001b[0m \u001b[0mis_scalar\u001b[0m\u001b[1;33m(\u001b[0m\u001b[0mkey\u001b[0m\u001b[1;33m)\u001b[0m \u001b[1;32mand\u001b[0m \u001b[0misna\u001b[0m\u001b[1;33m(\u001b[0m\u001b[0mkey\u001b[0m\u001b[1;33m)\u001b[0m \u001b[1;32mand\u001b[0m \u001b[1;32mnot\u001b[0m \u001b[0mself\u001b[0m\u001b[1;33m.\u001b[0m\u001b[0mhasnans\u001b[0m\u001b[1;33m:\u001b[0m\u001b[1;33m\u001b[0m\u001b[1;33m\u001b[0m\u001b[0m\n",
      "\u001b[1;31mKeyError\u001b[0m: 'X (rad/s)'"
     ]
    }
   ],
   "source": [
    "def gyrPlot(t, y, lbl):\n",
    "    plt.plot(t, y, label=lbl)\n",
    "\n",
    "    plt.xlabel('Time (s)')\n",
    "    plt.ylabel('Angular velocity (rad/s)')\n",
    "    plt.title('Gyroscope')\n",
    "    plt.legend()\n",
    "    plt.show()\n",
    "\n",
    "def accPlot(t, y, lbl):\n",
    "    plt.plot(t, y, label=lbl)\n",
    "\n",
    "    plt.xlabel('Time (s)')\n",
    "    plt.ylabel('Acceleration (m/s^2)')\n",
    "    plt.title('Accelerometer')\n",
    "    plt.legend()\n",
    "    plt.show()\n",
    "\n",
    "gyrPlot(gyrAssUpstairs_s1[0]['Time (s)'], gyrAssUpstairs_s1[0]['X (rad/s)'], 'Smartphone 1')"
   ]
  },
  {
   "cell_type": "code",
   "execution_count": 13,
   "metadata": {},
   "outputs": [
    {
     "name": "stdout",
     "output_type": "stream",
     "text": [
      "a\n",
      "a\n"
     ]
    }
   ],
   "source": [
    "acc1 = [1, 2, 3, 4, 5, 6, 7, 8, 9, 10]\n",
    "acc2 = [\"John\", \"Doe\", \"Example\", \"code\"]\n",
    "c = [1, 2]\n",
    "\n",
    "for i in c:\n",
    "    something = 'acc'+str(i)\n",
    "    # convert string to list\n",
    "    print(something[0])"
   ]
  }
 ],
 "metadata": {
  "interpreter": {
   "hash": "d27c620567fe2d1f3f91b14d158f32cde7e2c4b18fc4163e5eb414de6a296357"
  },
  "kernelspec": {
   "display_name": "Python 3.8.12 64-bit ('ai': conda)",
   "language": "python",
   "name": "python3"
  },
  "language_info": {
   "codemirror_mode": {
    "name": "ipython",
    "version": 3
   },
   "file_extension": ".py",
   "mimetype": "text/x-python",
   "name": "python",
   "nbconvert_exporter": "python",
   "pygments_lexer": "ipython3",
   "version": "3.8.12"
  },
  "orig_nbformat": 4
 },
 "nbformat": 4,
 "nbformat_minor": 2
}
