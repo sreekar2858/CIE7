{
 "cells": [
  {
   "cell_type": "markdown",
   "metadata": {},
   "source": [
    "# CIE Project A - Group 7"
   ]
  },
  {
   "cell_type": "markdown",
   "metadata": {},
   "source": [
    "## ---> Data processing"
   ]
  },
  {
   "cell_type": "markdown",
   "metadata": {},
   "source": [
    "### Imports"
   ]
  },
  {
   "cell_type": "code",
   "execution_count": null,
   "metadata": {},
   "outputs": [],
   "source": [
    "import os\n",
    "\n",
    "import pandas as pd\n",
    "import numpy as np\n",
    "from scipy import signal as sp\n",
    "import matplotlib.pyplot as plt\n",
    "plt.rcParams['figure.dpi'] = 100\n",
    "%matplotlib widget\n",
    "\n",
    "# import tensorflow as tf"
   ]
  },
  {
   "cell_type": "markdown",
   "metadata": {},
   "source": [
    "#### Get the root directory and change to it"
   ]
  },
  {
   "cell_type": "code",
   "execution_count": null,
   "metadata": {},
   "outputs": [],
   "source": [
    "rootdir = os.getcwd()\n",
    "os.chdir(rootdir)"
   ]
  },
  {
   "cell_type": "markdown",
   "metadata": {},
   "source": [
    "### Variable Assignment"
   ]
  },
  {
   "cell_type": "code",
   "execution_count": null,
   "metadata": {},
   "outputs": [],
   "source": [
    "gyrFile = 'Gyroscope'\n",
    "accFile = 'Accelerometer'\n",
    "\n",
    "normal = 'Normal'\n",
    "upstairs = 'Upstairs'\n",
    "downstairs = 'Downstairs'\n",
    "\n",
    "smartphone = [1, 3]\n",
    "\n",
    "s1 = 'Smartphone1'\n",
    "s3 = 'Smartphone3'\n",
    "\n",
    "s = [s1, s3]\n",
    "\n",
    "gaitpos = [normal, upstairs, downstairs]"
   ]
  },
  {
   "cell_type": "markdown",
   "metadata": {},
   "source": [
    "### Data Parsing"
   ]
  },
  {
   "cell_type": "markdown",
   "metadata": {},
   "source": [
    "#### Define variables for raw data"
   ]
  },
  {
   "cell_type": "code",
   "execution_count": null,
   "metadata": {},
   "outputs": [],
   "source": [
    "count = 0\n",
    "\n",
    "# Naming convention - gyr(oscope)_s(martphone_location)) and Same for acceleraoemeter\n",
    "# All the data is stored in a list of dataframes. So, gyr{gaitpos}_s{martphone_location}[0, 1, 2, .....] gives the data as sorted by name in the file directory.\n",
    "# gyrNormal_s1[0] gives the gyroscope data of the subject180_Normal sample 01 in the normal gait position.\n",
    "# gyrNormal_s1[1] gives the gyroscope data of the subject180_Normal sample 02 in the normal gait position.\n",
    "# \n",
    "# gyrNormal_s[2] gives the gyroscope data of the subject181_Normal sample 01 in the normal gait position.\n",
    "# \n",
    "# and so on. \n",
    "\n",
    "# defining arrays for gyroscope data\n",
    "gyrNormal_s1 = []; gyrUpstairs_s1 = []; gyrDownstairs_s1 = []\n",
    "gyrNormal_s3 = []; gyrUpstairs_s3 = []; gyrDownstairs_s3 = []\n",
    "\n",
    "#defining arrays for accelerometer data\n",
    "accNormal_s1 = []; accUpstairs_s1 = []; accDownstairs_s1 = []\n",
    "accNormal_s3 = []; accUpstairs_s3 = []; accDownstairs_s3 = []"
   ]
  },
  {
   "cell_type": "markdown",
   "metadata": {},
   "source": [
    "#### Parsing gyroscope and accelerometer data in all gait positions (Smartphone 1 - Rear Right) & (Smartphone 3 - Front Right)"
   ]
  },
  {
   "cell_type": "code",
   "execution_count": null,
   "metadata": {},
   "outputs": [],
   "source": [
    "for subdir, dirs, files in os.walk(rootdir):\n",
    "    for foldername in s:\n",
    "        for gait in gaitpos:    \n",
    "        \n",
    "            gyr = eval(f'gyr{gait}_s{foldername[10]}')\n",
    "            acc = eval(f'acc{gait}_s{foldername[10]}')\n",
    "            \n",
    "            if foldername.lower() in subdir.lower():\n",
    "                if gait.lower() in subdir.lower():\n",
    "    \n",
    "                    for file in files:\n",
    "\n",
    "                        if gyrFile.lower() in file.lower():\n",
    "                            count = count + 1\n",
    "                            # print(f'#{count} -- {os.path.join(subdir, file)}')\n",
    "\n",
    "                            with open(os.path.join(subdir, file), 'r') as f: # open in read-only mode\n",
    "                                gyrData = pd.read_csv(f)\n",
    "                                # Assemble the data into a tensor\n",
    "                                gyr.append(gyrData)\n",
    "\n",
    "                        if accFile in file:\n",
    "                            count = count + 1\n",
    "                            # print(f'#{count} -- {os.path.join(subdir, file)}')\n",
    "\n",
    "                            with open(os.path.join(subdir, file), 'r') as f: # open in read-only mode\n",
    "                                accData = pd.read_csv(f)\n",
    "                                # Assemble the data into a tensor\n",
    "                                acc.append(accData)"
   ]
  },
  {
   "cell_type": "markdown",
   "metadata": {},
   "source": [
    "#### Check if the data is collected correctly after parsing"
   ]
  },
  {
   "cell_type": "code",
   "execution_count": null,
   "metadata": {},
   "outputs": [],
   "source": [
    "# getting the data shape for reference\n",
    "for j in gaitpos:\n",
    "    for i in smartphone:\n",
    "            gyrl = eval(f'gyr{j}_s{i}')\n",
    "            accl = eval(f'acc{j}_s{i}')\n",
    "\n",
    "            print(f'Shape of gyr{j}_s{i} is ------ {np.asarray((gyrl), dtype = list).shape}')\n",
    "            print(f'Shape of acc{j}_s{i} is ------ {np.asarray((accl), dtype = list).shape} \\n')"
   ]
  },
  {
   "cell_type": "markdown",
   "metadata": {},
   "source": [
    "### Data Validation and Preprocessing"
   ]
  },
  {
   "cell_type": "markdown",
   "metadata": {},
   "source": [
    "##### -- No need to run -- Frequency check of all the data before filtering"
   ]
  },
  {
   "cell_type": "code",
   "execution_count": null,
   "metadata": {},
   "outputs": [],
   "source": [
    "freqGyr = []\n",
    "freqAcc = []\n",
    "\n",
    "# Loop through the variables and check if all the data is collected\n",
    "for j in gaitpos:\n",
    "    for i in smartphone:\n",
    "        # Calculating gyroscope frequency before preprocessing\n",
    "        gyrl = eval(f'gyr{j}_s{i}')\n",
    "        ng = len(gyrl)\n",
    "\n",
    "        # loop to calculate the frequency over all the data\n",
    "        for s in range(0, ng):\n",
    "            time = np.asarray(gyrl[s].iloc[:,0])\n",
    "\n",
    "            freqG = np.round(len(time)/(time[-1]))\n",
    "            freqGyr.append(freqG)\n",
    "        \n",
    "        # Calculating accelerometer frequency before preprocessing\n",
    "        accl = eval(f'acc{j}_s{i}')\n",
    "        na = len(accl)\n",
    "\n",
    "        # loop to calculate the frequency over all the data\n",
    "        for s in range(0, na):\n",
    "            time = np.asarray(accl[s].iloc[:,0])\n",
    "\n",
    "            freqA = np.round(len(time)/(time[-1]))\n",
    "            freqAcc.append(freqA)\n",
    "\n",
    "for i in range(0, len(freqGyr)):\n",
    "    if freqGyr[i] < 10:\n",
    "        print(f'Position of the frequency issue is at freqGyr:{i} and the frequency is {freqGyr[i]}')\n",
    "for j in range(0, len(freqAcc)):\n",
    "    if freqAcc[j] < 10:\n",
    "        print(f'Position of the frequency issue is at freqAcc:{j} and the frequency is {freqAcc[j]}')"
   ]
  },
  {
   "cell_type": "markdown",
   "metadata": {},
   "source": [
    "#### Filter Data"
   ]
  },
  {
   "cell_type": "markdown",
   "metadata": {},
   "source": [
    "##### Lowpass filter (Butterworth) function"
   ]
  },
  {
   "cell_type": "code",
   "execution_count": null,
   "metadata": {},
   "outputs": [],
   "source": [
    "#Filter the data to remove noise\n",
    "\n",
    "# inputs for the function is the data, the sampling frequency, the cutoff frequency.\n",
    "def dataFilter(dataInput, fs=200, fc=5, order = 2):\n",
    "    Filtrd = np.zeros(dataInput.shape)\n",
    "    w = fc / (fs * 0.5)\n",
    "    b, a = sp.butter(fc, w, 'low')\n",
    "    \n",
    "    #Filter the X, Y and Z axis of the input data\n",
    "    for i in range(0, 3):\n",
    "        Filtrd[:,i] = sp.filtfilt(b, a, dataInput.iloc[:,i+1])\n",
    "\n",
    "    return Filtrd"
   ]
  },
  {
   "cell_type": "markdown",
   "metadata": {},
   "source": [
    "##### -- Different filter check -- Chebyshev filter"
   ]
  },
  {
   "cell_type": "code",
   "execution_count": null,
   "metadata": {},
   "outputs": [],
   "source": [
    "'''\n",
    "# chebyshev filter for the accelerometer data\n",
    "def chebyFilter(dataInput, fs=200, fc=5, order = 2):\n",
    "    Filtrd = np.zeros(dataInput.shape)\n",
    "    w = fc / (fs * 0.5)\n",
    "    b, a = sp.cheby2(order, 20, w, 'low')\n",
    "    \n",
    "    #Filter the X, Y and Z axis of the input data\n",
    "    for i in range(0, 3):\n",
    "        Filtrd[:,i] = sp.filtfilt(b,a, dataInput.iloc[:,i+1])\n",
    "    \n",
    "    return Filtrd\n",
    "'''"
   ]
  },
  {
   "cell_type": "markdown",
   "metadata": {},
   "source": [
    "#### -- Test -- the dataFilter function and its dependency on the frequency input"
   ]
  },
  {
   "cell_type": "code",
   "execution_count": null,
   "metadata": {},
   "outputs": [],
   "source": [
    "'''gyrF = []\n",
    "accF = []\n",
    "ng = len(gyrNormal_s1)\n",
    "na = len(accNormal_s1)\n",
    "\n",
    "for i in range(0, ng):\n",
    "    timeg = np.asarray(gyrNormal_s1[i].iloc[:,0])\n",
    "    freqG = np.round(len(timeg)/(timeg[-1]))\n",
    "    gyrF.append(freqG)\n",
    "\n",
    "for j in range(0, na):\n",
    "    timea = np.asarray(accNormal_s1[j].iloc[:,0])\n",
    "    freqA = np.round(len(timea)/(timea[-1]))\n",
    "    accF.append(freqA)\n",
    "\n",
    "gyrFilt = []\n",
    "accFilt = []\n",
    "\n",
    "for rg in range(0, ng):\n",
    "    gf = dataFilter(gyrNormal_s1[rg], fs = 100)\n",
    "    gyrFilt.append(gf)\n",
    "\n",
    "for ra in range(0, na):\n",
    "    af = dataFilter(accNormal_s1[ra], fs = 100)\n",
    "    accFilt.append(af)\n",
    "\n",
    "t1 = np.asarray(gyrNormal_s1[0].iloc[:,0])\n",
    "f1 = np.round(len(t1)/(t1[-1]))\n",
    "\n",
    "xyz = dataFilter(gyrNormal_s1[0], fs = f1)\n",
    "\n",
    "plt.close('all')\n",
    "plt.plot(gyrNormal_s1[0].iloc[:,1], 'r')\n",
    "plt.plot(xyz[:,0], 'b')\n",
    "plt.show()'''"
   ]
  },
  {
   "cell_type": "markdown",
   "metadata": {},
   "source": [
    "#### Filtering all the data"
   ]
  },
  {
   "cell_type": "code",
   "execution_count": null,
   "metadata": {},
   "outputs": [],
   "source": [
    "# defining arrays for filtered gyroscope data\n",
    "gyrFilteredNormal_s1 = []; gyrFilteredUpstairs_s1 = []; gyrFilteredDownstairs_s1 = []\n",
    "gyrFilteredDownstairs_s3 = []; gyrFilteredUpstairs_s3 = []; gyrFilteredNormal_s3 = []\n",
    "\n",
    "# defining arrays for filtered accelerometer data\n",
    "accFilteredNormal_s1 = []; accFilteredUpstairs_s1 = []; accFilteredDownstairs_s1 = []\n",
    "accFilteredNormal_s3 = []; accFilteredUpstairs_s3 = []; accFilteredDownstairs_s3 = []\n",
    "\n",
    "for j in gaitpos:\n",
    "    for i in smartphone:\n",
    "            # variables of raw the data\n",
    "            gyrl = eval(f'gyr{j}_s{i}')\n",
    "            accl = eval(f'acc{j}_s{i}')\n",
    "            \n",
    "            # variables of filtered the data\n",
    "            gyrF = eval(f'gyrFiltered{j}_s{i}')\n",
    "            accF = eval(f'accFiltered{j}_s{i}')\n",
    "\n",
    "            # getting the shape of the gyroscope data (first integer)\n",
    "            ng = len(gyrl)\n",
    "\n",
    "            # Getting the shape of the accelerometer data (first integer)\n",
    "            na = len(accl)\n",
    "\n",
    "\n",
    "            # Filter all the data\n",
    "            for rg in range(0, ng):\n",
    "                timeg = np.asarray(gyrl[rg].iloc[:,0])\n",
    "                fG = np.round(len(timeg)/(timeg[-1]))\n",
    "\n",
    "                gf = dataFilter(gyrl[rg], fs = fG)\n",
    "                gyrF.append(gf)\n",
    "\n",
    "            for ra in range(0, na):\n",
    "                timea = np.asarray(accl[ra].iloc[:,0])\n",
    "                fA = np.round(len(timea)/(timea[-1]))\n",
    "\n",
    "                af = dataFilter(accl[ra], fs = fA)\n",
    "                accF.append(af)"
   ]
  },
  {
   "cell_type": "markdown",
   "metadata": {},
   "source": [
    "#### Check if all the data is collected correctly after filtering"
   ]
  },
  {
   "cell_type": "code",
   "execution_count": null,
   "metadata": {},
   "outputs": [],
   "source": [
    "# getting the data shape for reference\n",
    "for j in gaitpos:\n",
    "    for i in smartphone:\n",
    "            gyrl = eval(f'gyrFiltered{j}_s{i}')\n",
    "            accl = eval(f'accFiltered{j}_s{i}')\n",
    "\n",
    "            print(f'Shape of gyrFiltered{j}_s{i} is ------ {np.asarray((gyrl), dtype = list).shape}')\n",
    "            print(f'Shape of accFiltered{j}_s{i} is ------ {np.asarray((accl), dtype = list).shape} \\n')"
   ]
  },
  {
   "cell_type": "markdown",
   "metadata": {},
   "source": [
    "### Cut the data"
   ]
  },
  {
   "cell_type": "markdown",
   "metadata": {},
   "source": [
    "#### Cut data function"
   ]
  },
  {
   "cell_type": "code",
   "execution_count": null,
   "metadata": {},
   "outputs": [],
   "source": [
    "def cutData(gyrFilt, accFilt, freq):\n",
    "    acc_abs = np.linalg.norm(accFilt, axis=1)\n",
    "    \n",
    "    ht = np.round(np.mean(acc_abs[int(0.3*len(acc_abs)):int(0.7*len(acc_abs))])).astype(int)\n",
    "\n",
    "    peaks, _ = sp.find_peaks(acc_abs, height = -10, distance=freq*0.5)\n",
    "    diff_peaks = np.diff(peaks)\n",
    "    gap1 = np.argmax(diff_peaks[:int(0.4*(len(diff_peaks)))])\n",
    "    gap2 = np.argmax(diff_peaks[-int(0.4*len(diff_peaks)):])\n",
    "    \n",
    "    gap2 = int(np.shape(diff_peaks)[0] - int(0.4*len(diff_peaks)) + gap2)\n",
    "\n",
    "    gyr_cut = gyrFilt[peaks[gap1+1]:peaks[gap2], :]\n",
    "    acc_cut = accFilt[peaks[gap1+1]:peaks[gap2], :]\n",
    "\n",
    "    return gyr_cut, acc_cut"
   ]
  },
  {
   "cell_type": "markdown",
   "metadata": {},
   "source": [
    "##### -- check -- Cut data function"
   ]
  },
  {
   "cell_type": "code",
   "execution_count": null,
   "metadata": {},
   "outputs": [],
   "source": [
    "'''\n",
    "gyrNormalCtted, accNormalCtted = [], []\n",
    "\n",
    "for x in range(0, len(gyrNormal_s3)):\n",
    "    num = x\n",
    "    \n",
    "    nq = len(accNormal_s3[num])\n",
    "    tq = np.asarray(gyrNormal_s3[num].iloc[:,0])\n",
    "    freq = np.round(len(tq)/(tq[-1]))\n",
    "    # print(f'The frequency of the data is {freq}')\n",
    "\n",
    "    acc_abs = np.linalg.norm(accFilteredNormal_s3[num], axis=1)\n",
    "\n",
    "    # ht = np.round(np.mean(acc_abs[int(0.2*len(acc_abs)):int(0.7*len(acc_abs))])).astype(int)\n",
    "    # ht = np.round(np.mean(acc_abs)).astype(int)\n",
    "    # print(f'The average height of the data is {ht}')\n",
    "    peaks, _ = sp.find_peaks(acc_abs, height = 0, distance=freq*0.5)\n",
    "    # print(f'The number of peaks is {(peaks)}')\n",
    "\n",
    "    diff_peaks = np.diff(peaks)\n",
    "    # print(f'The difference of peaks is {(diff_peaks)}')\n",
    "\n",
    "    gap1 = np.argmax(diff_peaks[:20])\n",
    "    # print(f'The first gap is {gap1}')\n",
    "\n",
    "    gap2 = np.argmax(diff_peaks[-10:])\n",
    "    gap2 = int(np.shape(diff_peaks)[0] - 10 + gap2)\n",
    "    # print(f'The second gap is {gap2}')\n",
    "\n",
    "    gyr_cut = gyrFilteredNormal_s3[num][peaks[gap1+1]:peaks[gap2], :]\n",
    "    acc_cut = accFilteredNormal_s3[num][peaks[gap1+1]:peaks[gap2], :]\n",
    "\n",
    "    gyrNormalCtted.append(gyr_cut)\n",
    "    accNormalCtted.append(acc_cut)\n",
    "'''"
   ]
  },
  {
   "cell_type": "markdown",
   "metadata": {},
   "source": [
    "##### -- Test -- Cut Data line by line"
   ]
  },
  {
   "cell_type": "code",
   "execution_count": null,
   "metadata": {},
   "outputs": [],
   "source": [
    "'''\n",
    "num = 7\n",
    "\n",
    "nq = len(accNormal_s3[num])\n",
    "tq = np.asarray(gyrNormal_s3[num].iloc[:,0])\n",
    "freq = np.round(len(tq)/(tq[-1]))\n",
    "print(f'The frequency of the data is {freq}')\n",
    "\n",
    "acc_abs = np.linalg.norm(accFilteredNormal_s3[num], axis=1)\n",
    "\n",
    "ht = np.round(np.mean(acc_abs[int(0.2*len(acc_abs)):int(0.7*len(acc_abs))])).astype(int)\n",
    "# ht = np.round(np.mean(acc_abs)).astype(int)\n",
    "print(f'The average height of the data is {ht}')\n",
    "peaks, _ = sp.find_peaks(acc_abs, height = 0, distance=freq*0.5)\n",
    "print(f'The number of peaks is {(peaks)}')\n",
    "\n",
    "diff_peaks = np.diff(peaks)\n",
    "print(f'The difference of peaks is {(diff_peaks)}')\n",
    "\n",
    "gap1 = np.argmax(diff_peaks[:int(0.1*(len(diff_peaks)))])\n",
    "print(f'The first gap is {gap1}')\n",
    "\n",
    "gap2 = np.argmax(diff_peaks[-int(0.1*len(diff_peaks)):])\n",
    "gap2 = int(np.shape(diff_peaks)[0] - int(0.2*len(diff_peaks)) + gap2)\n",
    "print(f'The second gap is {gap2}')\n",
    "\n",
    "gyr_cut = gyrFilteredNormal_s3[num][peaks[gap1+1]:peaks[gap2], :]\n",
    "acc_cut = accFilteredNormal_s3[num][peaks[gap1+1]:peaks[gap2], :]\n",
    "\n",
    "plt.close()\n",
    "# plt.plot(gyrFilteredNormal_s1[1][:,0], label='Raw Data', c = 'b')\n",
    "\n",
    "plt.plot(acc_abs, label = 'Accelerometer Absolute Data', c = 'grey')\n",
    "plt.plot(np.linspace(0, len(gyrNormal_s3[num])), np.full_like(np.linspace(0, len(gyrNormal_s3[num])), ht), label = 'Average Height', c = 'r')\n",
    "\n",
    "plt.plot(peaks, acc_abs[peaks], 'x', label = 'Peaks', c = 'y')\n",
    "plt.plot(np.linspace(0, len(gyrNormal_s3[num])), np.zeros_like(np.linspace(0, len(gyrNormal_s3[num]))), linestyle = \"--\", linewidth = 0.2, dashes=(5, 15), color=\"black\")\n",
    "\n",
    "plt.plot(peaks[gap1+1], acc_abs[peaks[gap1+1]], 'o', label = 'Gap 1', c = 'g')\n",
    "plt.plot(peaks[gap2], acc_abs[peaks[gap2]], 'o', label = 'Gap 2', c = 'black')\n",
    "\n",
    "plt.plot(gyr_cut[:,0], label = 'Gyr Cut', c='r')\n",
    "\n",
    "plt.legend()\n",
    "plt.grid()\n",
    "plt.show()\n",
    "'''"
   ]
  },
  {
   "cell_type": "markdown",
   "metadata": {},
   "source": [
    "#### Cut all the data"
   ]
  },
  {
   "cell_type": "code",
   "execution_count": null,
   "metadata": {},
   "outputs": [],
   "source": [
    "# defining arrays for cut gyroscope data\n",
    "gyrCutNormal_s1 = []; gyrCutUpstairs_s1 = []; gyrCutDownstairs_s1 = []\n",
    "gyrCutNormal_s3 = []; gyrCutUpstairs_s3 = []; gyrCutDownstairs_s3 = []\n",
    "\n",
    "# defining arrays for cut accelerometer data\n",
    "accCutNormal_s1 = []; accCutUpstairs_s1 = []; accCutDownstairs_s1 = []\n",
    "accCutNormal_s3 = []; accCutUpstairs_s3 = []; accCutDownstairs_s3 = []\n",
    "\n",
    "for j in gaitpos:\n",
    "    for i in smartphone:\n",
    "            # variables of raw the data\n",
    "            gyrl = eval(f'gyr{j}_s{i}')\n",
    "            accl = eval(f'acc{j}_s{i}')\n",
    "            \n",
    "            # variables of filtered the data\n",
    "            gyrF = eval(f'gyrFiltered{j}_s{i}')\n",
    "            accF = eval(f'accFiltered{j}_s{i}')\n",
    "\n",
    "            # variables of cutted the data\n",
    "            gyrC = eval(f'gyrCut{j}_s{i}')\n",
    "            accC = eval(f'accCut{j}_s{i}')\n",
    "\n",
    "            # getting the shape of the gyroscope and accelerometer data\n",
    "            n = len(gyrF)\n",
    "\n",
    "            # Filter all the data\n",
    "            for r in range(0, n):\n",
    "                \n",
    "                tCut = np.asarray(gyrl[r].iloc[:,0])\n",
    "                freqCut = np.round(len(tCut)/(tCut[-1]))\n",
    "                # print(f'accFiltered{j}_s{i} - {[r]}')\n",
    "                gf, aF = cutData(gyrF[r], accF[r], freqCut)\n",
    "\n",
    "                gyrC.append(gf)\n",
    "                accC.append(aF)"
   ]
  },
  {
   "cell_type": "markdown",
   "metadata": {},
   "source": [
    "#### check if all the data is collected correctly after cutting"
   ]
  },
  {
   "cell_type": "code",
   "execution_count": null,
   "metadata": {},
   "outputs": [],
   "source": [
    "# getting the data shape for reference\n",
    "for j in gaitpos:\n",
    "    for i in smartphone:\n",
    "            gyr = eval(f'gyrCut{j}_s{i}')\n",
    "            acc = eval(f'accCut{j}_s{i}')\n",
    "\n",
    "            print(f'Shape of gyrCut{j}_s{i} is ------ {np.asarray((gyr), dtype = list).shape}')\n",
    "            print(f'Shape of accCut{j}_s{i} is ------ {np.asarray((acc), dtype = list).shape} \\n')"
   ]
  },
  {
   "cell_type": "markdown",
   "metadata": {},
   "source": [
    "#### Plot raw data, filtered data, and cut data"
   ]
  },
  {
   "cell_type": "code",
   "execution_count": null,
   "metadata": {},
   "outputs": [],
   "source": [
    "pos = 'Normal'\n",
    "loc = 3\n",
    "no = 4\n",
    "\n",
    "plt.close()\n",
    "plt.plot(eval(f'gyr{pos}_s{loc}')[no].iloc[:,1], label='Raw Data', c = 'c')\n",
    "plt.plot(eval(f'gyrFiltered{pos}_s{loc}')[no][:,0], label='Filtered Data', c = 'b')\n",
    "plt.plot(eval(f'gyrCut{pos}_s{loc}')[no][:,0], label = 'Gyr Cutted Data', c = 'r')\n",
    "\n",
    "plt.legend()\n",
    "plt.grid()\n",
    "plt.show()"
   ]
  },
  {
   "cell_type": "markdown",
   "metadata": {},
   "source": [
    "#### -- Test -- Save all cut data to plots"
   ]
  },
  {
   "cell_type": "code",
   "execution_count": null,
   "metadata": {},
   "outputs": [],
   "source": [
    "'''\n",
    "for j in gaitpos:\n",
    "    for i in smartphone:\n",
    "        # variables of raw the data\n",
    "        gyrl = eval(f'gyr{j}_s{i}')\n",
    "        accl = eval(f'acc{j}_s{i}')\n",
    "        # variables of filtered the data\n",
    "        gyrF = eval(f'gyrFiltered{j}_s{i}')\n",
    "        accF = eval(f'accFiltered{j}_s{i}')\n",
    "        # variables of cutted the data\n",
    "        gyrC = eval(f'gyrCut{j}_s{i}')\n",
    "        accC = eval(f'accCut{j}_s{i}')\n",
    "\n",
    "        for rg in range(0, len(gyrF)):\n",
    "            plt.close()\n",
    "            plt.plot(gyrl[rg].iloc[:,1], label='Raw Gyroscope Data', c = 'c')\n",
    "            # plt.plot(accl[rg].iloc[:,1], label='Raw Accelerometer Data', c = 'm')\n",
    "\n",
    "            plt.plot(gyrF[rg][:,0], label='Filtered Gyroscope Data', c = 'b')\n",
    "            # plt.plot(accF[rg][:,0], label='Filtered Accelerometer Data', c = 'g')\n",
    "\n",
    "            plt.plot(gyrC[rg][:,0], label='Gyroscope Cut Data', c = 'y')\n",
    "            # plt.plot(accC[rg][:,0], label = 'Accelerometer Cut Data', c = 'r')\n",
    "\n",
    "            plt.legend()\n",
    "            plt.grid()\n",
    "            plt.ioff()\n",
    "            # plt.savefig(rootdir+f'/2 Accelerometer_Pictures/acc{j}_s{i}_{rg}.png')\n",
    "            plt.savefig(rootdir+f'/1 Gyroscope_Pictures/gyr{j}_s{i}_{rg}.png')\n",
    "'''"
   ]
  },
  {
   "cell_type": "markdown",
   "metadata": {},
   "source": [
    "### Plotttt function"
   ]
  },
  {
   "cell_type": "code",
   "execution_count": null,
   "metadata": {},
   "outputs": [],
   "source": [
    "def gyrPlot(x, y, lbl, xlbl='None', ylbl='None', ttl='None', clr='None'):\n",
    "    plt.close()\n",
    "    plt.plot(x, y, label=lbl, c=clr)\n",
    "\n",
    "    plt.xlabel(xlbl)\n",
    "    plt.ylabel(ylbl)\n",
    "    plt.title(ttl)\n",
    "\n",
    "    plt.legend()\n",
    "    plt.grid()\n",
    "    plt.show()"
   ]
  },
  {
   "cell_type": "markdown",
   "metadata": {},
   "source": [
    "## ---> AI Model"
   ]
  }
 ],
 "metadata": {
  "interpreter": {
   "hash": "d27c620567fe2d1f3f91b14d158f32cde7e2c4b18fc4163e5eb414de6a296357"
  },
  "kernelspec": {
   "display_name": "Python 3.8.12 64-bit ('ai': conda)",
   "language": "python",
   "name": "python3"
  },
  "language_info": {
   "codemirror_mode": {
    "name": "ipython",
    "version": 3
   },
   "file_extension": ".py",
   "mimetype": "text/x-python",
   "name": "python",
   "nbconvert_exporter": "python",
   "pygments_lexer": "ipython3",
   "version": "3.8.12"
  },
  "orig_nbformat": 4
 },
 "nbformat": 4,
 "nbformat_minor": 2
}
