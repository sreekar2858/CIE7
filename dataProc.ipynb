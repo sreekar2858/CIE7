{
 "cells": [
  {
   "cell_type": "code",
   "execution_count": 29,
   "metadata": {},
   "outputs": [],
   "source": [
    "import os\n",
    "\n",
    "import pandas as pd\n",
    "import numpy as np\n",
    "import matplotlib.pyplot as plt\n",
    "import tensorflow as tf"
   ]
  },
  {
   "cell_type": "code",
   "execution_count": 30,
   "metadata": {},
   "outputs": [],
   "source": [
    "rootdir = os.getcwd()\n",
    "os.chdir(rootdir)"
   ]
  },
  {
   "cell_type": "code",
   "execution_count": 31,
   "metadata": {},
   "outputs": [],
   "source": [
    "gyrFile = 'Gyroscope'\n",
    "accFile = 'Accelerometer'\n",
    "\n",
    "normal = 'normal'\n",
    "\n",
    "upstairs = 'upstairs'\n",
    "downstairs = 'downstairs'\n",
    "\n",
    "s1 = 'Smartphone1'\n",
    "s3 = 'Smartphone3'\n",
    "\n",
    "# defining an array for gyroscope data\n",
    "gyrAssNormal_s1 = []\n",
    "gyrAssUpstairs_s1 = []\n",
    "gyrAssDownstairs_s1 = []\n",
    "\n",
    "gyrAssNormal_s3 = []\n",
    "gyrAssUpstairs_s3 = []\n",
    "gyrAssDownstairs_s3 = []\n",
    "\n",
    "#defining an array for accelerometer data\n",
    "accAssNormal_s1 = []\n",
    "accAssUpstairs_s1 = []\n",
    "accAssDownstairs_s1 = []\n",
    "\n",
    "accAssNormal_s3 = []\n",
    "accAssUpstairs_s3 = []\n",
    "accAssDownstairs_s3 = []"
   ]
  },
  {
   "cell_type": "markdown",
   "metadata": {},
   "source": [
    "# Parsing Gyroscope Normal Data (Smartphone 1 - Rear Right) & (Smartphone 3 - Front Right)"
   ]
  },
  {
   "cell_type": "code",
   "execution_count": 32,
   "metadata": {},
   "outputs": [
    {
     "name": "stdout",
     "output_type": "stream",
     "text": [
      "d:\\OneDrive - rwth-aachen.de\\EDU_Master\\1 Courses\\ws21\\Computational Intelligence in Engineering (VO) [21ws-41.09212]\\_Project\\CIE7\\SensorData\\Smartphone1\\subject181_normal01\\Gyroscope.csv\n",
      "d:\\OneDrive - rwth-aachen.de\\EDU_Master\\1 Courses\\ws21\\Computational Intelligence in Engineering (VO) [21ws-41.09212]\\_Project\\CIE7\\SensorData\\Smartphone1\\subject181_normal02\\Gyroscope.csv\n",
      "d:\\OneDrive - rwth-aachen.de\\EDU_Master\\1 Courses\\ws21\\Computational Intelligence in Engineering (VO) [21ws-41.09212]\\_Project\\CIE7\\SensorData\\Smartphone1\\subject182_normal01\\Gyroscope.csv\n",
      "d:\\OneDrive - rwth-aachen.de\\EDU_Master\\1 Courses\\ws21\\Computational Intelligence in Engineering (VO) [21ws-41.09212]\\_Project\\CIE7\\SensorData\\Smartphone1\\subject182_normal02\\Gyroscope.csv\n",
      "d:\\OneDrive - rwth-aachen.de\\EDU_Master\\1 Courses\\ws21\\Computational Intelligence in Engineering (VO) [21ws-41.09212]\\_Project\\CIE7\\SensorData\\Smartphone1\\subject183_normal01\\Gyroscope.csv\n",
      "d:\\OneDrive - rwth-aachen.de\\EDU_Master\\1 Courses\\ws21\\Computational Intelligence in Engineering (VO) [21ws-41.09212]\\_Project\\CIE7\\SensorData\\Smartphone1\\subject183_normal02\\Gyroscope.csv\n",
      "d:\\OneDrive - rwth-aachen.de\\EDU_Master\\1 Courses\\ws21\\Computational Intelligence in Engineering (VO) [21ws-41.09212]\\_Project\\CIE7\\SensorData\\Smartphone3\\subject181_normal01\\Gyroscope.csv\n",
      "d:\\OneDrive - rwth-aachen.de\\EDU_Master\\1 Courses\\ws21\\Computational Intelligence in Engineering (VO) [21ws-41.09212]\\_Project\\CIE7\\SensorData\\Smartphone3\\subject181_normal02\\Gyroscope.csv\n",
      "d:\\OneDrive - rwth-aachen.de\\EDU_Master\\1 Courses\\ws21\\Computational Intelligence in Engineering (VO) [21ws-41.09212]\\_Project\\CIE7\\SensorData\\Smartphone3\\subject182_normal01\\Gyroscope.csv\n",
      "d:\\OneDrive - rwth-aachen.de\\EDU_Master\\1 Courses\\ws21\\Computational Intelligence in Engineering (VO) [21ws-41.09212]\\_Project\\CIE7\\SensorData\\Smartphone3\\subject182_normal02\\Gyroscope.csv\n",
      "d:\\OneDrive - rwth-aachen.de\\EDU_Master\\1 Courses\\ws21\\Computational Intelligence in Engineering (VO) [21ws-41.09212]\\_Project\\CIE7\\SensorData\\Smartphone3\\subject183_normal01\\Gyroscope.csv\n",
      "d:\\OneDrive - rwth-aachen.de\\EDU_Master\\1 Courses\\ws21\\Computational Intelligence in Engineering (VO) [21ws-41.09212]\\_Project\\CIE7\\SensorData\\Smartphone3\\subject183_normal02\\Gyroscope.csv\n"
     ]
    }
   ],
   "source": [
    "for subdir, dirs, files in os.walk(rootdir):\n",
    "    if s1 in subdir:\n",
    "        if normal in subdir:\n",
    "            for file in files:\n",
    "                if gyrFile in file:\n",
    "                    print(os.path.join(subdir, file))\n",
    "                    with open(os.path.join(subdir, file), 'r') as f: # open in read-only mode\n",
    "                        gyrData = pd.read_csv(f)\n",
    "                        # Assemble the data into a tensor\n",
    "                        gyrAssNormal_s1.append(gyrData)\n",
    "\n",
    "for subdir, dirs, files in os.walk(rootdir):\n",
    "    if s3 in subdir:\n",
    "        if normal in subdir:\n",
    "            for file in files:\n",
    "                if gyrFile in file:\n",
    "                    print(os.path.join(subdir, file))\n",
    "                    with open(os.path.join(subdir, file), 'r') as f: # open in read-only mode\n",
    "                        gyrData = pd.read_csv(f)\n",
    "                        # Assemble the data into a tensor\n",
    "                        gyrAssNormal_s3.append(gyrData)                        \n",
    "#End of file data import and processing"
   ]
  },
  {
   "cell_type": "markdown",
   "metadata": {},
   "source": [
    "# Parsing Gyroscope Upstairs Data (Smartphone 1 - Rear Right) & (Smartphone 3 - Front Right)"
   ]
  },
  {
   "cell_type": "code",
   "execution_count": 33,
   "metadata": {},
   "outputs": [
    {
     "name": "stdout",
     "output_type": "stream",
     "text": [
      "d:\\OneDrive - rwth-aachen.de\\EDU_Master\\1 Courses\\ws21\\Computational Intelligence in Engineering (VO) [21ws-41.09212]\\_Project\\CIE7\\SensorData\\Smartphone1\\subject181_upstairs01\\Gyroscope.csv\n",
      "d:\\OneDrive - rwth-aachen.de\\EDU_Master\\1 Courses\\ws21\\Computational Intelligence in Engineering (VO) [21ws-41.09212]\\_Project\\CIE7\\SensorData\\Smartphone1\\subject181_upstairs02\\Gyroscope.csv\n",
      "d:\\OneDrive - rwth-aachen.de\\EDU_Master\\1 Courses\\ws21\\Computational Intelligence in Engineering (VO) [21ws-41.09212]\\_Project\\CIE7\\SensorData\\Smartphone1\\subject182_upstairs01\\Gyroscope.csv\n",
      "d:\\OneDrive - rwth-aachen.de\\EDU_Master\\1 Courses\\ws21\\Computational Intelligence in Engineering (VO) [21ws-41.09212]\\_Project\\CIE7\\SensorData\\Smartphone1\\subject182_upstairs02\\Gyroscope.csv\n",
      "d:\\OneDrive - rwth-aachen.de\\EDU_Master\\1 Courses\\ws21\\Computational Intelligence in Engineering (VO) [21ws-41.09212]\\_Project\\CIE7\\SensorData\\Smartphone1\\subject183_upstairs01\\Gyroscope.csv\n",
      "d:\\OneDrive - rwth-aachen.de\\EDU_Master\\1 Courses\\ws21\\Computational Intelligence in Engineering (VO) [21ws-41.09212]\\_Project\\CIE7\\SensorData\\Smartphone1\\subject183_upstairs02\\Gyroscope.csv\n",
      "d:\\OneDrive - rwth-aachen.de\\EDU_Master\\1 Courses\\ws21\\Computational Intelligence in Engineering (VO) [21ws-41.09212]\\_Project\\CIE7\\SensorData\\Smartphone3\\subject181_upstairs01\\Gyroscope.csv\n",
      "d:\\OneDrive - rwth-aachen.de\\EDU_Master\\1 Courses\\ws21\\Computational Intelligence in Engineering (VO) [21ws-41.09212]\\_Project\\CIE7\\SensorData\\Smartphone3\\subject181_upstairs02\\Gyroscope.csv\n",
      "d:\\OneDrive - rwth-aachen.de\\EDU_Master\\1 Courses\\ws21\\Computational Intelligence in Engineering (VO) [21ws-41.09212]\\_Project\\CIE7\\SensorData\\Smartphone3\\subject182_upstairs01\\Gyroscope.csv\n",
      "d:\\OneDrive - rwth-aachen.de\\EDU_Master\\1 Courses\\ws21\\Computational Intelligence in Engineering (VO) [21ws-41.09212]\\_Project\\CIE7\\SensorData\\Smartphone3\\subject182_upstairs02\\Gyroscope.csv\n",
      "d:\\OneDrive - rwth-aachen.de\\EDU_Master\\1 Courses\\ws21\\Computational Intelligence in Engineering (VO) [21ws-41.09212]\\_Project\\CIE7\\SensorData\\Smartphone3\\subject183_upstairs01\\Gyroscope.csv\n"
     ]
    }
   ],
   "source": [
    "for subdir, dirs, files in os.walk(rootdir):\n",
    "    if s1 in subdir:\n",
    "        if upstairs in subdir:\n",
    "            for file in files:\n",
    "                if gyrFile in file:\n",
    "                    print(os.path.join(subdir, file))\n",
    "                    with open(os.path.join(subdir, file), 'r') as f: # open in read-only mode\n",
    "                        gyrData = pd.read_csv(f)\n",
    "                        \n",
    "                        # Assemble the data into a tensor\n",
    "                        gyrAssUpstairs_s1.append(gyrData)\n",
    "\n",
    "for subdir, dirs, files in os.walk(rootdir):\n",
    "    if s3 in subdir:\n",
    "        if upstairs in subdir:\n",
    "            for file in files:\n",
    "                if gyrFile in file:\n",
    "                    print(os.path.join(subdir, file))\n",
    "                    with open(os.path.join(subdir, file), 'r') as f: # open in read-only mode\n",
    "                        gyrData = pd.read_csv(f)\n",
    "                        \n",
    "                        # Assemble the data into a tensor\n",
    "                        gyrAssUpstairs_s3.append(gyrData)                        \n",
    "#End of file data import and processing"
   ]
  },
  {
   "cell_type": "markdown",
   "metadata": {},
   "source": [
    "# Parsing Gyroscope Downstairs Data (Smartphone 1 - Rear Right) & (Smartphone 3 - Front Right)"
   ]
  },
  {
   "cell_type": "code",
   "execution_count": 34,
   "metadata": {},
   "outputs": [
    {
     "name": "stdout",
     "output_type": "stream",
     "text": [
      "d:\\OneDrive - rwth-aachen.de\\EDU_Master\\1 Courses\\ws21\\Computational Intelligence in Engineering (VO) [21ws-41.09212]\\_Project\\CIE7\\SensorData\\Smartphone1\\subject181_downstairs01\\Gyroscope.csv\n",
      "d:\\OneDrive - rwth-aachen.de\\EDU_Master\\1 Courses\\ws21\\Computational Intelligence in Engineering (VO) [21ws-41.09212]\\_Project\\CIE7\\SensorData\\Smartphone1\\subject181_downstairs02\\Gyroscope.csv\n",
      "d:\\OneDrive - rwth-aachen.de\\EDU_Master\\1 Courses\\ws21\\Computational Intelligence in Engineering (VO) [21ws-41.09212]\\_Project\\CIE7\\SensorData\\Smartphone1\\subject182_downstairs01\\Gyroscope.csv\n",
      "d:\\OneDrive - rwth-aachen.de\\EDU_Master\\1 Courses\\ws21\\Computational Intelligence in Engineering (VO) [21ws-41.09212]\\_Project\\CIE7\\SensorData\\Smartphone1\\subject182_downstairs02\\Gyroscope.csv\n",
      "d:\\OneDrive - rwth-aachen.de\\EDU_Master\\1 Courses\\ws21\\Computational Intelligence in Engineering (VO) [21ws-41.09212]\\_Project\\CIE7\\SensorData\\Smartphone1\\subject183_downstairs01\\Gyroscope.csv\n",
      "d:\\OneDrive - rwth-aachen.de\\EDU_Master\\1 Courses\\ws21\\Computational Intelligence in Engineering (VO) [21ws-41.09212]\\_Project\\CIE7\\SensorData\\Smartphone1\\subject183_downstairs02\\Gyroscope.csv\n",
      "d:\\OneDrive - rwth-aachen.de\\EDU_Master\\1 Courses\\ws21\\Computational Intelligence in Engineering (VO) [21ws-41.09212]\\_Project\\CIE7\\SensorData\\Smartphone3\\subject182_downstairs01\\Gyroscope.csv\n",
      "d:\\OneDrive - rwth-aachen.de\\EDU_Master\\1 Courses\\ws21\\Computational Intelligence in Engineering (VO) [21ws-41.09212]\\_Project\\CIE7\\SensorData\\Smartphone3\\subject182_downstairs02\\Gyroscope.csv\n",
      "d:\\OneDrive - rwth-aachen.de\\EDU_Master\\1 Courses\\ws21\\Computational Intelligence in Engineering (VO) [21ws-41.09212]\\_Project\\CIE7\\SensorData\\Smartphone3\\subject183_downstairs01\\Gyroscope.csv\n",
      "d:\\OneDrive - rwth-aachen.de\\EDU_Master\\1 Courses\\ws21\\Computational Intelligence in Engineering (VO) [21ws-41.09212]\\_Project\\CIE7\\SensorData\\Smartphone3\\subject183_downstairs02\\Gyroscope.csv\n"
     ]
    }
   ],
   "source": [
    "for subdir, dirs, files in os.walk(rootdir):\n",
    "    if s1 in subdir:\n",
    "        if downstairs in subdir:\n",
    "            for file in files:\n",
    "                if gyrFile in file:\n",
    "                    print(os.path.join(subdir, file))\n",
    "                    with open(os.path.join(subdir, file), 'r') as f: # open in read-only mode\n",
    "                        gyrData = pd.read_csv(f)\n",
    "                        \n",
    "                        # Assemble the data into a tensor\n",
    "                        gyrAssDownstairs_s1.append(gyrData)\n",
    "\n",
    "for subdir, dirs, files in os.walk(rootdir):\n",
    "    if s3 in subdir:\n",
    "        if downstairs in subdir:\n",
    "            for file in files:\n",
    "                if gyrFile in file:\n",
    "                    print(os.path.join(subdir, file))\n",
    "                    with open(os.path.join(subdir, file), 'r') as f: # open in read-only mode\n",
    "                        gyrData = pd.read_csv(f)\n",
    "                        \n",
    "                        # Assemble the data into a tensor\n",
    "                        gyrAssDownstairs_s3.append(gyrData)                        \n",
    "#End of file data import and processing"
   ]
  },
  {
   "cell_type": "markdown",
   "metadata": {},
   "source": [
    "# Parsing Accelerometer Normal Data (Smartphone 1 - Rear Right) & (Smartphone 3 - Front Right)"
   ]
  },
  {
   "cell_type": "code",
   "execution_count": 35,
   "metadata": {},
   "outputs": [
    {
     "name": "stdout",
     "output_type": "stream",
     "text": [
      "d:\\OneDrive - rwth-aachen.de\\EDU_Master\\1 Courses\\ws21\\Computational Intelligence in Engineering (VO) [21ws-41.09212]\\_Project\\CIE7\\SensorData\\Smartphone1\\subject181_normal01\\Accelerometer.csv\n",
      "d:\\OneDrive - rwth-aachen.de\\EDU_Master\\1 Courses\\ws21\\Computational Intelligence in Engineering (VO) [21ws-41.09212]\\_Project\\CIE7\\SensorData\\Smartphone1\\subject181_normal02\\Accelerometer.csv\n",
      "d:\\OneDrive - rwth-aachen.de\\EDU_Master\\1 Courses\\ws21\\Computational Intelligence in Engineering (VO) [21ws-41.09212]\\_Project\\CIE7\\SensorData\\Smartphone1\\subject182_normal01\\Accelerometer.csv\n",
      "d:\\OneDrive - rwth-aachen.de\\EDU_Master\\1 Courses\\ws21\\Computational Intelligence in Engineering (VO) [21ws-41.09212]\\_Project\\CIE7\\SensorData\\Smartphone1\\subject182_normal02\\Accelerometer.csv\n",
      "d:\\OneDrive - rwth-aachen.de\\EDU_Master\\1 Courses\\ws21\\Computational Intelligence in Engineering (VO) [21ws-41.09212]\\_Project\\CIE7\\SensorData\\Smartphone1\\subject183_normal01\\Accelerometer.csv\n",
      "d:\\OneDrive - rwth-aachen.de\\EDU_Master\\1 Courses\\ws21\\Computational Intelligence in Engineering (VO) [21ws-41.09212]\\_Project\\CIE7\\SensorData\\Smartphone1\\subject183_normal02\\Accelerometer.csv\n",
      "d:\\OneDrive - rwth-aachen.de\\EDU_Master\\1 Courses\\ws21\\Computational Intelligence in Engineering (VO) [21ws-41.09212]\\_Project\\CIE7\\SensorData\\Smartphone3\\subject181_normal01\\Accelerometer.csv\n",
      "d:\\OneDrive - rwth-aachen.de\\EDU_Master\\1 Courses\\ws21\\Computational Intelligence in Engineering (VO) [21ws-41.09212]\\_Project\\CIE7\\SensorData\\Smartphone3\\subject181_normal02\\Accelerometer.csv\n",
      "d:\\OneDrive - rwth-aachen.de\\EDU_Master\\1 Courses\\ws21\\Computational Intelligence in Engineering (VO) [21ws-41.09212]\\_Project\\CIE7\\SensorData\\Smartphone3\\subject182_normal01\\Accelerometer.csv\n",
      "d:\\OneDrive - rwth-aachen.de\\EDU_Master\\1 Courses\\ws21\\Computational Intelligence in Engineering (VO) [21ws-41.09212]\\_Project\\CIE7\\SensorData\\Smartphone3\\subject182_normal02\\Accelerometer.csv\n",
      "d:\\OneDrive - rwth-aachen.de\\EDU_Master\\1 Courses\\ws21\\Computational Intelligence in Engineering (VO) [21ws-41.09212]\\_Project\\CIE7\\SensorData\\Smartphone3\\subject183_normal01\\Accelerometer.csv\n",
      "d:\\OneDrive - rwth-aachen.de\\EDU_Master\\1 Courses\\ws21\\Computational Intelligence in Engineering (VO) [21ws-41.09212]\\_Project\\CIE7\\SensorData\\Smartphone3\\subject183_normal02\\Accelerometer.csv\n"
     ]
    }
   ],
   "source": [
    "for subdir, dirs, files in os.walk(rootdir):\n",
    "    if s1 in subdir:\n",
    "        if normal in subdir:\n",
    "            for file in files:\n",
    "                if accFile in file:\n",
    "                    print(os.path.join(subdir, file))\n",
    "                    with open(os.path.join(subdir, file), 'r') as f: # open in read-only mode\n",
    "                        accData = pd.read_csv(f)\n",
    "                        # Assemble the data into a tensor\n",
    "                        accAssNormal_s1.append(accData)\n",
    "\n",
    "for subdir, dirs, files in os.walk(rootdir):\n",
    "    if s3 in subdir:\n",
    "        if normal in subdir:\n",
    "            for file in files:\n",
    "                if accFile in file:\n",
    "                    print(os.path.join(subdir, file))\n",
    "                    with open(os.path.join(subdir, file), 'r') as f: # open in read-only mode\n",
    "                        accData = pd.read_csv(f)\n",
    "                        # Assemble the data into a tensor\n",
    "                        accAssNormal_s3.append(accData)                        \n",
    "#End of file data import and processing"
   ]
  },
  {
   "cell_type": "markdown",
   "metadata": {},
   "source": [
    "# Parsing Accelerometer Upstairs Data (Smartphone 1 - Rear Right) & (Smartphone 3 - Front Right)"
   ]
  },
  {
   "cell_type": "code",
   "execution_count": 36,
   "metadata": {},
   "outputs": [
    {
     "name": "stdout",
     "output_type": "stream",
     "text": [
      "d:\\OneDrive - rwth-aachen.de\\EDU_Master\\1 Courses\\ws21\\Computational Intelligence in Engineering (VO) [21ws-41.09212]\\_Project\\CIE7\\SensorData\\Smartphone1\\subject181_upstairs01\\Accelerometer.csv\n",
      "d:\\OneDrive - rwth-aachen.de\\EDU_Master\\1 Courses\\ws21\\Computational Intelligence in Engineering (VO) [21ws-41.09212]\\_Project\\CIE7\\SensorData\\Smartphone1\\subject181_upstairs02\\Accelerometer.csv\n",
      "d:\\OneDrive - rwth-aachen.de\\EDU_Master\\1 Courses\\ws21\\Computational Intelligence in Engineering (VO) [21ws-41.09212]\\_Project\\CIE7\\SensorData\\Smartphone1\\subject182_upstairs01\\Accelerometer.csv\n",
      "d:\\OneDrive - rwth-aachen.de\\EDU_Master\\1 Courses\\ws21\\Computational Intelligence in Engineering (VO) [21ws-41.09212]\\_Project\\CIE7\\SensorData\\Smartphone1\\subject182_upstairs02\\Accelerometer.csv\n",
      "d:\\OneDrive - rwth-aachen.de\\EDU_Master\\1 Courses\\ws21\\Computational Intelligence in Engineering (VO) [21ws-41.09212]\\_Project\\CIE7\\SensorData\\Smartphone1\\subject183_upstairs01\\Accelerometer.csv\n",
      "d:\\OneDrive - rwth-aachen.de\\EDU_Master\\1 Courses\\ws21\\Computational Intelligence in Engineering (VO) [21ws-41.09212]\\_Project\\CIE7\\SensorData\\Smartphone1\\subject183_upstairs02\\Accelerometer.csv\n",
      "d:\\OneDrive - rwth-aachen.de\\EDU_Master\\1 Courses\\ws21\\Computational Intelligence in Engineering (VO) [21ws-41.09212]\\_Project\\CIE7\\SensorData\\Smartphone3\\subject181_upstairs01\\Accelerometer.csv\n",
      "d:\\OneDrive - rwth-aachen.de\\EDU_Master\\1 Courses\\ws21\\Computational Intelligence in Engineering (VO) [21ws-41.09212]\\_Project\\CIE7\\SensorData\\Smartphone3\\subject181_upstairs02\\Accelerometer.csv\n",
      "d:\\OneDrive - rwth-aachen.de\\EDU_Master\\1 Courses\\ws21\\Computational Intelligence in Engineering (VO) [21ws-41.09212]\\_Project\\CIE7\\SensorData\\Smartphone3\\subject182_upstairs01\\Accelerometer.csv\n",
      "d:\\OneDrive - rwth-aachen.de\\EDU_Master\\1 Courses\\ws21\\Computational Intelligence in Engineering (VO) [21ws-41.09212]\\_Project\\CIE7\\SensorData\\Smartphone3\\subject182_upstairs02\\Accelerometer.csv\n",
      "d:\\OneDrive - rwth-aachen.de\\EDU_Master\\1 Courses\\ws21\\Computational Intelligence in Engineering (VO) [21ws-41.09212]\\_Project\\CIE7\\SensorData\\Smartphone3\\subject183_upstairs01\\Accelerometer.csv\n"
     ]
    }
   ],
   "source": [
    "for subdir, dirs, files in os.walk(rootdir):\n",
    "    if s1 in subdir:\n",
    "        if upstairs in subdir:\n",
    "            for file in files:\n",
    "                if accFile in file:\n",
    "                    print(os.path.join(subdir, file))\n",
    "                    with open(os.path.join(subdir, file), 'r') as f: # open in read-only mode\n",
    "                        accData = pd.read_csv(f)\n",
    "                        \n",
    "                        # Assemble the data into a tensor\n",
    "                        accAssUpstairs_s1.append(accData)\n",
    "\n",
    "for subdir, dirs, files in os.walk(rootdir):\n",
    "    if s3 in subdir:\n",
    "        if upstairs in subdir:\n",
    "            for file in files:\n",
    "                if accFile in file:\n",
    "                    print(os.path.join(subdir, file))\n",
    "                    with open(os.path.join(subdir, file), 'r') as f: # open in read-only mode\n",
    "                        accData = pd.read_csv(f)\n",
    "                        \n",
    "                        # Assemble the data into a tensor\n",
    "                        accAssUpstairs_s3.append(accData)                        \n",
    "#End of file data import and processing"
   ]
  },
  {
   "cell_type": "markdown",
   "metadata": {},
   "source": [
    "# Parsing Accelerometer Downstairs Data (Smartphone 1 - Rear Right) & (Smartphone 3 - Front Right)"
   ]
  },
  {
   "cell_type": "code",
   "execution_count": 37,
   "metadata": {},
   "outputs": [
    {
     "name": "stdout",
     "output_type": "stream",
     "text": [
      "d:\\OneDrive - rwth-aachen.de\\EDU_Master\\1 Courses\\ws21\\Computational Intelligence in Engineering (VO) [21ws-41.09212]\\_Project\\CIE7\\SensorData\\Smartphone1\\subject181_downstairs01\\Accelerometer.csv\n",
      "d:\\OneDrive - rwth-aachen.de\\EDU_Master\\1 Courses\\ws21\\Computational Intelligence in Engineering (VO) [21ws-41.09212]\\_Project\\CIE7\\SensorData\\Smartphone1\\subject181_downstairs02\\Accelerometer.csv\n",
      "d:\\OneDrive - rwth-aachen.de\\EDU_Master\\1 Courses\\ws21\\Computational Intelligence in Engineering (VO) [21ws-41.09212]\\_Project\\CIE7\\SensorData\\Smartphone1\\subject182_downstairs01\\Accelerometer.csv\n",
      "d:\\OneDrive - rwth-aachen.de\\EDU_Master\\1 Courses\\ws21\\Computational Intelligence in Engineering (VO) [21ws-41.09212]\\_Project\\CIE7\\SensorData\\Smartphone1\\subject182_downstairs02\\Accelerometer.csv\n",
      "d:\\OneDrive - rwth-aachen.de\\EDU_Master\\1 Courses\\ws21\\Computational Intelligence in Engineering (VO) [21ws-41.09212]\\_Project\\CIE7\\SensorData\\Smartphone1\\subject183_downstairs01\\Accelerometer.csv\n",
      "d:\\OneDrive - rwth-aachen.de\\EDU_Master\\1 Courses\\ws21\\Computational Intelligence in Engineering (VO) [21ws-41.09212]\\_Project\\CIE7\\SensorData\\Smartphone1\\subject183_downstairs02\\Accelerometer.csv\n",
      "d:\\OneDrive - rwth-aachen.de\\EDU_Master\\1 Courses\\ws21\\Computational Intelligence in Engineering (VO) [21ws-41.09212]\\_Project\\CIE7\\SensorData\\Smartphone3\\subject182_downstairs01\\Accelerometer.csv\n",
      "d:\\OneDrive - rwth-aachen.de\\EDU_Master\\1 Courses\\ws21\\Computational Intelligence in Engineering (VO) [21ws-41.09212]\\_Project\\CIE7\\SensorData\\Smartphone3\\subject182_downstairs02\\Accelerometer.csv\n",
      "d:\\OneDrive - rwth-aachen.de\\EDU_Master\\1 Courses\\ws21\\Computational Intelligence in Engineering (VO) [21ws-41.09212]\\_Project\\CIE7\\SensorData\\Smartphone3\\subject183_downstairs01\\Accelerometer.csv\n",
      "d:\\OneDrive - rwth-aachen.de\\EDU_Master\\1 Courses\\ws21\\Computational Intelligence in Engineering (VO) [21ws-41.09212]\\_Project\\CIE7\\SensorData\\Smartphone3\\subject183_downstairs02\\Accelerometer.csv\n"
     ]
    }
   ],
   "source": [
    "for subdir, dirs, files in os.walk(rootdir):\n",
    "    if s1 in subdir:\n",
    "        if downstairs in subdir:\n",
    "            for file in files:\n",
    "                if accFile in file:\n",
    "                    print(os.path.join(subdir, file))\n",
    "                    with open(os.path.join(subdir, file), 'r') as f: # open in read-only mode\n",
    "                        accData = pd.read_csv(f)\n",
    "                        \n",
    "                        # Assemble the data into a tensor\n",
    "                        accAssDownstairs_s1.append(accData)\n",
    "\n",
    "for subdir, dirs, files in os.walk(rootdir):\n",
    "    if s3 in subdir:\n",
    "        if downstairs in subdir:\n",
    "            for file in files:\n",
    "                if accFile in file:\n",
    "                    print(os.path.join(subdir, file))\n",
    "                    with open(os.path.join(subdir, file), 'r') as f: # open in read-only mode\n",
    "                        accData = pd.read_csv(f)\n",
    "                        \n",
    "                        # Assemble the data into a tensor\n",
    "                        accAssDownstairs_s3.append(accData)                        \n",
    "#End of file data import and processing"
   ]
  },
  {
   "cell_type": "code",
   "execution_count": 38,
   "metadata": {},
   "outputs": [
    {
     "data": {
      "image/png": "[encoded data removed]",
      "text/plain": [
       "<Figure size 432x288 with 1 Axes>"
      ]
     },
     "metadata": {
      "needs_background": "light"
     },
     "output_type": "display_data"
    }
   ],
   "source": [
    "def plotter(t1, y1, label1, t2, y2, label2):\n",
    "    plt.plot(t1, y1, label=label1)\n",
    "    plt.plot(t2, y2, label=label2)\n",
    "\n",
    "    plt.xlabel('Time (s)')\n",
    "    plt.ylabel('Angular velocity (rad/s)')\n",
    "    plt.title('Gyroscope_Normal')\n",
    "    plt.legend()\n",
    "    plt.show()\n",
    "\n",
    "plotter(gyrAssNormal_s1[0]['Time (s)'], gyrAssNormal_s1[0]['X (rad/s)'], 'X1',gyrAssNormal_s3[0]['Time (s)'], gyrAssNormal_s3[0]['X (rad/s)'], 'X2')"
   ]
  }
 ],
 "metadata": {
  "interpreter": {
   "hash": "d27c620567fe2d1f3f91b14d158f32cde7e2c4b18fc4163e5eb414de6a296357"
  },
  "kernelspec": {
   "display_name": "Python 3.8.12 64-bit ('ai': conda)",
   "language": "python",
   "name": "python3"
  },
  "language_info": {
   "codemirror_mode": {
    "name": "ipython",
    "version": 3
   },
   "file_extension": ".py",
   "mimetype": "text/x-python",
   "name": "python",
   "nbconvert_exporter": "python",
   "pygments_lexer": "ipython3",
   "version": "3.8.12"
  },
  "orig_nbformat": 4
 },
 "nbformat": 4,
 "nbformat_minor": 2
}
