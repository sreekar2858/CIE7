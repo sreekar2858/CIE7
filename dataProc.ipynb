{
 "cells": [
  {
   "cell_type": "markdown",
   "metadata": {},
   "source": [
    "## Imports"
   ]
  },
  {
   "cell_type": "code",
   "execution_count": 1,
   "metadata": {},
   "outputs": [],
   "source": [
    "import os\n",
    "\n",
    "import pandas as pd\n",
    "import numpy as np\n",
    "import matplotlib.pyplot as plt\n",
    "# import tensorflow as tf"
   ]
  },
  {
   "cell_type": "code",
   "execution_count": 2,
   "metadata": {},
   "outputs": [],
   "source": [
    "rootdir = os.getcwd()\n",
    "os.chdir(rootdir)"
   ]
  },
  {
   "cell_type": "markdown",
   "metadata": {},
   "source": [
    "## Variable Assignment"
   ]
  },
  {
   "cell_type": "code",
   "execution_count": 3,
   "metadata": {},
   "outputs": [],
   "source": [
    "gyrFile = 'Gyroscope'\n",
    "accFile = 'Accelerometer'\n",
    "\n",
    "normal = 'normal'\n",
    "\n",
    "upstairs = 'upstairs'\n",
    "downstairs = 'downstairs'\n",
    "\n",
    "s1 = 'Smartphone1'\n",
    "s3 = 'Smartphone3'\n",
    "\n",
    "gaitpos = ['Normal', 'Upstairs', 'Downstairs']\n",
    "\n",
    "# defining arrays for gyroscope data\n",
    "gyrAssNormal_s1 = []\n",
    "gyrAssUpstairs_s1 = []\n",
    "gyrAssDownstairs_s1 = []\n",
    "\n",
    "gyrAssNormal_s3 = []\n",
    "gyrAssUpstairs_s3 = []\n",
    "gyrAssDownstairs_s3 = []\n",
    "\n",
    "#defining arrays for accelerometer data\n",
    "accAssNormal_s1 = []\n",
    "accAssUpstairs_s1 = []\n",
    "accAssDownstairs_s1 = []\n",
    "\n",
    "accAssNormal_s3 = []\n",
    "accAssUpstairs_s3 = []\n",
    "accAssDownstairs_s3 = []"
   ]
  },
  {
   "cell_type": "markdown",
   "metadata": {},
   "source": [
    "## Data Parsing"
   ]
  },
  {
   "cell_type": "markdown",
   "metadata": {},
   "source": [
    "### Parsing Gyroscope Normal Data (Smartphone 1 - Rear Right) & (Smartphone 3 - Front Right)"
   ]
  },
  {
   "cell_type": "code",
   "execution_count": 4,
   "metadata": {},
   "outputs": [],
   "source": [
    "for subdir, dirs, files in os.walk(rootdir):\n",
    "    if s1 in subdir:\n",
    "        if normal in subdir:\n",
    "            for file in files:\n",
    "                if gyrFile in file:\n",
    "                    #print(os.path.join(subdir, file))\n",
    "\n",
    "                    with open(os.path.join(subdir, file), 'r') as f: # open in read-only mode\n",
    "                        gyrData = pd.read_csv(f)\n",
    "                        # Assemble the data into a tensor\n",
    "                        gyrAssNormal_s1.append(gyrData)\n",
    "\n",
    "for subdir, dirs, files in os.walk(rootdir):\n",
    "    if s3 in subdir:\n",
    "        if normal in subdir:\n",
    "            for file in files:\n",
    "                if gyrFile in file:\n",
    "                    #print(os.path.join(subdir, file))\n",
    "                    \n",
    "                    with open(os.path.join(subdir, file), 'r') as f: # open in read-only mode\n",
    "                        gyrData = pd.read_csv(f)\n",
    "                        # Assemble the data into a tensor\n",
    "                        gyrAssNormal_s3.append(gyrData)                        \n",
    "#End of file data import and processing"
   ]
  },
  {
   "cell_type": "markdown",
   "metadata": {},
   "source": [
    "### Parsing Gyroscope Upstairs Data (Smartphone 1 - Rear Right) & (Smartphone 3 - Front Right)"
   ]
  },
  {
   "cell_type": "code",
   "execution_count": 5,
   "metadata": {},
   "outputs": [],
   "source": [
    "for subdir, dirs, files in os.walk(rootdir):\n",
    "    if s1 in subdir:\n",
    "        if upstairs in subdir:\n",
    "            for file in files:\n",
    "                if gyrFile in file:\n",
    "                    #print(os.path.join(subdir, file))\n",
    "                    \n",
    "                    with open(os.path.join(subdir, file), 'r') as f: # open in read-only mode\n",
    "                        gyrData = pd.read_csv(f)\n",
    "                        \n",
    "                        # Assemble the data into a tensor\n",
    "                        gyrAssUpstairs_s1.append(gyrData)\n",
    "\n",
    "for subdir, dirs, files in os.walk(rootdir):\n",
    "    if s3 in subdir:\n",
    "        if upstairs in subdir:\n",
    "            for file in files:\n",
    "                if gyrFile in file:\n",
    "                    #print(os.path.join(subdir, file))\n",
    "\n",
    "                    with open(os.path.join(subdir, file), 'r') as f: # open in read-only mode\n",
    "                        gyrData = pd.read_csv(f)\n",
    "                        \n",
    "                        # Assemble the data into a tensor\n",
    "                        gyrAssUpstairs_s3.append(gyrData)                        \n",
    "#End of file data import and processing"
   ]
  },
  {
   "cell_type": "markdown",
   "metadata": {},
   "source": [
    "### Parsing Gyroscope Downstairs Data (Smartphone 1 - Rear Right) & (Smartphone 3 - Front Right)"
   ]
  },
  {
   "cell_type": "code",
   "execution_count": 6,
   "metadata": {},
   "outputs": [],
   "source": [
    "for subdir, dirs, files in os.walk(rootdir):\n",
    "    if s1 in subdir:\n",
    "        if downstairs in subdir:\n",
    "            for file in files:\n",
    "                if gyrFile in file:\n",
    "                    # print(os.path.join(subdir, file))\n",
    "\n",
    "                    with open(os.path.join(subdir, file), 'r') as f: # open in read-only mode\n",
    "                        gyrData = pd.read_csv(f)\n",
    "                        \n",
    "                        # Assemble the data into a tensor\n",
    "                        gyrAssDownstairs_s1.append(gyrData)\n",
    "\n",
    "for subdir, dirs, files in os.walk(rootdir):\n",
    "    if s3 in subdir:\n",
    "        if downstairs in subdir:\n",
    "            for file in files:\n",
    "                if gyrFile in file:\n",
    "                    #print(os.path.join(subdir, file))\n",
    "                    \n",
    "                    with open(os.path.join(subdir, file), 'r') as f: # open in read-only mode\n",
    "                        gyrData = pd.read_csv(f)\n",
    "                        \n",
    "                        # Assemble the data into a tensor\n",
    "                        gyrAssDownstairs_s3.append(gyrData)                        \n",
    "#End of file data import and processing"
   ]
  },
  {
   "cell_type": "markdown",
   "metadata": {},
   "source": [
    "### Parsing Accelerometer Normal Data (Smartphone 1 - Rear Right) & (Smartphone 3 - Front Right)"
   ]
  },
  {
   "cell_type": "code",
   "execution_count": 7,
   "metadata": {},
   "outputs": [],
   "source": [
    "for subdir, dirs, files in os.walk(rootdir):\n",
    "    if s1 in subdir:\n",
    "        if normal in subdir:\n",
    "            for file in files:\n",
    "                if accFile in file:\n",
    "                    # print(os.path.join(subdir, file))\n",
    "\n",
    "                    with open(os.path.join(subdir, file), 'r') as f: # open in read-only mode\n",
    "                        accData = pd.read_csv(f)\n",
    "                        # Assemble the data into a tensor\n",
    "                        accAssNormal_s1.append(accData)\n",
    "\n",
    "for subdir, dirs, files in os.walk(rootdir):\n",
    "    if s3 in subdir:\n",
    "        if normal in subdir:\n",
    "            for file in files:\n",
    "                if accFile in file:\n",
    "                    # print(os.path.join(subdir, file))\n",
    "                    \n",
    "                    with open(os.path.join(subdir, file), 'r') as f: # open in read-only mode\n",
    "                        accData = pd.read_csv(f)\n",
    "                        # Assemble the data into a tensor\n",
    "                        accAssNormal_s3.append(accData)                        \n",
    "#End of file data import and processing"
   ]
  },
  {
   "cell_type": "markdown",
   "metadata": {},
   "source": [
    "### Parsing Accelerometer Upstairs Data (Smartphone 1 - Rear Right) & (Smartphone 3 - Front Right)"
   ]
  },
  {
   "cell_type": "code",
   "execution_count": 8,
   "metadata": {},
   "outputs": [],
   "source": [
    "for subdir, dirs, files in os.walk(rootdir):\n",
    "    if s1 in subdir:\n",
    "        if upstairs in subdir:\n",
    "            for file in files:\n",
    "                if accFile in file:\n",
    "                    # print(os.path.join(subdir, file))\n",
    "                    \n",
    "                    with open(os.path.join(subdir, file), 'r') as f: # open in read-only mode\n",
    "                        accData = pd.read_csv(f)\n",
    "                        \n",
    "                        # Assemble the data into a tensor\n",
    "                        accAssUpstairs_s1.append(accData)\n",
    "\n",
    "for subdir, dirs, files in os.walk(rootdir):\n",
    "    if s3 in subdir:\n",
    "        if upstairs in subdir:\n",
    "            for file in files:\n",
    "                if accFile in file:\n",
    "                    # print(os.path.join(subdir, file))\n",
    "\n",
    "                    with open(os.path.join(subdir, file), 'r') as f: # open in read-only mode\n",
    "                        accData = pd.read_csv(f)\n",
    "                        \n",
    "                        # Assemble the data into a tensor\n",
    "                        accAssUpstairs_s3.append(accData)                        \n",
    "#End of file data import and processing"
   ]
  },
  {
   "cell_type": "markdown",
   "metadata": {},
   "source": [
    "### Parsing Accelerometer Downstairs Data (Smartphone 1 - Rear Right) & (Smartphone 3 - Front Right)"
   ]
  },
  {
   "cell_type": "code",
   "execution_count": 9,
   "metadata": {},
   "outputs": [],
   "source": [
    "for subdir, dirs, files in os.walk(rootdir):\n",
    "    if s1 in subdir:\n",
    "        if downstairs in subdir:\n",
    "            for file in files:\n",
    "                if accFile in file:\n",
    "                    # print(os.path.join(subdir, file))\n",
    "\n",
    "                    with open(os.path.join(subdir, file), 'r') as f: # open in read-only mode\n",
    "                        accData = pd.read_csv(f)\n",
    "                        \n",
    "                        # Assemble the data into a tensor\n",
    "                        accAssDownstairs_s1.append(accData)\n",
    "\n",
    "for subdir, dirs, files in os.walk(rootdir):\n",
    "    if s3 in subdir:\n",
    "        if downstairs in subdir:\n",
    "            for file in files:\n",
    "                if accFile in file:\n",
    "                    # print(os.path.join(subdir, file))\n",
    "                    \n",
    "                    with open(os.path.join(subdir, file), 'r') as f: # open in read-only mode\n",
    "                        accData = pd.read_csv(f)\n",
    "                        \n",
    "                        # Assemble the data into a tensor\n",
    "                        accAssDownstairs_s3.append(accData)                        \n",
    "#End of file data import and processing"
   ]
  },
  {
   "cell_type": "markdown",
   "metadata": {},
   "source": [
    "## Data Validation and Preprocessing"
   ]
  },
  {
   "cell_type": "markdown",
   "metadata": {},
   "source": [
    "### Check if the data is collected correctly"
   ]
  },
  {
   "cell_type": "code",
   "execution_count": 10,
   "metadata": {},
   "outputs": [
    {
     "name": "stdout",
     "output_type": "stream",
     "text": [
      "Gyroscope Normal Smartphone 1:  (6,)\n",
      "Accelerometer Normal Smartphone 1:  (6,)\n",
      "Gyroscope Normal Smartphone 3:  (6,)\n",
      "Accelerometer Normal Smartphone 3:  (6,)\n",
      "\n",
      "\n",
      "Gyroscope Upstairs Smartphone 1:  (8,)\n",
      "Accelerometer Upstairs Smartphone 1:  (8,)\n",
      "Gyroscope Upstairs Smartphone 3:  (8,)\n",
      "Accelerometer Upstairs Smartphone 3:  (8,)\n",
      "\n",
      "\n",
      "Gyroscope Downstairs Smartphone 1:  (8,)\n",
      "Accelerometer Downstairs Smartphone 1:  (8,)\n",
      "Gyroscope Downstairs Smartphone 3:  (8,)\n",
      "Accelerometer Downstairs Smartphone 3:  (8,)\n",
      "\n",
      "\n"
     ]
    },
    {
     "name": "stderr",
     "output_type": "stream",
     "text": [
      "D:\\Users\\sreek\\anaconda3\\envs\\ai\\lib\\site-packages\\numpy\\core\\fromnumeric.py:1970: VisibleDeprecationWarning: Creating an ndarray from ragged nested sequences (which is a list-or-tuple of lists-or-tuples-or ndarrays with different lengths or shapes) is deprecated. If you meant to do this, you must specify 'dtype=object' when creating the ndarray.\n",
      "  result = asarray(a).shape\n"
     ]
    }
   ],
   "source": [
    "gaitpos = ['Normal', 'Upstairs', 'Downstairs']\n",
    "\n",
    "for j in gaitpos:\n",
    "    for i in range(1, 4, 2):\n",
    "        gyrl = eval('gyrAss'+str(j) +'_s'+ str(i))\n",
    "        accl = eval('accAss'+str(j) +'_s'+ str(i))       \n",
    "        \n",
    "        if np.shape(gyrl) == (10,) and np.shape(accl) == (10,):\n",
    "            print(\"Aquired all data from the group\")\n",
    "        else:\n",
    "            print(\"Gyroscope \" + str(j)+\" Smartphone \" + str(i)+ \": \", format(np.shape(gyrl)))\n",
    "            print(\"Accelerometer \" + str(j)+\" Smartphone \" + str(i)+ \": \", format(np.shape(accl)))\n",
    "\n",
    "    print(\"\\n\")"
   ]
  },
  {
   "cell_type": "markdown",
   "metadata": {},
   "source": [
    "### Check if all the data has the same frequency"
   ]
  },
  {
   "cell_type": "code",
   "execution_count": 11,
   "metadata": {},
   "outputs": [
    {
     "name": "stdout",
     "output_type": "stream",
     "text": [
      "0.025045875\n",
      "0.0121275\n",
      "0.05026095826\n",
      "0.04517233337\n",
      "0.05026095826\n",
      "0.04517233337\n",
      "0.1891980417\n",
      "0.161967\n",
      "0.09471083\n",
      "0.088704159\n",
      "0.090278686\n",
      "0.090528651\n",
      "0.032262331\n",
      "0.021973243\n",
      "0.01260975\n",
      "0.01797641667\n",
      "0.04352041672\n",
      "0.04835566669\n",
      "0.01777416667\n",
      "0.005375916669\n",
      "0.1630940833\n",
      "0.1529134167\n",
      "0.097089222\n",
      "0.090115898\n",
      "0.023269892\n",
      "0.033330071\n",
      "0.01037379167\n",
      "0.01114795834\n",
      "0.04901679175\n",
      "0.0440944999\n",
      "0.006479291667\n",
      "0.00318966667\n",
      "0.1570360833\n",
      "0.1587775833\n",
      "0.09170887\n",
      "0.09183272\n"
     ]
    }
   ],
   "source": [
    "gaitpos = ['Normal', 'Upstairs', 'Downstairs']\n",
    "\n",
    "for j in gaitpos:\n",
    "    for i in range(1, 4, 2):\n",
    "        for k in range(0, 6):    \n",
    "            gyrl = eval('gyrAss'+str(j) +'_s'+ str(i))\n",
    "            accl = eval('accAss'+str(j) +'_s'+ str(i))\n",
    "\n",
    "            print(gyrl[k]['Time (s)'][0])\n",
    "\n",
    "            freq = 1/(gyrl[k]['Time (s)'][1]-gyrl[k]['Time (s)'][0])\n"
   ]
  },
  {
   "cell_type": "markdown",
   "metadata": {},
   "source": [
    "## Plotttt"
   ]
  },
  {
   "cell_type": "code",
   "execution_count": 12,
   "metadata": {},
   "outputs": [
    {
     "data": {
      "image/png": "[encoded data removed]",
      "text/plain": [
       "<Figure size 432x288 with 1 Axes>"
      ]
     },
     "metadata": {
      "needs_background": "light"
     },
     "output_type": "display_data"
    },
    {
     "data": {
      "image/png": "[encoded data removed]",
      "text/plain": [
       "<Figure size 432x288 with 1 Axes>"
      ]
     },
     "metadata": {
      "needs_background": "light"
     },
     "output_type": "display_data"
    }
   ],
   "source": [
    "def gyrPlot(t, y, lbl):\n",
    "    plt.plot(t, y, label=lbl)\n",
    "\n",
    "    plt.xlabel('Time (s)')\n",
    "    plt.ylabel('Angular velocity (rad/s)')\n",
    "    plt.title('Gyroscope')\n",
    "    plt.legend()\n",
    "    plt.show()\n",
    "\n",
    "def accPlot(t, y, lbl):\n",
    "    plt.plot(t, y, label=lbl)\n",
    "\n",
    "    plt.xlabel('Time (s)')\n",
    "    plt.ylabel('Acceleration (m/s^2)')\n",
    "    plt.title('Accelerometer')\n",
    "    plt.legend()\n",
    "    plt.show()\n",
    "\n",
    "gyrPlot(gyrAssUpstairs_s1[5]['Time (s)'], gyrAssUpstairs_s1[5]['X (rad/s)'], 'Smartphone 1')\n",
    "gyrPlot(gyrAssUpstairs_s3[5]['Time (s)'], gyrAssUpstairs_s3[5]['Gyroscope x (rad/s)'], 'Smartphone 3')"
   ]
  },
  {
   "cell_type": "code",
   "execution_count": null,
   "metadata": {},
   "outputs": [],
   "source": []
  }
 ],
 "metadata": {
  "interpreter": {
   "hash": "d27c620567fe2d1f3f91b14d158f32cde7e2c4b18fc4163e5eb414de6a296357"
  },
  "kernelspec": {
   "display_name": "Python 3.8.12 64-bit ('ai': conda)",
   "language": "python",
   "name": "python3"
  },
  "language_info": {
   "codemirror_mode": {
    "name": "ipython",
    "version": 3
   },
   "file_extension": ".py",
   "mimetype": "text/x-python",
   "name": "python",
   "nbconvert_exporter": "python",
   "pygments_lexer": "ipython3",
   "version": "3.8.12"
  },
  "orig_nbformat": 4
 },
 "nbformat": 4,
 "nbformat_minor": 2
}
