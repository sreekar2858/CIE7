{
 "cells": [
  {
   "cell_type": "markdown",
   "metadata": {},
   "source": [
    "# CIE Project A - Group 7\n",
    "## ---> Data processing"
   ]
  },
  {
   "cell_type": "markdown",
   "metadata": {},
   "source": [
    "## Imports"
   ]
  },
  {
   "cell_type": "code",
   "execution_count": 24,
   "metadata": {},
   "outputs": [],
   "source": [
    "import os\n",
    "\n",
    "import pandas as pd\n",
    "import numpy as np\n",
    "from scipy import signal as sp\n",
    "import matplotlib.pyplot as plt\n",
    "plt.rcParams['figure.dpi'] = 100\n",
    "%matplotlib widget\n",
    "\n",
    "# import tensorflow as tf"
   ]
  },
  {
   "cell_type": "markdown",
   "metadata": {},
   "source": [
    "#### Get the root directory and change to it"
   ]
  },
  {
   "cell_type": "code",
   "execution_count": 25,
   "metadata": {},
   "outputs": [],
   "source": [
    "rootdir = os.getcwd()\n",
    "os.chdir(rootdir)"
   ]
  },
  {
   "cell_type": "markdown",
   "metadata": {},
   "source": [
    "## Variable Assignment"
   ]
  },
  {
   "cell_type": "code",
   "execution_count": 26,
   "metadata": {},
   "outputs": [],
   "source": [
    "gyrFile = 'Gyroscope'\n",
    "accFile = 'Accelerometer'\n",
    "\n",
    "normal = 'normal'\n",
    "upstairs = 'upstairs'\n",
    "downstairs = 'downstairs'\n",
    "\n",
    "s1 = 'Smartphone1'\n",
    "s3 = 'Smartphone3'\n",
    "\n",
    "# Gait position\n",
    "gaitpos = ['Normal', 'Upstairs', 'Downstairs']\n",
    "smartphone = [1, 3]"
   ]
  },
  {
   "cell_type": "markdown",
   "metadata": {},
   "source": [
    "## Data Parsing"
   ]
  },
  {
   "cell_type": "markdown",
   "metadata": {},
   "source": [
    "#### Define variables for raw data"
   ]
  },
  {
   "cell_type": "code",
   "execution_count": 27,
   "metadata": {},
   "outputs": [],
   "source": [
    "count = 0\n",
    "\n",
    "# Naming convention - gyr(oscope)+Ass(embly)+_s(martphone_location)) and Same for acceleraoemeter\n",
    "# All the data is stored in a list of dataframes. So, gyrAss{gaitpos}_s{martphone_location}[0, 1, 2, .....] gives the data as sorted by name in the file directory.\n",
    "# gyrAssNormal_s1[0] gives the gyroscope data of the subject180_Normal sample 01 in the normal gait position.\n",
    "# gyrAssNormal_s1[1] gives the gyroscope data of the subject180_Normal sample 02 in the normal gait position.\n",
    "# \n",
    "# gyrAssNormal_s[2] gives the gyroscope data of the subject181_Normal sample 01 in the normal gait position.\n",
    "# \n",
    "# and so on. \n",
    "\n",
    "# defining arrays for gyroscope data\n",
    "gyrAssNormal_s1 = []; gyrAssUpstairs_s1 = []; gyrAssDownstairs_s1 = []\n",
    "gyrAssNormal_s3 = []; gyrAssUpstairs_s3 = []; gyrAssDownstairs_s3 = []\n",
    "\n",
    "#defining arrays for accelerometer data\n",
    "accAssNormal_s1 = []; accAssUpstairs_s1 = []; accAssDownstairs_s1 = []\n",
    "accAssNormal_s3 = []; accAssUpstairs_s3 = []; accAssDownstairs_s3 = []"
   ]
  },
  {
   "cell_type": "markdown",
   "metadata": {},
   "source": [
    "### Parsing Gyroscope Normal Data (Smartphone 1 - Rear Right) & (Smartphone 3 - Front Right)"
   ]
  },
  {
   "cell_type": "code",
   "execution_count": 28,
   "metadata": {},
   "outputs": [
    {
     "name": "stdout",
     "output_type": "stream",
     "text": [
      "#191 -- d:\\OneDrive - rwth-aachen.de\\EDU_Master\\1 Courses\\ws21\\Computational Intelligence in Engineering (VO) [21ws-41.09212]\\_Project\\CIE7\\SensorData\\Data_Complete\\Smartphone3\\subject150_normal01\\Gyroscope.csv\n",
      "#192 -- d:\\OneDrive - rwth-aachen.de\\EDU_Master\\1 Courses\\ws21\\Computational Intelligence in Engineering (VO) [21ws-41.09212]\\_Project\\CIE7\\SensorData\\Data_Complete\\Smartphone3\\subject150_normal02\\Gyroscope.csv\n",
      "#193 -- d:\\OneDrive - rwth-aachen.de\\EDU_Master\\1 Courses\\ws21\\Computational Intelligence in Engineering (VO) [21ws-41.09212]\\_Project\\CIE7\\SensorData\\Data_Complete\\Smartphone3\\subject151_normal01\\Gyroscope.csv\n",
      "#194 -- d:\\OneDrive - rwth-aachen.de\\EDU_Master\\1 Courses\\ws21\\Computational Intelligence in Engineering (VO) [21ws-41.09212]\\_Project\\CIE7\\SensorData\\Data_Complete\\Smartphone3\\subject151_normal02\\Gyroscope.csv\n",
      "#195 -- d:\\OneDrive - rwth-aachen.de\\EDU_Master\\1 Courses\\ws21\\Computational Intelligence in Engineering (VO) [21ws-41.09212]\\_Project\\CIE7\\SensorData\\Data_Complete\\Smartphone3\\subject152_normal01\\Gyroscope.csv\n",
      "#196 -- d:\\OneDrive - rwth-aachen.de\\EDU_Master\\1 Courses\\ws21\\Computational Intelligence in Engineering (VO) [21ws-41.09212]\\_Project\\CIE7\\SensorData\\Data_Complete\\Smartphone3\\subject152_normal02\\Gyroscope.csv\n",
      "#197 -- d:\\OneDrive - rwth-aachen.de\\EDU_Master\\1 Courses\\ws21\\Computational Intelligence in Engineering (VO) [21ws-41.09212]\\_Project\\CIE7\\SensorData\\Data_Complete\\Smartphone3\\subject153_normal01\\Gyroscope.csv\n",
      "#198 -- d:\\OneDrive - rwth-aachen.de\\EDU_Master\\1 Courses\\ws21\\Computational Intelligence in Engineering (VO) [21ws-41.09212]\\_Project\\CIE7\\SensorData\\Data_Complete\\Smartphone3\\subject153_normal02\\Gyroscope.csv\n",
      "#199 -- d:\\OneDrive - rwth-aachen.de\\EDU_Master\\1 Courses\\ws21\\Computational Intelligence in Engineering (VO) [21ws-41.09212]\\_Project\\CIE7\\SensorData\\Data_Complete\\Smartphone3\\subject154_normal01\\Gyroscope.csv\n",
      "#200 -- d:\\OneDrive - rwth-aachen.de\\EDU_Master\\1 Courses\\ws21\\Computational Intelligence in Engineering (VO) [21ws-41.09212]\\_Project\\CIE7\\SensorData\\Data_Complete\\Smartphone3\\subject154_normal02\\Gyroscope.csv\n",
      "#201 -- d:\\OneDrive - rwth-aachen.de\\EDU_Master\\1 Courses\\ws21\\Computational Intelligence in Engineering (VO) [21ws-41.09212]\\_Project\\CIE7\\SensorData\\Data_Complete\\Smartphone3\\subject155_normal01\\Gyroscope.csv\n",
      "#202 -- d:\\OneDrive - rwth-aachen.de\\EDU_Master\\1 Courses\\ws21\\Computational Intelligence in Engineering (VO) [21ws-41.09212]\\_Project\\CIE7\\SensorData\\Data_Complete\\Smartphone3\\subject155_normal02\\Gyroscope.csv\n",
      "#203 -- d:\\OneDrive - rwth-aachen.de\\EDU_Master\\1 Courses\\ws21\\Computational Intelligence in Engineering (VO) [21ws-41.09212]\\_Project\\CIE7\\SensorData\\Data_Complete\\Smartphone3\\subject155_normal03\\Gyroscope.csv\n",
      "#204 -- d:\\OneDrive - rwth-aachen.de\\EDU_Master\\1 Courses\\ws21\\Computational Intelligence in Engineering (VO) [21ws-41.09212]\\_Project\\CIE7\\SensorData\\Data_Complete\\Smartphone3\\subject156_normal01\\Gyroscope.csv\n",
      "#205 -- d:\\OneDrive - rwth-aachen.de\\EDU_Master\\1 Courses\\ws21\\Computational Intelligence in Engineering (VO) [21ws-41.09212]\\_Project\\CIE7\\SensorData\\Data_Complete\\Smartphone3\\subject156_normal02\\Gyroscope.csv\n",
      "#206 -- d:\\OneDrive - rwth-aachen.de\\EDU_Master\\1 Courses\\ws21\\Computational Intelligence in Engineering (VO) [21ws-41.09212]\\_Project\\CIE7\\SensorData\\Data_Complete\\Smartphone3\\subject157_normal01\\Gyroscope.csv\n",
      "#207 -- d:\\OneDrive - rwth-aachen.de\\EDU_Master\\1 Courses\\ws21\\Computational Intelligence in Engineering (VO) [21ws-41.09212]\\_Project\\CIE7\\SensorData\\Data_Complete\\Smartphone3\\subject157_normal02\\Gyroscope.csv\n",
      "#208 -- d:\\OneDrive - rwth-aachen.de\\EDU_Master\\1 Courses\\ws21\\Computational Intelligence in Engineering (VO) [21ws-41.09212]\\_Project\\CIE7\\SensorData\\Data_Complete\\Smartphone3\\subject158_normal02\\Gyroscope.csv\n",
      "#209 -- d:\\OneDrive - rwth-aachen.de\\EDU_Master\\1 Courses\\ws21\\Computational Intelligence in Engineering (VO) [21ws-41.09212]\\_Project\\CIE7\\SensorData\\Data_Complete\\Smartphone3\\subject159_normal01\\Gyroscope.csv\n",
      "#210 -- d:\\OneDrive - rwth-aachen.de\\EDU_Master\\1 Courses\\ws21\\Computational Intelligence in Engineering (VO) [21ws-41.09212]\\_Project\\CIE7\\SensorData\\Data_Complete\\Smartphone3\\subject159_normal02\\Gyroscope.csv\n",
      "#211 -- d:\\OneDrive - rwth-aachen.de\\EDU_Master\\1 Courses\\ws21\\Computational Intelligence in Engineering (VO) [21ws-41.09212]\\_Project\\CIE7\\SensorData\\Data_Complete\\Smartphone3\\subject160_normal01\\Gyroscope.csv\n",
      "#212 -- d:\\OneDrive - rwth-aachen.de\\EDU_Master\\1 Courses\\ws21\\Computational Intelligence in Engineering (VO) [21ws-41.09212]\\_Project\\CIE7\\SensorData\\Data_Complete\\Smartphone3\\subject160_normal02\\Gyroscope.csv\n",
      "#213 -- d:\\OneDrive - rwth-aachen.de\\EDU_Master\\1 Courses\\ws21\\Computational Intelligence in Engineering (VO) [21ws-41.09212]\\_Project\\CIE7\\SensorData\\Data_Complete\\Smartphone3\\subject162_normal01\\Gyroscope.csv\n",
      "#214 -- d:\\OneDrive - rwth-aachen.de\\EDU_Master\\1 Courses\\ws21\\Computational Intelligence in Engineering (VO) [21ws-41.09212]\\_Project\\CIE7\\SensorData\\Data_Complete\\Smartphone3\\subject162_normal02\\Gyroscope.csv\n",
      "#215 -- d:\\OneDrive - rwth-aachen.de\\EDU_Master\\1 Courses\\ws21\\Computational Intelligence in Engineering (VO) [21ws-41.09212]\\_Project\\CIE7\\SensorData\\Data_Complete\\Smartphone3\\subject163_normal01\\Gyroscope.csv\n",
      "#216 -- d:\\OneDrive - rwth-aachen.de\\EDU_Master\\1 Courses\\ws21\\Computational Intelligence in Engineering (VO) [21ws-41.09212]\\_Project\\CIE7\\SensorData\\Data_Complete\\Smartphone3\\subject163_normal02\\Gyroscope.csv\n",
      "#217 -- d:\\OneDrive - rwth-aachen.de\\EDU_Master\\1 Courses\\ws21\\Computational Intelligence in Engineering (VO) [21ws-41.09212]\\_Project\\CIE7\\SensorData\\Data_Complete\\Smartphone3\\subject164_normal01\\Gyroscope.csv\n",
      "#218 -- d:\\OneDrive - rwth-aachen.de\\EDU_Master\\1 Courses\\ws21\\Computational Intelligence in Engineering (VO) [21ws-41.09212]\\_Project\\CIE7\\SensorData\\Data_Complete\\Smartphone3\\subject164_normal02\\Gyroscope.csv\n",
      "#219 -- d:\\OneDrive - rwth-aachen.de\\EDU_Master\\1 Courses\\ws21\\Computational Intelligence in Engineering (VO) [21ws-41.09212]\\_Project\\CIE7\\SensorData\\Data_Complete\\Smartphone3\\subject165_normal01\\Gyroscope.csv\n",
      "#220 -- d:\\OneDrive - rwth-aachen.de\\EDU_Master\\1 Courses\\ws21\\Computational Intelligence in Engineering (VO) [21ws-41.09212]\\_Project\\CIE7\\SensorData\\Data_Complete\\Smartphone3\\subject165_normal02\\Gyroscope.csv\n",
      "#221 -- d:\\OneDrive - rwth-aachen.de\\EDU_Master\\1 Courses\\ws21\\Computational Intelligence in Engineering (VO) [21ws-41.09212]\\_Project\\CIE7\\SensorData\\Data_Complete\\Smartphone3\\subject167_normal01\\Gyroscope.csv\n",
      "#222 -- d:\\OneDrive - rwth-aachen.de\\EDU_Master\\1 Courses\\ws21\\Computational Intelligence in Engineering (VO) [21ws-41.09212]\\_Project\\CIE7\\SensorData\\Data_Complete\\Smartphone3\\subject167_normal02\\Gyroscope.csv\n",
      "#223 -- d:\\OneDrive - rwth-aachen.de\\EDU_Master\\1 Courses\\ws21\\Computational Intelligence in Engineering (VO) [21ws-41.09212]\\_Project\\CIE7\\SensorData\\Data_Complete\\Smartphone3\\subject168_normal01\\Gyroscope.csv\n",
      "#224 -- d:\\OneDrive - rwth-aachen.de\\EDU_Master\\1 Courses\\ws21\\Computational Intelligence in Engineering (VO) [21ws-41.09212]\\_Project\\CIE7\\SensorData\\Data_Complete\\Smartphone3\\subject168_normal02\\Gyroscope.csv\n",
      "#225 -- d:\\OneDrive - rwth-aachen.de\\EDU_Master\\1 Courses\\ws21\\Computational Intelligence in Engineering (VO) [21ws-41.09212]\\_Project\\CIE7\\SensorData\\Data_Complete\\Smartphone3\\subject169_normal01\\Gyroscope.csv\n",
      "#226 -- d:\\OneDrive - rwth-aachen.de\\EDU_Master\\1 Courses\\ws21\\Computational Intelligence in Engineering (VO) [21ws-41.09212]\\_Project\\CIE7\\SensorData\\Data_Complete\\Smartphone3\\subject169_normal02\\Gyroscope.csv\n",
      "#227 -- d:\\OneDrive - rwth-aachen.de\\EDU_Master\\1 Courses\\ws21\\Computational Intelligence in Engineering (VO) [21ws-41.09212]\\_Project\\CIE7\\SensorData\\Data_Complete\\Smartphone3\\subject170_normal01\\Gyroscope.csv\n",
      "#228 -- d:\\OneDrive - rwth-aachen.de\\EDU_Master\\1 Courses\\ws21\\Computational Intelligence in Engineering (VO) [21ws-41.09212]\\_Project\\CIE7\\SensorData\\Data_Complete\\Smartphone3\\subject170_normal02\\Gyroscope.csv\n",
      "#229 -- d:\\OneDrive - rwth-aachen.de\\EDU_Master\\1 Courses\\ws21\\Computational Intelligence in Engineering (VO) [21ws-41.09212]\\_Project\\CIE7\\SensorData\\Data_Complete\\Smartphone3\\subject171_normal01\\Gyroscope.csv\n",
      "#230 -- d:\\OneDrive - rwth-aachen.de\\EDU_Master\\1 Courses\\ws21\\Computational Intelligence in Engineering (VO) [21ws-41.09212]\\_Project\\CIE7\\SensorData\\Data_Complete\\Smartphone3\\subject171_normal02\\Gyroscope.csv\n",
      "#231 -- d:\\OneDrive - rwth-aachen.de\\EDU_Master\\1 Courses\\ws21\\Computational Intelligence in Engineering (VO) [21ws-41.09212]\\_Project\\CIE7\\SensorData\\Data_Complete\\Smartphone3\\subject172_normal01\\Gyroscope.csv\n",
      "#232 -- d:\\OneDrive - rwth-aachen.de\\EDU_Master\\1 Courses\\ws21\\Computational Intelligence in Engineering (VO) [21ws-41.09212]\\_Project\\CIE7\\SensorData\\Data_Complete\\Smartphone3\\subject172_normal02\\Gyroscope.csv\n",
      "#233 -- d:\\OneDrive - rwth-aachen.de\\EDU_Master\\1 Courses\\ws21\\Computational Intelligence in Engineering (VO) [21ws-41.09212]\\_Project\\CIE7\\SensorData\\Data_Complete\\Smartphone3\\subject173_normal01\\Gyroscope.csv\n",
      "#234 -- d:\\OneDrive - rwth-aachen.de\\EDU_Master\\1 Courses\\ws21\\Computational Intelligence in Engineering (VO) [21ws-41.09212]\\_Project\\CIE7\\SensorData\\Data_Complete\\Smartphone3\\subject173_normal02\\Gyroscope.csv\n",
      "#235 -- d:\\OneDrive - rwth-aachen.de\\EDU_Master\\1 Courses\\ws21\\Computational Intelligence in Engineering (VO) [21ws-41.09212]\\_Project\\CIE7\\SensorData\\Data_Complete\\Smartphone3\\subject175_normal01\\Gyroscope.csv\n",
      "#236 -- d:\\OneDrive - rwth-aachen.de\\EDU_Master\\1 Courses\\ws21\\Computational Intelligence in Engineering (VO) [21ws-41.09212]\\_Project\\CIE7\\SensorData\\Data_Complete\\Smartphone3\\subject175_normal02\\Gyroscope.csv\n",
      "#237 -- d:\\OneDrive - rwth-aachen.de\\EDU_Master\\1 Courses\\ws21\\Computational Intelligence in Engineering (VO) [21ws-41.09212]\\_Project\\CIE7\\SensorData\\Data_Complete\\Smartphone3\\subject176_normal01\\Gyroscope.csv\n",
      "#238 -- d:\\OneDrive - rwth-aachen.de\\EDU_Master\\1 Courses\\ws21\\Computational Intelligence in Engineering (VO) [21ws-41.09212]\\_Project\\CIE7\\SensorData\\Data_Complete\\Smartphone3\\subject176_normal02\\Gyroscope.csv\n",
      "#239 -- d:\\OneDrive - rwth-aachen.de\\EDU_Master\\1 Courses\\ws21\\Computational Intelligence in Engineering (VO) [21ws-41.09212]\\_Project\\CIE7\\SensorData\\Data_Complete\\Smartphone3\\subject178_normal01\\Gyroscope.csv\n",
      "#240 -- d:\\OneDrive - rwth-aachen.de\\EDU_Master\\1 Courses\\ws21\\Computational Intelligence in Engineering (VO) [21ws-41.09212]\\_Project\\CIE7\\SensorData\\Data_Complete\\Smartphone3\\subject178_normal02\\Gyroscope.csv\n",
      "#241 -- d:\\OneDrive - rwth-aachen.de\\EDU_Master\\1 Courses\\ws21\\Computational Intelligence in Engineering (VO) [21ws-41.09212]\\_Project\\CIE7\\SensorData\\Data_Complete\\Smartphone3\\subject179_normal01\\Gyroscope.csv\n",
      "#242 -- d:\\OneDrive - rwth-aachen.de\\EDU_Master\\1 Courses\\ws21\\Computational Intelligence in Engineering (VO) [21ws-41.09212]\\_Project\\CIE7\\SensorData\\Data_Complete\\Smartphone3\\subject179_normal02\\Gyroscope.csv\n",
      "#243 -- d:\\OneDrive - rwth-aachen.de\\EDU_Master\\1 Courses\\ws21\\Computational Intelligence in Engineering (VO) [21ws-41.09212]\\_Project\\CIE7\\SensorData\\Data_Complete\\Smartphone3\\subject180_normal01\\Gyroscope.csv\n",
      "#244 -- d:\\OneDrive - rwth-aachen.de\\EDU_Master\\1 Courses\\ws21\\Computational Intelligence in Engineering (VO) [21ws-41.09212]\\_Project\\CIE7\\SensorData\\Data_Complete\\Smartphone3\\subject180_normal02\\Gyroscope.csv\n",
      "#245 -- d:\\OneDrive - rwth-aachen.de\\EDU_Master\\1 Courses\\ws21\\Computational Intelligence in Engineering (VO) [21ws-41.09212]\\_Project\\CIE7\\SensorData\\Data_Complete\\Smartphone3\\subject181_normal01\\Gyroscope.csv\n",
      "#246 -- d:\\OneDrive - rwth-aachen.de\\EDU_Master\\1 Courses\\ws21\\Computational Intelligence in Engineering (VO) [21ws-41.09212]\\_Project\\CIE7\\SensorData\\Data_Complete\\Smartphone3\\subject181_normal02\\Gyroscope.csv\n",
      "#247 -- d:\\OneDrive - rwth-aachen.de\\EDU_Master\\1 Courses\\ws21\\Computational Intelligence in Engineering (VO) [21ws-41.09212]\\_Project\\CIE7\\SensorData\\Data_Complete\\Smartphone3\\subject182_normal01\\Gyroscope.csv\n",
      "#248 -- d:\\OneDrive - rwth-aachen.de\\EDU_Master\\1 Courses\\ws21\\Computational Intelligence in Engineering (VO) [21ws-41.09212]\\_Project\\CIE7\\SensorData\\Data_Complete\\Smartphone3\\subject182_normal02\\Gyroscope.csv\n",
      "#249 -- d:\\OneDrive - rwth-aachen.de\\EDU_Master\\1 Courses\\ws21\\Computational Intelligence in Engineering (VO) [21ws-41.09212]\\_Project\\CIE7\\SensorData\\Data_Complete\\Smartphone3\\subject183_normal01\\Gyroscope.csv\n",
      "#250 -- d:\\OneDrive - rwth-aachen.de\\EDU_Master\\1 Courses\\ws21\\Computational Intelligence in Engineering (VO) [21ws-41.09212]\\_Project\\CIE7\\SensorData\\Data_Complete\\Smartphone3\\subject183_normal02\\Gyroscope.csv\n",
      "#251 -- d:\\OneDrive - rwth-aachen.de\\EDU_Master\\1 Courses\\ws21\\Computational Intelligence in Engineering (VO) [21ws-41.09212]\\_Project\\CIE7\\SensorData\\Data_Complete\\Smartphone3\\subject186_normal_01\\Gyroscope.csv\n",
      "#252 -- d:\\OneDrive - rwth-aachen.de\\EDU_Master\\1 Courses\\ws21\\Computational Intelligence in Engineering (VO) [21ws-41.09212]\\_Project\\CIE7\\SensorData\\Data_Complete\\Smartphone3\\subject186_normal_02\\Gyroscope.csv\n",
      "#253 -- d:\\OneDrive - rwth-aachen.de\\EDU_Master\\1 Courses\\ws21\\Computational Intelligence in Engineering (VO) [21ws-41.09212]\\_Project\\CIE7\\SensorData\\Data_Complete\\Smartphone3\\subject186_normal_03\\Gyroscope.csv\n",
      "#254 -- d:\\OneDrive - rwth-aachen.de\\EDU_Master\\1 Courses\\ws21\\Computational Intelligence in Engineering (VO) [21ws-41.09212]\\_Project\\CIE7\\SensorData\\Data_Complete\\Smartphone3\\subject188_normal01\\Gyroscope.csv\n",
      "#255 -- d:\\OneDrive - rwth-aachen.de\\EDU_Master\\1 Courses\\ws21\\Computational Intelligence in Engineering (VO) [21ws-41.09212]\\_Project\\CIE7\\SensorData\\Data_Complete\\Smartphone3\\subject188_normal02\\Gyroscope.csv\n",
      "#256 -- d:\\OneDrive - rwth-aachen.de\\EDU_Master\\1 Courses\\ws21\\Computational Intelligence in Engineering (VO) [21ws-41.09212]\\_Project\\CIE7\\SensorData\\Data_Complete\\Smartphone3\\subject189_normal01\\Gyroscope.csv\n",
      "#257 -- d:\\OneDrive - rwth-aachen.de\\EDU_Master\\1 Courses\\ws21\\Computational Intelligence in Engineering (VO) [21ws-41.09212]\\_Project\\CIE7\\SensorData\\Data_Complete\\Smartphone3\\subject189_normal02\\Gyroscope.csv\n",
      "#258 -- d:\\OneDrive - rwth-aachen.de\\EDU_Master\\1 Courses\\ws21\\Computational Intelligence in Engineering (VO) [21ws-41.09212]\\_Project\\CIE7\\SensorData\\Data_Complete\\Smartphone3\\subject189_normal03\\Gyroscope.csv\n",
      "#259 -- d:\\OneDrive - rwth-aachen.de\\EDU_Master\\1 Courses\\ws21\\Computational Intelligence in Engineering (VO) [21ws-41.09212]\\_Project\\CIE7\\SensorData\\Data_Complete\\Smartphone3\\subject190_normal01\\Gyroscope.csv\n",
      "#260 -- d:\\OneDrive - rwth-aachen.de\\EDU_Master\\1 Courses\\ws21\\Computational Intelligence in Engineering (VO) [21ws-41.09212]\\_Project\\CIE7\\SensorData\\Data_Complete\\Smartphone3\\subject190_normal02\\Gyroscope.csv\n",
      "#261 -- d:\\OneDrive - rwth-aachen.de\\EDU_Master\\1 Courses\\ws21\\Computational Intelligence in Engineering (VO) [21ws-41.09212]\\_Project\\CIE7\\SensorData\\Data_Complete\\Smartphone3\\subject191_normal01\\Gyroscope.csv\n",
      "#262 -- d:\\OneDrive - rwth-aachen.de\\EDU_Master\\1 Courses\\ws21\\Computational Intelligence in Engineering (VO) [21ws-41.09212]\\_Project\\CIE7\\SensorData\\Data_Complete\\Smartphone3\\subject191_normal02\\Gyroscope.csv\n",
      "#263 -- d:\\OneDrive - rwth-aachen.de\\EDU_Master\\1 Courses\\ws21\\Computational Intelligence in Engineering (VO) [21ws-41.09212]\\_Project\\CIE7\\SensorData\\Data_Complete\\Smartphone3\\subject192_normal1\\Gyroscope.csv\n",
      "#264 -- d:\\OneDrive - rwth-aachen.de\\EDU_Master\\1 Courses\\ws21\\Computational Intelligence in Engineering (VO) [21ws-41.09212]\\_Project\\CIE7\\SensorData\\Data_Complete\\Smartphone3\\subject192_normal2\\Gyroscope.csv\n",
      "#265 -- d:\\OneDrive - rwth-aachen.de\\EDU_Master\\1 Courses\\ws21\\Computational Intelligence in Engineering (VO) [21ws-41.09212]\\_Project\\CIE7\\SensorData\\Data_Complete\\Smartphone3\\subject193_normal1\\Gyroscope.csv\n",
      "#266 -- d:\\OneDrive - rwth-aachen.de\\EDU_Master\\1 Courses\\ws21\\Computational Intelligence in Engineering (VO) [21ws-41.09212]\\_Project\\CIE7\\SensorData\\Data_Complete\\Smartphone3\\subject193_normal2\\Gyroscope.csv\n",
      "#267 -- d:\\OneDrive - rwth-aachen.de\\EDU_Master\\1 Courses\\ws21\\Computational Intelligence in Engineering (VO) [21ws-41.09212]\\_Project\\CIE7\\SensorData\\Data_Complete\\Smartphone3\\subject194_normal01\\Gyroscope.csv\n",
      "#268 -- d:\\OneDrive - rwth-aachen.de\\EDU_Master\\1 Courses\\ws21\\Computational Intelligence in Engineering (VO) [21ws-41.09212]\\_Project\\CIE7\\SensorData\\Data_Complete\\Smartphone3\\subject194_normal02\\Gyroscope.csv\n",
      "#269 -- d:\\OneDrive - rwth-aachen.de\\EDU_Master\\1 Courses\\ws21\\Computational Intelligence in Engineering (VO) [21ws-41.09212]\\_Project\\CIE7\\SensorData\\Data_Complete\\Smartphone3\\subject195_normal01\\Gyroscope.csv\n",
      "#270 -- d:\\OneDrive - rwth-aachen.de\\EDU_Master\\1 Courses\\ws21\\Computational Intelligence in Engineering (VO) [21ws-41.09212]\\_Project\\CIE7\\SensorData\\Data_Complete\\Smartphone3\\subject195_normal02\\Gyroscope.csv\n",
      "#271 -- d:\\OneDrive - rwth-aachen.de\\EDU_Master\\1 Courses\\ws21\\Computational Intelligence in Engineering (VO) [21ws-41.09212]\\_Project\\CIE7\\SensorData\\Data_Complete\\Smartphone3\\subject196_normal01\\Gyroscope.csv\n",
      "#272 -- d:\\OneDrive - rwth-aachen.de\\EDU_Master\\1 Courses\\ws21\\Computational Intelligence in Engineering (VO) [21ws-41.09212]\\_Project\\CIE7\\SensorData\\Data_Complete\\Smartphone3\\subject196_normal02\\Gyroscope.csv\n",
      "#273 -- d:\\OneDrive - rwth-aachen.de\\EDU_Master\\1 Courses\\ws21\\Computational Intelligence in Engineering (VO) [21ws-41.09212]\\_Project\\CIE7\\SensorData\\Data_Complete\\Smartphone3\\subject205_normal01\\Gyroscope.csv\n",
      "#274 -- d:\\OneDrive - rwth-aachen.de\\EDU_Master\\1 Courses\\ws21\\Computational Intelligence in Engineering (VO) [21ws-41.09212]\\_Project\\CIE7\\SensorData\\Data_Complete\\Smartphone3\\subject205_normal02\\Gyroscope.csv\n",
      "#275 -- d:\\OneDrive - rwth-aachen.de\\EDU_Master\\1 Courses\\ws21\\Computational Intelligence in Engineering (VO) [21ws-41.09212]\\_Project\\CIE7\\SensorData\\Data_Complete\\Smartphone3\\subject206_normal01\\Gyroscope.csv\n",
      "#276 -- d:\\OneDrive - rwth-aachen.de\\EDU_Master\\1 Courses\\ws21\\Computational Intelligence in Engineering (VO) [21ws-41.09212]\\_Project\\CIE7\\SensorData\\Data_Complete\\Smartphone3\\subject206_normal02\\Gyroscope.csv\n",
      "#277 -- d:\\OneDrive - rwth-aachen.de\\EDU_Master\\1 Courses\\ws21\\Computational Intelligence in Engineering (VO) [21ws-41.09212]\\_Project\\CIE7\\SensorData\\Data_Complete\\Smartphone3\\subject207_normal01\\Gyroscope.csv\n",
      "#278 -- d:\\OneDrive - rwth-aachen.de\\EDU_Master\\1 Courses\\ws21\\Computational Intelligence in Engineering (VO) [21ws-41.09212]\\_Project\\CIE7\\SensorData\\Data_Complete\\Smartphone3\\subject207_normal02\\Gyroscope.csv\n",
      "#279 -- d:\\OneDrive - rwth-aachen.de\\EDU_Master\\1 Courses\\ws21\\Computational Intelligence in Engineering (VO) [21ws-41.09212]\\_Project\\CIE7\\SensorData\\Data_Complete\\Smartphone3\\subject208_normal01\\Gyroscope.csv\n",
      "#280 -- d:\\OneDrive - rwth-aachen.de\\EDU_Master\\1 Courses\\ws21\\Computational Intelligence in Engineering (VO) [21ws-41.09212]\\_Project\\CIE7\\SensorData\\Data_Complete\\Smartphone3\\subject208_normal02\\Gyroscope.csv\n",
      "#281 -- d:\\OneDrive - rwth-aachen.de\\EDU_Master\\1 Courses\\ws21\\Computational Intelligence in Engineering (VO) [21ws-41.09212]\\_Project\\CIE7\\SensorData\\Data_Complete\\Smartphone3\\subject209_normal01\\Gyroscope.csv\n",
      "#282 -- d:\\OneDrive - rwth-aachen.de\\EDU_Master\\1 Courses\\ws21\\Computational Intelligence in Engineering (VO) [21ws-41.09212]\\_Project\\CIE7\\SensorData\\Data_Complete\\Smartphone3\\subject209_normal02\\Gyroscope.csv\n",
      "#283 -- d:\\OneDrive - rwth-aachen.de\\EDU_Master\\1 Courses\\ws21\\Computational Intelligence in Engineering (VO) [21ws-41.09212]\\_Project\\CIE7\\SensorData\\Data_Complete\\Smartphone3\\subject210_normal01\\Gyroscope.csv\n",
      "#284 -- d:\\OneDrive - rwth-aachen.de\\EDU_Master\\1 Courses\\ws21\\Computational Intelligence in Engineering (VO) [21ws-41.09212]\\_Project\\CIE7\\SensorData\\Data_Complete\\Smartphone3\\subject210_normal02\\Gyroscope.csv\n",
      "#285 -- d:\\OneDrive - rwth-aachen.de\\EDU_Master\\1 Courses\\ws21\\Computational Intelligence in Engineering (VO) [21ws-41.09212]\\_Project\\CIE7\\SensorData\\Data_Complete\\Smartphone3\\subject211_normal01\\Gyroscope.csv\n",
      "#286 -- d:\\OneDrive - rwth-aachen.de\\EDU_Master\\1 Courses\\ws21\\Computational Intelligence in Engineering (VO) [21ws-41.09212]\\_Project\\CIE7\\SensorData\\Data_Complete\\Smartphone3\\subject211_normal02\\Gyroscope.csv\n",
      "#287 -- d:\\OneDrive - rwth-aachen.de\\EDU_Master\\1 Courses\\ws21\\Computational Intelligence in Engineering (VO) [21ws-41.09212]\\_Project\\CIE7\\SensorData\\Data_Complete\\Smartphone3\\subject212_normal01\\Gyroscope.csv\n",
      "#288 -- d:\\OneDrive - rwth-aachen.de\\EDU_Master\\1 Courses\\ws21\\Computational Intelligence in Engineering (VO) [21ws-41.09212]\\_Project\\CIE7\\SensorData\\Data_Complete\\Smartphone3\\subject212_normal02\\Gyroscope.csv\n",
      "#289 -- d:\\OneDrive - rwth-aachen.de\\EDU_Master\\1 Courses\\ws21\\Computational Intelligence in Engineering (VO) [21ws-41.09212]\\_Project\\CIE7\\SensorData\\Data_Complete\\Smartphone3\\subject215_normal01\\Gyroscope.csv\n",
      "#290 -- d:\\OneDrive - rwth-aachen.de\\EDU_Master\\1 Courses\\ws21\\Computational Intelligence in Engineering (VO) [21ws-41.09212]\\_Project\\CIE7\\SensorData\\Data_Complete\\Smartphone3\\subject215_normal02\\Gyroscope.csv\n",
      "#291 -- d:\\OneDrive - rwth-aachen.de\\EDU_Master\\1 Courses\\ws21\\Computational Intelligence in Engineering (VO) [21ws-41.09212]\\_Project\\CIE7\\SensorData\\Data_Complete\\Smartphone3\\subject216_normal01\\Gyroscope.csv\n",
      "#292 -- d:\\OneDrive - rwth-aachen.de\\EDU_Master\\1 Courses\\ws21\\Computational Intelligence in Engineering (VO) [21ws-41.09212]\\_Project\\CIE7\\SensorData\\Data_Complete\\Smartphone3\\subject216_normal02\\Gyroscope.csv\n",
      "#293 -- d:\\OneDrive - rwth-aachen.de\\EDU_Master\\1 Courses\\ws21\\Computational Intelligence in Engineering (VO) [21ws-41.09212]\\_Project\\CIE7\\SensorData\\Data_Complete\\Smartphone3\\subject217_normal01\\Gyroscope.csv\n",
      "#294 -- d:\\OneDrive - rwth-aachen.de\\EDU_Master\\1 Courses\\ws21\\Computational Intelligence in Engineering (VO) [21ws-41.09212]\\_Project\\CIE7\\SensorData\\Data_Complete\\Smartphone3\\subject217_normal02\\Gyroscope.csv\n",
      "#295 -- d:\\OneDrive - rwth-aachen.de\\EDU_Master\\1 Courses\\ws21\\Computational Intelligence in Engineering (VO) [21ws-41.09212]\\_Project\\CIE7\\SensorData\\Data_Complete\\Smartphone3\\subject219_normal01\\Gyroscope.csv\n",
      "#296 -- d:\\OneDrive - rwth-aachen.de\\EDU_Master\\1 Courses\\ws21\\Computational Intelligence in Engineering (VO) [21ws-41.09212]\\_Project\\CIE7\\SensorData\\Data_Complete\\Smartphone3\\subject219_normal02\\Gyroscope.csv\n",
      "#297 -- d:\\OneDrive - rwth-aachen.de\\EDU_Master\\1 Courses\\ws21\\Computational Intelligence in Engineering (VO) [21ws-41.09212]\\_Project\\CIE7\\SensorData\\Data_Complete\\Smartphone3\\subject220_normal01\\Gyroscope.csv\n",
      "#298 -- d:\\OneDrive - rwth-aachen.de\\EDU_Master\\1 Courses\\ws21\\Computational Intelligence in Engineering (VO) [21ws-41.09212]\\_Project\\CIE7\\SensorData\\Data_Complete\\Smartphone3\\subject220_normal02\\Gyroscope.csv\n",
      "#299 -- d:\\OneDrive - rwth-aachen.de\\EDU_Master\\1 Courses\\ws21\\Computational Intelligence in Engineering (VO) [21ws-41.09212]\\_Project\\CIE7\\SensorData\\Data_Complete\\Smartphone3\\subject221_normal01\\Gyroscope.csv\n",
      "#300 -- d:\\OneDrive - rwth-aachen.de\\EDU_Master\\1 Courses\\ws21\\Computational Intelligence in Engineering (VO) [21ws-41.09212]\\_Project\\CIE7\\SensorData\\Data_Complete\\Smartphone3\\subject221_normal02\\Gyroscope.csv\n",
      "#301 -- d:\\OneDrive - rwth-aachen.de\\EDU_Master\\1 Courses\\ws21\\Computational Intelligence in Engineering (VO) [21ws-41.09212]\\_Project\\CIE7\\SensorData\\Data_Complete\\Smartphone3\\subject222_normal01\\Gyroscope.csv\n",
      "#302 -- d:\\OneDrive - rwth-aachen.de\\EDU_Master\\1 Courses\\ws21\\Computational Intelligence in Engineering (VO) [21ws-41.09212]\\_Project\\CIE7\\SensorData\\Data_Complete\\Smartphone3\\subject222_normal02\\Gyroscope.csv\n",
      "#303 -- d:\\OneDrive - rwth-aachen.de\\EDU_Master\\1 Courses\\ws21\\Computational Intelligence in Engineering (VO) [21ws-41.09212]\\_Project\\CIE7\\SensorData\\Data_Complete\\Smartphone3\\subject223_normal01\\Gyroscope.csv\n",
      "#304 -- d:\\OneDrive - rwth-aachen.de\\EDU_Master\\1 Courses\\ws21\\Computational Intelligence in Engineering (VO) [21ws-41.09212]\\_Project\\CIE7\\SensorData\\Data_Complete\\Smartphone3\\subject223_normal02\\Gyroscope.csv\n",
      "#305 -- d:\\OneDrive - rwth-aachen.de\\EDU_Master\\1 Courses\\ws21\\Computational Intelligence in Engineering (VO) [21ws-41.09212]\\_Project\\CIE7\\SensorData\\Data_Complete\\Smartphone3\\subject224_normal01\\Gyroscope.csv\n",
      "#306 -- d:\\OneDrive - rwth-aachen.de\\EDU_Master\\1 Courses\\ws21\\Computational Intelligence in Engineering (VO) [21ws-41.09212]\\_Project\\CIE7\\SensorData\\Data_Complete\\Smartphone3\\subject224_normal02\\Gyroscope.csv\n",
      "#307 -- d:\\OneDrive - rwth-aachen.de\\EDU_Master\\1 Courses\\ws21\\Computational Intelligence in Engineering (VO) [21ws-41.09212]\\_Project\\CIE7\\SensorData\\Data_Complete\\Smartphone3\\subject225_normal01\\Gyroscope.csv\n",
      "#308 -- d:\\OneDrive - rwth-aachen.de\\EDU_Master\\1 Courses\\ws21\\Computational Intelligence in Engineering (VO) [21ws-41.09212]\\_Project\\CIE7\\SensorData\\Data_Complete\\Smartphone3\\subject225_normal02\\Gyroscope.csv\n",
      "#309 -- d:\\OneDrive - rwth-aachen.de\\EDU_Master\\1 Courses\\ws21\\Computational Intelligence in Engineering (VO) [21ws-41.09212]\\_Project\\CIE7\\SensorData\\Data_Complete\\Smartphone3\\subject226_normal01\\Gyroscope.csv\n",
      "#310 -- d:\\OneDrive - rwth-aachen.de\\EDU_Master\\1 Courses\\ws21\\Computational Intelligence in Engineering (VO) [21ws-41.09212]\\_Project\\CIE7\\SensorData\\Data_Complete\\Smartphone3\\subject226_normal02\\Gyroscope.csv\n",
      "#311 -- d:\\OneDrive - rwth-aachen.de\\EDU_Master\\1 Courses\\ws21\\Computational Intelligence in Engineering (VO) [21ws-41.09212]\\_Project\\CIE7\\SensorData\\Data_Complete\\Smartphone3\\subject227_normal01\\Gyroscope.csv\n",
      "#312 -- d:\\OneDrive - rwth-aachen.de\\EDU_Master\\1 Courses\\ws21\\Computational Intelligence in Engineering (VO) [21ws-41.09212]\\_Project\\CIE7\\SensorData\\Data_Complete\\Smartphone3\\subject227_normal02\\Gyroscope.csv\n",
      "#313 -- d:\\OneDrive - rwth-aachen.de\\EDU_Master\\1 Courses\\ws21\\Computational Intelligence in Engineering (VO) [21ws-41.09212]\\_Project\\CIE7\\SensorData\\Data_Complete\\Smartphone3\\subject230_normal01\\Gyroscope.csv\n",
      "#314 -- d:\\OneDrive - rwth-aachen.de\\EDU_Master\\1 Courses\\ws21\\Computational Intelligence in Engineering (VO) [21ws-41.09212]\\_Project\\CIE7\\SensorData\\Data_Complete\\Smartphone3\\subject230_normal02\\Gyroscope.csv\n",
      "#315 -- d:\\OneDrive - rwth-aachen.de\\EDU_Master\\1 Courses\\ws21\\Computational Intelligence in Engineering (VO) [21ws-41.09212]\\_Project\\CIE7\\SensorData\\Data_Complete\\Smartphone3\\subject231_normal01\\Gyroscope.csv\n",
      "#316 -- d:\\OneDrive - rwth-aachen.de\\EDU_Master\\1 Courses\\ws21\\Computational Intelligence in Engineering (VO) [21ws-41.09212]\\_Project\\CIE7\\SensorData\\Data_Complete\\Smartphone3\\subject231_normal02\\Gyroscope.csv\n",
      "#317 -- d:\\OneDrive - rwth-aachen.de\\EDU_Master\\1 Courses\\ws21\\Computational Intelligence in Engineering (VO) [21ws-41.09212]\\_Project\\CIE7\\SensorData\\Data_Complete\\Smartphone3\\subject232_normal01\\Gyroscope.csv\n",
      "#318 -- d:\\OneDrive - rwth-aachen.de\\EDU_Master\\1 Courses\\ws21\\Computational Intelligence in Engineering (VO) [21ws-41.09212]\\_Project\\CIE7\\SensorData\\Data_Complete\\Smartphone3\\subject232_normal02\\Gyroscope.csv\n",
      "#319 -- d:\\OneDrive - rwth-aachen.de\\EDU_Master\\1 Courses\\ws21\\Computational Intelligence in Engineering (VO) [21ws-41.09212]\\_Project\\CIE7\\SensorData\\Data_Complete\\Smartphone3\\subject233_normal01\\Gyroscope.csv\n",
      "#320 -- d:\\OneDrive - rwth-aachen.de\\EDU_Master\\1 Courses\\ws21\\Computational Intelligence in Engineering (VO) [21ws-41.09212]\\_Project\\CIE7\\SensorData\\Data_Complete\\Smartphone3\\subject233_normal02\\Gyroscope.csv\n",
      "#321 -- d:\\OneDrive - rwth-aachen.de\\EDU_Master\\1 Courses\\ws21\\Computational Intelligence in Engineering (VO) [21ws-41.09212]\\_Project\\CIE7\\SensorData\\Data_Complete\\Smartphone3\\subject234_normal01\\Gyroscope.csv\n",
      "#322 -- d:\\OneDrive - rwth-aachen.de\\EDU_Master\\1 Courses\\ws21\\Computational Intelligence in Engineering (VO) [21ws-41.09212]\\_Project\\CIE7\\SensorData\\Data_Complete\\Smartphone3\\subject234_normal02\\Gyroscope.csv\n",
      "#323 -- d:\\OneDrive - rwth-aachen.de\\EDU_Master\\1 Courses\\ws21\\Computational Intelligence in Engineering (VO) [21ws-41.09212]\\_Project\\CIE7\\SensorData\\Data_Complete\\Smartphone3\\subject240_normal01\\Gyroscope.csv\n",
      "#324 -- d:\\OneDrive - rwth-aachen.de\\EDU_Master\\1 Courses\\ws21\\Computational Intelligence in Engineering (VO) [21ws-41.09212]\\_Project\\CIE7\\SensorData\\Data_Complete\\Smartphone3\\subject240_normal02\\Gyroscope.csv\n",
      "#325 -- d:\\OneDrive - rwth-aachen.de\\EDU_Master\\1 Courses\\ws21\\Computational Intelligence in Engineering (VO) [21ws-41.09212]\\_Project\\CIE7\\SensorData\\Data_Complete\\Smartphone3\\subject240_normal03\\Gyroscope.csv\n",
      "#326 -- d:\\OneDrive - rwth-aachen.de\\EDU_Master\\1 Courses\\ws21\\Computational Intelligence in Engineering (VO) [21ws-41.09212]\\_Project\\CIE7\\SensorData\\Data_Complete\\Smartphone3\\subject241_normal01\\Gyroscope.csv\n",
      "#327 -- d:\\OneDrive - rwth-aachen.de\\EDU_Master\\1 Courses\\ws21\\Computational Intelligence in Engineering (VO) [21ws-41.09212]\\_Project\\CIE7\\SensorData\\Data_Complete\\Smartphone3\\subject241_normal02\\Gyroscope.csv\n",
      "#328 -- d:\\OneDrive - rwth-aachen.de\\EDU_Master\\1 Courses\\ws21\\Computational Intelligence in Engineering (VO) [21ws-41.09212]\\_Project\\CIE7\\SensorData\\Data_Complete\\Smartphone3\\subject241_normal03\\Gyroscope.csv\n",
      "#329 -- d:\\OneDrive - rwth-aachen.de\\EDU_Master\\1 Courses\\ws21\\Computational Intelligence in Engineering (VO) [21ws-41.09212]\\_Project\\CIE7\\SensorData\\Data_Complete\\Smartphone3\\subject242_normal01\\Gyroscope.csv\n",
      "#330 -- d:\\OneDrive - rwth-aachen.de\\EDU_Master\\1 Courses\\ws21\\Computational Intelligence in Engineering (VO) [21ws-41.09212]\\_Project\\CIE7\\SensorData\\Data_Complete\\Smartphone3\\subject242_normal02\\Gyroscope.csv\n",
      "#331 -- d:\\OneDrive - rwth-aachen.de\\EDU_Master\\1 Courses\\ws21\\Computational Intelligence in Engineering (VO) [21ws-41.09212]\\_Project\\CIE7\\SensorData\\Data_Complete\\Smartphone3\\subject242_normal03\\Gyroscope.csv\n",
      "#332 -- d:\\OneDrive - rwth-aachen.de\\EDU_Master\\1 Courses\\ws21\\Computational Intelligence in Engineering (VO) [21ws-41.09212]\\_Project\\CIE7\\SensorData\\Data_Complete\\Smartphone3\\subject245_normal01\\Gyroscope.csv\n",
      "#333 -- d:\\OneDrive - rwth-aachen.de\\EDU_Master\\1 Courses\\ws21\\Computational Intelligence in Engineering (VO) [21ws-41.09212]\\_Project\\CIE7\\SensorData\\Data_Complete\\Smartphone3\\subject245_normal02\\Gyroscope.csv\n",
      "#334 -- d:\\OneDrive - rwth-aachen.de\\EDU_Master\\1 Courses\\ws21\\Computational Intelligence in Engineering (VO) [21ws-41.09212]\\_Project\\CIE7\\SensorData\\Data_Complete\\Smartphone3\\subject246_normal01\\Gyroscope.csv\n",
      "#335 -- d:\\OneDrive - rwth-aachen.de\\EDU_Master\\1 Courses\\ws21\\Computational Intelligence in Engineering (VO) [21ws-41.09212]\\_Project\\CIE7\\SensorData\\Data_Complete\\Smartphone3\\subject246_normal02\\Gyroscope.csv\n",
      "#336 -- d:\\OneDrive - rwth-aachen.de\\EDU_Master\\1 Courses\\ws21\\Computational Intelligence in Engineering (VO) [21ws-41.09212]\\_Project\\CIE7\\SensorData\\Data_Complete\\Smartphone3\\subject247_normal01\\Gyroscope.csv\n",
      "#337 -- d:\\OneDrive - rwth-aachen.de\\EDU_Master\\1 Courses\\ws21\\Computational Intelligence in Engineering (VO) [21ws-41.09212]\\_Project\\CIE7\\SensorData\\Data_Complete\\Smartphone3\\subject247_normal02\\Gyroscope.csv\n",
      "#338 -- d:\\OneDrive - rwth-aachen.de\\EDU_Master\\1 Courses\\ws21\\Computational Intelligence in Engineering (VO) [21ws-41.09212]\\_Project\\CIE7\\SensorData\\Data_Complete\\Smartphone3\\subject249_normal01\\Gyroscope.csv\n",
      "#339 -- d:\\OneDrive - rwth-aachen.de\\EDU_Master\\1 Courses\\ws21\\Computational Intelligence in Engineering (VO) [21ws-41.09212]\\_Project\\CIE7\\SensorData\\Data_Complete\\Smartphone3\\subject249_normal02\\Gyroscope.csv\n",
      "#340 -- d:\\OneDrive - rwth-aachen.de\\EDU_Master\\1 Courses\\ws21\\Computational Intelligence in Engineering (VO) [21ws-41.09212]\\_Project\\CIE7\\SensorData\\Data_Complete\\Smartphone3\\Subject250_normal1\\Gyroscope.csv\n",
      "#341 -- d:\\OneDrive - rwth-aachen.de\\EDU_Master\\1 Courses\\ws21\\Computational Intelligence in Engineering (VO) [21ws-41.09212]\\_Project\\CIE7\\SensorData\\Data_Complete\\Smartphone3\\Subject250_normal2\\Gyroscope.csv\n",
      "#342 -- d:\\OneDrive - rwth-aachen.de\\EDU_Master\\1 Courses\\ws21\\Computational Intelligence in Engineering (VO) [21ws-41.09212]\\_Project\\CIE7\\SensorData\\Data_Complete\\Smartphone3\\subject251_normal01\\Gyroscope.csv\n",
      "#343 -- d:\\OneDrive - rwth-aachen.de\\EDU_Master\\1 Courses\\ws21\\Computational Intelligence in Engineering (VO) [21ws-41.09212]\\_Project\\CIE7\\SensorData\\Data_Complete\\Smartphone3\\subject251_normal02\\Gyroscope.csv\n",
      "#344 -- d:\\OneDrive - rwth-aachen.de\\EDU_Master\\1 Courses\\ws21\\Computational Intelligence in Engineering (VO) [21ws-41.09212]\\_Project\\CIE7\\SensorData\\Data_Complete\\Smartphone3\\subject252_normal01\\Gyroscope.csv\n",
      "#345 -- d:\\OneDrive - rwth-aachen.de\\EDU_Master\\1 Courses\\ws21\\Computational Intelligence in Engineering (VO) [21ws-41.09212]\\_Project\\CIE7\\SensorData\\Data_Complete\\Smartphone3\\subject252_normal02\\Gyroscope.csv\n",
      "#346 -- d:\\OneDrive - rwth-aachen.de\\EDU_Master\\1 Courses\\ws21\\Computational Intelligence in Engineering (VO) [21ws-41.09212]\\_Project\\CIE7\\SensorData\\Data_Complete\\Smartphone3\\subject253_normal1\\Gyroscope.csv\n",
      "#347 -- d:\\OneDrive - rwth-aachen.de\\EDU_Master\\1 Courses\\ws21\\Computational Intelligence in Engineering (VO) [21ws-41.09212]\\_Project\\CIE7\\SensorData\\Data_Complete\\Smartphone3\\subject253_normal2\\Gyroscope.csv\n",
      "#348 -- d:\\OneDrive - rwth-aachen.de\\EDU_Master\\1 Courses\\ws21\\Computational Intelligence in Engineering (VO) [21ws-41.09212]\\_Project\\CIE7\\SensorData\\Data_Complete\\Smartphone3\\subject254_normal01\\Gyroscope.csv\n",
      "#349 -- d:\\OneDrive - rwth-aachen.de\\EDU_Master\\1 Courses\\ws21\\Computational Intelligence in Engineering (VO) [21ws-41.09212]\\_Project\\CIE7\\SensorData\\Data_Complete\\Smartphone3\\subject254_normal02\\Gyroscope.csv\n",
      "#350 -- d:\\OneDrive - rwth-aachen.de\\EDU_Master\\1 Courses\\ws21\\Computational Intelligence in Engineering (VO) [21ws-41.09212]\\_Project\\CIE7\\SensorData\\Data_Complete\\Smartphone3\\subject255_normal01\\Gyroscope.csv\n",
      "#351 -- d:\\OneDrive - rwth-aachen.de\\EDU_Master\\1 Courses\\ws21\\Computational Intelligence in Engineering (VO) [21ws-41.09212]\\_Project\\CIE7\\SensorData\\Data_Complete\\Smartphone3\\subject255_normal02\\Gyroscope.csv\n",
      "#352 -- d:\\OneDrive - rwth-aachen.de\\EDU_Master\\1 Courses\\ws21\\Computational Intelligence in Engineering (VO) [21ws-41.09212]\\_Project\\CIE7\\SensorData\\Data_Complete\\Smartphone3\\subject256_normal01\\Gyroscope.csv\n",
      "#353 -- d:\\OneDrive - rwth-aachen.de\\EDU_Master\\1 Courses\\ws21\\Computational Intelligence in Engineering (VO) [21ws-41.09212]\\_Project\\CIE7\\SensorData\\Data_Complete\\Smartphone3\\subject256_normal02\\Gyroscope.csv\n",
      "#354 -- d:\\OneDrive - rwth-aachen.de\\EDU_Master\\1 Courses\\ws21\\Computational Intelligence in Engineering (VO) [21ws-41.09212]\\_Project\\CIE7\\SensorData\\Data_Complete\\Smartphone3\\subject258_normal01\\Gyroscope.csv\n",
      "#355 -- d:\\OneDrive - rwth-aachen.de\\EDU_Master\\1 Courses\\ws21\\Computational Intelligence in Engineering (VO) [21ws-41.09212]\\_Project\\CIE7\\SensorData\\Data_Complete\\Smartphone3\\subject258_normal02\\Gyroscope.csv\n",
      "#356 -- d:\\OneDrive - rwth-aachen.de\\EDU_Master\\1 Courses\\ws21\\Computational Intelligence in Engineering (VO) [21ws-41.09212]\\_Project\\CIE7\\SensorData\\Data_Complete\\Smartphone3\\subject259_normal01\\Gyroscope.csv\n",
      "#357 -- d:\\OneDrive - rwth-aachen.de\\EDU_Master\\1 Courses\\ws21\\Computational Intelligence in Engineering (VO) [21ws-41.09212]\\_Project\\CIE7\\SensorData\\Data_Complete\\Smartphone3\\subject259_normal02\\Gyroscope.csv\n",
      "#358 -- d:\\OneDrive - rwth-aachen.de\\EDU_Master\\1 Courses\\ws21\\Computational Intelligence in Engineering (VO) [21ws-41.09212]\\_Project\\CIE7\\SensorData\\Data_Complete\\Smartphone3\\subject260_normal01\\Gyroscope.csv\n",
      "#359 -- d:\\OneDrive - rwth-aachen.de\\EDU_Master\\1 Courses\\ws21\\Computational Intelligence in Engineering (VO) [21ws-41.09212]\\_Project\\CIE7\\SensorData\\Data_Complete\\Smartphone3\\subject260_normal02\\Gyroscope.csv\n",
      "#360 -- d:\\OneDrive - rwth-aachen.de\\EDU_Master\\1 Courses\\ws21\\Computational Intelligence in Engineering (VO) [21ws-41.09212]\\_Project\\CIE7\\SensorData\\Data_Complete\\Smartphone3\\subject261_normal01\\Gyroscope.csv\n",
      "#361 -- d:\\OneDrive - rwth-aachen.de\\EDU_Master\\1 Courses\\ws21\\Computational Intelligence in Engineering (VO) [21ws-41.09212]\\_Project\\CIE7\\SensorData\\Data_Complete\\Smartphone3\\subject261_normal02\\Gyroscope.csv\n",
      "#362 -- d:\\OneDrive - rwth-aachen.de\\EDU_Master\\1 Courses\\ws21\\Computational Intelligence in Engineering (VO) [21ws-41.09212]\\_Project\\CIE7\\SensorData\\Data_Complete\\Smartphone3\\subject262_normal01\\Gyroscope.csv\n",
      "#363 -- d:\\OneDrive - rwth-aachen.de\\EDU_Master\\1 Courses\\ws21\\Computational Intelligence in Engineering (VO) [21ws-41.09212]\\_Project\\CIE7\\SensorData\\Data_Complete\\Smartphone3\\subject262_normal02\\Gyroscope.csv\n",
      "#364 -- d:\\OneDrive - rwth-aachen.de\\EDU_Master\\1 Courses\\ws21\\Computational Intelligence in Engineering (VO) [21ws-41.09212]\\_Project\\CIE7\\SensorData\\Data_Complete\\Smartphone3\\subject263_normal01\\Gyroscope.csv\n",
      "#365 -- d:\\OneDrive - rwth-aachen.de\\EDU_Master\\1 Courses\\ws21\\Computational Intelligence in Engineering (VO) [21ws-41.09212]\\_Project\\CIE7\\SensorData\\Data_Complete\\Smartphone3\\subject263_normal02\\Gyroscope.csv\n",
      "#366 -- d:\\OneDrive - rwth-aachen.de\\EDU_Master\\1 Courses\\ws21\\Computational Intelligence in Engineering (VO) [21ws-41.09212]\\_Project\\CIE7\\SensorData\\Data_Complete\\Smartphone3\\subject263_normal03\\Gyroscope.csv\n",
      "#367 -- d:\\OneDrive - rwth-aachen.de\\EDU_Master\\1 Courses\\ws21\\Computational Intelligence in Engineering (VO) [21ws-41.09212]\\_Project\\CIE7\\SensorData\\Data_Complete\\Smartphone3\\subject264_normal01\\Gyroscope.csv\n",
      "#368 -- d:\\OneDrive - rwth-aachen.de\\EDU_Master\\1 Courses\\ws21\\Computational Intelligence in Engineering (VO) [21ws-41.09212]\\_Project\\CIE7\\SensorData\\Data_Complete\\Smartphone3\\subject264_normal02\\Gyroscope.csv\n",
      "#369 -- d:\\OneDrive - rwth-aachen.de\\EDU_Master\\1 Courses\\ws21\\Computational Intelligence in Engineering (VO) [21ws-41.09212]\\_Project\\CIE7\\SensorData\\Data_Complete\\Smartphone3\\Subject266_normal01\\Gyroscope.csv\n",
      "#370 -- d:\\OneDrive - rwth-aachen.de\\EDU_Master\\1 Courses\\ws21\\Computational Intelligence in Engineering (VO) [21ws-41.09212]\\_Project\\CIE7\\SensorData\\Data_Complete\\Smartphone3\\Subject266_normal02\\Gyroscope.csv\n",
      "#371 -- d:\\OneDrive - rwth-aachen.de\\EDU_Master\\1 Courses\\ws21\\Computational Intelligence in Engineering (VO) [21ws-41.09212]\\_Project\\CIE7\\SensorData\\Data_Complete\\Smartphone3\\Subject267_normal01\\Gyroscope.csv\n",
      "#372 -- d:\\OneDrive - rwth-aachen.de\\EDU_Master\\1 Courses\\ws21\\Computational Intelligence in Engineering (VO) [21ws-41.09212]\\_Project\\CIE7\\SensorData\\Data_Complete\\Smartphone3\\Subject267_normal02\\Gyroscope.csv\n",
      "#373 -- d:\\OneDrive - rwth-aachen.de\\EDU_Master\\1 Courses\\ws21\\Computational Intelligence in Engineering (VO) [21ws-41.09212]\\_Project\\CIE7\\SensorData\\Data_Complete\\Smartphone3\\subject270_normal01\\Gyroscope.csv\n",
      "#374 -- d:\\OneDrive - rwth-aachen.de\\EDU_Master\\1 Courses\\ws21\\Computational Intelligence in Engineering (VO) [21ws-41.09212]\\_Project\\CIE7\\SensorData\\Data_Complete\\Smartphone3\\subject270_normal02\\Gyroscope.csv\n",
      "#375 -- d:\\OneDrive - rwth-aachen.de\\EDU_Master\\1 Courses\\ws21\\Computational Intelligence in Engineering (VO) [21ws-41.09212]\\_Project\\CIE7\\SensorData\\Data_Complete\\Smartphone3\\subject270_normal03\\Gyroscope.csv\n",
      "#376 -- d:\\OneDrive - rwth-aachen.de\\EDU_Master\\1 Courses\\ws21\\Computational Intelligence in Engineering (VO) [21ws-41.09212]\\_Project\\CIE7\\SensorData\\Data_Complete\\Smartphone3\\subject271_normal01\\Gyroscope.csv\n",
      "#377 -- d:\\OneDrive - rwth-aachen.de\\EDU_Master\\1 Courses\\ws21\\Computational Intelligence in Engineering (VO) [21ws-41.09212]\\_Project\\CIE7\\SensorData\\Data_Complete\\Smartphone3\\subject271_normal02\\Gyroscope.csv\n",
      "#378 -- d:\\OneDrive - rwth-aachen.de\\EDU_Master\\1 Courses\\ws21\\Computational Intelligence in Engineering (VO) [21ws-41.09212]\\_Project\\CIE7\\SensorData\\Data_Complete\\Smartphone3\\subject271_normal03\\Gyroscope.csv\n",
      "#379 -- d:\\OneDrive - rwth-aachen.de\\EDU_Master\\1 Courses\\ws21\\Computational Intelligence in Engineering (VO) [21ws-41.09212]\\_Project\\CIE7\\SensorData\\Data_Complete\\Smartphone3\\subject272_normal01\\Gyroscope.csv\n",
      "#380 -- d:\\OneDrive - rwth-aachen.de\\EDU_Master\\1 Courses\\ws21\\Computational Intelligence in Engineering (VO) [21ws-41.09212]\\_Project\\CIE7\\SensorData\\Data_Complete\\Smartphone3\\subject272_normal02\\Gyroscope.csv\n",
      "#381 -- d:\\OneDrive - rwth-aachen.de\\EDU_Master\\1 Courses\\ws21\\Computational Intelligence in Engineering (VO) [21ws-41.09212]\\_Project\\CIE7\\SensorData\\Data_Complete\\Smartphone3\\subject272_normal03\\Gyroscope.csv\n",
      "#382 -- d:\\OneDrive - rwth-aachen.de\\EDU_Master\\1 Courses\\ws21\\Computational Intelligence in Engineering (VO) [21ws-41.09212]\\_Project\\CIE7\\SensorData\\Data_Complete\\Smartphone3\\subject273_normal01\\Gyroscope.csv\n",
      "#383 -- d:\\OneDrive - rwth-aachen.de\\EDU_Master\\1 Courses\\ws21\\Computational Intelligence in Engineering (VO) [21ws-41.09212]\\_Project\\CIE7\\SensorData\\Data_Complete\\Smartphone3\\subject273_normal02\\Gyroscope.csv\n",
      "#384 -- d:\\OneDrive - rwth-aachen.de\\EDU_Master\\1 Courses\\ws21\\Computational Intelligence in Engineering (VO) [21ws-41.09212]\\_Project\\CIE7\\SensorData\\Data_Complete\\Smartphone3\\subject274_normal01\\Gyroscope.csv\n",
      "#385 -- d:\\OneDrive - rwth-aachen.de\\EDU_Master\\1 Courses\\ws21\\Computational Intelligence in Engineering (VO) [21ws-41.09212]\\_Project\\CIE7\\SensorData\\Data_Complete\\Smartphone3\\subject274_normal02\\Gyroscope.csv\n"
     ]
    }
   ],
   "source": [
    "for subdir, dirs, files in os.walk(rootdir):\n",
    "    if s1 in subdir:\n",
    "        if normal in subdir:\n",
    "            for file in files:\n",
    "                if gyrFile in file:\n",
    "                    count = count + 1\n",
    "                    # print(f'#{count} -- {os.path.join(subdir, file)}')\n",
    "\n",
    "                    with open(os.path.join(subdir, file), 'r') as f: # open in read-only mode\n",
    "                        gyrData = pd.read_csv(f)\n",
    "                        # Assemble the data into a tensor\n",
    "                        gyrAssNormal_s1.append(gyrData)\n",
    "\n",
    "for subdir, dirs, files in os.walk(rootdir):\n",
    "    if s3 in subdir:\n",
    "        if normal in subdir:\n",
    "            for file in files:\n",
    "                if gyrFile in file:\n",
    "                    count = count + 1\n",
    "                    print(f'#{count} -- {os.path.join(subdir, file)}')\n",
    "                    \n",
    "                    with open(os.path.join(subdir, file), 'r') as f: # open in read-only mode\n",
    "                        gyrData = pd.read_csv(f)\n",
    "                        # Assemble the data into a tensor\n",
    "                        gyrAssNormal_s3.append(gyrData)\n",
    "#End of file data import and processing"
   ]
  },
  {
   "cell_type": "markdown",
   "metadata": {},
   "source": [
    "### Parsing Gyroscope Upstairs Data (Smartphone 1 - Rear Right) & (Smartphone 3 - Front Right)"
   ]
  },
  {
   "cell_type": "code",
   "execution_count": 29,
   "metadata": {},
   "outputs": [],
   "source": [
    "for subdir, dirs, files in os.walk(rootdir):\n",
    "    if s1 in subdir:\n",
    "        if upstairs in subdir:\n",
    "            for file in files:\n",
    "                if gyrFile in file:\n",
    "                    count = count + 1\n",
    "                    # print(f'#{count} -- {os.path.join(subdir, file)}')\n",
    "\n",
    "                    with open(os.path.join(subdir, file), 'r') as f: # open in read-only mode\n",
    "                        gyrData = pd.read_csv(f)\n",
    "                        \n",
    "                        # Assemble the data into a tensor\n",
    "                        gyrAssUpstairs_s1.append(gyrData)\n",
    "\n",
    "for subdir, dirs, files in os.walk(rootdir):\n",
    "    if s3 in subdir:\n",
    "        if upstairs in subdir:\n",
    "            for file in files:\n",
    "                if gyrFile in file:\n",
    "                    count = count + 1\n",
    "                    # print(f'#{count} -- {os.path.join(subdir, file)}')\n",
    "\n",
    "                    with open(os.path.join(subdir, file), 'r') as f: # open in read-only mode\n",
    "                        gyrData = pd.read_csv(f)\n",
    "                        \n",
    "                        # Assemble the data into a tensor\n",
    "                        gyrAssUpstairs_s3.append(gyrData)                        \n",
    "#End of file data import and processing"
   ]
  },
  {
   "cell_type": "markdown",
   "metadata": {},
   "source": [
    "### Parsing Gyroscope Downstairs Data (Smartphone 1 - Rear Right) & (Smartphone 3 - Front Right)"
   ]
  },
  {
   "cell_type": "code",
   "execution_count": 30,
   "metadata": {},
   "outputs": [],
   "source": [
    "for subdir, dirs, files in os.walk(rootdir):\n",
    "    if s1 in subdir:\n",
    "        if downstairs in subdir:\n",
    "            for file in files:\n",
    "                if gyrFile in file:\n",
    "                    count = count + 1\n",
    "                    # print(f'#{count} -- {os.path.join(subdir, file)}')\n",
    "\n",
    "                    with open(os.path.join(subdir, file), 'r') as f: # open in read-only mode\n",
    "                        gyrData = pd.read_csv(f)\n",
    "                        \n",
    "                        # Assemble the data into a tensor\n",
    "                        gyrAssDownstairs_s1.append(gyrData)\n",
    "\n",
    "for subdir, dirs, files in os.walk(rootdir):\n",
    "    if s3 in subdir:\n",
    "        if downstairs in subdir:\n",
    "            for file in files:\n",
    "                if gyrFile in file:\n",
    "                    count = count + 1\n",
    "                    # print(f'#{count} -- {os.path.join(subdir, file)}')\n",
    "                    \n",
    "                    with open(os.path.join(subdir, file), 'r') as f: # open in read-only mode\n",
    "                        gyrData = pd.read_csv(f)\n",
    "                        \n",
    "                        # Assemble the data into a tensor\n",
    "                        gyrAssDownstairs_s3.append(gyrData)                        \n",
    "#End of file data import and processing"
   ]
  },
  {
   "cell_type": "markdown",
   "metadata": {},
   "source": [
    "### Parsing Accelerometer Normal Data (Smartphone 1 - Rear Right) & (Smartphone 3 - Front Right)"
   ]
  },
  {
   "cell_type": "code",
   "execution_count": 31,
   "metadata": {},
   "outputs": [],
   "source": [
    "for subdir, dirs, files in os.walk(rootdir):\n",
    "    if s1 in subdir:\n",
    "        if normal in subdir:\n",
    "            for file in files:\n",
    "                if accFile in file:\n",
    "                    count = count + 1\n",
    "                    # print(f'#{count} -- {os.path.join(subdir, file)}')\n",
    "\n",
    "                    with open(os.path.join(subdir, file), 'r') as f: # open in read-only mode\n",
    "                        accData = pd.read_csv(f)\n",
    "                        # Assemble the data into a tensor\n",
    "                        accAssNormal_s1.append(accData)\n",
    "\n",
    "for subdir, dirs, files in os.walk(rootdir):\n",
    "    if s3 in subdir:\n",
    "        if normal in subdir:\n",
    "            for file in files:\n",
    "                if accFile in file:\n",
    "                    count = count + 1\n",
    "                    # print(f'#{count} -- {os.path.join(subdir, file)}')\n",
    "                    \n",
    "                    with open(os.path.join(subdir, file), 'r') as f: # open in read-only mode\n",
    "                        accData = pd.read_csv(f)\n",
    "                        # Assemble the data into a tensor\n",
    "                        accAssNormal_s3.append(accData)                        \n",
    "#End of file data import and processing"
   ]
  },
  {
   "cell_type": "markdown",
   "metadata": {},
   "source": [
    "### Parsing Accelerometer Upstairs Data (Smartphone 1 - Rear Right) & (Smartphone 3 - Front Right)"
   ]
  },
  {
   "cell_type": "code",
   "execution_count": 32,
   "metadata": {},
   "outputs": [],
   "source": [
    "for subdir, dirs, files in os.walk(rootdir):\n",
    "    if s1 in subdir:\n",
    "        if upstairs in subdir:\n",
    "            for file in files:\n",
    "                if accFile in file:\n",
    "                    count = count + 1\n",
    "                    # print(f'#{count} -- {os.path.join(subdir, file)}')\n",
    "                    \n",
    "                    with open(os.path.join(subdir, file), 'r') as f: # open in read-only mode\n",
    "                        accData = pd.read_csv(f)\n",
    "                        \n",
    "                        # Assemble the data into a tensor\n",
    "                        accAssUpstairs_s1.append(accData)\n",
    "\n",
    "for subdir, dirs, files in os.walk(rootdir):\n",
    "    if s3 in subdir:\n",
    "        if upstairs in subdir:\n",
    "            for file in files:\n",
    "                if accFile in file:\n",
    "                    count = count + 1\n",
    "                    # print(f'#{count} -- {os.path.join(subdir, file)}')\n",
    "\n",
    "                    with open(os.path.join(subdir, file), 'r') as f: # open in read-only mode\n",
    "                        accData = pd.read_csv(f)\n",
    "                        \n",
    "                        # Assemble the data into a tensor\n",
    "                        accAssUpstairs_s3.append(accData)                        \n",
    "#End of file data import and processing"
   ]
  },
  {
   "cell_type": "markdown",
   "metadata": {},
   "source": [
    "### Parsing Accelerometer Downstairs Data (Smartphone 1 - Rear Right) & (Smartphone 3 - Front Right)"
   ]
  },
  {
   "cell_type": "code",
   "execution_count": 33,
   "metadata": {},
   "outputs": [],
   "source": [
    "for subdir, dirs, files in os.walk(rootdir):\n",
    "    if s1 in subdir:\n",
    "        if downstairs in subdir:\n",
    "            for file in files:\n",
    "                if accFile in file:\n",
    "                    count = count + 1\n",
    "                    # print(f'#{count} -- {os.path.join(subdir, file)}')\n",
    "\n",
    "                    with open(os.path.join(subdir, file), 'r') as f: # open in read-only mode\n",
    "                        accData = pd.read_csv(f)\n",
    "                        \n",
    "                        # Assemble the data into a tensor\n",
    "                        accAssDownstairs_s1.append(accData)\n",
    "\n",
    "for subdir, dirs, files in os.walk(rootdir):\n",
    "    if s3 in subdir:\n",
    "        if downstairs in subdir:\n",
    "            for file in files:\n",
    "                if accFile in file:\n",
    "                    count = count + 1\n",
    "                    # print(f'#{count} -- {os.path.join(subdir, file)}')\n",
    "                    \n",
    "                    with open(os.path.join(subdir, file), 'r') as f: # open in read-only mode\n",
    "                        accData = pd.read_csv(f)\n",
    "                        \n",
    "                        # Assemble the data into a tensor\n",
    "                        accAssDownstairs_s3.append(accData)                        \n",
    "#End of file data import and processing"
   ]
  },
  {
   "cell_type": "markdown",
   "metadata": {},
   "source": [
    "### Check if the data is collected correctly after parsing"
   ]
  },
  {
   "cell_type": "code",
   "execution_count": 34,
   "metadata": {},
   "outputs": [
    {
     "name": "stdout",
     "output_type": "stream",
     "text": [
      "Shape of gyrAssNormal_s1 is ------ (190,)\n",
      "Shape of accAssNormal_s1 is ------ (190,) \n",
      "\n",
      "Shape of gyrAssNormal_s3 is ------ (195,)\n",
      "Shape of accAssNormal_s3 is ------ (195,) \n",
      "\n",
      "Shape of gyrAssUpstairs_s1 is ------ (181,)\n",
      "Shape of accAssUpstairs_s1 is ------ (181,) \n",
      "\n",
      "Shape of gyrAssUpstairs_s3 is ------ (186,)\n",
      "Shape of accAssUpstairs_s3 is ------ (186,) \n",
      "\n",
      "Shape of gyrAssDownstairs_s1 is ------ (179,)\n",
      "Shape of accAssDownstairs_s1 is ------ (179,) \n",
      "\n",
      "Shape of gyrAssDownstairs_s3 is ------ (181,)\n",
      "Shape of accAssDownstairs_s3 is ------ (181,) \n",
      "\n"
     ]
    }
   ],
   "source": [
    "# getting the data shape for reference\n",
    "for j in gaitpos:\n",
    "    for i in smartphone:\n",
    "            gyrl = eval(f'gyrAss{j}_s{i}')\n",
    "            accl = eval(f'accAss{j}_s{i}')\n",
    "\n",
    "            print(f'Shape of gyrAss{j}_s{i} is ------ {np.asarray((gyrl), dtype = list).shape}')\n",
    "            print(f'Shape of accAss{j}_s{i} is ------ {np.asarray((accl), dtype = list).shape} \\n')"
   ]
  },
  {
   "cell_type": "markdown",
   "metadata": {},
   "source": [
    "## Data Validation and Preprocessing"
   ]
  },
  {
   "cell_type": "markdown",
   "metadata": {},
   "source": [
    "#### -- No need to run -- Frequency check of all the data before filtering"
   ]
  },
  {
   "cell_type": "code",
   "execution_count": 35,
   "metadata": {},
   "outputs": [],
   "source": [
    "freqGyr = []\n",
    "freqAcc = []\n",
    "\n",
    "# Loop through the variables and check if all the data is collected\n",
    "for j in gaitpos:\n",
    "    for i in smartphone:\n",
    "        # Calculating gyroscope frequency before preprocessing\n",
    "        gyrl = eval(f'gyrAss{j}_s{i}')\n",
    "        ng = len(gyrl)\n",
    "\n",
    "        # loop to calculate the frequency over all the data\n",
    "        for s in range(0, ng):\n",
    "            time = np.asarray(gyrl[s].iloc[:,0])\n",
    "\n",
    "            freqG = np.round(len(time)/(time[-1]))\n",
    "            freqGyr.append(freqG)\n",
    "        \n",
    "        # Calculating accelerometer frequency before preprocessing\n",
    "        accl = eval(f'accAss{j}_s{i}')\n",
    "        na = len(accl)\n",
    "\n",
    "        # loop to calculate the frequency over all the data\n",
    "        for s in range(0, na):\n",
    "            time = np.asarray(accl[s].iloc[:,0])\n",
    "\n",
    "            freqA = np.round(len(time)/(time[-1]))\n",
    "            freqAcc.append(freqA)\n",
    "\n",
    "for i in range(0, len(freqGyr)):\n",
    "    if freqGyr[i] < 10:\n",
    "        print(f'Position of the frequency issue is at freqGyr:{i} and the frequency is {freqGyr[i]}')\n",
    "for j in range(0, len(freqAcc)):\n",
    "    if freqAcc[j] < 10:\n",
    "        print(f'Position of the frequency issue is at freqAcc:{j} and the frequency is {freqAcc[j]}')"
   ]
  },
  {
   "cell_type": "markdown",
   "metadata": {},
   "source": [
    "### Filter Data"
   ]
  },
  {
   "cell_type": "markdown",
   "metadata": {},
   "source": [
    "#### Lowpass filter (Butterworth) function"
   ]
  },
  {
   "cell_type": "code",
   "execution_count": 36,
   "metadata": {},
   "outputs": [],
   "source": [
    "#Filter the data to remove noise\n",
    "\n",
    "# inputs for the function is the data, the sampling frequency, the cutoff frequency.\n",
    "def dataFilter(dataInput, fs=200, fc=5, order = 2):\n",
    "    Filtrd = np.zeros(dataInput.shape)\n",
    "    w = fc / (fs * 0.5)\n",
    "    b, a = sp.butter(fc, w, 'low')\n",
    "    \n",
    "    #Filter the X, Y and Z axis of the input data\n",
    "    for i in range(0, 3):\n",
    "        Filtrd[:,i] = sp.filtfilt(b, a, dataInput.iloc[:,i+1])\n",
    "\n",
    "    return Filtrd"
   ]
  },
  {
   "cell_type": "markdown",
   "metadata": {},
   "source": [
    "#### -- Different filter check -- Chebyshev filter"
   ]
  },
  {
   "cell_type": "code",
   "execution_count": 37,
   "metadata": {},
   "outputs": [
    {
     "data": {
      "text/plain": [
       "\"\\n# chebyshev filter for the accelerometer data\\ndef chebyFilter(dataInput, fs=200, fc=5, order = 2):\\n    Filtrd = np.zeros(dataInput.shape)\\n    w = fc / (fs * 0.5)\\n    b, a = sp.cheby2(order, 20, w, 'low')\\n    \\n    #Filter the X, Y and Z axis of the input data\\n    for i in range(0, 3):\\n        Filtrd[:,i] = sp.filtfilt(b,a, dataInput.iloc[:,i+1])\\n    \\n    return Filtrd\\n\""
      ]
     },
     "execution_count": 37,
     "metadata": {},
     "output_type": "execute_result"
    }
   ],
   "source": [
    "'''\n",
    "# chebyshev filter for the accelerometer data\n",
    "def chebyFilter(dataInput, fs=200, fc=5, order = 2):\n",
    "    Filtrd = np.zeros(dataInput.shape)\n",
    "    w = fc / (fs * 0.5)\n",
    "    b, a = sp.cheby2(order, 20, w, 'low')\n",
    "    \n",
    "    #Filter the X, Y and Z axis of the input data\n",
    "    for i in range(0, 3):\n",
    "        Filtrd[:,i] = sp.filtfilt(b,a, dataInput.iloc[:,i+1])\n",
    "    \n",
    "    return Filtrd\n",
    "'''"
   ]
  },
  {
   "cell_type": "markdown",
   "metadata": {},
   "source": [
    "#### -- Test -- the dataFilter function and its dependency on the frequency input"
   ]
  },
  {
   "cell_type": "code",
   "execution_count": 38,
   "metadata": {},
   "outputs": [
    {
     "data": {
      "text/plain": [
       "\"gyrF = []\\naccF = []\\nng = len(gyrAssNormal_s1)\\nna = len(accAssNormal_s1)\\n\\nfor i in range(0, ng):\\n    timeg = np.asarray(gyrAssNormal_s1[i].iloc[:,0])\\n    freqG = np.round(len(timeg)/(timeg[-1]))\\n    gyrF.append(freqG)\\n\\nfor j in range(0, na):\\n    timea = np.asarray(accAssNormal_s1[j].iloc[:,0])\\n    freqA = np.round(len(timea)/(timea[-1]))\\n    accF.append(freqA)\\n\\ngyrFilt = []\\naccFilt = []\\n\\nfor rg in range(0, ng):\\n    gf = dataFilter(gyrAssNormal_s1[rg], fs = 100)\\n    gyrFilt.append(gf)\\n\\nfor ra in range(0, na):\\n    af = dataFilter(accAssNormal_s1[ra], fs = 100)\\n    accFilt.append(af)\\n\\nt1 = np.asarray(gyrAssNormal_s1[0].iloc[:,0])\\nf1 = np.round(len(t1)/(t1[-1]))\\n\\nxyz = dataFilter(gyrAssNormal_s1[0], fs = f1)\\n\\nplt.close('all')\\nplt.plot(gyrAssNormal_s1[0].iloc[:,1], 'r')\\nplt.plot(xyz[:,0], 'b')\\nplt.show()\""
      ]
     },
     "execution_count": 38,
     "metadata": {},
     "output_type": "execute_result"
    }
   ],
   "source": [
    "'''gyrF = []\n",
    "accF = []\n",
    "ng = len(gyrAssNormal_s1)\n",
    "na = len(accAssNormal_s1)\n",
    "\n",
    "for i in range(0, ng):\n",
    "    timeg = np.asarray(gyrAssNormal_s1[i].iloc[:,0])\n",
    "    freqG = np.round(len(timeg)/(timeg[-1]))\n",
    "    gyrF.append(freqG)\n",
    "\n",
    "for j in range(0, na):\n",
    "    timea = np.asarray(accAssNormal_s1[j].iloc[:,0])\n",
    "    freqA = np.round(len(timea)/(timea[-1]))\n",
    "    accF.append(freqA)\n",
    "\n",
    "gyrFilt = []\n",
    "accFilt = []\n",
    "\n",
    "for rg in range(0, ng):\n",
    "    gf = dataFilter(gyrAssNormal_s1[rg], fs = 100)\n",
    "    gyrFilt.append(gf)\n",
    "\n",
    "for ra in range(0, na):\n",
    "    af = dataFilter(accAssNormal_s1[ra], fs = 100)\n",
    "    accFilt.append(af)\n",
    "\n",
    "t1 = np.asarray(gyrAssNormal_s1[0].iloc[:,0])\n",
    "f1 = np.round(len(t1)/(t1[-1]))\n",
    "\n",
    "xyz = dataFilter(gyrAssNormal_s1[0], fs = f1)\n",
    "\n",
    "plt.close('all')\n",
    "plt.plot(gyrAssNormal_s1[0].iloc[:,1], 'r')\n",
    "plt.plot(xyz[:,0], 'b')\n",
    "plt.show()'''"
   ]
  },
  {
   "cell_type": "markdown",
   "metadata": {},
   "source": [
    "#### Filtering all the data"
   ]
  },
  {
   "cell_type": "code",
   "execution_count": 39,
   "metadata": {},
   "outputs": [],
   "source": [
    "# defining arrays for filtered gyroscope data\n",
    "gyrFilteredNormal_s1 = []; gyrFilteredUpstairs_s1 = []; gyrFilteredDownstairs_s1 = []\n",
    "gyrFilteredDownstairs_s3 = []; gyrFilteredUpstairs_s3 = []; gyrFilteredNormal_s3 = []\n",
    "\n",
    "# defining arrays for filtered accelerometer data\n",
    "accFilteredNormal_s1 = []; accFilteredUpstairs_s1 = []; accFilteredDownstairs_s1 = []\n",
    "accFilteredNormal_s3 = []; accFilteredUpstairs_s3 = []; accFilteredDownstairs_s3 = []\n",
    "\n",
    "for j in gaitpos:\n",
    "    for i in smartphone:\n",
    "            # variables of raw the data\n",
    "            gyrl = eval(f'gyrAss{j}_s{i}')\n",
    "            accl = eval(f'accAss{j}_s{i}')\n",
    "            \n",
    "            # variables of filtered the data\n",
    "            gyrF = eval(f'gyrFiltered{j}_s{i}')\n",
    "            accF = eval(f'accFiltered{j}_s{i}')\n",
    "\n",
    "            # getting the shape of the gyroscope data (first integer)\n",
    "            ng = len(gyrl)\n",
    "\n",
    "            # Getting the shape of the accelerometer data (first integer)\n",
    "            na = len(accl)\n",
    "\n",
    "\n",
    "            # Filter all the data\n",
    "            for rg in range(0, ng):\n",
    "                timeg = np.asarray(gyrl[rg].iloc[:,0])\n",
    "                fG = np.round(len(timeg)/(timeg[-1]))\n",
    "\n",
    "                gf = dataFilter(gyrl[rg], fs = fG)\n",
    "                gyrF.append(gf)\n",
    "\n",
    "            for ra in range(0, na):\n",
    "                timea = np.asarray(accl[ra].iloc[:,0])\n",
    "                fA = np.round(len(timea)/(timea[-1]))\n",
    "\n",
    "                af = dataFilter(accl[ra], fs = fA)\n",
    "                accF.append(af)"
   ]
  },
  {
   "cell_type": "markdown",
   "metadata": {},
   "source": [
    "#### Check if all the data is collected correctly after filtering"
   ]
  },
  {
   "cell_type": "code",
   "execution_count": 40,
   "metadata": {},
   "outputs": [
    {
     "name": "stdout",
     "output_type": "stream",
     "text": [
      "Shape of gyrFilteredNormal_s1 is ------ (190,)\n",
      "Shape of accFilteredNormal_s1 is ------ (190,) \n",
      "\n",
      "Shape of gyrFilteredNormal_s3 is ------ (195,)\n",
      "Shape of accFilteredNormal_s3 is ------ (195,) \n",
      "\n",
      "Shape of gyrFilteredUpstairs_s1 is ------ (181,)\n",
      "Shape of accFilteredUpstairs_s1 is ------ (181,) \n",
      "\n",
      "Shape of gyrFilteredUpstairs_s3 is ------ (186,)\n",
      "Shape of accFilteredUpstairs_s3 is ------ (186,) \n",
      "\n",
      "Shape of gyrFilteredDownstairs_s1 is ------ (179,)\n",
      "Shape of accFilteredDownstairs_s1 is ------ (179,) \n",
      "\n",
      "Shape of gyrFilteredDownstairs_s3 is ------ (181,)\n",
      "Shape of accFilteredDownstairs_s3 is ------ (181,) \n",
      "\n"
     ]
    }
   ],
   "source": [
    "# getting the data shape for reference\n",
    "for j in gaitpos:\n",
    "    for i in smartphone:\n",
    "            gyrl = eval(f'gyrFiltered{j}_s{i}')\n",
    "            accl = eval(f'accFiltered{j}_s{i}')\n",
    "\n",
    "            print(f'Shape of gyrFiltered{j}_s{i} is ------ {np.asarray((gyrl), dtype = list).shape}')\n",
    "            print(f'Shape of accFiltered{j}_s{i} is ------ {np.asarray((accl), dtype = list).shape} \\n')"
   ]
  },
  {
   "cell_type": "markdown",
   "metadata": {},
   "source": [
    "### Cut the data"
   ]
  },
  {
   "cell_type": "markdown",
   "metadata": {},
   "source": [
    "#### Cut data function"
   ]
  },
  {
   "cell_type": "code",
   "execution_count": 41,
   "metadata": {},
   "outputs": [],
   "source": [
    "def cutData(gyrFilt, accFilt, freq):\n",
    "    acc_abs = np.linalg.norm(accFilt, axis=1)\n",
    "    \n",
    "    ht = np.round(np.mean(acc_abs[int(0.3*len(acc_abs)):int(0.7*len(acc_abs))])).astype(int)\n",
    "\n",
    "    peaks, _ = sp.find_peaks(acc_abs, height = -10, distance=freq*0.5)\n",
    "    diff_peaks = np.diff(peaks)\n",
    "    gap1 = np.argmax(diff_peaks[: int(0.4*(len(diff_peaks)))])\n",
    "    gap2 = np.argmax(diff_peaks[-int(0.4*len(diff_peaks)) :])\n",
    "    \n",
    "    gap2 = int(np.shape(diff_peaks)[0] - int(0.1*len(diff_peaks)) + gap2)\n",
    "\n",
    "    gyr_cut = gyrFilt[peaks[gap1+1]:peaks[gap2], :]\n",
    "    acc_cut = accFilt[peaks[gap1+1]:peaks[gap2], :]\n",
    "\n",
    "    return gyr_cut, acc_cut"
   ]
  },
  {
   "cell_type": "markdown",
   "metadata": {},
   "source": [
    "#### -- check -- Cut data function"
   ]
  },
  {
   "cell_type": "code",
   "execution_count": null,
   "metadata": {},
   "outputs": [],
   "source": [
    "'''\n",
    "gyrNormalCtted, accNormalCtted = [], []\n",
    "\n",
    "for x in range(0, len(gyrAssNormal_s3)):\n",
    "    num = x\n",
    "    \n",
    "    nq = len(accAssNormal_s3[num])\n",
    "    tq = np.asarray(gyrAssNormal_s3[num].iloc[:,0])\n",
    "    freq = np.round(len(tq)/(tq[-1]))\n",
    "    # print(f'The frequency of the data is {freq}')\n",
    "\n",
    "    acc_abs = np.linalg.norm(accFilteredNormal_s3[num], axis=1)\n",
    "\n",
    "    # ht = np.round(np.mean(acc_abs[int(0.2*len(acc_abs)):int(0.7*len(acc_abs))])).astype(int)\n",
    "    # ht = np.round(np.mean(acc_abs)).astype(int)\n",
    "    # print(f'The average height of the data is {ht}')\n",
    "    peaks, _ = sp.find_peaks(acc_abs, height = 0, distance=freq*0.5)\n",
    "    # print(f'The number of peaks is {(peaks)}')\n",
    "\n",
    "    diff_peaks = np.diff(peaks)\n",
    "    # print(f'The difference of peaks is {(diff_peaks)}')\n",
    "\n",
    "    gap1 = np.argmax(diff_peaks[:20])\n",
    "    # print(f'The first gap is {gap1}')\n",
    "\n",
    "    gap2 = np.argmax(diff_peaks[-10:])\n",
    "    gap2 = int(np.shape(diff_peaks)[0] - 10 + gap2)\n",
    "    # print(f'The second gap is {gap2}')\n",
    "\n",
    "    gyr_cut = gyrFilteredNormal_s3[num][peaks[gap1+1]:peaks[gap2], :]\n",
    "    acc_cut = accFilteredNormal_s3[num][peaks[gap1+1]:peaks[gap2], :]\n",
    "\n",
    "    gyrNormalCtted.append(gyr_cut)\n",
    "    accNormalCtted.append(acc_cut)\n",
    "'''"
   ]
  },
  {
   "cell_type": "markdown",
   "metadata": {},
   "source": [
    "#### -- Test -- Cut Data line by line"
   ]
  },
  {
   "cell_type": "code",
   "execution_count": null,
   "metadata": {},
   "outputs": [],
   "source": [
    "'''\n",
    "num = 7\n",
    "\n",
    "nq = len(accAssNormal_s3[num])\n",
    "tq = np.asarray(gyrAssNormal_s3[num].iloc[:,0])\n",
    "freq = np.round(len(tq)/(tq[-1]))\n",
    "print(f'The frequency of the data is {freq}')\n",
    "\n",
    "acc_abs = np.linalg.norm(accFilteredNormal_s3[num], axis=1)\n",
    "\n",
    "ht = np.round(np.mean(acc_abs[int(0.2*len(acc_abs)):int(0.7*len(acc_abs))])).astype(int)\n",
    "# ht = np.round(np.mean(acc_abs)).astype(int)\n",
    "print(f'The average height of the data is {ht}')\n",
    "peaks, _ = sp.find_peaks(acc_abs, height = 0, distance=freq*0.5)\n",
    "print(f'The number of peaks is {(peaks)}')\n",
    "\n",
    "diff_peaks = np.diff(peaks)\n",
    "print(f'The difference of peaks is {(diff_peaks)}')\n",
    "\n",
    "gap1 = np.argmax(diff_peaks[:int(0.1*(len(diff_peaks)))])\n",
    "print(f'The first gap is {gap1}')\n",
    "\n",
    "gap2 = np.argmax(diff_peaks[-int(0.1*len(diff_peaks)):])\n",
    "gap2 = int(np.shape(diff_peaks)[0] - int(0.2*len(diff_peaks)) + gap2)\n",
    "print(f'The second gap is {gap2}')\n",
    "\n",
    "gyr_cut = gyrFilteredNormal_s3[num][peaks[gap1+1]:peaks[gap2], :]\n",
    "acc_cut = accFilteredNormal_s3[num][peaks[gap1+1]:peaks[gap2], :]\n",
    "\n",
    "plt.close()\n",
    "# plt.plot(gyrFilteredNormal_s1[1][:,0], label='Raw Data', c = 'b')\n",
    "\n",
    "plt.plot(acc_abs, label = 'Accelerometer Absolute Data', c = 'grey')\n",
    "plt.plot(np.linspace(0, len(gyrAssNormal_s3[num])), np.full_like(np.linspace(0, len(gyrAssNormal_s3[num])), ht), label = 'Average Height', c = 'r')\n",
    "\n",
    "plt.plot(peaks, acc_abs[peaks], 'x', label = 'Peaks', c = 'y')\n",
    "plt.plot(np.linspace(0, len(gyrAssNormal_s3[num])), np.zeros_like(np.linspace(0, len(gyrAssNormal_s3[num]))), linestyle = \"--\", linewidth = 0.2, dashes=(5, 15), color=\"black\")\n",
    "\n",
    "plt.plot(peaks[gap1+1], acc_abs[peaks[gap1+1]], 'o', label = 'Gap 1', c = 'g')\n",
    "plt.plot(peaks[gap2], acc_abs[peaks[gap2]], 'o', label = 'Gap 2', c = 'black')\n",
    "\n",
    "plt.plot(gyr_cut[:,0], label = 'Gyr Cut', c='r')\n",
    "\n",
    "plt.legend()\n",
    "plt.grid()\n",
    "plt.show()\n",
    "'''"
   ]
  },
  {
   "cell_type": "code",
   "execution_count": null,
   "metadata": {},
   "outputs": [],
   "source": [
    "'''\n",
    "for xv in range(0, 8):\n",
    "    np.savetxt(f\"gyrCutted{xv}.csv\", gyrNormalCtted[xv], delimiter=\",\")\n",
    "    np.savetxt(f\"accCutted{xv}.csv\", accNormalCtted[xv], delimiter=\",\")\n",
    "'''"
   ]
  },
  {
   "cell_type": "markdown",
   "metadata": {},
   "source": [
    "#### Cut all the data"
   ]
  },
  {
   "cell_type": "code",
   "execution_count": 43,
   "metadata": {},
   "outputs": [
    {
     "name": "stdout",
     "output_type": "stream",
     "text": [
      "Filtering the data of 1 in Normal -- loope 0\n"
     ]
    },
    {
     "ename": "IndexError",
     "evalue": "index 51 is out of bounds for axis 0 with size 51",
     "output_type": "error",
     "traceback": [
      "\u001b[1;31m---------------------------------------------------------------------------\u001b[0m",
      "\u001b[1;31mIndexError\u001b[0m                                Traceback (most recent call last)",
      "\u001b[1;32m<ipython-input-43-64c7728cf89c>\u001b[0m in \u001b[0;36m<module>\u001b[1;34m\u001b[0m\n\u001b[0;32m     32\u001b[0m                 \u001b[0mfreqCut\u001b[0m \u001b[1;33m=\u001b[0m \u001b[0mnp\u001b[0m\u001b[1;33m.\u001b[0m\u001b[0mround\u001b[0m\u001b[1;33m(\u001b[0m\u001b[0mlen\u001b[0m\u001b[1;33m(\u001b[0m\u001b[0mtCut\u001b[0m\u001b[1;33m)\u001b[0m\u001b[1;33m/\u001b[0m\u001b[1;33m(\u001b[0m\u001b[0mtCut\u001b[0m\u001b[1;33m[\u001b[0m\u001b[1;33m-\u001b[0m\u001b[1;36m1\u001b[0m\u001b[1;33m]\u001b[0m\u001b[1;33m)\u001b[0m\u001b[1;33m)\u001b[0m\u001b[1;33m\u001b[0m\u001b[1;33m\u001b[0m\u001b[0m\n\u001b[0;32m     33\u001b[0m                 \u001b[1;31m# print(f'accFiltered{j}_s{i} - {[r]}')\u001b[0m\u001b[1;33m\u001b[0m\u001b[1;33m\u001b[0m\u001b[1;33m\u001b[0m\u001b[0m\n\u001b[1;32m---> 34\u001b[1;33m                 \u001b[0mgf\u001b[0m\u001b[1;33m,\u001b[0m \u001b[0maF\u001b[0m \u001b[1;33m=\u001b[0m \u001b[0mcutData\u001b[0m\u001b[1;33m(\u001b[0m\u001b[0mgyrF\u001b[0m\u001b[1;33m[\u001b[0m\u001b[0mr\u001b[0m\u001b[1;33m]\u001b[0m\u001b[1;33m,\u001b[0m \u001b[0maccF\u001b[0m\u001b[1;33m[\u001b[0m\u001b[0mr\u001b[0m\u001b[1;33m]\u001b[0m\u001b[1;33m,\u001b[0m \u001b[0mfreqCut\u001b[0m\u001b[1;33m)\u001b[0m\u001b[1;33m\u001b[0m\u001b[1;33m\u001b[0m\u001b[0m\n\u001b[0m\u001b[0;32m     35\u001b[0m \u001b[1;33m\u001b[0m\u001b[0m\n\u001b[0;32m     36\u001b[0m                 \u001b[0mgyrC\u001b[0m\u001b[1;33m.\u001b[0m\u001b[0mappend\u001b[0m\u001b[1;33m(\u001b[0m\u001b[0mgf\u001b[0m\u001b[1;33m)\u001b[0m\u001b[1;33m\u001b[0m\u001b[1;33m\u001b[0m\u001b[0m\n",
      "\u001b[1;32m<ipython-input-41-7cedb712a7b7>\u001b[0m in \u001b[0;36mcutData\u001b[1;34m(gyrFilt, accFilt, freq)\u001b[0m\n\u001b[0;32m     11\u001b[0m     \u001b[0mgap2\u001b[0m \u001b[1;33m=\u001b[0m \u001b[0mint\u001b[0m\u001b[1;33m(\u001b[0m\u001b[0mnp\u001b[0m\u001b[1;33m.\u001b[0m\u001b[0mshape\u001b[0m\u001b[1;33m(\u001b[0m\u001b[0mdiff_peaks\u001b[0m\u001b[1;33m)\u001b[0m\u001b[1;33m[\u001b[0m\u001b[1;36m0\u001b[0m\u001b[1;33m]\u001b[0m \u001b[1;33m-\u001b[0m \u001b[0mint\u001b[0m\u001b[1;33m(\u001b[0m\u001b[1;36m0.1\u001b[0m\u001b[1;33m*\u001b[0m\u001b[0mlen\u001b[0m\u001b[1;33m(\u001b[0m\u001b[0mdiff_peaks\u001b[0m\u001b[1;33m)\u001b[0m\u001b[1;33m)\u001b[0m \u001b[1;33m+\u001b[0m \u001b[0mgap2\u001b[0m\u001b[1;33m)\u001b[0m\u001b[1;33m\u001b[0m\u001b[1;33m\u001b[0m\u001b[0m\n\u001b[0;32m     12\u001b[0m \u001b[1;33m\u001b[0m\u001b[0m\n\u001b[1;32m---> 13\u001b[1;33m     \u001b[0mgyr_cut\u001b[0m \u001b[1;33m=\u001b[0m \u001b[0mgyrFilt\u001b[0m\u001b[1;33m[\u001b[0m\u001b[0mpeaks\u001b[0m\u001b[1;33m[\u001b[0m\u001b[0mgap1\u001b[0m\u001b[1;33m+\u001b[0m\u001b[1;36m1\u001b[0m\u001b[1;33m]\u001b[0m\u001b[1;33m:\u001b[0m\u001b[0mpeaks\u001b[0m\u001b[1;33m[\u001b[0m\u001b[0mgap2\u001b[0m\u001b[1;33m]\u001b[0m\u001b[1;33m,\u001b[0m \u001b[1;33m:\u001b[0m\u001b[1;33m]\u001b[0m\u001b[1;33m\u001b[0m\u001b[1;33m\u001b[0m\u001b[0m\n\u001b[0m\u001b[0;32m     14\u001b[0m     \u001b[0macc_cut\u001b[0m \u001b[1;33m=\u001b[0m \u001b[0maccFilt\u001b[0m\u001b[1;33m[\u001b[0m\u001b[0mpeaks\u001b[0m\u001b[1;33m[\u001b[0m\u001b[0mgap1\u001b[0m\u001b[1;33m+\u001b[0m\u001b[1;36m1\u001b[0m\u001b[1;33m]\u001b[0m\u001b[1;33m:\u001b[0m\u001b[0mpeaks\u001b[0m\u001b[1;33m[\u001b[0m\u001b[0mgap2\u001b[0m\u001b[1;33m]\u001b[0m\u001b[1;33m,\u001b[0m \u001b[1;33m:\u001b[0m\u001b[1;33m]\u001b[0m\u001b[1;33m\u001b[0m\u001b[1;33m\u001b[0m\u001b[0m\n\u001b[0;32m     15\u001b[0m \u001b[1;33m\u001b[0m\u001b[0m\n",
      "\u001b[1;31mIndexError\u001b[0m: index 51 is out of bounds for axis 0 with size 51"
     ]
    }
   ],
   "source": [
    "# defining arrays for cut gyroscope data\n",
    "gyrCutNormal_s1 = []; gyrCutUpstairs_s1 = []; gyrCutDownstairs_s1 = []\n",
    "gyrCutNormal_s3 = []; gyrCutUpstairs_s3 = []; gyrCutDownstairs_s3 = []\n",
    "\n",
    "# defining arrays for cut accelerometer data\n",
    "accCutNormal_s1 = []; accCutUpstairs_s1 = []; accCutDownstairs_s1 = []\n",
    "accCutNormal_s3 = []; accCutUpstairs_s3 = []; accCutDownstairs_s3 = []\n",
    "\n",
    "for j in gaitpos:\n",
    "    for i in smartphone:\n",
    "            # variables of raw the data\n",
    "            gyrl = eval(f'gyrAss{j}_s{i}')\n",
    "            accl = eval(f'accAss{j}_s{i}')\n",
    "            \n",
    "            # variables of filtered the data\n",
    "            gyrF = eval(f'gyrFiltered{j}_s{i}')\n",
    "            accF = eval(f'accFiltered{j}_s{i}')\n",
    "\n",
    "            # variables of cutted the data\n",
    "            gyrC = eval(f'gyrCut{j}_s{i}')\n",
    "            accC = eval(f'accCut{j}_s{i}')\n",
    "\n",
    "            # getting the shape of the gyroscope and accelerometer data\n",
    "            n = len(gyrF)\n",
    "\n",
    "            # Filter all the data\n",
    "            for r in range(0, n):\n",
    "                \n",
    "                print(f'Filtering the data of {i} in {j} -- loop {r}')\n",
    "\n",
    "                tCut = np.asarray(gyrl[r].iloc[:,0])\n",
    "                freqCut = np.round(len(tCut)/(tCut[-1]))\n",
    "                # print(f'accFiltered{j}_s{i} - {[r]}')\n",
    "                gf, aF = cutData(gyrF[r], accF[r], freqCut)\n",
    "\n",
    "                gyrC.append(gf)\n",
    "                accC.append(aF)"
   ]
  },
  {
   "cell_type": "markdown",
   "metadata": {},
   "source": [
    "#### check if all the data is collected correctly after cutting"
   ]
  },
  {
   "cell_type": "code",
   "execution_count": null,
   "metadata": {},
   "outputs": [],
   "source": [
    "# getting the data shape for reference\n",
    "for j in gaitpos:\n",
    "    for i in smartphone:\n",
    "            gyr = eval(f'gyrCut{j}_s{i}')\n",
    "            acc = eval(f'accCut{j}_s{i}')\n",
    "\n",
    "            print(f'Shape of gyrCut{j}_s{i} is ------ {np.asarray((gyr), dtype = list).shape}')\n",
    "            print(f'Shape of accCut{j}_s{i} is ------ {np.asarray((acc), dtype = list).shape} \\n')"
   ]
  },
  {
   "cell_type": "markdown",
   "metadata": {},
   "source": [
    "### Plotting data after cutting"
   ]
  },
  {
   "cell_type": "markdown",
   "metadata": {},
   "source": [
    "#### Plot raw data, filtered data, and cut data"
   ]
  },
  {
   "cell_type": "code",
   "execution_count": null,
   "metadata": {},
   "outputs": [],
   "source": [
    "plt.close()\n",
    "plt.plot(gyrAssNormal_s3[7].iloc[:,1], label='Raw Data', c = 'c')\n",
    "plt.plot(gyrFilteredNormal_s3[7][:,0], label='Filtered Data', c = 'b')\n",
    "plt.plot(gyrCutNormal_s3[7][:,0], label = 'Gyr Cutted Data', c = 'r')\n",
    "\n",
    "plt.legend()\n",
    "plt.grid()\n",
    "plt.show()"
   ]
  },
  {
   "cell_type": "markdown",
   "metadata": {},
   "source": [
    "#### -- Test -- Save all cut data to plots"
   ]
  },
  {
   "cell_type": "code",
   "execution_count": null,
   "metadata": {},
   "outputs": [],
   "source": [
    "'''\n",
    "for j in gaitpos:\n",
    "    for i in smartphone:\n",
    "        # variables of raw the data\n",
    "        gyrl = eval(f'gyrAss{j}_s{i}')\n",
    "        accl = eval(f'accAss{j}_s{i}')\n",
    "        # variables of filtered the data\n",
    "        gyrF = eval(f'gyrFiltered{j}_s{i}')\n",
    "        accF = eval(f'accFiltered{j}_s{i}')\n",
    "        # variables of cutted the data\n",
    "        gyrC = eval(f'gyrCut{j}_s{i}')\n",
    "        accC = eval(f'accCut{j}_s{i}')\n",
    "\n",
    "        for rg in range(0, len(gyrF)):\n",
    "            plt.close()\n",
    "            # plt.plot(gyrl[rg].iloc[:,1], label='Raw Gyroscope Data', c = 'c')\n",
    "            plt.plot(accl[rg].iloc[:,1], label='Raw Accelerometer Data', c = 'm')\n",
    "\n",
    "            # plt.plot(gyrF[rg][:,0], label='Filtered Gyroscope Data', c = 'b')\n",
    "            plt.plot(accF[rg][:,0], label='Filtered Accelerometer Data', c = 'g')\n",
    "\n",
    "            # plt.plot(gyrC[rg][:,0], label='Gyroscope Cut Data', c = 'y')\n",
    "            plt.plot(accC[rg][:,0], label = 'Accelerometer Cut Data', c = 'r')\n",
    "\n",
    "            plt.legend()\n",
    "            plt.grid()\n",
    "            plt.ioff()\n",
    "            plt.savefig(rootdir+f'/Accelerometer_Pictures/gyr{j}_s{i}_{rg}.png')\n",
    "'''"
   ]
  },
  {
   "cell_type": "markdown",
   "metadata": {},
   "source": [
    "## Plotttt function"
   ]
  },
  {
   "cell_type": "code",
   "execution_count": null,
   "metadata": {},
   "outputs": [],
   "source": [
    "def gyrPlot(x, y, lbl, xlbl='None', ylbl='None', ttl='None', clr='None'):\n",
    "    plt.close()\n",
    "    plt.plot(x, y, label=lbl, c=clr)\n",
    "\n",
    "    plt.xlabel(xlbl)\n",
    "    plt.ylabel(ylbl)\n",
    "    plt.title(ttl)\n",
    "\n",
    "    plt.legend()\n",
    "    plt.grid()\n",
    "    plt.show()"
   ]
  },
  {
   "cell_type": "markdown",
   "metadata": {},
   "source": [
    "## ---> AI Model"
   ]
  }
 ],
 "metadata": {
  "interpreter": {
   "hash": "d27c620567fe2d1f3f91b14d158f32cde7e2c4b18fc4163e5eb414de6a296357"
  },
  "kernelspec": {
   "display_name": "Python 3.8.12 64-bit ('ai': conda)",
   "language": "python",
   "name": "python3"
  },
  "language_info": {
   "codemirror_mode": {
    "name": "ipython",
    "version": 3
   },
   "file_extension": ".py",
   "mimetype": "text/x-python",
   "name": "python",
   "nbconvert_exporter": "python",
   "pygments_lexer": "ipython3",
   "version": "3.8.12"
  },
  "orig_nbformat": 4
 },
 "nbformat": 4,
 "nbformat_minor": 2
}
