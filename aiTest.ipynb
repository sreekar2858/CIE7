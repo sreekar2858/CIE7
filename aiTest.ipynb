{
 "cells": [
  {
   "cell_type": "code",
   "execution_count": 1,
   "metadata": {},
   "outputs": [],
   "source": [
    "import os\n",
    "\n",
    "import pandas as pd\n",
    "import numpy as np\n",
    "import matplotlib.pyplot as plt"
   ]
  },
  {
   "cell_type": "code",
   "execution_count": 2,
   "metadata": {},
   "outputs": [],
   "source": [
    "gyrFile = 'Gyroscope'\n",
    "accFile = 'Accelerometer'\n",
    "\n",
    "rootdir = os.getcwd()\n",
    "os.chdir(rootdir)\n",
    "\n",
    "normal = 'normal'\n",
    "\n",
    "upstairs = 'upstairs'\n",
    "downstairs = 'downstairs'\n",
    "\n",
    "# define the variables for the dataframe\n",
    "s1 = 'Smartphone1'  # Right back pocket\n",
    "s2 = 'Smartphone2'  # Left back pocket\n",
    "s3 = 'Smartphone3'  # Right front pocket\n",
    "s4 = 'Smartphone4'  # Left front pocket"
   ]
  },
  {
   "cell_type": "code",
   "execution_count": 3,
   "metadata": {},
   "outputs": [
    {
     "name": "stdout",
     "output_type": "stream",
     "text": [
      "d:\\OneDrive - rwth-aachen.de\\EDU_Master\\1 Courses\\ws21\\Computational Intelligence in Engineering (VO) [21ws-41.09212]\\_Project\\CIE7\\SensorData\\Smartphone1\\subject181_normal01\\Gyroscope.csv\n",
      "Frequency of Gyroscope:  99.90009990009989\n",
      "(2996, 4)\n",
      "d:\\OneDrive - rwth-aachen.de\\EDU_Master\\1 Courses\\ws21\\Computational Intelligence in Engineering (VO) [21ws-41.09212]\\_Project\\CIE7\\SensorData\\Smartphone1\\subject181_normal02\\Gyroscope.csv\n",
      "Frequency of Gyroscope:  99.90009990009989\n",
      "(2997, 4)\n"
     ]
    }
   ],
   "source": [
    "for subdir, dirs, files in os.walk(rootdir):\n",
    "    if s1 in subdir:\n",
    "        if normal in subdir:\n",
    "            for file in files:\n",
    "                if gyrFile in file:\n",
    "                    print(os.path.join(subdir, file))\n",
    "                    with open(os.path.join(subdir, file), 'r') as f: # open in readonly mode\n",
    "                        gyrData = pd.read_csv(f)\n",
    "                        gyrTime = gyrData['Time (s)']\n",
    "                        gyrShape = gyrData.shape\n",
    "                    \n",
    "                        freqGyr = 1/(gyrTime[1]-gyrTime[0])\n",
    "                    \n",
    "                    print(\"Frequency of Gyroscope: \", freqGyr)\n",
    "                    print(gyrShape)\n",
    "                    \n",
    "                    # print(gyrData.tail(1))\n",
    "                    # print(accData.tail(1))\n",
    "\n",
    "\n",
    "#End of file data import and processing"
   ]
  },
  {
   "cell_type": "code",
   "execution_count": null,
   "metadata": {},
   "outputs": [],
   "source": []
  }
 ],
 "metadata": {
  "interpreter": {
   "hash": "d27c620567fe2d1f3f91b14d158f32cde7e2c4b18fc4163e5eb414de6a296357"
  },
  "kernelspec": {
   "display_name": "Python 3",
   "language": "python",
   "name": "python3"
  },
  "language_info": {
   "codemirror_mode": {
    "name": "ipython",
    "version": 3
   },
   "file_extension": ".py",
   "mimetype": "text/x-python",
   "name": "python",
   "nbconvert_exporter": "python",
   "pygments_lexer": "ipython3",
   "version": "3.8.12"
  }
 },
 "nbformat": 4,
 "nbformat_minor": 2
}
