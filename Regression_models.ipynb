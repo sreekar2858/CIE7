{
 "cells": [
  {
   "cell_type": "code",
   "execution_count": 27,
   "metadata": {},
   "outputs": [],
   "source": [
    "import pickle\n",
    "import pandas as pd\n",
    "import numpy as np\n",
    "import matplotlib.pyplot as plt\n",
    "from sklearn.neighbors import KNeighborsClassifier\n",
    "from sklearn.preprocessing import MinMaxScaler, minmax_scale, StandardScaler, LabelEncoder\n",
    "from scipy.signal import resample, find_peaks\n",
    "from math import sqrt\n",
    "#replace the path \n",
    "label=pd.read_pickle(r'C:\\Users\\Shiva\\Downloads\\_______\\Project B\\training_labels.pickle')\n",
    "train=pd.read_pickle(r'C:\\Users\\Shiva\\Downloads\\_______\\Project B\\train.pickle')\n",
    "exp_train=pd.read_pickle(r'C:\\Users\\Shiva\\Downloads\\_______\\Project B\\exp_validation_data.pickle')\n",
    "exp_label=pd.read_pickle(r'C:\\Users\\Shiva\\Downloads\\_______\\Project B\\exp_validation_labels.pickle')\n",
    "pd.set_option('display.max_rows', None)"
   ]
  },
  {
   "cell_type": "code",
   "execution_count": 28,
   "metadata": {},
   "outputs": [
    {
     "name": "stdout",
     "output_type": "stream",
     "text": [
      "(925, 2)\n",
      "(925, 20000, 5)\n",
      "(24, 100001, 5)\n",
      "(24, 2)\n"
     ]
    }
   ],
   "source": [
    "print(label.shape)\n",
    "print(np.shape(train))\n",
    "print(np.shape(exp_train))\n",
    "print(exp_label.shape)\n"
   ]
  },
  {
   "cell_type": "code",
   "execution_count": 29,
   "metadata": {},
   "outputs": [],
   "source": [
    "train_n = np.zeros_like(np.asarray(train)); label_n = np.zeros_like(np.asarray(label))\n",
    "\n",
    "for i in range (0, len(train)):\n",
    "    for j in range (1, 5):\n",
    "        train_n[i][:,j] = minmax_scale(train[i][:,j])\n",
    "\n",
    "scalar = MinMaxScaler()\n",
    "label_n = scalar.fit_transform(label)\n",
    "\n",
    "\n",
    "exptrain_n= np.zeros_like(np.asarray(exp_train)); exp_label_n = np.zeros_like(np.asarray(exp_label))\n",
    "\n",
    "for i in range (0, len(exp_train)):\n",
    "    for j in range (1, 5):\n",
    "        exptrain_n[i][:,j] = minmax_scale(exp_train[i][:,j])\n",
    "\n",
    "scalar = MinMaxScaler()\n",
    "exp_label_n = scalar.fit_transform(exp_label)\n"
   ]
  },
  {
   "cell_type": "markdown",
   "metadata": {},
   "source": [
    "## Resampling and Reshaping"
   ]
  },
  {
   "cell_type": "code",
   "execution_count": 30,
   "metadata": {},
   "outputs": [
    {
     "name": "stdout",
     "output_type": "stream",
     "text": [
      "(925, 100, 4)\n"
     ]
    },
    {
     "data": {
      "text/plain": [
       "(24, 100, 4)"
      ]
     },
     "execution_count": 30,
     "metadata": {},
     "output_type": "execute_result"
    }
   ],
   "source": [
    "resample_n = []\n",
    "\n",
    "# create a dataframe from the normalized data\n",
    "for i in range (0, len(train)):\n",
    "    resample_n.append(pd.DataFrame(train_n[i], columns = ['time', '1', '2', '3', '4']))\n",
    "    # drop the time column\n",
    "    resample_n[i] = resample_n[i].drop(columns = ['time'])\n",
    "\n",
    "size = 100\n",
    "\n",
    "for i in range (0, len(train)):\n",
    "    resample_n[i] = resample(resample_n[i], size)\n",
    "\n",
    "print(np.asarray(resample_n).shape)\n",
    "\n",
    "\n",
    "resample_exp= []\n",
    "\n",
    "for i in range(0,len(exp_train)):\n",
    "    resample_exp.append(pd.DataFrame(exptrain_n[i], columns = ['time', '1', '2', '3', '4']))\n",
    "    # drop the time column\n",
    "    resample_exp[i] = resample_exp[i].drop(columns = ['time'])\n",
    "\n",
    "size = 100\n",
    "\n",
    "for i in range (0, len(exp_train)):\n",
    "    resample_exp[i] = resample(resample_exp[i], size)\n",
    "\n",
    "np.asarray(resample_exp).shape\n"
   ]
  },
  {
   "cell_type": "code",
   "execution_count": 31,
   "metadata": {},
   "outputs": [
    {
     "data": {
      "text/plain": [
       "array([[ 0.60534239,  0.60539197,  0.60534239, ...,  0.67415327,\n",
       "         0.67409926,  0.67415325],\n",
       "       [ 0.69474374,  0.59052564,  0.51662772, ...,  0.66106985,\n",
       "         0.56367879,  0.66106953],\n",
       "       [ 0.81306643,  0.59305464,  0.45219437, ...,  0.6548785 ,\n",
       "         0.45863536,  0.65487842],\n",
       "       ...,\n",
       "       [ 0.62162485,  0.45116907,  0.63684638, ...,  0.3610987 ,\n",
       "         0.82259358,  0.87232062],\n",
       "       [ 0.38070146,  0.32493691,  0.62483058, ...,  0.09777036,\n",
       "         0.80488409,  0.90321542],\n",
       "       [ 0.25359723,  0.25335784,  0.59798901, ..., -0.03363212,\n",
       "         0.72919947,  0.72921658]])"
      ]
     },
     "execution_count": 31,
     "metadata": {},
     "output_type": "execute_result"
    }
   ],
   "source": [
    "df= np.array(resample_n)\n",
    "X=df.reshape(925,400)\n",
    "df1=np.array(resample_exp)\n",
    "exp_x=df1.reshape(24,400)\n",
    "\n",
    "X"
   ]
  },
  {
   "cell_type": "code",
   "execution_count": 32,
   "metadata": {},
   "outputs": [
    {
     "name": "stdout",
     "output_type": "stream",
     "text": [
      "(647, 2)\n",
      "(647, 400)\n"
     ]
    }
   ],
   "source": [
    "from sklearn.model_selection import train_test_split\n",
    "x_train, x_test,y_train, y_test = train_test_split(X, label_n, test_size=0.3)\n",
    "print(y_train.shape)\n",
    "print(x_train.shape)"
   ]
  },
  {
   "cell_type": "markdown",
   "metadata": {},
   "source": [
    "# Linear Regression model\n"
   ]
  },
  {
   "cell_type": "code",
   "execution_count": 47,
   "metadata": {},
   "outputs": [
    {
     "name": "stdout",
     "output_type": "stream",
     "text": [
      "MSE of LR is: 0.5373771752797953\n",
      "MAE of LR is: 0.35636608641926315\n"
     ]
    }
   ],
   "source": [
    "from sklearn.linear_model import LinearRegression\n",
    "from sklearn.metrics import mean_squared_error\n",
    "from sklearn.metrics import mean_absolute_error\n",
    "from math import sqrt\n",
    "Eskel=LinearRegression()\n",
    "Eskel.fit(x_train,y_train)\n",
    "Lambert=Eskel.predict(x_test)\n",
    "\n",
    "\n",
    "fire=sqrt(mean_squared_error(y_test,Lambert))\n",
    "print('MSE of LR is:', fire)\n",
    "wood=mean_absolute_error(y_test,Lambert)\n",
    "print('MAE of LR is:', wood)\n"
   ]
  },
  {
   "cell_type": "code",
   "execution_count": 34,
   "metadata": {},
   "outputs": [],
   "source": [
    "# Leshy=Eskel.predict(exp_x)\n",
    "# exp_label-Leshy"
   ]
  },
  {
   "cell_type": "markdown",
   "metadata": {},
   "source": [
    "## Decision Tree"
   ]
  },
  {
   "cell_type": "code",
   "execution_count": 35,
   "metadata": {},
   "outputs": [
    {
     "name": "stdout",
     "output_type": "stream",
     "text": [
      "RMSE value for K= 5 is: 0.2307842951487172\n",
      "MAE value for K=5 is : 0.1378896882494005\n"
     ]
    }
   ],
   "source": [
    "from sklearn.datasets import make_regression\n",
    "from sklearn.tree import DecisionTreeRegressor\n",
    "\n",
    "dtmodel=DecisionTreeRegressor()\n",
    "dtmodel.fit(x_train,y_train)\n",
    "\n",
    "dtpredict=dtmodel.predict(x_test)\n",
    "\n",
    "RMSE= sqrt(mean_squared_error(y_test,dtpredict))\n",
    "print('RMSE value for K= 5 is:', RMSE)\n",
    "MAE=mean_absolute_error(y_test, dtpredict)\n",
    "print('MAE value for K=5 is :', MAE)"
   ]
  },
  {
   "cell_type": "code",
   "execution_count": 36,
   "metadata": {},
   "outputs": [
    {
     "name": "stdout",
     "output_type": "stream",
     "text": [
      "MAE: 0.145 (0.018)\n"
     ]
    }
   ],
   "source": [
    "from numpy import absolute\n",
    "from numpy import mean\n",
    "from numpy import std\n",
    "from sklearn.model_selection import cross_val_score\n",
    "from sklearn.model_selection import RepeatedKFold\n",
    "\n",
    "cv=RepeatedKFold(n_splits=10, n_repeats=3, random_state=1)\n",
    "n_scores=cross_val_score(dtmodel,x_train, y_train, scoring='neg_mean_absolute_error', cv=cv,n_jobs=-1)\n",
    "n_scores = absolute(n_scores)\n",
    "print('MAE: %.3f (%.3f)' % (mean(n_scores), std(n_scores)))"
   ]
  },
  {
   "cell_type": "markdown",
   "metadata": {},
   "source": [
    "## KNN (Code name: Whitewolf)"
   ]
  },
  {
   "cell_type": "code",
   "execution_count": 37,
   "metadata": {},
   "outputs": [
    {
     "name": "stdout",
     "output_type": "stream",
     "text": [
      "RMSE value for K= 5 is: 0.06577194534418565\n",
      "MAE value for K=5 is : 0.03538986603353424\n"
     ]
    }
   ],
   "source": [
    "from sklearn.neighbors import KNeighborsRegressor\n",
    "from sklearn.metrics import accuracy_score\n",
    "from math import sqrt\n",
    "from sklearn.metrics import mean_squared_error\n",
    "from sklearn.metrics import mean_absolute_error\n",
    "from sklearn.preprocessing import MinMaxScaler\n",
    "\n",
    "geralt= KNeighborsRegressor(n_neighbors=5, weights='distance')\n",
    "geralt.fit(x_train,y_train)\n",
    "Whitewolf= geralt.predict(x_test)\n",
    "\n",
    "\n",
    "leshy= sqrt(mean_squared_error(y_test,Whitewolf))\n",
    "print('RMSE value for K= 5 is:', leshy)\n",
    "babayaga=mean_absolute_error(y_test, Whitewolf)\n",
    "print('MAE value for K=5 is :', babayaga)\n"
   ]
  },
  {
   "cell_type": "code",
   "execution_count": null,
   "metadata": {},
   "outputs": [],
   "source": []
  },
  {
   "cell_type": "code",
   "execution_count": 38,
   "metadata": {},
   "outputs": [
    {
     "data": {
      "text/plain": [
       "array([[-4.23059571e+00, -2.64017004e+00],\n",
       "       [-2.21331252e-01,  1.46287219e-01],\n",
       "       [-3.13447549e+00,  1.50846619e+00],\n",
       "       [-6.70956947e-01,  5.65663917e-01],\n",
       "       [-2.01231426e-02,  6.47122079e+00],\n",
       "       [ 1.68567829e-02, -3.54466511e-01],\n",
       "       [-1.59286528e-01,  1.12742902e+00],\n",
       "       [-1.97089781e-03, -3.89824179e-01],\n",
       "       [-4.46996183e-01,  4.05569800e-01],\n",
       "       [-1.03932297e-01, -2.89832262e-02],\n",
       "       [-5.52241454e-01,  3.57082877e-01],\n",
       "       [-6.30167049e-01,  6.03733585e-01],\n",
       "       [-1.77248898e+01,  4.41370945e-02],\n",
       "       [-9.20343468e-01,  1.37328267e+00],\n",
       "       [ 5.77329264e+00, -3.33028792e+00],\n",
       "       [-1.11325852e+00,  5.12952626e-01],\n",
       "       [ 1.08284419e+01, -3.09550154e-01],\n",
       "       [ 6.39407326e+00, -7.48959428e+00],\n",
       "       [-9.72519261e-01,  3.76202937e-01],\n",
       "       [ 1.93903955e+00, -5.20632949e-01],\n",
       "       [ 5.57521807e+00, -2.77581280e-02],\n",
       "       [-5.61039882e+00, -9.47929386e+00],\n",
       "       [-2.78928540e+00, -8.40367113e+00],\n",
       "       [-1.22708881e+00,  2.84217094e-14],\n",
       "       [ 1.55460770e+01, -2.87242615e+00],\n",
       "       [-3.52613052e+00,  7.39746465e+00],\n",
       "       [-1.07665745e+01,  7.42633774e-01],\n",
       "       [ 5.33282292e-01, -2.88243205e-01],\n",
       "       [ 4.82000509e-01,  5.52555529e+00],\n",
       "       [ 3.95222164e-01, -4.99228295e-01],\n",
       "       [-9.37770476e-01,  3.64068498e-01],\n",
       "       [-4.01061556e+00,  2.89413617e+00],\n",
       "       [ 4.36855208e-02,  3.87852431e-01],\n",
       "       [ 7.51018532e-01, -5.27888656e-01],\n",
       "       [ 3.53409933e+00, -2.21624641e+00],\n",
       "       [ 9.89445290e-01, -1.03297578e+00],\n",
       "       [ 7.81487957e-01,  4.28779576e-01],\n",
       "       [ 7.70197659e-01, -1.92729037e-02],\n",
       "       [ 4.65133659e-02,  4.20365810e-01],\n",
       "       [-9.34019191e+00, -1.69450223e-01],\n",
       "       [-2.38430506e-01,  5.71024477e-01],\n",
       "       [ 7.55340782e-02, -6.61342229e-01],\n",
       "       [ 4.29887584e-01,  5.85691114e-01],\n",
       "       [-3.13238103e+00, -2.03327441e+00],\n",
       "       [-2.90879848e+01, -6.79047104e+00],\n",
       "       [-1.31847080e+01,  1.07927832e+01],\n",
       "       [ 6.91164471e-01, -3.71835785e+00],\n",
       "       [-2.40784251e-01, -1.08216217e-01],\n",
       "       [-4.83864303e-01, -6.85135012e-01],\n",
       "       [ 6.26834649e-01,  1.35641914e-02],\n",
       "       [ 6.25526085e-01,  4.17279143e-01],\n",
       "       [-3.02314619e+00, -2.38531601e+00],\n",
       "       [ 6.56948003e+00, -3.62739295e-01],\n",
       "       [-5.16412680e-01,  8.21892511e-03],\n",
       "       [-4.24375238e-01, -2.95767888e-01],\n",
       "       [ 3.41713776e+00,  2.15819227e+00],\n",
       "       [-3.19193366e-01,  3.95156835e-01],\n",
       "       [-2.49709990e+00,  8.17328597e-01],\n",
       "       [-5.33042954e-01,  6.35879256e-02],\n",
       "       [-1.33992510e+00, -2.57585288e-01],\n",
       "       [-1.07582938e+01, -8.20526689e-01],\n",
       "       [ 2.40349797e+00,  1.51799833e+00],\n",
       "       [-2.49763684e+00,  5.88813466e-01],\n",
       "       [ 7.11531052e-01,  6.46324784e-01],\n",
       "       [-7.01600519e+00, -1.59370613e+00],\n",
       "       [ 3.91316015e-02,  3.76654826e-01],\n",
       "       [ 8.81689452e-01, -4.01031179e-01],\n",
       "       [-9.38445144e-01, -1.44985814e+00],\n",
       "       [ 6.78843481e-01, -1.43478343e-02],\n",
       "       [ 1.53010349e-02, -1.00332749e+00],\n",
       "       [ 7.63680109e+00, -3.47380343e-01],\n",
       "       [-1.00786014e+00, -1.61412861e+00],\n",
       "       [-7.57298830e-01,  4.17816451e-01],\n",
       "       [-1.71477330e+01,  9.07755048e-02],\n",
       "       [-1.14692326e+01,  1.19180062e+01],\n",
       "       [ 4.97243555e+00, -3.11565091e+00],\n",
       "       [-1.15730588e+00, -2.25916442e+00],\n",
       "       [ 8.86156757e+00,  4.93931014e+00],\n",
       "       [-1.52301712e+00, -2.86359079e-02],\n",
       "       [-1.53134634e+01, -2.08957548e+00],\n",
       "       [ 9.07264855e+00, -4.29471371e-01],\n",
       "       [-4.45240307e-01,  3.43747748e-01],\n",
       "       [-7.69607713e-02,  4.72741369e+00],\n",
       "       [-6.09679404e-01,  7.35422470e+00],\n",
       "       [ 2.35407933e-02,  3.60067861e-01],\n",
       "       [ 4.45869617e-01, -6.16038003e-01],\n",
       "       [ 1.37984464e-01,  1.19024204e-01],\n",
       "       [ 6.52569951e-01, -6.43671241e+00],\n",
       "       [-1.14738858e+00, -2.29509804e+00],\n",
       "       [-3.88810521e+00,  2.10633278e+00],\n",
       "       [-6.62795287e-01, -6.63536497e+00],\n",
       "       [ 4.44675283e+00,  3.84187231e+00],\n",
       "       [ 6.54237189e-01, -3.59652872e-01],\n",
       "       [-1.02814943e+00,  2.92748626e-01],\n",
       "       [ 2.96036002e+00, -1.78571774e+00],\n",
       "       [ 2.83889276e+00, -1.76517476e+00],\n",
       "       [-6.85519135e+00, -8.03863103e-02],\n",
       "       [ 2.33196418e-02, -6.72091889e-01],\n",
       "       [-3.53134405e+00,  9.24551204e-01],\n",
       "       [ 5.37571998e-01, -5.90769039e+00],\n",
       "       [ 2.52474078e-01,  4.15131001e-01],\n",
       "       [ 1.14058801e+01,  1.34624187e+01],\n",
       "       [ 6.06704166e-01, -4.15873825e-01],\n",
       "       [ 8.63056594e+00,  8.36797240e+00],\n",
       "       [ 1.03877155e+00,  3.72555973e-02],\n",
       "       [-8.66843510e-02,  9.13601005e-01],\n",
       "       [ 9.78528374e-03,  3.06259430e-01],\n",
       "       [-8.22219488e+00,  3.22756691e-01],\n",
       "       [-1.23718605e+01,  2.60225705e+00],\n",
       "       [ 1.06414883e+00,  1.46438299e-02],\n",
       "       [ 2.79489468e+00, -1.79313457e+00],\n",
       "       [ 5.39699155e+00,  3.08217050e+00],\n",
       "       [ 1.81357227e-01,  2.87824068e-01],\n",
       "       [-4.79694988e-01, -6.58510743e-01],\n",
       "       [-8.45250459e-01, -6.72056708e-01],\n",
       "       [ 6.28491851e-01, -3.64978382e+00],\n",
       "       [ 2.04260396e+00,  1.63047146e+00],\n",
       "       [ 5.76453642e-01,  5.92497714e-01],\n",
       "       [ 4.78282682e-01, -2.42564910e-02],\n",
       "       [-4.56821397e+00, -2.05974086e+00],\n",
       "       [ 2.39439340e+00,  1.76429037e+00],\n",
       "       [ 8.65300135e-03,  9.90619951e-01],\n",
       "       [ 5.93336913e-02,  3.44955911e-01],\n",
       "       [ 1.53130379e+00, -6.07172889e-01],\n",
       "       [-1.62396689e+01,  7.71247723e+00],\n",
       "       [-2.72848965e+00, -6.05825895e-01],\n",
       "       [-2.11657581e+00, -6.59008709e+00],\n",
       "       [-1.62227729e+00, -2.09041951e-01],\n",
       "       [ 7.32445872e-02,  5.74824961e-01],\n",
       "       [ 8.49330263e+00, -1.97957842e-02],\n",
       "       [-2.82706319e+00,  1.86955875e+00],\n",
       "       [-4.34241129e-01, -4.42444927e-01],\n",
       "       [-4.84124320e-01, -6.61684095e-01],\n",
       "       [-6.61918239e-01, -5.91513697e+00],\n",
       "       [ 8.84835980e+00, -1.43345793e-01],\n",
       "       [-9.97722685e+00,  5.86167472e+00],\n",
       "       [-6.87651970e-01, -2.59139047e-01],\n",
       "       [-4.06538346e-01,  6.02705521e-01],\n",
       "       [-7.27888220e+00,  8.12650371e-01],\n",
       "       [ 9.23384099e-02, -2.29867481e+00],\n",
       "       [-1.31008794e+00,  4.07144116e+00],\n",
       "       [-1.01590142e+01, -1.22522608e-01],\n",
       "       [-1.17582083e+00,  6.79987090e+00],\n",
       "       [-2.34697913e+01,  1.93503354e+01],\n",
       "       [-5.70038527e-01,  4.55058333e+00],\n",
       "       [-1.66444233e+00, -7.27179081e-01],\n",
       "       [-1.65868235e-01, -1.00848988e-01],\n",
       "       [ 6.07310649e+00, -1.07477063e+01],\n",
       "       [ 3.88077233e-01, -2.76130299e-01],\n",
       "       [ 1.12128760e+00,  3.39714359e-01],\n",
       "       [ 3.05042828e-02,  4.86510797e-01],\n",
       "       [-1.04593932e-03, -1.04372721e+00],\n",
       "       [ 3.26583420e+00,  1.75353367e+00],\n",
       "       [ 1.20780644e+00, -3.47332537e-02],\n",
       "       [-8.53897773e-01,  6.71656167e+00],\n",
       "       [ 1.26766542e+00,  8.33857557e-01],\n",
       "       [-8.18702414e-01,  5.59731121e-01],\n",
       "       [-3.49402811e+00, -1.50867006e+00],\n",
       "       [-4.82126665e+00, -9.67419548e+00],\n",
       "       [ 5.08605072e-01, -3.34145174e-02],\n",
       "       [-6.43272989e-01,  2.76524860e-01],\n",
       "       [-9.52155784e-01, -1.74272470e-01],\n",
       "       [ 3.13233255e+00, -2.03327418e+00],\n",
       "       [ 1.78201415e-01, -7.72736991e-01],\n",
       "       [-2.94582340e+00,  3.52734491e-01],\n",
       "       [ 1.01805857e+00, -6.42821877e+00],\n",
       "       [ 9.54370259e-01, -2.56807969e-01],\n",
       "       [ 2.03476190e+00,  5.93785379e-01],\n",
       "       [-8.51284975e-01, -4.65383759e-01],\n",
       "       [ 3.85610889e+00,  3.83412045e+00],\n",
       "       [ 6.26861876e-01, -2.31211735e-01],\n",
       "       [ 5.50049841e+00,  3.90614124e+00],\n",
       "       [-5.59275005e-01,  7.47319254e-01],\n",
       "       [-1.16794207e+01, -1.87160315e+00],\n",
       "       [ 1.01318252e+01, -4.68405215e-01],\n",
       "       [ 9.99776849e-01, -2.81777766e-01],\n",
       "       [-1.80735574e+00, -5.42128607e-03],\n",
       "       [ 5.69972618e-01,  1.48727838e-02],\n",
       "       [-8.77627018e-01, -1.27701372e+00],\n",
       "       [-8.32881676e-01, -1.83867844e-01],\n",
       "       [-5.71711179e-01, -1.09514649e-02],\n",
       "       [-8.84245742e+00,  7.91819782e-01],\n",
       "       [-6.43295871e-01,  6.42762461e-03],\n",
       "       [-6.35060764e-01,  6.44846557e-03],\n",
       "       [-1.05665497e+00,  1.65971473e+00],\n",
       "       [ 9.12456610e-01,  1.61717424e-01],\n",
       "       [-5.37749000e-01, -7.08128755e-01],\n",
       "       [-4.15138793e-01,  2.76749574e-08],\n",
       "       [-2.87798340e-02,  3.41089740e-01],\n",
       "       [ 4.65803977e-01,  6.63310561e-01],\n",
       "       [ 7.89336899e+00,  2.85149182e+01],\n",
       "       [ 3.08292251e+00, -1.55852749e+00],\n",
       "       [ 1.11601121e+01,  9.64738825e+00],\n",
       "       [ 1.60732220e-01, -7.31828094e-01],\n",
       "       [ 1.57129821e-06,  2.93635440e-01],\n",
       "       [-3.99568297e+00, -2.13587716e+00],\n",
       "       [-1.04199911e+01,  3.17610028e-01],\n",
       "       [ 1.08893337e+01, -1.37971542e+01],\n",
       "       [ 6.18354522e+00, -3.45257475e+00],\n",
       "       [-4.93847543e-01, -9.52274106e-01],\n",
       "       [-4.16926510e+00, -7.57410091e-02],\n",
       "       [ 1.41765098e+00,  9.16304071e+00],\n",
       "       [ 2.49815203e-02,  5.81510907e+00],\n",
       "       [ 5.33492479e-01, -9.79564961e-02],\n",
       "       [ 8.84163049e+00, -1.00298645e+01],\n",
       "       [ 1.68200730e+01, -4.10919527e+00],\n",
       "       [ 2.86314189e-02, -7.14023568e-01],\n",
       "       [ 7.76420586e-01, -6.62734354e+00],\n",
       "       [ 8.54530723e-01,  2.92325562e-02],\n",
       "       [ 5.04076991e-01,  3.26270727e-01],\n",
       "       [ 1.44524871e+00,  2.94371334e-01],\n",
       "       [ 3.32332785e-01,  4.90908520e-01],\n",
       "       [-3.52475334e-01,  7.70214326e+00],\n",
       "       [-7.27888220e+00, -8.12650371e-01],\n",
       "       [-1.36399377e+00,  5.52775142e+00],\n",
       "       [ 3.49847442e+00,  1.94380131e+00],\n",
       "       [-6.93115931e+00, -3.97263829e+00],\n",
       "       [-6.10134527e-01,  6.08286924e-02],\n",
       "       [-5.15731666e-01,  1.67779901e-02],\n",
       "       [ 3.77737435e-01,  9.04784965e-01],\n",
       "       [ 5.79772712e-01, -2.72000054e-02],\n",
       "       [-8.85666778e+00, -1.68180155e+00],\n",
       "       [-9.05316466e+00,  3.47961238e-02],\n",
       "       [ 1.20162456e+00,  5.19371008e+00],\n",
       "       [ 5.52241454e-01,  3.57082877e-01],\n",
       "       [-1.68665143e+00,  6.74521150e-01],\n",
       "       [ 5.52069577e+00,  2.31567531e+00],\n",
       "       [ 6.10074804e-01, -2.07034077e+00],\n",
       "       [ 4.75841880e-01, -3.26026510e-01],\n",
       "       [-3.27733036e+00,  4.00398630e-01],\n",
       "       [ 2.53610896e+00,  2.80899092e+00],\n",
       "       [-5.97967358e+00, -6.81845395e-01],\n",
       "       [-7.14588380e-02,  5.47438901e-01],\n",
       "       [ 4.83068651e-02,  3.28799465e-01],\n",
       "       [-4.63356189e+00,  3.16127917e+00],\n",
       "       [ 9.36848153e-01, -1.37434418e+00],\n",
       "       [ 6.02043628e+00,  1.45006783e+01],\n",
       "       [ 5.83053177e-01, -1.11293902e+00],\n",
       "       [-5.47534110e-01, -3.79259783e-01],\n",
       "       [-3.65832357e+00, -2.61119879e+00],\n",
       "       [ 3.61340780e+00,  6.00692261e+00],\n",
       "       [-6.66115279e-01,  4.06259012e-01],\n",
       "       [ 4.99984344e-01, -1.73181782e-02],\n",
       "       [ 9.48218542e+00, -1.01751656e+01],\n",
       "       [-5.41789023e-01, -5.57896853e+00],\n",
       "       [-8.79870678e+00,  1.63215801e-01],\n",
       "       [ 1.16066915e+00, -3.55456112e-01],\n",
       "       [ 1.08267572e+01,  4.52790947e-01],\n",
       "       [-1.30297138e+00,  6.67883000e+00],\n",
       "       [-7.90616523e-01,  2.49668226e-01],\n",
       "       [-1.99021471e+00, -1.28882407e+00],\n",
       "       [-1.07298874e+00,  2.41687130e-01],\n",
       "       [ 1.43747275e+00, -6.31281497e+00],\n",
       "       [-7.99061097e+00,  3.18849607e-01],\n",
       "       [ 1.99037755e+00,  1.50849711e+00],\n",
       "       [ 5.91618829e-01,  6.05517831e-01],\n",
       "       [ 5.84724646e-01,  4.19257095e-01],\n",
       "       [ 1.06337377e+00,  4.22296824e-01],\n",
       "       [-7.60334692e+00, -6.42826309e-01],\n",
       "       [-4.49774296e+01,  1.58015486e+01],\n",
       "       [ 5.71711179e-01, -1.09514649e-02],\n",
       "       [-3.79596549e+00, -3.54209582e+00],\n",
       "       [ 3.03588862e+00, -2.68810547e-01],\n",
       "       [ 7.60479515e-01,  5.11732348e-01],\n",
       "       [-6.64295391e-01,  2.82189972e-02],\n",
       "       [-7.83552985e-02,  6.27402357e-01],\n",
       "       [ 5.71146362e-01,  1.10374400e-02],\n",
       "       [-2.56128450e-01, -5.76357491e-01],\n",
       "       [-9.96655868e+00, -9.80002686e+00],\n",
       "       [ 4.32279451e-01,  3.71131071e-01],\n",
       "       [ 7.47431939e+00,  3.02675269e+00],\n",
       "       [-4.29887584e-01,  5.85691114e-01],\n",
       "       [-4.94848328e+00, -3.09316748e+00],\n",
       "       [-4.49466450e-01, -2.34737958e-02],\n",
       "       [-1.15470129e+00, -3.63517714e-01],\n",
       "       [ 4.80491892e-01,  2.32028865e-02],\n",
       "       [ 1.29030999e-02, -2.82848338e-03],\n",
       "       [-1.48014959e+01,  1.20895901e+00]])"
      ]
     },
     "execution_count": 38,
     "metadata": {},
     "output_type": "execute_result"
    }
   ],
   "source": [
    "Butcher = scalar.inverse_transform(Whitewolf)\n",
    "y_test_transform = scalar.inverse_transform(y_test)\n",
    "y_test_transform-Butcher"
   ]
  },
  {
   "cell_type": "code",
   "execution_count": 39,
   "metadata": {},
   "outputs": [
    {
     "name": "stdout",
     "output_type": "stream",
     "text": [
      "RMSE value for K= 5 is: 0.35646350381964675\n",
      "MAE value for K=5 is : 0.33417263515012885\n"
     ]
    }
   ],
   "source": [
    "Cirilla= geralt.predict(exp_x)\n",
    "\n",
    "\n",
    "Wildhunt= sqrt(mean_squared_error(exp_label_n,Cirilla))\n",
    "print('RMSE value for K= 5 is:', Wildhunt)\n",
    "Pavetta=mean_absolute_error(exp_label_n,Cirilla)\n",
    "print('MAE value for K=5 is :',Pavetta)\n"
   ]
  },
  {
   "cell_type": "code",
   "execution_count": 40,
   "metadata": {},
   "outputs": [
    {
     "data": {
      "text/plain": [
       "array([[-32.43645146, -16.01681823],\n",
       "       [-39.969391  , -11.26154921],\n",
       "       [-53.78603702, -29.49878978],\n",
       "       [-33.06303167, -25.14492522],\n",
       "       [-48.72828685, -17.95514724],\n",
       "       [-48.63883615, -23.47728374],\n",
       "       [-48.66369042, -18.00310349],\n",
       "       [-48.67553697, -17.97751641],\n",
       "       [-32.52884374,  24.94475133],\n",
       "       [-47.16182738,  20.98798524],\n",
       "       [-36.43721805,  11.12337628],\n",
       "       [-22.49825251,  18.59831334],\n",
       "       [-41.64047623,  15.74464673],\n",
       "       [ -1.04574321,  16.22591252],\n",
       "       [ 10.77917451,  32.15980953],\n",
       "       [ 18.51222773,  29.42170889],\n",
       "       [-19.58722762,  14.4279311 ],\n",
       "       [-13.37291613,  24.73064403],\n",
       "       [-13.22229883,  24.82948228],\n",
       "       [-19.63368477,  14.36829919],\n",
       "       [ 37.2956112 ,  21.76357081],\n",
       "       [ 27.81212304,  16.17566863],\n",
       "       [ 27.24010519,  15.79996119],\n",
       "       [ 37.30248149,  21.76011701]])"
      ]
     },
     "execution_count": 40,
     "metadata": {},
     "output_type": "execute_result"
    }
   ],
   "source": [
    "Cirilla= scalar.inverse_transform(Cirilla)\n",
    "exp_label-Cirilla"
   ]
  },
  {
   "cell_type": "markdown",
   "metadata": {},
   "source": [
    "## SVR (Codename:Whiteflame)\n"
   ]
  },
  {
   "cell_type": "code",
   "execution_count": 41,
   "metadata": {},
   "outputs": [],
   "source": [
    "from sklearn.multioutput import MultiOutputRegressor\n",
    "from sklearn.svm import SVR\n",
    "from sklearn.model_selection import GridSearchCV\n",
    "from sklearn.pipeline import Pipeline\n",
    "\n",
    "Nilfgard=SVR()\n",
    "Whiteflame=MultiOutputRegressor(Nilfgard)\n",
    "\n",
    "\n",
    "pipe_svr = (Pipeline([('reg', Whiteflame)]))\n",
    "\n",
    "\n",
    "grid_param_svr = { \n",
    "    'reg__estimator__C': [0.01,0.1,1,10],\n",
    "    \n",
    "   \n",
    "}\n",
    "\n",
    "\n",
    "Elderblood= (GridSearchCV(estimator=pipe_svr, \n",
    "                           param_grid=grid_param_svr, \n",
    "                           cv=10,\n",
    "                           scoring = 'neg_mean_squared_error',\n",
    "                           n_jobs = -1))\n",
    "\n",
    "Elderblood=Elderblood.fit(x_train,y_train)\n",
    "Emhyr= Elderblood.predict(x_test)\n",
    "\n"
   ]
  },
  {
   "cell_type": "code",
   "execution_count": 42,
   "metadata": {},
   "outputs": [
    {
     "name": "stdout",
     "output_type": "stream",
     "text": [
      "RMSE value for K= 5 is: 0.1183354961203512\n",
      "MAE value for K=5 is : 0.10766707746132283\n"
     ]
    }
   ],
   "source": [
    "\n",
    "svrRMSE= sqrt(mean_squared_error(y_test,Emhyr))\n",
    "print('RMSE value for K= 5 is:', svrRMSE)\n",
    "svrMAE=mean_absolute_error(y_test, Emhyr)\n",
    "print('MAE value for K=5 is :',svrMAE)"
   ]
  },
  {
   "cell_type": "code",
   "execution_count": 56,
   "metadata": {},
   "outputs": [
    {
     "data": {
      "image/png": "[encoded data removed]",
      "text/plain": [
       "<Figure size 432x288 with 1 Axes>"
      ]
     },
     "metadata": {
      "needs_background": "light"
     },
     "output_type": "display_data"
    }
   ],
   "source": [
    "import matplotlib.pyplot as plt\n",
    "height = [fire, RMSE, leshy, Wildhunt]\n",
    "bars = ('LR', 'DT', 'KNN', 'SVR')\n",
    "y_pos = np.arange(len(bars))\n",
    "\n",
    "# Create bars\n",
    "plt.bar(y_pos, height)\n",
    "label = ['rmse=fire','rmse= RMSE', 'rmse=leshy', 'rmse= Wildhunt']\n",
    "plt.bar(y_pos, height, color=['black', 'red', 'green', 'blue'])\n",
    "\n",
    "# Create names on the x-axis\n",
    "plt.xticks(y_pos, bars)\n",
    "\n",
    "# Show graphic\n",
    "plt.show()\n",
    "\n",
    "\n",
    "\n",
    "    "
   ]
  }
 ],
 "metadata": {
  "interpreter": {
   "hash": "02b1521c4a88b9186c89383d434481c06e5d0325b03d782da1e919d6cdcc6a8d"
  },
  "kernelspec": {
   "display_name": "Python 3.7.10 64-bit ('base': conda)",
   "language": "python",
   "name": "python3"
  },
  "language_info": {
   "codemirror_mode": {
    "name": "ipython",
    "version": 3
   },
   "file_extension": ".py",
   "mimetype": "text/x-python",
   "name": "python",
   "nbconvert_exporter": "python",
   "pygments_lexer": "ipython3",
   "version": "3.6.13"
  },
  "orig_nbformat": 4
 },
 "nbformat": 4,
 "nbformat_minor": 2
}
