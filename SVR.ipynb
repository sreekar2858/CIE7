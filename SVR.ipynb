{
 "cells": [
  {
   "cell_type": "code",
   "execution_count": 7,
   "metadata": {},
   "outputs": [],
   "source": [
    "import pickle\n",
    "import pandas as pd\n",
    "import numpy as np\n",
    "import matplotlib.pyplot as plt\n",
    "from sklearn.neighbors import KNeighborsClassifier\n",
    "from sklearn.datasets import make_regression\n",
    "from sklearn.multioutput import MultiOutputRegressor\n",
    "from sklearn.svm import SVR\n",
    "from sklearn.model_selection import train_test_split\n",
    "from sklearn.metrics import mean_squared_error, mean_absolute_error\n",
    "\n",
    "#replace the path \n",
    "label=pd.read_pickle(r'C:\\Users\\Shiva\\Downloads\\_______\\Project B\\train_norm_labels.pickle')\n",
    "resample=pd.read_pickle(r'C:\\Users\\Shiva\\Downloads\\_______\\Project B\\train_resample.pickle')\n",
    "exp_resample=pd.read_pickle(r'C:\\Users\\Shiva\\Downloads\\_______\\Project B\\exp_val_resample.pickle')\n",
    "exp_label=pd.read_pickle(r'C:\\Users\\Shiva\\Downloads\\_______\\Project B\\exp_validation_labels.pickle')\n",
    "pd.set_option('display.max_rows', None)"
   ]
  },
  {
   "cell_type": "code",
   "execution_count": 4,
   "metadata": {},
   "outputs": [
    {
     "name": "stdout",
     "output_type": "stream",
     "text": [
      "(647, 2)\n",
      "(647, 400)\n"
     ]
    }
   ],
   "source": [
    "\n",
    "df= np.array(resample)\n",
    "X=df.reshape(925,400)\n",
    "df1=np.array(exp_resample)\n",
    "exp_x=df1.reshape(24,400)\n"
   ]
  },
  {
   "cell_type": "code",
   "execution_count": 5,
   "metadata": {},
   "outputs": [
    {
     "name": "stdout",
     "output_type": "stream",
     "text": [
      "(647, 2)\n",
      "(647, 400)\n"
     ]
    }
   ],
   "source": [
    "from sklearn.model_selection import train_test_split\n",
    "x_train, x_test,y_train, y_test = train_test_split(X, label, test_size=0.3)\n",
    "print(y_train.shape)\n",
    "print(x_train.shape)"
   ]
  },
  {
   "cell_type": "markdown",
   "metadata": {},
   "source": [
    " ## SVR model 1 (Code name: Whiteflame)"
   ]
  },
  {
   "cell_type": "code",
   "execution_count": 20,
   "metadata": {},
   "outputs": [
    {
     "name": "stdout",
     "output_type": "stream",
     "text": [
      "MSE for first regressor: 0.033100478507042244 - second regressor: 0.03479238214924985\n",
      "MAE for first regressor: 0.17086029347393186 - second regressor: 0.17332545428822574\n"
     ]
    },
    {
     "data": {
      "text/plain": [
       "array([[204.57498404, 199.58800654],\n",
       "       [204.57349313, 199.59137533],\n",
       "       [204.58521083, 199.56085255],\n",
       "       [204.58225075, 199.59388932],\n",
       "       [224.51214769, 209.5344629 ],\n",
       "       [224.49284057, 209.5425052 ],\n",
       "       [224.49017068, 209.55422517],\n",
       "       [224.49703251, 209.5457309 ],\n",
       "       [229.5125643 , 244.44598456],\n",
       "       [229.52378409, 244.46960198],\n",
       "       [229.52719972, 244.45488577],\n",
       "       [229.51395738, 244.44335265],\n",
       "       [239.59268439, 254.51776474],\n",
       "       [239.58533005, 254.50102888],\n",
       "       [239.54783235, 254.4996711 ],\n",
       "       [239.58171161, 254.50080395],\n",
       "       [249.49914774, 259.44132705],\n",
       "       [249.50901319, 259.46533785],\n",
       "       [249.51203178, 259.49420483],\n",
       "       [249.49979896, 259.42022864],\n",
       "       [299.41910316, 234.45881486],\n",
       "       [299.46588207, 234.45018123],\n",
       "       [299.41426879, 234.4480042 ],\n",
       "       [299.43470538, 234.46101178]])"
      ]
     },
     "execution_count": 20,
     "metadata": {},
     "output_type": "execute_result"
    }
   ],
   "source": [
    "Nilfgard=SVR(epsilon=0.2)\n",
    "Whiteflame=MultiOutputRegressor(Nilfgard)\n",
    "Whiteflame=Whiteflame.fit(x_train,y_train)\n",
    "Emhyr= Whiteflame.predict(x_test)\n",
    "\n",
    "mse_one = mean_squared_error(y_test[:,0], Emhyr[:,0])\n",
    "mse_two = mean_squared_error(y_test[:,1], Emhyr[:,1])\n",
    "\n",
    "print(f'MSE for first regressor: {mse_one} - second regressor: {mse_two}')\n",
    "\n",
    "mae_one = mean_absolute_error(y_test[:,0], Emhyr[:,0])\n",
    "mae_two = mean_absolute_error(y_test[:,1], Emhyr[:,1])\n",
    "print(f'MAE for first regressor: {mae_one} - second regressor: {mae_two}')\n",
    "\n",
    "\n",
    "\n",
    "y_test-Emhyr\n",
    "\n",
    "Cintra= Whiteflame.predict(exp_x)\n",
    "exp_label - Cintra"
   ]
  }
 ],
 "metadata": {
  "interpreter": {
   "hash": "02b1521c4a88b9186c89383d434481c06e5d0325b03d782da1e919d6cdcc6a8d"
  },
  "kernelspec": {
   "display_name": "Python 3.7.10 64-bit ('base': conda)",
   "language": "python",
   "name": "python3"
  },
  "language_info": {
   "codemirror_mode": {
    "name": "ipython",
    "version": 3
   },
   "file_extension": ".py",
   "mimetype": "text/x-python",
   "name": "python",
   "nbconvert_exporter": "python",
   "pygments_lexer": "ipython3",
   "version": "3.7.10"
  },
  "orig_nbformat": 4
 },
 "nbformat": 4,
 "nbformat_minor": 2
}
