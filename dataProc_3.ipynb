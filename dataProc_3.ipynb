{
 "cells": [
  {
   "cell_type": "markdown",
   "metadata": {},
   "source": [
    "# CIE Project A - Group 7\n",
    "## ---> Data processing"
   ]
  },
  {
   "cell_type": "markdown",
   "metadata": {},
   "source": [
    "### Imports"
   ]
  },
  {
   "cell_type": "code",
   "execution_count": 135,
   "metadata": {},
   "outputs": [],
   "source": [
    "import os\n",
    "\n",
    "import pandas as pd\n",
    "import numpy as np\n",
    "from scipy import signal as sp\n",
    "from sklearn import preprocessing ##importing for normalization\n",
    "from sklearn.decomposition import PCA\n",
    "import matplotlib.pyplot as plt\n",
    "plt.rcParams['figure.dpi'] = 100\n",
    "plt.rcParams['axes.grid'] = True\n",
    "plt.rcParams['legend.frameon'] = True\n",
    "%matplotlib widget\n",
    "\n",
    "# import tensorflow as tf\n",
    "# from sklearn.model_selection import train_test_split\n",
    "# from sklearn.metrics import confusion_matrix"
   ]
  },
  {
   "cell_type": "markdown",
   "metadata": {},
   "source": [
    "#### Get the root directory and change to it"
   ]
  },
  {
   "cell_type": "code",
   "execution_count": 136,
   "metadata": {},
   "outputs": [],
   "source": [
    "rootdir = os.getcwd()\n",
    "os.chdir(rootdir)"
   ]
  },
  {
   "cell_type": "markdown",
   "metadata": {},
   "source": [
    "### Variable Assignment"
   ]
  },
  {
   "cell_type": "code",
   "execution_count": 137,
   "metadata": {},
   "outputs": [],
   "source": [
    "gyrFile = 'Gyroscope'\n",
    "accFile = 'Accelerometer'\n",
    "\n",
    "normal = 'Normal'\n",
    "upstairs = 'Upstairs'\n",
    "downstairs = 'Downstairs'\n",
    "\n",
    "smartphone =  [3]\n",
    "\n",
    "s1 = 'Smartphone1'\n",
    "s3 = 'Smartphone3'\n",
    "\n",
    "s = [s3]\n",
    "\n",
    "gaitpos = [normal, upstairs, downstairs]"
   ]
  },
  {
   "cell_type": "markdown",
   "metadata": {},
   "source": [
    "### Data Parsing"
   ]
  },
  {
   "cell_type": "markdown",
   "metadata": {},
   "source": [
    "#### Define variables for raw data"
   ]
  },
  {
   "cell_type": "code",
   "execution_count": 138,
   "metadata": {},
   "outputs": [],
   "source": [
    "count = 0\n",
    "\n",
    "# Naming convention - gyr(oscope)_s(martphone_location)) and Same for acceleraoemeter\n",
    "# All the data is stored in a list of dataframes. So, gyr{gaitpos}_s{martphone_location}[0, 1, 2, .....] gives the data as sorted by name in the file directory.\n",
    "# gyrNormal_s1[0] gives the gyroscope data of the subject180_Normal sample 01 in the normal gait position.\n",
    "# gyrNormal_s1[1] gives the gyroscope data of the subject180_Normal sample 02 in the normal gait position.\n",
    "# \n",
    "# gyrNormal_s[2] gives the gyroscope data of the subject181_Normal sample 01 in the normal gait position.\n",
    "# \n",
    "# and so on. \n",
    "\n",
    "# defining arrays for gyroscope data\n",
    "gyrNormal_s1 = []; gyrUpstairs_s1 = []; gyrDownstairs_s1 = []\n",
    "gyrNormal_s3 = []; gyrUpstairs_s3 = []; gyrDownstairs_s3 = []\n",
    "\n",
    "#defining arrays for accelerometer data\n",
    "accNormal_s1 = []; accUpstairs_s1 = []; accDownstairs_s1 = []\n",
    "accNormal_s3 = []; accUpstairs_s3 = []; accDownstairs_s3 = []"
   ]
  },
  {
   "cell_type": "markdown",
   "metadata": {},
   "source": [
    "#### Parsing gyroscope and accelerometer data at all gait positions (Smartphone 1 - Rear Right) & (Smartphone 3 - Front Right)"
   ]
  },
  {
   "cell_type": "code",
   "execution_count": 139,
   "metadata": {},
   "outputs": [],
   "source": [
    "for subdir, dirs, files in os.walk(rootdir):\n",
    "    for foldername in s:\n",
    "        for gait in gaitpos:    \n",
    "        \n",
    "            gyr = eval(f'gyr{gait}_s{foldername[10]}')\n",
    "            acc = eval(f'acc{gait}_s{foldername[10]}')\n",
    "            \n",
    "            if foldername.lower() in subdir.lower():\n",
    "                if gait.lower() in subdir.lower():\n",
    "    \n",
    "                    for file in files:\n",
    "\n",
    "                        if gyrFile.lower() in file.lower():\n",
    "                            count = count + 1\n",
    "                            # print(f'#{count} -- {os.path.join(subdir, file)}')\n",
    "\n",
    "                            with open(os.path.join(subdir, file), 'r') as f: # open in read-only mode\n",
    "                                gyrData = pd.read_csv(f)\n",
    "                                # Assemble the data into a tensor\n",
    "                                gyr.append(gyrData)\n",
    "\n",
    "                        if accFile in file:\n",
    "                            count = count + 1\n",
    "                            # print(f'#{count} -- {os.path.join(subdir, file)}')\n",
    "\n",
    "                            with open(os.path.join(subdir, file), 'r') as f: # open in read-only mode\n",
    "                                accData = pd.read_csv(f)\n",
    "                                # Assemble the data into a tensor\n",
    "                                acc.append(accData)"
   ]
  },
  {
   "cell_type": "markdown",
   "metadata": {},
   "source": [
    "#### Check if the data is collected correctly after parsing"
   ]
  },
  {
   "cell_type": "code",
   "execution_count": 140,
   "metadata": {},
   "outputs": [
    {
     "name": "stdout",
     "output_type": "stream",
     "text": [
      "Shape of gyrNormal_s3 is ------ (8,)\n",
      "Shape of accNormal_s3 is ------ (8,) \n",
      "\n",
      "Shape of gyrUpstairs_s3 is ------ (8,)\n",
      "Shape of accUpstairs_s3 is ------ (8,) \n",
      "\n",
      "Shape of gyrDownstairs_s3 is ------ (7,)\n",
      "Shape of accDownstairs_s3 is ------ (7,) \n",
      "\n"
     ]
    }
   ],
   "source": [
    "# getting the data shape for reference\n",
    "for j in gaitpos:\n",
    "    for i in smartphone:\n",
    "            gyrl = eval(f'gyr{j}_s{i}')\n",
    "            accl = eval(f'acc{j}_s{i}')\n",
    "\n",
    "            print(f'Shape of gyr{j}_s{i} is ------ {np.asarray((gyrl), dtype = list).shape}')\n",
    "            print(f'Shape of acc{j}_s{i} is ------ {np.asarray((accl), dtype = list).shape} \\n')"
   ]
  },
  {
   "cell_type": "markdown",
   "metadata": {},
   "source": [
    "### Data Validation and Preprocessing"
   ]
  },
  {
   "cell_type": "markdown",
   "metadata": {},
   "source": [
    "##### -- No need to run -- Frequency check of all the data before filtering"
   ]
  },
  {
   "cell_type": "code",
   "execution_count": 141,
   "metadata": {},
   "outputs": [],
   "source": [
    "freqGyr = []\n",
    "freqAcc = []\n",
    "\n",
    "# Loop through the variables and check if all the data is collected\n",
    "for j in gaitpos:\n",
    "    for i in smartphone:\n",
    "        # Calculating gyroscope frequency before preprocessing\n",
    "        gyrl = eval(f'gyr{j}_s{i}')\n",
    "        ng = len(gyrl)\n",
    "\n",
    "        # loop to calculate the frequency over all the data\n",
    "        for s in range(0, ng):\n",
    "            time = np.asarray(gyrl[s].iloc[:,0])\n",
    "\n",
    "            freqG = np.round(len(time)/(time[-1]))\n",
    "            freqGyr.append(freqG)\n",
    "        \n",
    "        # Calculating accelerometer frequency before preprocessing\n",
    "        accl = eval(f'acc{j}_s{i}')\n",
    "        na = len(accl)\n",
    "\n",
    "        # loop to calculate the frequency over all the data\n",
    "        for s in range(0, na):\n",
    "            time = np.asarray(accl[s].iloc[:,0])\n",
    "\n",
    "            freqA = np.round(len(time)/(time[-1]))\n",
    "            freqAcc.append(freqA)\n",
    "\n",
    "for i in range(0, len(freqGyr)):\n",
    "    if freqGyr[i] < 10:\n",
    "        print(f'Position of the frequency issue is at freqGyr:{i} and the frequency is {freqGyr[i]}')\n",
    "for j in range(0, len(freqAcc)):\n",
    "    if freqAcc[j] < 10:\n",
    "        print(f'Position of the frequency issue is at freqAcc:{j} and the frequency is {freqAcc[j]}')"
   ]
  },
  {
   "cell_type": "markdown",
   "metadata": {},
   "source": [
    "### Filter Data"
   ]
  },
  {
   "cell_type": "markdown",
   "metadata": {},
   "source": [
    "#### Lowpass filter (Butterworth) function"
   ]
  },
  {
   "cell_type": "code",
   "execution_count": 142,
   "metadata": {},
   "outputs": [],
   "source": [
    "#Filter the data to remove noise\n",
    "\n",
    "# inputs for the function is the data, the sampling frequency, the cutoff frequency.\n",
    "def dataFilter(dataInput, fs=200, fc=5, order = 2):\n",
    "    Filtrd = np.zeros(dataInput.shape)\n",
    "    w = fc / (fs * 0.5)\n",
    "    b, a = sp.butter(fc, w, 'low')\n",
    "    \n",
    "    #Filter the X, Y and Z axis of the input data\n",
    "    for i in range(0, 3):\n",
    "        Filtrd[:,i] = sp.filtfilt(b, a, dataInput.iloc[:,i+1])\n",
    "\n",
    "    return Filtrd"
   ]
  },
  {
   "cell_type": "markdown",
   "metadata": {},
   "source": [
    "##### -- Different filter check -- Chebyshev filter"
   ]
  },
  {
   "cell_type": "code",
   "execution_count": 143,
   "metadata": {},
   "outputs": [
    {
     "data": {
      "text/plain": [
       "\"\\n# chebyshev filter for the accelerometer data\\ndef chebyFilter(dataInput, fs=200, fc=5, order = 2):\\n    Filtrd = np.zeros(dataInput.shape)\\n    w = fc / (fs * 0.5)\\n    b, a = sp.cheby2(order, 20, w, 'low')\\n    \\n    #Filter the X, Y and Z axis of the input data\\n    for i in range(0, 3):\\n        Filtrd[:,i] = sp.filtfilt(b,a, dataInput.iloc[:,i+1])\\n    \\n    return Filtrd\\n\""
      ]
     },
     "execution_count": 143,
     "metadata": {},
     "output_type": "execute_result"
    }
   ],
   "source": [
    "'''\n",
    "# chebyshev filter for the accelerometer data\n",
    "def chebyFilter(dataInput, fs=200, fc=5, order = 2):\n",
    "    Filtrd = np.zeros(dataInput.shape)\n",
    "    w = fc / (fs * 0.5)\n",
    "    b, a = sp.cheby2(order, 20, w, 'low')\n",
    "    \n",
    "    #Filter the X, Y and Z axis of the input data\n",
    "    for i in range(0, 3):\n",
    "        Filtrd[:,i] = sp.filtfilt(b,a, dataInput.iloc[:,i+1])\n",
    "    \n",
    "    return Filtrd\n",
    "'''"
   ]
  },
  {
   "cell_type": "markdown",
   "metadata": {},
   "source": [
    "#### -- Test -- the dataFilter function and its dependency on the frequency input"
   ]
  },
  {
   "cell_type": "code",
   "execution_count": 144,
   "metadata": {},
   "outputs": [
    {
     "data": {
      "text/plain": [
       "\"gyrF = []\\naccF = []\\nng = len(gyrNormal_s1)\\nna = len(accNormal_s1)\\n\\nfor i in range(0, ng):\\n    timeg = np.asarray(gyrNormal_s1[i].iloc[:,0])\\n    freqG = np.round(len(timeg)/(timeg[-1]))\\n    gyrF.append(freqG)\\n\\nfor j in range(0, na):\\n    timea = np.asarray(accNormal_s1[j].iloc[:,0])\\n    freqA = np.round(len(timea)/(timea[-1]))\\n    accF.append(freqA)\\n\\ngyrFilt = []\\naccFilt = []\\n\\nfor rg in range(0, ng):\\n    gf = dataFilter(gyrNormal_s1[rg], fs = 100)\\n    gyrFilt.append(gf)\\n\\nfor ra in range(0, na):\\n    af = dataFilter(accNormal_s1[ra], fs = 100)\\n    accFilt.append(af)\\n\\nt1 = np.asarray(gyrNormal_s1[0].iloc[:,0])\\nf1 = np.round(len(t1)/(t1[-1]))\\n\\nxyz = dataFilter(gyrNormal_s1[0], fs = f1)\\n\\nplt.close('all')\\nplt.plot(gyrNormal_s1[0].iloc[:,1], 'r')\\nplt.plot(xyz[:,0], 'b')\\nplt.show()\""
      ]
     },
     "execution_count": 144,
     "metadata": {},
     "output_type": "execute_result"
    }
   ],
   "source": [
    "'''gyrF = []\n",
    "accF = []\n",
    "ng = len(gyrNormal_s1)\n",
    "na = len(accNormal_s1)\n",
    "\n",
    "for i in range(0, ng):\n",
    "    timeg = np.asarray(gyrNormal_s1[i].iloc[:,0])\n",
    "    freqG = np.round(len(timeg)/(timeg[-1]))\n",
    "    gyrF.append(freqG)\n",
    "\n",
    "for j in range(0, na):\n",
    "    timea = np.asarray(accNormal_s1[j].iloc[:,0])\n",
    "    freqA = np.round(len(timea)/(timea[-1]))\n",
    "    accF.append(freqA)\n",
    "\n",
    "gyrFilt = []\n",
    "accFilt = []\n",
    "\n",
    "for rg in range(0, ng):\n",
    "    gf = dataFilter(gyrNormal_s1[rg], fs = 100)\n",
    "    gyrFilt.append(gf)\n",
    "\n",
    "for ra in range(0, na):\n",
    "    af = dataFilter(accNormal_s1[ra], fs = 100)\n",
    "    accFilt.append(af)\n",
    "\n",
    "t1 = np.asarray(gyrNormal_s1[0].iloc[:,0])\n",
    "f1 = np.round(len(t1)/(t1[-1]))\n",
    "\n",
    "xyz = dataFilter(gyrNormal_s1[0], fs = f1)\n",
    "\n",
    "plt.close('all')\n",
    "plt.plot(gyrNormal_s1[0].iloc[:,1], 'r')\n",
    "plt.plot(xyz[:,0], 'b')\n",
    "plt.show()'''"
   ]
  },
  {
   "cell_type": "markdown",
   "metadata": {},
   "source": [
    "#### Filtering all the data"
   ]
  },
  {
   "cell_type": "code",
   "execution_count": 145,
   "metadata": {},
   "outputs": [
    {
     "name": "stdout",
     "output_type": "stream",
     "text": [
      "<class 'list'>\n"
     ]
    }
   ],
   "source": [
    "# defining arrays for filtered gyroscope data\n",
    "#gyrFilteredNormal_s1 = []; gyrFilteredUpstairs_s1 = []; gyrFilteredDownstairs_s1 = []\n",
    "gyrFilteredDownstairs_s3 = []; gyrFilteredUpstairs_s3 = []; gyrFilteredNormal_s3 = []\n",
    "\n",
    "# defining arrays for filtered accelerometer data\n",
    "#accFilteredNormal_s1 = []; accFilteredUpstairs_s1 = []; accFilteredDownstairs_s1 = []\n",
    "accFilteredNormal_s3 = []; accFilteredUpstairs_s3 = []; accFilteredDownstairs_s3 = []\n",
    "\n",
    "for j in gaitpos:\n",
    "    for i in smartphone:\n",
    "            # variables of raw the data\n",
    "            gyrl = eval(f'gyr{j}_s{i}')\n",
    "            accl = eval(f'acc{j}_s{i}')\n",
    "            \n",
    "            # variables of filtered the data\n",
    "            gyrF = eval(f'gyrFiltered{j}_s{i}')\n",
    "            accF = eval(f'accFiltered{j}_s{i}')\n",
    "\n",
    "            # getting the shape of the gyroscope data (first integer)\n",
    "            ng = len(gyrl)\n",
    "\n",
    "            # Getting the shape of the accelerometer data (first integer)\n",
    "            na = len(accl)\n",
    "\n",
    "\n",
    "            # Filter all the data\n",
    "            for rg in range(0, ng):\n",
    "                timeg = np.asarray(gyrl[rg].iloc[:,0])\n",
    "                fG = np.round(len(timeg)/(timeg[-1]))\n",
    "\n",
    "                gf = dataFilter(gyrl[rg], fs = fG)\n",
    "                gyrF.append(gf)\n",
    "\n",
    "            for ra in range(0, na):\n",
    "                timea = np.asarray(accl[ra].iloc[:,0])\n",
    "                fA = np.round(len(timea)/(timea[-1]))\n",
    "\n",
    "                af = dataFilter(accl[ra], fs = fA)\n",
    "                accF.append(af)\n",
    "print(type(gyrFilteredDownstairs_s3))"
   ]
  },
  {
   "cell_type": "markdown",
   "metadata": {},
   "source": [
    "#### Check if all the data is collected correctly after filtering"
   ]
  },
  {
   "cell_type": "code",
   "execution_count": 146,
   "metadata": {},
   "outputs": [
    {
     "name": "stdout",
     "output_type": "stream",
     "text": [
      "Shape of gyrFilteredNormal_s3 is ------ (8,)\n",
      "Shape of accFilteredNormal_s3 is ------ (8,) \n",
      "\n",
      "Shape of gyrFilteredUpstairs_s3 is ------ (8,)\n",
      "Shape of accFilteredUpstairs_s3 is ------ (8,) \n",
      "\n",
      "Shape of gyrFilteredDownstairs_s3 is ------ (7,)\n",
      "Shape of accFilteredDownstairs_s3 is ------ (7,) \n",
      "\n"
     ]
    }
   ],
   "source": [
    "# getting the data shape for reference\n",
    "for j in gaitpos:\n",
    "    for i in smartphone:\n",
    "            gyrl = eval(f'gyrFiltered{j}_s{i}')\n",
    "            accl = eval(f'accFiltered{j}_s{i}')\n",
    "\n",
    "            print(f'Shape of gyrFiltered{j}_s{i} is ------ {np.asarray((gyrl), dtype = list).shape}')\n",
    "            print(f'Shape of accFiltered{j}_s{i} is ------ {np.asarray((accl), dtype = list).shape} \\n')"
   ]
  },
  {
   "cell_type": "markdown",
   "metadata": {},
   "source": [
    "### Cut data"
   ]
  },
  {
   "cell_type": "markdown",
   "metadata": {},
   "source": [
    "#### Cut data function"
   ]
  },
  {
   "cell_type": "code",
   "execution_count": 147,
   "metadata": {},
   "outputs": [],
   "source": [
    "def cutData(gyrFilt, accFilt, freq):\n",
    "    acc_abs = np.linalg.norm(accFilt, axis=1)\n",
    "    \n",
    "    ht = np.round(np.mean(acc_abs[int(0.3*len(acc_abs)):int(0.7*len(acc_abs))])).astype(int)\n",
    "\n",
    "    peaks, _ = sp.find_peaks(acc_abs, height = -10, distance=freq*0.5)\n",
    "    diff_peaks = np.diff(peaks)\n",
    "    gap1 = np.argmax(diff_peaks[:int(0.4*(len(diff_peaks)))])\n",
    "    gap2 = np.argmax(diff_peaks[-int(0.4*len(diff_peaks)):])\n",
    "    \n",
    "    gap2 = int(np.shape(diff_peaks)[0] - int(0.4*len(diff_peaks)) + gap2)\n",
    "\n",
    "    gyr_cut = gyrFilt[peaks[gap1+1]:peaks[gap2], :]\n",
    "    acc_cut = accFilt[peaks[gap1+1]:peaks[gap2], :]\n",
    "\n",
    "    return gyr_cut, acc_cut"
   ]
  },
  {
   "cell_type": "markdown",
   "metadata": {},
   "source": [
    "##### -- check -- Cut data function"
   ]
  },
  {
   "cell_type": "code",
   "execution_count": 148,
   "metadata": {},
   "outputs": [
    {
     "data": {
      "text/plain": [
       "\"\\ngyrNormalCtted, accNormalCtted = [], []\\n\\nfor x in range(0, len(gyrNormal_s3)):\\n    num = x\\n    \\n    nq = len(accNormal_s3[num])\\n    tq = np.asarray(gyrNormal_s3[num].iloc[:,0])\\n    freq = np.round(len(tq)/(tq[-1]))\\n    # print(f'The frequency of the data is {freq}')\\n\\n    acc_abs = np.linalg.norm(accFilteredNormal_s3[num], axis=1)\\n\\n    # ht = np.round(np.mean(acc_abs[int(0.2*len(acc_abs)):int(0.7*len(acc_abs))])).astype(int)\\n    # ht = np.round(np.mean(acc_abs)).astype(int)\\n    # print(f'The average height of the data is {ht}')\\n    peaks, _ = sp.find_peaks(acc_abs, height = 0, distance=freq*0.5)\\n    # print(f'The number of peaks is {(peaks)}')\\n\\n    diff_peaks = np.diff(peaks)\\n    # print(f'The difference of peaks is {(diff_peaks)}')\\n\\n    gap1 = np.argmax(diff_peaks[:20])\\n    # print(f'The first gap is {gap1}')\\n\\n    gap2 = np.argmax(diff_peaks[-10:])\\n    gap2 = int(np.shape(diff_peaks)[0] - 10 + gap2)\\n    # print(f'The second gap is {gap2}')\\n\\n    gyr_cut = gyrFilteredNormal_s3[num][peaks[gap1+1]:peaks[gap2], :]\\n    acc_cut = accFilteredNormal_s3[num][peaks[gap1+1]:peaks[gap2], :]\\n\\n    gyrNormalCtted.append(gyr_cut)\\n    accNormalCtted.append(acc_cut)\\n\""
      ]
     },
     "execution_count": 148,
     "metadata": {},
     "output_type": "execute_result"
    }
   ],
   "source": [
    "'''\n",
    "gyrNormalCtted, accNormalCtted = [], []\n",
    "\n",
    "for x in range(0, len(gyrNormal_s3)):\n",
    "    num = x\n",
    "    \n",
    "    nq = len(accNormal_s3[num])\n",
    "    tq = np.asarray(gyrNormal_s3[num].iloc[:,0])\n",
    "    freq = np.round(len(tq)/(tq[-1]))\n",
    "    # print(f'The frequency of the data is {freq}')\n",
    "\n",
    "    acc_abs = np.linalg.norm(accFilteredNormal_s3[num], axis=1)\n",
    "\n",
    "    # ht = np.round(np.mean(acc_abs[int(0.2*len(acc_abs)):int(0.7*len(acc_abs))])).astype(int)\n",
    "    # ht = np.round(np.mean(acc_abs)).astype(int)\n",
    "    # print(f'The average height of the data is {ht}')\n",
    "    peaks, _ = sp.find_peaks(acc_abs, height = 0, distance=freq*0.5)\n",
    "    # print(f'The number of peaks is {(peaks)}')\n",
    "\n",
    "    diff_peaks = np.diff(peaks)\n",
    "    # print(f'The difference of peaks is {(diff_peaks)}')\n",
    "\n",
    "    gap1 = np.argmax(diff_peaks[:20])\n",
    "    # print(f'The first gap is {gap1}')\n",
    "\n",
    "    gap2 = np.argmax(diff_peaks[-10:])\n",
    "    gap2 = int(np.shape(diff_peaks)[0] - 10 + gap2)\n",
    "    # print(f'The second gap is {gap2}')\n",
    "\n",
    "    gyr_cut = gyrFilteredNormal_s3[num][peaks[gap1+1]:peaks[gap2], :]\n",
    "    acc_cut = accFilteredNormal_s3[num][peaks[gap1+1]:peaks[gap2], :]\n",
    "\n",
    "    gyrNormalCtted.append(gyr_cut)\n",
    "    accNormalCtted.append(acc_cut)\n",
    "'''"
   ]
  },
  {
   "cell_type": "markdown",
   "metadata": {},
   "source": [
    "##### -- Test -- Cut Data line by line"
   ]
  },
  {
   "cell_type": "code",
   "execution_count": 149,
   "metadata": {},
   "outputs": [
    {
     "data": {
      "text/plain": [
       "'\\nnum = 7\\n\\nnq = len(accNormal_s3[num])\\ntq = np.asarray(gyrNormal_s3[num].iloc[:,0])\\nfreq = np.round(len(tq)/(tq[-1]))\\nprint(f\\'The frequency of the data is {freq}\\')\\n\\nacc_abs = np.linalg.norm(accFilteredNormal_s3[num], axis=1)\\n\\nht = np.round(np.mean(acc_abs[int(0.2*len(acc_abs)):int(0.7*len(acc_abs))])).astype(int)\\n# ht = np.round(np.mean(acc_abs)).astype(int)\\nprint(f\\'The average height of the data is {ht}\\')\\npeaks, _ = sp.find_peaks(acc_abs, height = 0, distance=freq*0.5)\\nprint(f\\'The number of peaks is {(peaks)}\\')\\n\\ndiff_peaks = np.diff(peaks)\\nprint(f\\'The difference of peaks is {(diff_peaks)}\\')\\n\\ngap1 = np.argmax(diff_peaks[:int(0.1*(len(diff_peaks)))])\\nprint(f\\'The first gap is {gap1}\\')\\n\\ngap2 = np.argmax(diff_peaks[-int(0.1*len(diff_peaks)):])\\ngap2 = int(np.shape(diff_peaks)[0] - int(0.2*len(diff_peaks)) + gap2)\\nprint(f\\'The second gap is {gap2}\\')\\n\\ngyr_cut = gyrFilteredNormal_s3[num][peaks[gap1+1]:peaks[gap2], :]\\nacc_cut = accFilteredNormal_s3[num][peaks[gap1+1]:peaks[gap2], :]\\n\\nplt.close()\\n# plt.plot(gyrFilteredNormal_s1[1][:,0], label=\\'Raw Data\\', c = \\'b\\')\\n\\nplt.plot(acc_abs, label = \\'Accelerometer Absolute Data\\', c = \\'grey\\')\\nplt.plot(np.linspace(0, len(gyrNormal_s3[num])), np.full_like(np.linspace(0, len(gyrNormal_s3[num])), ht), label = \\'Average Height\\', c = \\'r\\')\\n\\nplt.plot(peaks, acc_abs[peaks], \\'x\\', label = \\'Peaks\\', c = \\'y\\')\\nplt.plot(np.linspace(0, len(gyrNormal_s3[num])), np.zeros_like(np.linspace(0, len(gyrNormal_s3[num]))), linestyle = \"--\", linewidth = 0.2, dashes=(5, 15), color=\"black\")\\n\\nplt.plot(peaks[gap1+1], acc_abs[peaks[gap1+1]], \\'o\\', label = \\'Gap 1\\', c = \\'g\\')\\nplt.plot(peaks[gap2], acc_abs[peaks[gap2]], \\'o\\', label = \\'Gap 2\\', c = \\'black\\')\\n\\nplt.plot(gyr_cut[:,0], label = \\'Gyr Cut\\', c=\\'r\\')\\n\\nplt.legend()\\nplt.grid()\\nplt.show()\\n'"
      ]
     },
     "execution_count": 149,
     "metadata": {},
     "output_type": "execute_result"
    }
   ],
   "source": [
    "'''\n",
    "num = 7\n",
    "\n",
    "nq = len(accNormal_s3[num])\n",
    "tq = np.asarray(gyrNormal_s3[num].iloc[:,0])\n",
    "freq = np.round(len(tq)/(tq[-1]))\n",
    "print(f'The frequency of the data is {freq}')\n",
    "\n",
    "acc_abs = np.linalg.norm(accFilteredNormal_s3[num], axis=1)\n",
    "\n",
    "ht = np.round(np.mean(acc_abs[int(0.2*len(acc_abs)):int(0.7*len(acc_abs))])).astype(int)\n",
    "# ht = np.round(np.mean(acc_abs)).astype(int)\n",
    "print(f'The average height of the data is {ht}')\n",
    "peaks, _ = sp.find_peaks(acc_abs, height = 0, distance=freq*0.5)\n",
    "print(f'The number of peaks is {(peaks)}')\n",
    "\n",
    "diff_peaks = np.diff(peaks)\n",
    "print(f'The difference of peaks is {(diff_peaks)}')\n",
    "\n",
    "gap1 = np.argmax(diff_peaks[:int(0.1*(len(diff_peaks)))])\n",
    "print(f'The first gap is {gap1}')\n",
    "\n",
    "gap2 = np.argmax(diff_peaks[-int(0.1*len(diff_peaks)):])\n",
    "gap2 = int(np.shape(diff_peaks)[0] - int(0.2*len(diff_peaks)) + gap2)\n",
    "print(f'The second gap is {gap2}')\n",
    "\n",
    "gyr_cut = gyrFilteredNormal_s3[num][peaks[gap1+1]:peaks[gap2], :]\n",
    "acc_cut = accFilteredNormal_s3[num][peaks[gap1+1]:peaks[gap2], :]\n",
    "\n",
    "plt.close()\n",
    "# plt.plot(gyrFilteredNormal_s1[1][:,0], label='Raw Data', c = 'b')\n",
    "\n",
    "plt.plot(acc_abs, label = 'Accelerometer Absolute Data', c = 'grey')\n",
    "plt.plot(np.linspace(0, len(gyrNormal_s3[num])), np.full_like(np.linspace(0, len(gyrNormal_s3[num])), ht), label = 'Average Height', c = 'r')\n",
    "\n",
    "plt.plot(peaks, acc_abs[peaks], 'x', label = 'Peaks', c = 'y')\n",
    "plt.plot(np.linspace(0, len(gyrNormal_s3[num])), np.zeros_like(np.linspace(0, len(gyrNormal_s3[num]))), linestyle = \"--\", linewidth = 0.2, dashes=(5, 15), color=\"black\")\n",
    "\n",
    "plt.plot(peaks[gap1+1], acc_abs[peaks[gap1+1]], 'o', label = 'Gap 1', c = 'g')\n",
    "plt.plot(peaks[gap2], acc_abs[peaks[gap2]], 'o', label = 'Gap 2', c = 'black')\n",
    "\n",
    "plt.plot(gyr_cut[:,0], label = 'Gyr Cut', c='r')\n",
    "\n",
    "plt.legend()\n",
    "plt.grid()\n",
    "plt.show()\n",
    "'''"
   ]
  },
  {
   "cell_type": "markdown",
   "metadata": {},
   "source": [
    "#### Cut all the data"
   ]
  },
  {
   "cell_type": "code",
   "execution_count": 150,
   "metadata": {},
   "outputs": [],
   "source": [
    "# defining arrays for cut gyroscope data\n",
    "#gyrCutNormal_s1 = []; gyrCutUpstairs_s1 = []; gyrCutDownstairs_s1 = []\n",
    "gyrCutNormal_s3 = []; gyrCutUpstairs_s3 = []; gyrCutDownstairs_s3 = []\n",
    "\n",
    "# defining arrays for cut accelerometer data\n",
    "#accCutNormal_s1 = []; accCutUpstairs_s1 = []; accCutDownstairs_s1 = []\n",
    "accCutNormal_s3 = []; accCutUpstairs_s3 = []; accCutDownstairs_s3 = []\n",
    "\n",
    "for j in gaitpos:\n",
    "    for i in smartphone:\n",
    "            # variables of raw the data\n",
    "            gyrl = eval(f'gyr{j}_s{i}')\n",
    "            accl = eval(f'acc{j}_s{i}')\n",
    "            \n",
    "            # variables of filtered the data\n",
    "            gyrF = eval(f'gyrFiltered{j}_s{i}')\n",
    "            accF = eval(f'accFiltered{j}_s{i}')\n",
    "\n",
    "            # variables of cutted the data\n",
    "            gyrC = eval(f'gyrCut{j}_s{i}')\n",
    "            accC = eval(f'accCut{j}_s{i}')\n",
    "\n",
    "            # getting the shape of the gyroscope and accelerometer data\n",
    "            n = len(gyrF)\n",
    "\n",
    "            # Filter all the data\n",
    "            for r in range(0, n):\n",
    "                \n",
    "                tCut = np.asarray(gyrl[r].iloc[:,0])\n",
    "                freqCut = np.round(len(tCut)/(tCut[-1]))\n",
    "                # print(f'accFiltered{j}_s{i} - {[r]}')\n",
    "                gf, aF = cutData(gyrF[r], accF[r], freqCut)\n",
    "\n",
    "                gyrC.append(gf)\n",
    "                accC.append(aF)"
   ]
  },
  {
   "cell_type": "markdown",
   "metadata": {},
   "source": [
    "#### check if all the data is collected correctly after cutting"
   ]
  },
  {
   "cell_type": "code",
   "execution_count": 151,
   "metadata": {},
   "outputs": [
    {
     "name": "stdout",
     "output_type": "stream",
     "text": [
      "Shape of gyrCutNormal_s3 is ------ (8,)\n",
      "Shape of accCutNormal_s3 is ------ (8,) \n",
      "\n",
      "Shape of gyrCutUpstairs_s3 is ------ (8,)\n",
      "Shape of accCutUpstairs_s3 is ------ (8,) \n",
      "\n",
      "Shape of gyrCutDownstairs_s3 is ------ (7,)\n",
      "Shape of accCutDownstairs_s3 is ------ (7,) \n",
      "\n"
     ]
    }
   ],
   "source": [
    "# getting the data shape for reference\n",
    "for j in gaitpos:\n",
    "    for i in smartphone:\n",
    "            gyr = eval(f'gyrCut{j}_s{i}')\n",
    "            acc = eval(f'accCut{j}_s{i}')\n",
    "\n",
    "            print(f'Shape of gyrCut{j}_s{i} is ------ {np.asarray((gyr), dtype = list).shape}')\n",
    "            print(f'Shape of accCut{j}_s{i} is ------ {np.asarray((acc), dtype = list).shape} \\n')"
   ]
  },
  {
   "cell_type": "markdown",
   "metadata": {},
   "source": [
    "#### Plot raw data, filtered data, and cut data"
   ]
  },
  {
   "cell_type": "code",
   "execution_count": 152,
   "metadata": {},
   "outputs": [
    {
     "data": {
      "application/vnd.jupyter.widget-view+json": {
       "model_id": "a2a23d75f34c42bf8302e96029966473",
       "version_major": 2,
       "version_minor": 0
      },
      "text/html": [
       "\n",
       "            <div style=\"display: inline-block;\">\n",
       "                <div class=\"jupyter-widgets widget-label\" style=\"text-align: center;\">\n",
       "                    Figure\n",
       "                </div>\n",
       "                <img src='data:image/png;base64,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' width=640.0/>\n",
       "            </div>\n",
       "        "
      ],
      "text/plain": [
       "Canvas(toolbar=Toolbar(toolitems=[('Home', 'Reset original view', 'home', 'home'), ('Back', 'Back to previous …"
      ]
     },
     "metadata": {},
     "output_type": "display_data"
    }
   ],
   "source": [
    "# pos = 'Normal', 'Upstairs', 'Downstairs'\n",
    "pos = 'Normal'\n",
    "# loc = 1, 3\n",
    "loc = 3\n",
    "# no = 0-7\n",
    "no = 4\n",
    "# axis = 0, 1, 2\n",
    "axis = 0\n",
    "\n",
    "plt.close()\n",
    "plt.plot(eval(f'gyr{pos}_s{loc}')[no].iloc[:,(axis+1)], label='Raw Data', c = 'c')\n",
    "plt.plot(eval(f'gyrFiltered{pos}_s{loc}')[no][:,axis], label='Filtered Data', c = 'b')\n",
    "plt.plot(eval(f'gyrCut{pos}_s{loc}')[no][:,axis], label = 'Gyr Cutted Data', c = 'r')\n",
    "# plt.plot(eval(f'gyrResample{pos}_s{loc}')[no][:,axis], label = 'Gyr Resampled Data', c = 'g')\n",
    "\n",
    "plt.legend()\n",
    "plt.show()"
   ]
  },
  {
   "cell_type": "markdown",
   "metadata": {},
   "source": [
    "#### -- Test -- Save all cut data to plots"
   ]
  },
  {
   "cell_type": "code",
   "execution_count": 153,
   "metadata": {},
   "outputs": [
    {
     "data": {
      "text/plain": [
       "\"\\nfor j in gaitpos:\\n    for i in smartphone:\\n        # variables of raw the data\\n        gyrl = eval(f'gyr{j}_s{i}')\\n        accl = eval(f'acc{j}_s{i}')\\n        # variables of filtered the data\\n        gyrF = eval(f'gyrFiltered{j}_s{i}')\\n        accF = eval(f'accFiltered{j}_s{i}')\\n        # variables of cutted the data\\n        gyrC = eval(f'gyrCut{j}_s{i}')\\n        accC = eval(f'accCut{j}_s{i}')\\n\\n        for rg in range(0, len(gyrF)):\\n            plt.close()\\n            plt.plot(gyrl[rg].iloc[:,1], label='Raw Gyroscope Data', c = 'c')\\n            # plt.plot(accl[rg].iloc[:,1], label='Raw Accelerometer Data', c = 'm')\\n\\n            plt.plot(gyrF[rg][:,0], label='Filtered Gyroscope Data', c = 'b')\\n            # plt.plot(accF[rg][:,0], label='Filtered Accelerometer Data', c = 'g')\\n\\n            plt.plot(gyrC[rg][:,0], label='Gyroscope Cut Data', c = 'y')\\n            # plt.plot(accC[rg][:,0], label = 'Accelerometer Cut Data', c = 'r')\\n\\n            plt.legend()\\n            plt.grid()\\n            plt.ioff()\\n            # plt.savefig(rootdir+f'/2 Accelerometer_Pictures/acc{j}_s{i}_{rg}.png')\\n            plt.savefig(rootdir+f'/1 Gyroscope_Pictures/gyr{j}_s{i}_{rg}.png')\\n\""
      ]
     },
     "execution_count": 153,
     "metadata": {},
     "output_type": "execute_result"
    }
   ],
   "source": [
    "'''\n",
    "for j in gaitpos:\n",
    "    for i in smartphone:\n",
    "        # variables of raw the data\n",
    "        gyrl = eval(f'gyr{j}_s{i}')\n",
    "        accl = eval(f'acc{j}_s{i}')\n",
    "        # variables of filtered the data\n",
    "        gyrF = eval(f'gyrFiltered{j}_s{i}')\n",
    "        accF = eval(f'accFiltered{j}_s{i}')\n",
    "        # variables of cutted the data\n",
    "        gyrC = eval(f'gyrCut{j}_s{i}')\n",
    "        accC = eval(f'accCut{j}_s{i}')\n",
    "\n",
    "        for rg in range(0, len(gyrF)):\n",
    "            plt.close()\n",
    "            plt.plot(gyrl[rg].iloc[:,1], label='Raw Gyroscope Data', c = 'c')\n",
    "            # plt.plot(accl[rg].iloc[:,1], label='Raw Accelerometer Data', c = 'm')\n",
    "\n",
    "            plt.plot(gyrF[rg][:,0], label='Filtered Gyroscope Data', c = 'b')\n",
    "            # plt.plot(accF[rg][:,0], label='Filtered Accelerometer Data', c = 'g')\n",
    "\n",
    "            plt.plot(gyrC[rg][:,0], label='Gyroscope Cut Data', c = 'y')\n",
    "            # plt.plot(accC[rg][:,0], label = 'Accelerometer Cut Data', c = 'r')\n",
    "\n",
    "            plt.legend()\n",
    "            plt.grid()\n",
    "            plt.ioff()\n",
    "            # plt.savefig(rootdir+f'/2 Accelerometer_Pictures/acc{j}_s{i}_{rg}.png')\n",
    "            plt.savefig(rootdir+f'/1 Gyroscope_Pictures/gyr{j}_s{i}_{rg}.png')\n",
    "'''"
   ]
  },
  {
   "cell_type": "code",
   "execution_count": 204,
   "metadata": {},
   "outputs": [
    {
     "data": {
      "text/html": [
       "<div>\n",
       "<style scoped>\n",
       "    .dataframe tbody tr th:only-of-type {\n",
       "        vertical-align: middle;\n",
       "    }\n",
       "\n",
       "    .dataframe tbody tr th {\n",
       "        vertical-align: top;\n",
       "    }\n",
       "\n",
       "    .dataframe thead th {\n",
       "        text-align: right;\n",
       "    }\n",
       "</style>\n",
       "<table border=\"1\" class=\"dataframe\">\n",
       "  <thead>\n",
       "    <tr style=\"text-align: right;\">\n",
       "      <th></th>\n",
       "      <th>X (rad/s)</th>\n",
       "      <th>Y (rad/s)</th>\n",
       "      <th>Z (rad/s)</th>\n",
       "    </tr>\n",
       "  </thead>\n",
       "  <tbody>\n",
       "    <tr>\n",
       "      <th>0</th>\n",
       "      <td>0.157167</td>\n",
       "      <td>-0.113147</td>\n",
       "      <td>0.339072</td>\n",
       "    </tr>\n",
       "    <tr>\n",
       "      <th>1</th>\n",
       "      <td>-0.145546</td>\n",
       "      <td>-0.544033</td>\n",
       "      <td>0.106931</td>\n",
       "    </tr>\n",
       "    <tr>\n",
       "      <th>2</th>\n",
       "      <td>-0.019890</td>\n",
       "      <td>0.128940</td>\n",
       "      <td>-0.084526</td>\n",
       "    </tr>\n",
       "    <tr>\n",
       "      <th>3</th>\n",
       "      <td>-0.053116</td>\n",
       "      <td>0.012188</td>\n",
       "      <td>0.077767</td>\n",
       "    </tr>\n",
       "    <tr>\n",
       "      <th>4</th>\n",
       "      <td>-0.209465</td>\n",
       "      <td>0.149791</td>\n",
       "      <td>-0.038226</td>\n",
       "    </tr>\n",
       "    <tr>\n",
       "      <th>...</th>\n",
       "      <td>...</td>\n",
       "      <td>...</td>\n",
       "      <td>...</td>\n",
       "    </tr>\n",
       "    <tr>\n",
       "      <th>195</th>\n",
       "      <td>-1.352521</td>\n",
       "      <td>-0.893173</td>\n",
       "      <td>-0.382748</td>\n",
       "    </tr>\n",
       "    <tr>\n",
       "      <th>196</th>\n",
       "      <td>-1.593726</td>\n",
       "      <td>-1.041928</td>\n",
       "      <td>-0.614339</td>\n",
       "    </tr>\n",
       "    <tr>\n",
       "      <th>197</th>\n",
       "      <td>-0.351098</td>\n",
       "      <td>-0.957670</td>\n",
       "      <td>-0.327615</td>\n",
       "    </tr>\n",
       "    <tr>\n",
       "      <th>198</th>\n",
       "      <td>0.819053</td>\n",
       "      <td>-0.023116</td>\n",
       "      <td>-0.134120</td>\n",
       "    </tr>\n",
       "    <tr>\n",
       "      <th>199</th>\n",
       "      <td>0.116120</td>\n",
       "      <td>-0.094024</td>\n",
       "      <td>-0.433398</td>\n",
       "    </tr>\n",
       "  </tbody>\n",
       "</table>\n",
       "<p>200 rows × 3 columns</p>\n",
       "</div>"
      ],
      "text/plain": [
       "     X (rad/s)  Y (rad/s)  Z (rad/s)\n",
       "0     0.157167  -0.113147   0.339072\n",
       "1    -0.145546  -0.544033   0.106931\n",
       "2    -0.019890   0.128940  -0.084526\n",
       "3    -0.053116   0.012188   0.077767\n",
       "4    -0.209465   0.149791  -0.038226\n",
       "..         ...        ...        ...\n",
       "195  -1.352521  -0.893173  -0.382748\n",
       "196  -1.593726  -1.041928  -0.614339\n",
       "197  -0.351098  -0.957670  -0.327615\n",
       "198   0.819053  -0.023116  -0.134120\n",
       "199   0.116120  -0.094024  -0.433398\n",
       "\n",
       "[200 rows x 3 columns]"
      ]
     },
     "execution_count": 204,
     "metadata": {},
     "output_type": "execute_result"
    }
   ],
   "source": [
    "gyrResampleNormal_s3[]\n"
   ]
  },
  {
   "cell_type": "markdown",
   "metadata": {},
   "source": [
    "### Resample data"
   ]
  },
  {
   "cell_type": "markdown",
   "metadata": {},
   "source": [
    "#### Resample all the data"
   ]
  },
  {
   "cell_type": "code",
   "execution_count": 154,
   "metadata": {},
   "outputs": [],
   "source": [
    "# Create arrays for resampled data\n",
    "#gyrResampleNormal_s1 = []; gyrResampleUpstairs_s1 = []; gyrResampleDownstairs_s1 = []\n",
    "gyrResampleNormal_s3 = []; gyrResampleUpstairs_s3 = []; gyrResampleDownstairs_s3 = []\n",
    "\n",
    "#accResampleNormal_s1 = []; accResampleUpstairs_s1 = []; accResampleDownstairs_s1 = []\n",
    "accResampleNormal_s3 = []; accResampleUpstairs_s3 = []; accResampleDownstairs_s3 = []\n",
    "\n",
    "size = 200\n",
    "\n",
    "for j in gaitpos:\n",
    "    for i in smartphone:\n",
    "            gyrl = eval(f'gyrCut{j}_s{i}')\n",
    "            accl = eval(f'accCut{j}_s{i}')\n",
    "\n",
    "            gyrrs = eval(f'gyrResample{j}_s{i}')\n",
    "            accrs = eval(f'accResample{j}_s{i}')\n",
    "\n",
    "            for rg in range(0, len(gyrl)):\n",
    "                g = sp.resample(gyrl[rg], size, axis = 0)\n",
    "                a = sp.resample(accl[rg], size, axis = 0)\n",
    "                \n",
    "                gyrrs.append(g)\n",
    "                accrs.append(a)"
   ]
  },
  {
   "cell_type": "markdown",
   "metadata": {},
   "source": [
    "#### Check if all the data is collected properly after resampling"
   ]
  },
  {
   "cell_type": "code",
   "execution_count": 155,
   "metadata": {},
   "outputs": [
    {
     "name": "stdout",
     "output_type": "stream",
     "text": [
      "Shape of gyrResampleNormal_s3 is ------ (8, 200, 4)\n",
      "Shape of accResampleNormal_s3 is ------ (8, 200, 4) \n",
      "\n",
      "Shape of gyrResampleUpstairs_s3 is ------ (8, 200, 4)\n",
      "Shape of accResampleUpstairs_s3 is ------ (8, 200, 4) \n",
      "\n",
      "Shape of gyrResampleDownstairs_s3 is ------ (7, 200, 4)\n",
      "Shape of accResampleDownstairs_s3 is ------ (7, 200, 4) \n",
      "\n"
     ]
    }
   ],
   "source": [
    "# getting the data shape for reference\n",
    "for j in gaitpos:\n",
    "    for i in smartphone:\n",
    "            gyr = eval(f'gyrResample{j}_s{i}')\n",
    "            acc = eval(f'accResample{j}_s{i}')\n",
    "\n",
    "            print(f'Shape of gyrResample{j}_s{i} is ------ {np.asarray((gyr), dtype = list).shape}')\n",
    "            print(f'Shape of accResample{j}_s{i} is ------ {np.asarray((acc), dtype = list).shape} \\n')"
   ]
  },
  {
   "cell_type": "markdown",
   "metadata": {},
   "source": [
    "#### Plot to compare the cut data, and resampled data"
   ]
  },
  {
   "cell_type": "code",
   "execution_count": 156,
   "metadata": {},
   "outputs": [
    {
     "data": {
      "application/vnd.jupyter.widget-view+json": {
       "model_id": "19fb2bf7faf942d6b0795f51a192b281",
       "version_major": 2,
       "version_minor": 0
      },
      "text/html": [
       "\n",
       "            <div style=\"display: inline-block;\">\n",
       "                <div class=\"jupyter-widgets widget-label\" style=\"text-align: center;\">\n",
       "                    Figure\n",
       "                </div>\n",
       "                <img src='data:image/png;base64,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' width=640.0/>\n",
       "            </div>\n",
       "        "
      ],
      "text/plain": [
       "Canvas(toolbar=Toolbar(toolitems=[('Home', 'Reset original view', 'home', 'home'), ('Back', 'Back to previous …"
      ]
     },
     "metadata": {},
     "output_type": "display_data"
    }
   ],
   "source": [
    "# pos = 'Normal', 'Upstairs', 'Downstairs'\n",
    "pos = 'Normal'\n",
    "# loc = 1, 3\n",
    "loc = 3\n",
    "# no = 0-7\n",
    "no = 2\n",
    "# axis = 0, 1, 2\n",
    "axis = 0\n",
    "\n",
    "plt.close()\n",
    "fig, axs = plt.subplots(2,1)\n",
    "fig.suptitle('Comparision of Resampled Data')\n",
    "\n",
    "# axs[0].plot(eval(f'gyr{pos}_s{loc}')[no].iloc[:,(axis+1)], label='Raw Data', c = 'c')\n",
    "# axs[0].plot(eval(f'gyrFiltered{pos}_s{loc}')[no][:,axis], label='Filtered Data', c = 'b')\n",
    "axs[0].plot(eval(f'gyrCut{pos}_s{loc}')[no][:,axis], label = 'Gyr Cutted Data', c = 'r')\n",
    "axs[0].x_lim = [0, 250]\n",
    "\n",
    "axs[1].plot(eval(f'gyrResample{pos}_s{loc}')[no][:,axis], label = 'Gyr Resampled Data', c = 'g')\n",
    "\n",
    "axs[0].legend()\n",
    "axs[1].legend()\n",
    "plt.show()"
   ]
  },
  {
   "cell_type": "markdown",
   "metadata": {},
   "source": [
    "### Change the data type to pd.DataFrame and drop that extra frckin column"
   ]
  },
  {
   "cell_type": "code",
   "execution_count": 157,
   "metadata": {},
   "outputs": [],
   "source": [
    "\n",
    "for j in gaitpos:\n",
    "    for i in smartphone:\n",
    "            gyrl = eval(f'gyrResample{j}_s{i}')\n",
    "            accl = eval(f'accResample{j}_s{i}')\n",
    "\n",
    "            for x in range(0, len(gyrl)):\n",
    "                g = pd.DataFrame(data = gyrl[x], columns=['X (rad/s)', 'Y (rad/s)', 'Z (rad/s)', 'Unnamed'])\n",
    "                a = pd.DataFrame(data = accl[x], columns=['X (m/s^2)', 'Y (m/s^2)', 'Z (m/s^2)', 'Unnamed'])\n",
    "                \n",
    "                g.drop(g.columns[3], axis=1, inplace=True)\n",
    "                a.drop(a.columns[3], axis=1, inplace=True)\n",
    "\n",
    "                gyrl[x] = g\n",
    "                accl[x] = a\n"
   ]
  },
  {
   "cell_type": "markdown",
   "metadata": {},
   "source": [
    "### Create subject specific dataframes"
   ]
  },
  {
   "cell_type": "code",
   "execution_count": 158,
   "metadata": {},
   "outputs": [
    {
     "data": {
      "text/html": [
       "<div>\n",
       "<style scoped>\n",
       "    .dataframe tbody tr th:only-of-type {\n",
       "        vertical-align: middle;\n",
       "    }\n",
       "\n",
       "    .dataframe tbody tr th {\n",
       "        vertical-align: top;\n",
       "    }\n",
       "\n",
       "    .dataframe thead th {\n",
       "        text-align: right;\n",
       "    }\n",
       "</style>\n",
       "<table border=\"1\" class=\"dataframe\">\n",
       "  <thead>\n",
       "    <tr style=\"text-align: right;\">\n",
       "      <th></th>\n",
       "      <th>X</th>\n",
       "      <th>Y</th>\n",
       "      <th>Z</th>\n",
       "    </tr>\n",
       "  </thead>\n",
       "  <tbody>\n",
       "    <tr>\n",
       "      <th>0</th>\n",
       "      <td>0.835265</td>\n",
       "      <td>-0.599597</td>\n",
       "      <td>1.225153</td>\n",
       "    </tr>\n",
       "    <tr>\n",
       "      <th>1</th>\n",
       "      <td>1.187492</td>\n",
       "      <td>-0.685714</td>\n",
       "      <td>1.642764</td>\n",
       "    </tr>\n",
       "    <tr>\n",
       "      <th>2</th>\n",
       "      <td>0.832777</td>\n",
       "      <td>-0.196561</td>\n",
       "      <td>0.813406</td>\n",
       "    </tr>\n",
       "    <tr>\n",
       "      <th>3</th>\n",
       "      <td>1.065330</td>\n",
       "      <td>-0.239404</td>\n",
       "      <td>0.691151</td>\n",
       "    </tr>\n",
       "    <tr>\n",
       "      <th>4</th>\n",
       "      <td>0.813815</td>\n",
       "      <td>-0.319127</td>\n",
       "      <td>0.486134</td>\n",
       "    </tr>\n",
       "    <tr>\n",
       "      <th>...</th>\n",
       "      <td>...</td>\n",
       "      <td>...</td>\n",
       "      <td>...</td>\n",
       "    </tr>\n",
       "    <tr>\n",
       "      <th>395</th>\n",
       "      <td>3.663414</td>\n",
       "      <td>-9.453709</td>\n",
       "      <td>-1.152444</td>\n",
       "    </tr>\n",
       "    <tr>\n",
       "      <th>396</th>\n",
       "      <td>3.443942</td>\n",
       "      <td>-8.848232</td>\n",
       "      <td>-0.816315</td>\n",
       "    </tr>\n",
       "    <tr>\n",
       "      <th>397</th>\n",
       "      <td>2.536238</td>\n",
       "      <td>-9.228604</td>\n",
       "      <td>-0.825620</td>\n",
       "    </tr>\n",
       "    <tr>\n",
       "      <th>398</th>\n",
       "      <td>2.794210</td>\n",
       "      <td>-8.842002</td>\n",
       "      <td>0.008083</td>\n",
       "    </tr>\n",
       "    <tr>\n",
       "      <th>399</th>\n",
       "      <td>1.859999</td>\n",
       "      <td>-10.358993</td>\n",
       "      <td>-0.484346</td>\n",
       "    </tr>\n",
       "  </tbody>\n",
       "</table>\n",
       "<p>400 rows × 3 columns</p>\n",
       "</div>"
      ],
      "text/plain": [
       "            X          Y         Z\n",
       "0    0.835265  -0.599597  1.225153\n",
       "1    1.187492  -0.685714  1.642764\n",
       "2    0.832777  -0.196561  0.813406\n",
       "3    1.065330  -0.239404  0.691151\n",
       "4    0.813815  -0.319127  0.486134\n",
       "..        ...        ...       ...\n",
       "395  3.663414  -9.453709 -1.152444\n",
       "396  3.443942  -8.848232 -0.816315\n",
       "397  2.536238  -9.228604 -0.825620\n",
       "398  2.794210  -8.842002  0.008083\n",
       "399  1.859999 -10.358993 -0.484346\n",
       "\n",
       "[400 rows x 3 columns]"
      ]
     },
     "execution_count": 158,
     "metadata": {},
     "output_type": "execute_result"
    }
   ],
   "source": [
    "# defining arrays for subject specific data\n",
    "#subNormal_s1 = []; subUpstairs_s1 = []; subDownstairs_s1 = []\n",
    "subNormal_s3 = []; subUpstairs_s3 = []; subDownstairs_s3 = []\n",
    "\n",
    "for j in gaitpos:\n",
    "    for i in smartphone:\n",
    "        gyr = eval(f'gyrResample{j}_s{i}')\n",
    "        acc = eval(f'accResample{j}_s{i}')\n",
    "\n",
    "        sub = eval(f'sub{j}_s{i}')\n",
    "\n",
    "        for l in range(0, len(gyr)):\n",
    "            # subject = pd.concat((gyr[l], acc[l]), axis = 1)\n",
    "            \n",
    "            ## to concatenate the data after the gyroscope data and convert it to pandas dataframe\n",
    "            subject = np.concatenate((gyr[l], acc[l]), axis = 0)\n",
    "            subject = pd.DataFrame(data = subject, columns=['X', 'Y', 'Z'])\n",
    "\n",
    "            sub.append(subject)\n",
    "sub[0]"
   ]
  },
  {
   "cell_type": "markdown",
   "metadata": {},
   "source": [
    "### Normalize data"
   ]
  },
  {
   "cell_type": "markdown",
   "metadata": {},
   "source": [
    "#### Normalize function"
   ]
  },
  {
   "cell_type": "code",
   "execution_count": 159,
   "metadata": {},
   "outputs": [],
   "source": [
    "def normalize(datainput):\n",
    "    norm=[]  \n",
    "    #Filter the X, Y and Z axis of the input data\n",
    "        # y=datainput[:,i]\n",
    "    norm = preprocessing.normalize(datainput,axis=1)\n",
    "    # resample[:,1] = sp.resample(dataInput[:,1],250)\n",
    "    # resample[:,2] = sp.resample(dataInput[:,2],250)\n",
    "    \n",
    "    return norm"
   ]
  },
  {
   "cell_type": "markdown",
   "metadata": {},
   "source": [
    "#### Normalize all the data"
   ]
  },
  {
   "cell_type": "code",
   "execution_count": 160,
   "metadata": {},
   "outputs": [],
   "source": [
    "##Normalization, for loop needs to be present\n",
    "# defining arrays for normal gyroscope data\n",
    "gyrNormalizedNormal_s1 = []; gyrNormalizedUpstairs_s1 = []; gyrNormalizedDownstairs_s1 = []\n",
    "gyrNormalizedNormal_s3 = []; gyrNormalizedUpstairs_s3 = []; gyrNormalizedDownstairs_s3 = []\n",
    "\n",
    "# defining arrays for cut accelerometer data\n",
    "accNormalizedNormal_s1 = []; accNormalizedUpstairs_s1 = []; accNormalizedDownstairs_s1 = []\n",
    "accNormalizedNormal_s3 = []; accNormalizedUpstairs_s3 = []; accNormalizedDownstairs_s3 = []\n",
    "\n",
    "# getting the data shape for reference\n",
    "for j in gaitpos:\n",
    "    for i in smartphone:\n",
    "            #variables of cut data\n",
    "            gyrCut = eval(f'gyrCut{j}_s{i}')\n",
    "            accCut = eval(f'accCut{j}_s{i}')\n",
    "            #variables of normalized data\n",
    "            gyrN = eval(f'gyrNormalized{j}_s{i}')\n",
    "            accN = eval(f'accNormalized{j}_s{i}')\n",
    "             # getting the shape of the gyroscope and accelerometer data\n",
    "            ng = len(gyrCut)\n",
    "            na = len(accCut)\n",
    "\n",
    "            # Filter all the data\n",
    "            for rg in range(0, ng):\n",
    "                gN = normalize(gyrCut[rg])\n",
    "                gyrN.append(gN)\n",
    "\n",
    "            for ra in range(0, na):\n",
    "                \n",
    "                aN = normalize(accCut[ra])\n",
    "                accN.append(aN)\n"
   ]
  },
  {
   "cell_type": "markdown",
   "metadata": {},
   "source": [
    "#### Check if the data is collected properly after normalization"
   ]
  },
  {
   "cell_type": "code",
   "execution_count": 161,
   "metadata": {},
   "outputs": [
    {
     "name": "stdout",
     "output_type": "stream",
     "text": [
      "Shape of gyrNormalizedNormal_s3 is ------ (8,)\n",
      "Shape of accNormalizedNormal_s3 is ------ (8,) \n",
      "\n",
      "Shape of gyrNormalizedUpstairs_s3 is ------ (8,)\n",
      "Shape of accNormalizedUpstairs_s3 is ------ (8,) \n",
      "\n",
      "Shape of gyrNormalizedDownstairs_s3 is ------ (7,)\n",
      "Shape of accNormalizedDownstairs_s3 is ------ (7,) \n",
      "\n"
     ]
    }
   ],
   "source": [
    "# getting the normalized data shape for reference\n",
    "for j in gaitpos:\n",
    "    for i in smartphone:\n",
    "            gyr = eval(f'gyrNormalized{j}_s{i}')\n",
    "            acc = eval(f'accNormalized{j}_s{i}')\n",
    "\n",
    "            print(f'Shape of gyrNormalized{j}_s{i} is ------ {np.asarray((gyr), dtype = list).shape}')\n",
    "            print(f'Shape of accNormalized{j}_s{i} is ------ {np.asarray((acc), dtype = list).shape} \\n')\n"
   ]
  },
  {
   "cell_type": "markdown",
   "metadata": {},
   "source": [
    "### Plotttt function"
   ]
  },
  {
   "cell_type": "code",
   "execution_count": 162,
   "metadata": {},
   "outputs": [],
   "source": [
    "def gyrPlot(x, y, lbl, xlbl='None', ylbl='None', ttl='None', clr='None'):\n",
    "    plt.close()\n",
    "    plt.plot(x, y, label=lbl, c=clr)\n",
    "\n",
    "    plt.xlabel(xlbl)\n",
    "    plt.ylabel(ylbl)\n",
    "    plt.title(ttl)\n",
    "\n",
    "    plt.legend()\n",
    "    plt.grid()\n",
    "    plt.show()"
   ]
  },
  {
   "cell_type": "markdown",
   "metadata": {},
   "source": [
    "## PCA"
   ]
  },
  {
   "cell_type": "code",
   "execution_count": 205,
   "metadata": {},
   "outputs": [
    {
     "name": "stdout",
     "output_type": "stream",
     "text": [
      "<class 'pandas.core.frame.DataFrame'>\n"
     ]
    },
    {
     "data": {
      "application/vnd.jupyter.widget-view+json": {
       "model_id": "52392b44408d49e898a3ddf8362104c5",
       "version_major": 2,
       "version_minor": 0
      },
      "text/html": [
       "\n",
       "            <div style=\"display: inline-block;\">\n",
       "                <div class=\"jupyter-widgets widget-label\" style=\"text-align: center;\">\n",
       "                    Figure\n",
       "                </div>\n",
       "                <img src='data:image/png;base64,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' width=500.0/>\n",
       "            </div>\n",
       "        "
      ],
      "text/plain": [
       "Canvas(toolbar=Toolbar(toolitems=[('Home', 'Reset original view', 'home', 'home'), ('Back', 'Back to previous …"
      ]
     },
     "metadata": {},
     "output_type": "display_data"
    }
   ],
   "source": [
    "from sklearn.decomposition import PCA\n",
    "from sklearn.preprocessing import StandardScaler\n",
    "X=sub[0][['X','Y','Z']]\n",
    "#Y=['label']\n",
    "print(type(X))\n",
    "X_normalized=(X-X.mean())/X.std()\n",
    "scaler = StandardScaler()\n",
    "scaler.fit(X_normalized)\n",
    "scaled_data = scaler.transform(X_normalized)\n",
    "pca=PCA(n_components=2)\n",
    "X_pca= pca.fit_transform(scaled_data)\n",
    "scaled_data.shape\n",
    "X_pca.shape\n",
    "plt.close()\n",
    "plt.figure(figsize=(5,5))\n",
    "plt.scatter(X_pca[:,0], X_pca[:,1], c =None, cmap = 'viridis', alpha = 0.3)\n",
    "plt.title('Principal Component Analysis')\n",
    "plt.xlabel('First Principal Component')\n",
    "plt.ylabel('Second Principal Component')\n",
    "\n",
    "plt.show()\n",
    "\n",
    "plt.savefig('PCA.png')"
   ]
  },
  {
   "cell_type": "code",
   "execution_count": null,
   "metadata": {},
   "outputs": [],
   "source": []
  },
  {
   "cell_type": "markdown",
   "metadata": {},
   "source": [
    "## ---> AI Model"
   ]
  },
  {
   "cell_type": "code",
   "execution_count": null,
   "metadata": {},
   "outputs": [],
   "source": []
  }
 ],
 "metadata": {
  "interpreter": {
   "hash": "d27c620567fe2d1f3f91b14d158f32cde7e2c4b18fc4163e5eb414de6a296357"
  },
  "kernelspec": {
   "display_name": "Python 3.8.12 64-bit ('ai': conda)",
   "language": "python",
   "name": "python3"
  },
  "language_info": {
   "codemirror_mode": {
    "name": "ipython",
    "version": 3
   },
   "file_extension": ".py",
   "mimetype": "text/x-python",
   "name": "python",
   "nbconvert_exporter": "python",
   "pygments_lexer": "ipython3",
   "version": "3.8.12"
  },
  "orig_nbformat": 4
 },
 "nbformat": 4,
 "nbformat_minor": 2
}
