{
 "cells": [
  {
   "cell_type": "code",
   "execution_count": null,
   "metadata": {},
   "outputs": [],
   "source": [
    "VGG2 = Sequential()\n",
    "\n",
    "VGG2.add(Conv1D(filters=64, kernel_size=3, strides=2,activation='relu', input_shape=(100,4), padding='same'))\n",
    "VGG2.add(Conv1D(filters=64, kernel_size=3, strides=1,activation='relu',padding='valid'))\n",
    "VGG2.add(Conv1D(filters=64, kernel_size=1, strides=1,activation='relu' ))\n",
    "\n",
    "VGG2.add(MaxPooling1D(pool_size=2, strides=2))\n",
    "\n",
    "VGG2.add(Conv1D(filters=128, kernel_size=3, strides=1,activation='relu',padding='valid'))\n",
    "VGG2.add(Conv1D(filters=128, kernel_size=1, strides=1,activation='relu' ))\n",
    "\n",
    "VGG2.add(MaxPooling1D(pool_size=2, strides=2))\n",
    "\n",
    "VGG2.add(Conv1D(filters=256, kernel_size=3, strides=1,activation='relu',padding='valid'))\n",
    "VGG2.add(Conv1D(filters=256, kernel_size=1, strides=1,activation='relu' ))\n",
    "\n",
    "VGG2.add(MaxPooling1D(pool_size=2, strides=2))\n",
    "\n",
    "VGG2.add(Conv1D(filters=256, kernel_size=3, strides=1,activation='relu',padding='valid'))\n",
    "VGG2.add(Conv1D(filters=384, kernel_size=1, strides=1,activation='relu'))\n",
    "VGG2.add(Conv1D(filters=100, kernel_size=1, strides=1,activation='relu'))\n",
    "VGG2.add(MaxPooling1D(pool_size=2, strides=2))\n",
    "\n",
    "VGG2.add(Flatten())\n",
    "\n",
    "VGG2.add(Dense(units=2,activation='linear'))\n",
    "\n",
    "VGG2.summary()\n",
    "\n",
    "VGG2.compile(loss = 'mse', optimizer = 'Adam', metrics=['Accuracy'])\n",
    "VGG2_act=VGG2.fit(x_train, y_train, epochs=90, verbose=1, batch_size=32, validation_data=(x_test, y_test))\n"
   ]
  },
  {
   "cell_type": "code",
   "execution_count": null,
   "metadata": {},
   "outputs": [],
   "source": [
    "mean_squared_error(scalar.inverse_transform(y_test), scalar.inverse_transform(VGG2.predict(x_test)), squared=True)"
   ]
  },
  {
   "cell_type": "code",
   "execution_count": null,
   "metadata": {},
   "outputs": [],
   "source": [
    "plt.close()\n",
    "plt.plot(VGG2_act.history['loss'], label='Training Loss')\n",
    "plt.plot(VGG2_act.history['val_loss'], label='Validation Loss')\n",
    "plt.plot(VGG2_act.history['Accuracy'], label='Training Accuracy')\n",
    "plt.plot(VGG2_act.history['val_Accuracy'], label='Validation Accuracy')\n",
    "\n",
    "plt.yticks(np.arange(0, 1, 0.05))\n",
    "\n",
    "plt.tight_layout()\n",
    "plt.xlabel('Epochs')\n",
    "plt.legend()\n",
    "plt.show()"
   ]
  }
 ],
 "metadata": {
  "language_info": {
   "name": "python"
  },
  "orig_nbformat": 4
 },
 "nbformat": 4,
 "nbformat_minor": 2
}
