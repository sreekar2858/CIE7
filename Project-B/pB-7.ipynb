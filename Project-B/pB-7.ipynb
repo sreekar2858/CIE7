{
 "cells": [
  {
   "cell_type": "markdown",
   "metadata": {},
   "source": [
    "#### CIE-Project B || Group - 7"
   ]
  },
  {
   "cell_type": "markdown",
   "metadata": {},
   "source": [
    "#### Imports"
   ]
  },
  {
   "cell_type": "code",
   "execution_count": 2,
   "metadata": {},
   "outputs": [],
   "source": [
    "import os\n",
    "import pandas as pd\n",
    "import numpy as np\n",
    "import scipy as sp\n",
    "from scipy.signal import resample, find_peaks\n",
    "from scipy.io import loadmat\n",
    "import matplotlib.pyplot as plt\n",
    "from mpl_toolkits.mplot3d import Axes3D\n",
    "import seaborn as sns\n",
    "import pickle\n",
    "import time\n",
    "\n",
    "# from sklearn import preprocessing ##importing for normalization\n",
    "# from sklearn.decomposition import PCA\n",
    "# from sklearn.discriminant_analysis import LinearDiscriminantAnalysis as LDA\n",
    "from sklearn.preprocessing import MinMaxScaler, minmax_scale, StandardScaler, LabelEncoder\n",
    "from sklearn.model_selection import train_test_split\n",
    "from sklearn.metrics import confusion_matrix, classification_report, accuracy_score\n",
    "\n",
    "import tensorflow as tf\n",
    "from keras.models import Sequential\n",
    "from keras.layers import Dense, Dropout, Flatten, Conv1D, Conv2D, MaxPooling1D, MaxPooling2D, LSTM, CuDNNLSTM\n",
    "from keras.callbacks import TensorBoard, ModelCheckpoint, EarlyStopping\n",
    "from keras.utils import np_utils\n",
    "from keras_tuner.tuners import RandomSearch\n",
    "from keras_tuner.engine.hyperparameters import HyperParameters\n",
    "\n",
    "plt.rcParams['figure.dpi'] = 100\n",
    "plt.rcParams['axes.grid'] = True\n",
    "plt.rcParams['legend.frameon'] = True\n",
    "# plt.rcParams['figure.figsize'] = (8, 8)\n",
    "%matplotlib widget"
   ]
  },
  {
   "cell_type": "markdown",
   "metadata": {},
   "source": [
    "##### Get the root directory and change to it"
   ]
  },
  {
   "cell_type": "code",
   "execution_count": 3,
   "metadata": {},
   "outputs": [],
   "source": [
    "rootdir = os.getcwd()\n",
    "os.chdir(rootdir)"
   ]
  },
  {
   "cell_type": "markdown",
   "metadata": {},
   "source": [
    "#### Folder Variables Assignment"
   ]
  },
  {
   "cell_type": "code",
   "execution_count": 4,
   "metadata": {},
   "outputs": [],
   "source": [
    "# Names of the folders\n",
    "Training_Folder = 'EPOT_DATA'\n",
    "Validation_Aug_Folder = 'Validation_augmented_data'\n",
    "Experiment = 'Experiment'\n",
    "Ex_Validation = 'Experimental_validation'\n",
    "\n",
    "counter = 0"
   ]
  },
  {
   "cell_type": "markdown",
   "metadata": {},
   "source": [
    "#### Parsing"
   ]
  },
  {
   "cell_type": "markdown",
   "metadata": {},
   "source": [
    "##### Parse the training and validation-augmented data"
   ]
  },
  {
   "cell_type": "code",
   "execution_count": null,
   "metadata": {},
   "outputs": [],
   "source": [
    "# Initialize lists for training and validation\n",
    "training_tr = []; training_tr_labels = []\n",
    "\n",
    "validation_aug = []; validation_aug_labels = [] # validation augmented data\n",
    "\n",
    "#------------------------------------------------------------------------------\n",
    "\n",
    "for subdir, dirs, files in os.walk(rootdir):\n",
    "    \n",
    "    if Training_Folder.lower() in subdir.lower():\n",
    "        for file in files:\n",
    "            if file.endswith('.mat'):\n",
    "                lbl = [file.split('_')[1], file.split('_')[2][:3]]\n",
    "                lb = np.asarray(lbl, dtype=float)\n",
    "                # load mat-file\n",
    "                mat = loadmat(os.path.join(subdir, file))\n",
    "                # get the numpy data from the mat file\n",
    "                mat = mat['num_data']\n",
    "                # append data to the list\n",
    "                training_tr.append(mat)\n",
    "                training_tr_labels.append(lb)\n",
    "\n",
    "    elif Validation_Aug_Folder.lower() in subdir.lower():\n",
    "        for file in files:\n",
    "            if file.endswith('.mat'):\n",
    "                lbl = [file.split('_')[1], file.split('_')[2][:3]]\n",
    "                lb = np.asarray(lbl, dtype=float)\n",
    "                # load mat-file\n",
    "                mat = loadmat(os.path.join(subdir, file))\n",
    "                # get the numpy data from the mat file\n",
    "                mat = mat['num_data']\n",
    "                # append data to the list\n",
    "                validation_aug.append(mat)\n",
    "                validation_aug_labels.append(lb)"
   ]
  },
  {
   "cell_type": "code",
   "execution_count": null,
   "metadata": {},
   "outputs": [],
   "source": [
    "plt.close()\n",
    "fig, axs = plt.subplots(2, 2, sharex=True, sharey=True)\n",
    "\n",
    "l = 3\n",
    "\n",
    "fig.suptitle(f'EPOT Training Data - {training_tr_labels[l]}')\n",
    "\n",
    "axs[0,0].plot(training_tr[l][:,0], training_tr[l][:,1], label='P - 1', c = 'r')\n",
    "axs[0,1].plot(training_tr[l][:,0], training_tr[l][:,2], label='P - 2', c = 'g')\n",
    "axs[1,0].plot(training_tr[l][:,0], training_tr[l][:,3], label='P - 3', c = 'b')\n",
    "axs[1,1].plot(training_tr[l][:,0], training_tr[l][:,4], label='P - 4', c = 'y')\n",
    "\n",
    "fig.legend()\n",
    "plt.show()"
   ]
  },
  {
   "cell_type": "markdown",
   "metadata": {},
   "source": [
    "##### Parse the experimental data"
   ]
  },
  {
   "cell_type": "code",
   "execution_count": null,
   "metadata": {},
   "outputs": [],
   "source": [
    "# Initialize lists for training and validation\n",
    "ex_data = []; ex_labels = []\n",
    "\n",
    "#------------------------------------------------------------------------------\n",
    "\n",
    "for subdir, dirs, files in os.walk(rootdir):\n",
    "    \n",
    "    if Experiment.lower() in subdir.lower():\n",
    "        for file in files:\n",
    "            if file.endswith('.txt'):\n",
    "                \n",
    "                with open(os.path.join(subdir, file), 'r') as f:\n",
    "                    x = pd.read_csv(os.path.join(subdir, file), delimiter='\\t', decimal=',', skiprows=8, header=None)\n",
    "                    x = np.asarray(x, dtype=float)\n",
    "                    ex_data.append(x)"
   ]
  },
  {
   "cell_type": "code",
   "execution_count": null,
   "metadata": {},
   "outputs": [],
   "source": [
    "plt.close()\n",
    "l = 1\n",
    "plt.plot(ex_data[l][:,0], ex_data[l][:,1], label='P - 1', c = 'r')\n",
    "plt.show()"
   ]
  },
  {
   "cell_type": "markdown",
   "metadata": {},
   "source": [
    "##### Parse the experimental validation data"
   ]
  },
  {
   "cell_type": "code",
   "execution_count": null,
   "metadata": {},
   "outputs": [],
   "source": [
    "# Initialize lists for training and validation\n",
    "ex_val_data = []; ex_val_labels = []\n",
    "\n",
    "#------------------------------------------------------------------------------\n",
    "\n",
    "for subdir, dirs, files in os.walk(rootdir):\n",
    "    \n",
    "    if Ex_Validation.lower() in subdir.lower():\n",
    "        for file in files:\n",
    "            if file.endswith('.txt'):\n",
    "                \n",
    "                with open(os.path.join(subdir, file), 'r') as f:\n",
    "                    # print(file.split('_')[2], file.split('_')[3], file.split('_')[5][:3])\n",
    "                    lbl = [file.split('_')[2], file.split('_')[3], file.split('_')[5][:3]]\n",
    "                    lb = np.asarray(lbl, dtype=float)\n",
    "\n",
    "                    x = pd.read_csv(os.path.join(subdir, file), delimiter='\\t', decimal=',', skiprows=8, header=None)\n",
    "                    x = np.asarray(x, dtype=float)\n",
    "                    ex_val_data.append(x)\n",
    "                    ex_val_labels.append(lb)"
   ]
  },
  {
   "cell_type": "markdown",
   "metadata": {},
   "source": [
    "#### Augmentation"
   ]
  },
  {
   "cell_type": "markdown",
   "metadata": {},
   "source": [
    "##### Variable initialization"
   ]
  },
  {
   "cell_type": "code",
   "execution_count": null,
   "metadata": {},
   "outputs": [],
   "source": [
    "## -----------------------------------------------------------------------------\n",
    "#Assuming P1 on top and counter clockwise order\n",
    "## -----------------------------------------------------------------------------\n",
    "\n",
    "\n",
    "# Variables for the augmented data\n",
    "training_tl = np.zeros_like(np.asarray(training_tr)); training_tl_labels = np.zeros_like(np.asarray(training_tr_labels))\n",
    "training_bl = np.zeros_like(np.asarray(training_tr)); training_bl_labels = np.zeros_like(np.asarray(training_tr_labels))\n",
    "training_br = np.zeros_like(np.asarray(training_tr)); training_br_labels = np.zeros_like(np.asarray(training_tr_labels))"
   ]
  },
  {
   "cell_type": "markdown",
   "metadata": {},
   "source": [
    "##### Top-Left"
   ]
  },
  {
   "cell_type": "code",
   "execution_count": null,
   "metadata": {},
   "outputs": [],
   "source": [
    "for i in range (0, len(training_tr)):\n",
    "        training_tl[i][:,0] = training_tr[i][:,0]\n",
    "        training_tl[i][:,1] = training_tr[i][:,1]\n",
    "        training_tl[i][:,2] = training_tr[i][:,4]\n",
    "        training_tl[i][:,3] = training_tr[i][:,3]\n",
    "        training_tl[i][:,4] = training_tr[i][:,2]\n",
    "\n",
    "for i in range (0, len(training_tl_labels)):\n",
    "    training_tl_labels[i][0] = 500 - training_tr_labels[i][0]\n",
    "    training_tl_labels[i][1] = training_tr_labels[i][1]"
   ]
  },
  {
   "cell_type": "markdown",
   "metadata": {},
   "source": [
    "##### Bottom-Left"
   ]
  },
  {
   "cell_type": "code",
   "execution_count": null,
   "metadata": {},
   "outputs": [],
   "source": [
    "for i in range (0, len(training_bl)):\n",
    "    training_bl[i][:,0] = training_tl[i][:,0]\n",
    "    training_bl[i][:,1] = training_tl[i][:,3]\n",
    "    training_bl[i][:,2] = training_tl[i][:,2]\n",
    "    training_bl[i][:,3] = training_tl[i][:,1]\n",
    "    training_bl[i][:,4] = training_tl[i][:,4]\n",
    "\n",
    "for i in range (0, len(training_bl_labels)):\n",
    "    training_bl_labels[i][0] = 500. - training_tr_labels[i][0]\n",
    "    training_bl_labels[i][1] = 500. - training_tr_labels[i][1]"
   ]
  },
  {
   "cell_type": "markdown",
   "metadata": {},
   "source": [
    "##### Bottom-Right"
   ]
  },
  {
   "cell_type": "code",
   "execution_count": null,
   "metadata": {},
   "outputs": [],
   "source": [
    "for i in range (0, len(training_br)):\n",
    "        training_br[i][:,0] = training_bl[i][:,0]\n",
    "        training_br[i][:,1] = training_bl[i][:,1]\n",
    "        training_br[i][:,2] = training_bl[i][:,4]\n",
    "        training_br[i][:,3] = training_bl[i][:,3]\n",
    "        training_br[i][:,4] = training_bl[i][:,2]\n",
    "\n",
    "for i in range (0, len(training_br_labels)):\n",
    "    training_br_labels[i][0] = training_tr_labels[i][0]\n",
    "    training_br_labels[i][1] = 500 - training_tr_labels[i][1]"
   ]
  },
  {
   "cell_type": "markdown",
   "metadata": {},
   "source": [
    "##### Delete overlapping data points"
   ]
  },
  {
   "cell_type": "code",
   "execution_count": null,
   "metadata": {},
   "outputs": [],
   "source": [
    "training_tl = np.delete(np.asarray(training_tl), np.where(np.asanyarray(training_tl_labels) == 250.)[0], axis = 0)\n",
    "training_tl_labels = np.delete(np.asarray(training_tl_labels), np.where(np.asanyarray(training_tl_labels) == 250.)[0], axis = 0)\n",
    "\n",
    "training_bl = np.delete(np.asarray(training_bl), 0, axis = 0)\n",
    "training_bl_labels = np.delete(np.asarray(training_bl_labels), 0, axis = 0)\n",
    "\n",
    "training_br = np.delete(np.asarray(training_br), np.where(np.asanyarray(training_br_labels) == 250.)[0], axis = 0)\n",
    "training_br_labels = np.delete(np.asarray(training_br_labels), np.where(np.asanyarray(training_br_labels) == 250.)[0], axis = 0)"
   ]
  },
  {
   "cell_type": "markdown",
   "metadata": {},
   "source": [
    "##### Makesure the augmentation is done on all quadrants"
   ]
  },
  {
   "cell_type": "code",
   "execution_count": null,
   "metadata": {},
   "outputs": [],
   "source": [
    "print(f'{np.asarray(training_tl).shape} \\t{np.asarray(training_tr).shape} \\n{np.asarray(training_bl).shape} \\t{np.asarray(training_br).shape} \\n{counter}')"
   ]
  },
  {
   "cell_type": "code",
   "execution_count": null,
   "metadata": {},
   "outputs": [],
   "source": [
    "plt.close()\n",
    "for i in range(0, len(training_tr_labels)):\n",
    "    plt.plot(training_tr_labels[i][0], training_tr_labels[i][1], 'o', c = 'r')\n",
    "for j in range (0, len(training_tl_labels)):\n",
    "    plt.plot(training_tl_labels[j][0], training_tl_labels[j][1], 's', c = 'g')\n",
    "    plt.plot(training_br_labels[j][0], training_br_labels[j][1], 'P', c = 'y')\n",
    "for k in range (0, len(training_bl_labels)):\n",
    "    plt.plot(training_bl_labels[k][0], training_bl_labels[k][1], '*', c = 'b')            \n",
    "\n",
    "plt.show()"
   ]
  },
  {
   "cell_type": "markdown",
   "metadata": {},
   "source": [
    "#### Concatenate, Normalize, Resample"
   ]
  },
  {
   "cell_type": "markdown",
   "metadata": {},
   "source": [
    "##### Concatenate"
   ]
  },
  {
   "cell_type": "code",
   "execution_count": null,
   "metadata": {},
   "outputs": [],
   "source": [
    "training = np.concatenate((training_tr, training_tl, training_bl, training_br), axis = 0)\n",
    "training_labels = np.concatenate((training_tr_labels, training_tl_labels, training_bl_labels, training_br_labels), axis = 0)\n",
    "\n",
    "print(f'Shape of all training set: {training.shape} \\nShape of all training labels: {training_labels.shape}')"
   ]
  },
  {
   "cell_type": "markdown",
   "metadata": {},
   "source": [
    "##### check with the validation augmented data"
   ]
  },
  {
   "cell_type": "code",
   "execution_count": null,
   "metadata": {},
   "outputs": [],
   "source": [
    "plt.close()\n",
    "fig, axs = plt.subplots(2, 4, sharex=True)\n",
    "\n",
    "val_c = 1 # Given validation folder has 4 data points. so use - (0, 1, 2, 3)\n",
    "\n",
    "# find out the index of the validation set in the training data\n",
    "x = []\n",
    "for i in range (0, len(training_labels)):\n",
    "    if (training_labels[i][0] == validation_aug_labels[val_c][0]) and (training_labels[i][1] == validation_aug_labels[val_c][1]):\n",
    "        x.append(i)\n",
    "\n",
    "# plot to compare the validation set with the training set\n",
    "fig.suptitle(f'EPOT Training Data Coordinates - {training_labels[x[0]]} \\nValidation Augmented Data Coordinates - {validation_aug_labels[val_c]}')\n",
    "\n",
    "axs[0,0].plot(training[x[0]][:,0], training[x[0]][:,1], label='P - 1', c = 'r')\n",
    "axs[0,1].plot(training[x[0]][:,0], training[x[0]][:,2], label='P - 2', c = 'g')\n",
    "axs[0,2].plot(training[x[0]][:,0], training[x[0]][:,3], label='P - 3', c = 'b')\n",
    "axs[0,3].plot(training[x[0]][:,0], training[x[0]][:,4], label='P - 4', c = 'y')\n",
    "\n",
    "axs[1,0].plot(validation_aug[val_c][:,0], validation_aug[val_c][:,1], label='P - 1', c = 'r')\n",
    "axs[1,1].plot(validation_aug[val_c][:,0], validation_aug[val_c][:,2], label='P - 2', c = 'g')\n",
    "axs[1,2].plot(validation_aug[val_c][:,0], validation_aug[val_c][:,3], label='P - 3', c = 'b')\n",
    "axs[1,3].plot(validation_aug[val_c][:,0], validation_aug[val_c][:,4], label='P - 4', c = 'y')\n",
    "\n",
    "# check if the data is exactly the same\n",
    "for i in range (1, 5):\n",
    "    if np.all(training[x[0]][:,i] == validation_aug[val_c][:,i], axis = 0):\n",
    "        print('Data is augmented correctly')\n",
    "\n",
    "fig.legend()\n",
    "plt.show()"
   ]
  },
  {
   "cell_type": "code",
   "execution_count": null,
   "metadata": {},
   "outputs": [],
   "source": [
    "diff = training[x[0]][:,1] - validation_aug[val_c][:,1]\n",
    "diff"
   ]
  },
  {
   "cell_type": "markdown",
   "metadata": {},
   "source": [
    "##### -- Check -- for outliers"
   ]
  },
  {
   "cell_type": "code",
   "execution_count": null,
   "metadata": {},
   "outputs": [],
   "source": [
    "'''\n",
    "plt.close()\n",
    "fig, axs = plt.subplots(2, 2, sharex=True, sharey=True)\n",
    "\n",
    "for i in range(len(training)):\n",
    "    axs[0,0].plot(training[i][:,0], training[i][:,1], label='Training P-1')\n",
    "    axs[0,1].plot(training[i][:,0], training[i][:,2], label='Training P-2')\n",
    "    axs[1,0].plot(training[i][:,0], training[i][:,3], label='Training P-3')\n",
    "    axs[1,1].plot(training[i][:,0], training[i][:,4], label='Training P-4')\n",
    "\n",
    "plt.show()\n",
    "'''"
   ]
  },
  {
   "cell_type": "code",
   "execution_count": null,
   "metadata": {},
   "outputs": [],
   "source": [
    "'''\n",
    "%matplotlib inline\n",
    "sns.set(rc={'figure.figsize':(30, 30)})\n",
    "\n",
    "x = []; y = []; z = []\n",
    "\n",
    "for i in range(len(training)):\n",
    "    xi = training_labels[i][0]\n",
    "    x.append(xi)\n",
    "    yi = training_labels[i][1]\n",
    "    y.append(yi)\n",
    "    zi = pd.DataFrame(training[i][:,1]).max()[0]\n",
    "    # zi = pd.DataFrame(training[i][:,2]).max()[0]\n",
    "    # zi = pd.DataFrame(training[i][:,3]).max()[0]\n",
    "    # zi = pd.DataFrame(training[i][:,4]).max()[0]\n",
    "\n",
    "    z.append(zi)\n",
    "\n",
    "df = pd.DataFrame({'x': x, 'y': y, 'z': z})\n",
    "\n",
    "heatmap1_data = pd.pivot_table(df, values='z', index=['y'], columns='x')\n",
    "\n",
    "ax = sns.heatmap(heatmap1_data, \n",
    "                square=True, \n",
    "                annot = True, \n",
    "                annot_kws={\"fontsize\": 10}, \n",
    "                fmt='.1f', \n",
    "                linewidths=0.1, \n",
    "                linecolor='gray',\n",
    "                cbar_kws = dict(use_gridspec=False, location='right'))\n",
    "\n",
    "ax.invert_yaxis()\n",
    "'''"
   ]
  },
  {
   "cell_type": "markdown",
   "metadata": {},
   "source": [
    "##### Normalize"
   ]
  },
  {
   "cell_type": "code",
   "execution_count": null,
   "metadata": {},
   "outputs": [],
   "source": [
    "# create variables for normalized data\n",
    "train_norm = np.zeros_like(np.asarray(training)); train_norm_labels = np.zeros_like(np.asarray(training_labels))\n",
    "\n",
    "for i in range (0, len(training)):\n",
    "    for j in range (1, 5):\n",
    "        train_norm[i][:,j] = minmax_scale(training[i][:,j])"
   ]
  },
  {
   "cell_type": "code",
   "execution_count": null,
   "metadata": {},
   "outputs": [],
   "source": [
    "scalar = MinMaxScaler()\n",
    "train_norm_labels = scalar.fit_transform(training_labels)"
   ]
  },
  {
   "cell_type": "code",
   "execution_count": null,
   "metadata": {},
   "outputs": [],
   "source": [
    "plt.close()\n",
    "plt.plot(train_norm_labels[:,0], train_norm_labels[:,1], 'o', c = 'r', label = 'Normalized Training Data Labels')\n",
    "plt.legend(loc='lower center', bbox_to_anchor=(1, -0.5))\n",
    "plt.show()"
   ]
  },
  {
   "cell_type": "markdown",
   "metadata": {},
   "source": [
    "##### Resample"
   ]
  },
  {
   "cell_type": "code",
   "execution_count": null,
   "metadata": {},
   "outputs": [],
   "source": [
    "train_resample = []\n",
    "\n",
    "# create a dataframe from the normalized data\n",
    "for i in range (0, len(training)):\n",
    "    train_resample.append(pd.DataFrame(train_norm[i], columns = ['time', '1', '2', '3', '4']))\n",
    "    # drop the time column\n",
    "    train_resample[i] = train_resample[i].drop(columns = ['time'])\n",
    "\n",
    "size = 100\n",
    "\n",
    "for i in range (0, len(training)):\n",
    "    train_resample[i] = resample(train_resample[i], size)\n",
    "\n",
    "np.asarray(train_resample).shape"
   ]
  },
  {
   "cell_type": "code",
   "execution_count": null,
   "metadata": {},
   "outputs": [],
   "source": [
    "plt.close()\n",
    "fig, axs = plt.subplots(2, 1)\n",
    "\n",
    "axs[0].plot(training[0][:,1], c = 'r')\n",
    "axs[1].plot(train_resample[0][:,1], c = 'b')\n",
    "\n",
    "plt.show()"
   ]
  },
  {
   "cell_type": "markdown",
   "metadata": {},
   "source": [
    "#### Export data to pickle"
   ]
  },
  {
   "cell_type": "code",
   "execution_count": null,
   "metadata": {},
   "outputs": [],
   "source": [
    "'''\n",
    "with open('train_resample.pickle', 'wb') as f:\n",
    "    pickle.dump(train_resample, f)\n",
    "with open('train_norm_labels.pickle', 'wb') as f:\n",
    "    pickle.dump(train_norm_labels, f)\n",
    "    '''"
   ]
  },
  {
   "cell_type": "markdown",
   "metadata": {},
   "source": [
    "#### AI Model"
   ]
  },
  {
   "cell_type": "markdown",
   "metadata": {},
   "source": [
    "##### Split the data into training and testing sets"
   ]
  },
  {
   "cell_type": "code",
   "execution_count": 5,
   "metadata": {},
   "outputs": [
    {
     "name": "stdout",
     "output_type": "stream",
     "text": [
      "Length of training data - 740 length of labels - 740 \n",
      "Length of test data - 185 and length of labels - 185\n"
     ]
    }
   ],
   "source": [
    "# Extract the data from the pickle files\n",
    "\n",
    "'''\n",
    "with open('train_resample.pickle', 'rb') as f:\n",
    "    train_resample = pickle.load(f)\n",
    "with open('train_norm_labels.pickle', 'rb') as f:\n",
    "    train_norm_labels = pickle.load(f)\n",
    "'''\n",
    "\n",
    "X = np.asarray(train_resample)\n",
    "y = np.asarray(train_norm_labels)\n",
    "\n",
    "# create split data from the normalized data\n",
    "size = 0.2\n",
    "x_train, x_test, y_train, y_test = train_test_split(X, y, shuffle=True, test_size=size)\n",
    "print(f'Length of training data - {len(x_train)} length of labels - {len(y_train)} \\nLength of test data - {len(x_test)} and length of labels - {len(y_test)}')"
   ]
  },
  {
   "cell_type": "markdown",
   "metadata": {},
   "source": [
    "##### TensorBoard"
   ]
  },
  {
   "cell_type": "code",
   "execution_count": null,
   "metadata": {},
   "outputs": [],
   "source": [
    "%tensorboard --logdir=logs/"
   ]
  },
  {
   "cell_type": "markdown",
   "metadata": {},
   "source": [
    "##### Model Training and Tuning"
   ]
  },
  {
   "cell_type": "code",
   "execution_count": 9,
   "metadata": {},
   "outputs": [
    {
     "name": "stdout",
     "output_type": "stream",
     "text": [
      "Trial 50 Complete [00h 01m 03s]\n",
      "val_Accuracy: 0.9432432353496552\n",
      "\n",
      "Best val_Accuracy So Far: 0.9594594538211823\n",
      "Total elapsed time: 00h 43m 28s\n",
      "INFO:tensorflow:Oracle triggered exit\n"
     ]
    }
   ],
   "source": [
    "log_files = f'DNN_log.{int(time.time())}'\n",
    "tuner_logs= f'tunelog/DNN_tuner_log.{int(time.time())}'\n",
    "\n",
    "tensorboard = TensorBoard(log_dir=f'logs/{log_files}', \n",
    "                          histogram_freq=1, \n",
    "                          write_graph=True,\n",
    "                          write_grads=True)\n",
    "\n",
    "\n",
    "def dnnModel(hp):\n",
    "    model = Sequential()\n",
    "    model.add(Flatten(input_shape=(100,4)))\n",
    "    model.add(Dense(units=hp.Int('layer_1_nodes', \n",
    "                    min_value=32, max_value=512, step=32), \n",
    "                    activation=hp.Choice(\"activation_1\", [\"relu\", \"sigmoid\", \"tanh\"])))\n",
    "    \n",
    "    for i in range(hp.Int('n_layers', min_value=0, max_value=4, step=1)):\n",
    "        model.add(Dense(units=hp.Int(f'layer_{i+1}_nodes', min_value=32, max_value=512, step=32), activation=hp.Choice(f\"activation_{i+1}\", [\"relu\", \"sigmoid\", \"tanh\"])))\n",
    "    \n",
    "    model.add(Dense(units=2, activation=hp.Choice(\"activation_out\", ['sigmoid', 'linear']))) # output layer\n",
    "\n",
    "    model.summary()\n",
    "\n",
    "    # Compile model\n",
    "    # lr = hp.Float(\"lr\", min_value=1e-4, max_value=1e-2)\n",
    "    opt = tf.keras.optimizers.Adam(learning_rate=0.0001)\n",
    "    sgd = tf.keras.optimizers.SGD(learning_rate=0.0001)\n",
    "\n",
    "    model.compile(loss = hp.Choice('loss', ['mae']),\n",
    "                optimizer = hp.Choice('optimizer', ['Adam', 'RMSprop']), \n",
    "                metrics=['Accuracy'])\n",
    "    \n",
    "    return model\n",
    "\n",
    "# Hyperparameter tuning\n",
    "tuner = RandomSearch(dnnModel,\n",
    "                    objective='val_Accuracy',\n",
    "                    max_trials=50,\n",
    "                    executions_per_trial=2,\n",
    "                    directory=tuner_logs,\n",
    "                    project_name='DNN_tuning')\n",
    "\n",
    "tuner.search(x=x_train,\n",
    "            y=y_train,\n",
    "            epochs=60,\n",
    "            batch_size=32,\n",
    "            validation_data=(x_test, y_test),\n",
    "            callbacks=[tensorboard])"
   ]
  },
  {
   "cell_type": "code",
   "execution_count": null,
   "metadata": {},
   "outputs": [],
   "source": [
    "bestModels = tuner.get_best_models(num_models=2)"
   ]
  },
  {
   "cell_type": "code",
   "execution_count": null,
   "metadata": {},
   "outputs": [],
   "source": [
    "# Save the keras model\n",
    "# model.save(f'model/complete_tunedModel_95perAcc.{int(time.time())}.h5')"
   ]
  },
  {
   "cell_type": "markdown",
   "metadata": {},
   "source": [
    "#### Model Final"
   ]
  },
  {
   "cell_type": "code",
   "execution_count": 21,
   "metadata": {},
   "outputs": [
    {
     "name": "stdout",
     "output_type": "stream",
     "text": [
      "Model: \"sequential_1\"\n",
      "_________________________________________________________________\n",
      " Layer (type)                Output Shape              Param #   \n",
      "=================================================================\n",
      " flatten_1 (Flatten)         (None, 400)               0         \n",
      "                                                                 \n",
      " dense_5 (Dense)             (None, 512)               205312    \n",
      "                                                                 \n",
      " dense_6 (Dense)             (None, 192)               98496     \n",
      "                                                                 \n",
      " dense_7 (Dense)             (None, 128)               24704     \n",
      "                                                                 \n",
      " dense_8 (Dense)             (None, 2)                 258       \n",
      "                                                                 \n",
      "=================================================================\n",
      "Total params: 328,770\n",
      "Trainable params: 328,770\n",
      "Non-trainable params: 0\n",
      "_________________________________________________________________\n",
      "Epoch 1/40\n"
     ]
    },
    {
     "name": "stderr",
     "output_type": "stream",
     "text": [
      "C:\\Users\\sreekar\\anaconda3\\envs\\ai\\lib\\site-packages\\keras\\optimizer_v2\\adam.py:105: UserWarning: The `lr` argument is deprecated, use `learning_rate` instead.\n",
      "  super(Adam, self).__init__(name, **kwargs)\n"
     ]
    },
    {
     "name": "stdout",
     "output_type": "stream",
     "text": [
      "24/24 [==============================] - 1s 16ms/step - loss: 0.2654 - Accuracy: 0.4932 - val_loss: 0.2683 - val_Accuracy: 0.5514\n",
      "Epoch 2/40\n",
      "24/24 [==============================] - 0s 8ms/step - loss: 0.2599 - Accuracy: 0.5595 - val_loss: 0.2681 - val_Accuracy: 0.4757\n",
      "Epoch 3/40\n",
      "24/24 [==============================] - 0s 9ms/step - loss: 0.2576 - Accuracy: 0.5338 - val_loss: 0.2674 - val_Accuracy: 0.5189\n",
      "Epoch 4/40\n",
      "24/24 [==============================] - 0s 10ms/step - loss: 0.2571 - Accuracy: 0.5392 - val_loss: 0.2651 - val_Accuracy: 0.6000\n",
      "Epoch 5/40\n",
      "24/24 [==============================] - 0s 10ms/step - loss: 0.2531 - Accuracy: 0.6378 - val_loss: 0.2632 - val_Accuracy: 0.6108\n",
      "Epoch 6/40\n",
      "24/24 [==============================] - 0s 9ms/step - loss: 0.2503 - Accuracy: 0.6284 - val_loss: 0.2607 - val_Accuracy: 0.6108\n",
      "Epoch 7/40\n",
      "24/24 [==============================] - 0s 8ms/step - loss: 0.2461 - Accuracy: 0.6351 - val_loss: 0.2600 - val_Accuracy: 0.6054\n",
      "Epoch 8/40\n",
      "24/24 [==============================] - 0s 7ms/step - loss: 0.2435 - Accuracy: 0.6432 - val_loss: 0.2591 - val_Accuracy: 0.6000\n",
      "Epoch 9/40\n",
      "24/24 [==============================] - 0s 8ms/step - loss: 0.2391 - Accuracy: 0.6770 - val_loss: 0.2528 - val_Accuracy: 0.6432\n",
      "Epoch 10/40\n",
      "24/24 [==============================] - 0s 7ms/step - loss: 0.2345 - Accuracy: 0.7122 - val_loss: 0.2490 - val_Accuracy: 0.6757\n",
      "Epoch 11/40\n",
      "24/24 [==============================] - 0s 6ms/step - loss: 0.2292 - Accuracy: 0.6905 - val_loss: 0.2513 - val_Accuracy: 0.6000\n",
      "Epoch 12/40\n",
      "24/24 [==============================] - 0s 7ms/step - loss: 0.2273 - Accuracy: 0.7068 - val_loss: 0.2398 - val_Accuracy: 0.6649\n",
      "Epoch 13/40\n",
      "24/24 [==============================] - 0s 6ms/step - loss: 0.2193 - Accuracy: 0.7365 - val_loss: 0.2377 - val_Accuracy: 0.7135\n",
      "Epoch 14/40\n",
      "24/24 [==============================] - 0s 7ms/step - loss: 0.2127 - Accuracy: 0.7378 - val_loss: 0.2327 - val_Accuracy: 0.6811\n",
      "Epoch 15/40\n",
      "24/24 [==============================] - 0s 7ms/step - loss: 0.2050 - Accuracy: 0.7730 - val_loss: 0.2204 - val_Accuracy: 0.7838\n",
      "Epoch 16/40\n",
      "24/24 [==============================] - 0s 8ms/step - loss: 0.1958 - Accuracy: 0.7865 - val_loss: 0.2122 - val_Accuracy: 0.8000\n",
      "Epoch 17/40\n",
      "24/24 [==============================] - 0s 8ms/step - loss: 0.1860 - Accuracy: 0.8081 - val_loss: 0.2049 - val_Accuracy: 0.8216\n",
      "Epoch 18/40\n",
      "24/24 [==============================] - 0s 8ms/step - loss: 0.1784 - Accuracy: 0.8162 - val_loss: 0.1973 - val_Accuracy: 0.8108\n",
      "Epoch 19/40\n",
      "24/24 [==============================] - 0s 8ms/step - loss: 0.1727 - Accuracy: 0.7959 - val_loss: 0.1937 - val_Accuracy: 0.8270\n",
      "Epoch 20/40\n",
      "24/24 [==============================] - 0s 7ms/step - loss: 0.1607 - Accuracy: 0.8311 - val_loss: 0.1787 - val_Accuracy: 0.8595\n",
      "Epoch 21/40\n",
      "24/24 [==============================] - 0s 7ms/step - loss: 0.1473 - Accuracy: 0.8459 - val_loss: 0.1661 - val_Accuracy: 0.8973\n",
      "Epoch 22/40\n",
      "24/24 [==============================] - 0s 7ms/step - loss: 0.1375 - Accuracy: 0.8662 - val_loss: 0.1576 - val_Accuracy: 0.8757\n",
      "Epoch 23/40\n",
      "24/24 [==============================] - 0s 7ms/step - loss: 0.1305 - Accuracy: 0.8608 - val_loss: 0.1488 - val_Accuracy: 0.9027\n",
      "Epoch 24/40\n",
      "24/24 [==============================] - 0s 6ms/step - loss: 0.1207 - Accuracy: 0.8554 - val_loss: 0.1507 - val_Accuracy: 0.8703\n",
      "Epoch 25/40\n",
      "24/24 [==============================] - 0s 7ms/step - loss: 0.1138 - Accuracy: 0.8608 - val_loss: 0.1440 - val_Accuracy: 0.9027\n",
      "Epoch 26/40\n",
      "24/24 [==============================] - 0s 8ms/step - loss: 0.1083 - Accuracy: 0.8622 - val_loss: 0.1336 - val_Accuracy: 0.8486\n",
      "Epoch 27/40\n",
      "24/24 [==============================] - 0s 6ms/step - loss: 0.1018 - Accuracy: 0.8595 - val_loss: 0.1255 - val_Accuracy: 0.8703\n",
      "Epoch 28/40\n",
      "24/24 [==============================] - 0s 6ms/step - loss: 0.0918 - Accuracy: 0.8757 - val_loss: 0.1125 - val_Accuracy: 0.8973\n",
      "Epoch 29/40\n",
      "24/24 [==============================] - 0s 6ms/step - loss: 0.0876 - Accuracy: 0.8743 - val_loss: 0.1076 - val_Accuracy: 0.8973\n",
      "Epoch 30/40\n",
      "24/24 [==============================] - 0s 6ms/step - loss: 0.0828 - Accuracy: 0.8878 - val_loss: 0.1021 - val_Accuracy: 0.8865\n",
      "Epoch 31/40\n",
      "24/24 [==============================] - 0s 7ms/step - loss: 0.0762 - Accuracy: 0.8932 - val_loss: 0.0959 - val_Accuracy: 0.8973\n",
      "Epoch 32/40\n",
      "24/24 [==============================] - 0s 7ms/step - loss: 0.0726 - Accuracy: 0.8905 - val_loss: 0.0971 - val_Accuracy: 0.9135\n",
      "Epoch 33/40\n",
      "24/24 [==============================] - 0s 7ms/step - loss: 0.0683 - Accuracy: 0.9041 - val_loss: 0.0907 - val_Accuracy: 0.9027\n",
      "Epoch 34/40\n",
      "24/24 [==============================] - 0s 6ms/step - loss: 0.0650 - Accuracy: 0.9081 - val_loss: 0.0871 - val_Accuracy: 0.9243\n",
      "Epoch 35/40\n",
      "24/24 [==============================] - 0s 8ms/step - loss: 0.0640 - Accuracy: 0.9095 - val_loss: 0.0836 - val_Accuracy: 0.9243\n",
      "Epoch 36/40\n",
      "24/24 [==============================] - 0s 8ms/step - loss: 0.0599 - Accuracy: 0.9230 - val_loss: 0.0792 - val_Accuracy: 0.9243\n",
      "Epoch 37/40\n",
      "24/24 [==============================] - 0s 7ms/step - loss: 0.0587 - Accuracy: 0.9068 - val_loss: 0.0788 - val_Accuracy: 0.9081\n",
      "Epoch 38/40\n",
      "24/24 [==============================] - 0s 7ms/step - loss: 0.0571 - Accuracy: 0.9014 - val_loss: 0.0734 - val_Accuracy: 0.9351\n",
      "Epoch 39/40\n",
      "24/24 [==============================] - 0s 6ms/step - loss: 0.0548 - Accuracy: 0.9230 - val_loss: 0.0724 - val_Accuracy: 0.9351\n",
      "Epoch 40/40\n",
      "24/24 [==============================] - 0s 7ms/step - loss: 0.0512 - Accuracy: 0.9230 - val_loss: 0.0691 - val_Accuracy: 0.9351\n"
     ]
    }
   ],
   "source": [
    "model = Sequential()\n",
    "model.add(Flatten(input_shape=(100,4)))\n",
    "\n",
    "model.add(Dense(units=512, activation='relu'))\n",
    "\n",
    "model.add(Dense(units=192, activation='sigmoid'))\n",
    "model.add(Dense(units=128, activation='relu'))\n",
    "\n",
    "model.add(Dense(units=2, activation='sigmoid'))\n",
    "\n",
    "model.summary()\n",
    "\n",
    "# Compile model\n",
    "opt = tf.keras.optimizers.Adam(lr=0.0001)\n",
    "\n",
    "model.compile(loss = 'mae', optimizer = opt, metrics=['Accuracy'])\n",
    "\n",
    "# Fit the model\n",
    "history = model.fit(x_train, y_train, epochs=40, verbose=1, validation_data=(x_test, y_test))"
   ]
  },
  {
   "cell_type": "code",
   "execution_count": 20,
   "metadata": {},
   "outputs": [
    {
     "data": {
      "application/vnd.jupyter.widget-view+json": {
       "model_id": "efe11b809ef841048e0f041d04f67ff8",
       "version_major": 2,
       "version_minor": 0
      },
      "text/html": [
       "\n",
       "            <div style=\"display: inline-block;\">\n",
       "                <div class=\"jupyter-widgets widget-label\" style=\"text-align: center;\">\n",
       "                    Figure\n",
       "                </div>\n",
       "                <img src='data:image/png;base64,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' width=640.0/>\n",
       "            </div>\n",
       "        "
      ],
      "text/plain": [
       "Canvas(toolbar=Toolbar(toolitems=[('Home', 'Reset original view', 'home', 'home'), ('Back', 'Back to previous …"
      ]
     },
     "metadata": {},
     "output_type": "display_data"
    }
   ],
   "source": [
    "plt.close()\n",
    "plt.plot(history.history['loss'], label='Training Loss')\n",
    "plt.plot(history.history['val_loss'], label='Validation Loss')\n",
    "plt.plot(history.history['Accuracy'], label='Training Accuracy')\n",
    "plt.plot(history.history['val_Accuracy'], label='Validation Accuracy')\n",
    "\n",
    "plt.yticks(np.arange(0, 1, 0.05))\n",
    "\n",
    "plt.tight_layout()\n",
    "plt.legend()\n",
    "plt.show()"
   ]
  },
  {
   "cell_type": "markdown",
   "metadata": {},
   "source": [
    "##### Predict experimental data validation"
   ]
  },
  {
   "cell_type": "code",
   "execution_count": null,
   "metadata": {},
   "outputs": [],
   "source": [
    "freq = 1/(ex_val_data[0][:,0][1] - ex_val_data[0][:,0][0]) \n",
    "# freq = np.round(len(ex_val_data[0][:,0])/(ex_val_data[0][:,0][-1]))\n",
    "peaks, _ = find_peaks(ex_val_data[0][:,1], height = 1) # , distance = freq*0.0001\n",
    "peaks2, _ = find_peaks(ex_val_data[0][:,2], height = 1)\n",
    "peaks3, _ = find_peaks(ex_val_data[0][:,3], height = 1)\n",
    "print(peaks, peaks2, peaks3)"
   ]
  },
  {
   "cell_type": "code",
   "execution_count": null,
   "metadata": {},
   "outputs": [],
   "source": [
    "plt.close()\n",
    "fig, axs = plt.subplots(3, 1, sharex = True, sharey=True)\n",
    "\n",
    "axs[0].plot(ex_val_data[0][:,1], c = 'r', label = f'Experimental Validation Data {ex_val_labels[0]}')\n",
    "axs[0].plot(peaks, ex_val_data[0][:,1][peaks], 'x', label = 'Peaks', c = 'b')\n",
    "\n",
    "axs[1].plot(ex_val_data[0][:,2], c = 'g', label = f'Experimental Validation Data {ex_val_labels[1]}')\n",
    "axs[1].plot(peaks2, ex_val_data[0][:,2][peaks2], 'x', label = 'Peaks', c = 'b')\n",
    "\n",
    "axs[2].plot(ex_val_data[0][:,3], c = 'y', label = f'Experimental Validation Data {ex_val_labels[2]}')\n",
    "axs[2].plot(peaks3, ex_val_data[0][:,3][peaks3], 'x', label = 'Peaks', c = 'b')\n",
    "\n",
    "plt.show()"
   ]
  },
  {
   "cell_type": "code",
   "execution_count": null,
   "metadata": {},
   "outputs": [],
   "source": [
    "check = ex_val_data[0][:,1][peaks[1]:peaks[3]]"
   ]
  },
  {
   "cell_type": "markdown",
   "metadata": {},
   "source": [
    "##### -- Check -- prediction for augmentation validation data"
   ]
  },
  {
   "cell_type": "code",
   "execution_count": null,
   "metadata": {},
   "outputs": [],
   "source": [
    "c = []\n",
    "checking1 = validation_aug[0][:,1:5]\n",
    "checking1 = minmax_scale(checking1)\n",
    "checking1 = resample(checking1, 100)\n",
    "\n",
    "checking2 = validation_aug[1][:,1:5]\n",
    "checking2 = minmax_scale(checking2)\n",
    "checking2 = resample(checking2, 100)\n",
    "\n",
    "checking3 = validation_aug[2][:,1:5]\n",
    "checking3 = minmax_scale(checking3)\n",
    "checking3 = resample(checking3, 100)\n",
    "\n",
    "checking4 = validation_aug[3][:,1:5]\n",
    "checking4 = minmax_scale(checking4)\n",
    "checking4 = resample(checking4, 100)\n",
    "\n",
    "c.append(checking1)\n",
    "c.append(checking2)\n",
    "c.append(checking3)\n",
    "c.append(checking4)\n",
    "\n",
    "plt.close()\n",
    "plt.title(f'Validation Data {validation_aug_labels[0]}')\n",
    "plt.plot(checking1[:,0], label = 'P - 1')\n",
    "plt.plot(checking1[:,1], label = 'P - 2')\n",
    "plt.plot(checking1[:,2], label = 'P - 3')\n",
    "plt.plot(checking1[:,3], label = 'P - 4')\n",
    "plt.legend()\n",
    "plt.show()"
   ]
  },
  {
   "cell_type": "code",
   "execution_count": null,
   "metadata": {},
   "outputs": [],
   "source": [
    "print(f'{validation_aug_labels[0]} \\n{validation_aug_labels[1]} \\n{validation_aug_labels[2]} \\n{validation_aug_labels[3]}')\n",
    "\n",
    "p = model.predict(np.asarray(c))\n",
    "p = scalar.inverse_transform(p)\n",
    "print(p)\n",
    "\n",
    "error = []\n",
    "for i in range(0, len(p)):\n",
    "    a = validation_aug_labels[i][0]-p[i][0]\n",
    "    b = validation_aug_labels[i][1]-p[i][1]\n",
    "    e = [a, b]\n",
    "    error.append(e)\n",
    "\n",
    "print(f'Difference between the actual and predicted coordinates: \\n{np.asarray(error)}')"
   ]
  },
  {
   "cell_type": "code",
   "execution_count": null,
   "metadata": {},
   "outputs": [],
   "source": [
    "plt.close()\n",
    "plt.plot(validation_aug_labels[0][0], validation_aug_labels[0][1], 'o' , label = 'Validation Augmentation Data 1')\n",
    "plt.plot(validation_aug_labels[1][0], validation_aug_labels[1][1], 'o' , label = 'Validation Augmentation Data 2')\n",
    "\n",
    "plt.plot(p[0][0], p[0][1], 'x' , c = 'r' , label = 'Predicted Data 1')\n",
    "plt.plot(p[1][0], p[1][1], 'x' , c = 'g' , label = 'Predicted Data 2')\n",
    "\n",
    "plt.legend(bbox_to_anchor=(0.5,-0.4), loc=\"lower center\", borderaxespad=0)\n",
    "plt.tight_layout()\n",
    "plt.show()"
   ]
  }
 ],
 "metadata": {
  "interpreter": {
   "hash": "bcdd480fa988c0bff1942a543d37a5a4859f7f33e82c1f9135f65e6471dc1f87"
  },
  "kernelspec": {
   "display_name": "Python 3.8.12 64-bit ('ai': conda)",
   "name": "python3"
  },
  "language_info": {
   "codemirror_mode": {
    "name": "ipython",
    "version": 3
   },
   "file_extension": ".py",
   "mimetype": "text/x-python",
   "name": "python",
   "nbconvert_exporter": "python",
   "pygments_lexer": "ipython3",
   "version": "3.8.12"
  },
  "orig_nbformat": 4
 },
 "nbformat": 4,
 "nbformat_minor": 2
}
