{
 "cells": [
  {
   "cell_type": "code",
   "execution_count": 1,
   "metadata": {},
   "outputs": [],
   "source": [
    "import os\n",
    "import pandas as pd\n",
    "import numpy as np\n",
    "import scipy as sp\n",
    "from scipy.signal import resample, find_peaks\n",
    "from scipy.io import loadmat\n",
    "import matplotlib.pyplot as plt\n",
    "from mpl_toolkits.mplot3d import Axes3D\n",
    "import seaborn as sns\n",
    "import pickle\n",
    "import time\n",
    "\n",
    "# from sklearn import preprocessing ##importing for normalization\n",
    "# from sklearn.decomposition import PCA\n",
    "# from sklearn.discriminant_analysis import LinearDiscriminantAnalysis as LDA\n",
    "from sklearn.preprocessing import MinMaxScaler, minmax_scale, StandardScaler, LabelEncoder\n",
    "from sklearn.model_selection import train_test_split\n",
    "from sklearn.metrics import confusion_matrix, classification_report, accuracy_score\n",
    "from sklearn import svm\n",
    "from sklearn.multioutput import MultiOutputRegressor\n",
    "\n",
    "\n",
    "plt.rcParams['figure.dpi'] = 100\n",
    "plt.rcParams['axes.grid'] = True\n",
    "plt.rcParams['legend.frameon'] = True\n",
    "# plt.rcParams['figure.figsize'] = (8, 8)\n",
    "%matplotlib widget"
   ]
  },
  {
   "cell_type": "code",
   "execution_count": 9,
   "metadata": {},
   "outputs": [
    {
     "name": "stdout",
     "output_type": "stream",
     "text": [
      "(925, 100, 4) (925, 2)\n",
      "Length of training data - (832, 100, 4) length of labels - (832, 2) \n",
      "Length of test data - (93, 100, 4) and length of labels - (93, 2)\n"
     ]
    }
   ],
   "source": [
    "with open('train_resample.pickle', 'rb') as f:\n",
    "    train_resample = pickle.load(f)\n",
    "\n",
    "with open('train_norm_labels.pickle', 'rb') as f:\n",
    "    train_norm_labels = pickle.load(f)\n",
    "\n",
    "with open('training_labels.pickle', 'rb') as f:\n",
    "    training_labels = pickle.load(f)\n",
    "\n",
    "X = train_resample\n",
    "y = training_labels\n",
    "\n",
    "scalar = MinMaxScaler()\n",
    "y_norm = scalar.fit_transform(training_labels)\n",
    "\n",
    "print(np.asarray(X).shape, np.asarray(y).shape)\n",
    "\n",
    "# create split data from the normalized data\n",
    "size = 0.1\n",
    "x_train, x_test, y_train, y_test = train_test_split(X, y_norm, shuffle=True, test_size=size)\n",
    "print(f'Length of training data - {np.asarray(x_train).shape} length of labels - {np.asarray(y_train).shape} \\nLength of test data - {np.asarray(x_test).shape} and length of labels - {np.asarray(y_test).shape}')"
   ]
  },
  {
   "cell_type": "code",
   "execution_count": 10,
   "metadata": {},
   "outputs": [
    {
     "name": "stdout",
     "output_type": "stream",
     "text": [
      "(832, 400) (832, 2)\n"
     ]
    }
   ],
   "source": [
    "x_train_flat = []\n",
    "for i in range(len(x_train)):    \n",
    "    x_dummy = np.asarray(x_train[i]).flatten()\n",
    "    x_train_flat.append(x_dummy)\n",
    "    \n",
    "x_train_flat = np.asarray(x_train_flat)\n",
    "\n",
    "x_test_flat = []\n",
    "for i in range(len(x_test)):    \n",
    "    x_dummy = np.asarray(x_test[i]).flatten()\n",
    "    x_test_flat.append(x_dummy)\n",
    "    \n",
    "x_test_flat = np.asarray(x_test_flat)\n",
    "\n",
    "print(np.asarray(x_train_flat).shape, np.asarray(y_train).shape)"
   ]
  },
  {
   "cell_type": "code",
   "execution_count": 11,
   "metadata": {},
   "outputs": [
    {
     "data": {
      "text/plain": [
       "MultiOutputRegressor(estimator=SVR())"
      ]
     },
     "execution_count": 11,
     "metadata": {},
     "output_type": "execute_result"
    }
   ],
   "source": [
    "regr_multirf = MultiOutputRegressor(svm.SVR())\n",
    "regr_multirf.fit(x_train_flat, y_train)"
   ]
  },
  {
   "cell_type": "code",
   "execution_count": 12,
   "metadata": {},
   "outputs": [],
   "source": [
    "y_pred = regr_multirf.predict(x_test_flat)\n",
    "y_pred = scalar.inverse_transform(y_pred)\n",
    "y_test = scalar.inverse_transform(y_test)"
   ]
  },
  {
   "cell_type": "code",
   "execution_count": 13,
   "metadata": {},
   "outputs": [
    {
     "data": {
      "text/plain": [
       "array([[-1.57748248e+01,  1.51193287e+01],\n",
       "       [ 1.49061922e+01,  1.52457887e+01],\n",
       "       [ 1.62321803e+01, -1.79071138e+01],\n",
       "       [-1.48771375e+01,  1.33365219e+01],\n",
       "       [ 1.14015757e+01, -1.74865837e+01],\n",
       "       [-2.01187342e+01,  1.59458884e+01],\n",
       "       [-1.66769141e+01, -1.56446657e+01],\n",
       "       [ 1.50761424e+01,  1.42605647e+01],\n",
       "       [ 1.55094076e+01, -1.66782731e+01],\n",
       "       [ 2.32273820e+01,  4.09659067e+00],\n",
       "       [-1.45857577e+01, -2.23670976e+01],\n",
       "       [-8.75674790e+00, -1.71846312e+01],\n",
       "       [-1.73843067e+01, -1.48753617e+01],\n",
       "       [-6.57805617e+00, -7.78670951e+00],\n",
       "       [-1.27491116e+01, -1.00591447e+01],\n",
       "       [-1.86470864e-02, -1.31168844e+01],\n",
       "       [ 1.53518308e+01,  1.15182029e+01],\n",
       "       [ 1.45645767e+01,  1.36718594e+01],\n",
       "       [ 2.13163325e+01,  8.11780797e+00],\n",
       "       [-1.63292586e+01, -1.17976360e+01],\n",
       "       [ 1.04265208e+01,  2.00867266e+01],\n",
       "       [-1.63766431e+01,  2.39022243e+01],\n",
       "       [-1.52092656e+01, -1.65430293e+01],\n",
       "       [-1.72581806e+01, -1.89830271e+01],\n",
       "       [-1.43811251e+01,  1.60160112e+01],\n",
       "       [-1.64724264e+01,  1.64074422e+01],\n",
       "       [-1.79918186e+01,  1.25809954e+01],\n",
       "       [ 1.91722334e+01,  1.63980148e+01],\n",
       "       [-1.73026108e+01, -9.62486757e+00],\n",
       "       [ 2.14647830e+01,  1.29080804e+01],\n",
       "       [ 9.60390898e+00, -2.22206839e+01],\n",
       "       [ 1.15169013e+01,  1.05155299e+01],\n",
       "       [-7.85535991e+00, -1.58148244e+01],\n",
       "       [ 1.53509563e+01,  1.14392961e+01],\n",
       "       [-2.29128179e+01,  9.93067667e+00],\n",
       "       [-2.31852232e+01, -1.01252252e+01],\n",
       "       [ 1.70378939e+01,  1.54747581e+01],\n",
       "       [ 1.65935159e+01, -1.69234486e+01],\n",
       "       [-1.48153577e+01,  1.48612460e+01],\n",
       "       [-2.04784802e+01,  1.37991856e+01],\n",
       "       [ 1.55952515e+01, -8.64160396e+00],\n",
       "       [ 1.61171242e+01,  1.56239469e+01],\n",
       "       [ 1.94650767e+01, -1.68274475e+01],\n",
       "       [-2.03076349e+01, -1.20968854e+01],\n",
       "       [-1.62736988e+01, -1.61460853e+01],\n",
       "       [ 1.72480202e+01, -1.26581651e+01],\n",
       "       [ 1.27128609e+01,  1.97765182e+01],\n",
       "       [ 2.21686044e+01, -1.57728037e+01],\n",
       "       [ 1.36389895e+01, -1.48982806e+01],\n",
       "       [-6.20972117e+00, -1.61242311e+01],\n",
       "       [ 1.42528226e+01, -1.36283963e+01],\n",
       "       [ 1.78721200e+01,  1.57953537e+01],\n",
       "       [ 1.11778582e+01,  1.54320786e+01],\n",
       "       [ 1.51618373e+01,  1.74268627e+01],\n",
       "       [ 1.61281861e+01, -1.51477840e+01],\n",
       "       [-1.47487796e+01, -2.09640690e+01],\n",
       "       [ 1.65694167e+01,  1.65982241e+01],\n",
       "       [ 1.44738806e+01, -1.61164507e+01],\n",
       "       [ 2.11073115e+01, -9.82457175e+00],\n",
       "       [-1.63294050e+01,  1.88555403e+01],\n",
       "       [-1.71052590e+01,  1.48022060e+01],\n",
       "       [ 1.48381126e+01, -1.26845342e+01],\n",
       "       [-1.70623390e+01, -1.50822224e+01],\n",
       "       [-1.74744707e+01,  1.80704490e+01],\n",
       "       [ 1.48542969e+01,  1.77659604e+01],\n",
       "       [ 1.43433392e+01, -1.52300629e+01],\n",
       "       [-1.46578640e+01,  2.22932070e+01],\n",
       "       [ 8.60679771e+00, -2.38043162e+01],\n",
       "       [-9.99211133e+00,  1.48021262e+01],\n",
       "       [ 1.92782418e+01, -9.30723552e-01],\n",
       "       [ 1.02681289e+01, -1.47525086e+01],\n",
       "       [ 1.50872034e+01,  1.66097960e+01],\n",
       "       [ 1.54460289e+01,  1.67516430e+01],\n",
       "       [-1.57525151e+01, -1.65111219e+01],\n",
       "       [-1.43524332e+01, -1.49237968e+01],\n",
       "       [ 2.37478958e+01, -1.47386522e+01],\n",
       "       [ 1.52835926e+01,  1.64816538e+01],\n",
       "       [-1.70095718e+01, -2.16526158e+01],\n",
       "       [-2.62820168e+01, -2.84094073e+01],\n",
       "       [-1.52089978e+01, -1.60780973e+01],\n",
       "       [-1.52900578e+01,  1.74435618e+01],\n",
       "       [ 1.54458047e+01,  1.56353205e+01],\n",
       "       [-1.19009791e+01, -1.51675102e+01],\n",
       "       [ 2.01442542e+01,  1.45845011e+01],\n",
       "       [ 8.06742963e+00,  1.65234389e+01],\n",
       "       [ 1.38681228e+01,  1.66825027e+01],\n",
       "       [-2.63223995e+00, -1.64076628e+01],\n",
       "       [ 1.49734383e+01, -2.03205635e+01],\n",
       "       [-1.50151895e+01, -8.81023878e-01],\n",
       "       [ 1.68020184e+01, -1.49333349e+01],\n",
       "       [-1.63565759e+01, -1.52012766e+01],\n",
       "       [ 1.82496528e+01,  1.51848770e+01],\n",
       "       [-1.37989857e+01, -2.16222254e+01]])"
      ]
     },
     "execution_count": 13,
     "metadata": {},
     "output_type": "execute_result"
    }
   ],
   "source": [
    "y_test-y_pred"
   ]
  }
 ],
 "metadata": {
  "interpreter": {
   "hash": "bcdd480fa988c0bff1942a543d37a5a4859f7f33e82c1f9135f65e6471dc1f87"
  },
  "kernelspec": {
   "display_name": "Python 3.8.12 64-bit ('ai': conda)",
   "name": "python3"
  },
  "language_info": {
   "codemirror_mode": {
    "name": "ipython",
    "version": 3
   },
   "file_extension": ".py",
   "mimetype": "text/x-python",
   "name": "python",
   "nbconvert_exporter": "python",
   "pygments_lexer": "ipython3",
   "version": "3.8.12"
  },
  "orig_nbformat": 4
 },
 "nbformat": 4,
 "nbformat_minor": 2
}
