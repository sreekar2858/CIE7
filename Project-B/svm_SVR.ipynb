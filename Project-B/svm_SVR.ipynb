{
 "cells": [
  {
   "cell_type": "code",
   "execution_count": 1,
   "metadata": {},
   "outputs": [],
   "source": [
    "import os\n",
    "import pandas as pd\n",
    "import numpy as np\n",
    "import scipy as sp\n",
    "from scipy.signal import resample, find_peaks\n",
    "from scipy.io import loadmat\n",
    "import matplotlib.pyplot as plt\n",
    "from mpl_toolkits.mplot3d import Axes3D\n",
    "import seaborn as sns\n",
    "import pickle\n",
    "import time\n",
    "\n",
    "# from sklearn import preprocessing ##importing for normalization\n",
    "# from sklearn.decomposition import PCA\n",
    "# from sklearn.discriminant_analysis import LinearDiscriminantAnalysis as LDA\n",
    "from sklearn.preprocessing import MinMaxScaler, minmax_scale, StandardScaler, LabelEncoder\n",
    "from sklearn.model_selection import train_test_split\n",
    "from sklearn.metrics import confusion_matrix, classification_report, accuracy_score\n",
    "from sklearn import svm\n",
    "from sklearn.multioutput import MultiOutputRegressor\n",
    "\n",
    "\n",
    "plt.rcParams['figure.dpi'] = 100\n",
    "plt.rcParams['axes.grid'] = True\n",
    "plt.rcParams['legend.frameon'] = True\n",
    "# plt.rcParams['figure.figsize'] = (8, 8)\n",
    "%matplotlib widget"
   ]
  },
  {
   "cell_type": "code",
   "execution_count": 2,
   "metadata": {},
   "outputs": [
    {
     "name": "stdout",
     "output_type": "stream",
     "text": [
      "(925, 100, 4) (925, 2)\n",
      "Length of training data - (832, 100, 4) length of labels - (832, 2) \n",
      "Length of test data - (93, 100, 4) and length of labels - (93, 2)\n"
     ]
    }
   ],
   "source": [
    "with open('train_resample.pickle', 'rb') as f:\n",
    "    train_resample = pickle.load(f)\n",
    "\n",
    "with open('train_norm_labels.pickle', 'rb') as f:\n",
    "    train_norm_labels = pickle.load(f)\n",
    "\n",
    "with open('training_labels.pickle', 'rb') as f:\n",
    "    training_labels = pickle.load(f)\n",
    "\n",
    "X = train_resample\n",
    "y = training_labels\n",
    "\n",
    "scalar = MinMaxScaler()\n",
    "y_norm = scalar.fit_transform(training_labels)\n",
    "\n",
    "print(np.asarray(X).shape, np.asarray(y).shape)\n",
    "\n",
    "# create split data from the normalized data\n",
    "size = 0.1\n",
    "x_train, x_test, y_train, y_test = train_test_split(X, y_norm, shuffle=True, test_size=size)\n",
    "print(f'Length of training data - {np.asarray(x_train).shape} length of labels - {np.asarray(y_train).shape} \\nLength of test data - {np.asarray(x_test).shape} and length of labels - {np.asarray(y_test).shape}')"
   ]
  },
  {
   "cell_type": "code",
   "execution_count": 3,
   "metadata": {},
   "outputs": [
    {
     "name": "stdout",
     "output_type": "stream",
     "text": [
      "(832, 400) (832, 2)\n"
     ]
    }
   ],
   "source": [
    "x_train_flat = []\n",
    "for i in range(len(x_train)):    \n",
    "    x_dummy = np.asarray(x_train[i]).flatten()\n",
    "    x_train_flat.append(x_dummy)\n",
    "    \n",
    "x_train_flat = np.asarray(x_train_flat)\n",
    "\n",
    "x_test_flat = []\n",
    "for i in range(len(x_test)):    \n",
    "    x_dummy = np.asarray(x_test[i]).flatten()\n",
    "    x_test_flat.append(x_dummy)\n",
    "    \n",
    "x_test_flat = np.asarray(x_test_flat)\n",
    "\n",
    "print(np.asarray(x_train_flat).shape, np.asarray(y_train).shape)"
   ]
  },
  {
   "cell_type": "code",
   "execution_count": 4,
   "metadata": {},
   "outputs": [
    {
     "data": {
      "text/plain": [
       "MultiOutputRegressor(estimator=SVR())"
      ]
     },
     "execution_count": 4,
     "metadata": {},
     "output_type": "execute_result"
    }
   ],
   "source": [
    "regr_multirf = MultiOutputRegressor(svm.SVR())\n",
    "regr_multirf.fit(x_train_flat, y_train)"
   ]
  },
  {
   "cell_type": "code",
   "execution_count": 5,
   "metadata": {},
   "outputs": [],
   "source": [
    "y_pred = regr_multirf.predict(x_test_flat)\n",
    "y_pred = scalar.inverse_transform(y_pred)\n",
    "y_test = scalar.inverse_transform(y_test)"
   ]
  },
  {
   "cell_type": "code",
   "execution_count": 6,
   "metadata": {},
   "outputs": [
    {
     "data": {
      "text/plain": [
       "array([[-16.77763247,  14.79225703],\n",
       "       [ 15.52854307, -15.43434311],\n",
       "       [  6.58207874,   7.23250566],\n",
       "       [ 17.43377271,  17.94849653],\n",
       "       [-13.58128826,  14.64902254],\n",
       "       [ 12.73849959, -13.5947162 ],\n",
       "       [ 16.69449931,  14.54188488],\n",
       "       [-18.34740989, -13.3668671 ],\n",
       "       [  7.30627707, -15.39416425],\n",
       "       [ -1.56042544,  15.36986339],\n",
       "       [ 21.08022479,  15.36911324],\n",
       "       [ -8.80850614, -15.7492893 ],\n",
       "       [ 13.15087962, -15.85433407],\n",
       "       [-15.6004343 ,  17.22996863],\n",
       "       [ 22.32330285,  10.06932814],\n",
       "       [ 15.58553052, -16.27570056],\n",
       "       [ 14.12653572,  14.51508707],\n",
       "       [ -6.91061618, -15.79239461],\n",
       "       [-21.77135819, -15.26076537],\n",
       "       [ 15.18769572, -15.4533876 ],\n",
       "       [ 15.51447158,  13.73190617],\n",
       "       [-18.30911259, -14.4744979 ],\n",
       "       [  2.17343797, -17.18160208],\n",
       "       [-23.56882739,  13.8256294 ],\n",
       "       [-11.3416652 ,  11.3928868 ],\n",
       "       [ 15.9699602 ,  13.67164271],\n",
       "       [-31.99504611,  29.53109947],\n",
       "       [-20.68137913,  17.78013736],\n",
       "       [-22.23285851,  15.34075579],\n",
       "       [ 18.02340229,  18.64702744],\n",
       "       [-18.08466521,  16.94528953],\n",
       "       [ 17.47804066, -14.60470258],\n",
       "       [ -9.96726526, -22.88497556],\n",
       "       [ 16.06926498,  16.9405472 ],\n",
       "       [ 18.52969738, -11.39076395],\n",
       "       [ 15.43425991, -16.29243309],\n",
       "       [-14.93137436,  15.60828146],\n",
       "       [-14.68967241, -15.35640149],\n",
       "       [-16.9720287 ,   8.39490065],\n",
       "       [ 20.50953244, -13.54707249],\n",
       "       [-14.07513842,  15.76417466],\n",
       "       [-19.97329002, -11.13940978],\n",
       "       [-12.97484999, -10.13345931],\n",
       "       [-16.24712   ,   9.77162081],\n",
       "       [ 14.69504996, -14.74863942],\n",
       "       [-10.35358806, -12.18790822],\n",
       "       [ 17.34718635,  18.03477235],\n",
       "       [ 16.86747732,  15.52207933],\n",
       "       [-17.52413167, -11.71153748],\n",
       "       [ 15.26542381, -16.30582434],\n",
       "       [ 15.53894184,  15.27929372],\n",
       "       [-13.49217217, -19.01626632],\n",
       "       [-11.51416749,  16.40143528],\n",
       "       [ 28.32851443,  26.15387787],\n",
       "       [ 17.03039848,  14.37530326],\n",
       "       [-14.86393931,  15.58010238],\n",
       "       [-15.17073811,  11.75497872],\n",
       "       [ 10.85858692, -15.62504716],\n",
       "       [ 20.07403442,  19.09028583],\n",
       "       [ 16.80551271,  15.09149632],\n",
       "       [ 15.17776654, -16.07149054],\n",
       "       [ -0.74956888,  16.46378732],\n",
       "       [  6.2315363 ,  16.19030265],\n",
       "       [ 15.10646953, -18.06848403],\n",
       "       [ 16.25944591,  14.01053285],\n",
       "       [-17.18292843, -25.34968499],\n",
       "       [-15.22188573, -18.23504756],\n",
       "       [-15.32932071, -19.30007679],\n",
       "       [-16.70757791,  -9.33500501],\n",
       "       [-13.94191503,  20.69795805],\n",
       "       [-15.10126418, -16.29253713],\n",
       "       [ 19.1545411 ,  17.92718013],\n",
       "       [ 22.41969557,   0.20629137],\n",
       "       [ 17.31664246,   8.37946623],\n",
       "       [ 15.58218821,  19.43250167],\n",
       "       [-15.07885697,  17.21327776],\n",
       "       [ 15.3899926 ,   9.60393489],\n",
       "       [ 19.53583535,  17.33470707],\n",
       "       [-12.12592028,  14.9574568 ],\n",
       "       [ 15.92620831, -18.30592348],\n",
       "       [ 32.25832503, -29.54993471],\n",
       "       [ 15.86105637,  15.37359665],\n",
       "       [  0.47453482, -15.66023289],\n",
       "       [ -0.17096511,  23.20353881],\n",
       "       [-16.38113992,  15.46308038],\n",
       "       [ 14.70826085,   5.86879146],\n",
       "       [ 14.56688883,  13.89975961],\n",
       "       [-15.35096286, -12.2783126 ],\n",
       "       [-14.27923594, -19.57983453],\n",
       "       [-14.39754646,  12.07895588],\n",
       "       [ 14.50777427,  16.75132085],\n",
       "       [ 13.53645298,  -8.07316508],\n",
       "       [-16.86631812,  18.97885916]])"
      ]
     },
     "execution_count": 6,
     "metadata": {},
     "output_type": "execute_result"
    }
   ],
   "source": [
    "y_test-y_pred"
   ]
  }
 ],
 "metadata": {
  "interpreter": {
   "hash": "bcdd480fa988c0bff1942a543d37a5a4859f7f33e82c1f9135f65e6471dc1f87"
  },
  "kernelspec": {
   "display_name": "Python 3.8.12 64-bit ('ai': conda)",
   "name": "python3"
  },
  "language_info": {
   "codemirror_mode": {
    "name": "ipython",
    "version": 3
   },
   "file_extension": ".py",
   "mimetype": "text/x-python",
   "name": "python",
   "nbconvert_exporter": "python",
   "pygments_lexer": "ipython3",
   "version": "3.8.12"
  },
  "orig_nbformat": 4
 },
 "nbformat": 4,
 "nbformat_minor": 2
}
