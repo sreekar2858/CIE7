{
 "cells": [
  {
   "cell_type": "code",
   "execution_count": 1,
   "metadata": {},
   "outputs": [],
   "source": [
    "from scipy.io import loadmat\n",
    "import numpy as np\n",
    "import matplotlib.pyplot as plt\n",
    "import pandas as pd\n",
    "\n",
    "%matplotlib widget"
   ]
  },
  {
   "cell_type": "code",
   "execution_count": 3,
   "metadata": {},
   "outputs": [],
   "source": [
    "# mat = loadmat('EPOT_255_250.mat')\n",
    "Ex_Validation = 'Experimental_validation'"
   ]
  },
  {
   "cell_type": "code",
   "execution_count": 5,
   "metadata": {},
   "outputs": [],
   "source": [
    "rootdir = os.getcwd()\n",
    "os.chdir(rootdir)"
   ]
  },
  {
   "cell_type": "code",
   "execution_count": 16,
   "metadata": {},
   "outputs": [],
   "source": [
    "# Initialize lists for training and validation\n",
    "ex_val_data = []; ex_val_labels = []\n",
    "\n",
    "#------------------------------------------------------------------------------\n",
    "\n",
    "for subdir, dirs, files in os.walk(rootdir):\n",
    "    \n",
    "    if Ex_Validation.lower() in subdir.lower():\n",
    "        for file in files:\n",
    "            if file.endswith('.txt'):\n",
    "                \n",
    "                with open(os.path.join(subdir, file), 'r') as f:\n",
    "                    # print(file.split('_')[2], file.split('_')[3], file.split('_')[5][:3])\n",
    "                    lbl = [file.split('_')[2], file.split('_')[3], file.split('_')[5][:3]]\n",
    "                    lb = np.asarray(lbl, dtype=float)\n",
    "\n",
    "                    x = pd.read_csv(os.path.join(subdir, file), delimiter='\\t', decimal=',', skiprows=8, header=None)\n",
    "                    x = np.asarray(x, dtype=float)\n",
    "                    ex_val_data.append(x)\n",
    "                    ex_val_labels.append(lb)"
   ]
  },
  {
   "cell_type": "code",
   "execution_count": 17,
   "metadata": {},
   "outputs": [
    {
     "data": {
      "text/plain": [
       "[array([205., 200.,   1.]),\n",
       " array([205., 200.,   2.]),\n",
       " array([205., 200.,   3.]),\n",
       " array([205., 200.,   4.]),\n",
       " array([225., 210.,   1.]),\n",
       " array([225., 210.,   2.]),\n",
       " array([225., 210.,   3.]),\n",
       " array([225., 210.,   4.]),\n",
       " array([230., 245.,   1.]),\n",
       " array([230., 245.,   2.]),\n",
       " array([230., 245.,   3.]),\n",
       " array([230., 245.,   4.]),\n",
       " array([240., 255.,   1.]),\n",
       " array([240., 255.,   2.]),\n",
       " array([240., 255.,   3.]),\n",
       " array([240., 255.,   4.]),\n",
       " array([250., 260.,   1.]),\n",
       " array([250., 260.,   2.]),\n",
       " array([250., 260.,   3.]),\n",
       " array([250., 260.,   4.]),\n",
       " array([300., 235.,   1.]),\n",
       " array([300., 235.,   2.]),\n",
       " array([300., 235.,   3.]),\n",
       " array([300., 235.,   4.])]"
      ]
     },
     "execution_count": 17,
     "metadata": {},
     "output_type": "execute_result"
    }
   ],
   "source": [
    "ex_val_labels"
   ]
  }
 ],
 "metadata": {
  "interpreter": {
   "hash": "bcdd480fa988c0bff1942a543d37a5a4859f7f33e82c1f9135f65e6471dc1f87"
  },
  "kernelspec": {
   "display_name": "Python 3.8.12 64-bit ('ai': conda)",
   "name": "python3"
  },
  "language_info": {
   "codemirror_mode": {
    "name": "ipython",
    "version": 3
   },
   "file_extension": ".py",
   "mimetype": "text/x-python",
   "name": "python",
   "nbconvert_exporter": "python",
   "pygments_lexer": "ipython3",
   "version": "3.8.12"
  },
  "orig_nbformat": 4
 },
 "nbformat": 4,
 "nbformat_minor": 2
}
