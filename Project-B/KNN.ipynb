{
 "cells": [
  {
   "cell_type": "code",
   "execution_count": 1,
   "metadata": {},
   "outputs": [],
   "source": [
    "import os\n",
    "import pandas as pd\n",
    "import numpy as np\n",
    "import scipy as sp\n",
    "from scipy.signal import resample, find_peaks\n",
    "from scipy.io import loadmat\n",
    "import matplotlib.pyplot as plt\n",
    "from mpl_toolkits.mplot3d import Axes3D\n",
    "import seaborn as sns\n",
    "import pickle\n",
    "import time\n",
    "\n",
    "# from sklearn import preprocessing ##importing for normalization\n",
    "# from sklearn.decomposition import PCA\n",
    "# from sklearn.discriminant_analysis import LinearDiscriminantAnalysis as LDA\n",
    "from sklearn.preprocessing import MinMaxScaler, minmax_scale, StandardScaler, LabelEncoder\n",
    "from sklearn.model_selection import train_test_split\n",
    "from sklearn.metrics import confusion_matrix, classification_report, accuracy_score\n",
    "from sklearn.multioutput import MultiOutputRegressor\n",
    "from sklearn import svm\n",
    "from sklearn.neighbors import KNeighborsRegressor\n",
    "from sklearn.ensemble import RandomForestRegressor\n",
    "from sklearn.linear_model import LinearRegression\n",
    "\n",
    "plt.rcParams['figure.dpi'] = 100\n",
    "plt.rcParams['axes.grid'] = True\n",
    "plt.rcParams['legend.frameon'] = True\n",
    "# plt.rcParams['figure.figsize'] = (8, 8)\n",
    "%matplotlib widget"
   ]
  },
  {
   "cell_type": "code",
   "execution_count": 2,
   "metadata": {},
   "outputs": [
    {
     "name": "stdout",
     "output_type": "stream",
     "text": [
      "(925, 100, 4) (925, 2)\n",
      "Length of training data - (832, 100, 4) length of labels - (832, 2) \n",
      "Length of test data - (93, 100, 4) and length of labels - (93, 2)\n"
     ]
    }
   ],
   "source": [
    "with open('train_resample.pickle', 'rb') as f:\n",
    "    train_resample = pickle.load(f)\n",
    "\n",
    "with open('train_norm_labels.pickle', 'rb') as f:\n",
    "    train_norm_labels = pickle.load(f)\n",
    "\n",
    "with open('training_labels.pickle', 'rb') as f:\n",
    "    training_labels = pickle.load(f)\n",
    "\n",
    "with open('exp_val_resample.pickle', 'rb') as f:\n",
    "    exp_val_resample = pickle.load(f)\n",
    "\n",
    "with open('exp_val_norm_labels.pickle', 'rb') as f:\n",
    "    exp_val_labels = pickle.load(f)\n",
    "\n",
    "X = train_resample\n",
    "y = training_labels\n",
    "\n",
    "exp_val_X = exp_val_resample\n",
    "exp_val_y = exp_val_labels\n",
    "\n",
    "scalar = MinMaxScaler()\n",
    "y_norm = scalar.fit_transform(training_labels)\n",
    "\n",
    "print(np.asarray(X).shape, np.asarray(y).shape)\n",
    "\n",
    "# create split data from the normalized data\n",
    "size = 0.1\n",
    "x_train, x_test, y_train, y_test = train_test_split(X, y_norm, shuffle=True, test_size=size)\n",
    "print(f'Length of training data - {np.asarray(x_train).shape} length of labels - {np.asarray(y_train).shape} \\nLength of test data - {np.asarray(x_test).shape} and length of labels - {np.asarray(y_test).shape}')"
   ]
  },
  {
   "cell_type": "code",
   "execution_count": 3,
   "metadata": {},
   "outputs": [
    {
     "name": "stdout",
     "output_type": "stream",
     "text": [
      "(832, 400) (832, 2)\n",
      "(93, 400) (93, 2)\n",
      "(24, 400) (24, 2)\n"
     ]
    }
   ],
   "source": [
    "x_train_flat = []\n",
    "for i in range(len(x_train)):    \n",
    "    x_dummy = np.asarray(x_train[i]).flatten()\n",
    "    x_train_flat.append(x_dummy)\n",
    "    \n",
    "x_train_flat = np.asarray(x_train_flat)\n",
    "\n",
    "x_test_flat = []\n",
    "for i in range(len(x_test)):    \n",
    "    x_dummy = np.asarray(x_test[i]).flatten()\n",
    "    x_test_flat.append(x_dummy)\n",
    "    \n",
    "x_test_flat = np.asarray(x_test_flat)\n",
    "\n",
    "exp_val_X_flat = []\n",
    "for i in range(len(exp_val_X)):\n",
    "    x_dummy = np.asarray(exp_val_X[i]).flatten()\n",
    "    exp_val_X_flat.append(x_dummy)\n",
    "\n",
    "exp_val_X_flat = np.asarray(exp_val_X_flat)\n",
    "\n",
    "print(np.asarray(x_train_flat).shape, np.asarray(y_train).shape)\n",
    "print(x_test_flat.shape, y_test.shape)\n",
    "print(exp_val_X_flat.shape, exp_val_y.shape)"
   ]
  },
  {
   "cell_type": "code",
   "execution_count": 4,
   "metadata": {},
   "outputs": [
    {
     "data": {
      "text/plain": [
       "KNeighborsRegressor(weights='distance')"
      ]
     },
     "execution_count": 4,
     "metadata": {},
     "output_type": "execute_result"
    }
   ],
   "source": [
    "knn = KNeighborsRegressor(n_neighbors=5, weights='distance')\n",
    "knn.fit(x_train_flat, y_train)"
   ]
  },
  {
   "cell_type": "code",
   "execution_count": 5,
   "metadata": {},
   "outputs": [
    {
     "data": {
      "text/plain": [
       "array([[ 8.88713219e-01,  1.83278347e+00],\n",
       "       [-4.37480466e+00,  4.37480313e+00],\n",
       "       [-1.77287518e+00,  9.22126809e-01],\n",
       "       [-2.73039806e-01, -6.86830652e-01],\n",
       "       [ 7.67068902e-01,  4.80819938e-02],\n",
       "       [-9.01810045e-01,  2.75936001e-02],\n",
       "       [-5.07840495e+01, -5.07808621e+01],\n",
       "       [ 8.99956766e-01, -3.71819595e-02],\n",
       "       [ 1.47342084e+00, -1.37807416e+00],\n",
       "       [ 1.63273430e+00, -7.43236571e-01],\n",
       "       [ 2.88573015e+00, -1.59601418e+01],\n",
       "       [-1.78017254e-01, -1.76508270e+00],\n",
       "       [ 1.34104778e+01, -4.94894605e-02],\n",
       "       [ 4.85981177e+00, -4.12674303e+00],\n",
       "       [ 8.77159197e-01, -1.07273421e+00],\n",
       "       [-2.46943999e+00,  4.05449932e+00],\n",
       "       [-8.84684840e-01, -1.59233311e+00],\n",
       "       [-8.58366438e-02,  1.36551103e+00],\n",
       "       [-7.53719216e-01,  8.54466335e-01],\n",
       "       [-1.61355797e+00, -7.50454994e-01],\n",
       "       [ 8.42024672e-01, -7.20608012e-01],\n",
       "       [-4.56860299e-01, -1.09114360e-02],\n",
       "       [ 7.72743232e-01,  1.73442174e+00],\n",
       "       [-7.60380040e-02, -1.30325132e+00],\n",
       "       [-1.62247038e+00,  3.70396517e+00],\n",
       "       [ 1.44621021e-02, -1.54252926e+01],\n",
       "       [-8.01080689e-02, -1.13158505e+00],\n",
       "       [-8.25535544e-01, -4.29239702e-02],\n",
       "       [-1.38572687e+00,  3.19253429e+00],\n",
       "       [ 2.66422489e-02,  9.05478262e-01],\n",
       "       [ 9.01810045e-01, -2.75936001e-02],\n",
       "       [ 7.57413139e-01,  1.64627686e+00],\n",
       "       [ 6.86774875e-01, -2.72784421e-01],\n",
       "       [-1.64590863e+00,  7.50923624e-01],\n",
       "       [ 7.55514395e-01,  1.68794898e+00],\n",
       "       [-3.27121547e+00, -3.14621913e+00],\n",
       "       [ 8.54217172e-01, -8.48153633e-01],\n",
       "       [-8.95830603e-01,  2.30363864e-02],\n",
       "       [-1.04206827e+00, -3.69565442e-02],\n",
       "       [-7.72125085e-01, -1.55924220e+00],\n",
       "       [ 8.83065798e-01, -1.86829813e+00],\n",
       "       [-1.05960049e-01,  1.37394127e+01],\n",
       "       [-1.48725922e+00,  5.04126925e-01],\n",
       "       [ 1.58189233e+00,  7.51604144e-01],\n",
       "       [ 4.76824859e+00, -4.93381665e+00],\n",
       "       [-1.79565248e+00, -1.07194707e+01],\n",
       "       [-1.16563545e+01,  4.74157976e-02],\n",
       "       [ 1.45210893e+01,  4.42751762e-02],\n",
       "       [ 7.23837013e-01, -2.47804324e-02],\n",
       "       [-6.86842645e-01, -1.60805992e+00],\n",
       "       [ 5.16799677e-01, -7.25870405e-02],\n",
       "       [-2.28633589e+00,  1.47250795e+00],\n",
       "       [-4.75577454e+00,  4.61591365e+00],\n",
       "       [ 3.79486405e+00, -3.79486299e+00],\n",
       "       [-3.22516415e+00,  4.07617864e+00],\n",
       "       [-6.60427451e+00, -5.38830061e+00],\n",
       "       [-8.86675460e-01, -1.03751926e+00],\n",
       "       [ 1.07284232e+00,  8.77247758e-01],\n",
       "       [-2.23822442e+00, -1.51769141e+01],\n",
       "       [ 8.42024660e-01,  7.20607937e-01],\n",
       "       [-1.19264334e-01,  1.65335557e+00],\n",
       "       [-1.44621021e-02, -1.54252926e+01],\n",
       "       [-1.50690041e+00, -6.42019922e-01],\n",
       "       [-8.67634383e-01,  6.55356872e-02],\n",
       "       [ 2.12978486e+00, -2.11816745e+00],\n",
       "       [ 7.50838533e-01, -1.64585061e+00],\n",
       "       [ 1.51641290e+00,  8.78413571e-01],\n",
       "       [-1.21056339e+00,  1.87330729e+00],\n",
       "       [-9.32875020e-02, -1.63990365e+00],\n",
       "       [ 6.33665881e-01,  8.88322154e-01],\n",
       "       [-1.20633414e+00,  2.98250120e-02],\n",
       "       [ 8.15388442e-01, -2.05473128e-02],\n",
       "       [-1.03759789e+00, -8.86831602e-01],\n",
       "       [-9.89738919e-01,  3.39104784e-02],\n",
       "       [ 1.41321166e+00,  3.71300582e-01],\n",
       "       [-5.50956001e+00,  5.39670603e+00],\n",
       "       [ 1.28240727e+00, -4.67736019e-02],\n",
       "       [ 7.35014915e-01,  1.50221156e+00],\n",
       "       [ 1.01776821e+01, -2.06871101e+00],\n",
       "       [-9.31488624e-01, -1.75401512e+00],\n",
       "       [-6.00627989e-02, -6.63735547e+00],\n",
       "       [-7.54038163e-01, -1.68341446e+00],\n",
       "       [-1.86808237e+00,  8.83088097e-01],\n",
       "       [ 9.21414249e-01,  6.84228136e-02],\n",
       "       [ 9.26902051e-01, -6.31822227e-01],\n",
       "       [ 1.01000032e+00,  1.56750359e+01],\n",
       "       [ 3.14628104e+00,  3.27134191e+00],\n",
       "       [-6.78769870e-01,  1.46422779e+00],\n",
       "       [ 7.20532847e-01, -8.41892616e-01],\n",
       "       [-7.47942947e-01, -1.63648545e+00],\n",
       "       [-7.64773866e-01, -9.56662380e-01],\n",
       "       [-1.87312079e+00,  1.21030903e+00],\n",
       "       [ 1.01776821e+01,  2.06871101e+00]])"
      ]
     },
     "execution_count": 5,
     "metadata": {},
     "output_type": "execute_result"
    }
   ],
   "source": [
    "y_pred = knn.predict(x_test_flat)\n",
    "\n",
    "y_pred = scalar.inverse_transform(y_pred)\n",
    "y_test = scalar.inverse_transform(y_test)\n",
    "\n",
    "y_test-y_pred"
   ]
  },
  {
   "cell_type": "code",
   "execution_count": 6,
   "metadata": {},
   "outputs": [
    {
     "data": {
      "text/plain": [
       "array([[-34.60210813, -31.63818693],\n",
       "       [-34.73297794, -31.64591079],\n",
       "       [-26.94172669, -55.97825994],\n",
       "       [-17.06847129, -16.97882429],\n",
       "       [-10.38875905,  13.03068487],\n",
       "       [ -9.50346812,  -8.77040225],\n",
       "       [-11.50612416,  11.07668314],\n",
       "       [-11.41860212,  11.98863275],\n",
       "       [-32.41854898,  23.80030127],\n",
       "       [-28.94934003,  27.10628401],\n",
       "       [-39.37493118,  33.74331058],\n",
       "       [-32.83782235,  38.97676346],\n",
       "       [ 34.27392917,  68.84014149],\n",
       "       [ 21.15780217,  66.51522316],\n",
       "       [ -4.37932365,  86.30759467],\n",
       "       [  8.03473239,  59.11414878],\n",
       "       [ 13.01838889,  72.95341865],\n",
       "       [ 13.93605242,  73.02007091],\n",
       "       [-10.70574046,  82.24083822],\n",
       "       [ 17.91055628,  53.75594616],\n",
       "       [ 21.59047521,  39.32463167],\n",
       "       [ 32.70831989,  36.6118544 ],\n",
       "       [ 12.98437777,  34.43894436],\n",
       "       [ 23.69329337,  30.89465963]])"
      ]
     },
     "execution_count": 6,
     "metadata": {},
     "output_type": "execute_result"
    }
   ],
   "source": [
    "y_pred_exp = knn.predict(exp_val_X_flat)\n",
    "y_pred_exp = scalar.inverse_transform(y_pred_exp)\n",
    "exp_val_y = scalar.inverse_transform(exp_val_y)\n",
    "\n",
    "exp_val_y-y_pred_exp"
   ]
  }
 ],
 "metadata": {
  "interpreter": {
   "hash": "bcdd480fa988c0bff1942a543d37a5a4859f7f33e82c1f9135f65e6471dc1f87"
  },
  "kernelspec": {
   "display_name": "Python 3.8.12 64-bit ('ai': conda)",
   "name": "python3"
  },
  "language_info": {
   "codemirror_mode": {
    "name": "ipython",
    "version": 3
   },
   "file_extension": ".py",
   "mimetype": "text/x-python",
   "name": "python",
   "nbconvert_exporter": "python",
   "pygments_lexer": "ipython3",
   "version": "3.8.12"
  },
  "orig_nbformat": 4
 },
 "nbformat": 4,
 "nbformat_minor": 2
}
