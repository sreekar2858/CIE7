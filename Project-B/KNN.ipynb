{
 "cells": [
  {
   "cell_type": "code",
   "execution_count": 1,
   "metadata": {},
   "outputs": [],
   "source": [
    "import os\n",
    "import pandas as pd\n",
    "import numpy as np\n",
    "import scipy as sp\n",
    "from scipy.signal import resample, find_peaks\n",
    "from scipy.io import loadmat\n",
    "import matplotlib.pyplot as plt\n",
    "from mpl_toolkits.mplot3d import Axes3D\n",
    "import seaborn as sns\n",
    "import pickle\n",
    "import time\n",
    "\n",
    "# from sklearn import preprocessing ##importing for normalization\n",
    "# from sklearn.decomposition import PCA\n",
    "# from sklearn.discriminant_analysis import LinearDiscriminantAnalysis as LDA\n",
    "from sklearn.preprocessing import MinMaxScaler, minmax_scale, StandardScaler, LabelEncoder\n",
    "from sklearn.model_selection import train_test_split\n",
    "from sklearn.metrics import confusion_matrix, classification_report, accuracy_score\n",
    "from sklearn.multioutput import MultiOutputRegressor\n",
    "from sklearn import svm\n",
    "from sklearn.neighbors import KNeighborsRegressor\n",
    "from sklearn.ensemble import RandomForestRegressor\n",
    "from sklearn.linear_model import LinearRegression\n",
    "\n",
    "plt.rcParams['figure.dpi'] = 100\n",
    "plt.rcParams['axes.grid'] = True\n",
    "plt.rcParams['legend.frameon'] = True\n",
    "# plt.rcParams['figure.figsize'] = (8, 8)\n",
    "%matplotlib widget"
   ]
  },
  {
   "cell_type": "code",
   "execution_count": 2,
   "metadata": {},
   "outputs": [
    {
     "name": "stdout",
     "output_type": "stream",
     "text": [
      "(925, 100, 4) (925, 2)\n",
      "Length of training data - (832, 100, 4) length of labels - (832, 2) \n",
      "Length of test data - (93, 100, 4) and length of labels - (93, 2)\n"
     ]
    }
   ],
   "source": [
    "with open('train_resample.pickle', 'rb') as f:\n",
    "    train_resample = pickle.load(f)\n",
    "\n",
    "with open('train_norm_labels.pickle', 'rb') as f:\n",
    "    train_norm_labels = pickle.load(f)\n",
    "\n",
    "with open('training_labels.pickle', 'rb') as f:\n",
    "    training_labels = pickle.load(f)\n",
    "\n",
    "X = train_resample\n",
    "y = training_labels\n",
    "\n",
    "scalar = MinMaxScaler()\n",
    "y_norm = scalar.fit_transform(training_labels)\n",
    "\n",
    "print(np.asarray(X).shape, np.asarray(y).shape)\n",
    "\n",
    "# create split data from the normalized data\n",
    "size = 0.1\n",
    "x_train, x_test, y_train, y_test = train_test_split(X, y_norm, shuffle=True, test_size=size)\n",
    "print(f'Length of training data - {np.asarray(x_train).shape} length of labels - {np.asarray(y_train).shape} \\nLength of test data - {np.asarray(x_test).shape} and length of labels - {np.asarray(y_test).shape}')"
   ]
  },
  {
   "cell_type": "code",
   "execution_count": 3,
   "metadata": {},
   "outputs": [
    {
     "name": "stdout",
     "output_type": "stream",
     "text": [
      "(832, 400) (832, 2)\n"
     ]
    }
   ],
   "source": [
    "x_train_flat = []\n",
    "for i in range(len(x_train)):    \n",
    "    x_dummy = np.asarray(x_train[i]).flatten()\n",
    "    x_train_flat.append(x_dummy)\n",
    "    \n",
    "x_train_flat = np.asarray(x_train_flat)\n",
    "\n",
    "x_test_flat = []\n",
    "for i in range(len(x_test)):    \n",
    "    x_dummy = np.asarray(x_test[i]).flatten()\n",
    "    x_test_flat.append(x_dummy)\n",
    "    \n",
    "x_test_flat = np.asarray(x_test_flat)\n",
    "\n",
    "print(np.asarray(x_train_flat).shape, np.asarray(y_train).shape)"
   ]
  },
  {
   "cell_type": "code",
   "execution_count": 4,
   "metadata": {},
   "outputs": [
    {
     "data": {
      "text/plain": [
       "KNeighborsRegressor(weights='distance')"
      ]
     },
     "execution_count": 4,
     "metadata": {},
     "output_type": "execute_result"
    }
   ],
   "source": [
    "knn = KNeighborsRegressor(n_neighbors=5, weights='distance')\n",
    "knn.fit(x_train_flat, y_train)"
   ]
  },
  {
   "cell_type": "code",
   "execution_count": 5,
   "metadata": {},
   "outputs": [
    {
     "data": {
      "text/plain": [
       "array([[ 1.11047377e+00,  7.38109646e-01],\n",
       "       [ 4.54418431e-02, -8.52724350e-01],\n",
       "       [ 1.71285271e+00, -3.81631255e+00],\n",
       "       [-8.86675460e-01, -1.03751926e+00],\n",
       "       [ 7.72743232e-01, -1.73442174e+00],\n",
       "       [ 4.85981177e+00, -4.12674303e+00],\n",
       "       [-1.34232469e+00,  2.71378225e-03],\n",
       "       [-1.44972918e+00,  3.40422309e+00],\n",
       "       [ 6.89163164e-01, -1.56937619e+00],\n",
       "       [-1.86898600e+01, -1.29105747e+00],\n",
       "       [-6.16185587e+00,  4.14510223e+00],\n",
       "       [-8.65092916e-01,  8.61603603e-01],\n",
       "       [-2.73039806e-01, -6.86830652e-01],\n",
       "       [-7.16532679e-01, -1.58963860e+00],\n",
       "       [-8.65092937e-01, -8.61603574e-01],\n",
       "       [-1.07237135e-01,  8.74863789e-01],\n",
       "       [ 4.07616144e+00, -3.22507451e+00],\n",
       "       [-4.17831547e-03,  7.96661883e-01],\n",
       "       [ 3.63441047e-02, -8.38101163e-01],\n",
       "       [-4.67425267e+00,  4.46429434e+00],\n",
       "       [ 1.29438246e+00,  1.91888695e+01],\n",
       "       [-9.50110987e-01,  8.27038448e-01],\n",
       "       [ 3.79486405e+00, -3.79486299e+00],\n",
       "       [ 8.95843761e-01,  9.23624475e-01],\n",
       "       [ 4.37481270e+00, -4.37481409e+00],\n",
       "       [ 8.86675460e-01,  1.03751926e+00],\n",
       "       [ 8.41646770e-01,  1.58969814e-01],\n",
       "       [-7.50416510e-01,  1.61356817e+00],\n",
       "       [-7.64406820e-01,  1.65421024e+00],\n",
       "       [ 1.51444764e+00, -7.93850738e-01],\n",
       "       [-3.22516415e+00, -4.07617864e+00],\n",
       "       [ 7.85244408e-01, -7.64254511e-01],\n",
       "       [ 8.37352277e+00,  1.57857618e+00],\n",
       "       [ 1.41197194e+00, -4.80874744e+00],\n",
       "       [ 7.63996268e-01,  1.71283753e+00],\n",
       "       [ 7.19674393e-01, -1.61261790e+00],\n",
       "       [ 1.77045410e+00,  8.49285897e-01],\n",
       "       [-8.54469961e-01, -7.54205566e-01],\n",
       "       [ 6.86842645e-01,  1.60805992e+00],\n",
       "       [ 8.66542109e-01, -4.79844200e-02],\n",
       "       [ 1.10586847e+00,  6.85716516e-01],\n",
       "       [ 1.02706519e+00,  1.25492597e-02],\n",
       "       [ 7.47942947e-01,  1.63648545e+00],\n",
       "       [-1.56754648e+01,  1.00993283e+00],\n",
       "       [ 8.68026747e-01, -9.26099195e-02],\n",
       "       [-1.41197241e+00, -4.80874680e+00],\n",
       "       [ 1.33743569e+00, -1.38371778e+00],\n",
       "       [-9.96709323e-01,  6.86300212e-01],\n",
       "       [-2.10407261e-01, -2.44841560e-01],\n",
       "       [-6.13911349e+00,  5.26583195e+00],\n",
       "       [-1.26167542e+01,  7.97124017e-01],\n",
       "       [ 1.08675118e+01,  1.96713557e+01],\n",
       "       [-1.51641290e+00, -8.78413571e-01],\n",
       "       [ 1.73453511e+00,  1.00177896e+00],\n",
       "       [-9.46467856e+00, -9.23828859e-01],\n",
       "       [-2.15413943e+00,  1.23285144e+01],\n",
       "       [ 4.04413342e-01,  1.44089373e+00],\n",
       "       [-7.62475074e-01,  8.45488958e-01],\n",
       "       [ 6.82884876e+00,  6.82862327e+00],\n",
       "       [-9.84163624e-02, -9.01323243e-01],\n",
       "       [-1.19264332e-01, -1.65335571e+00],\n",
       "       [ 1.57262687e+01,  1.68303831e+01],\n",
       "       [-4.56195182e+00, -2.27262984e+01],\n",
       "       [-1.04513406e+00,  1.47878424e+01],\n",
       "       [-6.41902652e-01, -1.50676380e+00],\n",
       "       [ 2.46943999e+00,  4.05449932e+00],\n",
       "       [ 9.36847757e-02,  8.62389778e-01],\n",
       "       [-8.62370500e-01,  9.37142505e-02],\n",
       "       [ 4.48246225e+00,  4.41293689e+00],\n",
       "       [-2.66422489e-02, -9.05478262e-01],\n",
       "       [ 1.50215285e+00, -7.35036679e-01],\n",
       "       [-9.32875329e-02,  1.63990342e+00],\n",
       "       [-1.93750864e+00,  0.00000000e+00],\n",
       "       [ 2.66159731e-02, -8.86166277e-01],\n",
       "       [-5.61302965e+00,  6.12178154e+00],\n",
       "       [-1.41545238e+00, -3.80687340e-01],\n",
       "       [-7.34173236e+00,  2.00262066e+00],\n",
       "       [-4.84621242e+00, -2.26780956e+01],\n",
       "       [ 5.11930125e+00,  5.11914874e+00],\n",
       "       [ 8.85253639e-01,  7.76020747e-01],\n",
       "       [ 1.24560332e-02,  1.00881978e+00],\n",
       "       [-2.77839730e+00, -1.46925607e+01],\n",
       "       [ 2.84858804e+00, -1.80330879e+00],\n",
       "       [-1.64593743e+00,  5.15616468e-01],\n",
       "       [-7.73425929e+00, -1.54316284e+00],\n",
       "       [-1.73453511e+00, -1.00177896e+00],\n",
       "       [ 7.49006328e+00,  4.37827756e+00],\n",
       "       [-7.95911156e-01,  8.15676833e-01],\n",
       "       [-2.40476388e+00, -7.15897698e-02],\n",
       "       [ 1.08966032e+00, -1.77497864e+01],\n",
       "       [-8.99956766e-01,  3.71819595e-02],\n",
       "       [ 2.66422489e-02,  9.05478262e-01],\n",
       "       [-1.38755630e+00,  5.53281381e-02]])"
      ]
     },
     "execution_count": 5,
     "metadata": {},
     "output_type": "execute_result"
    }
   ],
   "source": [
    "y_pred = knn.predict(x_test_flat)\n",
    "\n",
    "y_pred = scalar.inverse_transform(y_pred)\n",
    "y_test = scalar.inverse_transform(y_test)\n",
    "y_test-y_pred"
   ]
  }
 ],
 "metadata": {
  "interpreter": {
   "hash": "bcdd480fa988c0bff1942a543d37a5a4859f7f33e82c1f9135f65e6471dc1f87"
  },
  "kernelspec": {
   "display_name": "Python 3.8.12 64-bit ('ai': conda)",
   "name": "python3"
  },
  "language_info": {
   "codemirror_mode": {
    "name": "ipython",
    "version": 3
   },
   "file_extension": ".py",
   "mimetype": "text/x-python",
   "name": "python",
   "nbconvert_exporter": "python",
   "pygments_lexer": "ipython3",
   "version": "3.8.12"
  },
  "orig_nbformat": 4
 },
 "nbformat": 4,
 "nbformat_minor": 2
}
