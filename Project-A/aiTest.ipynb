{
 "cells": [
  {
   "cell_type": "code",
   "execution_count": null,
   "metadata": {},
   "outputs": [],
   "source": [
    "import os\n",
    "\n",
    "import pandas as pd\n",
    "import numpy as np\n",
    "import matplotlib.pyplot as plt\n",
    "import tensorflow as tf\n",
    "\n",
    "from tensorflow.keras.models import Sequential\n",
    "from tensorflow.keras.layers import Dense, Dropout, Activation, Flatten"
   ]
  },
  {
   "cell_type": "code",
   "execution_count": 2,
   "metadata": {},
   "outputs": [],
   "source": [
    "import dataProc\n",
    "from dataProc import *"
   ]
  },
  {
   "cell_type": "code",
   "execution_count": null,
   "metadata": {},
   "outputs": [],
   "source": [
    "# #AI model (sample)\n",
    "\n",
    "targetLabels = tf.to_categorical(dataProc.gyrData[''])\n",
    "xData = dataProc.gyrData.shape[1]\n",
    "\n",
    "gyr_input_data = dataProc.gyrData.values\n",
    "\n",
    "model = Sequential() \n",
    "model.add(Dense(units=128, input_shape = (xData,)))\n",
    "model.add(Activation('relu'))\n",
    "model.add(Dense(units=1, input_shape = (xData,)))\n",
    "model.add(Activation('softmax'))\n",
    "\n",
    "model.compile(loss='binary_crossentropy', optimizer='adam', metrics=['accuracy'])\n",
    "\n",
    "model.fit(gyr_input_data, y_train, batch_size=32, epochs=10)\n",
    "\n",
    "score = model.evaluate(gyr_input_data, y_test, batch_size=32)\n",
    "\n",
    "model.predict(gyr_input_data)\n",
    "\n",
    "print(\"\\nLoss: \", score[0])\n",
    "print(\"Accuracy: \", score[1])\n"
   ]
  }
 ],
 "metadata": {
  "interpreter": {
   "hash": "d27c620567fe2d1f3f91b14d158f32cde7e2c4b18fc4163e5eb414de6a296357"
  },
  "kernelspec": {
   "display_name": "Python 3",
   "language": "python",
   "name": "python3"
  },
  "language_info": {
   "codemirror_mode": {
    "name": "ipython",
    "version": 3
   },
   "file_extension": ".py",
   "mimetype": "text/x-python",
   "name": "python",
   "nbconvert_exporter": "python",
   "pygments_lexer": "ipython3",
   "version": "3.8.12"
  }
 },
 "nbformat": 4,
 "nbformat_minor": 2
}
